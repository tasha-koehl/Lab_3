{
 "cells": [
  {
   "cell_type": "code",
   "execution_count": 32,
   "id": "87f5a6c3-839e-4e45-8c34-41eeb34bbc22",
   "metadata": {},
   "outputs": [],
   "source": [
    "import sklearn\n",
    "import pandas as pd\n",
    "import polars as pl\n",
    "import numpy as np\n",
    "import matplotlib.pyplot as plt"
   ]
  },
  {
   "cell_type": "code",
   "execution_count": 34,
   "id": "78e5f497-ec52-4829-8a76-1cf5ad992d69",
   "metadata": {},
   "outputs": [],
   "source": [
    "from sklearn.model_selection import GridSearchCV\n",
    "from sklearn.tree import DecisionTreeClassifier\n",
    "from sklearn.ensemble import RandomForestClassifier"
   ]
  },
  {
   "cell_type": "code",
   "execution_count": 53,
   "id": "03a8479b-55d9-4bd7-93b0-2bd024ed994b",
   "metadata": {},
   "outputs": [],
   "source": [
    "from sklearn.metrics import confusion_matrix\n",
    "\n",
    "def get_metrics(y_true, y_pred, labels=None):\n",
    "    \"\"\" Compute various measures from a confusion matrix\n",
    "\n",
    "    Args:\n",
    "        y_true: a column of the true labels.\n",
    "        y_pred: a column of the predicted labels.\n",
    "    Returns:\n",
    "        A dictionary of metrics.\n",
    "    \"\"\"\n",
    "    conf_mat = confusion_matrix(y_true, y_pred, labels=labels)\n",
    "    tn, fp, fn, tp = conf_mat.ravel()\n",
    "\n",
    "    return {'accuracy'          :  (tp + tn)/(tp + tn + fp + fn),\n",
    "            'balanced_accuracy' :  0.5*tn / (tn+fp) + 0.5*tp / (tp+fn),\n",
    "            'specificity'       :  tn / (tn+fp),\n",
    "            'sensitivity'       :  tp / (tp+fn),\n",
    "             'npv'              :  tn / (tn + fn)}"
   ]
  },
  {
   "cell_type": "markdown",
   "id": "a0889103-1645-48ac-bdfa-9dde7ec1eca3",
   "metadata": {},
   "source": [
    "# Single Tree Grid Search"
   ]
  },
  {
   "cell_type": "code",
   "execution_count": 3,
   "id": "7d992b0e-98f6-429f-89f2-257bc1dd027f",
   "metadata": {},
   "outputs": [
    {
     "data": {
      "text/html": [
       "<div><style>\n",
       ".dataframe > thead > tr,\n",
       ".dataframe > tbody > tr {\n",
       "  text-align: right;\n",
       "  white-space: pre-wrap;\n",
       "}\n",
       "</style>\n",
       "<small>shape: (21_482, 21)</small><table border=\"1\" class=\"dataframe\"><thead><tr><th>playerID</th><th>yearID</th><th>lgID</th><th>POS</th><th>Tot_G</th><th>Tot_GS</th><th>Tot_InnOuts</th><th>Tot_PO</th><th>Tot_A</th><th>Tot_E</th><th>Tot_DP</th><th>Tot_PB</th><th>Tot_WP</th><th>Tot_SB</th><th>Tot_CS</th><th>Tot_ZR</th><th>awardID</th><th>tie</th><th>notes</th><th>Won Gold Glove</th><th>Training-Validation</th></tr><tr><td>str</td><td>i64</td><td>str</td><td>str</td><td>i64</td><td>i64</td><td>i64</td><td>i64</td><td>i64</td><td>i64</td><td>i64</td><td>str</td><td>str</td><td>str</td><td>str</td><td>str</td><td>str</td><td>str</td><td>str</td><td>str</td><td>str</td></tr></thead><tbody><tr><td>&quot;aardsda01&quot;</td><td>2013</td><td>&quot;NL&quot;</td><td>&quot;P&quot;</td><td>43</td><td>0</td><td>119</td><td>1</td><td>5</td><td>0</td><td>0</td><td>null</td><td>null</td><td>null</td><td>null</td><td>null</td><td>null</td><td>null</td><td>null</td><td>&quot;No&quot;</td><td>&quot;Training&quot;</td></tr><tr><td>&quot;aardsda01&quot;</td><td>2015</td><td>&quot;NL&quot;</td><td>&quot;P&quot;</td><td>33</td><td>0</td><td>92</td><td>0</td><td>1</td><td>1</td><td>0</td><td>null</td><td>null</td><td>null</td><td>null</td><td>null</td><td>null</td><td>null</td><td>null</td><td>&quot;No&quot;</td><td>&quot;Training&quot;</td></tr><tr><td>&quot;abadfe01&quot;</td><td>2013</td><td>&quot;NL&quot;</td><td>&quot;P&quot;</td><td>39</td><td>0</td><td>113</td><td>1</td><td>4</td><td>0</td><td>0</td><td>null</td><td>null</td><td>null</td><td>null</td><td>null</td><td>null</td><td>null</td><td>null</td><td>&quot;No&quot;</td><td>&quot;Training&quot;</td></tr><tr><td>&quot;abadfe01&quot;</td><td>2014</td><td>&quot;AL&quot;</td><td>&quot;P&quot;</td><td>69</td><td>0</td><td>172</td><td>0</td><td>8</td><td>0</td><td>0</td><td>null</td><td>null</td><td>null</td><td>null</td><td>null</td><td>null</td><td>null</td><td>null</td><td>&quot;No&quot;</td><td>&quot;Training&quot;</td></tr><tr><td>&quot;abadfe01&quot;</td><td>2015</td><td>&quot;AL&quot;</td><td>&quot;P&quot;</td><td>62</td><td>0</td><td>143</td><td>2</td><td>4</td><td>0</td><td>0</td><td>null</td><td>null</td><td>null</td><td>null</td><td>null</td><td>null</td><td>null</td><td>null</td><td>&quot;No&quot;</td><td>&quot;Training&quot;</td></tr><tr><td>&hellip;</td><td>&hellip;</td><td>&hellip;</td><td>&hellip;</td><td>&hellip;</td><td>&hellip;</td><td>&hellip;</td><td>&hellip;</td><td>&hellip;</td><td>&hellip;</td><td>&hellip;</td><td>&hellip;</td><td>&hellip;</td><td>&hellip;</td><td>&hellip;</td><td>&hellip;</td><td>&hellip;</td><td>&hellip;</td><td>&hellip;</td><td>&hellip;</td><td>&hellip;</td></tr><tr><td>&quot;zuninmi01&quot;</td><td>2022</td><td>&quot;AL&quot;</td><td>&quot;C&quot;</td><td>35</td><td>34</td><td>898</td><td>283</td><td>9</td><td>1</td><td>0</td><td>null</td><td>null</td><td>null</td><td>null</td><td>null</td><td>null</td><td>null</td><td>null</td><td>&quot;No&quot;</td><td>&quot;Training&quot;</td></tr><tr><td>&quot;zuninmi01&quot;</td><td>2023</td><td>&quot;AL&quot;</td><td>&quot;C&quot;</td><td>42</td><td>41</td><td>1019</td><td>276</td><td>17</td><td>3</td><td>2</td><td>null</td><td>null</td><td>null</td><td>null</td><td>null</td><td>null</td><td>null</td><td>null</td><td>&quot;No&quot;</td><td>&quot;Validation&quot;</td></tr><tr><td>&quot;zychto01&quot;</td><td>2015</td><td>&quot;AL&quot;</td><td>&quot;P&quot;</td><td>13</td><td>1</td><td>55</td><td>0</td><td>3</td><td>0</td><td>0</td><td>null</td><td>null</td><td>null</td><td>null</td><td>null</td><td>null</td><td>null</td><td>null</td><td>&quot;No&quot;</td><td>&quot;Training&quot;</td></tr><tr><td>&quot;zychto01&quot;</td><td>2016</td><td>&quot;AL&quot;</td><td>&quot;P&quot;</td><td>12</td><td>0</td><td>41</td><td>0</td><td>0</td><td>1</td><td>0</td><td>null</td><td>null</td><td>null</td><td>null</td><td>null</td><td>null</td><td>null</td><td>null</td><td>&quot;No&quot;</td><td>&quot;Training&quot;</td></tr><tr><td>&quot;zychto01&quot;</td><td>2017</td><td>&quot;AL&quot;</td><td>&quot;P&quot;</td><td>45</td><td>0</td><td>122</td><td>1</td><td>3</td><td>0</td><td>0</td><td>null</td><td>null</td><td>null</td><td>null</td><td>null</td><td>null</td><td>null</td><td>null</td><td>&quot;No&quot;</td><td>&quot;Training&quot;</td></tr></tbody></table></div>"
      ],
      "text/plain": [
       "shape: (21_482, 21)\n",
       "┌───────────┬────────┬──────┬─────┬───┬──────┬───────┬────────────────┬─────────────────────┐\n",
       "│ playerID  ┆ yearID ┆ lgID ┆ POS ┆ … ┆ tie  ┆ notes ┆ Won Gold Glove ┆ Training-Validation │\n",
       "│ ---       ┆ ---    ┆ ---  ┆ --- ┆   ┆ ---  ┆ ---   ┆ ---            ┆ ---                 │\n",
       "│ str       ┆ i64    ┆ str  ┆ str ┆   ┆ str  ┆ str   ┆ str            ┆ str                 │\n",
       "╞═══════════╪════════╪══════╪═════╪═══╪══════╪═══════╪════════════════╪═════════════════════╡\n",
       "│ aardsda01 ┆ 2013   ┆ NL   ┆ P   ┆ … ┆ null ┆ null  ┆ No             ┆ Training            │\n",
       "│ aardsda01 ┆ 2015   ┆ NL   ┆ P   ┆ … ┆ null ┆ null  ┆ No             ┆ Training            │\n",
       "│ abadfe01  ┆ 2013   ┆ NL   ┆ P   ┆ … ┆ null ┆ null  ┆ No             ┆ Training            │\n",
       "│ abadfe01  ┆ 2014   ┆ AL   ┆ P   ┆ … ┆ null ┆ null  ┆ No             ┆ Training            │\n",
       "│ abadfe01  ┆ 2015   ┆ AL   ┆ P   ┆ … ┆ null ┆ null  ┆ No             ┆ Training            │\n",
       "│ …         ┆ …      ┆ …    ┆ …   ┆ … ┆ …    ┆ …     ┆ …              ┆ …                   │\n",
       "│ zuninmi01 ┆ 2022   ┆ AL   ┆ C   ┆ … ┆ null ┆ null  ┆ No             ┆ Training            │\n",
       "│ zuninmi01 ┆ 2023   ┆ AL   ┆ C   ┆ … ┆ null ┆ null  ┆ No             ┆ Validation          │\n",
       "│ zychto01  ┆ 2015   ┆ AL   ┆ P   ┆ … ┆ null ┆ null  ┆ No             ┆ Training            │\n",
       "│ zychto01  ┆ 2016   ┆ AL   ┆ P   ┆ … ┆ null ┆ null  ┆ No             ┆ Training            │\n",
       "│ zychto01  ┆ 2017   ┆ AL   ┆ P   ┆ … ┆ null ┆ null  ┆ No             ┆ Training            │\n",
       "└───────────┴────────┴──────┴─────┴───┴──────┴───────┴────────────────┴─────────────────────┘"
      ]
     },
     "execution_count": 3,
     "metadata": {},
     "output_type": "execute_result"
    }
   ],
   "source": [
    "Gglove = pl.read_csv('./Data/Gold_Golve_Bball.csv')\n",
    "\n",
    "GgloveTrain = Gglove.filter(pl.col('Training-Validation') == 'Training')\n",
    "\n",
    "GgloveTest = Gglove.filter(pl.col('Training-Validation') == 'Validation')\n",
    "\n",
    "Gglove"
   ]
  },
  {
   "cell_type": "code",
   "execution_count": 28,
   "id": "c3153711-a51c-4f3e-bfcc-784911e54bac",
   "metadata": {},
   "outputs": [],
   "source": [
    "Fielding_Stats = GgloveTrain.select(pl.col('Tot_G'), pl.col('Tot_ZR'))\n",
    "Won_GGlove = GgloveTrain.select(pl.col('Won Gold Glove'))\n",
    "Fielding_Stats_Test = GgloveTest.select(pl.col('Tot_G'), pl.col('Tot_ZR'))\n",
    "Won_GGlove_Test = GgloveTest.select(pl.col('Won Gold Glove'))"
   ]
  },
  {
   "cell_type": "code",
   "execution_count": 6,
   "id": "150840d2-c3cf-4732-918a-941c2d9e16f3",
   "metadata": {},
   "outputs": [],
   "source": [
    "param_grid = {'max_depth': [None, 1,2,3,4,5],\n",
    "              'min_samples_split' : [1, 5, 10],\n",
    "               'min_samples_leaf' : [1, 5, 10],\n",
    "              'class_weight':[None, \"balanced\"]\n",
    "              }\n",
    "\n",
    "param_grid"
   ]
  },
  {
   "cell_type": "code",
   "execution_count": 42,
   "id": "dd2ad6e8-ffbd-4dd6-9836-6efb940b079a",
   "metadata": {
    "scrolled": true
   },
   "outputs": [
    {
     "name": "stdout",
     "output_type": "stream",
     "text": [
      "Fitting 5 folds for each of 108 candidates, totalling 540 fits\n",
      "[CV 1/5] END class_weight=None, max_depth=None, min_samples_leaf=1, min_samples_split=1;, score=nan total time=   0.0s\n",
      "[CV 2/5] END class_weight=None, max_depth=None, min_samples_leaf=1, min_samples_split=1;, score=nan total time=   0.0s\n",
      "[CV 3/5] END class_weight=None, max_depth=None, min_samples_leaf=1, min_samples_split=1;, score=nan total time=   0.0s\n",
      "[CV 4/5] END class_weight=None, max_depth=None, min_samples_leaf=1, min_samples_split=1;, score=nan total time=   0.0s\n",
      "[CV 5/5] END class_weight=None, max_depth=None, min_samples_leaf=1, min_samples_split=1;, score=nan total time=   0.0s\n",
      "[CV 1/5] END class_weight=None, max_depth=None, min_samples_leaf=1, min_samples_split=5;, score=0.993 total time=   0.0s\n",
      "[CV 2/5] END class_weight=None, max_depth=None, min_samples_leaf=1, min_samples_split=5;, score=0.993 total time=   0.0s\n",
      "[CV 3/5] END class_weight=None, max_depth=None, min_samples_leaf=1, min_samples_split=5;, score=0.993 total time=   0.0s\n",
      "[CV 4/5] END class_weight=None, max_depth=None, min_samples_leaf=1, min_samples_split=5;, score=0.993 total time=   0.0s\n",
      "[CV 5/5] END class_weight=None, max_depth=None, min_samples_leaf=1, min_samples_split=5;, score=0.993 total time=   0.0s\n",
      "[CV 1/5] END class_weight=None, max_depth=None, min_samples_leaf=1, min_samples_split=10;, score=0.993 total time=   0.0s\n",
      "[CV 2/5] END class_weight=None, max_depth=None, min_samples_leaf=1, min_samples_split=10;, score=0.993 total time=   0.0s\n",
      "[CV 3/5] END class_weight=None, max_depth=None, min_samples_leaf=1, min_samples_split=10;, score=0.993 total time=   0.0s\n",
      "[CV 4/5] END class_weight=None, max_depth=None, min_samples_leaf=1, min_samples_split=10;, score=0.993 total time=   0.0s\n",
      "[CV 5/5] END class_weight=None, max_depth=None, min_samples_leaf=1, min_samples_split=10;, score=0.993 total time=   0.0s\n",
      "[CV 1/5] END class_weight=None, max_depth=None, min_samples_leaf=5, min_samples_split=1;, score=nan total time=   0.0s\n",
      "[CV 2/5] END class_weight=None, max_depth=None, min_samples_leaf=5, min_samples_split=1;, score=nan total time=   0.0s\n",
      "[CV 3/5] END class_weight=None, max_depth=None, min_samples_leaf=5, min_samples_split=1;, score=nan total time=   0.0s\n",
      "[CV 4/5] END class_weight=None, max_depth=None, min_samples_leaf=5, min_samples_split=1;, score=nan total time=   0.0s\n",
      "[CV 5/5] END class_weight=None, max_depth=None, min_samples_leaf=5, min_samples_split=1;, score=nan total time=   0.0s\n",
      "[CV 1/5] END class_weight=None, max_depth=None, min_samples_leaf=5, min_samples_split=5;, score=0.993 total time=   0.0s\n",
      "[CV 2/5] END class_weight=None, max_depth=None, min_samples_leaf=5, min_samples_split=5;, score=0.993 total time=   0.0s\n",
      "[CV 3/5] END class_weight=None, max_depth=None, min_samples_leaf=5, min_samples_split=5;, score=0.993 total time=   0.0s\n",
      "[CV 4/5] END class_weight=None, max_depth=None, min_samples_leaf=5, min_samples_split=5;, score=0.993 total time=   0.0s\n",
      "[CV 5/5] END class_weight=None, max_depth=None, min_samples_leaf=5, min_samples_split=5;, score=0.993 total time=   0.0s\n",
      "[CV 1/5] END class_weight=None, max_depth=None, min_samples_leaf=5, min_samples_split=10;, score=0.993 total time=   0.0s\n",
      "[CV 2/5] END class_weight=None, max_depth=None, min_samples_leaf=5, min_samples_split=10;, score=0.993 total time=   0.0s\n",
      "[CV 3/5] END class_weight=None, max_depth=None, min_samples_leaf=5, min_samples_split=10;, score=0.993 total time=   0.0s\n",
      "[CV 4/5] END class_weight=None, max_depth=None, min_samples_leaf=5, min_samples_split=10;, score=0.993 total time=   0.0s\n",
      "[CV 5/5] END class_weight=None, max_depth=None, min_samples_leaf=5, min_samples_split=10;, score=0.993 total time=   0.0s\n",
      "[CV 1/5] END class_weight=None, max_depth=None, min_samples_leaf=10, min_samples_split=1;, score=nan total time=   0.0s\n",
      "[CV 2/5] END class_weight=None, max_depth=None, min_samples_leaf=10, min_samples_split=1;, score=nan total time=   0.0s\n",
      "[CV 3/5] END class_weight=None, max_depth=None, min_samples_leaf=10, min_samples_split=1;, score=nan total time=   0.0s\n",
      "[CV 4/5] END class_weight=None, max_depth=None, min_samples_leaf=10, min_samples_split=1;, score=nan total time=   0.0s\n",
      "[CV 5/5] END class_weight=None, max_depth=None, min_samples_leaf=10, min_samples_split=1;, score=nan total time=   0.0s\n",
      "[CV 1/5] END class_weight=None, max_depth=None, min_samples_leaf=10, min_samples_split=5;, score=0.993 total time=   0.0s\n",
      "[CV 2/5] END class_weight=None, max_depth=None, min_samples_leaf=10, min_samples_split=5;, score=0.993 total time=   0.0s\n",
      "[CV 3/5] END class_weight=None, max_depth=None, min_samples_leaf=10, min_samples_split=5;, score=0.993 total time=   0.0s\n",
      "[CV 4/5] END class_weight=None, max_depth=None, min_samples_leaf=10, min_samples_split=5;, score=0.993 total time=   0.0s\n",
      "[CV 5/5] END class_weight=None, max_depth=None, min_samples_leaf=10, min_samples_split=5;, score=0.993 total time=   0.0s\n",
      "[CV 1/5] END class_weight=None, max_depth=None, min_samples_leaf=10, min_samples_split=10;, score=0.993 total time=   0.0s\n",
      "[CV 2/5] END class_weight=None, max_depth=None, min_samples_leaf=10, min_samples_split=10;, score=0.993 total time=   0.0s\n",
      "[CV 3/5] END class_weight=None, max_depth=None, min_samples_leaf=10, min_samples_split=10;, score=0.993 total time=   0.0s\n",
      "[CV 4/5] END class_weight=None, max_depth=None, min_samples_leaf=10, min_samples_split=10;, score=0.993 total time=   0.0s\n",
      "[CV 5/5] END class_weight=None, max_depth=None, min_samples_leaf=10, min_samples_split=10;, score=0.993 total time=   0.0s\n",
      "[CV 1/5] END class_weight=None, max_depth=1, min_samples_leaf=1, min_samples_split=1;, score=nan total time=   0.0s\n",
      "[CV 2/5] END class_weight=None, max_depth=1, min_samples_leaf=1, min_samples_split=1;, score=nan total time=   0.0s\n",
      "[CV 3/5] END class_weight=None, max_depth=1, min_samples_leaf=1, min_samples_split=1;, score=nan total time=   0.0s\n",
      "[CV 4/5] END class_weight=None, max_depth=1, min_samples_leaf=1, min_samples_split=1;, score=nan total time=   0.0s\n",
      "[CV 5/5] END class_weight=None, max_depth=1, min_samples_leaf=1, min_samples_split=1;, score=nan total time=   0.0s\n",
      "[CV 1/5] END class_weight=None, max_depth=1, min_samples_leaf=1, min_samples_split=5;, score=0.993 total time=   0.0s\n",
      "[CV 2/5] END class_weight=None, max_depth=1, min_samples_leaf=1, min_samples_split=5;, score=0.993 total time=   0.0s\n",
      "[CV 3/5] END class_weight=None, max_depth=1, min_samples_leaf=1, min_samples_split=5;, score=0.993 total time=   0.0s\n",
      "[CV 4/5] END class_weight=None, max_depth=1, min_samples_leaf=1, min_samples_split=5;, score=0.993 total time=   0.0s\n",
      "[CV 5/5] END class_weight=None, max_depth=1, min_samples_leaf=1, min_samples_split=5;, score=0.993 total time=   0.0s\n",
      "[CV 1/5] END class_weight=None, max_depth=1, min_samples_leaf=1, min_samples_split=10;, score=0.993 total time=   0.0s\n",
      "[CV 2/5] END class_weight=None, max_depth=1, min_samples_leaf=1, min_samples_split=10;, score=0.993 total time=   0.0s\n",
      "[CV 3/5] END class_weight=None, max_depth=1, min_samples_leaf=1, min_samples_split=10;, score=0.993 total time=   0.0s\n",
      "[CV 4/5] END class_weight=None, max_depth=1, min_samples_leaf=1, min_samples_split=10;, score=0.993 total time=   0.0s\n",
      "[CV 5/5] END class_weight=None, max_depth=1, min_samples_leaf=1, min_samples_split=10;, score=0.993 total time=   0.0s\n",
      "[CV 1/5] END class_weight=None, max_depth=1, min_samples_leaf=5, min_samples_split=1;, score=nan total time=   0.0s\n",
      "[CV 2/5] END class_weight=None, max_depth=1, min_samples_leaf=5, min_samples_split=1;, score=nan total time=   0.0s\n",
      "[CV 3/5] END class_weight=None, max_depth=1, min_samples_leaf=5, min_samples_split=1;, score=nan total time=   0.0s\n",
      "[CV 4/5] END class_weight=None, max_depth=1, min_samples_leaf=5, min_samples_split=1;, score=nan total time=   0.0s\n",
      "[CV 5/5] END class_weight=None, max_depth=1, min_samples_leaf=5, min_samples_split=1;, score=nan total time=   0.0s\n",
      "[CV 1/5] END class_weight=None, max_depth=1, min_samples_leaf=5, min_samples_split=5;, score=0.993 total time=   0.0s\n",
      "[CV 2/5] END class_weight=None, max_depth=1, min_samples_leaf=5, min_samples_split=5;, score=0.993 total time=   0.0s\n",
      "[CV 3/5] END class_weight=None, max_depth=1, min_samples_leaf=5, min_samples_split=5;, score=0.993 total time=   0.0s\n",
      "[CV 4/5] END class_weight=None, max_depth=1, min_samples_leaf=5, min_samples_split=5;, score=0.993 total time=   0.0s\n",
      "[CV 5/5] END class_weight=None, max_depth=1, min_samples_leaf=5, min_samples_split=5;, score=0.993 total time=   0.0s\n",
      "[CV 1/5] END class_weight=None, max_depth=1, min_samples_leaf=5, min_samples_split=10;, score=0.993 total time=   0.0s\n",
      "[CV 2/5] END class_weight=None, max_depth=1, min_samples_leaf=5, min_samples_split=10;, score=0.993 total time=   0.0s\n",
      "[CV 3/5] END class_weight=None, max_depth=1, min_samples_leaf=5, min_samples_split=10;, score=0.993 total time=   0.0s\n",
      "[CV 4/5] END class_weight=None, max_depth=1, min_samples_leaf=5, min_samples_split=10;, score=0.993 total time=   0.0s\n",
      "[CV 5/5] END class_weight=None, max_depth=1, min_samples_leaf=5, min_samples_split=10;, score=0.993 total time=   0.0s\n",
      "[CV 1/5] END class_weight=None, max_depth=1, min_samples_leaf=10, min_samples_split=1;, score=nan total time=   0.0s\n",
      "[CV 2/5] END class_weight=None, max_depth=1, min_samples_leaf=10, min_samples_split=1;, score=nan total time=   0.0s\n",
      "[CV 3/5] END class_weight=None, max_depth=1, min_samples_leaf=10, min_samples_split=1;, score=nan total time=   0.0s\n",
      "[CV 4/5] END class_weight=None, max_depth=1, min_samples_leaf=10, min_samples_split=1;, score=nan total time=   0.0s\n",
      "[CV 5/5] END class_weight=None, max_depth=1, min_samples_leaf=10, min_samples_split=1;, score=nan total time=   0.0s\n",
      "[CV 1/5] END class_weight=None, max_depth=1, min_samples_leaf=10, min_samples_split=5;, score=0.993 total time=   0.0s\n",
      "[CV 2/5] END class_weight=None, max_depth=1, min_samples_leaf=10, min_samples_split=5;, score=0.993 total time=   0.0s\n",
      "[CV 3/5] END class_weight=None, max_depth=1, min_samples_leaf=10, min_samples_split=5;, score=0.993 total time=   0.0s\n",
      "[CV 4/5] END class_weight=None, max_depth=1, min_samples_leaf=10, min_samples_split=5;, score=0.993 total time=   0.0s\n",
      "[CV 5/5] END class_weight=None, max_depth=1, min_samples_leaf=10, min_samples_split=5;, score=0.993 total time=   0.0s\n",
      "[CV 1/5] END class_weight=None, max_depth=1, min_samples_leaf=10, min_samples_split=10;, score=0.993 total time=   0.0s\n",
      "[CV 2/5] END class_weight=None, max_depth=1, min_samples_leaf=10, min_samples_split=10;, score=0.993 total time=   0.0s\n",
      "[CV 3/5] END class_weight=None, max_depth=1, min_samples_leaf=10, min_samples_split=10;, score=0.993 total time=   0.0s\n",
      "[CV 4/5] END class_weight=None, max_depth=1, min_samples_leaf=10, min_samples_split=10;, score=0.993 total time=   0.0s\n",
      "[CV 5/5] END class_weight=None, max_depth=1, min_samples_leaf=10, min_samples_split=10;, score=0.993 total time=   0.0s\n",
      "[CV 1/5] END class_weight=None, max_depth=2, min_samples_leaf=1, min_samples_split=1;, score=nan total time=   0.0s\n",
      "[CV 2/5] END class_weight=None, max_depth=2, min_samples_leaf=1, min_samples_split=1;, score=nan total time=   0.0s\n",
      "[CV 3/5] END class_weight=None, max_depth=2, min_samples_leaf=1, min_samples_split=1;, score=nan total time=   0.0s\n",
      "[CV 4/5] END class_weight=None, max_depth=2, min_samples_leaf=1, min_samples_split=1;, score=nan total time=   0.0s\n",
      "[CV 5/5] END class_weight=None, max_depth=2, min_samples_leaf=1, min_samples_split=1;, score=nan total time=   0.0s\n",
      "[CV 1/5] END class_weight=None, max_depth=2, min_samples_leaf=1, min_samples_split=5;, score=0.993 total time=   0.0s\n",
      "[CV 2/5] END class_weight=None, max_depth=2, min_samples_leaf=1, min_samples_split=5;, score=0.993 total time=   0.0s\n",
      "[CV 3/5] END class_weight=None, max_depth=2, min_samples_leaf=1, min_samples_split=5;, score=0.993 total time=   0.0s\n",
      "[CV 4/5] END class_weight=None, max_depth=2, min_samples_leaf=1, min_samples_split=5;, score=0.993 total time=   0.0s\n",
      "[CV 5/5] END class_weight=None, max_depth=2, min_samples_leaf=1, min_samples_split=5;, score=0.993 total time=   0.0s\n",
      "[CV 1/5] END class_weight=None, max_depth=2, min_samples_leaf=1, min_samples_split=10;, score=0.993 total time=   0.0s\n",
      "[CV 2/5] END class_weight=None, max_depth=2, min_samples_leaf=1, min_samples_split=10;, score=0.993 total time=   0.0s\n",
      "[CV 3/5] END class_weight=None, max_depth=2, min_samples_leaf=1, min_samples_split=10;, score=0.993 total time=   0.0s\n",
      "[CV 4/5] END class_weight=None, max_depth=2, min_samples_leaf=1, min_samples_split=10;, score=0.993 total time=   0.0s\n",
      "[CV 5/5] END class_weight=None, max_depth=2, min_samples_leaf=1, min_samples_split=10;, score=0.993 total time=   0.0s\n",
      "[CV 1/5] END class_weight=None, max_depth=2, min_samples_leaf=5, min_samples_split=1;, score=nan total time=   0.0s\n",
      "[CV 2/5] END class_weight=None, max_depth=2, min_samples_leaf=5, min_samples_split=1;, score=nan total time=   0.0s\n",
      "[CV 3/5] END class_weight=None, max_depth=2, min_samples_leaf=5, min_samples_split=1;, score=nan total time=   0.0s\n",
      "[CV 4/5] END class_weight=None, max_depth=2, min_samples_leaf=5, min_samples_split=1;, score=nan total time=   0.0s\n",
      "[CV 5/5] END class_weight=None, max_depth=2, min_samples_leaf=5, min_samples_split=1;, score=nan total time=   0.0s\n",
      "[CV 1/5] END class_weight=None, max_depth=2, min_samples_leaf=5, min_samples_split=5;, score=0.993 total time=   0.0s\n",
      "[CV 2/5] END class_weight=None, max_depth=2, min_samples_leaf=5, min_samples_split=5;, score=0.993 total time=   0.0s\n",
      "[CV 3/5] END class_weight=None, max_depth=2, min_samples_leaf=5, min_samples_split=5;, score=0.993 total time=   0.0s\n",
      "[CV 4/5] END class_weight=None, max_depth=2, min_samples_leaf=5, min_samples_split=5;, score=0.993 total time=   0.0s\n",
      "[CV 5/5] END class_weight=None, max_depth=2, min_samples_leaf=5, min_samples_split=5;, score=0.993 total time=   0.0s\n",
      "[CV 1/5] END class_weight=None, max_depth=2, min_samples_leaf=5, min_samples_split=10;, score=0.993 total time=   0.0s\n",
      "[CV 2/5] END class_weight=None, max_depth=2, min_samples_leaf=5, min_samples_split=10;, score=0.993 total time=   0.0s\n",
      "[CV 3/5] END class_weight=None, max_depth=2, min_samples_leaf=5, min_samples_split=10;, score=0.993 total time=   0.0s\n",
      "[CV 4/5] END class_weight=None, max_depth=2, min_samples_leaf=5, min_samples_split=10;, score=0.993 total time=   0.0s\n",
      "[CV 5/5] END class_weight=None, max_depth=2, min_samples_leaf=5, min_samples_split=10;, score=0.993 total time=   0.0s\n",
      "[CV 1/5] END class_weight=None, max_depth=2, min_samples_leaf=10, min_samples_split=1;, score=nan total time=   0.0s\n",
      "[CV 2/5] END class_weight=None, max_depth=2, min_samples_leaf=10, min_samples_split=1;, score=nan total time=   0.0s\n",
      "[CV 3/5] END class_weight=None, max_depth=2, min_samples_leaf=10, min_samples_split=1;, score=nan total time=   0.0s\n",
      "[CV 4/5] END class_weight=None, max_depth=2, min_samples_leaf=10, min_samples_split=1;, score=nan total time=   0.0s\n",
      "[CV 5/5] END class_weight=None, max_depth=2, min_samples_leaf=10, min_samples_split=1;, score=nan total time=   0.0s\n",
      "[CV 1/5] END class_weight=None, max_depth=2, min_samples_leaf=10, min_samples_split=5;, score=0.993 total time=   0.0s\n",
      "[CV 2/5] END class_weight=None, max_depth=2, min_samples_leaf=10, min_samples_split=5;, score=0.993 total time=   0.0s\n",
      "[CV 3/5] END class_weight=None, max_depth=2, min_samples_leaf=10, min_samples_split=5;, score=0.993 total time=   0.0s\n",
      "[CV 4/5] END class_weight=None, max_depth=2, min_samples_leaf=10, min_samples_split=5;, score=0.993 total time=   0.0s\n",
      "[CV 5/5] END class_weight=None, max_depth=2, min_samples_leaf=10, min_samples_split=5;, score=0.993 total time=   0.0s\n",
      "[CV 1/5] END class_weight=None, max_depth=2, min_samples_leaf=10, min_samples_split=10;, score=0.993 total time=   0.0s\n",
      "[CV 2/5] END class_weight=None, max_depth=2, min_samples_leaf=10, min_samples_split=10;, score=0.993 total time=   0.0s\n",
      "[CV 3/5] END class_weight=None, max_depth=2, min_samples_leaf=10, min_samples_split=10;, score=0.993 total time=   0.0s\n",
      "[CV 4/5] END class_weight=None, max_depth=2, min_samples_leaf=10, min_samples_split=10;, score=0.993 total time=   0.0s\n",
      "[CV 5/5] END class_weight=None, max_depth=2, min_samples_leaf=10, min_samples_split=10;, score=0.993 total time=   0.0s\n",
      "[CV 1/5] END class_weight=None, max_depth=3, min_samples_leaf=1, min_samples_split=1;, score=nan total time=   0.0s\n",
      "[CV 2/5] END class_weight=None, max_depth=3, min_samples_leaf=1, min_samples_split=1;, score=nan total time=   0.0s\n",
      "[CV 3/5] END class_weight=None, max_depth=3, min_samples_leaf=1, min_samples_split=1;, score=nan total time=   0.0s\n",
      "[CV 4/5] END class_weight=None, max_depth=3, min_samples_leaf=1, min_samples_split=1;, score=nan total time=   0.0s\n",
      "[CV 5/5] END class_weight=None, max_depth=3, min_samples_leaf=1, min_samples_split=1;, score=nan total time=   0.0s\n",
      "[CV 1/5] END class_weight=None, max_depth=3, min_samples_leaf=1, min_samples_split=5;, score=0.993 total time=   0.0s\n",
      "[CV 2/5] END class_weight=None, max_depth=3, min_samples_leaf=1, min_samples_split=5;, score=0.993 total time=   0.0s\n",
      "[CV 3/5] END class_weight=None, max_depth=3, min_samples_leaf=1, min_samples_split=5;, score=0.993 total time=   0.0s\n",
      "[CV 4/5] END class_weight=None, max_depth=3, min_samples_leaf=1, min_samples_split=5;, score=0.993 total time=   0.0s\n",
      "[CV 5/5] END class_weight=None, max_depth=3, min_samples_leaf=1, min_samples_split=5;, score=0.993 total time=   0.0s\n",
      "[CV 1/5] END class_weight=None, max_depth=3, min_samples_leaf=1, min_samples_split=10;, score=0.993 total time=   0.0s\n",
      "[CV 2/5] END class_weight=None, max_depth=3, min_samples_leaf=1, min_samples_split=10;, score=0.993 total time=   0.0s\n",
      "[CV 3/5] END class_weight=None, max_depth=3, min_samples_leaf=1, min_samples_split=10;, score=0.993 total time=   0.0s\n",
      "[CV 4/5] END class_weight=None, max_depth=3, min_samples_leaf=1, min_samples_split=10;, score=0.993 total time=   0.0s\n",
      "[CV 5/5] END class_weight=None, max_depth=3, min_samples_leaf=1, min_samples_split=10;, score=0.993 total time=   0.0s\n",
      "[CV 1/5] END class_weight=None, max_depth=3, min_samples_leaf=5, min_samples_split=1;, score=nan total time=   0.0s\n",
      "[CV 2/5] END class_weight=None, max_depth=3, min_samples_leaf=5, min_samples_split=1;, score=nan total time=   0.0s\n",
      "[CV 3/5] END class_weight=None, max_depth=3, min_samples_leaf=5, min_samples_split=1;, score=nan total time=   0.0s\n",
      "[CV 4/5] END class_weight=None, max_depth=3, min_samples_leaf=5, min_samples_split=1;, score=nan total time=   0.0s\n",
      "[CV 5/5] END class_weight=None, max_depth=3, min_samples_leaf=5, min_samples_split=1;, score=nan total time=   0.0s\n",
      "[CV 1/5] END class_weight=None, max_depth=3, min_samples_leaf=5, min_samples_split=5;, score=0.993 total time=   0.0s\n",
      "[CV 2/5] END class_weight=None, max_depth=3, min_samples_leaf=5, min_samples_split=5;, score=0.993 total time=   0.0s\n",
      "[CV 3/5] END class_weight=None, max_depth=3, min_samples_leaf=5, min_samples_split=5;, score=0.993 total time=   0.0s\n",
      "[CV 4/5] END class_weight=None, max_depth=3, min_samples_leaf=5, min_samples_split=5;, score=0.993 total time=   0.0s\n",
      "[CV 5/5] END class_weight=None, max_depth=3, min_samples_leaf=5, min_samples_split=5;, score=0.993 total time=   0.0s\n",
      "[CV 1/5] END class_weight=None, max_depth=3, min_samples_leaf=5, min_samples_split=10;, score=0.993 total time=   0.0s\n",
      "[CV 2/5] END class_weight=None, max_depth=3, min_samples_leaf=5, min_samples_split=10;, score=0.993 total time=   0.0s\n",
      "[CV 3/5] END class_weight=None, max_depth=3, min_samples_leaf=5, min_samples_split=10;, score=0.993 total time=   0.0s\n",
      "[CV 4/5] END class_weight=None, max_depth=3, min_samples_leaf=5, min_samples_split=10;, score=0.993 total time=   0.0s\n",
      "[CV 5/5] END class_weight=None, max_depth=3, min_samples_leaf=5, min_samples_split=10;, score=0.993 total time=   0.0s\n",
      "[CV 1/5] END class_weight=None, max_depth=3, min_samples_leaf=10, min_samples_split=1;, score=nan total time=   0.0s\n",
      "[CV 2/5] END class_weight=None, max_depth=3, min_samples_leaf=10, min_samples_split=1;, score=nan total time=   0.0s\n",
      "[CV 3/5] END class_weight=None, max_depth=3, min_samples_leaf=10, min_samples_split=1;, score=nan total time=   0.0s\n",
      "[CV 4/5] END class_weight=None, max_depth=3, min_samples_leaf=10, min_samples_split=1;, score=nan total time=   0.0s\n",
      "[CV 5/5] END class_weight=None, max_depth=3, min_samples_leaf=10, min_samples_split=1;, score=nan total time=   0.0s\n",
      "[CV 1/5] END class_weight=None, max_depth=3, min_samples_leaf=10, min_samples_split=5;, score=0.993 total time=   0.0s\n",
      "[CV 2/5] END class_weight=None, max_depth=3, min_samples_leaf=10, min_samples_split=5;, score=0.993 total time=   0.0s\n",
      "[CV 3/5] END class_weight=None, max_depth=3, min_samples_leaf=10, min_samples_split=5;, score=0.993 total time=   0.0s\n",
      "[CV 4/5] END class_weight=None, max_depth=3, min_samples_leaf=10, min_samples_split=5;, score=0.993 total time=   0.0s\n",
      "[CV 5/5] END class_weight=None, max_depth=3, min_samples_leaf=10, min_samples_split=5;, score=0.993 total time=   0.0s\n",
      "[CV 1/5] END class_weight=None, max_depth=3, min_samples_leaf=10, min_samples_split=10;, score=0.993 total time=   0.0s\n",
      "[CV 2/5] END class_weight=None, max_depth=3, min_samples_leaf=10, min_samples_split=10;, score=0.993 total time=   0.0s\n",
      "[CV 3/5] END class_weight=None, max_depth=3, min_samples_leaf=10, min_samples_split=10;, score=0.993 total time=   0.0s\n",
      "[CV 4/5] END class_weight=None, max_depth=3, min_samples_leaf=10, min_samples_split=10;, score=0.993 total time=   0.0s\n",
      "[CV 5/5] END class_weight=None, max_depth=3, min_samples_leaf=10, min_samples_split=10;, score=0.993 total time=   0.0s\n",
      "[CV 1/5] END class_weight=None, max_depth=4, min_samples_leaf=1, min_samples_split=1;, score=nan total time=   0.0s\n",
      "[CV 2/5] END class_weight=None, max_depth=4, min_samples_leaf=1, min_samples_split=1;, score=nan total time=   0.0s\n",
      "[CV 3/5] END class_weight=None, max_depth=4, min_samples_leaf=1, min_samples_split=1;, score=nan total time=   0.0s\n",
      "[CV 4/5] END class_weight=None, max_depth=4, min_samples_leaf=1, min_samples_split=1;, score=nan total time=   0.0s\n",
      "[CV 5/5] END class_weight=None, max_depth=4, min_samples_leaf=1, min_samples_split=1;, score=nan total time=   0.0s\n",
      "[CV 1/5] END class_weight=None, max_depth=4, min_samples_leaf=1, min_samples_split=5;, score=0.993 total time=   0.0s\n",
      "[CV 2/5] END class_weight=None, max_depth=4, min_samples_leaf=1, min_samples_split=5;, score=0.993 total time=   0.0s\n",
      "[CV 3/5] END class_weight=None, max_depth=4, min_samples_leaf=1, min_samples_split=5;, score=0.993 total time=   0.0s\n",
      "[CV 4/5] END class_weight=None, max_depth=4, min_samples_leaf=1, min_samples_split=5;, score=0.993 total time=   0.0s\n",
      "[CV 5/5] END class_weight=None, max_depth=4, min_samples_leaf=1, min_samples_split=5;, score=0.993 total time=   0.0s\n",
      "[CV 1/5] END class_weight=None, max_depth=4, min_samples_leaf=1, min_samples_split=10;, score=0.993 total time=   0.0s\n",
      "[CV 2/5] END class_weight=None, max_depth=4, min_samples_leaf=1, min_samples_split=10;, score=0.993 total time=   0.0s\n",
      "[CV 3/5] END class_weight=None, max_depth=4, min_samples_leaf=1, min_samples_split=10;, score=0.993 total time=   0.0s\n",
      "[CV 4/5] END class_weight=None, max_depth=4, min_samples_leaf=1, min_samples_split=10;, score=0.993 total time=   0.0s\n",
      "[CV 5/5] END class_weight=None, max_depth=4, min_samples_leaf=1, min_samples_split=10;, score=0.993 total time=   0.0s\n",
      "[CV 1/5] END class_weight=None, max_depth=4, min_samples_leaf=5, min_samples_split=1;, score=nan total time=   0.0s\n",
      "[CV 2/5] END class_weight=None, max_depth=4, min_samples_leaf=5, min_samples_split=1;, score=nan total time=   0.0s\n",
      "[CV 3/5] END class_weight=None, max_depth=4, min_samples_leaf=5, min_samples_split=1;, score=nan total time=   0.0s\n",
      "[CV 4/5] END class_weight=None, max_depth=4, min_samples_leaf=5, min_samples_split=1;, score=nan total time=   0.0s\n",
      "[CV 5/5] END class_weight=None, max_depth=4, min_samples_leaf=5, min_samples_split=1;, score=nan total time=   0.0s\n",
      "[CV 1/5] END class_weight=None, max_depth=4, min_samples_leaf=5, min_samples_split=5;, score=0.993 total time=   0.0s\n",
      "[CV 2/5] END class_weight=None, max_depth=4, min_samples_leaf=5, min_samples_split=5;, score=0.993 total time=   0.0s\n",
      "[CV 3/5] END class_weight=None, max_depth=4, min_samples_leaf=5, min_samples_split=5;, score=0.993 total time=   0.0s\n",
      "[CV 4/5] END class_weight=None, max_depth=4, min_samples_leaf=5, min_samples_split=5;, score=0.993 total time=   0.0s\n",
      "[CV 5/5] END class_weight=None, max_depth=4, min_samples_leaf=5, min_samples_split=5;, score=0.993 total time=   0.0s\n",
      "[CV 1/5] END class_weight=None, max_depth=4, min_samples_leaf=5, min_samples_split=10;, score=0.993 total time=   0.0s\n",
      "[CV 2/5] END class_weight=None, max_depth=4, min_samples_leaf=5, min_samples_split=10;, score=0.993 total time=   0.0s\n",
      "[CV 3/5] END class_weight=None, max_depth=4, min_samples_leaf=5, min_samples_split=10;, score=0.993 total time=   0.0s\n",
      "[CV 4/5] END class_weight=None, max_depth=4, min_samples_leaf=5, min_samples_split=10;, score=0.993 total time=   0.0s\n",
      "[CV 5/5] END class_weight=None, max_depth=4, min_samples_leaf=5, min_samples_split=10;, score=0.993 total time=   0.0s\n",
      "[CV 1/5] END class_weight=None, max_depth=4, min_samples_leaf=10, min_samples_split=1;, score=nan total time=   0.0s\n",
      "[CV 2/5] END class_weight=None, max_depth=4, min_samples_leaf=10, min_samples_split=1;, score=nan total time=   0.0s\n",
      "[CV 3/5] END class_weight=None, max_depth=4, min_samples_leaf=10, min_samples_split=1;, score=nan total time=   0.0s\n",
      "[CV 4/5] END class_weight=None, max_depth=4, min_samples_leaf=10, min_samples_split=1;, score=nan total time=   0.0s\n",
      "[CV 5/5] END class_weight=None, max_depth=4, min_samples_leaf=10, min_samples_split=1;, score=nan total time=   0.0s\n",
      "[CV 1/5] END class_weight=None, max_depth=4, min_samples_leaf=10, min_samples_split=5;, score=0.993 total time=   0.0s\n",
      "[CV 2/5] END class_weight=None, max_depth=4, min_samples_leaf=10, min_samples_split=5;, score=0.993 total time=   0.0s\n",
      "[CV 3/5] END class_weight=None, max_depth=4, min_samples_leaf=10, min_samples_split=5;, score=0.993 total time=   0.0s\n",
      "[CV 4/5] END class_weight=None, max_depth=4, min_samples_leaf=10, min_samples_split=5;, score=0.993 total time=   0.0s\n",
      "[CV 5/5] END class_weight=None, max_depth=4, min_samples_leaf=10, min_samples_split=5;, score=0.993 total time=   0.0s\n",
      "[CV 1/5] END class_weight=None, max_depth=4, min_samples_leaf=10, min_samples_split=10;, score=0.993 total time=   0.0s\n",
      "[CV 2/5] END class_weight=None, max_depth=4, min_samples_leaf=10, min_samples_split=10;, score=0.993 total time=   0.0s\n",
      "[CV 3/5] END class_weight=None, max_depth=4, min_samples_leaf=10, min_samples_split=10;, score=0.993 total time=   0.0s\n",
      "[CV 4/5] END class_weight=None, max_depth=4, min_samples_leaf=10, min_samples_split=10;, score=0.993 total time=   0.0s\n",
      "[CV 5/5] END class_weight=None, max_depth=4, min_samples_leaf=10, min_samples_split=10;, score=0.993 total time=   0.0s\n",
      "[CV 1/5] END class_weight=None, max_depth=5, min_samples_leaf=1, min_samples_split=1;, score=nan total time=   0.0s\n",
      "[CV 2/5] END class_weight=None, max_depth=5, min_samples_leaf=1, min_samples_split=1;, score=nan total time=   0.0s\n",
      "[CV 3/5] END class_weight=None, max_depth=5, min_samples_leaf=1, min_samples_split=1;, score=nan total time=   0.0s\n",
      "[CV 4/5] END class_weight=None, max_depth=5, min_samples_leaf=1, min_samples_split=1;, score=nan total time=   0.0s\n",
      "[CV 5/5] END class_weight=None, max_depth=5, min_samples_leaf=1, min_samples_split=1;, score=nan total time=   0.0s\n",
      "[CV 1/5] END class_weight=None, max_depth=5, min_samples_leaf=1, min_samples_split=5;, score=0.993 total time=   0.0s\n",
      "[CV 2/5] END class_weight=None, max_depth=5, min_samples_leaf=1, min_samples_split=5;, score=0.993 total time=   0.0s\n",
      "[CV 3/5] END class_weight=None, max_depth=5, min_samples_leaf=1, min_samples_split=5;, score=0.993 total time=   0.0s\n",
      "[CV 4/5] END class_weight=None, max_depth=5, min_samples_leaf=1, min_samples_split=5;, score=0.993 total time=   0.0s\n",
      "[CV 5/5] END class_weight=None, max_depth=5, min_samples_leaf=1, min_samples_split=5;, score=0.993 total time=   0.0s\n",
      "[CV 1/5] END class_weight=None, max_depth=5, min_samples_leaf=1, min_samples_split=10;, score=0.993 total time=   0.0s\n",
      "[CV 2/5] END class_weight=None, max_depth=5, min_samples_leaf=1, min_samples_split=10;, score=0.993 total time=   0.0s\n",
      "[CV 3/5] END class_weight=None, max_depth=5, min_samples_leaf=1, min_samples_split=10;, score=0.993 total time=   0.0s\n",
      "[CV 4/5] END class_weight=None, max_depth=5, min_samples_leaf=1, min_samples_split=10;, score=0.993 total time=   0.0s\n",
      "[CV 5/5] END class_weight=None, max_depth=5, min_samples_leaf=1, min_samples_split=10;, score=0.993 total time=   0.0s\n",
      "[CV 1/5] END class_weight=None, max_depth=5, min_samples_leaf=5, min_samples_split=1;, score=nan total time=   0.0s\n",
      "[CV 2/5] END class_weight=None, max_depth=5, min_samples_leaf=5, min_samples_split=1;, score=nan total time=   0.0s\n",
      "[CV 3/5] END class_weight=None, max_depth=5, min_samples_leaf=5, min_samples_split=1;, score=nan total time=   0.0s\n",
      "[CV 4/5] END class_weight=None, max_depth=5, min_samples_leaf=5, min_samples_split=1;, score=nan total time=   0.0s\n",
      "[CV 5/5] END class_weight=None, max_depth=5, min_samples_leaf=5, min_samples_split=1;, score=nan total time=   0.0s\n",
      "[CV 1/5] END class_weight=None, max_depth=5, min_samples_leaf=5, min_samples_split=5;, score=0.993 total time=   0.0s\n",
      "[CV 2/5] END class_weight=None, max_depth=5, min_samples_leaf=5, min_samples_split=5;, score=0.993 total time=   0.0s\n",
      "[CV 3/5] END class_weight=None, max_depth=5, min_samples_leaf=5, min_samples_split=5;, score=0.993 total time=   0.0s\n",
      "[CV 4/5] END class_weight=None, max_depth=5, min_samples_leaf=5, min_samples_split=5;, score=0.993 total time=   0.0s\n",
      "[CV 5/5] END class_weight=None, max_depth=5, min_samples_leaf=5, min_samples_split=5;, score=0.993 total time=   0.0s\n",
      "[CV 1/5] END class_weight=None, max_depth=5, min_samples_leaf=5, min_samples_split=10;, score=0.993 total time=   0.0s\n",
      "[CV 2/5] END class_weight=None, max_depth=5, min_samples_leaf=5, min_samples_split=10;, score=0.993 total time=   0.0s\n",
      "[CV 3/5] END class_weight=None, max_depth=5, min_samples_leaf=5, min_samples_split=10;, score=0.993 total time=   0.0s\n",
      "[CV 4/5] END class_weight=None, max_depth=5, min_samples_leaf=5, min_samples_split=10;, score=0.993 total time=   0.0s\n",
      "[CV 5/5] END class_weight=None, max_depth=5, min_samples_leaf=5, min_samples_split=10;, score=0.993 total time=   0.0s\n",
      "[CV 1/5] END class_weight=None, max_depth=5, min_samples_leaf=10, min_samples_split=1;, score=nan total time=   0.0s\n",
      "[CV 2/5] END class_weight=None, max_depth=5, min_samples_leaf=10, min_samples_split=1;, score=nan total time=   0.0s\n",
      "[CV 3/5] END class_weight=None, max_depth=5, min_samples_leaf=10, min_samples_split=1;, score=nan total time=   0.0s\n",
      "[CV 4/5] END class_weight=None, max_depth=5, min_samples_leaf=10, min_samples_split=1;, score=nan total time=   0.0s\n",
      "[CV 5/5] END class_weight=None, max_depth=5, min_samples_leaf=10, min_samples_split=1;, score=nan total time=   0.0s\n",
      "[CV 1/5] END class_weight=None, max_depth=5, min_samples_leaf=10, min_samples_split=5;, score=0.993 total time=   0.0s\n",
      "[CV 2/5] END class_weight=None, max_depth=5, min_samples_leaf=10, min_samples_split=5;, score=0.993 total time=   0.0s\n",
      "[CV 3/5] END class_weight=None, max_depth=5, min_samples_leaf=10, min_samples_split=5;, score=0.993 total time=   0.0s\n",
      "[CV 4/5] END class_weight=None, max_depth=5, min_samples_leaf=10, min_samples_split=5;, score=0.993 total time=   0.0s\n",
      "[CV 5/5] END class_weight=None, max_depth=5, min_samples_leaf=10, min_samples_split=5;, score=0.993 total time=   0.0s\n",
      "[CV 1/5] END class_weight=None, max_depth=5, min_samples_leaf=10, min_samples_split=10;, score=0.993 total time=   0.0s\n",
      "[CV 2/5] END class_weight=None, max_depth=5, min_samples_leaf=10, min_samples_split=10;, score=0.993 total time=   0.0s\n",
      "[CV 3/5] END class_weight=None, max_depth=5, min_samples_leaf=10, min_samples_split=10;, score=0.993 total time=   0.0s\n",
      "[CV 4/5] END class_weight=None, max_depth=5, min_samples_leaf=10, min_samples_split=10;, score=0.993 total time=   0.0s\n",
      "[CV 5/5] END class_weight=None, max_depth=5, min_samples_leaf=10, min_samples_split=10;, score=0.993 total time=   0.0s\n",
      "[CV 1/5] END class_weight=balanced, max_depth=None, min_samples_leaf=1, min_samples_split=1;, score=nan total time=   0.0s\n",
      "[CV 2/5] END class_weight=balanced, max_depth=None, min_samples_leaf=1, min_samples_split=1;, score=nan total time=   0.0s\n",
      "[CV 3/5] END class_weight=balanced, max_depth=None, min_samples_leaf=1, min_samples_split=1;, score=nan total time=   0.0s\n",
      "[CV 4/5] END class_weight=balanced, max_depth=None, min_samples_leaf=1, min_samples_split=1;, score=nan total time=   0.0s\n",
      "[CV 5/5] END class_weight=balanced, max_depth=None, min_samples_leaf=1, min_samples_split=1;, score=nan total time=   0.0s\n",
      "[CV 1/5] END class_weight=balanced, max_depth=None, min_samples_leaf=1, min_samples_split=5;, score=0.874 total time=   0.0s\n",
      "[CV 2/5] END class_weight=balanced, max_depth=None, min_samples_leaf=1, min_samples_split=5;, score=0.876 total time=   0.0s\n",
      "[CV 3/5] END class_weight=balanced, max_depth=None, min_samples_leaf=1, min_samples_split=5;, score=0.880 total time=   0.0s\n",
      "[CV 4/5] END class_weight=balanced, max_depth=None, min_samples_leaf=1, min_samples_split=5;, score=0.881 total time=   0.0s\n",
      "[CV 5/5] END class_weight=balanced, max_depth=None, min_samples_leaf=1, min_samples_split=5;, score=0.870 total time=   0.0s\n",
      "[CV 1/5] END class_weight=balanced, max_depth=None, min_samples_leaf=1, min_samples_split=10;, score=0.874 total time=   0.0s\n",
      "[CV 2/5] END class_weight=balanced, max_depth=None, min_samples_leaf=1, min_samples_split=10;, score=0.876 total time=   0.0s\n",
      "[CV 3/5] END class_weight=balanced, max_depth=None, min_samples_leaf=1, min_samples_split=10;, score=0.880 total time=   0.0s\n",
      "[CV 4/5] END class_weight=balanced, max_depth=None, min_samples_leaf=1, min_samples_split=10;, score=0.881 total time=   0.0s\n",
      "[CV 5/5] END class_weight=balanced, max_depth=None, min_samples_leaf=1, min_samples_split=10;, score=0.870 total time=   0.0s\n",
      "[CV 1/5] END class_weight=balanced, max_depth=None, min_samples_leaf=5, min_samples_split=1;, score=nan total time=   0.0s\n",
      "[CV 2/5] END class_weight=balanced, max_depth=None, min_samples_leaf=5, min_samples_split=1;, score=nan total time=   0.0s\n",
      "[CV 3/5] END class_weight=balanced, max_depth=None, min_samples_leaf=5, min_samples_split=1;, score=nan total time=   0.0s\n",
      "[CV 4/5] END class_weight=balanced, max_depth=None, min_samples_leaf=5, min_samples_split=1;, score=nan total time=   0.0s\n",
      "[CV 5/5] END class_weight=balanced, max_depth=None, min_samples_leaf=5, min_samples_split=1;, score=nan total time=   0.0s\n",
      "[CV 1/5] END class_weight=balanced, max_depth=None, min_samples_leaf=5, min_samples_split=5;, score=0.874 total time=   0.0s\n",
      "[CV 2/5] END class_weight=balanced, max_depth=None, min_samples_leaf=5, min_samples_split=5;, score=0.876 total time=   0.0s\n",
      "[CV 3/5] END class_weight=balanced, max_depth=None, min_samples_leaf=5, min_samples_split=5;, score=0.880 total time=   0.0s\n",
      "[CV 4/5] END class_weight=balanced, max_depth=None, min_samples_leaf=5, min_samples_split=5;, score=0.881 total time=   0.0s\n",
      "[CV 5/5] END class_weight=balanced, max_depth=None, min_samples_leaf=5, min_samples_split=5;, score=0.870 total time=   0.0s\n",
      "[CV 1/5] END class_weight=balanced, max_depth=None, min_samples_leaf=5, min_samples_split=10;, score=0.874 total time=   0.0s\n",
      "[CV 2/5] END class_weight=balanced, max_depth=None, min_samples_leaf=5, min_samples_split=10;, score=0.876 total time=   0.0s\n",
      "[CV 3/5] END class_weight=balanced, max_depth=None, min_samples_leaf=5, min_samples_split=10;, score=0.880 total time=   0.0s\n",
      "[CV 4/5] END class_weight=balanced, max_depth=None, min_samples_leaf=5, min_samples_split=10;, score=0.881 total time=   0.0s\n",
      "[CV 5/5] END class_weight=balanced, max_depth=None, min_samples_leaf=5, min_samples_split=10;, score=0.870 total time=   0.0s\n",
      "[CV 1/5] END class_weight=balanced, max_depth=None, min_samples_leaf=10, min_samples_split=1;, score=nan total time=   0.0s\n",
      "[CV 2/5] END class_weight=balanced, max_depth=None, min_samples_leaf=10, min_samples_split=1;, score=nan total time=   0.0s\n",
      "[CV 3/5] END class_weight=balanced, max_depth=None, min_samples_leaf=10, min_samples_split=1;, score=nan total time=   0.0s\n",
      "[CV 4/5] END class_weight=balanced, max_depth=None, min_samples_leaf=10, min_samples_split=1;, score=nan total time=   0.0s\n",
      "[CV 5/5] END class_weight=balanced, max_depth=None, min_samples_leaf=10, min_samples_split=1;, score=nan total time=   0.0s\n",
      "[CV 1/5] END class_weight=balanced, max_depth=None, min_samples_leaf=10, min_samples_split=5;, score=0.874 total time=   0.0s\n",
      "[CV 2/5] END class_weight=balanced, max_depth=None, min_samples_leaf=10, min_samples_split=5;, score=0.876 total time=   0.0s\n",
      "[CV 3/5] END class_weight=balanced, max_depth=None, min_samples_leaf=10, min_samples_split=5;, score=0.880 total time=   0.0s\n",
      "[CV 4/5] END class_weight=balanced, max_depth=None, min_samples_leaf=10, min_samples_split=5;, score=0.880 total time=   0.0s\n",
      "[CV 5/5] END class_weight=balanced, max_depth=None, min_samples_leaf=10, min_samples_split=5;, score=0.870 total time=   0.0s\n",
      "[CV 1/5] END class_weight=balanced, max_depth=None, min_samples_leaf=10, min_samples_split=10;, score=0.874 total time=   0.0s\n",
      "[CV 2/5] END class_weight=balanced, max_depth=None, min_samples_leaf=10, min_samples_split=10;, score=0.876 total time=   0.0s\n",
      "[CV 3/5] END class_weight=balanced, max_depth=None, min_samples_leaf=10, min_samples_split=10;, score=0.880 total time=   0.0s\n",
      "[CV 4/5] END class_weight=balanced, max_depth=None, min_samples_leaf=10, min_samples_split=10;, score=0.880 total time=   0.0s\n",
      "[CV 5/5] END class_weight=balanced, max_depth=None, min_samples_leaf=10, min_samples_split=10;, score=0.870 total time=   0.0s\n",
      "[CV 1/5] END class_weight=balanced, max_depth=1, min_samples_leaf=1, min_samples_split=1;, score=nan total time=   0.0s\n",
      "[CV 2/5] END class_weight=balanced, max_depth=1, min_samples_leaf=1, min_samples_split=1;, score=nan total time=   0.0s\n",
      "[CV 3/5] END class_weight=balanced, max_depth=1, min_samples_leaf=1, min_samples_split=1;, score=nan total time=   0.0s\n",
      "[CV 4/5] END class_weight=balanced, max_depth=1, min_samples_leaf=1, min_samples_split=1;, score=nan total time=   0.0s\n",
      "[CV 5/5] END class_weight=balanced, max_depth=1, min_samples_leaf=1, min_samples_split=1;, score=nan total time=   0.0s\n",
      "[CV 1/5] END class_weight=balanced, max_depth=1, min_samples_leaf=1, min_samples_split=5;, score=0.907 total time=   0.0s\n",
      "[CV 2/5] END class_weight=balanced, max_depth=1, min_samples_leaf=1, min_samples_split=5;, score=0.916 total time=   0.0s\n",
      "[CV 3/5] END class_weight=balanced, max_depth=1, min_samples_leaf=1, min_samples_split=5;, score=0.919 total time=   0.0s\n",
      "[CV 4/5] END class_weight=balanced, max_depth=1, min_samples_leaf=1, min_samples_split=5;, score=0.934 total time=   0.0s\n",
      "[CV 5/5] END class_weight=balanced, max_depth=1, min_samples_leaf=1, min_samples_split=5;, score=0.926 total time=   0.0s\n",
      "[CV 1/5] END class_weight=balanced, max_depth=1, min_samples_leaf=1, min_samples_split=10;, score=0.907 total time=   0.0s\n",
      "[CV 2/5] END class_weight=balanced, max_depth=1, min_samples_leaf=1, min_samples_split=10;, score=0.916 total time=   0.0s\n",
      "[CV 3/5] END class_weight=balanced, max_depth=1, min_samples_leaf=1, min_samples_split=10;, score=0.919 total time=   0.0s\n",
      "[CV 4/5] END class_weight=balanced, max_depth=1, min_samples_leaf=1, min_samples_split=10;, score=0.934 total time=   0.0s\n",
      "[CV 5/5] END class_weight=balanced, max_depth=1, min_samples_leaf=1, min_samples_split=10;, score=0.926 total time=   0.0s\n",
      "[CV 1/5] END class_weight=balanced, max_depth=1, min_samples_leaf=5, min_samples_split=1;, score=nan total time=   0.0s\n",
      "[CV 2/5] END class_weight=balanced, max_depth=1, min_samples_leaf=5, min_samples_split=1;, score=nan total time=   0.0s\n",
      "[CV 3/5] END class_weight=balanced, max_depth=1, min_samples_leaf=5, min_samples_split=1;, score=nan total time=   0.0s\n",
      "[CV 4/5] END class_weight=balanced, max_depth=1, min_samples_leaf=5, min_samples_split=1;, score=nan total time=   0.0s\n",
      "[CV 5/5] END class_weight=balanced, max_depth=1, min_samples_leaf=5, min_samples_split=1;, score=nan total time=   0.0s\n",
      "[CV 1/5] END class_weight=balanced, max_depth=1, min_samples_leaf=5, min_samples_split=5;, score=0.907 total time=   0.0s\n",
      "[CV 2/5] END class_weight=balanced, max_depth=1, min_samples_leaf=5, min_samples_split=5;, score=0.916 total time=   0.0s\n",
      "[CV 3/5] END class_weight=balanced, max_depth=1, min_samples_leaf=5, min_samples_split=5;, score=0.919 total time=   0.0s\n",
      "[CV 4/5] END class_weight=balanced, max_depth=1, min_samples_leaf=5, min_samples_split=5;, score=0.934 total time=   0.0s\n",
      "[CV 5/5] END class_weight=balanced, max_depth=1, min_samples_leaf=5, min_samples_split=5;, score=0.926 total time=   0.0s\n",
      "[CV 1/5] END class_weight=balanced, max_depth=1, min_samples_leaf=5, min_samples_split=10;, score=0.907 total time=   0.0s\n",
      "[CV 2/5] END class_weight=balanced, max_depth=1, min_samples_leaf=5, min_samples_split=10;, score=0.916 total time=   0.0s\n",
      "[CV 3/5] END class_weight=balanced, max_depth=1, min_samples_leaf=5, min_samples_split=10;, score=0.919 total time=   0.0s\n",
      "[CV 4/5] END class_weight=balanced, max_depth=1, min_samples_leaf=5, min_samples_split=10;, score=0.934 total time=   0.0s\n",
      "[CV 5/5] END class_weight=balanced, max_depth=1, min_samples_leaf=5, min_samples_split=10;, score=0.926 total time=   0.0s\n",
      "[CV 1/5] END class_weight=balanced, max_depth=1, min_samples_leaf=10, min_samples_split=1;, score=nan total time=   0.0s\n",
      "[CV 2/5] END class_weight=balanced, max_depth=1, min_samples_leaf=10, min_samples_split=1;, score=nan total time=   0.0s\n",
      "[CV 3/5] END class_weight=balanced, max_depth=1, min_samples_leaf=10, min_samples_split=1;, score=nan total time=   0.0s\n",
      "[CV 4/5] END class_weight=balanced, max_depth=1, min_samples_leaf=10, min_samples_split=1;, score=nan total time=   0.0s\n",
      "[CV 5/5] END class_weight=balanced, max_depth=1, min_samples_leaf=10, min_samples_split=1;, score=nan total time=   0.0s\n",
      "[CV 1/5] END class_weight=balanced, max_depth=1, min_samples_leaf=10, min_samples_split=5;, score=0.907 total time=   0.0s\n",
      "[CV 2/5] END class_weight=balanced, max_depth=1, min_samples_leaf=10, min_samples_split=5;, score=0.916 total time=   0.0s\n",
      "[CV 3/5] END class_weight=balanced, max_depth=1, min_samples_leaf=10, min_samples_split=5;, score=0.919 total time=   0.1s\n",
      "[CV 4/5] END class_weight=balanced, max_depth=1, min_samples_leaf=10, min_samples_split=5;, score=0.934 total time=   0.0s\n",
      "[CV 5/5] END class_weight=balanced, max_depth=1, min_samples_leaf=10, min_samples_split=5;, score=0.926 total time=   0.0s\n",
      "[CV 1/5] END class_weight=balanced, max_depth=1, min_samples_leaf=10, min_samples_split=10;, score=0.907 total time=   0.0s\n",
      "[CV 2/5] END class_weight=balanced, max_depth=1, min_samples_leaf=10, min_samples_split=10;, score=0.916 total time=   0.0s\n",
      "[CV 3/5] END class_weight=balanced, max_depth=1, min_samples_leaf=10, min_samples_split=10;, score=0.919 total time=   0.0s\n",
      "[CV 4/5] END class_weight=balanced, max_depth=1, min_samples_leaf=10, min_samples_split=10;, score=0.934 total time=   0.0s\n",
      "[CV 5/5] END class_weight=balanced, max_depth=1, min_samples_leaf=10, min_samples_split=10;, score=0.926 total time=   0.0s\n",
      "[CV 1/5] END class_weight=balanced, max_depth=2, min_samples_leaf=1, min_samples_split=1;, score=nan total time=   0.0s\n",
      "[CV 2/5] END class_weight=balanced, max_depth=2, min_samples_leaf=1, min_samples_split=1;, score=nan total time=   0.0s\n",
      "[CV 3/5] END class_weight=balanced, max_depth=2, min_samples_leaf=1, min_samples_split=1;, score=nan total time=   0.0s\n",
      "[CV 4/5] END class_weight=balanced, max_depth=2, min_samples_leaf=1, min_samples_split=1;, score=nan total time=   0.0s\n",
      "[CV 5/5] END class_weight=balanced, max_depth=2, min_samples_leaf=1, min_samples_split=1;, score=nan total time=   0.0s\n",
      "[CV 1/5] END class_weight=balanced, max_depth=2, min_samples_leaf=1, min_samples_split=5;, score=0.907 total time=   0.0s\n",
      "[CV 2/5] END class_weight=balanced, max_depth=2, min_samples_leaf=1, min_samples_split=5;, score=0.916 total time=   0.0s\n",
      "[CV 3/5] END class_weight=balanced, max_depth=2, min_samples_leaf=1, min_samples_split=5;, score=0.919 total time=   0.0s\n",
      "[CV 4/5] END class_weight=balanced, max_depth=2, min_samples_leaf=1, min_samples_split=5;, score=0.934 total time=   0.0s\n",
      "[CV 5/5] END class_weight=balanced, max_depth=2, min_samples_leaf=1, min_samples_split=5;, score=0.926 total time=   0.0s\n",
      "[CV 1/5] END class_weight=balanced, max_depth=2, min_samples_leaf=1, min_samples_split=10;, score=0.907 total time=   0.0s\n",
      "[CV 2/5] END class_weight=balanced, max_depth=2, min_samples_leaf=1, min_samples_split=10;, score=0.916 total time=   0.0s\n",
      "[CV 3/5] END class_weight=balanced, max_depth=2, min_samples_leaf=1, min_samples_split=10;, score=0.919 total time=   0.0s\n",
      "[CV 4/5] END class_weight=balanced, max_depth=2, min_samples_leaf=1, min_samples_split=10;, score=0.934 total time=   0.0s\n",
      "[CV 5/5] END class_weight=balanced, max_depth=2, min_samples_leaf=1, min_samples_split=10;, score=0.926 total time=   0.0s\n",
      "[CV 1/5] END class_weight=balanced, max_depth=2, min_samples_leaf=5, min_samples_split=1;, score=nan total time=   0.0s\n",
      "[CV 2/5] END class_weight=balanced, max_depth=2, min_samples_leaf=5, min_samples_split=1;, score=nan total time=   0.0s\n",
      "[CV 3/5] END class_weight=balanced, max_depth=2, min_samples_leaf=5, min_samples_split=1;, score=nan total time=   0.0s\n",
      "[CV 4/5] END class_weight=balanced, max_depth=2, min_samples_leaf=5, min_samples_split=1;, score=nan total time=   0.0s\n",
      "[CV 5/5] END class_weight=balanced, max_depth=2, min_samples_leaf=5, min_samples_split=1;, score=nan total time=   0.0s\n",
      "[CV 1/5] END class_weight=balanced, max_depth=2, min_samples_leaf=5, min_samples_split=5;, score=0.907 total time=   0.0s\n",
      "[CV 2/5] END class_weight=balanced, max_depth=2, min_samples_leaf=5, min_samples_split=5;, score=0.916 total time=   0.0s\n",
      "[CV 3/5] END class_weight=balanced, max_depth=2, min_samples_leaf=5, min_samples_split=5;, score=0.919 total time=   0.0s\n",
      "[CV 4/5] END class_weight=balanced, max_depth=2, min_samples_leaf=5, min_samples_split=5;, score=0.934 total time=   0.0s\n",
      "[CV 5/5] END class_weight=balanced, max_depth=2, min_samples_leaf=5, min_samples_split=5;, score=0.926 total time=   0.0s\n",
      "[CV 1/5] END class_weight=balanced, max_depth=2, min_samples_leaf=5, min_samples_split=10;, score=0.907 total time=   0.0s\n",
      "[CV 2/5] END class_weight=balanced, max_depth=2, min_samples_leaf=5, min_samples_split=10;, score=0.916 total time=   0.0s\n",
      "[CV 3/5] END class_weight=balanced, max_depth=2, min_samples_leaf=5, min_samples_split=10;, score=0.919 total time=   0.0s\n",
      "[CV 4/5] END class_weight=balanced, max_depth=2, min_samples_leaf=5, min_samples_split=10;, score=0.934 total time=   0.0s\n",
      "[CV 5/5] END class_weight=balanced, max_depth=2, min_samples_leaf=5, min_samples_split=10;, score=0.926 total time=   0.0s\n",
      "[CV 1/5] END class_weight=balanced, max_depth=2, min_samples_leaf=10, min_samples_split=1;, score=nan total time=   0.0s\n",
      "[CV 2/5] END class_weight=balanced, max_depth=2, min_samples_leaf=10, min_samples_split=1;, score=nan total time=   0.0s\n",
      "[CV 3/5] END class_weight=balanced, max_depth=2, min_samples_leaf=10, min_samples_split=1;, score=nan total time=   0.0s\n",
      "[CV 4/5] END class_weight=balanced, max_depth=2, min_samples_leaf=10, min_samples_split=1;, score=nan total time=   0.0s\n",
      "[CV 5/5] END class_weight=balanced, max_depth=2, min_samples_leaf=10, min_samples_split=1;, score=nan total time=   0.0s\n",
      "[CV 1/5] END class_weight=balanced, max_depth=2, min_samples_leaf=10, min_samples_split=5;, score=0.907 total time=   0.0s\n",
      "[CV 2/5] END class_weight=balanced, max_depth=2, min_samples_leaf=10, min_samples_split=5;, score=0.916 total time=   0.0s\n",
      "[CV 3/5] END class_weight=balanced, max_depth=2, min_samples_leaf=10, min_samples_split=5;, score=0.919 total time=   0.0s\n",
      "[CV 4/5] END class_weight=balanced, max_depth=2, min_samples_leaf=10, min_samples_split=5;, score=0.934 total time=   0.0s\n",
      "[CV 5/5] END class_weight=balanced, max_depth=2, min_samples_leaf=10, min_samples_split=5;, score=0.926 total time=   0.0s\n",
      "[CV 1/5] END class_weight=balanced, max_depth=2, min_samples_leaf=10, min_samples_split=10;, score=0.907 total time=   0.0s\n",
      "[CV 2/5] END class_weight=balanced, max_depth=2, min_samples_leaf=10, min_samples_split=10;, score=0.916 total time=   0.0s\n",
      "[CV 3/5] END class_weight=balanced, max_depth=2, min_samples_leaf=10, min_samples_split=10;, score=0.919 total time=   0.0s\n",
      "[CV 4/5] END class_weight=balanced, max_depth=2, min_samples_leaf=10, min_samples_split=10;, score=0.934 total time=   0.0s\n",
      "[CV 5/5] END class_weight=balanced, max_depth=2, min_samples_leaf=10, min_samples_split=10;, score=0.926 total time=   0.0s\n",
      "[CV 1/5] END class_weight=balanced, max_depth=3, min_samples_leaf=1, min_samples_split=1;, score=nan total time=   0.0s\n",
      "[CV 2/5] END class_weight=balanced, max_depth=3, min_samples_leaf=1, min_samples_split=1;, score=nan total time=   0.0s\n",
      "[CV 3/5] END class_weight=balanced, max_depth=3, min_samples_leaf=1, min_samples_split=1;, score=nan total time=   0.0s\n",
      "[CV 4/5] END class_weight=balanced, max_depth=3, min_samples_leaf=1, min_samples_split=1;, score=nan total time=   0.0s\n",
      "[CV 5/5] END class_weight=balanced, max_depth=3, min_samples_leaf=1, min_samples_split=1;, score=nan total time=   0.0s\n",
      "[CV 1/5] END class_weight=balanced, max_depth=3, min_samples_leaf=1, min_samples_split=5;, score=0.910 total time=   0.0s\n",
      "[CV 2/5] END class_weight=balanced, max_depth=3, min_samples_leaf=1, min_samples_split=5;, score=0.919 total time=   0.0s\n",
      "[CV 3/5] END class_weight=balanced, max_depth=3, min_samples_leaf=1, min_samples_split=5;, score=0.920 total time=   0.0s\n",
      "[CV 4/5] END class_weight=balanced, max_depth=3, min_samples_leaf=1, min_samples_split=5;, score=0.953 total time=   0.0s\n",
      "[CV 5/5] END class_weight=balanced, max_depth=3, min_samples_leaf=1, min_samples_split=5;, score=0.757 total time=   0.0s\n",
      "[CV 1/5] END class_weight=balanced, max_depth=3, min_samples_leaf=1, min_samples_split=10;, score=0.910 total time=   0.0s\n",
      "[CV 2/5] END class_weight=balanced, max_depth=3, min_samples_leaf=1, min_samples_split=10;, score=0.919 total time=   0.0s\n",
      "[CV 3/5] END class_weight=balanced, max_depth=3, min_samples_leaf=1, min_samples_split=10;, score=0.920 total time=   0.0s\n",
      "[CV 4/5] END class_weight=balanced, max_depth=3, min_samples_leaf=1, min_samples_split=10;, score=0.953 total time=   0.0s\n",
      "[CV 5/5] END class_weight=balanced, max_depth=3, min_samples_leaf=1, min_samples_split=10;, score=0.757 total time=   0.0s\n",
      "[CV 1/5] END class_weight=balanced, max_depth=3, min_samples_leaf=5, min_samples_split=1;, score=nan total time=   0.0s\n",
      "[CV 2/5] END class_weight=balanced, max_depth=3, min_samples_leaf=5, min_samples_split=1;, score=nan total time=   0.0s\n",
      "[CV 3/5] END class_weight=balanced, max_depth=3, min_samples_leaf=5, min_samples_split=1;, score=nan total time=   0.0s\n",
      "[CV 4/5] END class_weight=balanced, max_depth=3, min_samples_leaf=5, min_samples_split=1;, score=nan total time=   0.0s\n",
      "[CV 5/5] END class_weight=balanced, max_depth=3, min_samples_leaf=5, min_samples_split=1;, score=nan total time=   0.0s\n",
      "[CV 1/5] END class_weight=balanced, max_depth=3, min_samples_leaf=5, min_samples_split=5;, score=0.910 total time=   0.0s\n",
      "[CV 2/5] END class_weight=balanced, max_depth=3, min_samples_leaf=5, min_samples_split=5;, score=0.919 total time=   0.0s\n",
      "[CV 3/5] END class_weight=balanced, max_depth=3, min_samples_leaf=5, min_samples_split=5;, score=0.920 total time=   0.0s\n",
      "[CV 4/5] END class_weight=balanced, max_depth=3, min_samples_leaf=5, min_samples_split=5;, score=0.953 total time=   0.0s\n",
      "[CV 5/5] END class_weight=balanced, max_depth=3, min_samples_leaf=5, min_samples_split=5;, score=0.757 total time=   0.0s\n",
      "[CV 1/5] END class_weight=balanced, max_depth=3, min_samples_leaf=5, min_samples_split=10;, score=0.910 total time=   0.0s\n",
      "[CV 2/5] END class_weight=balanced, max_depth=3, min_samples_leaf=5, min_samples_split=10;, score=0.919 total time=   0.0s\n",
      "[CV 3/5] END class_weight=balanced, max_depth=3, min_samples_leaf=5, min_samples_split=10;, score=0.920 total time=   0.0s\n",
      "[CV 4/5] END class_weight=balanced, max_depth=3, min_samples_leaf=5, min_samples_split=10;, score=0.953 total time=   0.0s\n",
      "[CV 5/5] END class_weight=balanced, max_depth=3, min_samples_leaf=5, min_samples_split=10;, score=0.757 total time=   0.0s\n",
      "[CV 1/5] END class_weight=balanced, max_depth=3, min_samples_leaf=10, min_samples_split=1;, score=nan total time=   0.0s\n",
      "[CV 2/5] END class_weight=balanced, max_depth=3, min_samples_leaf=10, min_samples_split=1;, score=nan total time=   0.0s\n",
      "[CV 3/5] END class_weight=balanced, max_depth=3, min_samples_leaf=10, min_samples_split=1;, score=nan total time=   0.0s\n",
      "[CV 4/5] END class_weight=balanced, max_depth=3, min_samples_leaf=10, min_samples_split=1;, score=nan total time=   0.0s\n",
      "[CV 5/5] END class_weight=balanced, max_depth=3, min_samples_leaf=10, min_samples_split=1;, score=nan total time=   0.0s\n",
      "[CV 1/5] END class_weight=balanced, max_depth=3, min_samples_leaf=10, min_samples_split=5;, score=0.910 total time=   0.0s\n",
      "[CV 2/5] END class_weight=balanced, max_depth=3, min_samples_leaf=10, min_samples_split=5;, score=0.919 total time=   0.0s\n",
      "[CV 3/5] END class_weight=balanced, max_depth=3, min_samples_leaf=10, min_samples_split=5;, score=0.920 total time=   0.0s\n",
      "[CV 4/5] END class_weight=balanced, max_depth=3, min_samples_leaf=10, min_samples_split=5;, score=0.953 total time=   0.0s\n",
      "[CV 5/5] END class_weight=balanced, max_depth=3, min_samples_leaf=10, min_samples_split=5;, score=0.757 total time=   0.0s\n",
      "[CV 1/5] END class_weight=balanced, max_depth=3, min_samples_leaf=10, min_samples_split=10;, score=0.910 total time=   0.0s\n",
      "[CV 2/5] END class_weight=balanced, max_depth=3, min_samples_leaf=10, min_samples_split=10;, score=0.919 total time=   0.0s\n",
      "[CV 3/5] END class_weight=balanced, max_depth=3, min_samples_leaf=10, min_samples_split=10;, score=0.920 total time=   0.0s\n",
      "[CV 4/5] END class_weight=balanced, max_depth=3, min_samples_leaf=10, min_samples_split=10;, score=0.953 total time=   0.0s\n",
      "[CV 5/5] END class_weight=balanced, max_depth=3, min_samples_leaf=10, min_samples_split=10;, score=0.757 total time=   0.0s\n",
      "[CV 1/5] END class_weight=balanced, max_depth=4, min_samples_leaf=1, min_samples_split=1;, score=nan total time=   0.0s\n",
      "[CV 2/5] END class_weight=balanced, max_depth=4, min_samples_leaf=1, min_samples_split=1;, score=nan total time=   0.0s\n",
      "[CV 3/5] END class_weight=balanced, max_depth=4, min_samples_leaf=1, min_samples_split=1;, score=nan total time=   0.0s\n",
      "[CV 4/5] END class_weight=balanced, max_depth=4, min_samples_leaf=1, min_samples_split=1;, score=nan total time=   0.0s\n",
      "[CV 5/5] END class_weight=balanced, max_depth=4, min_samples_leaf=1, min_samples_split=1;, score=nan total time=   0.0s\n",
      "[CV 1/5] END class_weight=balanced, max_depth=4, min_samples_leaf=1, min_samples_split=5;, score=0.763 total time=   0.0s\n",
      "[CV 2/5] END class_weight=balanced, max_depth=4, min_samples_leaf=1, min_samples_split=5;, score=0.894 total time=   0.0s\n",
      "[CV 3/5] END class_weight=balanced, max_depth=4, min_samples_leaf=1, min_samples_split=5;, score=0.901 total time=   0.0s\n",
      "[CV 4/5] END class_weight=balanced, max_depth=4, min_samples_leaf=1, min_samples_split=5;, score=0.917 total time=   0.0s\n",
      "[CV 5/5] END class_weight=balanced, max_depth=4, min_samples_leaf=1, min_samples_split=5;, score=0.880 total time=   0.0s\n",
      "[CV 1/5] END class_weight=balanced, max_depth=4, min_samples_leaf=1, min_samples_split=10;, score=0.763 total time=   0.0s\n",
      "[CV 2/5] END class_weight=balanced, max_depth=4, min_samples_leaf=1, min_samples_split=10;, score=0.894 total time=   0.0s\n",
      "[CV 3/5] END class_weight=balanced, max_depth=4, min_samples_leaf=1, min_samples_split=10;, score=0.901 total time=   0.0s\n",
      "[CV 4/5] END class_weight=balanced, max_depth=4, min_samples_leaf=1, min_samples_split=10;, score=0.917 total time=   0.0s\n",
      "[CV 5/5] END class_weight=balanced, max_depth=4, min_samples_leaf=1, min_samples_split=10;, score=0.880 total time=   0.0s\n",
      "[CV 1/5] END class_weight=balanced, max_depth=4, min_samples_leaf=5, min_samples_split=1;, score=nan total time=   0.0s\n",
      "[CV 2/5] END class_weight=balanced, max_depth=4, min_samples_leaf=5, min_samples_split=1;, score=nan total time=   0.0s\n",
      "[CV 3/5] END class_weight=balanced, max_depth=4, min_samples_leaf=5, min_samples_split=1;, score=nan total time=   0.0s\n",
      "[CV 4/5] END class_weight=balanced, max_depth=4, min_samples_leaf=5, min_samples_split=1;, score=nan total time=   0.0s\n",
      "[CV 5/5] END class_weight=balanced, max_depth=4, min_samples_leaf=5, min_samples_split=1;, score=nan total time=   0.0s\n",
      "[CV 1/5] END class_weight=balanced, max_depth=4, min_samples_leaf=5, min_samples_split=5;, score=0.763 total time=   0.0s\n",
      "[CV 2/5] END class_weight=balanced, max_depth=4, min_samples_leaf=5, min_samples_split=5;, score=0.894 total time=   0.0s\n",
      "[CV 3/5] END class_weight=balanced, max_depth=4, min_samples_leaf=5, min_samples_split=5;, score=0.901 total time=   0.0s\n",
      "[CV 4/5] END class_weight=balanced, max_depth=4, min_samples_leaf=5, min_samples_split=5;, score=0.917 total time=   0.0s\n",
      "[CV 5/5] END class_weight=balanced, max_depth=4, min_samples_leaf=5, min_samples_split=5;, score=0.880 total time=   0.0s\n",
      "[CV 1/5] END class_weight=balanced, max_depth=4, min_samples_leaf=5, min_samples_split=10;, score=0.763 total time=   0.0s\n",
      "[CV 2/5] END class_weight=balanced, max_depth=4, min_samples_leaf=5, min_samples_split=10;, score=0.894 total time=   0.0s\n",
      "[CV 3/5] END class_weight=balanced, max_depth=4, min_samples_leaf=5, min_samples_split=10;, score=0.901 total time=   0.0s\n",
      "[CV 4/5] END class_weight=balanced, max_depth=4, min_samples_leaf=5, min_samples_split=10;, score=0.917 total time=   0.0s\n",
      "[CV 5/5] END class_weight=balanced, max_depth=4, min_samples_leaf=5, min_samples_split=10;, score=0.880 total time=   0.0s\n",
      "[CV 1/5] END class_weight=balanced, max_depth=4, min_samples_leaf=10, min_samples_split=1;, score=nan total time=   0.0s\n",
      "[CV 2/5] END class_weight=balanced, max_depth=4, min_samples_leaf=10, min_samples_split=1;, score=nan total time=   0.0s\n",
      "[CV 3/5] END class_weight=balanced, max_depth=4, min_samples_leaf=10, min_samples_split=1;, score=nan total time=   0.0s\n",
      "[CV 4/5] END class_weight=balanced, max_depth=4, min_samples_leaf=10, min_samples_split=1;, score=nan total time=   0.0s\n",
      "[CV 5/5] END class_weight=balanced, max_depth=4, min_samples_leaf=10, min_samples_split=1;, score=nan total time=   0.0s\n",
      "[CV 1/5] END class_weight=balanced, max_depth=4, min_samples_leaf=10, min_samples_split=5;, score=0.763 total time=   0.0s\n",
      "[CV 2/5] END class_weight=balanced, max_depth=4, min_samples_leaf=10, min_samples_split=5;, score=0.894 total time=   0.0s\n",
      "[CV 3/5] END class_weight=balanced, max_depth=4, min_samples_leaf=10, min_samples_split=5;, score=0.901 total time=   0.0s\n",
      "[CV 4/5] END class_weight=balanced, max_depth=4, min_samples_leaf=10, min_samples_split=5;, score=0.916 total time=   0.0s\n",
      "[CV 5/5] END class_weight=balanced, max_depth=4, min_samples_leaf=10, min_samples_split=5;, score=0.880 total time=   0.0s\n",
      "[CV 1/5] END class_weight=balanced, max_depth=4, min_samples_leaf=10, min_samples_split=10;, score=0.763 total time=   0.0s\n",
      "[CV 2/5] END class_weight=balanced, max_depth=4, min_samples_leaf=10, min_samples_split=10;, score=0.894 total time=   0.0s\n",
      "[CV 3/5] END class_weight=balanced, max_depth=4, min_samples_leaf=10, min_samples_split=10;, score=0.901 total time=   0.0s\n",
      "[CV 4/5] END class_weight=balanced, max_depth=4, min_samples_leaf=10, min_samples_split=10;, score=0.916 total time=   0.0s\n",
      "[CV 5/5] END class_weight=balanced, max_depth=4, min_samples_leaf=10, min_samples_split=10;, score=0.880 total time=   0.0s\n",
      "[CV 1/5] END class_weight=balanced, max_depth=5, min_samples_leaf=1, min_samples_split=1;, score=nan total time=   0.0s\n",
      "[CV 2/5] END class_weight=balanced, max_depth=5, min_samples_leaf=1, min_samples_split=1;, score=nan total time=   0.0s\n",
      "[CV 3/5] END class_weight=balanced, max_depth=5, min_samples_leaf=1, min_samples_split=1;, score=nan total time=   0.0s\n",
      "[CV 4/5] END class_weight=balanced, max_depth=5, min_samples_leaf=1, min_samples_split=1;, score=nan total time=   0.0s\n",
      "[CV 5/5] END class_weight=balanced, max_depth=5, min_samples_leaf=1, min_samples_split=1;, score=nan total time=   0.0s\n",
      "[CV 1/5] END class_weight=balanced, max_depth=5, min_samples_leaf=1, min_samples_split=5;, score=0.858 total time=   0.0s\n",
      "[CV 2/5] END class_weight=balanced, max_depth=5, min_samples_leaf=1, min_samples_split=5;, score=0.894 total time=   0.0s\n",
      "[CV 3/5] END class_weight=balanced, max_depth=5, min_samples_leaf=1, min_samples_split=5;, score=0.903 total time=   0.0s\n",
      "[CV 4/5] END class_weight=balanced, max_depth=5, min_samples_leaf=1, min_samples_split=5;, score=0.777 total time=   0.0s\n",
      "[CV 5/5] END class_weight=balanced, max_depth=5, min_samples_leaf=1, min_samples_split=5;, score=0.898 total time=   0.0s\n",
      "[CV 1/5] END class_weight=balanced, max_depth=5, min_samples_leaf=1, min_samples_split=10;, score=0.858 total time=   0.0s\n",
      "[CV 2/5] END class_weight=balanced, max_depth=5, min_samples_leaf=1, min_samples_split=10;, score=0.894 total time=   0.0s\n",
      "[CV 3/5] END class_weight=balanced, max_depth=5, min_samples_leaf=1, min_samples_split=10;, score=0.903 total time=   0.0s\n",
      "[CV 4/5] END class_weight=balanced, max_depth=5, min_samples_leaf=1, min_samples_split=10;, score=0.777 total time=   0.0s\n",
      "[CV 5/5] END class_weight=balanced, max_depth=5, min_samples_leaf=1, min_samples_split=10;, score=0.898 total time=   0.0s\n",
      "[CV 1/5] END class_weight=balanced, max_depth=5, min_samples_leaf=5, min_samples_split=1;, score=nan total time=   0.0s\n",
      "[CV 2/5] END class_weight=balanced, max_depth=5, min_samples_leaf=5, min_samples_split=1;, score=nan total time=   0.0s\n",
      "[CV 3/5] END class_weight=balanced, max_depth=5, min_samples_leaf=5, min_samples_split=1;, score=nan total time=   0.0s\n",
      "[CV 4/5] END class_weight=balanced, max_depth=5, min_samples_leaf=5, min_samples_split=1;, score=nan total time=   0.0s\n",
      "[CV 5/5] END class_weight=balanced, max_depth=5, min_samples_leaf=5, min_samples_split=1;, score=nan total time=   0.0s\n",
      "[CV 1/5] END class_weight=balanced, max_depth=5, min_samples_leaf=5, min_samples_split=5;, score=0.858 total time=   0.0s\n",
      "[CV 2/5] END class_weight=balanced, max_depth=5, min_samples_leaf=5, min_samples_split=5;, score=0.894 total time=   0.0s\n",
      "[CV 3/5] END class_weight=balanced, max_depth=5, min_samples_leaf=5, min_samples_split=5;, score=0.903 total time=   0.0s\n",
      "[CV 4/5] END class_weight=balanced, max_depth=5, min_samples_leaf=5, min_samples_split=5;, score=0.777 total time=   0.0s\n",
      "[CV 5/5] END class_weight=balanced, max_depth=5, min_samples_leaf=5, min_samples_split=5;, score=0.898 total time=   0.0s\n",
      "[CV 1/5] END class_weight=balanced, max_depth=5, min_samples_leaf=5, min_samples_split=10;, score=0.858 total time=   0.0s\n",
      "[CV 2/5] END class_weight=balanced, max_depth=5, min_samples_leaf=5, min_samples_split=10;, score=0.894 total time=   0.0s\n",
      "[CV 3/5] END class_weight=balanced, max_depth=5, min_samples_leaf=5, min_samples_split=10;, score=0.903 total time=   0.0s\n",
      "[CV 4/5] END class_weight=balanced, max_depth=5, min_samples_leaf=5, min_samples_split=10;, score=0.777 total time=   0.0s\n",
      "[CV 5/5] END class_weight=balanced, max_depth=5, min_samples_leaf=5, min_samples_split=10;, score=0.898 total time=   0.0s\n",
      "[CV 1/5] END class_weight=balanced, max_depth=5, min_samples_leaf=10, min_samples_split=1;, score=nan total time=   0.0s\n",
      "[CV 2/5] END class_weight=balanced, max_depth=5, min_samples_leaf=10, min_samples_split=1;, score=nan total time=   0.0s\n",
      "[CV 3/5] END class_weight=balanced, max_depth=5, min_samples_leaf=10, min_samples_split=1;, score=nan total time=   0.0s\n",
      "[CV 4/5] END class_weight=balanced, max_depth=5, min_samples_leaf=10, min_samples_split=1;, score=nan total time=   0.0s\n",
      "[CV 5/5] END class_weight=balanced, max_depth=5, min_samples_leaf=10, min_samples_split=1;, score=nan total time=   0.0s\n",
      "[CV 1/5] END class_weight=balanced, max_depth=5, min_samples_leaf=10, min_samples_split=5;, score=0.858 total time=   0.0s\n",
      "[CV 2/5] END class_weight=balanced, max_depth=5, min_samples_leaf=10, min_samples_split=5;, score=0.894 total time=   0.0s\n",
      "[CV 3/5] END class_weight=balanced, max_depth=5, min_samples_leaf=10, min_samples_split=5;, score=0.903 total time=   0.0s\n",
      "[CV 4/5] END class_weight=balanced, max_depth=5, min_samples_leaf=10, min_samples_split=5;, score=0.777 total time=   0.0s\n",
      "[CV 5/5] END class_weight=balanced, max_depth=5, min_samples_leaf=10, min_samples_split=5;, score=0.898 total time=   0.0s\n",
      "[CV 1/5] END class_weight=balanced, max_depth=5, min_samples_leaf=10, min_samples_split=10;, score=0.858 total time=   0.1s\n",
      "[CV 2/5] END class_weight=balanced, max_depth=5, min_samples_leaf=10, min_samples_split=10;, score=0.894 total time=   0.1s\n",
      "[CV 3/5] END class_weight=balanced, max_depth=5, min_samples_leaf=10, min_samples_split=10;, score=0.903 total time=   0.0s\n",
      "[CV 4/5] END class_weight=balanced, max_depth=5, min_samples_leaf=10, min_samples_split=10;, score=0.777 total time=   0.0s\n",
      "[CV 5/5] END class_weight=balanced, max_depth=5, min_samples_leaf=10, min_samples_split=10;, score=0.898 total time=   0.0s\n"
     ]
    },
    {
     "name": "stderr",
     "output_type": "stream",
     "text": [
      "C:\\Users\\jb5983on\\AppData\\Local\\anaconda3\\envs\\polars\\Lib\\site-packages\\sklearn\\model_selection\\_validation.py:540: FitFailedWarning: \n",
      "180 fits failed out of a total of 540.\n",
      "The score on these train-test partitions for these parameters will be set to nan.\n",
      "If these failures are not expected, you can try to debug them by setting error_score='raise'.\n",
      "\n",
      "Below are more details about the failures:\n",
      "--------------------------------------------------------------------------------\n",
      "180 fits failed with the following error:\n",
      "Traceback (most recent call last):\n",
      "  File \"C:\\Users\\jb5983on\\AppData\\Local\\anaconda3\\envs\\polars\\Lib\\site-packages\\sklearn\\model_selection\\_validation.py\", line 888, in _fit_and_score\n",
      "    estimator.fit(X_train, y_train, **fit_params)\n",
      "  File \"C:\\Users\\jb5983on\\AppData\\Local\\anaconda3\\envs\\polars\\Lib\\site-packages\\sklearn\\base.py\", line 1466, in wrapper\n",
      "    estimator._validate_params()\n",
      "  File \"C:\\Users\\jb5983on\\AppData\\Local\\anaconda3\\envs\\polars\\Lib\\site-packages\\sklearn\\base.py\", line 666, in _validate_params\n",
      "    validate_parameter_constraints(\n",
      "  File \"C:\\Users\\jb5983on\\AppData\\Local\\anaconda3\\envs\\polars\\Lib\\site-packages\\sklearn\\utils\\_param_validation.py\", line 95, in validate_parameter_constraints\n",
      "    raise InvalidParameterError(\n",
      "sklearn.utils._param_validation.InvalidParameterError: The 'min_samples_split' parameter of DecisionTreeClassifier must be an int in the range [2, inf) or a float in the range (0.0, 1.0]. Got 1 instead.\n",
      "\n",
      "  warnings.warn(some_fits_failed_message, FitFailedWarning)\n",
      "C:\\Users\\jb5983on\\AppData\\Local\\anaconda3\\envs\\polars\\Lib\\site-packages\\sklearn\\model_selection\\_search.py:1102: UserWarning: One or more of the test scores are non-finite: [       nan 0.99314505 0.99314505        nan 0.99314505 0.99314505\n",
      "        nan 0.99314505 0.99314505        nan 0.99314505 0.99314505\n",
      "        nan 0.99314505 0.99314505        nan 0.99314505 0.99314505\n",
      "        nan 0.99314505 0.99314505        nan 0.99314505 0.99314505\n",
      "        nan 0.99314505 0.99314505        nan 0.99314505 0.99314505\n",
      "        nan 0.99314505 0.99314505        nan 0.99314505 0.99314505\n",
      "        nan 0.99314505 0.99314505        nan 0.99314505 0.99314505\n",
      "        nan 0.99314505 0.99314505        nan 0.99314505 0.99314505\n",
      "        nan 0.99314505 0.99314505        nan 0.99314505 0.99314505\n",
      "        nan 0.87630156 0.87630156        nan 0.87630156 0.87630156\n",
      "        nan 0.87619846 0.87619846        nan 0.92042147 0.92042147\n",
      "        nan 0.92042147 0.92042147        nan 0.92042147 0.92042147\n",
      "        nan 0.92042147 0.92042147        nan 0.92042147 0.92042147\n",
      "        nan 0.92042147 0.92042147        nan 0.89165829 0.89165829\n",
      "        nan 0.89165829 0.89165829        nan 0.89165829 0.89165829\n",
      "        nan 0.87094551 0.87094551        nan 0.87094551 0.87094551\n",
      "        nan 0.87084242 0.87084242        nan 0.86583755 0.86583755\n",
      "        nan 0.86583755 0.86583755        nan 0.86573445 0.86573445]\n",
      "  warnings.warn(\n"
     ]
    },
    {
     "data": {
      "text/html": [
       "<style>#sk-container-id-5 {\n",
       "  /* Definition of color scheme common for light and dark mode */\n",
       "  --sklearn-color-text: black;\n",
       "  --sklearn-color-line: gray;\n",
       "  /* Definition of color scheme for unfitted estimators */\n",
       "  --sklearn-color-unfitted-level-0: #fff5e6;\n",
       "  --sklearn-color-unfitted-level-1: #f6e4d2;\n",
       "  --sklearn-color-unfitted-level-2: #ffe0b3;\n",
       "  --sklearn-color-unfitted-level-3: chocolate;\n",
       "  /* Definition of color scheme for fitted estimators */\n",
       "  --sklearn-color-fitted-level-0: #f0f8ff;\n",
       "  --sklearn-color-fitted-level-1: #d4ebff;\n",
       "  --sklearn-color-fitted-level-2: #b3dbfd;\n",
       "  --sklearn-color-fitted-level-3: cornflowerblue;\n",
       "\n",
       "  /* Specific color for light theme */\n",
       "  --sklearn-color-text-on-default-background: var(--sg-text-color, var(--theme-code-foreground, var(--jp-content-font-color1, black)));\n",
       "  --sklearn-color-background: var(--sg-background-color, var(--theme-background, var(--jp-layout-color0, white)));\n",
       "  --sklearn-color-border-box: var(--sg-text-color, var(--theme-code-foreground, var(--jp-content-font-color1, black)));\n",
       "  --sklearn-color-icon: #696969;\n",
       "\n",
       "  @media (prefers-color-scheme: dark) {\n",
       "    /* Redefinition of color scheme for dark theme */\n",
       "    --sklearn-color-text-on-default-background: var(--sg-text-color, var(--theme-code-foreground, var(--jp-content-font-color1, white)));\n",
       "    --sklearn-color-background: var(--sg-background-color, var(--theme-background, var(--jp-layout-color0, #111)));\n",
       "    --sklearn-color-border-box: var(--sg-text-color, var(--theme-code-foreground, var(--jp-content-font-color1, white)));\n",
       "    --sklearn-color-icon: #878787;\n",
       "  }\n",
       "}\n",
       "\n",
       "#sk-container-id-5 {\n",
       "  color: var(--sklearn-color-text);\n",
       "}\n",
       "\n",
       "#sk-container-id-5 pre {\n",
       "  padding: 0;\n",
       "}\n",
       "\n",
       "#sk-container-id-5 input.sk-hidden--visually {\n",
       "  border: 0;\n",
       "  clip: rect(1px 1px 1px 1px);\n",
       "  clip: rect(1px, 1px, 1px, 1px);\n",
       "  height: 1px;\n",
       "  margin: -1px;\n",
       "  overflow: hidden;\n",
       "  padding: 0;\n",
       "  position: absolute;\n",
       "  width: 1px;\n",
       "}\n",
       "\n",
       "#sk-container-id-5 div.sk-dashed-wrapped {\n",
       "  border: 1px dashed var(--sklearn-color-line);\n",
       "  margin: 0 0.4em 0.5em 0.4em;\n",
       "  box-sizing: border-box;\n",
       "  padding-bottom: 0.4em;\n",
       "  background-color: var(--sklearn-color-background);\n",
       "}\n",
       "\n",
       "#sk-container-id-5 div.sk-container {\n",
       "  /* jupyter's `normalize.less` sets `[hidden] { display: none; }`\n",
       "     but bootstrap.min.css set `[hidden] { display: none !important; }`\n",
       "     so we also need the `!important` here to be able to override the\n",
       "     default hidden behavior on the sphinx rendered scikit-learn.org.\n",
       "     See: https://github.com/scikit-learn/scikit-learn/issues/21755 */\n",
       "  display: inline-block !important;\n",
       "  position: relative;\n",
       "}\n",
       "\n",
       "#sk-container-id-5 div.sk-text-repr-fallback {\n",
       "  display: none;\n",
       "}\n",
       "\n",
       "div.sk-parallel-item,\n",
       "div.sk-serial,\n",
       "div.sk-item {\n",
       "  /* draw centered vertical line to link estimators */\n",
       "  background-image: linear-gradient(var(--sklearn-color-text-on-default-background), var(--sklearn-color-text-on-default-background));\n",
       "  background-size: 2px 100%;\n",
       "  background-repeat: no-repeat;\n",
       "  background-position: center center;\n",
       "}\n",
       "\n",
       "/* Parallel-specific style estimator block */\n",
       "\n",
       "#sk-container-id-5 div.sk-parallel-item::after {\n",
       "  content: \"\";\n",
       "  width: 100%;\n",
       "  border-bottom: 2px solid var(--sklearn-color-text-on-default-background);\n",
       "  flex-grow: 1;\n",
       "}\n",
       "\n",
       "#sk-container-id-5 div.sk-parallel {\n",
       "  display: flex;\n",
       "  align-items: stretch;\n",
       "  justify-content: center;\n",
       "  background-color: var(--sklearn-color-background);\n",
       "  position: relative;\n",
       "}\n",
       "\n",
       "#sk-container-id-5 div.sk-parallel-item {\n",
       "  display: flex;\n",
       "  flex-direction: column;\n",
       "}\n",
       "\n",
       "#sk-container-id-5 div.sk-parallel-item:first-child::after {\n",
       "  align-self: flex-end;\n",
       "  width: 50%;\n",
       "}\n",
       "\n",
       "#sk-container-id-5 div.sk-parallel-item:last-child::after {\n",
       "  align-self: flex-start;\n",
       "  width: 50%;\n",
       "}\n",
       "\n",
       "#sk-container-id-5 div.sk-parallel-item:only-child::after {\n",
       "  width: 0;\n",
       "}\n",
       "\n",
       "/* Serial-specific style estimator block */\n",
       "\n",
       "#sk-container-id-5 div.sk-serial {\n",
       "  display: flex;\n",
       "  flex-direction: column;\n",
       "  align-items: center;\n",
       "  background-color: var(--sklearn-color-background);\n",
       "  padding-right: 1em;\n",
       "  padding-left: 1em;\n",
       "}\n",
       "\n",
       "\n",
       "/* Toggleable style: style used for estimator/Pipeline/ColumnTransformer box that is\n",
       "clickable and can be expanded/collapsed.\n",
       "- Pipeline and ColumnTransformer use this feature and define the default style\n",
       "- Estimators will overwrite some part of the style using the `sk-estimator` class\n",
       "*/\n",
       "\n",
       "/* Pipeline and ColumnTransformer style (default) */\n",
       "\n",
       "#sk-container-id-5 div.sk-toggleable {\n",
       "  /* Default theme specific background. It is overwritten whether we have a\n",
       "  specific estimator or a Pipeline/ColumnTransformer */\n",
       "  background-color: var(--sklearn-color-background);\n",
       "}\n",
       "\n",
       "/* Toggleable label */\n",
       "#sk-container-id-5 label.sk-toggleable__label {\n",
       "  cursor: pointer;\n",
       "  display: block;\n",
       "  width: 100%;\n",
       "  margin-bottom: 0;\n",
       "  padding: 0.5em;\n",
       "  box-sizing: border-box;\n",
       "  text-align: center;\n",
       "}\n",
       "\n",
       "#sk-container-id-5 label.sk-toggleable__label-arrow:before {\n",
       "  /* Arrow on the left of the label */\n",
       "  content: \"▸\";\n",
       "  float: left;\n",
       "  margin-right: 0.25em;\n",
       "  color: var(--sklearn-color-icon);\n",
       "}\n",
       "\n",
       "#sk-container-id-5 label.sk-toggleable__label-arrow:hover:before {\n",
       "  color: var(--sklearn-color-text);\n",
       "}\n",
       "\n",
       "/* Toggleable content - dropdown */\n",
       "\n",
       "#sk-container-id-5 div.sk-toggleable__content {\n",
       "  max-height: 0;\n",
       "  max-width: 0;\n",
       "  overflow: hidden;\n",
       "  text-align: left;\n",
       "  /* unfitted */\n",
       "  background-color: var(--sklearn-color-unfitted-level-0);\n",
       "}\n",
       "\n",
       "#sk-container-id-5 div.sk-toggleable__content.fitted {\n",
       "  /* fitted */\n",
       "  background-color: var(--sklearn-color-fitted-level-0);\n",
       "}\n",
       "\n",
       "#sk-container-id-5 div.sk-toggleable__content pre {\n",
       "  margin: 0.2em;\n",
       "  border-radius: 0.25em;\n",
       "  color: var(--sklearn-color-text);\n",
       "  /* unfitted */\n",
       "  background-color: var(--sklearn-color-unfitted-level-0);\n",
       "}\n",
       "\n",
       "#sk-container-id-5 div.sk-toggleable__content.fitted pre {\n",
       "  /* unfitted */\n",
       "  background-color: var(--sklearn-color-fitted-level-0);\n",
       "}\n",
       "\n",
       "#sk-container-id-5 input.sk-toggleable__control:checked~div.sk-toggleable__content {\n",
       "  /* Expand drop-down */\n",
       "  max-height: 200px;\n",
       "  max-width: 100%;\n",
       "  overflow: auto;\n",
       "}\n",
       "\n",
       "#sk-container-id-5 input.sk-toggleable__control:checked~label.sk-toggleable__label-arrow:before {\n",
       "  content: \"▾\";\n",
       "}\n",
       "\n",
       "/* Pipeline/ColumnTransformer-specific style */\n",
       "\n",
       "#sk-container-id-5 div.sk-label input.sk-toggleable__control:checked~label.sk-toggleable__label {\n",
       "  color: var(--sklearn-color-text);\n",
       "  background-color: var(--sklearn-color-unfitted-level-2);\n",
       "}\n",
       "\n",
       "#sk-container-id-5 div.sk-label.fitted input.sk-toggleable__control:checked~label.sk-toggleable__label {\n",
       "  background-color: var(--sklearn-color-fitted-level-2);\n",
       "}\n",
       "\n",
       "/* Estimator-specific style */\n",
       "\n",
       "/* Colorize estimator box */\n",
       "#sk-container-id-5 div.sk-estimator input.sk-toggleable__control:checked~label.sk-toggleable__label {\n",
       "  /* unfitted */\n",
       "  background-color: var(--sklearn-color-unfitted-level-2);\n",
       "}\n",
       "\n",
       "#sk-container-id-5 div.sk-estimator.fitted input.sk-toggleable__control:checked~label.sk-toggleable__label {\n",
       "  /* fitted */\n",
       "  background-color: var(--sklearn-color-fitted-level-2);\n",
       "}\n",
       "\n",
       "#sk-container-id-5 div.sk-label label.sk-toggleable__label,\n",
       "#sk-container-id-5 div.sk-label label {\n",
       "  /* The background is the default theme color */\n",
       "  color: var(--sklearn-color-text-on-default-background);\n",
       "}\n",
       "\n",
       "/* On hover, darken the color of the background */\n",
       "#sk-container-id-5 div.sk-label:hover label.sk-toggleable__label {\n",
       "  color: var(--sklearn-color-text);\n",
       "  background-color: var(--sklearn-color-unfitted-level-2);\n",
       "}\n",
       "\n",
       "/* Label box, darken color on hover, fitted */\n",
       "#sk-container-id-5 div.sk-label.fitted:hover label.sk-toggleable__label.fitted {\n",
       "  color: var(--sklearn-color-text);\n",
       "  background-color: var(--sklearn-color-fitted-level-2);\n",
       "}\n",
       "\n",
       "/* Estimator label */\n",
       "\n",
       "#sk-container-id-5 div.sk-label label {\n",
       "  font-family: monospace;\n",
       "  font-weight: bold;\n",
       "  display: inline-block;\n",
       "  line-height: 1.2em;\n",
       "}\n",
       "\n",
       "#sk-container-id-5 div.sk-label-container {\n",
       "  text-align: center;\n",
       "}\n",
       "\n",
       "/* Estimator-specific */\n",
       "#sk-container-id-5 div.sk-estimator {\n",
       "  font-family: monospace;\n",
       "  border: 1px dotted var(--sklearn-color-border-box);\n",
       "  border-radius: 0.25em;\n",
       "  box-sizing: border-box;\n",
       "  margin-bottom: 0.5em;\n",
       "  /* unfitted */\n",
       "  background-color: var(--sklearn-color-unfitted-level-0);\n",
       "}\n",
       "\n",
       "#sk-container-id-5 div.sk-estimator.fitted {\n",
       "  /* fitted */\n",
       "  background-color: var(--sklearn-color-fitted-level-0);\n",
       "}\n",
       "\n",
       "/* on hover */\n",
       "#sk-container-id-5 div.sk-estimator:hover {\n",
       "  /* unfitted */\n",
       "  background-color: var(--sklearn-color-unfitted-level-2);\n",
       "}\n",
       "\n",
       "#sk-container-id-5 div.sk-estimator.fitted:hover {\n",
       "  /* fitted */\n",
       "  background-color: var(--sklearn-color-fitted-level-2);\n",
       "}\n",
       "\n",
       "/* Specification for estimator info (e.g. \"i\" and \"?\") */\n",
       "\n",
       "/* Common style for \"i\" and \"?\" */\n",
       "\n",
       ".sk-estimator-doc-link,\n",
       "a:link.sk-estimator-doc-link,\n",
       "a:visited.sk-estimator-doc-link {\n",
       "  float: right;\n",
       "  font-size: smaller;\n",
       "  line-height: 1em;\n",
       "  font-family: monospace;\n",
       "  background-color: var(--sklearn-color-background);\n",
       "  border-radius: 1em;\n",
       "  height: 1em;\n",
       "  width: 1em;\n",
       "  text-decoration: none !important;\n",
       "  margin-left: 1ex;\n",
       "  /* unfitted */\n",
       "  border: var(--sklearn-color-unfitted-level-1) 1pt solid;\n",
       "  color: var(--sklearn-color-unfitted-level-1);\n",
       "}\n",
       "\n",
       ".sk-estimator-doc-link.fitted,\n",
       "a:link.sk-estimator-doc-link.fitted,\n",
       "a:visited.sk-estimator-doc-link.fitted {\n",
       "  /* fitted */\n",
       "  border: var(--sklearn-color-fitted-level-1) 1pt solid;\n",
       "  color: var(--sklearn-color-fitted-level-1);\n",
       "}\n",
       "\n",
       "/* On hover */\n",
       "div.sk-estimator:hover .sk-estimator-doc-link:hover,\n",
       ".sk-estimator-doc-link:hover,\n",
       "div.sk-label-container:hover .sk-estimator-doc-link:hover,\n",
       ".sk-estimator-doc-link:hover {\n",
       "  /* unfitted */\n",
       "  background-color: var(--sklearn-color-unfitted-level-3);\n",
       "  color: var(--sklearn-color-background);\n",
       "  text-decoration: none;\n",
       "}\n",
       "\n",
       "div.sk-estimator.fitted:hover .sk-estimator-doc-link.fitted:hover,\n",
       ".sk-estimator-doc-link.fitted:hover,\n",
       "div.sk-label-container:hover .sk-estimator-doc-link.fitted:hover,\n",
       ".sk-estimator-doc-link.fitted:hover {\n",
       "  /* fitted */\n",
       "  background-color: var(--sklearn-color-fitted-level-3);\n",
       "  color: var(--sklearn-color-background);\n",
       "  text-decoration: none;\n",
       "}\n",
       "\n",
       "/* Span, style for the box shown on hovering the info icon */\n",
       ".sk-estimator-doc-link span {\n",
       "  display: none;\n",
       "  z-index: 9999;\n",
       "  position: relative;\n",
       "  font-weight: normal;\n",
       "  right: .2ex;\n",
       "  padding: .5ex;\n",
       "  margin: .5ex;\n",
       "  width: min-content;\n",
       "  min-width: 20ex;\n",
       "  max-width: 50ex;\n",
       "  color: var(--sklearn-color-text);\n",
       "  box-shadow: 2pt 2pt 4pt #999;\n",
       "  /* unfitted */\n",
       "  background: var(--sklearn-color-unfitted-level-0);\n",
       "  border: .5pt solid var(--sklearn-color-unfitted-level-3);\n",
       "}\n",
       "\n",
       ".sk-estimator-doc-link.fitted span {\n",
       "  /* fitted */\n",
       "  background: var(--sklearn-color-fitted-level-0);\n",
       "  border: var(--sklearn-color-fitted-level-3);\n",
       "}\n",
       "\n",
       ".sk-estimator-doc-link:hover span {\n",
       "  display: block;\n",
       "}\n",
       "\n",
       "/* \"?\"-specific style due to the `<a>` HTML tag */\n",
       "\n",
       "#sk-container-id-5 a.estimator_doc_link {\n",
       "  float: right;\n",
       "  font-size: 1rem;\n",
       "  line-height: 1em;\n",
       "  font-family: monospace;\n",
       "  background-color: var(--sklearn-color-background);\n",
       "  border-radius: 1rem;\n",
       "  height: 1rem;\n",
       "  width: 1rem;\n",
       "  text-decoration: none;\n",
       "  /* unfitted */\n",
       "  color: var(--sklearn-color-unfitted-level-1);\n",
       "  border: var(--sklearn-color-unfitted-level-1) 1pt solid;\n",
       "}\n",
       "\n",
       "#sk-container-id-5 a.estimator_doc_link.fitted {\n",
       "  /* fitted */\n",
       "  border: var(--sklearn-color-fitted-level-1) 1pt solid;\n",
       "  color: var(--sklearn-color-fitted-level-1);\n",
       "}\n",
       "\n",
       "/* On hover */\n",
       "#sk-container-id-5 a.estimator_doc_link:hover {\n",
       "  /* unfitted */\n",
       "  background-color: var(--sklearn-color-unfitted-level-3);\n",
       "  color: var(--sklearn-color-background);\n",
       "  text-decoration: none;\n",
       "}\n",
       "\n",
       "#sk-container-id-5 a.estimator_doc_link.fitted:hover {\n",
       "  /* fitted */\n",
       "  background-color: var(--sklearn-color-fitted-level-3);\n",
       "}\n",
       "</style><div id=\"sk-container-id-5\" class=\"sk-top-container\"><div class=\"sk-text-repr-fallback\"><pre>GridSearchCV(estimator=DecisionTreeClassifier(),\n",
       "             param_grid={&#x27;class_weight&#x27;: [None, &#x27;balanced&#x27;],\n",
       "                         &#x27;max_depth&#x27;: [None, 1, 2, 3, 4, 5],\n",
       "                         &#x27;min_samples_leaf&#x27;: [1, 5, 10],\n",
       "                         &#x27;min_samples_split&#x27;: [1, 5, 10]},\n",
       "             verbose=3)</pre><b>In a Jupyter environment, please rerun this cell to show the HTML representation or trust the notebook. <br />On GitHub, the HTML representation is unable to render, please try loading this page with nbviewer.org.</b></div><div class=\"sk-container\" hidden><div class=\"sk-item sk-dashed-wrapped\"><div class=\"sk-label-container\"><div class=\"sk-label fitted sk-toggleable\"><input class=\"sk-toggleable__control sk-hidden--visually\" id=\"sk-estimator-id-9\" type=\"checkbox\" ><label for=\"sk-estimator-id-9\" class=\"sk-toggleable__label fitted sk-toggleable__label-arrow fitted\">&nbsp;&nbsp;GridSearchCV<a class=\"sk-estimator-doc-link fitted\" rel=\"noreferrer\" target=\"_blank\" href=\"https://scikit-learn.org/1.5/modules/generated/sklearn.model_selection.GridSearchCV.html\">?<span>Documentation for GridSearchCV</span></a><span class=\"sk-estimator-doc-link fitted\">i<span>Fitted</span></span></label><div class=\"sk-toggleable__content fitted\"><pre>GridSearchCV(estimator=DecisionTreeClassifier(),\n",
       "             param_grid={&#x27;class_weight&#x27;: [None, &#x27;balanced&#x27;],\n",
       "                         &#x27;max_depth&#x27;: [None, 1, 2, 3, 4, 5],\n",
       "                         &#x27;min_samples_leaf&#x27;: [1, 5, 10],\n",
       "                         &#x27;min_samples_split&#x27;: [1, 5, 10]},\n",
       "             verbose=3)</pre></div> </div></div><div class=\"sk-parallel\"><div class=\"sk-parallel-item\"><div class=\"sk-item\"><div class=\"sk-label-container\"><div class=\"sk-label fitted sk-toggleable\"><input class=\"sk-toggleable__control sk-hidden--visually\" id=\"sk-estimator-id-10\" type=\"checkbox\" ><label for=\"sk-estimator-id-10\" class=\"sk-toggleable__label fitted sk-toggleable__label-arrow fitted\">best_estimator_: DecisionTreeClassifier</label><div class=\"sk-toggleable__content fitted\"><pre>DecisionTreeClassifier(min_samples_split=5)</pre></div> </div></div><div class=\"sk-serial\"><div class=\"sk-item\"><div class=\"sk-estimator fitted sk-toggleable\"><input class=\"sk-toggleable__control sk-hidden--visually\" id=\"sk-estimator-id-11\" type=\"checkbox\" ><label for=\"sk-estimator-id-11\" class=\"sk-toggleable__label fitted sk-toggleable__label-arrow fitted\">&nbsp;DecisionTreeClassifier<a class=\"sk-estimator-doc-link fitted\" rel=\"noreferrer\" target=\"_blank\" href=\"https://scikit-learn.org/1.5/modules/generated/sklearn.tree.DecisionTreeClassifier.html\">?<span>Documentation for DecisionTreeClassifier</span></a></label><div class=\"sk-toggleable__content fitted\"><pre>DecisionTreeClassifier(min_samples_split=5)</pre></div> </div></div></div></div></div></div></div></div></div>"
      ],
      "text/plain": [
       "GridSearchCV(estimator=DecisionTreeClassifier(),\n",
       "             param_grid={'class_weight': [None, 'balanced'],\n",
       "                         'max_depth': [None, 1, 2, 3, 4, 5],\n",
       "                         'min_samples_leaf': [1, 5, 10],\n",
       "                         'min_samples_split': [1, 5, 10]},\n",
       "             verbose=3)"
      ]
     },
     "execution_count": 42,
     "metadata": {},
     "output_type": "execute_result"
    }
   ],
   "source": [
    "tree_grid_search = GridSearchCV(DecisionTreeClassifier(), param_grid, verbose=3)\n",
    "\n",
    "tree_grid_search.fit(Fielding_Stats, Won_GGlove)"
   ]
  },
  {
   "cell_type": "code",
   "execution_count": 43,
   "id": "5f5107e1-38dc-4873-9929-2c815a0c1713",
   "metadata": {},
   "outputs": [
    {
     "data": {
      "text/plain": [
       "np.float64(0.9931450471102942)"
      ]
     },
     "execution_count": 43,
     "metadata": {},
     "output_type": "execute_result"
    }
   ],
   "source": [
    "tree_grid_search.best_score_"
   ]
  },
  {
   "cell_type": "code",
   "execution_count": 44,
   "id": "ed5e9b79-1a8a-4159-970c-db70169799bd",
   "metadata": {},
   "outputs": [
    {
     "data": {
      "text/plain": [
       "{'class_weight': None,\n",
       " 'max_depth': None,\n",
       " 'min_samples_leaf': 1,\n",
       " 'min_samples_split': 5}"
      ]
     },
     "execution_count": 44,
     "metadata": {},
     "output_type": "execute_result"
    }
   ],
   "source": [
    "tree_grid_search.best_params_"
   ]
  },
  {
   "cell_type": "code",
   "execution_count": 45,
   "id": "8960a9e1-262d-40c0-921d-b6755782ea45",
   "metadata": {},
   "outputs": [
    {
     "data": {
      "text/html": [
       "<style>#sk-container-id-6 {\n",
       "  /* Definition of color scheme common for light and dark mode */\n",
       "  --sklearn-color-text: black;\n",
       "  --sklearn-color-line: gray;\n",
       "  /* Definition of color scheme for unfitted estimators */\n",
       "  --sklearn-color-unfitted-level-0: #fff5e6;\n",
       "  --sklearn-color-unfitted-level-1: #f6e4d2;\n",
       "  --sklearn-color-unfitted-level-2: #ffe0b3;\n",
       "  --sklearn-color-unfitted-level-3: chocolate;\n",
       "  /* Definition of color scheme for fitted estimators */\n",
       "  --sklearn-color-fitted-level-0: #f0f8ff;\n",
       "  --sklearn-color-fitted-level-1: #d4ebff;\n",
       "  --sklearn-color-fitted-level-2: #b3dbfd;\n",
       "  --sklearn-color-fitted-level-3: cornflowerblue;\n",
       "\n",
       "  /* Specific color for light theme */\n",
       "  --sklearn-color-text-on-default-background: var(--sg-text-color, var(--theme-code-foreground, var(--jp-content-font-color1, black)));\n",
       "  --sklearn-color-background: var(--sg-background-color, var(--theme-background, var(--jp-layout-color0, white)));\n",
       "  --sklearn-color-border-box: var(--sg-text-color, var(--theme-code-foreground, var(--jp-content-font-color1, black)));\n",
       "  --sklearn-color-icon: #696969;\n",
       "\n",
       "  @media (prefers-color-scheme: dark) {\n",
       "    /* Redefinition of color scheme for dark theme */\n",
       "    --sklearn-color-text-on-default-background: var(--sg-text-color, var(--theme-code-foreground, var(--jp-content-font-color1, white)));\n",
       "    --sklearn-color-background: var(--sg-background-color, var(--theme-background, var(--jp-layout-color0, #111)));\n",
       "    --sklearn-color-border-box: var(--sg-text-color, var(--theme-code-foreground, var(--jp-content-font-color1, white)));\n",
       "    --sklearn-color-icon: #878787;\n",
       "  }\n",
       "}\n",
       "\n",
       "#sk-container-id-6 {\n",
       "  color: var(--sklearn-color-text);\n",
       "}\n",
       "\n",
       "#sk-container-id-6 pre {\n",
       "  padding: 0;\n",
       "}\n",
       "\n",
       "#sk-container-id-6 input.sk-hidden--visually {\n",
       "  border: 0;\n",
       "  clip: rect(1px 1px 1px 1px);\n",
       "  clip: rect(1px, 1px, 1px, 1px);\n",
       "  height: 1px;\n",
       "  margin: -1px;\n",
       "  overflow: hidden;\n",
       "  padding: 0;\n",
       "  position: absolute;\n",
       "  width: 1px;\n",
       "}\n",
       "\n",
       "#sk-container-id-6 div.sk-dashed-wrapped {\n",
       "  border: 1px dashed var(--sklearn-color-line);\n",
       "  margin: 0 0.4em 0.5em 0.4em;\n",
       "  box-sizing: border-box;\n",
       "  padding-bottom: 0.4em;\n",
       "  background-color: var(--sklearn-color-background);\n",
       "}\n",
       "\n",
       "#sk-container-id-6 div.sk-container {\n",
       "  /* jupyter's `normalize.less` sets `[hidden] { display: none; }`\n",
       "     but bootstrap.min.css set `[hidden] { display: none !important; }`\n",
       "     so we also need the `!important` here to be able to override the\n",
       "     default hidden behavior on the sphinx rendered scikit-learn.org.\n",
       "     See: https://github.com/scikit-learn/scikit-learn/issues/21755 */\n",
       "  display: inline-block !important;\n",
       "  position: relative;\n",
       "}\n",
       "\n",
       "#sk-container-id-6 div.sk-text-repr-fallback {\n",
       "  display: none;\n",
       "}\n",
       "\n",
       "div.sk-parallel-item,\n",
       "div.sk-serial,\n",
       "div.sk-item {\n",
       "  /* draw centered vertical line to link estimators */\n",
       "  background-image: linear-gradient(var(--sklearn-color-text-on-default-background), var(--sklearn-color-text-on-default-background));\n",
       "  background-size: 2px 100%;\n",
       "  background-repeat: no-repeat;\n",
       "  background-position: center center;\n",
       "}\n",
       "\n",
       "/* Parallel-specific style estimator block */\n",
       "\n",
       "#sk-container-id-6 div.sk-parallel-item::after {\n",
       "  content: \"\";\n",
       "  width: 100%;\n",
       "  border-bottom: 2px solid var(--sklearn-color-text-on-default-background);\n",
       "  flex-grow: 1;\n",
       "}\n",
       "\n",
       "#sk-container-id-6 div.sk-parallel {\n",
       "  display: flex;\n",
       "  align-items: stretch;\n",
       "  justify-content: center;\n",
       "  background-color: var(--sklearn-color-background);\n",
       "  position: relative;\n",
       "}\n",
       "\n",
       "#sk-container-id-6 div.sk-parallel-item {\n",
       "  display: flex;\n",
       "  flex-direction: column;\n",
       "}\n",
       "\n",
       "#sk-container-id-6 div.sk-parallel-item:first-child::after {\n",
       "  align-self: flex-end;\n",
       "  width: 50%;\n",
       "}\n",
       "\n",
       "#sk-container-id-6 div.sk-parallel-item:last-child::after {\n",
       "  align-self: flex-start;\n",
       "  width: 50%;\n",
       "}\n",
       "\n",
       "#sk-container-id-6 div.sk-parallel-item:only-child::after {\n",
       "  width: 0;\n",
       "}\n",
       "\n",
       "/* Serial-specific style estimator block */\n",
       "\n",
       "#sk-container-id-6 div.sk-serial {\n",
       "  display: flex;\n",
       "  flex-direction: column;\n",
       "  align-items: center;\n",
       "  background-color: var(--sklearn-color-background);\n",
       "  padding-right: 1em;\n",
       "  padding-left: 1em;\n",
       "}\n",
       "\n",
       "\n",
       "/* Toggleable style: style used for estimator/Pipeline/ColumnTransformer box that is\n",
       "clickable and can be expanded/collapsed.\n",
       "- Pipeline and ColumnTransformer use this feature and define the default style\n",
       "- Estimators will overwrite some part of the style using the `sk-estimator` class\n",
       "*/\n",
       "\n",
       "/* Pipeline and ColumnTransformer style (default) */\n",
       "\n",
       "#sk-container-id-6 div.sk-toggleable {\n",
       "  /* Default theme specific background. It is overwritten whether we have a\n",
       "  specific estimator or a Pipeline/ColumnTransformer */\n",
       "  background-color: var(--sklearn-color-background);\n",
       "}\n",
       "\n",
       "/* Toggleable label */\n",
       "#sk-container-id-6 label.sk-toggleable__label {\n",
       "  cursor: pointer;\n",
       "  display: block;\n",
       "  width: 100%;\n",
       "  margin-bottom: 0;\n",
       "  padding: 0.5em;\n",
       "  box-sizing: border-box;\n",
       "  text-align: center;\n",
       "}\n",
       "\n",
       "#sk-container-id-6 label.sk-toggleable__label-arrow:before {\n",
       "  /* Arrow on the left of the label */\n",
       "  content: \"▸\";\n",
       "  float: left;\n",
       "  margin-right: 0.25em;\n",
       "  color: var(--sklearn-color-icon);\n",
       "}\n",
       "\n",
       "#sk-container-id-6 label.sk-toggleable__label-arrow:hover:before {\n",
       "  color: var(--sklearn-color-text);\n",
       "}\n",
       "\n",
       "/* Toggleable content - dropdown */\n",
       "\n",
       "#sk-container-id-6 div.sk-toggleable__content {\n",
       "  max-height: 0;\n",
       "  max-width: 0;\n",
       "  overflow: hidden;\n",
       "  text-align: left;\n",
       "  /* unfitted */\n",
       "  background-color: var(--sklearn-color-unfitted-level-0);\n",
       "}\n",
       "\n",
       "#sk-container-id-6 div.sk-toggleable__content.fitted {\n",
       "  /* fitted */\n",
       "  background-color: var(--sklearn-color-fitted-level-0);\n",
       "}\n",
       "\n",
       "#sk-container-id-6 div.sk-toggleable__content pre {\n",
       "  margin: 0.2em;\n",
       "  border-radius: 0.25em;\n",
       "  color: var(--sklearn-color-text);\n",
       "  /* unfitted */\n",
       "  background-color: var(--sklearn-color-unfitted-level-0);\n",
       "}\n",
       "\n",
       "#sk-container-id-6 div.sk-toggleable__content.fitted pre {\n",
       "  /* unfitted */\n",
       "  background-color: var(--sklearn-color-fitted-level-0);\n",
       "}\n",
       "\n",
       "#sk-container-id-6 input.sk-toggleable__control:checked~div.sk-toggleable__content {\n",
       "  /* Expand drop-down */\n",
       "  max-height: 200px;\n",
       "  max-width: 100%;\n",
       "  overflow: auto;\n",
       "}\n",
       "\n",
       "#sk-container-id-6 input.sk-toggleable__control:checked~label.sk-toggleable__label-arrow:before {\n",
       "  content: \"▾\";\n",
       "}\n",
       "\n",
       "/* Pipeline/ColumnTransformer-specific style */\n",
       "\n",
       "#sk-container-id-6 div.sk-label input.sk-toggleable__control:checked~label.sk-toggleable__label {\n",
       "  color: var(--sklearn-color-text);\n",
       "  background-color: var(--sklearn-color-unfitted-level-2);\n",
       "}\n",
       "\n",
       "#sk-container-id-6 div.sk-label.fitted input.sk-toggleable__control:checked~label.sk-toggleable__label {\n",
       "  background-color: var(--sklearn-color-fitted-level-2);\n",
       "}\n",
       "\n",
       "/* Estimator-specific style */\n",
       "\n",
       "/* Colorize estimator box */\n",
       "#sk-container-id-6 div.sk-estimator input.sk-toggleable__control:checked~label.sk-toggleable__label {\n",
       "  /* unfitted */\n",
       "  background-color: var(--sklearn-color-unfitted-level-2);\n",
       "}\n",
       "\n",
       "#sk-container-id-6 div.sk-estimator.fitted input.sk-toggleable__control:checked~label.sk-toggleable__label {\n",
       "  /* fitted */\n",
       "  background-color: var(--sklearn-color-fitted-level-2);\n",
       "}\n",
       "\n",
       "#sk-container-id-6 div.sk-label label.sk-toggleable__label,\n",
       "#sk-container-id-6 div.sk-label label {\n",
       "  /* The background is the default theme color */\n",
       "  color: var(--sklearn-color-text-on-default-background);\n",
       "}\n",
       "\n",
       "/* On hover, darken the color of the background */\n",
       "#sk-container-id-6 div.sk-label:hover label.sk-toggleable__label {\n",
       "  color: var(--sklearn-color-text);\n",
       "  background-color: var(--sklearn-color-unfitted-level-2);\n",
       "}\n",
       "\n",
       "/* Label box, darken color on hover, fitted */\n",
       "#sk-container-id-6 div.sk-label.fitted:hover label.sk-toggleable__label.fitted {\n",
       "  color: var(--sklearn-color-text);\n",
       "  background-color: var(--sklearn-color-fitted-level-2);\n",
       "}\n",
       "\n",
       "/* Estimator label */\n",
       "\n",
       "#sk-container-id-6 div.sk-label label {\n",
       "  font-family: monospace;\n",
       "  font-weight: bold;\n",
       "  display: inline-block;\n",
       "  line-height: 1.2em;\n",
       "}\n",
       "\n",
       "#sk-container-id-6 div.sk-label-container {\n",
       "  text-align: center;\n",
       "}\n",
       "\n",
       "/* Estimator-specific */\n",
       "#sk-container-id-6 div.sk-estimator {\n",
       "  font-family: monospace;\n",
       "  border: 1px dotted var(--sklearn-color-border-box);\n",
       "  border-radius: 0.25em;\n",
       "  box-sizing: border-box;\n",
       "  margin-bottom: 0.5em;\n",
       "  /* unfitted */\n",
       "  background-color: var(--sklearn-color-unfitted-level-0);\n",
       "}\n",
       "\n",
       "#sk-container-id-6 div.sk-estimator.fitted {\n",
       "  /* fitted */\n",
       "  background-color: var(--sklearn-color-fitted-level-0);\n",
       "}\n",
       "\n",
       "/* on hover */\n",
       "#sk-container-id-6 div.sk-estimator:hover {\n",
       "  /* unfitted */\n",
       "  background-color: var(--sklearn-color-unfitted-level-2);\n",
       "}\n",
       "\n",
       "#sk-container-id-6 div.sk-estimator.fitted:hover {\n",
       "  /* fitted */\n",
       "  background-color: var(--sklearn-color-fitted-level-2);\n",
       "}\n",
       "\n",
       "/* Specification for estimator info (e.g. \"i\" and \"?\") */\n",
       "\n",
       "/* Common style for \"i\" and \"?\" */\n",
       "\n",
       ".sk-estimator-doc-link,\n",
       "a:link.sk-estimator-doc-link,\n",
       "a:visited.sk-estimator-doc-link {\n",
       "  float: right;\n",
       "  font-size: smaller;\n",
       "  line-height: 1em;\n",
       "  font-family: monospace;\n",
       "  background-color: var(--sklearn-color-background);\n",
       "  border-radius: 1em;\n",
       "  height: 1em;\n",
       "  width: 1em;\n",
       "  text-decoration: none !important;\n",
       "  margin-left: 1ex;\n",
       "  /* unfitted */\n",
       "  border: var(--sklearn-color-unfitted-level-1) 1pt solid;\n",
       "  color: var(--sklearn-color-unfitted-level-1);\n",
       "}\n",
       "\n",
       ".sk-estimator-doc-link.fitted,\n",
       "a:link.sk-estimator-doc-link.fitted,\n",
       "a:visited.sk-estimator-doc-link.fitted {\n",
       "  /* fitted */\n",
       "  border: var(--sklearn-color-fitted-level-1) 1pt solid;\n",
       "  color: var(--sklearn-color-fitted-level-1);\n",
       "}\n",
       "\n",
       "/* On hover */\n",
       "div.sk-estimator:hover .sk-estimator-doc-link:hover,\n",
       ".sk-estimator-doc-link:hover,\n",
       "div.sk-label-container:hover .sk-estimator-doc-link:hover,\n",
       ".sk-estimator-doc-link:hover {\n",
       "  /* unfitted */\n",
       "  background-color: var(--sklearn-color-unfitted-level-3);\n",
       "  color: var(--sklearn-color-background);\n",
       "  text-decoration: none;\n",
       "}\n",
       "\n",
       "div.sk-estimator.fitted:hover .sk-estimator-doc-link.fitted:hover,\n",
       ".sk-estimator-doc-link.fitted:hover,\n",
       "div.sk-label-container:hover .sk-estimator-doc-link.fitted:hover,\n",
       ".sk-estimator-doc-link.fitted:hover {\n",
       "  /* fitted */\n",
       "  background-color: var(--sklearn-color-fitted-level-3);\n",
       "  color: var(--sklearn-color-background);\n",
       "  text-decoration: none;\n",
       "}\n",
       "\n",
       "/* Span, style for the box shown on hovering the info icon */\n",
       ".sk-estimator-doc-link span {\n",
       "  display: none;\n",
       "  z-index: 9999;\n",
       "  position: relative;\n",
       "  font-weight: normal;\n",
       "  right: .2ex;\n",
       "  padding: .5ex;\n",
       "  margin: .5ex;\n",
       "  width: min-content;\n",
       "  min-width: 20ex;\n",
       "  max-width: 50ex;\n",
       "  color: var(--sklearn-color-text);\n",
       "  box-shadow: 2pt 2pt 4pt #999;\n",
       "  /* unfitted */\n",
       "  background: var(--sklearn-color-unfitted-level-0);\n",
       "  border: .5pt solid var(--sklearn-color-unfitted-level-3);\n",
       "}\n",
       "\n",
       ".sk-estimator-doc-link.fitted span {\n",
       "  /* fitted */\n",
       "  background: var(--sklearn-color-fitted-level-0);\n",
       "  border: var(--sklearn-color-fitted-level-3);\n",
       "}\n",
       "\n",
       ".sk-estimator-doc-link:hover span {\n",
       "  display: block;\n",
       "}\n",
       "\n",
       "/* \"?\"-specific style due to the `<a>` HTML tag */\n",
       "\n",
       "#sk-container-id-6 a.estimator_doc_link {\n",
       "  float: right;\n",
       "  font-size: 1rem;\n",
       "  line-height: 1em;\n",
       "  font-family: monospace;\n",
       "  background-color: var(--sklearn-color-background);\n",
       "  border-radius: 1rem;\n",
       "  height: 1rem;\n",
       "  width: 1rem;\n",
       "  text-decoration: none;\n",
       "  /* unfitted */\n",
       "  color: var(--sklearn-color-unfitted-level-1);\n",
       "  border: var(--sklearn-color-unfitted-level-1) 1pt solid;\n",
       "}\n",
       "\n",
       "#sk-container-id-6 a.estimator_doc_link.fitted {\n",
       "  /* fitted */\n",
       "  border: var(--sklearn-color-fitted-level-1) 1pt solid;\n",
       "  color: var(--sklearn-color-fitted-level-1);\n",
       "}\n",
       "\n",
       "/* On hover */\n",
       "#sk-container-id-6 a.estimator_doc_link:hover {\n",
       "  /* unfitted */\n",
       "  background-color: var(--sklearn-color-unfitted-level-3);\n",
       "  color: var(--sklearn-color-background);\n",
       "  text-decoration: none;\n",
       "}\n",
       "\n",
       "#sk-container-id-6 a.estimator_doc_link.fitted:hover {\n",
       "  /* fitted */\n",
       "  background-color: var(--sklearn-color-fitted-level-3);\n",
       "}\n",
       "</style><div id=\"sk-container-id-6\" class=\"sk-top-container\"><div class=\"sk-text-repr-fallback\"><pre>DecisionTreeClassifier(min_samples_split=5)</pre><b>In a Jupyter environment, please rerun this cell to show the HTML representation or trust the notebook. <br />On GitHub, the HTML representation is unable to render, please try loading this page with nbviewer.org.</b></div><div class=\"sk-container\" hidden><div class=\"sk-item\"><div class=\"sk-estimator fitted sk-toggleable\"><input class=\"sk-toggleable__control sk-hidden--visually\" id=\"sk-estimator-id-12\" type=\"checkbox\" checked><label for=\"sk-estimator-id-12\" class=\"sk-toggleable__label fitted sk-toggleable__label-arrow fitted\">&nbsp;&nbsp;DecisionTreeClassifier<a class=\"sk-estimator-doc-link fitted\" rel=\"noreferrer\" target=\"_blank\" href=\"https://scikit-learn.org/1.5/modules/generated/sklearn.tree.DecisionTreeClassifier.html\">?<span>Documentation for DecisionTreeClassifier</span></a><span class=\"sk-estimator-doc-link fitted\">i<span>Fitted</span></span></label><div class=\"sk-toggleable__content fitted\"><pre>DecisionTreeClassifier(min_samples_split=5)</pre></div> </div></div></div></div>"
      ],
      "text/plain": [
       "DecisionTreeClassifier(min_samples_split=5)"
      ]
     },
     "execution_count": 45,
     "metadata": {},
     "output_type": "execute_result"
    }
   ],
   "source": [
    "tree_grid_search.best_estimator_"
   ]
  },
  {
   "cell_type": "code",
   "execution_count": 46,
   "id": "32e20625-2cd8-4765-accd-e86c0af23229",
   "metadata": {},
   "outputs": [
    {
     "data": {
      "text/plain": [
       "array(['No', 'No', 'No', ..., 'No', 'No', 'No'], dtype=object)"
      ]
     },
     "execution_count": 46,
     "metadata": {},
     "output_type": "execute_result"
    }
   ],
   "source": [
    "Won_GGlove_Pred = tree_grid_search.predict(Fielding_Stats)\n",
    "\n",
    "Won_GGlove_Pred"
   ]
  },
  {
   "cell_type": "code",
   "execution_count": 54,
   "id": "267aadca-899b-4ca2-8f58-3ae2d27152c8",
   "metadata": {},
   "outputs": [
    {
     "data": {
      "text/plain": [
       "{'accuracy': np.float64(0.9931450365941655),\n",
       " 'balanced_accuracy': np.float64(0.5),\n",
       " 'specificity': np.float64(1.0),\n",
       " 'sensitivity': np.float64(0.0),\n",
       " 'npv': np.float64(0.9931450365941655)}"
      ]
     },
     "execution_count": 54,
     "metadata": {},
     "output_type": "execute_result"
    }
   ],
   "source": [
    "get_metrics(Won_GGlove, Won_GGlove_Pred)"
   ]
  },
  {
   "cell_type": "markdown",
   "id": "f3c2f1ae-c228-418d-8aea-36f6e72884f1",
   "metadata": {},
   "source": [
    "# Forest Grid Search"
   ]
  },
  {
   "cell_type": "code",
   "execution_count": 17,
   "id": "8c10de00-0939-4ffb-b2bf-953eff73bd40",
   "metadata": {},
   "outputs": [
    {
     "data": {
      "text/plain": [
       "{'n_estimators': array([ 10, 100]),\n",
       " 'max_depth': [None, 1, 2, 3, 4, 5],\n",
       " 'min_samples_split': [1, 5, 10],\n",
       " 'min_samples_leaf': [1, 5, 10],\n",
       " 'class_weight': [None, 'balanced']}"
      ]
     },
     "execution_count": 17,
     "metadata": {},
     "output_type": "execute_result"
    }
   ],
   "source": [
    "rf_param_grid = {'n_estimators': 10 ** np.arange(1, 3),\n",
    "              'max_depth': [None, 1,2,3,4,5],\n",
    "              'min_samples_split' : [1, 5, 10],\n",
    "               'min_samples_leaf' : [1, 5, 10],\n",
    "              'class_weight':[None, \"balanced\"]\n",
    "              }\n",
    "\n",
    "rf_param_grid"
   ]
  },
  {
   "cell_type": "code",
   "execution_count": 18,
   "id": "dda7771c-4f24-4e77-afc3-7162ba508846",
   "metadata": {
    "scrolled": true
   },
   "outputs": [
    {
     "name": "stdout",
     "output_type": "stream",
     "text": [
      "Fitting 5 folds for each of 216 candidates, totalling 1080 fits\n",
      "[CV 1/5] END class_weight=None, max_depth=None, min_samples_leaf=1, min_samples_split=1, n_estimators=10;, score=nan total time=   0.0s\n",
      "[CV 2/5] END class_weight=None, max_depth=None, min_samples_leaf=1, min_samples_split=1, n_estimators=10;, score=nan total time=   0.0s\n",
      "[CV 3/5] END class_weight=None, max_depth=None, min_samples_leaf=1, min_samples_split=1, n_estimators=10;, score=nan total time=   0.0s\n",
      "[CV 4/5] END class_weight=None, max_depth=None, min_samples_leaf=1, min_samples_split=1, n_estimators=10;, score=nan total time=   0.0s\n",
      "[CV 5/5] END class_weight=None, max_depth=None, min_samples_leaf=1, min_samples_split=1, n_estimators=10;, score=nan total time=   0.0s\n",
      "[CV 1/5] END class_weight=None, max_depth=None, min_samples_leaf=1, min_samples_split=1, n_estimators=100;, score=nan total time=   0.0s\n",
      "[CV 2/5] END class_weight=None, max_depth=None, min_samples_leaf=1, min_samples_split=1, n_estimators=100;, score=nan total time=   0.0s\n",
      "[CV 3/5] END class_weight=None, max_depth=None, min_samples_leaf=1, min_samples_split=1, n_estimators=100;, score=nan total time=   0.0s\n",
      "[CV 4/5] END class_weight=None, max_depth=None, min_samples_leaf=1, min_samples_split=1, n_estimators=100;, score=nan total time=   0.0s\n",
      "[CV 5/5] END class_weight=None, max_depth=None, min_samples_leaf=1, min_samples_split=1, n_estimators=100;, score=nan total time=   0.0s\n",
      "[CV 1/5] END class_weight=None, max_depth=None, min_samples_leaf=1, min_samples_split=5, n_estimators=10;, score=0.993 total time=   0.1s\n"
     ]
    },
    {
     "name": "stderr",
     "output_type": "stream",
     "text": [
      "C:\\Users\\jb5983on\\AppData\\Local\\anaconda3\\envs\\polars\\Lib\\site-packages\\sklearn\\base.py:1473: DataConversionWarning: A column-vector y was passed when a 1d array was expected. Please change the shape of y to (n_samples,), for example using ravel().\n",
      "  return fit_method(estimator, *args, **kwargs)\n",
      "C:\\Users\\jb5983on\\AppData\\Local\\anaconda3\\envs\\polars\\Lib\\site-packages\\sklearn\\base.py:1473: DataConversionWarning: A column-vector y was passed when a 1d array was expected. Please change the shape of y to (n_samples,), for example using ravel().\n",
      "  return fit_method(estimator, *args, **kwargs)\n"
     ]
    },
    {
     "name": "stdout",
     "output_type": "stream",
     "text": [
      "[CV 2/5] END class_weight=None, max_depth=None, min_samples_leaf=1, min_samples_split=5, n_estimators=10;, score=0.993 total time=   0.1s\n",
      "[CV 3/5] END class_weight=None, max_depth=None, min_samples_leaf=1, min_samples_split=5, n_estimators=10;, score=0.993 total time=   0.1s\n"
     ]
    },
    {
     "name": "stderr",
     "output_type": "stream",
     "text": [
      "C:\\Users\\jb5983on\\AppData\\Local\\anaconda3\\envs\\polars\\Lib\\site-packages\\sklearn\\base.py:1473: DataConversionWarning: A column-vector y was passed when a 1d array was expected. Please change the shape of y to (n_samples,), for example using ravel().\n",
      "  return fit_method(estimator, *args, **kwargs)\n",
      "C:\\Users\\jb5983on\\AppData\\Local\\anaconda3\\envs\\polars\\Lib\\site-packages\\sklearn\\base.py:1473: DataConversionWarning: A column-vector y was passed when a 1d array was expected. Please change the shape of y to (n_samples,), for example using ravel().\n",
      "  return fit_method(estimator, *args, **kwargs)\n"
     ]
    },
    {
     "name": "stdout",
     "output_type": "stream",
     "text": [
      "[CV 4/5] END class_weight=None, max_depth=None, min_samples_leaf=1, min_samples_split=5, n_estimators=10;, score=0.993 total time=   0.1s\n"
     ]
    },
    {
     "name": "stderr",
     "output_type": "stream",
     "text": [
      "C:\\Users\\jb5983on\\AppData\\Local\\anaconda3\\envs\\polars\\Lib\\site-packages\\sklearn\\base.py:1473: DataConversionWarning: A column-vector y was passed when a 1d array was expected. Please change the shape of y to (n_samples,), for example using ravel().\n",
      "  return fit_method(estimator, *args, **kwargs)\n"
     ]
    },
    {
     "name": "stdout",
     "output_type": "stream",
     "text": [
      "[CV 5/5] END class_weight=None, max_depth=None, min_samples_leaf=1, min_samples_split=5, n_estimators=10;, score=0.993 total time=   0.1s\n"
     ]
    },
    {
     "name": "stderr",
     "output_type": "stream",
     "text": [
      "C:\\Users\\jb5983on\\AppData\\Local\\anaconda3\\envs\\polars\\Lib\\site-packages\\sklearn\\base.py:1473: DataConversionWarning: A column-vector y was passed when a 1d array was expected. Please change the shape of y to (n_samples,), for example using ravel().\n",
      "  return fit_method(estimator, *args, **kwargs)\n"
     ]
    },
    {
     "name": "stdout",
     "output_type": "stream",
     "text": [
      "[CV 1/5] END class_weight=None, max_depth=None, min_samples_leaf=1, min_samples_split=5, n_estimators=100;, score=0.993 total time=   1.3s\n"
     ]
    },
    {
     "name": "stderr",
     "output_type": "stream",
     "text": [
      "C:\\Users\\jb5983on\\AppData\\Local\\anaconda3\\envs\\polars\\Lib\\site-packages\\sklearn\\base.py:1473: DataConversionWarning: A column-vector y was passed when a 1d array was expected. Please change the shape of y to (n_samples,), for example using ravel().\n",
      "  return fit_method(estimator, *args, **kwargs)\n"
     ]
    },
    {
     "name": "stdout",
     "output_type": "stream",
     "text": [
      "[CV 2/5] END class_weight=None, max_depth=None, min_samples_leaf=1, min_samples_split=5, n_estimators=100;, score=0.993 total time=   1.3s\n"
     ]
    },
    {
     "name": "stderr",
     "output_type": "stream",
     "text": [
      "C:\\Users\\jb5983on\\AppData\\Local\\anaconda3\\envs\\polars\\Lib\\site-packages\\sklearn\\base.py:1473: DataConversionWarning: A column-vector y was passed when a 1d array was expected. Please change the shape of y to (n_samples,), for example using ravel().\n",
      "  return fit_method(estimator, *args, **kwargs)\n"
     ]
    },
    {
     "name": "stdout",
     "output_type": "stream",
     "text": [
      "[CV 3/5] END class_weight=None, max_depth=None, min_samples_leaf=1, min_samples_split=5, n_estimators=100;, score=0.993 total time=   0.9s\n"
     ]
    },
    {
     "name": "stderr",
     "output_type": "stream",
     "text": [
      "C:\\Users\\jb5983on\\AppData\\Local\\anaconda3\\envs\\polars\\Lib\\site-packages\\sklearn\\base.py:1473: DataConversionWarning: A column-vector y was passed when a 1d array was expected. Please change the shape of y to (n_samples,), for example using ravel().\n",
      "  return fit_method(estimator, *args, **kwargs)\n"
     ]
    },
    {
     "name": "stdout",
     "output_type": "stream",
     "text": [
      "[CV 4/5] END class_weight=None, max_depth=None, min_samples_leaf=1, min_samples_split=5, n_estimators=100;, score=0.993 total time=   1.1s\n"
     ]
    },
    {
     "name": "stderr",
     "output_type": "stream",
     "text": [
      "C:\\Users\\jb5983on\\AppData\\Local\\anaconda3\\envs\\polars\\Lib\\site-packages\\sklearn\\base.py:1473: DataConversionWarning: A column-vector y was passed when a 1d array was expected. Please change the shape of y to (n_samples,), for example using ravel().\n",
      "  return fit_method(estimator, *args, **kwargs)\n"
     ]
    },
    {
     "name": "stdout",
     "output_type": "stream",
     "text": [
      "[CV 5/5] END class_weight=None, max_depth=None, min_samples_leaf=1, min_samples_split=5, n_estimators=100;, score=0.993 total time=   1.2s\n",
      "[CV 1/5] END class_weight=None, max_depth=None, min_samples_leaf=1, min_samples_split=10, n_estimators=10;, score=0.993 total time=   0.1s\n"
     ]
    },
    {
     "name": "stderr",
     "output_type": "stream",
     "text": [
      "C:\\Users\\jb5983on\\AppData\\Local\\anaconda3\\envs\\polars\\Lib\\site-packages\\sklearn\\base.py:1473: DataConversionWarning: A column-vector y was passed when a 1d array was expected. Please change the shape of y to (n_samples,), for example using ravel().\n",
      "  return fit_method(estimator, *args, **kwargs)\n",
      "C:\\Users\\jb5983on\\AppData\\Local\\anaconda3\\envs\\polars\\Lib\\site-packages\\sklearn\\base.py:1473: DataConversionWarning: A column-vector y was passed when a 1d array was expected. Please change the shape of y to (n_samples,), for example using ravel().\n",
      "  return fit_method(estimator, *args, **kwargs)\n"
     ]
    },
    {
     "name": "stdout",
     "output_type": "stream",
     "text": [
      "[CV 2/5] END class_weight=None, max_depth=None, min_samples_leaf=1, min_samples_split=10, n_estimators=10;, score=0.993 total time=   0.1s\n",
      "[CV 3/5] END class_weight=None, max_depth=None, min_samples_leaf=1, min_samples_split=10, n_estimators=10;, score=0.993 total time=   0.1s\n"
     ]
    },
    {
     "name": "stderr",
     "output_type": "stream",
     "text": [
      "C:\\Users\\jb5983on\\AppData\\Local\\anaconda3\\envs\\polars\\Lib\\site-packages\\sklearn\\base.py:1473: DataConversionWarning: A column-vector y was passed when a 1d array was expected. Please change the shape of y to (n_samples,), for example using ravel().\n",
      "  return fit_method(estimator, *args, **kwargs)\n",
      "C:\\Users\\jb5983on\\AppData\\Local\\anaconda3\\envs\\polars\\Lib\\site-packages\\sklearn\\base.py:1473: DataConversionWarning: A column-vector y was passed when a 1d array was expected. Please change the shape of y to (n_samples,), for example using ravel().\n",
      "  return fit_method(estimator, *args, **kwargs)\n"
     ]
    },
    {
     "name": "stdout",
     "output_type": "stream",
     "text": [
      "[CV 4/5] END class_weight=None, max_depth=None, min_samples_leaf=1, min_samples_split=10, n_estimators=10;, score=0.993 total time=   0.1s\n",
      "[CV 5/5] END class_weight=None, max_depth=None, min_samples_leaf=1, min_samples_split=10, n_estimators=10;, score=0.993 total time=   0.1s\n"
     ]
    },
    {
     "name": "stderr",
     "output_type": "stream",
     "text": [
      "C:\\Users\\jb5983on\\AppData\\Local\\anaconda3\\envs\\polars\\Lib\\site-packages\\sklearn\\base.py:1473: DataConversionWarning: A column-vector y was passed when a 1d array was expected. Please change the shape of y to (n_samples,), for example using ravel().\n",
      "  return fit_method(estimator, *args, **kwargs)\n",
      "C:\\Users\\jb5983on\\AppData\\Local\\anaconda3\\envs\\polars\\Lib\\site-packages\\sklearn\\base.py:1473: DataConversionWarning: A column-vector y was passed when a 1d array was expected. Please change the shape of y to (n_samples,), for example using ravel().\n",
      "  return fit_method(estimator, *args, **kwargs)\n"
     ]
    },
    {
     "name": "stdout",
     "output_type": "stream",
     "text": [
      "[CV 1/5] END class_weight=None, max_depth=None, min_samples_leaf=1, min_samples_split=10, n_estimators=100;, score=0.993 total time=   1.3s\n"
     ]
    },
    {
     "name": "stderr",
     "output_type": "stream",
     "text": [
      "C:\\Users\\jb5983on\\AppData\\Local\\anaconda3\\envs\\polars\\Lib\\site-packages\\sklearn\\base.py:1473: DataConversionWarning: A column-vector y was passed when a 1d array was expected. Please change the shape of y to (n_samples,), for example using ravel().\n",
      "  return fit_method(estimator, *args, **kwargs)\n"
     ]
    },
    {
     "name": "stdout",
     "output_type": "stream",
     "text": [
      "[CV 2/5] END class_weight=None, max_depth=None, min_samples_leaf=1, min_samples_split=10, n_estimators=100;, score=0.993 total time=   1.4s\n"
     ]
    },
    {
     "name": "stderr",
     "output_type": "stream",
     "text": [
      "C:\\Users\\jb5983on\\AppData\\Local\\anaconda3\\envs\\polars\\Lib\\site-packages\\sklearn\\base.py:1473: DataConversionWarning: A column-vector y was passed when a 1d array was expected. Please change the shape of y to (n_samples,), for example using ravel().\n",
      "  return fit_method(estimator, *args, **kwargs)\n"
     ]
    },
    {
     "name": "stdout",
     "output_type": "stream",
     "text": [
      "[CV 3/5] END class_weight=None, max_depth=None, min_samples_leaf=1, min_samples_split=10, n_estimators=100;, score=0.993 total time=   1.3s\n"
     ]
    },
    {
     "name": "stderr",
     "output_type": "stream",
     "text": [
      "C:\\Users\\jb5983on\\AppData\\Local\\anaconda3\\envs\\polars\\Lib\\site-packages\\sklearn\\base.py:1473: DataConversionWarning: A column-vector y was passed when a 1d array was expected. Please change the shape of y to (n_samples,), for example using ravel().\n",
      "  return fit_method(estimator, *args, **kwargs)\n"
     ]
    },
    {
     "name": "stdout",
     "output_type": "stream",
     "text": [
      "[CV 4/5] END class_weight=None, max_depth=None, min_samples_leaf=1, min_samples_split=10, n_estimators=100;, score=0.993 total time=   1.3s\n"
     ]
    },
    {
     "name": "stderr",
     "output_type": "stream",
     "text": [
      "C:\\Users\\jb5983on\\AppData\\Local\\anaconda3\\envs\\polars\\Lib\\site-packages\\sklearn\\base.py:1473: DataConversionWarning: A column-vector y was passed when a 1d array was expected. Please change the shape of y to (n_samples,), for example using ravel().\n",
      "  return fit_method(estimator, *args, **kwargs)\n"
     ]
    },
    {
     "name": "stdout",
     "output_type": "stream",
     "text": [
      "[CV 5/5] END class_weight=None, max_depth=None, min_samples_leaf=1, min_samples_split=10, n_estimators=100;, score=0.993 total time=   1.3s\n",
      "[CV 1/5] END class_weight=None, max_depth=None, min_samples_leaf=5, min_samples_split=1, n_estimators=10;, score=nan total time=   0.0s\n",
      "[CV 2/5] END class_weight=None, max_depth=None, min_samples_leaf=5, min_samples_split=1, n_estimators=10;, score=nan total time=   0.0s\n",
      "[CV 3/5] END class_weight=None, max_depth=None, min_samples_leaf=5, min_samples_split=1, n_estimators=10;, score=nan total time=   0.0s\n",
      "[CV 4/5] END class_weight=None, max_depth=None, min_samples_leaf=5, min_samples_split=1, n_estimators=10;, score=nan total time=   0.0s\n",
      "[CV 5/5] END class_weight=None, max_depth=None, min_samples_leaf=5, min_samples_split=1, n_estimators=10;, score=nan total time=   0.0s\n",
      "[CV 1/5] END class_weight=None, max_depth=None, min_samples_leaf=5, min_samples_split=1, n_estimators=100;, score=nan total time=   0.0s\n",
      "[CV 2/5] END class_weight=None, max_depth=None, min_samples_leaf=5, min_samples_split=1, n_estimators=100;, score=nan total time=   0.0s\n",
      "[CV 3/5] END class_weight=None, max_depth=None, min_samples_leaf=5, min_samples_split=1, n_estimators=100;, score=nan total time=   0.0s\n",
      "[CV 4/5] END class_weight=None, max_depth=None, min_samples_leaf=5, min_samples_split=1, n_estimators=100;, score=nan total time=   0.0s\n",
      "[CV 5/5] END class_weight=None, max_depth=None, min_samples_leaf=5, min_samples_split=1, n_estimators=100;, score=nan total time=   0.0s\n"
     ]
    },
    {
     "name": "stderr",
     "output_type": "stream",
     "text": [
      "C:\\Users\\jb5983on\\AppData\\Local\\anaconda3\\envs\\polars\\Lib\\site-packages\\sklearn\\base.py:1473: DataConversionWarning: A column-vector y was passed when a 1d array was expected. Please change the shape of y to (n_samples,), for example using ravel().\n",
      "  return fit_method(estimator, *args, **kwargs)\n"
     ]
    },
    {
     "name": "stdout",
     "output_type": "stream",
     "text": [
      "[CV 1/5] END class_weight=None, max_depth=None, min_samples_leaf=5, min_samples_split=5, n_estimators=10;, score=0.993 total time=   0.1s\n",
      "[CV 2/5] END class_weight=None, max_depth=None, min_samples_leaf=5, min_samples_split=5, n_estimators=10;, score=0.993 total time=   0.1s\n"
     ]
    },
    {
     "name": "stderr",
     "output_type": "stream",
     "text": [
      "C:\\Users\\jb5983on\\AppData\\Local\\anaconda3\\envs\\polars\\Lib\\site-packages\\sklearn\\base.py:1473: DataConversionWarning: A column-vector y was passed when a 1d array was expected. Please change the shape of y to (n_samples,), for example using ravel().\n",
      "  return fit_method(estimator, *args, **kwargs)\n",
      "C:\\Users\\jb5983on\\AppData\\Local\\anaconda3\\envs\\polars\\Lib\\site-packages\\sklearn\\base.py:1473: DataConversionWarning: A column-vector y was passed when a 1d array was expected. Please change the shape of y to (n_samples,), for example using ravel().\n",
      "  return fit_method(estimator, *args, **kwargs)\n"
     ]
    },
    {
     "name": "stdout",
     "output_type": "stream",
     "text": [
      "[CV 3/5] END class_weight=None, max_depth=None, min_samples_leaf=5, min_samples_split=5, n_estimators=10;, score=0.993 total time=   0.1s\n",
      "[CV 4/5] END class_weight=None, max_depth=None, min_samples_leaf=5, min_samples_split=5, n_estimators=10;, score=0.993 total time=   0.1s\n"
     ]
    },
    {
     "name": "stderr",
     "output_type": "stream",
     "text": [
      "C:\\Users\\jb5983on\\AppData\\Local\\anaconda3\\envs\\polars\\Lib\\site-packages\\sklearn\\base.py:1473: DataConversionWarning: A column-vector y was passed when a 1d array was expected. Please change the shape of y to (n_samples,), for example using ravel().\n",
      "  return fit_method(estimator, *args, **kwargs)\n",
      "C:\\Users\\jb5983on\\AppData\\Local\\anaconda3\\envs\\polars\\Lib\\site-packages\\sklearn\\base.py:1473: DataConversionWarning: A column-vector y was passed when a 1d array was expected. Please change the shape of y to (n_samples,), for example using ravel().\n",
      "  return fit_method(estimator, *args, **kwargs)\n"
     ]
    },
    {
     "name": "stdout",
     "output_type": "stream",
     "text": [
      "[CV 5/5] END class_weight=None, max_depth=None, min_samples_leaf=5, min_samples_split=5, n_estimators=10;, score=0.993 total time=   0.1s\n"
     ]
    },
    {
     "name": "stderr",
     "output_type": "stream",
     "text": [
      "C:\\Users\\jb5983on\\AppData\\Local\\anaconda3\\envs\\polars\\Lib\\site-packages\\sklearn\\base.py:1473: DataConversionWarning: A column-vector y was passed when a 1d array was expected. Please change the shape of y to (n_samples,), for example using ravel().\n",
      "  return fit_method(estimator, *args, **kwargs)\n"
     ]
    },
    {
     "name": "stdout",
     "output_type": "stream",
     "text": [
      "[CV 1/5] END class_weight=None, max_depth=None, min_samples_leaf=5, min_samples_split=5, n_estimators=100;, score=0.993 total time=   1.5s\n"
     ]
    },
    {
     "name": "stderr",
     "output_type": "stream",
     "text": [
      "C:\\Users\\jb5983on\\AppData\\Local\\anaconda3\\envs\\polars\\Lib\\site-packages\\sklearn\\base.py:1473: DataConversionWarning: A column-vector y was passed when a 1d array was expected. Please change the shape of y to (n_samples,), for example using ravel().\n",
      "  return fit_method(estimator, *args, **kwargs)\n"
     ]
    },
    {
     "name": "stdout",
     "output_type": "stream",
     "text": [
      "[CV 2/5] END class_weight=None, max_depth=None, min_samples_leaf=5, min_samples_split=5, n_estimators=100;, score=0.993 total time=   1.2s\n"
     ]
    },
    {
     "name": "stderr",
     "output_type": "stream",
     "text": [
      "C:\\Users\\jb5983on\\AppData\\Local\\anaconda3\\envs\\polars\\Lib\\site-packages\\sklearn\\base.py:1473: DataConversionWarning: A column-vector y was passed when a 1d array was expected. Please change the shape of y to (n_samples,), for example using ravel().\n",
      "  return fit_method(estimator, *args, **kwargs)\n"
     ]
    },
    {
     "name": "stdout",
     "output_type": "stream",
     "text": [
      "[CV 3/5] END class_weight=None, max_depth=None, min_samples_leaf=5, min_samples_split=5, n_estimators=100;, score=0.993 total time=   1.0s\n"
     ]
    },
    {
     "name": "stderr",
     "output_type": "stream",
     "text": [
      "C:\\Users\\jb5983on\\AppData\\Local\\anaconda3\\envs\\polars\\Lib\\site-packages\\sklearn\\base.py:1473: DataConversionWarning: A column-vector y was passed when a 1d array was expected. Please change the shape of y to (n_samples,), for example using ravel().\n",
      "  return fit_method(estimator, *args, **kwargs)\n"
     ]
    },
    {
     "name": "stdout",
     "output_type": "stream",
     "text": [
      "[CV 4/5] END class_weight=None, max_depth=None, min_samples_leaf=5, min_samples_split=5, n_estimators=100;, score=0.993 total time=   1.4s\n"
     ]
    },
    {
     "name": "stderr",
     "output_type": "stream",
     "text": [
      "C:\\Users\\jb5983on\\AppData\\Local\\anaconda3\\envs\\polars\\Lib\\site-packages\\sklearn\\base.py:1473: DataConversionWarning: A column-vector y was passed when a 1d array was expected. Please change the shape of y to (n_samples,), for example using ravel().\n",
      "  return fit_method(estimator, *args, **kwargs)\n"
     ]
    },
    {
     "name": "stdout",
     "output_type": "stream",
     "text": [
      "[CV 5/5] END class_weight=None, max_depth=None, min_samples_leaf=5, min_samples_split=5, n_estimators=100;, score=0.993 total time=   1.3s\n"
     ]
    },
    {
     "name": "stderr",
     "output_type": "stream",
     "text": [
      "C:\\Users\\jb5983on\\AppData\\Local\\anaconda3\\envs\\polars\\Lib\\site-packages\\sklearn\\base.py:1473: DataConversionWarning: A column-vector y was passed when a 1d array was expected. Please change the shape of y to (n_samples,), for example using ravel().\n",
      "  return fit_method(estimator, *args, **kwargs)\n"
     ]
    },
    {
     "name": "stdout",
     "output_type": "stream",
     "text": [
      "[CV 1/5] END class_weight=None, max_depth=None, min_samples_leaf=5, min_samples_split=10, n_estimators=10;, score=0.993 total time=   0.2s\n",
      "[CV 2/5] END class_weight=None, max_depth=None, min_samples_leaf=5, min_samples_split=10, n_estimators=10;, score=0.993 total time=   0.1s\n"
     ]
    },
    {
     "name": "stderr",
     "output_type": "stream",
     "text": [
      "C:\\Users\\jb5983on\\AppData\\Local\\anaconda3\\envs\\polars\\Lib\\site-packages\\sklearn\\base.py:1473: DataConversionWarning: A column-vector y was passed when a 1d array was expected. Please change the shape of y to (n_samples,), for example using ravel().\n",
      "  return fit_method(estimator, *args, **kwargs)\n",
      "C:\\Users\\jb5983on\\AppData\\Local\\anaconda3\\envs\\polars\\Lib\\site-packages\\sklearn\\base.py:1473: DataConversionWarning: A column-vector y was passed when a 1d array was expected. Please change the shape of y to (n_samples,), for example using ravel().\n",
      "  return fit_method(estimator, *args, **kwargs)\n"
     ]
    },
    {
     "name": "stdout",
     "output_type": "stream",
     "text": [
      "[CV 3/5] END class_weight=None, max_depth=None, min_samples_leaf=5, min_samples_split=10, n_estimators=10;, score=0.993 total time=   0.1s\n"
     ]
    },
    {
     "name": "stderr",
     "output_type": "stream",
     "text": [
      "C:\\Users\\jb5983on\\AppData\\Local\\anaconda3\\envs\\polars\\Lib\\site-packages\\sklearn\\base.py:1473: DataConversionWarning: A column-vector y was passed when a 1d array was expected. Please change the shape of y to (n_samples,), for example using ravel().\n",
      "  return fit_method(estimator, *args, **kwargs)\n"
     ]
    },
    {
     "name": "stdout",
     "output_type": "stream",
     "text": [
      "[CV 4/5] END class_weight=None, max_depth=None, min_samples_leaf=5, min_samples_split=10, n_estimators=10;, score=0.993 total time=   0.1s\n",
      "[CV 5/5] END class_weight=None, max_depth=None, min_samples_leaf=5, min_samples_split=10, n_estimators=10;, score=0.993 total time=   0.1s\n"
     ]
    },
    {
     "name": "stderr",
     "output_type": "stream",
     "text": [
      "C:\\Users\\jb5983on\\AppData\\Local\\anaconda3\\envs\\polars\\Lib\\site-packages\\sklearn\\base.py:1473: DataConversionWarning: A column-vector y was passed when a 1d array was expected. Please change the shape of y to (n_samples,), for example using ravel().\n",
      "  return fit_method(estimator, *args, **kwargs)\n",
      "C:\\Users\\jb5983on\\AppData\\Local\\anaconda3\\envs\\polars\\Lib\\site-packages\\sklearn\\base.py:1473: DataConversionWarning: A column-vector y was passed when a 1d array was expected. Please change the shape of y to (n_samples,), for example using ravel().\n",
      "  return fit_method(estimator, *args, **kwargs)\n"
     ]
    },
    {
     "name": "stdout",
     "output_type": "stream",
     "text": [
      "[CV 1/5] END class_weight=None, max_depth=None, min_samples_leaf=5, min_samples_split=10, n_estimators=100;, score=0.993 total time=   1.3s\n"
     ]
    },
    {
     "name": "stderr",
     "output_type": "stream",
     "text": [
      "C:\\Users\\jb5983on\\AppData\\Local\\anaconda3\\envs\\polars\\Lib\\site-packages\\sklearn\\base.py:1473: DataConversionWarning: A column-vector y was passed when a 1d array was expected. Please change the shape of y to (n_samples,), for example using ravel().\n",
      "  return fit_method(estimator, *args, **kwargs)\n"
     ]
    },
    {
     "name": "stdout",
     "output_type": "stream",
     "text": [
      "[CV 2/5] END class_weight=None, max_depth=None, min_samples_leaf=5, min_samples_split=10, n_estimators=100;, score=0.993 total time=   1.3s\n"
     ]
    },
    {
     "name": "stderr",
     "output_type": "stream",
     "text": [
      "C:\\Users\\jb5983on\\AppData\\Local\\anaconda3\\envs\\polars\\Lib\\site-packages\\sklearn\\base.py:1473: DataConversionWarning: A column-vector y was passed when a 1d array was expected. Please change the shape of y to (n_samples,), for example using ravel().\n",
      "  return fit_method(estimator, *args, **kwargs)\n"
     ]
    },
    {
     "name": "stdout",
     "output_type": "stream",
     "text": [
      "[CV 3/5] END class_weight=None, max_depth=None, min_samples_leaf=5, min_samples_split=10, n_estimators=100;, score=0.993 total time=   1.3s\n"
     ]
    },
    {
     "name": "stderr",
     "output_type": "stream",
     "text": [
      "C:\\Users\\jb5983on\\AppData\\Local\\anaconda3\\envs\\polars\\Lib\\site-packages\\sklearn\\base.py:1473: DataConversionWarning: A column-vector y was passed when a 1d array was expected. Please change the shape of y to (n_samples,), for example using ravel().\n",
      "  return fit_method(estimator, *args, **kwargs)\n"
     ]
    },
    {
     "name": "stdout",
     "output_type": "stream",
     "text": [
      "[CV 4/5] END class_weight=None, max_depth=None, min_samples_leaf=5, min_samples_split=10, n_estimators=100;, score=0.993 total time=   1.3s\n"
     ]
    },
    {
     "name": "stderr",
     "output_type": "stream",
     "text": [
      "C:\\Users\\jb5983on\\AppData\\Local\\anaconda3\\envs\\polars\\Lib\\site-packages\\sklearn\\base.py:1473: DataConversionWarning: A column-vector y was passed when a 1d array was expected. Please change the shape of y to (n_samples,), for example using ravel().\n",
      "  return fit_method(estimator, *args, **kwargs)\n"
     ]
    },
    {
     "name": "stdout",
     "output_type": "stream",
     "text": [
      "[CV 5/5] END class_weight=None, max_depth=None, min_samples_leaf=5, min_samples_split=10, n_estimators=100;, score=0.993 total time=   1.4s\n",
      "[CV 1/5] END class_weight=None, max_depth=None, min_samples_leaf=10, min_samples_split=1, n_estimators=10;, score=nan total time=   0.0s\n",
      "[CV 2/5] END class_weight=None, max_depth=None, min_samples_leaf=10, min_samples_split=1, n_estimators=10;, score=nan total time=   0.0s\n",
      "[CV 3/5] END class_weight=None, max_depth=None, min_samples_leaf=10, min_samples_split=1, n_estimators=10;, score=nan total time=   0.0s\n",
      "[CV 4/5] END class_weight=None, max_depth=None, min_samples_leaf=10, min_samples_split=1, n_estimators=10;, score=nan total time=   0.0s\n",
      "[CV 5/5] END class_weight=None, max_depth=None, min_samples_leaf=10, min_samples_split=1, n_estimators=10;, score=nan total time=   0.0s\n",
      "[CV 1/5] END class_weight=None, max_depth=None, min_samples_leaf=10, min_samples_split=1, n_estimators=100;, score=nan total time=   0.0s\n",
      "[CV 2/5] END class_weight=None, max_depth=None, min_samples_leaf=10, min_samples_split=1, n_estimators=100;, score=nan total time=   0.0s\n",
      "[CV 3/5] END class_weight=None, max_depth=None, min_samples_leaf=10, min_samples_split=1, n_estimators=100;, score=nan total time=   0.0s\n",
      "[CV 4/5] END class_weight=None, max_depth=None, min_samples_leaf=10, min_samples_split=1, n_estimators=100;, score=nan total time=   0.0s\n",
      "[CV 5/5] END class_weight=None, max_depth=None, min_samples_leaf=10, min_samples_split=1, n_estimators=100;, score=nan total time=   0.0s\n"
     ]
    },
    {
     "name": "stderr",
     "output_type": "stream",
     "text": [
      "C:\\Users\\jb5983on\\AppData\\Local\\anaconda3\\envs\\polars\\Lib\\site-packages\\sklearn\\base.py:1473: DataConversionWarning: A column-vector y was passed when a 1d array was expected. Please change the shape of y to (n_samples,), for example using ravel().\n",
      "  return fit_method(estimator, *args, **kwargs)\n"
     ]
    },
    {
     "name": "stdout",
     "output_type": "stream",
     "text": [
      "[CV 1/5] END class_weight=None, max_depth=None, min_samples_leaf=10, min_samples_split=5, n_estimators=10;, score=0.993 total time=   0.1s\n",
      "[CV 2/5] END class_weight=None, max_depth=None, min_samples_leaf=10, min_samples_split=5, n_estimators=10;, score=0.993 total time=   0.1s\n"
     ]
    },
    {
     "name": "stderr",
     "output_type": "stream",
     "text": [
      "C:\\Users\\jb5983on\\AppData\\Local\\anaconda3\\envs\\polars\\Lib\\site-packages\\sklearn\\base.py:1473: DataConversionWarning: A column-vector y was passed when a 1d array was expected. Please change the shape of y to (n_samples,), for example using ravel().\n",
      "  return fit_method(estimator, *args, **kwargs)\n",
      "C:\\Users\\jb5983on\\AppData\\Local\\anaconda3\\envs\\polars\\Lib\\site-packages\\sklearn\\base.py:1473: DataConversionWarning: A column-vector y was passed when a 1d array was expected. Please change the shape of y to (n_samples,), for example using ravel().\n",
      "  return fit_method(estimator, *args, **kwargs)\n"
     ]
    },
    {
     "name": "stdout",
     "output_type": "stream",
     "text": [
      "[CV 3/5] END class_weight=None, max_depth=None, min_samples_leaf=10, min_samples_split=5, n_estimators=10;, score=0.993 total time=   0.2s\n"
     ]
    },
    {
     "name": "stderr",
     "output_type": "stream",
     "text": [
      "C:\\Users\\jb5983on\\AppData\\Local\\anaconda3\\envs\\polars\\Lib\\site-packages\\sklearn\\base.py:1473: DataConversionWarning: A column-vector y was passed when a 1d array was expected. Please change the shape of y to (n_samples,), for example using ravel().\n",
      "  return fit_method(estimator, *args, **kwargs)\n"
     ]
    },
    {
     "name": "stdout",
     "output_type": "stream",
     "text": [
      "[CV 4/5] END class_weight=None, max_depth=None, min_samples_leaf=10, min_samples_split=5, n_estimators=10;, score=0.993 total time=   0.1s\n"
     ]
    },
    {
     "name": "stderr",
     "output_type": "stream",
     "text": [
      "C:\\Users\\jb5983on\\AppData\\Local\\anaconda3\\envs\\polars\\Lib\\site-packages\\sklearn\\base.py:1473: DataConversionWarning: A column-vector y was passed when a 1d array was expected. Please change the shape of y to (n_samples,), for example using ravel().\n",
      "  return fit_method(estimator, *args, **kwargs)\n",
      "C:\\Users\\jb5983on\\AppData\\Local\\anaconda3\\envs\\polars\\Lib\\site-packages\\sklearn\\base.py:1473: DataConversionWarning: A column-vector y was passed when a 1d array was expected. Please change the shape of y to (n_samples,), for example using ravel().\n",
      "  return fit_method(estimator, *args, **kwargs)\n"
     ]
    },
    {
     "name": "stdout",
     "output_type": "stream",
     "text": [
      "[CV 5/5] END class_weight=None, max_depth=None, min_samples_leaf=10, min_samples_split=5, n_estimators=10;, score=0.993 total time=   0.1s\n",
      "[CV 1/5] END class_weight=None, max_depth=None, min_samples_leaf=10, min_samples_split=5, n_estimators=100;, score=0.993 total time=   1.3s\n"
     ]
    },
    {
     "name": "stderr",
     "output_type": "stream",
     "text": [
      "C:\\Users\\jb5983on\\AppData\\Local\\anaconda3\\envs\\polars\\Lib\\site-packages\\sklearn\\base.py:1473: DataConversionWarning: A column-vector y was passed when a 1d array was expected. Please change the shape of y to (n_samples,), for example using ravel().\n",
      "  return fit_method(estimator, *args, **kwargs)\n"
     ]
    },
    {
     "name": "stdout",
     "output_type": "stream",
     "text": [
      "[CV 2/5] END class_weight=None, max_depth=None, min_samples_leaf=10, min_samples_split=5, n_estimators=100;, score=0.993 total time=   1.1s\n"
     ]
    },
    {
     "name": "stderr",
     "output_type": "stream",
     "text": [
      "C:\\Users\\jb5983on\\AppData\\Local\\anaconda3\\envs\\polars\\Lib\\site-packages\\sklearn\\base.py:1473: DataConversionWarning: A column-vector y was passed when a 1d array was expected. Please change the shape of y to (n_samples,), for example using ravel().\n",
      "  return fit_method(estimator, *args, **kwargs)\n"
     ]
    },
    {
     "name": "stdout",
     "output_type": "stream",
     "text": [
      "[CV 3/5] END class_weight=None, max_depth=None, min_samples_leaf=10, min_samples_split=5, n_estimators=100;, score=0.993 total time=   1.0s\n"
     ]
    },
    {
     "name": "stderr",
     "output_type": "stream",
     "text": [
      "C:\\Users\\jb5983on\\AppData\\Local\\anaconda3\\envs\\polars\\Lib\\site-packages\\sklearn\\base.py:1473: DataConversionWarning: A column-vector y was passed when a 1d array was expected. Please change the shape of y to (n_samples,), for example using ravel().\n",
      "  return fit_method(estimator, *args, **kwargs)\n"
     ]
    },
    {
     "name": "stdout",
     "output_type": "stream",
     "text": [
      "[CV 4/5] END class_weight=None, max_depth=None, min_samples_leaf=10, min_samples_split=5, n_estimators=100;, score=0.993 total time=   1.1s\n"
     ]
    },
    {
     "name": "stderr",
     "output_type": "stream",
     "text": [
      "C:\\Users\\jb5983on\\AppData\\Local\\anaconda3\\envs\\polars\\Lib\\site-packages\\sklearn\\base.py:1473: DataConversionWarning: A column-vector y was passed when a 1d array was expected. Please change the shape of y to (n_samples,), for example using ravel().\n",
      "  return fit_method(estimator, *args, **kwargs)\n"
     ]
    },
    {
     "name": "stdout",
     "output_type": "stream",
     "text": [
      "[CV 5/5] END class_weight=None, max_depth=None, min_samples_leaf=10, min_samples_split=5, n_estimators=100;, score=0.993 total time=   1.0s\n",
      "[CV 1/5] END class_weight=None, max_depth=None, min_samples_leaf=10, min_samples_split=10, n_estimators=10;, score=0.993 total time=   0.1s\n"
     ]
    },
    {
     "name": "stderr",
     "output_type": "stream",
     "text": [
      "C:\\Users\\jb5983on\\AppData\\Local\\anaconda3\\envs\\polars\\Lib\\site-packages\\sklearn\\base.py:1473: DataConversionWarning: A column-vector y was passed when a 1d array was expected. Please change the shape of y to (n_samples,), for example using ravel().\n",
      "  return fit_method(estimator, *args, **kwargs)\n",
      "C:\\Users\\jb5983on\\AppData\\Local\\anaconda3\\envs\\polars\\Lib\\site-packages\\sklearn\\base.py:1473: DataConversionWarning: A column-vector y was passed when a 1d array was expected. Please change the shape of y to (n_samples,), for example using ravel().\n",
      "  return fit_method(estimator, *args, **kwargs)\n"
     ]
    },
    {
     "name": "stdout",
     "output_type": "stream",
     "text": [
      "[CV 2/5] END class_weight=None, max_depth=None, min_samples_leaf=10, min_samples_split=10, n_estimators=10;, score=0.993 total time=   0.1s\n",
      "[CV 3/5] END class_weight=None, max_depth=None, min_samples_leaf=10, min_samples_split=10, n_estimators=10;, score=0.993 total time=   0.1s\n"
     ]
    },
    {
     "name": "stderr",
     "output_type": "stream",
     "text": [
      "C:\\Users\\jb5983on\\AppData\\Local\\anaconda3\\envs\\polars\\Lib\\site-packages\\sklearn\\base.py:1473: DataConversionWarning: A column-vector y was passed when a 1d array was expected. Please change the shape of y to (n_samples,), for example using ravel().\n",
      "  return fit_method(estimator, *args, **kwargs)\n",
      "C:\\Users\\jb5983on\\AppData\\Local\\anaconda3\\envs\\polars\\Lib\\site-packages\\sklearn\\base.py:1473: DataConversionWarning: A column-vector y was passed when a 1d array was expected. Please change the shape of y to (n_samples,), for example using ravel().\n",
      "  return fit_method(estimator, *args, **kwargs)\n",
      "C:\\Users\\jb5983on\\AppData\\Local\\anaconda3\\envs\\polars\\Lib\\site-packages\\sklearn\\base.py:1473: DataConversionWarning: A column-vector y was passed when a 1d array was expected. Please change the shape of y to (n_samples,), for example using ravel().\n",
      "  return fit_method(estimator, *args, **kwargs)\n"
     ]
    },
    {
     "name": "stdout",
     "output_type": "stream",
     "text": [
      "[CV 4/5] END class_weight=None, max_depth=None, min_samples_leaf=10, min_samples_split=10, n_estimators=10;, score=0.993 total time=   0.1s\n",
      "[CV 5/5] END class_weight=None, max_depth=None, min_samples_leaf=10, min_samples_split=10, n_estimators=10;, score=0.993 total time=   0.1s\n"
     ]
    },
    {
     "name": "stderr",
     "output_type": "stream",
     "text": [
      "C:\\Users\\jb5983on\\AppData\\Local\\anaconda3\\envs\\polars\\Lib\\site-packages\\sklearn\\base.py:1473: DataConversionWarning: A column-vector y was passed when a 1d array was expected. Please change the shape of y to (n_samples,), for example using ravel().\n",
      "  return fit_method(estimator, *args, **kwargs)\n"
     ]
    },
    {
     "name": "stdout",
     "output_type": "stream",
     "text": [
      "[CV 1/5] END class_weight=None, max_depth=None, min_samples_leaf=10, min_samples_split=10, n_estimators=100;, score=0.993 total time=   1.4s\n"
     ]
    },
    {
     "name": "stderr",
     "output_type": "stream",
     "text": [
      "C:\\Users\\jb5983on\\AppData\\Local\\anaconda3\\envs\\polars\\Lib\\site-packages\\sklearn\\base.py:1473: DataConversionWarning: A column-vector y was passed when a 1d array was expected. Please change the shape of y to (n_samples,), for example using ravel().\n",
      "  return fit_method(estimator, *args, **kwargs)\n"
     ]
    },
    {
     "name": "stdout",
     "output_type": "stream",
     "text": [
      "[CV 2/5] END class_weight=None, max_depth=None, min_samples_leaf=10, min_samples_split=10, n_estimators=100;, score=0.993 total time=   1.4s\n"
     ]
    },
    {
     "name": "stderr",
     "output_type": "stream",
     "text": [
      "C:\\Users\\jb5983on\\AppData\\Local\\anaconda3\\envs\\polars\\Lib\\site-packages\\sklearn\\base.py:1473: DataConversionWarning: A column-vector y was passed when a 1d array was expected. Please change the shape of y to (n_samples,), for example using ravel().\n",
      "  return fit_method(estimator, *args, **kwargs)\n"
     ]
    },
    {
     "name": "stdout",
     "output_type": "stream",
     "text": [
      "[CV 3/5] END class_weight=None, max_depth=None, min_samples_leaf=10, min_samples_split=10, n_estimators=100;, score=0.993 total time=   1.4s\n"
     ]
    },
    {
     "name": "stderr",
     "output_type": "stream",
     "text": [
      "C:\\Users\\jb5983on\\AppData\\Local\\anaconda3\\envs\\polars\\Lib\\site-packages\\sklearn\\base.py:1473: DataConversionWarning: A column-vector y was passed when a 1d array was expected. Please change the shape of y to (n_samples,), for example using ravel().\n",
      "  return fit_method(estimator, *args, **kwargs)\n"
     ]
    },
    {
     "name": "stdout",
     "output_type": "stream",
     "text": [
      "[CV 4/5] END class_weight=None, max_depth=None, min_samples_leaf=10, min_samples_split=10, n_estimators=100;, score=0.993 total time=   1.5s\n"
     ]
    },
    {
     "name": "stderr",
     "output_type": "stream",
     "text": [
      "C:\\Users\\jb5983on\\AppData\\Local\\anaconda3\\envs\\polars\\Lib\\site-packages\\sklearn\\base.py:1473: DataConversionWarning: A column-vector y was passed when a 1d array was expected. Please change the shape of y to (n_samples,), for example using ravel().\n",
      "  return fit_method(estimator, *args, **kwargs)\n"
     ]
    },
    {
     "name": "stdout",
     "output_type": "stream",
     "text": [
      "[CV 5/5] END class_weight=None, max_depth=None, min_samples_leaf=10, min_samples_split=10, n_estimators=100;, score=0.993 total time=   1.6s\n",
      "[CV 1/5] END class_weight=None, max_depth=1, min_samples_leaf=1, min_samples_split=1, n_estimators=10;, score=nan total time=   0.0s\n",
      "[CV 2/5] END class_weight=None, max_depth=1, min_samples_leaf=1, min_samples_split=1, n_estimators=10;, score=nan total time=   0.0s\n",
      "[CV 3/5] END class_weight=None, max_depth=1, min_samples_leaf=1, min_samples_split=1, n_estimators=10;, score=nan total time=   0.0s\n",
      "[CV 4/5] END class_weight=None, max_depth=1, min_samples_leaf=1, min_samples_split=1, n_estimators=10;, score=nan total time=   0.0s\n",
      "[CV 5/5] END class_weight=None, max_depth=1, min_samples_leaf=1, min_samples_split=1, n_estimators=10;, score=nan total time=   0.0s\n",
      "[CV 1/5] END class_weight=None, max_depth=1, min_samples_leaf=1, min_samples_split=1, n_estimators=100;, score=nan total time=   0.0s\n",
      "[CV 2/5] END class_weight=None, max_depth=1, min_samples_leaf=1, min_samples_split=1, n_estimators=100;, score=nan total time=   0.0s\n",
      "[CV 3/5] END class_weight=None, max_depth=1, min_samples_leaf=1, min_samples_split=1, n_estimators=100;, score=nan total time=   0.0s\n",
      "[CV 4/5] END class_weight=None, max_depth=1, min_samples_leaf=1, min_samples_split=1, n_estimators=100;, score=nan total time=   0.0s\n",
      "[CV 5/5] END class_weight=None, max_depth=1, min_samples_leaf=1, min_samples_split=1, n_estimators=100;, score=nan total time=   0.0s\n"
     ]
    },
    {
     "name": "stderr",
     "output_type": "stream",
     "text": [
      "C:\\Users\\jb5983on\\AppData\\Local\\anaconda3\\envs\\polars\\Lib\\site-packages\\sklearn\\base.py:1473: DataConversionWarning: A column-vector y was passed when a 1d array was expected. Please change the shape of y to (n_samples,), for example using ravel().\n",
      "  return fit_method(estimator, *args, **kwargs)\n",
      "C:\\Users\\jb5983on\\AppData\\Local\\anaconda3\\envs\\polars\\Lib\\site-packages\\sklearn\\base.py:1473: DataConversionWarning: A column-vector y was passed when a 1d array was expected. Please change the shape of y to (n_samples,), for example using ravel().\n",
      "  return fit_method(estimator, *args, **kwargs)\n"
     ]
    },
    {
     "name": "stdout",
     "output_type": "stream",
     "text": [
      "[CV 1/5] END class_weight=None, max_depth=1, min_samples_leaf=1, min_samples_split=5, n_estimators=10;, score=0.993 total time=   0.1s\n",
      "[CV 2/5] END class_weight=None, max_depth=1, min_samples_leaf=1, min_samples_split=5, n_estimators=10;, score=0.993 total time=   0.1s\n"
     ]
    },
    {
     "name": "stderr",
     "output_type": "stream",
     "text": [
      "C:\\Users\\jb5983on\\AppData\\Local\\anaconda3\\envs\\polars\\Lib\\site-packages\\sklearn\\base.py:1473: DataConversionWarning: A column-vector y was passed when a 1d array was expected. Please change the shape of y to (n_samples,), for example using ravel().\n",
      "  return fit_method(estimator, *args, **kwargs)\n"
     ]
    },
    {
     "name": "stdout",
     "output_type": "stream",
     "text": [
      "[CV 3/5] END class_weight=None, max_depth=1, min_samples_leaf=1, min_samples_split=5, n_estimators=10;, score=0.993 total time=   0.1s\n",
      "[CV 4/5] END class_weight=None, max_depth=1, min_samples_leaf=1, min_samples_split=5, n_estimators=10;, score=0.993 total time=   0.1s\n"
     ]
    },
    {
     "name": "stderr",
     "output_type": "stream",
     "text": [
      "C:\\Users\\jb5983on\\AppData\\Local\\anaconda3\\envs\\polars\\Lib\\site-packages\\sklearn\\base.py:1473: DataConversionWarning: A column-vector y was passed when a 1d array was expected. Please change the shape of y to (n_samples,), for example using ravel().\n",
      "  return fit_method(estimator, *args, **kwargs)\n",
      "C:\\Users\\jb5983on\\AppData\\Local\\anaconda3\\envs\\polars\\Lib\\site-packages\\sklearn\\base.py:1473: DataConversionWarning: A column-vector y was passed when a 1d array was expected. Please change the shape of y to (n_samples,), for example using ravel().\n",
      "  return fit_method(estimator, *args, **kwargs)\n"
     ]
    },
    {
     "name": "stdout",
     "output_type": "stream",
     "text": [
      "[CV 5/5] END class_weight=None, max_depth=1, min_samples_leaf=1, min_samples_split=5, n_estimators=10;, score=0.993 total time=   0.1s\n"
     ]
    },
    {
     "name": "stderr",
     "output_type": "stream",
     "text": [
      "C:\\Users\\jb5983on\\AppData\\Local\\anaconda3\\envs\\polars\\Lib\\site-packages\\sklearn\\base.py:1473: DataConversionWarning: A column-vector y was passed when a 1d array was expected. Please change the shape of y to (n_samples,), for example using ravel().\n",
      "  return fit_method(estimator, *args, **kwargs)\n"
     ]
    },
    {
     "name": "stdout",
     "output_type": "stream",
     "text": [
      "[CV 1/5] END class_weight=None, max_depth=1, min_samples_leaf=1, min_samples_split=5, n_estimators=100;, score=0.993 total time=   1.0s\n"
     ]
    },
    {
     "name": "stderr",
     "output_type": "stream",
     "text": [
      "C:\\Users\\jb5983on\\AppData\\Local\\anaconda3\\envs\\polars\\Lib\\site-packages\\sklearn\\base.py:1473: DataConversionWarning: A column-vector y was passed when a 1d array was expected. Please change the shape of y to (n_samples,), for example using ravel().\n",
      "  return fit_method(estimator, *args, **kwargs)\n"
     ]
    },
    {
     "name": "stdout",
     "output_type": "stream",
     "text": [
      "[CV 2/5] END class_weight=None, max_depth=1, min_samples_leaf=1, min_samples_split=5, n_estimators=100;, score=0.993 total time=   0.9s\n"
     ]
    },
    {
     "name": "stderr",
     "output_type": "stream",
     "text": [
      "C:\\Users\\jb5983on\\AppData\\Local\\anaconda3\\envs\\polars\\Lib\\site-packages\\sklearn\\base.py:1473: DataConversionWarning: A column-vector y was passed when a 1d array was expected. Please change the shape of y to (n_samples,), for example using ravel().\n",
      "  return fit_method(estimator, *args, **kwargs)\n"
     ]
    },
    {
     "name": "stdout",
     "output_type": "stream",
     "text": [
      "[CV 3/5] END class_weight=None, max_depth=1, min_samples_leaf=1, min_samples_split=5, n_estimators=100;, score=0.993 total time=   0.8s\n"
     ]
    },
    {
     "name": "stderr",
     "output_type": "stream",
     "text": [
      "C:\\Users\\jb5983on\\AppData\\Local\\anaconda3\\envs\\polars\\Lib\\site-packages\\sklearn\\base.py:1473: DataConversionWarning: A column-vector y was passed when a 1d array was expected. Please change the shape of y to (n_samples,), for example using ravel().\n",
      "  return fit_method(estimator, *args, **kwargs)\n"
     ]
    },
    {
     "name": "stdout",
     "output_type": "stream",
     "text": [
      "[CV 4/5] END class_weight=None, max_depth=1, min_samples_leaf=1, min_samples_split=5, n_estimators=100;, score=0.993 total time=   0.8s\n"
     ]
    },
    {
     "name": "stderr",
     "output_type": "stream",
     "text": [
      "C:\\Users\\jb5983on\\AppData\\Local\\anaconda3\\envs\\polars\\Lib\\site-packages\\sklearn\\base.py:1473: DataConversionWarning: A column-vector y was passed when a 1d array was expected. Please change the shape of y to (n_samples,), for example using ravel().\n",
      "  return fit_method(estimator, *args, **kwargs)\n"
     ]
    },
    {
     "name": "stdout",
     "output_type": "stream",
     "text": [
      "[CV 5/5] END class_weight=None, max_depth=1, min_samples_leaf=1, min_samples_split=5, n_estimators=100;, score=0.993 total time=   0.9s\n",
      "[CV 1/5] END class_weight=None, max_depth=1, min_samples_leaf=1, min_samples_split=10, n_estimators=10;, score=0.993 total time=   0.1s\n"
     ]
    },
    {
     "name": "stderr",
     "output_type": "stream",
     "text": [
      "C:\\Users\\jb5983on\\AppData\\Local\\anaconda3\\envs\\polars\\Lib\\site-packages\\sklearn\\base.py:1473: DataConversionWarning: A column-vector y was passed when a 1d array was expected. Please change the shape of y to (n_samples,), for example using ravel().\n",
      "  return fit_method(estimator, *args, **kwargs)\n",
      "C:\\Users\\jb5983on\\AppData\\Local\\anaconda3\\envs\\polars\\Lib\\site-packages\\sklearn\\base.py:1473: DataConversionWarning: A column-vector y was passed when a 1d array was expected. Please change the shape of y to (n_samples,), for example using ravel().\n",
      "  return fit_method(estimator, *args, **kwargs)\n"
     ]
    },
    {
     "name": "stdout",
     "output_type": "stream",
     "text": [
      "[CV 2/5] END class_weight=None, max_depth=1, min_samples_leaf=1, min_samples_split=10, n_estimators=10;, score=0.993 total time=   0.1s\n",
      "[CV 3/5] END class_weight=None, max_depth=1, min_samples_leaf=1, min_samples_split=10, n_estimators=10;, score=0.993 total time=   0.1s\n"
     ]
    },
    {
     "name": "stderr",
     "output_type": "stream",
     "text": [
      "C:\\Users\\jb5983on\\AppData\\Local\\anaconda3\\envs\\polars\\Lib\\site-packages\\sklearn\\base.py:1473: DataConversionWarning: A column-vector y was passed when a 1d array was expected. Please change the shape of y to (n_samples,), for example using ravel().\n",
      "  return fit_method(estimator, *args, **kwargs)\n",
      "C:\\Users\\jb5983on\\AppData\\Local\\anaconda3\\envs\\polars\\Lib\\site-packages\\sklearn\\base.py:1473: DataConversionWarning: A column-vector y was passed when a 1d array was expected. Please change the shape of y to (n_samples,), for example using ravel().\n",
      "  return fit_method(estimator, *args, **kwargs)\n"
     ]
    },
    {
     "name": "stdout",
     "output_type": "stream",
     "text": [
      "[CV 4/5] END class_weight=None, max_depth=1, min_samples_leaf=1, min_samples_split=10, n_estimators=10;, score=0.993 total time=   0.1s\n",
      "[CV 5/5] END class_weight=None, max_depth=1, min_samples_leaf=1, min_samples_split=10, n_estimators=10;, score=0.993 total time=   0.1s\n"
     ]
    },
    {
     "name": "stderr",
     "output_type": "stream",
     "text": [
      "C:\\Users\\jb5983on\\AppData\\Local\\anaconda3\\envs\\polars\\Lib\\site-packages\\sklearn\\base.py:1473: DataConversionWarning: A column-vector y was passed when a 1d array was expected. Please change the shape of y to (n_samples,), for example using ravel().\n",
      "  return fit_method(estimator, *args, **kwargs)\n",
      "C:\\Users\\jb5983on\\AppData\\Local\\anaconda3\\envs\\polars\\Lib\\site-packages\\sklearn\\base.py:1473: DataConversionWarning: A column-vector y was passed when a 1d array was expected. Please change the shape of y to (n_samples,), for example using ravel().\n",
      "  return fit_method(estimator, *args, **kwargs)\n"
     ]
    },
    {
     "name": "stdout",
     "output_type": "stream",
     "text": [
      "[CV 1/5] END class_weight=None, max_depth=1, min_samples_leaf=1, min_samples_split=10, n_estimators=100;, score=0.993 total time=   0.9s\n"
     ]
    },
    {
     "name": "stderr",
     "output_type": "stream",
     "text": [
      "C:\\Users\\jb5983on\\AppData\\Local\\anaconda3\\envs\\polars\\Lib\\site-packages\\sklearn\\base.py:1473: DataConversionWarning: A column-vector y was passed when a 1d array was expected. Please change the shape of y to (n_samples,), for example using ravel().\n",
      "  return fit_method(estimator, *args, **kwargs)\n"
     ]
    },
    {
     "name": "stdout",
     "output_type": "stream",
     "text": [
      "[CV 2/5] END class_weight=None, max_depth=1, min_samples_leaf=1, min_samples_split=10, n_estimators=100;, score=0.993 total time=   0.9s\n"
     ]
    },
    {
     "name": "stderr",
     "output_type": "stream",
     "text": [
      "C:\\Users\\jb5983on\\AppData\\Local\\anaconda3\\envs\\polars\\Lib\\site-packages\\sklearn\\base.py:1473: DataConversionWarning: A column-vector y was passed when a 1d array was expected. Please change the shape of y to (n_samples,), for example using ravel().\n",
      "  return fit_method(estimator, *args, **kwargs)\n"
     ]
    },
    {
     "name": "stdout",
     "output_type": "stream",
     "text": [
      "[CV 3/5] END class_weight=None, max_depth=1, min_samples_leaf=1, min_samples_split=10, n_estimators=100;, score=0.993 total time=   0.9s\n"
     ]
    },
    {
     "name": "stderr",
     "output_type": "stream",
     "text": [
      "C:\\Users\\jb5983on\\AppData\\Local\\anaconda3\\envs\\polars\\Lib\\site-packages\\sklearn\\base.py:1473: DataConversionWarning: A column-vector y was passed when a 1d array was expected. Please change the shape of y to (n_samples,), for example using ravel().\n",
      "  return fit_method(estimator, *args, **kwargs)\n"
     ]
    },
    {
     "name": "stdout",
     "output_type": "stream",
     "text": [
      "[CV 4/5] END class_weight=None, max_depth=1, min_samples_leaf=1, min_samples_split=10, n_estimators=100;, score=0.993 total time=   0.8s\n"
     ]
    },
    {
     "name": "stderr",
     "output_type": "stream",
     "text": [
      "C:\\Users\\jb5983on\\AppData\\Local\\anaconda3\\envs\\polars\\Lib\\site-packages\\sklearn\\base.py:1473: DataConversionWarning: A column-vector y was passed when a 1d array was expected. Please change the shape of y to (n_samples,), for example using ravel().\n",
      "  return fit_method(estimator, *args, **kwargs)\n"
     ]
    },
    {
     "name": "stdout",
     "output_type": "stream",
     "text": [
      "[CV 5/5] END class_weight=None, max_depth=1, min_samples_leaf=1, min_samples_split=10, n_estimators=100;, score=0.993 total time=   0.7s\n",
      "[CV 1/5] END class_weight=None, max_depth=1, min_samples_leaf=5, min_samples_split=1, n_estimators=10;, score=nan total time=   0.0s\n",
      "[CV 2/5] END class_weight=None, max_depth=1, min_samples_leaf=5, min_samples_split=1, n_estimators=10;, score=nan total time=   0.0s\n",
      "[CV 3/5] END class_weight=None, max_depth=1, min_samples_leaf=5, min_samples_split=1, n_estimators=10;, score=nan total time=   0.0s\n",
      "[CV 4/5] END class_weight=None, max_depth=1, min_samples_leaf=5, min_samples_split=1, n_estimators=10;, score=nan total time=   0.0s\n",
      "[CV 5/5] END class_weight=None, max_depth=1, min_samples_leaf=5, min_samples_split=1, n_estimators=10;, score=nan total time=   0.0s\n",
      "[CV 1/5] END class_weight=None, max_depth=1, min_samples_leaf=5, min_samples_split=1, n_estimators=100;, score=nan total time=   0.0s\n",
      "[CV 2/5] END class_weight=None, max_depth=1, min_samples_leaf=5, min_samples_split=1, n_estimators=100;, score=nan total time=   0.0s\n",
      "[CV 3/5] END class_weight=None, max_depth=1, min_samples_leaf=5, min_samples_split=1, n_estimators=100;, score=nan total time=   0.0s\n",
      "[CV 4/5] END class_weight=None, max_depth=1, min_samples_leaf=5, min_samples_split=1, n_estimators=100;, score=nan total time=   0.0s\n",
      "[CV 5/5] END class_weight=None, max_depth=1, min_samples_leaf=5, min_samples_split=1, n_estimators=100;, score=nan total time=   0.0s\n"
     ]
    },
    {
     "name": "stderr",
     "output_type": "stream",
     "text": [
      "C:\\Users\\jb5983on\\AppData\\Local\\anaconda3\\envs\\polars\\Lib\\site-packages\\sklearn\\base.py:1473: DataConversionWarning: A column-vector y was passed when a 1d array was expected. Please change the shape of y to (n_samples,), for example using ravel().\n",
      "  return fit_method(estimator, *args, **kwargs)\n",
      "C:\\Users\\jb5983on\\AppData\\Local\\anaconda3\\envs\\polars\\Lib\\site-packages\\sklearn\\base.py:1473: DataConversionWarning: A column-vector y was passed when a 1d array was expected. Please change the shape of y to (n_samples,), for example using ravel().\n",
      "  return fit_method(estimator, *args, **kwargs)\n"
     ]
    },
    {
     "name": "stdout",
     "output_type": "stream",
     "text": [
      "[CV 1/5] END class_weight=None, max_depth=1, min_samples_leaf=5, min_samples_split=5, n_estimators=10;, score=0.993 total time=   0.1s\n",
      "[CV 2/5] END class_weight=None, max_depth=1, min_samples_leaf=5, min_samples_split=5, n_estimators=10;, score=0.993 total time=   0.1s\n"
     ]
    },
    {
     "name": "stderr",
     "output_type": "stream",
     "text": [
      "C:\\Users\\jb5983on\\AppData\\Local\\anaconda3\\envs\\polars\\Lib\\site-packages\\sklearn\\base.py:1473: DataConversionWarning: A column-vector y was passed when a 1d array was expected. Please change the shape of y to (n_samples,), for example using ravel().\n",
      "  return fit_method(estimator, *args, **kwargs)\n",
      "C:\\Users\\jb5983on\\AppData\\Local\\anaconda3\\envs\\polars\\Lib\\site-packages\\sklearn\\base.py:1473: DataConversionWarning: A column-vector y was passed when a 1d array was expected. Please change the shape of y to (n_samples,), for example using ravel().\n",
      "  return fit_method(estimator, *args, **kwargs)\n"
     ]
    },
    {
     "name": "stdout",
     "output_type": "stream",
     "text": [
      "[CV 3/5] END class_weight=None, max_depth=1, min_samples_leaf=5, min_samples_split=5, n_estimators=10;, score=0.993 total time=   0.1s\n",
      "[CV 4/5] END class_weight=None, max_depth=1, min_samples_leaf=5, min_samples_split=5, n_estimators=10;, score=0.993 total time=   0.1s\n"
     ]
    },
    {
     "name": "stderr",
     "output_type": "stream",
     "text": [
      "C:\\Users\\jb5983on\\AppData\\Local\\anaconda3\\envs\\polars\\Lib\\site-packages\\sklearn\\base.py:1473: DataConversionWarning: A column-vector y was passed when a 1d array was expected. Please change the shape of y to (n_samples,), for example using ravel().\n",
      "  return fit_method(estimator, *args, **kwargs)\n",
      "C:\\Users\\jb5983on\\AppData\\Local\\anaconda3\\envs\\polars\\Lib\\site-packages\\sklearn\\base.py:1473: DataConversionWarning: A column-vector y was passed when a 1d array was expected. Please change the shape of y to (n_samples,), for example using ravel().\n",
      "  return fit_method(estimator, *args, **kwargs)\n"
     ]
    },
    {
     "name": "stdout",
     "output_type": "stream",
     "text": [
      "[CV 5/5] END class_weight=None, max_depth=1, min_samples_leaf=5, min_samples_split=5, n_estimators=10;, score=0.993 total time=   0.1s\n",
      "[CV 1/5] END class_weight=None, max_depth=1, min_samples_leaf=5, min_samples_split=5, n_estimators=100;, score=0.993 total time=   0.7s\n"
     ]
    },
    {
     "name": "stderr",
     "output_type": "stream",
     "text": [
      "C:\\Users\\jb5983on\\AppData\\Local\\anaconda3\\envs\\polars\\Lib\\site-packages\\sklearn\\base.py:1473: DataConversionWarning: A column-vector y was passed when a 1d array was expected. Please change the shape of y to (n_samples,), for example using ravel().\n",
      "  return fit_method(estimator, *args, **kwargs)\n"
     ]
    },
    {
     "name": "stdout",
     "output_type": "stream",
     "text": [
      "[CV 2/5] END class_weight=None, max_depth=1, min_samples_leaf=5, min_samples_split=5, n_estimators=100;, score=0.993 total time=   0.8s\n"
     ]
    },
    {
     "name": "stderr",
     "output_type": "stream",
     "text": [
      "C:\\Users\\jb5983on\\AppData\\Local\\anaconda3\\envs\\polars\\Lib\\site-packages\\sklearn\\base.py:1473: DataConversionWarning: A column-vector y was passed when a 1d array was expected. Please change the shape of y to (n_samples,), for example using ravel().\n",
      "  return fit_method(estimator, *args, **kwargs)\n"
     ]
    },
    {
     "name": "stdout",
     "output_type": "stream",
     "text": [
      "[CV 3/5] END class_weight=None, max_depth=1, min_samples_leaf=5, min_samples_split=5, n_estimators=100;, score=0.993 total time=   0.8s\n"
     ]
    },
    {
     "name": "stderr",
     "output_type": "stream",
     "text": [
      "C:\\Users\\jb5983on\\AppData\\Local\\anaconda3\\envs\\polars\\Lib\\site-packages\\sklearn\\base.py:1473: DataConversionWarning: A column-vector y was passed when a 1d array was expected. Please change the shape of y to (n_samples,), for example using ravel().\n",
      "  return fit_method(estimator, *args, **kwargs)\n"
     ]
    },
    {
     "name": "stdout",
     "output_type": "stream",
     "text": [
      "[CV 4/5] END class_weight=None, max_depth=1, min_samples_leaf=5, min_samples_split=5, n_estimators=100;, score=0.993 total time=   0.8s\n"
     ]
    },
    {
     "name": "stderr",
     "output_type": "stream",
     "text": [
      "C:\\Users\\jb5983on\\AppData\\Local\\anaconda3\\envs\\polars\\Lib\\site-packages\\sklearn\\base.py:1473: DataConversionWarning: A column-vector y was passed when a 1d array was expected. Please change the shape of y to (n_samples,), for example using ravel().\n",
      "  return fit_method(estimator, *args, **kwargs)\n"
     ]
    },
    {
     "name": "stdout",
     "output_type": "stream",
     "text": [
      "[CV 5/5] END class_weight=None, max_depth=1, min_samples_leaf=5, min_samples_split=5, n_estimators=100;, score=0.993 total time=   0.8s\n",
      "[CV 1/5] END class_weight=None, max_depth=1, min_samples_leaf=5, min_samples_split=10, n_estimators=10;, score=0.993 total time=   0.1s\n"
     ]
    },
    {
     "name": "stderr",
     "output_type": "stream",
     "text": [
      "C:\\Users\\jb5983on\\AppData\\Local\\anaconda3\\envs\\polars\\Lib\\site-packages\\sklearn\\base.py:1473: DataConversionWarning: A column-vector y was passed when a 1d array was expected. Please change the shape of y to (n_samples,), for example using ravel().\n",
      "  return fit_method(estimator, *args, **kwargs)\n",
      "C:\\Users\\jb5983on\\AppData\\Local\\anaconda3\\envs\\polars\\Lib\\site-packages\\sklearn\\base.py:1473: DataConversionWarning: A column-vector y was passed when a 1d array was expected. Please change the shape of y to (n_samples,), for example using ravel().\n",
      "  return fit_method(estimator, *args, **kwargs)\n"
     ]
    },
    {
     "name": "stdout",
     "output_type": "stream",
     "text": [
      "[CV 2/5] END class_weight=None, max_depth=1, min_samples_leaf=5, min_samples_split=10, n_estimators=10;, score=0.993 total time=   0.1s\n",
      "[CV 3/5] END class_weight=None, max_depth=1, min_samples_leaf=5, min_samples_split=10, n_estimators=10;, score=0.993 total time=   0.1s\n"
     ]
    },
    {
     "name": "stderr",
     "output_type": "stream",
     "text": [
      "C:\\Users\\jb5983on\\AppData\\Local\\anaconda3\\envs\\polars\\Lib\\site-packages\\sklearn\\base.py:1473: DataConversionWarning: A column-vector y was passed when a 1d array was expected. Please change the shape of y to (n_samples,), for example using ravel().\n",
      "  return fit_method(estimator, *args, **kwargs)\n",
      "C:\\Users\\jb5983on\\AppData\\Local\\anaconda3\\envs\\polars\\Lib\\site-packages\\sklearn\\base.py:1473: DataConversionWarning: A column-vector y was passed when a 1d array was expected. Please change the shape of y to (n_samples,), for example using ravel().\n",
      "  return fit_method(estimator, *args, **kwargs)\n"
     ]
    },
    {
     "name": "stdout",
     "output_type": "stream",
     "text": [
      "[CV 4/5] END class_weight=None, max_depth=1, min_samples_leaf=5, min_samples_split=10, n_estimators=10;, score=0.993 total time=   0.0s\n",
      "[CV 5/5] END class_weight=None, max_depth=1, min_samples_leaf=5, min_samples_split=10, n_estimators=10;, score=0.993 total time=   0.1s\n"
     ]
    },
    {
     "name": "stderr",
     "output_type": "stream",
     "text": [
      "C:\\Users\\jb5983on\\AppData\\Local\\anaconda3\\envs\\polars\\Lib\\site-packages\\sklearn\\base.py:1473: DataConversionWarning: A column-vector y was passed when a 1d array was expected. Please change the shape of y to (n_samples,), for example using ravel().\n",
      "  return fit_method(estimator, *args, **kwargs)\n",
      "C:\\Users\\jb5983on\\AppData\\Local\\anaconda3\\envs\\polars\\Lib\\site-packages\\sklearn\\base.py:1473: DataConversionWarning: A column-vector y was passed when a 1d array was expected. Please change the shape of y to (n_samples,), for example using ravel().\n",
      "  return fit_method(estimator, *args, **kwargs)\n"
     ]
    },
    {
     "name": "stdout",
     "output_type": "stream",
     "text": [
      "[CV 1/5] END class_weight=None, max_depth=1, min_samples_leaf=5, min_samples_split=10, n_estimators=100;, score=0.993 total time=   0.8s\n"
     ]
    },
    {
     "name": "stderr",
     "output_type": "stream",
     "text": [
      "C:\\Users\\jb5983on\\AppData\\Local\\anaconda3\\envs\\polars\\Lib\\site-packages\\sklearn\\base.py:1473: DataConversionWarning: A column-vector y was passed when a 1d array was expected. Please change the shape of y to (n_samples,), for example using ravel().\n",
      "  return fit_method(estimator, *args, **kwargs)\n"
     ]
    },
    {
     "name": "stdout",
     "output_type": "stream",
     "text": [
      "[CV 2/5] END class_weight=None, max_depth=1, min_samples_leaf=5, min_samples_split=10, n_estimators=100;, score=0.993 total time=   0.7s\n"
     ]
    },
    {
     "name": "stderr",
     "output_type": "stream",
     "text": [
      "C:\\Users\\jb5983on\\AppData\\Local\\anaconda3\\envs\\polars\\Lib\\site-packages\\sklearn\\base.py:1473: DataConversionWarning: A column-vector y was passed when a 1d array was expected. Please change the shape of y to (n_samples,), for example using ravel().\n",
      "  return fit_method(estimator, *args, **kwargs)\n"
     ]
    },
    {
     "name": "stdout",
     "output_type": "stream",
     "text": [
      "[CV 3/5] END class_weight=None, max_depth=1, min_samples_leaf=5, min_samples_split=10, n_estimators=100;, score=0.993 total time=   0.7s\n"
     ]
    },
    {
     "name": "stderr",
     "output_type": "stream",
     "text": [
      "C:\\Users\\jb5983on\\AppData\\Local\\anaconda3\\envs\\polars\\Lib\\site-packages\\sklearn\\base.py:1473: DataConversionWarning: A column-vector y was passed when a 1d array was expected. Please change the shape of y to (n_samples,), for example using ravel().\n",
      "  return fit_method(estimator, *args, **kwargs)\n"
     ]
    },
    {
     "name": "stdout",
     "output_type": "stream",
     "text": [
      "[CV 4/5] END class_weight=None, max_depth=1, min_samples_leaf=5, min_samples_split=10, n_estimators=100;, score=0.993 total time=   0.5s\n"
     ]
    },
    {
     "name": "stderr",
     "output_type": "stream",
     "text": [
      "C:\\Users\\jb5983on\\AppData\\Local\\anaconda3\\envs\\polars\\Lib\\site-packages\\sklearn\\base.py:1473: DataConversionWarning: A column-vector y was passed when a 1d array was expected. Please change the shape of y to (n_samples,), for example using ravel().\n",
      "  return fit_method(estimator, *args, **kwargs)\n"
     ]
    },
    {
     "name": "stdout",
     "output_type": "stream",
     "text": [
      "[CV 5/5] END class_weight=None, max_depth=1, min_samples_leaf=5, min_samples_split=10, n_estimators=100;, score=0.993 total time=   0.7s\n",
      "[CV 1/5] END class_weight=None, max_depth=1, min_samples_leaf=10, min_samples_split=1, n_estimators=10;, score=nan total time=   0.0s\n",
      "[CV 2/5] END class_weight=None, max_depth=1, min_samples_leaf=10, min_samples_split=1, n_estimators=10;, score=nan total time=   0.0s\n",
      "[CV 3/5] END class_weight=None, max_depth=1, min_samples_leaf=10, min_samples_split=1, n_estimators=10;, score=nan total time=   0.0s\n",
      "[CV 4/5] END class_weight=None, max_depth=1, min_samples_leaf=10, min_samples_split=1, n_estimators=10;, score=nan total time=   0.0s\n",
      "[CV 5/5] END class_weight=None, max_depth=1, min_samples_leaf=10, min_samples_split=1, n_estimators=10;, score=nan total time=   0.0s\n",
      "[CV 1/5] END class_weight=None, max_depth=1, min_samples_leaf=10, min_samples_split=1, n_estimators=100;, score=nan total time=   0.0s\n",
      "[CV 2/5] END class_weight=None, max_depth=1, min_samples_leaf=10, min_samples_split=1, n_estimators=100;, score=nan total time=   0.0s\n",
      "[CV 3/5] END class_weight=None, max_depth=1, min_samples_leaf=10, min_samples_split=1, n_estimators=100;, score=nan total time=   0.0s\n",
      "[CV 4/5] END class_weight=None, max_depth=1, min_samples_leaf=10, min_samples_split=1, n_estimators=100;, score=nan total time=   0.0s\n",
      "[CV 5/5] END class_weight=None, max_depth=1, min_samples_leaf=10, min_samples_split=1, n_estimators=100;, score=nan total time=   0.0s\n"
     ]
    },
    {
     "name": "stderr",
     "output_type": "stream",
     "text": [
      "C:\\Users\\jb5983on\\AppData\\Local\\anaconda3\\envs\\polars\\Lib\\site-packages\\sklearn\\base.py:1473: DataConversionWarning: A column-vector y was passed when a 1d array was expected. Please change the shape of y to (n_samples,), for example using ravel().\n",
      "  return fit_method(estimator, *args, **kwargs)\n",
      "C:\\Users\\jb5983on\\AppData\\Local\\anaconda3\\envs\\polars\\Lib\\site-packages\\sklearn\\base.py:1473: DataConversionWarning: A column-vector y was passed when a 1d array was expected. Please change the shape of y to (n_samples,), for example using ravel().\n",
      "  return fit_method(estimator, *args, **kwargs)\n"
     ]
    },
    {
     "name": "stdout",
     "output_type": "stream",
     "text": [
      "[CV 1/5] END class_weight=None, max_depth=1, min_samples_leaf=10, min_samples_split=5, n_estimators=10;, score=0.993 total time=   0.0s\n",
      "[CV 2/5] END class_weight=None, max_depth=1, min_samples_leaf=10, min_samples_split=5, n_estimators=10;, score=0.993 total time=   0.0s\n"
     ]
    },
    {
     "name": "stderr",
     "output_type": "stream",
     "text": [
      "C:\\Users\\jb5983on\\AppData\\Local\\anaconda3\\envs\\polars\\Lib\\site-packages\\sklearn\\base.py:1473: DataConversionWarning: A column-vector y was passed when a 1d array was expected. Please change the shape of y to (n_samples,), for example using ravel().\n",
      "  return fit_method(estimator, *args, **kwargs)\n",
      "C:\\Users\\jb5983on\\AppData\\Local\\anaconda3\\envs\\polars\\Lib\\site-packages\\sklearn\\base.py:1473: DataConversionWarning: A column-vector y was passed when a 1d array was expected. Please change the shape of y to (n_samples,), for example using ravel().\n",
      "  return fit_method(estimator, *args, **kwargs)\n"
     ]
    },
    {
     "name": "stdout",
     "output_type": "stream",
     "text": [
      "[CV 3/5] END class_weight=None, max_depth=1, min_samples_leaf=10, min_samples_split=5, n_estimators=10;, score=0.993 total time=   0.0s\n",
      "[CV 4/5] END class_weight=None, max_depth=1, min_samples_leaf=10, min_samples_split=5, n_estimators=10;, score=0.993 total time=   0.0s\n"
     ]
    },
    {
     "name": "stderr",
     "output_type": "stream",
     "text": [
      "C:\\Users\\jb5983on\\AppData\\Local\\anaconda3\\envs\\polars\\Lib\\site-packages\\sklearn\\base.py:1473: DataConversionWarning: A column-vector y was passed when a 1d array was expected. Please change the shape of y to (n_samples,), for example using ravel().\n",
      "  return fit_method(estimator, *args, **kwargs)\n",
      "C:\\Users\\jb5983on\\AppData\\Local\\anaconda3\\envs\\polars\\Lib\\site-packages\\sklearn\\base.py:1473: DataConversionWarning: A column-vector y was passed when a 1d array was expected. Please change the shape of y to (n_samples,), for example using ravel().\n",
      "  return fit_method(estimator, *args, **kwargs)\n"
     ]
    },
    {
     "name": "stdout",
     "output_type": "stream",
     "text": [
      "[CV 5/5] END class_weight=None, max_depth=1, min_samples_leaf=10, min_samples_split=5, n_estimators=10;, score=0.993 total time=   0.1s\n",
      "[CV 1/5] END class_weight=None, max_depth=1, min_samples_leaf=10, min_samples_split=5, n_estimators=100;, score=0.993 total time=   0.7s\n"
     ]
    },
    {
     "name": "stderr",
     "output_type": "stream",
     "text": [
      "C:\\Users\\jb5983on\\AppData\\Local\\anaconda3\\envs\\polars\\Lib\\site-packages\\sklearn\\base.py:1473: DataConversionWarning: A column-vector y was passed when a 1d array was expected. Please change the shape of y to (n_samples,), for example using ravel().\n",
      "  return fit_method(estimator, *args, **kwargs)\n"
     ]
    },
    {
     "name": "stdout",
     "output_type": "stream",
     "text": [
      "[CV 2/5] END class_weight=None, max_depth=1, min_samples_leaf=10, min_samples_split=5, n_estimators=100;, score=0.993 total time=   0.8s\n"
     ]
    },
    {
     "name": "stderr",
     "output_type": "stream",
     "text": [
      "C:\\Users\\jb5983on\\AppData\\Local\\anaconda3\\envs\\polars\\Lib\\site-packages\\sklearn\\base.py:1473: DataConversionWarning: A column-vector y was passed when a 1d array was expected. Please change the shape of y to (n_samples,), for example using ravel().\n",
      "  return fit_method(estimator, *args, **kwargs)\n"
     ]
    },
    {
     "name": "stdout",
     "output_type": "stream",
     "text": [
      "[CV 3/5] END class_weight=None, max_depth=1, min_samples_leaf=10, min_samples_split=5, n_estimators=100;, score=0.993 total time=   0.7s\n"
     ]
    },
    {
     "name": "stderr",
     "output_type": "stream",
     "text": [
      "C:\\Users\\jb5983on\\AppData\\Local\\anaconda3\\envs\\polars\\Lib\\site-packages\\sklearn\\base.py:1473: DataConversionWarning: A column-vector y was passed when a 1d array was expected. Please change the shape of y to (n_samples,), for example using ravel().\n",
      "  return fit_method(estimator, *args, **kwargs)\n"
     ]
    },
    {
     "name": "stdout",
     "output_type": "stream",
     "text": [
      "[CV 4/5] END class_weight=None, max_depth=1, min_samples_leaf=10, min_samples_split=5, n_estimators=100;, score=0.993 total time=   0.8s\n"
     ]
    },
    {
     "name": "stderr",
     "output_type": "stream",
     "text": [
      "C:\\Users\\jb5983on\\AppData\\Local\\anaconda3\\envs\\polars\\Lib\\site-packages\\sklearn\\base.py:1473: DataConversionWarning: A column-vector y was passed when a 1d array was expected. Please change the shape of y to (n_samples,), for example using ravel().\n",
      "  return fit_method(estimator, *args, **kwargs)\n"
     ]
    },
    {
     "name": "stdout",
     "output_type": "stream",
     "text": [
      "[CV 5/5] END class_weight=None, max_depth=1, min_samples_leaf=10, min_samples_split=5, n_estimators=100;, score=0.993 total time=   0.7s\n",
      "[CV 1/5] END class_weight=None, max_depth=1, min_samples_leaf=10, min_samples_split=10, n_estimators=10;, score=0.993 total time=   0.1s\n"
     ]
    },
    {
     "name": "stderr",
     "output_type": "stream",
     "text": [
      "C:\\Users\\jb5983on\\AppData\\Local\\anaconda3\\envs\\polars\\Lib\\site-packages\\sklearn\\base.py:1473: DataConversionWarning: A column-vector y was passed when a 1d array was expected. Please change the shape of y to (n_samples,), for example using ravel().\n",
      "  return fit_method(estimator, *args, **kwargs)\n",
      "C:\\Users\\jb5983on\\AppData\\Local\\anaconda3\\envs\\polars\\Lib\\site-packages\\sklearn\\base.py:1473: DataConversionWarning: A column-vector y was passed when a 1d array was expected. Please change the shape of y to (n_samples,), for example using ravel().\n",
      "  return fit_method(estimator, *args, **kwargs)\n"
     ]
    },
    {
     "name": "stdout",
     "output_type": "stream",
     "text": [
      "[CV 2/5] END class_weight=None, max_depth=1, min_samples_leaf=10, min_samples_split=10, n_estimators=10;, score=0.993 total time=   0.1s\n",
      "[CV 3/5] END class_weight=None, max_depth=1, min_samples_leaf=10, min_samples_split=10, n_estimators=10;, score=0.993 total time=   0.1s\n"
     ]
    },
    {
     "name": "stderr",
     "output_type": "stream",
     "text": [
      "C:\\Users\\jb5983on\\AppData\\Local\\anaconda3\\envs\\polars\\Lib\\site-packages\\sklearn\\base.py:1473: DataConversionWarning: A column-vector y was passed when a 1d array was expected. Please change the shape of y to (n_samples,), for example using ravel().\n",
      "  return fit_method(estimator, *args, **kwargs)\n",
      "C:\\Users\\jb5983on\\AppData\\Local\\anaconda3\\envs\\polars\\Lib\\site-packages\\sklearn\\base.py:1473: DataConversionWarning: A column-vector y was passed when a 1d array was expected. Please change the shape of y to (n_samples,), for example using ravel().\n",
      "  return fit_method(estimator, *args, **kwargs)\n"
     ]
    },
    {
     "name": "stdout",
     "output_type": "stream",
     "text": [
      "[CV 4/5] END class_weight=None, max_depth=1, min_samples_leaf=10, min_samples_split=10, n_estimators=10;, score=0.993 total time=   0.1s\n",
      "[CV 5/5] END class_weight=None, max_depth=1, min_samples_leaf=10, min_samples_split=10, n_estimators=10;, score=0.993 total time=   0.1s\n"
     ]
    },
    {
     "name": "stderr",
     "output_type": "stream",
     "text": [
      "C:\\Users\\jb5983on\\AppData\\Local\\anaconda3\\envs\\polars\\Lib\\site-packages\\sklearn\\base.py:1473: DataConversionWarning: A column-vector y was passed when a 1d array was expected. Please change the shape of y to (n_samples,), for example using ravel().\n",
      "  return fit_method(estimator, *args, **kwargs)\n",
      "C:\\Users\\jb5983on\\AppData\\Local\\anaconda3\\envs\\polars\\Lib\\site-packages\\sklearn\\base.py:1473: DataConversionWarning: A column-vector y was passed when a 1d array was expected. Please change the shape of y to (n_samples,), for example using ravel().\n",
      "  return fit_method(estimator, *args, **kwargs)\n"
     ]
    },
    {
     "name": "stdout",
     "output_type": "stream",
     "text": [
      "[CV 1/5] END class_weight=None, max_depth=1, min_samples_leaf=10, min_samples_split=10, n_estimators=100;, score=0.993 total time=   0.7s\n"
     ]
    },
    {
     "name": "stderr",
     "output_type": "stream",
     "text": [
      "C:\\Users\\jb5983on\\AppData\\Local\\anaconda3\\envs\\polars\\Lib\\site-packages\\sklearn\\base.py:1473: DataConversionWarning: A column-vector y was passed when a 1d array was expected. Please change the shape of y to (n_samples,), for example using ravel().\n",
      "  return fit_method(estimator, *args, **kwargs)\n"
     ]
    },
    {
     "name": "stdout",
     "output_type": "stream",
     "text": [
      "[CV 2/5] END class_weight=None, max_depth=1, min_samples_leaf=10, min_samples_split=10, n_estimators=100;, score=0.993 total time=   0.7s\n"
     ]
    },
    {
     "name": "stderr",
     "output_type": "stream",
     "text": [
      "C:\\Users\\jb5983on\\AppData\\Local\\anaconda3\\envs\\polars\\Lib\\site-packages\\sklearn\\base.py:1473: DataConversionWarning: A column-vector y was passed when a 1d array was expected. Please change the shape of y to (n_samples,), for example using ravel().\n",
      "  return fit_method(estimator, *args, **kwargs)\n"
     ]
    },
    {
     "name": "stdout",
     "output_type": "stream",
     "text": [
      "[CV 3/5] END class_weight=None, max_depth=1, min_samples_leaf=10, min_samples_split=10, n_estimators=100;, score=0.993 total time=   0.7s\n"
     ]
    },
    {
     "name": "stderr",
     "output_type": "stream",
     "text": [
      "C:\\Users\\jb5983on\\AppData\\Local\\anaconda3\\envs\\polars\\Lib\\site-packages\\sklearn\\base.py:1473: DataConversionWarning: A column-vector y was passed when a 1d array was expected. Please change the shape of y to (n_samples,), for example using ravel().\n",
      "  return fit_method(estimator, *args, **kwargs)\n"
     ]
    },
    {
     "name": "stdout",
     "output_type": "stream",
     "text": [
      "[CV 4/5] END class_weight=None, max_depth=1, min_samples_leaf=10, min_samples_split=10, n_estimators=100;, score=0.993 total time=   0.8s\n"
     ]
    },
    {
     "name": "stderr",
     "output_type": "stream",
     "text": [
      "C:\\Users\\jb5983on\\AppData\\Local\\anaconda3\\envs\\polars\\Lib\\site-packages\\sklearn\\base.py:1473: DataConversionWarning: A column-vector y was passed when a 1d array was expected. Please change the shape of y to (n_samples,), for example using ravel().\n",
      "  return fit_method(estimator, *args, **kwargs)\n"
     ]
    },
    {
     "name": "stdout",
     "output_type": "stream",
     "text": [
      "[CV 5/5] END class_weight=None, max_depth=1, min_samples_leaf=10, min_samples_split=10, n_estimators=100;, score=0.993 total time=   0.7s\n",
      "[CV 1/5] END class_weight=None, max_depth=2, min_samples_leaf=1, min_samples_split=1, n_estimators=10;, score=nan total time=   0.0s\n",
      "[CV 2/5] END class_weight=None, max_depth=2, min_samples_leaf=1, min_samples_split=1, n_estimators=10;, score=nan total time=   0.0s\n",
      "[CV 3/5] END class_weight=None, max_depth=2, min_samples_leaf=1, min_samples_split=1, n_estimators=10;, score=nan total time=   0.0s\n",
      "[CV 4/5] END class_weight=None, max_depth=2, min_samples_leaf=1, min_samples_split=1, n_estimators=10;, score=nan total time=   0.0s\n",
      "[CV 5/5] END class_weight=None, max_depth=2, min_samples_leaf=1, min_samples_split=1, n_estimators=10;, score=nan total time=   0.0s\n",
      "[CV 1/5] END class_weight=None, max_depth=2, min_samples_leaf=1, min_samples_split=1, n_estimators=100;, score=nan total time=   0.0s\n",
      "[CV 2/5] END class_weight=None, max_depth=2, min_samples_leaf=1, min_samples_split=1, n_estimators=100;, score=nan total time=   0.0s\n",
      "[CV 3/5] END class_weight=None, max_depth=2, min_samples_leaf=1, min_samples_split=1, n_estimators=100;, score=nan total time=   0.0s\n",
      "[CV 4/5] END class_weight=None, max_depth=2, min_samples_leaf=1, min_samples_split=1, n_estimators=100;, score=nan total time=   0.0s\n",
      "[CV 5/5] END class_weight=None, max_depth=2, min_samples_leaf=1, min_samples_split=1, n_estimators=100;, score=nan total time=   0.0s\n"
     ]
    },
    {
     "name": "stderr",
     "output_type": "stream",
     "text": [
      "C:\\Users\\jb5983on\\AppData\\Local\\anaconda3\\envs\\polars\\Lib\\site-packages\\sklearn\\base.py:1473: DataConversionWarning: A column-vector y was passed when a 1d array was expected. Please change the shape of y to (n_samples,), for example using ravel().\n",
      "  return fit_method(estimator, *args, **kwargs)\n",
      "C:\\Users\\jb5983on\\AppData\\Local\\anaconda3\\envs\\polars\\Lib\\site-packages\\sklearn\\base.py:1473: DataConversionWarning: A column-vector y was passed when a 1d array was expected. Please change the shape of y to (n_samples,), for example using ravel().\n",
      "  return fit_method(estimator, *args, **kwargs)\n"
     ]
    },
    {
     "name": "stdout",
     "output_type": "stream",
     "text": [
      "[CV 1/5] END class_weight=None, max_depth=2, min_samples_leaf=1, min_samples_split=5, n_estimators=10;, score=0.993 total time=   0.1s\n",
      "[CV 2/5] END class_weight=None, max_depth=2, min_samples_leaf=1, min_samples_split=5, n_estimators=10;, score=0.993 total time=   0.1s\n"
     ]
    },
    {
     "name": "stderr",
     "output_type": "stream",
     "text": [
      "C:\\Users\\jb5983on\\AppData\\Local\\anaconda3\\envs\\polars\\Lib\\site-packages\\sklearn\\base.py:1473: DataConversionWarning: A column-vector y was passed when a 1d array was expected. Please change the shape of y to (n_samples,), for example using ravel().\n",
      "  return fit_method(estimator, *args, **kwargs)\n",
      "C:\\Users\\jb5983on\\AppData\\Local\\anaconda3\\envs\\polars\\Lib\\site-packages\\sklearn\\base.py:1473: DataConversionWarning: A column-vector y was passed when a 1d array was expected. Please change the shape of y to (n_samples,), for example using ravel().\n",
      "  return fit_method(estimator, *args, **kwargs)\n"
     ]
    },
    {
     "name": "stdout",
     "output_type": "stream",
     "text": [
      "[CV 3/5] END class_weight=None, max_depth=2, min_samples_leaf=1, min_samples_split=5, n_estimators=10;, score=0.993 total time=   0.1s\n",
      "[CV 4/5] END class_weight=None, max_depth=2, min_samples_leaf=1, min_samples_split=5, n_estimators=10;, score=0.993 total time=   0.1s\n"
     ]
    },
    {
     "name": "stderr",
     "output_type": "stream",
     "text": [
      "C:\\Users\\jb5983on\\AppData\\Local\\anaconda3\\envs\\polars\\Lib\\site-packages\\sklearn\\base.py:1473: DataConversionWarning: A column-vector y was passed when a 1d array was expected. Please change the shape of y to (n_samples,), for example using ravel().\n",
      "  return fit_method(estimator, *args, **kwargs)\n",
      "C:\\Users\\jb5983on\\AppData\\Local\\anaconda3\\envs\\polars\\Lib\\site-packages\\sklearn\\base.py:1473: DataConversionWarning: A column-vector y was passed when a 1d array was expected. Please change the shape of y to (n_samples,), for example using ravel().\n",
      "  return fit_method(estimator, *args, **kwargs)\n"
     ]
    },
    {
     "name": "stdout",
     "output_type": "stream",
     "text": [
      "[CV 5/5] END class_weight=None, max_depth=2, min_samples_leaf=1, min_samples_split=5, n_estimators=10;, score=0.993 total time=   0.1s\n",
      "[CV 1/5] END class_weight=None, max_depth=2, min_samples_leaf=1, min_samples_split=5, n_estimators=100;, score=0.993 total time=   1.0s\n"
     ]
    },
    {
     "name": "stderr",
     "output_type": "stream",
     "text": [
      "C:\\Users\\jb5983on\\AppData\\Local\\anaconda3\\envs\\polars\\Lib\\site-packages\\sklearn\\base.py:1473: DataConversionWarning: A column-vector y was passed when a 1d array was expected. Please change the shape of y to (n_samples,), for example using ravel().\n",
      "  return fit_method(estimator, *args, **kwargs)\n"
     ]
    },
    {
     "name": "stdout",
     "output_type": "stream",
     "text": [
      "[CV 2/5] END class_weight=None, max_depth=2, min_samples_leaf=1, min_samples_split=5, n_estimators=100;, score=0.993 total time=   0.9s\n"
     ]
    },
    {
     "name": "stderr",
     "output_type": "stream",
     "text": [
      "C:\\Users\\jb5983on\\AppData\\Local\\anaconda3\\envs\\polars\\Lib\\site-packages\\sklearn\\base.py:1473: DataConversionWarning: A column-vector y was passed when a 1d array was expected. Please change the shape of y to (n_samples,), for example using ravel().\n",
      "  return fit_method(estimator, *args, **kwargs)\n"
     ]
    },
    {
     "name": "stdout",
     "output_type": "stream",
     "text": [
      "[CV 3/5] END class_weight=None, max_depth=2, min_samples_leaf=1, min_samples_split=5, n_estimators=100;, score=0.993 total time=   0.9s\n"
     ]
    },
    {
     "name": "stderr",
     "output_type": "stream",
     "text": [
      "C:\\Users\\jb5983on\\AppData\\Local\\anaconda3\\envs\\polars\\Lib\\site-packages\\sklearn\\base.py:1473: DataConversionWarning: A column-vector y was passed when a 1d array was expected. Please change the shape of y to (n_samples,), for example using ravel().\n",
      "  return fit_method(estimator, *args, **kwargs)\n"
     ]
    },
    {
     "name": "stdout",
     "output_type": "stream",
     "text": [
      "[CV 4/5] END class_weight=None, max_depth=2, min_samples_leaf=1, min_samples_split=5, n_estimators=100;, score=0.993 total time=   0.7s\n"
     ]
    },
    {
     "name": "stderr",
     "output_type": "stream",
     "text": [
      "C:\\Users\\jb5983on\\AppData\\Local\\anaconda3\\envs\\polars\\Lib\\site-packages\\sklearn\\base.py:1473: DataConversionWarning: A column-vector y was passed when a 1d array was expected. Please change the shape of y to (n_samples,), for example using ravel().\n",
      "  return fit_method(estimator, *args, **kwargs)\n"
     ]
    },
    {
     "name": "stdout",
     "output_type": "stream",
     "text": [
      "[CV 5/5] END class_weight=None, max_depth=2, min_samples_leaf=1, min_samples_split=5, n_estimators=100;, score=0.993 total time=   0.7s\n",
      "[CV 1/5] END class_weight=None, max_depth=2, min_samples_leaf=1, min_samples_split=10, n_estimators=10;, score=0.993 total time=   0.1s\n"
     ]
    },
    {
     "name": "stderr",
     "output_type": "stream",
     "text": [
      "C:\\Users\\jb5983on\\AppData\\Local\\anaconda3\\envs\\polars\\Lib\\site-packages\\sklearn\\base.py:1473: DataConversionWarning: A column-vector y was passed when a 1d array was expected. Please change the shape of y to (n_samples,), for example using ravel().\n",
      "  return fit_method(estimator, *args, **kwargs)\n",
      "C:\\Users\\jb5983on\\AppData\\Local\\anaconda3\\envs\\polars\\Lib\\site-packages\\sklearn\\base.py:1473: DataConversionWarning: A column-vector y was passed when a 1d array was expected. Please change the shape of y to (n_samples,), for example using ravel().\n",
      "  return fit_method(estimator, *args, **kwargs)\n"
     ]
    },
    {
     "name": "stdout",
     "output_type": "stream",
     "text": [
      "[CV 2/5] END class_weight=None, max_depth=2, min_samples_leaf=1, min_samples_split=10, n_estimators=10;, score=0.993 total time=   0.0s\n",
      "[CV 3/5] END class_weight=None, max_depth=2, min_samples_leaf=1, min_samples_split=10, n_estimators=10;, score=0.993 total time=   0.0s\n"
     ]
    },
    {
     "name": "stderr",
     "output_type": "stream",
     "text": [
      "C:\\Users\\jb5983on\\AppData\\Local\\anaconda3\\envs\\polars\\Lib\\site-packages\\sklearn\\base.py:1473: DataConversionWarning: A column-vector y was passed when a 1d array was expected. Please change the shape of y to (n_samples,), for example using ravel().\n",
      "  return fit_method(estimator, *args, **kwargs)\n",
      "C:\\Users\\jb5983on\\AppData\\Local\\anaconda3\\envs\\polars\\Lib\\site-packages\\sklearn\\base.py:1473: DataConversionWarning: A column-vector y was passed when a 1d array was expected. Please change the shape of y to (n_samples,), for example using ravel().\n",
      "  return fit_method(estimator, *args, **kwargs)\n"
     ]
    },
    {
     "name": "stdout",
     "output_type": "stream",
     "text": [
      "[CV 4/5] END class_weight=None, max_depth=2, min_samples_leaf=1, min_samples_split=10, n_estimators=10;, score=0.993 total time=   0.0s\n",
      "[CV 5/5] END class_weight=None, max_depth=2, min_samples_leaf=1, min_samples_split=10, n_estimators=10;, score=0.993 total time=   0.0s\n"
     ]
    },
    {
     "name": "stderr",
     "output_type": "stream",
     "text": [
      "C:\\Users\\jb5983on\\AppData\\Local\\anaconda3\\envs\\polars\\Lib\\site-packages\\sklearn\\base.py:1473: DataConversionWarning: A column-vector y was passed when a 1d array was expected. Please change the shape of y to (n_samples,), for example using ravel().\n",
      "  return fit_method(estimator, *args, **kwargs)\n",
      "C:\\Users\\jb5983on\\AppData\\Local\\anaconda3\\envs\\polars\\Lib\\site-packages\\sklearn\\base.py:1473: DataConversionWarning: A column-vector y was passed when a 1d array was expected. Please change the shape of y to (n_samples,), for example using ravel().\n",
      "  return fit_method(estimator, *args, **kwargs)\n"
     ]
    },
    {
     "name": "stdout",
     "output_type": "stream",
     "text": [
      "[CV 1/5] END class_weight=None, max_depth=2, min_samples_leaf=1, min_samples_split=10, n_estimators=100;, score=0.993 total time=   0.7s\n"
     ]
    },
    {
     "name": "stderr",
     "output_type": "stream",
     "text": [
      "C:\\Users\\jb5983on\\AppData\\Local\\anaconda3\\envs\\polars\\Lib\\site-packages\\sklearn\\base.py:1473: DataConversionWarning: A column-vector y was passed when a 1d array was expected. Please change the shape of y to (n_samples,), for example using ravel().\n",
      "  return fit_method(estimator, *args, **kwargs)\n"
     ]
    },
    {
     "name": "stdout",
     "output_type": "stream",
     "text": [
      "[CV 2/5] END class_weight=None, max_depth=2, min_samples_leaf=1, min_samples_split=10, n_estimators=100;, score=0.993 total time=   0.9s\n"
     ]
    },
    {
     "name": "stderr",
     "output_type": "stream",
     "text": [
      "C:\\Users\\jb5983on\\AppData\\Local\\anaconda3\\envs\\polars\\Lib\\site-packages\\sklearn\\base.py:1473: DataConversionWarning: A column-vector y was passed when a 1d array was expected. Please change the shape of y to (n_samples,), for example using ravel().\n",
      "  return fit_method(estimator, *args, **kwargs)\n"
     ]
    },
    {
     "name": "stdout",
     "output_type": "stream",
     "text": [
      "[CV 3/5] END class_weight=None, max_depth=2, min_samples_leaf=1, min_samples_split=10, n_estimators=100;, score=0.993 total time=   0.9s\n"
     ]
    },
    {
     "name": "stderr",
     "output_type": "stream",
     "text": [
      "C:\\Users\\jb5983on\\AppData\\Local\\anaconda3\\envs\\polars\\Lib\\site-packages\\sklearn\\base.py:1473: DataConversionWarning: A column-vector y was passed when a 1d array was expected. Please change the shape of y to (n_samples,), for example using ravel().\n",
      "  return fit_method(estimator, *args, **kwargs)\n"
     ]
    },
    {
     "name": "stdout",
     "output_type": "stream",
     "text": [
      "[CV 4/5] END class_weight=None, max_depth=2, min_samples_leaf=1, min_samples_split=10, n_estimators=100;, score=0.993 total time=   0.9s\n"
     ]
    },
    {
     "name": "stderr",
     "output_type": "stream",
     "text": [
      "C:\\Users\\jb5983on\\AppData\\Local\\anaconda3\\envs\\polars\\Lib\\site-packages\\sklearn\\base.py:1473: DataConversionWarning: A column-vector y was passed when a 1d array was expected. Please change the shape of y to (n_samples,), for example using ravel().\n",
      "  return fit_method(estimator, *args, **kwargs)\n"
     ]
    },
    {
     "name": "stdout",
     "output_type": "stream",
     "text": [
      "[CV 5/5] END class_weight=None, max_depth=2, min_samples_leaf=1, min_samples_split=10, n_estimators=100;, score=0.993 total time=   1.0s\n",
      "[CV 1/5] END class_weight=None, max_depth=2, min_samples_leaf=5, min_samples_split=1, n_estimators=10;, score=nan total time=   0.0s\n",
      "[CV 2/5] END class_weight=None, max_depth=2, min_samples_leaf=5, min_samples_split=1, n_estimators=10;, score=nan total time=   0.0s\n",
      "[CV 3/5] END class_weight=None, max_depth=2, min_samples_leaf=5, min_samples_split=1, n_estimators=10;, score=nan total time=   0.0s\n",
      "[CV 4/5] END class_weight=None, max_depth=2, min_samples_leaf=5, min_samples_split=1, n_estimators=10;, score=nan total time=   0.0s\n",
      "[CV 5/5] END class_weight=None, max_depth=2, min_samples_leaf=5, min_samples_split=1, n_estimators=10;, score=nan total time=   0.0s\n",
      "[CV 1/5] END class_weight=None, max_depth=2, min_samples_leaf=5, min_samples_split=1, n_estimators=100;, score=nan total time=   0.0s\n",
      "[CV 2/5] END class_weight=None, max_depth=2, min_samples_leaf=5, min_samples_split=1, n_estimators=100;, score=nan total time=   0.0s\n",
      "[CV 3/5] END class_weight=None, max_depth=2, min_samples_leaf=5, min_samples_split=1, n_estimators=100;, score=nan total time=   0.0s\n",
      "[CV 4/5] END class_weight=None, max_depth=2, min_samples_leaf=5, min_samples_split=1, n_estimators=100;, score=nan total time=   0.0s\n",
      "[CV 5/5] END class_weight=None, max_depth=2, min_samples_leaf=5, min_samples_split=1, n_estimators=100;, score=nan total time=   0.0s\n"
     ]
    },
    {
     "name": "stderr",
     "output_type": "stream",
     "text": [
      "C:\\Users\\jb5983on\\AppData\\Local\\anaconda3\\envs\\polars\\Lib\\site-packages\\sklearn\\base.py:1473: DataConversionWarning: A column-vector y was passed when a 1d array was expected. Please change the shape of y to (n_samples,), for example using ravel().\n",
      "  return fit_method(estimator, *args, **kwargs)\n",
      "C:\\Users\\jb5983on\\AppData\\Local\\anaconda3\\envs\\polars\\Lib\\site-packages\\sklearn\\base.py:1473: DataConversionWarning: A column-vector y was passed when a 1d array was expected. Please change the shape of y to (n_samples,), for example using ravel().\n",
      "  return fit_method(estimator, *args, **kwargs)\n"
     ]
    },
    {
     "name": "stdout",
     "output_type": "stream",
     "text": [
      "[CV 1/5] END class_weight=None, max_depth=2, min_samples_leaf=5, min_samples_split=5, n_estimators=10;, score=0.993 total time=   0.1s\n",
      "[CV 2/5] END class_weight=None, max_depth=2, min_samples_leaf=5, min_samples_split=5, n_estimators=10;, score=0.993 total time=   0.1s\n"
     ]
    },
    {
     "name": "stderr",
     "output_type": "stream",
     "text": [
      "C:\\Users\\jb5983on\\AppData\\Local\\anaconda3\\envs\\polars\\Lib\\site-packages\\sklearn\\base.py:1473: DataConversionWarning: A column-vector y was passed when a 1d array was expected. Please change the shape of y to (n_samples,), for example using ravel().\n",
      "  return fit_method(estimator, *args, **kwargs)\n",
      "C:\\Users\\jb5983on\\AppData\\Local\\anaconda3\\envs\\polars\\Lib\\site-packages\\sklearn\\base.py:1473: DataConversionWarning: A column-vector y was passed when a 1d array was expected. Please change the shape of y to (n_samples,), for example using ravel().\n",
      "  return fit_method(estimator, *args, **kwargs)\n"
     ]
    },
    {
     "name": "stdout",
     "output_type": "stream",
     "text": [
      "[CV 3/5] END class_weight=None, max_depth=2, min_samples_leaf=5, min_samples_split=5, n_estimators=10;, score=0.993 total time=   0.1s\n",
      "[CV 4/5] END class_weight=None, max_depth=2, min_samples_leaf=5, min_samples_split=5, n_estimators=10;, score=0.993 total time=   0.1s\n"
     ]
    },
    {
     "name": "stderr",
     "output_type": "stream",
     "text": [
      "C:\\Users\\jb5983on\\AppData\\Local\\anaconda3\\envs\\polars\\Lib\\site-packages\\sklearn\\base.py:1473: DataConversionWarning: A column-vector y was passed when a 1d array was expected. Please change the shape of y to (n_samples,), for example using ravel().\n",
      "  return fit_method(estimator, *args, **kwargs)\n",
      "C:\\Users\\jb5983on\\AppData\\Local\\anaconda3\\envs\\polars\\Lib\\site-packages\\sklearn\\base.py:1473: DataConversionWarning: A column-vector y was passed when a 1d array was expected. Please change the shape of y to (n_samples,), for example using ravel().\n",
      "  return fit_method(estimator, *args, **kwargs)\n"
     ]
    },
    {
     "name": "stdout",
     "output_type": "stream",
     "text": [
      "[CV 5/5] END class_weight=None, max_depth=2, min_samples_leaf=5, min_samples_split=5, n_estimators=10;, score=0.993 total time=   0.1s\n",
      "[CV 1/5] END class_weight=None, max_depth=2, min_samples_leaf=5, min_samples_split=5, n_estimators=100;, score=0.993 total time=   0.9s\n"
     ]
    },
    {
     "name": "stderr",
     "output_type": "stream",
     "text": [
      "C:\\Users\\jb5983on\\AppData\\Local\\anaconda3\\envs\\polars\\Lib\\site-packages\\sklearn\\base.py:1473: DataConversionWarning: A column-vector y was passed when a 1d array was expected. Please change the shape of y to (n_samples,), for example using ravel().\n",
      "  return fit_method(estimator, *args, **kwargs)\n"
     ]
    },
    {
     "name": "stdout",
     "output_type": "stream",
     "text": [
      "[CV 2/5] END class_weight=None, max_depth=2, min_samples_leaf=5, min_samples_split=5, n_estimators=100;, score=0.993 total time=   0.9s\n"
     ]
    },
    {
     "name": "stderr",
     "output_type": "stream",
     "text": [
      "C:\\Users\\jb5983on\\AppData\\Local\\anaconda3\\envs\\polars\\Lib\\site-packages\\sklearn\\base.py:1473: DataConversionWarning: A column-vector y was passed when a 1d array was expected. Please change the shape of y to (n_samples,), for example using ravel().\n",
      "  return fit_method(estimator, *args, **kwargs)\n"
     ]
    },
    {
     "name": "stdout",
     "output_type": "stream",
     "text": [
      "[CV 3/5] END class_weight=None, max_depth=2, min_samples_leaf=5, min_samples_split=5, n_estimators=100;, score=0.993 total time=   0.9s\n"
     ]
    },
    {
     "name": "stderr",
     "output_type": "stream",
     "text": [
      "C:\\Users\\jb5983on\\AppData\\Local\\anaconda3\\envs\\polars\\Lib\\site-packages\\sklearn\\base.py:1473: DataConversionWarning: A column-vector y was passed when a 1d array was expected. Please change the shape of y to (n_samples,), for example using ravel().\n",
      "  return fit_method(estimator, *args, **kwargs)\n"
     ]
    },
    {
     "name": "stdout",
     "output_type": "stream",
     "text": [
      "[CV 4/5] END class_weight=None, max_depth=2, min_samples_leaf=5, min_samples_split=5, n_estimators=100;, score=0.993 total time=   0.9s\n"
     ]
    },
    {
     "name": "stderr",
     "output_type": "stream",
     "text": [
      "C:\\Users\\jb5983on\\AppData\\Local\\anaconda3\\envs\\polars\\Lib\\site-packages\\sklearn\\base.py:1473: DataConversionWarning: A column-vector y was passed when a 1d array was expected. Please change the shape of y to (n_samples,), for example using ravel().\n",
      "  return fit_method(estimator, *args, **kwargs)\n"
     ]
    },
    {
     "name": "stdout",
     "output_type": "stream",
     "text": [
      "[CV 5/5] END class_weight=None, max_depth=2, min_samples_leaf=5, min_samples_split=5, n_estimators=100;, score=0.993 total time=   0.9s\n",
      "[CV 1/5] END class_weight=None, max_depth=2, min_samples_leaf=5, min_samples_split=10, n_estimators=10;, score=0.993 total time=   0.1s\n"
     ]
    },
    {
     "name": "stderr",
     "output_type": "stream",
     "text": [
      "C:\\Users\\jb5983on\\AppData\\Local\\anaconda3\\envs\\polars\\Lib\\site-packages\\sklearn\\base.py:1473: DataConversionWarning: A column-vector y was passed when a 1d array was expected. Please change the shape of y to (n_samples,), for example using ravel().\n",
      "  return fit_method(estimator, *args, **kwargs)\n",
      "C:\\Users\\jb5983on\\AppData\\Local\\anaconda3\\envs\\polars\\Lib\\site-packages\\sklearn\\base.py:1473: DataConversionWarning: A column-vector y was passed when a 1d array was expected. Please change the shape of y to (n_samples,), for example using ravel().\n",
      "  return fit_method(estimator, *args, **kwargs)\n"
     ]
    },
    {
     "name": "stdout",
     "output_type": "stream",
     "text": [
      "[CV 2/5] END class_weight=None, max_depth=2, min_samples_leaf=5, min_samples_split=10, n_estimators=10;, score=0.993 total time=   0.1s\n",
      "[CV 3/5] END class_weight=None, max_depth=2, min_samples_leaf=5, min_samples_split=10, n_estimators=10;, score=0.993 total time=   0.1s\n"
     ]
    },
    {
     "name": "stderr",
     "output_type": "stream",
     "text": [
      "C:\\Users\\jb5983on\\AppData\\Local\\anaconda3\\envs\\polars\\Lib\\site-packages\\sklearn\\base.py:1473: DataConversionWarning: A column-vector y was passed when a 1d array was expected. Please change the shape of y to (n_samples,), for example using ravel().\n",
      "  return fit_method(estimator, *args, **kwargs)\n",
      "C:\\Users\\jb5983on\\AppData\\Local\\anaconda3\\envs\\polars\\Lib\\site-packages\\sklearn\\base.py:1473: DataConversionWarning: A column-vector y was passed when a 1d array was expected. Please change the shape of y to (n_samples,), for example using ravel().\n",
      "  return fit_method(estimator, *args, **kwargs)\n"
     ]
    },
    {
     "name": "stdout",
     "output_type": "stream",
     "text": [
      "[CV 4/5] END class_weight=None, max_depth=2, min_samples_leaf=5, min_samples_split=10, n_estimators=10;, score=0.993 total time=   0.1s\n",
      "[CV 5/5] END class_weight=None, max_depth=2, min_samples_leaf=5, min_samples_split=10, n_estimators=10;, score=0.993 total time=   0.1s\n"
     ]
    },
    {
     "name": "stderr",
     "output_type": "stream",
     "text": [
      "C:\\Users\\jb5983on\\AppData\\Local\\anaconda3\\envs\\polars\\Lib\\site-packages\\sklearn\\base.py:1473: DataConversionWarning: A column-vector y was passed when a 1d array was expected. Please change the shape of y to (n_samples,), for example using ravel().\n",
      "  return fit_method(estimator, *args, **kwargs)\n",
      "C:\\Users\\jb5983on\\AppData\\Local\\anaconda3\\envs\\polars\\Lib\\site-packages\\sklearn\\base.py:1473: DataConversionWarning: A column-vector y was passed when a 1d array was expected. Please change the shape of y to (n_samples,), for example using ravel().\n",
      "  return fit_method(estimator, *args, **kwargs)\n"
     ]
    },
    {
     "name": "stdout",
     "output_type": "stream",
     "text": [
      "[CV 1/5] END class_weight=None, max_depth=2, min_samples_leaf=5, min_samples_split=10, n_estimators=100;, score=0.993 total time=   0.9s\n"
     ]
    },
    {
     "name": "stderr",
     "output_type": "stream",
     "text": [
      "C:\\Users\\jb5983on\\AppData\\Local\\anaconda3\\envs\\polars\\Lib\\site-packages\\sklearn\\base.py:1473: DataConversionWarning: A column-vector y was passed when a 1d array was expected. Please change the shape of y to (n_samples,), for example using ravel().\n",
      "  return fit_method(estimator, *args, **kwargs)\n"
     ]
    },
    {
     "name": "stdout",
     "output_type": "stream",
     "text": [
      "[CV 2/5] END class_weight=None, max_depth=2, min_samples_leaf=5, min_samples_split=10, n_estimators=100;, score=0.993 total time=   0.8s\n"
     ]
    },
    {
     "name": "stderr",
     "output_type": "stream",
     "text": [
      "C:\\Users\\jb5983on\\AppData\\Local\\anaconda3\\envs\\polars\\Lib\\site-packages\\sklearn\\base.py:1473: DataConversionWarning: A column-vector y was passed when a 1d array was expected. Please change the shape of y to (n_samples,), for example using ravel().\n",
      "  return fit_method(estimator, *args, **kwargs)\n"
     ]
    },
    {
     "name": "stdout",
     "output_type": "stream",
     "text": [
      "[CV 3/5] END class_weight=None, max_depth=2, min_samples_leaf=5, min_samples_split=10, n_estimators=100;, score=0.993 total time=   0.7s\n"
     ]
    },
    {
     "name": "stderr",
     "output_type": "stream",
     "text": [
      "C:\\Users\\jb5983on\\AppData\\Local\\anaconda3\\envs\\polars\\Lib\\site-packages\\sklearn\\base.py:1473: DataConversionWarning: A column-vector y was passed when a 1d array was expected. Please change the shape of y to (n_samples,), for example using ravel().\n",
      "  return fit_method(estimator, *args, **kwargs)\n"
     ]
    },
    {
     "name": "stdout",
     "output_type": "stream",
     "text": [
      "[CV 4/5] END class_weight=None, max_depth=2, min_samples_leaf=5, min_samples_split=10, n_estimators=100;, score=0.993 total time=   1.0s\n"
     ]
    },
    {
     "name": "stderr",
     "output_type": "stream",
     "text": [
      "C:\\Users\\jb5983on\\AppData\\Local\\anaconda3\\envs\\polars\\Lib\\site-packages\\sklearn\\base.py:1473: DataConversionWarning: A column-vector y was passed when a 1d array was expected. Please change the shape of y to (n_samples,), for example using ravel().\n",
      "  return fit_method(estimator, *args, **kwargs)\n"
     ]
    },
    {
     "name": "stdout",
     "output_type": "stream",
     "text": [
      "[CV 5/5] END class_weight=None, max_depth=2, min_samples_leaf=5, min_samples_split=10, n_estimators=100;, score=0.993 total time=   1.0s\n",
      "[CV 1/5] END class_weight=None, max_depth=2, min_samples_leaf=10, min_samples_split=1, n_estimators=10;, score=nan total time=   0.0s\n",
      "[CV 2/5] END class_weight=None, max_depth=2, min_samples_leaf=10, min_samples_split=1, n_estimators=10;, score=nan total time=   0.0s\n",
      "[CV 3/5] END class_weight=None, max_depth=2, min_samples_leaf=10, min_samples_split=1, n_estimators=10;, score=nan total time=   0.0s\n",
      "[CV 4/5] END class_weight=None, max_depth=2, min_samples_leaf=10, min_samples_split=1, n_estimators=10;, score=nan total time=   0.0s\n",
      "[CV 5/5] END class_weight=None, max_depth=2, min_samples_leaf=10, min_samples_split=1, n_estimators=10;, score=nan total time=   0.0s\n",
      "[CV 1/5] END class_weight=None, max_depth=2, min_samples_leaf=10, min_samples_split=1, n_estimators=100;, score=nan total time=   0.0s\n",
      "[CV 2/5] END class_weight=None, max_depth=2, min_samples_leaf=10, min_samples_split=1, n_estimators=100;, score=nan total time=   0.0s\n",
      "[CV 3/5] END class_weight=None, max_depth=2, min_samples_leaf=10, min_samples_split=1, n_estimators=100;, score=nan total time=   0.0s\n",
      "[CV 4/5] END class_weight=None, max_depth=2, min_samples_leaf=10, min_samples_split=1, n_estimators=100;, score=nan total time=   0.0s\n",
      "[CV 5/5] END class_weight=None, max_depth=2, min_samples_leaf=10, min_samples_split=1, n_estimators=100;, score=nan total time=   0.0s\n"
     ]
    },
    {
     "name": "stderr",
     "output_type": "stream",
     "text": [
      "C:\\Users\\jb5983on\\AppData\\Local\\anaconda3\\envs\\polars\\Lib\\site-packages\\sklearn\\base.py:1473: DataConversionWarning: A column-vector y was passed when a 1d array was expected. Please change the shape of y to (n_samples,), for example using ravel().\n",
      "  return fit_method(estimator, *args, **kwargs)\n",
      "C:\\Users\\jb5983on\\AppData\\Local\\anaconda3\\envs\\polars\\Lib\\site-packages\\sklearn\\base.py:1473: DataConversionWarning: A column-vector y was passed when a 1d array was expected. Please change the shape of y to (n_samples,), for example using ravel().\n",
      "  return fit_method(estimator, *args, **kwargs)\n"
     ]
    },
    {
     "name": "stdout",
     "output_type": "stream",
     "text": [
      "[CV 1/5] END class_weight=None, max_depth=2, min_samples_leaf=10, min_samples_split=5, n_estimators=10;, score=0.993 total time=   0.1s\n",
      "[CV 2/5] END class_weight=None, max_depth=2, min_samples_leaf=10, min_samples_split=5, n_estimators=10;, score=0.993 total time=   0.1s\n"
     ]
    },
    {
     "name": "stderr",
     "output_type": "stream",
     "text": [
      "C:\\Users\\jb5983on\\AppData\\Local\\anaconda3\\envs\\polars\\Lib\\site-packages\\sklearn\\base.py:1473: DataConversionWarning: A column-vector y was passed when a 1d array was expected. Please change the shape of y to (n_samples,), for example using ravel().\n",
      "  return fit_method(estimator, *args, **kwargs)\n",
      "C:\\Users\\jb5983on\\AppData\\Local\\anaconda3\\envs\\polars\\Lib\\site-packages\\sklearn\\base.py:1473: DataConversionWarning: A column-vector y was passed when a 1d array was expected. Please change the shape of y to (n_samples,), for example using ravel().\n",
      "  return fit_method(estimator, *args, **kwargs)\n"
     ]
    },
    {
     "name": "stdout",
     "output_type": "stream",
     "text": [
      "[CV 3/5] END class_weight=None, max_depth=2, min_samples_leaf=10, min_samples_split=5, n_estimators=10;, score=0.993 total time=   0.1s\n",
      "[CV 4/5] END class_weight=None, max_depth=2, min_samples_leaf=10, min_samples_split=5, n_estimators=10;, score=0.993 total time=   0.1s\n"
     ]
    },
    {
     "name": "stderr",
     "output_type": "stream",
     "text": [
      "C:\\Users\\jb5983on\\AppData\\Local\\anaconda3\\envs\\polars\\Lib\\site-packages\\sklearn\\base.py:1473: DataConversionWarning: A column-vector y was passed when a 1d array was expected. Please change the shape of y to (n_samples,), for example using ravel().\n",
      "  return fit_method(estimator, *args, **kwargs)\n",
      "C:\\Users\\jb5983on\\AppData\\Local\\anaconda3\\envs\\polars\\Lib\\site-packages\\sklearn\\base.py:1473: DataConversionWarning: A column-vector y was passed when a 1d array was expected. Please change the shape of y to (n_samples,), for example using ravel().\n",
      "  return fit_method(estimator, *args, **kwargs)\n"
     ]
    },
    {
     "name": "stdout",
     "output_type": "stream",
     "text": [
      "[CV 5/5] END class_weight=None, max_depth=2, min_samples_leaf=10, min_samples_split=5, n_estimators=10;, score=0.993 total time=   0.1s\n",
      "[CV 1/5] END class_weight=None, max_depth=2, min_samples_leaf=10, min_samples_split=5, n_estimators=100;, score=0.993 total time=   0.9s\n"
     ]
    },
    {
     "name": "stderr",
     "output_type": "stream",
     "text": [
      "C:\\Users\\jb5983on\\AppData\\Local\\anaconda3\\envs\\polars\\Lib\\site-packages\\sklearn\\base.py:1473: DataConversionWarning: A column-vector y was passed when a 1d array was expected. Please change the shape of y to (n_samples,), for example using ravel().\n",
      "  return fit_method(estimator, *args, **kwargs)\n"
     ]
    },
    {
     "name": "stdout",
     "output_type": "stream",
     "text": [
      "[CV 2/5] END class_weight=None, max_depth=2, min_samples_leaf=10, min_samples_split=5, n_estimators=100;, score=0.993 total time=   0.9s\n"
     ]
    },
    {
     "name": "stderr",
     "output_type": "stream",
     "text": [
      "C:\\Users\\jb5983on\\AppData\\Local\\anaconda3\\envs\\polars\\Lib\\site-packages\\sklearn\\base.py:1473: DataConversionWarning: A column-vector y was passed when a 1d array was expected. Please change the shape of y to (n_samples,), for example using ravel().\n",
      "  return fit_method(estimator, *args, **kwargs)\n"
     ]
    },
    {
     "name": "stdout",
     "output_type": "stream",
     "text": [
      "[CV 3/5] END class_weight=None, max_depth=2, min_samples_leaf=10, min_samples_split=5, n_estimators=100;, score=0.993 total time=   0.9s\n"
     ]
    },
    {
     "name": "stderr",
     "output_type": "stream",
     "text": [
      "C:\\Users\\jb5983on\\AppData\\Local\\anaconda3\\envs\\polars\\Lib\\site-packages\\sklearn\\base.py:1473: DataConversionWarning: A column-vector y was passed when a 1d array was expected. Please change the shape of y to (n_samples,), for example using ravel().\n",
      "  return fit_method(estimator, *args, **kwargs)\n"
     ]
    },
    {
     "name": "stdout",
     "output_type": "stream",
     "text": [
      "[CV 4/5] END class_weight=None, max_depth=2, min_samples_leaf=10, min_samples_split=5, n_estimators=100;, score=0.993 total time=   0.9s\n"
     ]
    },
    {
     "name": "stderr",
     "output_type": "stream",
     "text": [
      "C:\\Users\\jb5983on\\AppData\\Local\\anaconda3\\envs\\polars\\Lib\\site-packages\\sklearn\\base.py:1473: DataConversionWarning: A column-vector y was passed when a 1d array was expected. Please change the shape of y to (n_samples,), for example using ravel().\n",
      "  return fit_method(estimator, *args, **kwargs)\n"
     ]
    },
    {
     "name": "stdout",
     "output_type": "stream",
     "text": [
      "[CV 5/5] END class_weight=None, max_depth=2, min_samples_leaf=10, min_samples_split=5, n_estimators=100;, score=0.993 total time=   0.9s\n",
      "[CV 1/5] END class_weight=None, max_depth=2, min_samples_leaf=10, min_samples_split=10, n_estimators=10;, score=0.993 total time=   0.1s\n"
     ]
    },
    {
     "name": "stderr",
     "output_type": "stream",
     "text": [
      "C:\\Users\\jb5983on\\AppData\\Local\\anaconda3\\envs\\polars\\Lib\\site-packages\\sklearn\\base.py:1473: DataConversionWarning: A column-vector y was passed when a 1d array was expected. Please change the shape of y to (n_samples,), for example using ravel().\n",
      "  return fit_method(estimator, *args, **kwargs)\n",
      "C:\\Users\\jb5983on\\AppData\\Local\\anaconda3\\envs\\polars\\Lib\\site-packages\\sklearn\\base.py:1473: DataConversionWarning: A column-vector y was passed when a 1d array was expected. Please change the shape of y to (n_samples,), for example using ravel().\n",
      "  return fit_method(estimator, *args, **kwargs)\n"
     ]
    },
    {
     "name": "stdout",
     "output_type": "stream",
     "text": [
      "[CV 2/5] END class_weight=None, max_depth=2, min_samples_leaf=10, min_samples_split=10, n_estimators=10;, score=0.993 total time=   0.1s\n",
      "[CV 3/5] END class_weight=None, max_depth=2, min_samples_leaf=10, min_samples_split=10, n_estimators=10;, score=0.993 total time=   0.1s\n"
     ]
    },
    {
     "name": "stderr",
     "output_type": "stream",
     "text": [
      "C:\\Users\\jb5983on\\AppData\\Local\\anaconda3\\envs\\polars\\Lib\\site-packages\\sklearn\\base.py:1473: DataConversionWarning: A column-vector y was passed when a 1d array was expected. Please change the shape of y to (n_samples,), for example using ravel().\n",
      "  return fit_method(estimator, *args, **kwargs)\n",
      "C:\\Users\\jb5983on\\AppData\\Local\\anaconda3\\envs\\polars\\Lib\\site-packages\\sklearn\\base.py:1473: DataConversionWarning: A column-vector y was passed when a 1d array was expected. Please change the shape of y to (n_samples,), for example using ravel().\n",
      "  return fit_method(estimator, *args, **kwargs)\n"
     ]
    },
    {
     "name": "stdout",
     "output_type": "stream",
     "text": [
      "[CV 4/5] END class_weight=None, max_depth=2, min_samples_leaf=10, min_samples_split=10, n_estimators=10;, score=0.993 total time=   0.1s\n",
      "[CV 5/5] END class_weight=None, max_depth=2, min_samples_leaf=10, min_samples_split=10, n_estimators=10;, score=0.993 total time=   0.1s\n"
     ]
    },
    {
     "name": "stderr",
     "output_type": "stream",
     "text": [
      "C:\\Users\\jb5983on\\AppData\\Local\\anaconda3\\envs\\polars\\Lib\\site-packages\\sklearn\\base.py:1473: DataConversionWarning: A column-vector y was passed when a 1d array was expected. Please change the shape of y to (n_samples,), for example using ravel().\n",
      "  return fit_method(estimator, *args, **kwargs)\n",
      "C:\\Users\\jb5983on\\AppData\\Local\\anaconda3\\envs\\polars\\Lib\\site-packages\\sklearn\\base.py:1473: DataConversionWarning: A column-vector y was passed when a 1d array was expected. Please change the shape of y to (n_samples,), for example using ravel().\n",
      "  return fit_method(estimator, *args, **kwargs)\n"
     ]
    },
    {
     "name": "stdout",
     "output_type": "stream",
     "text": [
      "[CV 1/5] END class_weight=None, max_depth=2, min_samples_leaf=10, min_samples_split=10, n_estimators=100;, score=0.993 total time=   1.0s\n"
     ]
    },
    {
     "name": "stderr",
     "output_type": "stream",
     "text": [
      "C:\\Users\\jb5983on\\AppData\\Local\\anaconda3\\envs\\polars\\Lib\\site-packages\\sklearn\\base.py:1473: DataConversionWarning: A column-vector y was passed when a 1d array was expected. Please change the shape of y to (n_samples,), for example using ravel().\n",
      "  return fit_method(estimator, *args, **kwargs)\n"
     ]
    },
    {
     "name": "stdout",
     "output_type": "stream",
     "text": [
      "[CV 2/5] END class_weight=None, max_depth=2, min_samples_leaf=10, min_samples_split=10, n_estimators=100;, score=0.993 total time=   1.1s\n"
     ]
    },
    {
     "name": "stderr",
     "output_type": "stream",
     "text": [
      "C:\\Users\\jb5983on\\AppData\\Local\\anaconda3\\envs\\polars\\Lib\\site-packages\\sklearn\\base.py:1473: DataConversionWarning: A column-vector y was passed when a 1d array was expected. Please change the shape of y to (n_samples,), for example using ravel().\n",
      "  return fit_method(estimator, *args, **kwargs)\n"
     ]
    },
    {
     "name": "stdout",
     "output_type": "stream",
     "text": [
      "[CV 3/5] END class_weight=None, max_depth=2, min_samples_leaf=10, min_samples_split=10, n_estimators=100;, score=0.993 total time=   0.9s\n"
     ]
    },
    {
     "name": "stderr",
     "output_type": "stream",
     "text": [
      "C:\\Users\\jb5983on\\AppData\\Local\\anaconda3\\envs\\polars\\Lib\\site-packages\\sklearn\\base.py:1473: DataConversionWarning: A column-vector y was passed when a 1d array was expected. Please change the shape of y to (n_samples,), for example using ravel().\n",
      "  return fit_method(estimator, *args, **kwargs)\n"
     ]
    },
    {
     "name": "stdout",
     "output_type": "stream",
     "text": [
      "[CV 4/5] END class_weight=None, max_depth=2, min_samples_leaf=10, min_samples_split=10, n_estimators=100;, score=0.993 total time=   0.9s\n"
     ]
    },
    {
     "name": "stderr",
     "output_type": "stream",
     "text": [
      "C:\\Users\\jb5983on\\AppData\\Local\\anaconda3\\envs\\polars\\Lib\\site-packages\\sklearn\\base.py:1473: DataConversionWarning: A column-vector y was passed when a 1d array was expected. Please change the shape of y to (n_samples,), for example using ravel().\n",
      "  return fit_method(estimator, *args, **kwargs)\n"
     ]
    },
    {
     "name": "stdout",
     "output_type": "stream",
     "text": [
      "[CV 5/5] END class_weight=None, max_depth=2, min_samples_leaf=10, min_samples_split=10, n_estimators=100;, score=0.993 total time=   0.9s\n",
      "[CV 1/5] END class_weight=None, max_depth=3, min_samples_leaf=1, min_samples_split=1, n_estimators=10;, score=nan total time=   0.0s\n",
      "[CV 2/5] END class_weight=None, max_depth=3, min_samples_leaf=1, min_samples_split=1, n_estimators=10;, score=nan total time=   0.0s\n",
      "[CV 3/5] END class_weight=None, max_depth=3, min_samples_leaf=1, min_samples_split=1, n_estimators=10;, score=nan total time=   0.0s\n",
      "[CV 4/5] END class_weight=None, max_depth=3, min_samples_leaf=1, min_samples_split=1, n_estimators=10;, score=nan total time=   0.0s\n",
      "[CV 5/5] END class_weight=None, max_depth=3, min_samples_leaf=1, min_samples_split=1, n_estimators=10;, score=nan total time=   0.0s\n",
      "[CV 1/5] END class_weight=None, max_depth=3, min_samples_leaf=1, min_samples_split=1, n_estimators=100;, score=nan total time=   0.0s\n",
      "[CV 2/5] END class_weight=None, max_depth=3, min_samples_leaf=1, min_samples_split=1, n_estimators=100;, score=nan total time=   0.0s\n",
      "[CV 3/5] END class_weight=None, max_depth=3, min_samples_leaf=1, min_samples_split=1, n_estimators=100;, score=nan total time=   0.0s\n",
      "[CV 4/5] END class_weight=None, max_depth=3, min_samples_leaf=1, min_samples_split=1, n_estimators=100;, score=nan total time=   0.0s\n",
      "[CV 5/5] END class_weight=None, max_depth=3, min_samples_leaf=1, min_samples_split=1, n_estimators=100;, score=nan total time=   0.0s\n"
     ]
    },
    {
     "name": "stderr",
     "output_type": "stream",
     "text": [
      "C:\\Users\\jb5983on\\AppData\\Local\\anaconda3\\envs\\polars\\Lib\\site-packages\\sklearn\\base.py:1473: DataConversionWarning: A column-vector y was passed when a 1d array was expected. Please change the shape of y to (n_samples,), for example using ravel().\n",
      "  return fit_method(estimator, *args, **kwargs)\n",
      "C:\\Users\\jb5983on\\AppData\\Local\\anaconda3\\envs\\polars\\Lib\\site-packages\\sklearn\\base.py:1473: DataConversionWarning: A column-vector y was passed when a 1d array was expected. Please change the shape of y to (n_samples,), for example using ravel().\n",
      "  return fit_method(estimator, *args, **kwargs)\n"
     ]
    },
    {
     "name": "stdout",
     "output_type": "stream",
     "text": [
      "[CV 1/5] END class_weight=None, max_depth=3, min_samples_leaf=1, min_samples_split=5, n_estimators=10;, score=0.993 total time=   0.1s\n",
      "[CV 2/5] END class_weight=None, max_depth=3, min_samples_leaf=1, min_samples_split=5, n_estimators=10;, score=0.993 total time=   0.1s\n"
     ]
    },
    {
     "name": "stderr",
     "output_type": "stream",
     "text": [
      "C:\\Users\\jb5983on\\AppData\\Local\\anaconda3\\envs\\polars\\Lib\\site-packages\\sklearn\\base.py:1473: DataConversionWarning: A column-vector y was passed when a 1d array was expected. Please change the shape of y to (n_samples,), for example using ravel().\n",
      "  return fit_method(estimator, *args, **kwargs)\n",
      "C:\\Users\\jb5983on\\AppData\\Local\\anaconda3\\envs\\polars\\Lib\\site-packages\\sklearn\\base.py:1473: DataConversionWarning: A column-vector y was passed when a 1d array was expected. Please change the shape of y to (n_samples,), for example using ravel().\n",
      "  return fit_method(estimator, *args, **kwargs)\n"
     ]
    },
    {
     "name": "stdout",
     "output_type": "stream",
     "text": [
      "[CV 3/5] END class_weight=None, max_depth=3, min_samples_leaf=1, min_samples_split=5, n_estimators=10;, score=0.993 total time=   0.0s\n",
      "[CV 4/5] END class_weight=None, max_depth=3, min_samples_leaf=1, min_samples_split=5, n_estimators=10;, score=0.993 total time=   0.0s\n"
     ]
    },
    {
     "name": "stderr",
     "output_type": "stream",
     "text": [
      "C:\\Users\\jb5983on\\AppData\\Local\\anaconda3\\envs\\polars\\Lib\\site-packages\\sklearn\\base.py:1473: DataConversionWarning: A column-vector y was passed when a 1d array was expected. Please change the shape of y to (n_samples,), for example using ravel().\n",
      "  return fit_method(estimator, *args, **kwargs)\n",
      "C:\\Users\\jb5983on\\AppData\\Local\\anaconda3\\envs\\polars\\Lib\\site-packages\\sklearn\\base.py:1473: DataConversionWarning: A column-vector y was passed when a 1d array was expected. Please change the shape of y to (n_samples,), for example using ravel().\n",
      "  return fit_method(estimator, *args, **kwargs)\n"
     ]
    },
    {
     "name": "stdout",
     "output_type": "stream",
     "text": [
      "[CV 5/5] END class_weight=None, max_depth=3, min_samples_leaf=1, min_samples_split=5, n_estimators=10;, score=0.993 total time=   0.0s\n",
      "[CV 1/5] END class_weight=None, max_depth=3, min_samples_leaf=1, min_samples_split=5, n_estimators=100;, score=0.993 total time=   0.8s\n"
     ]
    },
    {
     "name": "stderr",
     "output_type": "stream",
     "text": [
      "C:\\Users\\jb5983on\\AppData\\Local\\anaconda3\\envs\\polars\\Lib\\site-packages\\sklearn\\base.py:1473: DataConversionWarning: A column-vector y was passed when a 1d array was expected. Please change the shape of y to (n_samples,), for example using ravel().\n",
      "  return fit_method(estimator, *args, **kwargs)\n"
     ]
    },
    {
     "name": "stdout",
     "output_type": "stream",
     "text": [
      "[CV 2/5] END class_weight=None, max_depth=3, min_samples_leaf=1, min_samples_split=5, n_estimators=100;, score=0.993 total time=   0.9s\n"
     ]
    },
    {
     "name": "stderr",
     "output_type": "stream",
     "text": [
      "C:\\Users\\jb5983on\\AppData\\Local\\anaconda3\\envs\\polars\\Lib\\site-packages\\sklearn\\base.py:1473: DataConversionWarning: A column-vector y was passed when a 1d array was expected. Please change the shape of y to (n_samples,), for example using ravel().\n",
      "  return fit_method(estimator, *args, **kwargs)\n"
     ]
    },
    {
     "name": "stdout",
     "output_type": "stream",
     "text": [
      "[CV 3/5] END class_weight=None, max_depth=3, min_samples_leaf=1, min_samples_split=5, n_estimators=100;, score=0.993 total time=   0.9s\n"
     ]
    },
    {
     "name": "stderr",
     "output_type": "stream",
     "text": [
      "C:\\Users\\jb5983on\\AppData\\Local\\anaconda3\\envs\\polars\\Lib\\site-packages\\sklearn\\base.py:1473: DataConversionWarning: A column-vector y was passed when a 1d array was expected. Please change the shape of y to (n_samples,), for example using ravel().\n",
      "  return fit_method(estimator, *args, **kwargs)\n"
     ]
    },
    {
     "name": "stdout",
     "output_type": "stream",
     "text": [
      "[CV 4/5] END class_weight=None, max_depth=3, min_samples_leaf=1, min_samples_split=5, n_estimators=100;, score=0.993 total time=   1.1s\n"
     ]
    },
    {
     "name": "stderr",
     "output_type": "stream",
     "text": [
      "C:\\Users\\jb5983on\\AppData\\Local\\anaconda3\\envs\\polars\\Lib\\site-packages\\sklearn\\base.py:1473: DataConversionWarning: A column-vector y was passed when a 1d array was expected. Please change the shape of y to (n_samples,), for example using ravel().\n",
      "  return fit_method(estimator, *args, **kwargs)\n"
     ]
    },
    {
     "name": "stdout",
     "output_type": "stream",
     "text": [
      "[CV 5/5] END class_weight=None, max_depth=3, min_samples_leaf=1, min_samples_split=5, n_estimators=100;, score=0.993 total time=   1.0s\n",
      "[CV 1/5] END class_weight=None, max_depth=3, min_samples_leaf=1, min_samples_split=10, n_estimators=10;, score=0.993 total time=   0.1s\n"
     ]
    },
    {
     "name": "stderr",
     "output_type": "stream",
     "text": [
      "C:\\Users\\jb5983on\\AppData\\Local\\anaconda3\\envs\\polars\\Lib\\site-packages\\sklearn\\base.py:1473: DataConversionWarning: A column-vector y was passed when a 1d array was expected. Please change the shape of y to (n_samples,), for example using ravel().\n",
      "  return fit_method(estimator, *args, **kwargs)\n",
      "C:\\Users\\jb5983on\\AppData\\Local\\anaconda3\\envs\\polars\\Lib\\site-packages\\sklearn\\base.py:1473: DataConversionWarning: A column-vector y was passed when a 1d array was expected. Please change the shape of y to (n_samples,), for example using ravel().\n",
      "  return fit_method(estimator, *args, **kwargs)\n"
     ]
    },
    {
     "name": "stdout",
     "output_type": "stream",
     "text": [
      "[CV 2/5] END class_weight=None, max_depth=3, min_samples_leaf=1, min_samples_split=10, n_estimators=10;, score=0.993 total time=   0.1s\n",
      "[CV 3/5] END class_weight=None, max_depth=3, min_samples_leaf=1, min_samples_split=10, n_estimators=10;, score=0.993 total time=   0.1s\n"
     ]
    },
    {
     "name": "stderr",
     "output_type": "stream",
     "text": [
      "C:\\Users\\jb5983on\\AppData\\Local\\anaconda3\\envs\\polars\\Lib\\site-packages\\sklearn\\base.py:1473: DataConversionWarning: A column-vector y was passed when a 1d array was expected. Please change the shape of y to (n_samples,), for example using ravel().\n",
      "  return fit_method(estimator, *args, **kwargs)\n",
      "C:\\Users\\jb5983on\\AppData\\Local\\anaconda3\\envs\\polars\\Lib\\site-packages\\sklearn\\base.py:1473: DataConversionWarning: A column-vector y was passed when a 1d array was expected. Please change the shape of y to (n_samples,), for example using ravel().\n",
      "  return fit_method(estimator, *args, **kwargs)\n"
     ]
    },
    {
     "name": "stdout",
     "output_type": "stream",
     "text": [
      "[CV 4/5] END class_weight=None, max_depth=3, min_samples_leaf=1, min_samples_split=10, n_estimators=10;, score=0.993 total time=   0.1s\n",
      "[CV 5/5] END class_weight=None, max_depth=3, min_samples_leaf=1, min_samples_split=10, n_estimators=10;, score=0.993 total time=   0.1s\n"
     ]
    },
    {
     "name": "stderr",
     "output_type": "stream",
     "text": [
      "C:\\Users\\jb5983on\\AppData\\Local\\anaconda3\\envs\\polars\\Lib\\site-packages\\sklearn\\base.py:1473: DataConversionWarning: A column-vector y was passed when a 1d array was expected. Please change the shape of y to (n_samples,), for example using ravel().\n",
      "  return fit_method(estimator, *args, **kwargs)\n",
      "C:\\Users\\jb5983on\\AppData\\Local\\anaconda3\\envs\\polars\\Lib\\site-packages\\sklearn\\base.py:1473: DataConversionWarning: A column-vector y was passed when a 1d array was expected. Please change the shape of y to (n_samples,), for example using ravel().\n",
      "  return fit_method(estimator, *args, **kwargs)\n"
     ]
    },
    {
     "name": "stdout",
     "output_type": "stream",
     "text": [
      "[CV 1/5] END class_weight=None, max_depth=3, min_samples_leaf=1, min_samples_split=10, n_estimators=100;, score=0.993 total time=   1.0s\n"
     ]
    },
    {
     "name": "stderr",
     "output_type": "stream",
     "text": [
      "C:\\Users\\jb5983on\\AppData\\Local\\anaconda3\\envs\\polars\\Lib\\site-packages\\sklearn\\base.py:1473: DataConversionWarning: A column-vector y was passed when a 1d array was expected. Please change the shape of y to (n_samples,), for example using ravel().\n",
      "  return fit_method(estimator, *args, **kwargs)\n"
     ]
    },
    {
     "name": "stdout",
     "output_type": "stream",
     "text": [
      "[CV 2/5] END class_weight=None, max_depth=3, min_samples_leaf=1, min_samples_split=10, n_estimators=100;, score=0.993 total time=   1.0s\n"
     ]
    },
    {
     "name": "stderr",
     "output_type": "stream",
     "text": [
      "C:\\Users\\jb5983on\\AppData\\Local\\anaconda3\\envs\\polars\\Lib\\site-packages\\sklearn\\base.py:1473: DataConversionWarning: A column-vector y was passed when a 1d array was expected. Please change the shape of y to (n_samples,), for example using ravel().\n",
      "  return fit_method(estimator, *args, **kwargs)\n"
     ]
    },
    {
     "name": "stdout",
     "output_type": "stream",
     "text": [
      "[CV 3/5] END class_weight=None, max_depth=3, min_samples_leaf=1, min_samples_split=10, n_estimators=100;, score=0.993 total time=   1.0s\n"
     ]
    },
    {
     "name": "stderr",
     "output_type": "stream",
     "text": [
      "C:\\Users\\jb5983on\\AppData\\Local\\anaconda3\\envs\\polars\\Lib\\site-packages\\sklearn\\base.py:1473: DataConversionWarning: A column-vector y was passed when a 1d array was expected. Please change the shape of y to (n_samples,), for example using ravel().\n",
      "  return fit_method(estimator, *args, **kwargs)\n"
     ]
    },
    {
     "name": "stdout",
     "output_type": "stream",
     "text": [
      "[CV 4/5] END class_weight=None, max_depth=3, min_samples_leaf=1, min_samples_split=10, n_estimators=100;, score=0.993 total time=   1.0s\n"
     ]
    },
    {
     "name": "stderr",
     "output_type": "stream",
     "text": [
      "C:\\Users\\jb5983on\\AppData\\Local\\anaconda3\\envs\\polars\\Lib\\site-packages\\sklearn\\base.py:1473: DataConversionWarning: A column-vector y was passed when a 1d array was expected. Please change the shape of y to (n_samples,), for example using ravel().\n",
      "  return fit_method(estimator, *args, **kwargs)\n"
     ]
    },
    {
     "name": "stdout",
     "output_type": "stream",
     "text": [
      "[CV 5/5] END class_weight=None, max_depth=3, min_samples_leaf=1, min_samples_split=10, n_estimators=100;, score=0.993 total time=   1.0s\n",
      "[CV 1/5] END class_weight=None, max_depth=3, min_samples_leaf=5, min_samples_split=1, n_estimators=10;, score=nan total time=   0.0s\n",
      "[CV 2/5] END class_weight=None, max_depth=3, min_samples_leaf=5, min_samples_split=1, n_estimators=10;, score=nan total time=   0.0s\n",
      "[CV 3/5] END class_weight=None, max_depth=3, min_samples_leaf=5, min_samples_split=1, n_estimators=10;, score=nan total time=   0.0s\n",
      "[CV 4/5] END class_weight=None, max_depth=3, min_samples_leaf=5, min_samples_split=1, n_estimators=10;, score=nan total time=   0.0s\n",
      "[CV 5/5] END class_weight=None, max_depth=3, min_samples_leaf=5, min_samples_split=1, n_estimators=10;, score=nan total time=   0.0s\n",
      "[CV 1/5] END class_weight=None, max_depth=3, min_samples_leaf=5, min_samples_split=1, n_estimators=100;, score=nan total time=   0.0s\n",
      "[CV 2/5] END class_weight=None, max_depth=3, min_samples_leaf=5, min_samples_split=1, n_estimators=100;, score=nan total time=   0.0s\n",
      "[CV 3/5] END class_weight=None, max_depth=3, min_samples_leaf=5, min_samples_split=1, n_estimators=100;, score=nan total time=   0.0s\n",
      "[CV 4/5] END class_weight=None, max_depth=3, min_samples_leaf=5, min_samples_split=1, n_estimators=100;, score=nan total time=   0.0s\n",
      "[CV 5/5] END class_weight=None, max_depth=3, min_samples_leaf=5, min_samples_split=1, n_estimators=100;, score=nan total time=   0.0s\n"
     ]
    },
    {
     "name": "stderr",
     "output_type": "stream",
     "text": [
      "C:\\Users\\jb5983on\\AppData\\Local\\anaconda3\\envs\\polars\\Lib\\site-packages\\sklearn\\base.py:1473: DataConversionWarning: A column-vector y was passed when a 1d array was expected. Please change the shape of y to (n_samples,), for example using ravel().\n",
      "  return fit_method(estimator, *args, **kwargs)\n",
      "C:\\Users\\jb5983on\\AppData\\Local\\anaconda3\\envs\\polars\\Lib\\site-packages\\sklearn\\base.py:1473: DataConversionWarning: A column-vector y was passed when a 1d array was expected. Please change the shape of y to (n_samples,), for example using ravel().\n",
      "  return fit_method(estimator, *args, **kwargs)\n"
     ]
    },
    {
     "name": "stdout",
     "output_type": "stream",
     "text": [
      "[CV 1/5] END class_weight=None, max_depth=3, min_samples_leaf=5, min_samples_split=5, n_estimators=10;, score=0.993 total time=   0.1s\n",
      "[CV 2/5] END class_weight=None, max_depth=3, min_samples_leaf=5, min_samples_split=5, n_estimators=10;, score=0.993 total time=   0.1s\n"
     ]
    },
    {
     "name": "stderr",
     "output_type": "stream",
     "text": [
      "C:\\Users\\jb5983on\\AppData\\Local\\anaconda3\\envs\\polars\\Lib\\site-packages\\sklearn\\base.py:1473: DataConversionWarning: A column-vector y was passed when a 1d array was expected. Please change the shape of y to (n_samples,), for example using ravel().\n",
      "  return fit_method(estimator, *args, **kwargs)\n",
      "C:\\Users\\jb5983on\\AppData\\Local\\anaconda3\\envs\\polars\\Lib\\site-packages\\sklearn\\base.py:1473: DataConversionWarning: A column-vector y was passed when a 1d array was expected. Please change the shape of y to (n_samples,), for example using ravel().\n",
      "  return fit_method(estimator, *args, **kwargs)\n"
     ]
    },
    {
     "name": "stdout",
     "output_type": "stream",
     "text": [
      "[CV 3/5] END class_weight=None, max_depth=3, min_samples_leaf=5, min_samples_split=5, n_estimators=10;, score=0.993 total time=   0.1s\n",
      "[CV 4/5] END class_weight=None, max_depth=3, min_samples_leaf=5, min_samples_split=5, n_estimators=10;, score=0.993 total time=   0.1s\n"
     ]
    },
    {
     "name": "stderr",
     "output_type": "stream",
     "text": [
      "C:\\Users\\jb5983on\\AppData\\Local\\anaconda3\\envs\\polars\\Lib\\site-packages\\sklearn\\base.py:1473: DataConversionWarning: A column-vector y was passed when a 1d array was expected. Please change the shape of y to (n_samples,), for example using ravel().\n",
      "  return fit_method(estimator, *args, **kwargs)\n",
      "C:\\Users\\jb5983on\\AppData\\Local\\anaconda3\\envs\\polars\\Lib\\site-packages\\sklearn\\base.py:1473: DataConversionWarning: A column-vector y was passed when a 1d array was expected. Please change the shape of y to (n_samples,), for example using ravel().\n",
      "  return fit_method(estimator, *args, **kwargs)\n"
     ]
    },
    {
     "name": "stdout",
     "output_type": "stream",
     "text": [
      "[CV 5/5] END class_weight=None, max_depth=3, min_samples_leaf=5, min_samples_split=5, n_estimators=10;, score=0.993 total time=   0.1s\n",
      "[CV 1/5] END class_weight=None, max_depth=3, min_samples_leaf=5, min_samples_split=5, n_estimators=100;, score=0.993 total time=   1.1s\n"
     ]
    },
    {
     "name": "stderr",
     "output_type": "stream",
     "text": [
      "C:\\Users\\jb5983on\\AppData\\Local\\anaconda3\\envs\\polars\\Lib\\site-packages\\sklearn\\base.py:1473: DataConversionWarning: A column-vector y was passed when a 1d array was expected. Please change the shape of y to (n_samples,), for example using ravel().\n",
      "  return fit_method(estimator, *args, **kwargs)\n"
     ]
    },
    {
     "name": "stdout",
     "output_type": "stream",
     "text": [
      "[CV 2/5] END class_weight=None, max_depth=3, min_samples_leaf=5, min_samples_split=5, n_estimators=100;, score=0.993 total time=   1.0s\n"
     ]
    },
    {
     "name": "stderr",
     "output_type": "stream",
     "text": [
      "C:\\Users\\jb5983on\\AppData\\Local\\anaconda3\\envs\\polars\\Lib\\site-packages\\sklearn\\base.py:1473: DataConversionWarning: A column-vector y was passed when a 1d array was expected. Please change the shape of y to (n_samples,), for example using ravel().\n",
      "  return fit_method(estimator, *args, **kwargs)\n"
     ]
    },
    {
     "name": "stdout",
     "output_type": "stream",
     "text": [
      "[CV 3/5] END class_weight=None, max_depth=3, min_samples_leaf=5, min_samples_split=5, n_estimators=100;, score=0.993 total time=   0.8s\n"
     ]
    },
    {
     "name": "stderr",
     "output_type": "stream",
     "text": [
      "C:\\Users\\jb5983on\\AppData\\Local\\anaconda3\\envs\\polars\\Lib\\site-packages\\sklearn\\base.py:1473: DataConversionWarning: A column-vector y was passed when a 1d array was expected. Please change the shape of y to (n_samples,), for example using ravel().\n",
      "  return fit_method(estimator, *args, **kwargs)\n"
     ]
    },
    {
     "name": "stdout",
     "output_type": "stream",
     "text": [
      "[CV 4/5] END class_weight=None, max_depth=3, min_samples_leaf=5, min_samples_split=5, n_estimators=100;, score=0.993 total time=   1.0s\n"
     ]
    },
    {
     "name": "stderr",
     "output_type": "stream",
     "text": [
      "C:\\Users\\jb5983on\\AppData\\Local\\anaconda3\\envs\\polars\\Lib\\site-packages\\sklearn\\base.py:1473: DataConversionWarning: A column-vector y was passed when a 1d array was expected. Please change the shape of y to (n_samples,), for example using ravel().\n",
      "  return fit_method(estimator, *args, **kwargs)\n"
     ]
    },
    {
     "name": "stdout",
     "output_type": "stream",
     "text": [
      "[CV 5/5] END class_weight=None, max_depth=3, min_samples_leaf=5, min_samples_split=5, n_estimators=100;, score=0.993 total time=   0.9s\n",
      "[CV 1/5] END class_weight=None, max_depth=3, min_samples_leaf=5, min_samples_split=10, n_estimators=10;, score=0.993 total time=   0.0s\n"
     ]
    },
    {
     "name": "stderr",
     "output_type": "stream",
     "text": [
      "C:\\Users\\jb5983on\\AppData\\Local\\anaconda3\\envs\\polars\\Lib\\site-packages\\sklearn\\base.py:1473: DataConversionWarning: A column-vector y was passed when a 1d array was expected. Please change the shape of y to (n_samples,), for example using ravel().\n",
      "  return fit_method(estimator, *args, **kwargs)\n",
      "C:\\Users\\jb5983on\\AppData\\Local\\anaconda3\\envs\\polars\\Lib\\site-packages\\sklearn\\base.py:1473: DataConversionWarning: A column-vector y was passed when a 1d array was expected. Please change the shape of y to (n_samples,), for example using ravel().\n",
      "  return fit_method(estimator, *args, **kwargs)\n"
     ]
    },
    {
     "name": "stdout",
     "output_type": "stream",
     "text": [
      "[CV 2/5] END class_weight=None, max_depth=3, min_samples_leaf=5, min_samples_split=10, n_estimators=10;, score=0.993 total time=   0.0s\n",
      "[CV 3/5] END class_weight=None, max_depth=3, min_samples_leaf=5, min_samples_split=10, n_estimators=10;, score=0.993 total time=   0.1s\n"
     ]
    },
    {
     "name": "stderr",
     "output_type": "stream",
     "text": [
      "C:\\Users\\jb5983on\\AppData\\Local\\anaconda3\\envs\\polars\\Lib\\site-packages\\sklearn\\base.py:1473: DataConversionWarning: A column-vector y was passed when a 1d array was expected. Please change the shape of y to (n_samples,), for example using ravel().\n",
      "  return fit_method(estimator, *args, **kwargs)\n",
      "C:\\Users\\jb5983on\\AppData\\Local\\anaconda3\\envs\\polars\\Lib\\site-packages\\sklearn\\base.py:1473: DataConversionWarning: A column-vector y was passed when a 1d array was expected. Please change the shape of y to (n_samples,), for example using ravel().\n",
      "  return fit_method(estimator, *args, **kwargs)\n"
     ]
    },
    {
     "name": "stdout",
     "output_type": "stream",
     "text": [
      "[CV 4/5] END class_weight=None, max_depth=3, min_samples_leaf=5, min_samples_split=10, n_estimators=10;, score=0.993 total time=   0.1s\n",
      "[CV 5/5] END class_weight=None, max_depth=3, min_samples_leaf=5, min_samples_split=10, n_estimators=10;, score=0.993 total time=   0.1s\n"
     ]
    },
    {
     "name": "stderr",
     "output_type": "stream",
     "text": [
      "C:\\Users\\jb5983on\\AppData\\Local\\anaconda3\\envs\\polars\\Lib\\site-packages\\sklearn\\base.py:1473: DataConversionWarning: A column-vector y was passed when a 1d array was expected. Please change the shape of y to (n_samples,), for example using ravel().\n",
      "  return fit_method(estimator, *args, **kwargs)\n",
      "C:\\Users\\jb5983on\\AppData\\Local\\anaconda3\\envs\\polars\\Lib\\site-packages\\sklearn\\base.py:1473: DataConversionWarning: A column-vector y was passed when a 1d array was expected. Please change the shape of y to (n_samples,), for example using ravel().\n",
      "  return fit_method(estimator, *args, **kwargs)\n"
     ]
    },
    {
     "name": "stdout",
     "output_type": "stream",
     "text": [
      "[CV 1/5] END class_weight=None, max_depth=3, min_samples_leaf=5, min_samples_split=10, n_estimators=100;, score=0.993 total time=   1.0s\n"
     ]
    },
    {
     "name": "stderr",
     "output_type": "stream",
     "text": [
      "C:\\Users\\jb5983on\\AppData\\Local\\anaconda3\\envs\\polars\\Lib\\site-packages\\sklearn\\base.py:1473: DataConversionWarning: A column-vector y was passed when a 1d array was expected. Please change the shape of y to (n_samples,), for example using ravel().\n",
      "  return fit_method(estimator, *args, **kwargs)\n"
     ]
    },
    {
     "name": "stdout",
     "output_type": "stream",
     "text": [
      "[CV 2/5] END class_weight=None, max_depth=3, min_samples_leaf=5, min_samples_split=10, n_estimators=100;, score=0.993 total time=   1.0s\n"
     ]
    },
    {
     "name": "stderr",
     "output_type": "stream",
     "text": [
      "C:\\Users\\jb5983on\\AppData\\Local\\anaconda3\\envs\\polars\\Lib\\site-packages\\sklearn\\base.py:1473: DataConversionWarning: A column-vector y was passed when a 1d array was expected. Please change the shape of y to (n_samples,), for example using ravel().\n",
      "  return fit_method(estimator, *args, **kwargs)\n"
     ]
    },
    {
     "name": "stdout",
     "output_type": "stream",
     "text": [
      "[CV 3/5] END class_weight=None, max_depth=3, min_samples_leaf=5, min_samples_split=10, n_estimators=100;, score=0.993 total time=   1.0s\n"
     ]
    },
    {
     "name": "stderr",
     "output_type": "stream",
     "text": [
      "C:\\Users\\jb5983on\\AppData\\Local\\anaconda3\\envs\\polars\\Lib\\site-packages\\sklearn\\base.py:1473: DataConversionWarning: A column-vector y was passed when a 1d array was expected. Please change the shape of y to (n_samples,), for example using ravel().\n",
      "  return fit_method(estimator, *args, **kwargs)\n"
     ]
    },
    {
     "name": "stdout",
     "output_type": "stream",
     "text": [
      "[CV 4/5] END class_weight=None, max_depth=3, min_samples_leaf=5, min_samples_split=10, n_estimators=100;, score=0.993 total time=   1.1s\n"
     ]
    },
    {
     "name": "stderr",
     "output_type": "stream",
     "text": [
      "C:\\Users\\jb5983on\\AppData\\Local\\anaconda3\\envs\\polars\\Lib\\site-packages\\sklearn\\base.py:1473: DataConversionWarning: A column-vector y was passed when a 1d array was expected. Please change the shape of y to (n_samples,), for example using ravel().\n",
      "  return fit_method(estimator, *args, **kwargs)\n"
     ]
    },
    {
     "name": "stdout",
     "output_type": "stream",
     "text": [
      "[CV 5/5] END class_weight=None, max_depth=3, min_samples_leaf=5, min_samples_split=10, n_estimators=100;, score=0.993 total time=   1.0s\n",
      "[CV 1/5] END class_weight=None, max_depth=3, min_samples_leaf=10, min_samples_split=1, n_estimators=10;, score=nan total time=   0.0s\n",
      "[CV 2/5] END class_weight=None, max_depth=3, min_samples_leaf=10, min_samples_split=1, n_estimators=10;, score=nan total time=   0.0s\n",
      "[CV 3/5] END class_weight=None, max_depth=3, min_samples_leaf=10, min_samples_split=1, n_estimators=10;, score=nan total time=   0.0s\n",
      "[CV 4/5] END class_weight=None, max_depth=3, min_samples_leaf=10, min_samples_split=1, n_estimators=10;, score=nan total time=   0.0s\n",
      "[CV 5/5] END class_weight=None, max_depth=3, min_samples_leaf=10, min_samples_split=1, n_estimators=10;, score=nan total time=   0.0s\n",
      "[CV 1/5] END class_weight=None, max_depth=3, min_samples_leaf=10, min_samples_split=1, n_estimators=100;, score=nan total time=   0.0s\n",
      "[CV 2/5] END class_weight=None, max_depth=3, min_samples_leaf=10, min_samples_split=1, n_estimators=100;, score=nan total time=   0.0s\n",
      "[CV 3/5] END class_weight=None, max_depth=3, min_samples_leaf=10, min_samples_split=1, n_estimators=100;, score=nan total time=   0.0s\n",
      "[CV 4/5] END class_weight=None, max_depth=3, min_samples_leaf=10, min_samples_split=1, n_estimators=100;, score=nan total time=   0.0s\n",
      "[CV 5/5] END class_weight=None, max_depth=3, min_samples_leaf=10, min_samples_split=1, n_estimators=100;, score=nan total time=   0.0s\n"
     ]
    },
    {
     "name": "stderr",
     "output_type": "stream",
     "text": [
      "C:\\Users\\jb5983on\\AppData\\Local\\anaconda3\\envs\\polars\\Lib\\site-packages\\sklearn\\base.py:1473: DataConversionWarning: A column-vector y was passed when a 1d array was expected. Please change the shape of y to (n_samples,), for example using ravel().\n",
      "  return fit_method(estimator, *args, **kwargs)\n",
      "C:\\Users\\jb5983on\\AppData\\Local\\anaconda3\\envs\\polars\\Lib\\site-packages\\sklearn\\base.py:1473: DataConversionWarning: A column-vector y was passed when a 1d array was expected. Please change the shape of y to (n_samples,), for example using ravel().\n",
      "  return fit_method(estimator, *args, **kwargs)\n"
     ]
    },
    {
     "name": "stdout",
     "output_type": "stream",
     "text": [
      "[CV 1/5] END class_weight=None, max_depth=3, min_samples_leaf=10, min_samples_split=5, n_estimators=10;, score=0.993 total time=   0.1s\n",
      "[CV 2/5] END class_weight=None, max_depth=3, min_samples_leaf=10, min_samples_split=5, n_estimators=10;, score=0.993 total time=   0.1s\n"
     ]
    },
    {
     "name": "stderr",
     "output_type": "stream",
     "text": [
      "C:\\Users\\jb5983on\\AppData\\Local\\anaconda3\\envs\\polars\\Lib\\site-packages\\sklearn\\base.py:1473: DataConversionWarning: A column-vector y was passed when a 1d array was expected. Please change the shape of y to (n_samples,), for example using ravel().\n",
      "  return fit_method(estimator, *args, **kwargs)\n",
      "C:\\Users\\jb5983on\\AppData\\Local\\anaconda3\\envs\\polars\\Lib\\site-packages\\sklearn\\base.py:1473: DataConversionWarning: A column-vector y was passed when a 1d array was expected. Please change the shape of y to (n_samples,), for example using ravel().\n",
      "  return fit_method(estimator, *args, **kwargs)\n"
     ]
    },
    {
     "name": "stdout",
     "output_type": "stream",
     "text": [
      "[CV 3/5] END class_weight=None, max_depth=3, min_samples_leaf=10, min_samples_split=5, n_estimators=10;, score=0.993 total time=   0.1s\n",
      "[CV 4/5] END class_weight=None, max_depth=3, min_samples_leaf=10, min_samples_split=5, n_estimators=10;, score=0.993 total time=   0.1s\n"
     ]
    },
    {
     "name": "stderr",
     "output_type": "stream",
     "text": [
      "C:\\Users\\jb5983on\\AppData\\Local\\anaconda3\\envs\\polars\\Lib\\site-packages\\sklearn\\base.py:1473: DataConversionWarning: A column-vector y was passed when a 1d array was expected. Please change the shape of y to (n_samples,), for example using ravel().\n",
      "  return fit_method(estimator, *args, **kwargs)\n"
     ]
    },
    {
     "name": "stdout",
     "output_type": "stream",
     "text": [
      "[CV 5/5] END class_weight=None, max_depth=3, min_samples_leaf=10, min_samples_split=5, n_estimators=10;, score=0.993 total time=   0.1s\n"
     ]
    },
    {
     "name": "stderr",
     "output_type": "stream",
     "text": [
      "C:\\Users\\jb5983on\\AppData\\Local\\anaconda3\\envs\\polars\\Lib\\site-packages\\sklearn\\base.py:1473: DataConversionWarning: A column-vector y was passed when a 1d array was expected. Please change the shape of y to (n_samples,), for example using ravel().\n",
      "  return fit_method(estimator, *args, **kwargs)\n"
     ]
    },
    {
     "name": "stdout",
     "output_type": "stream",
     "text": [
      "[CV 1/5] END class_weight=None, max_depth=3, min_samples_leaf=10, min_samples_split=5, n_estimators=100;, score=0.993 total time=   1.1s\n"
     ]
    },
    {
     "name": "stderr",
     "output_type": "stream",
     "text": [
      "C:\\Users\\jb5983on\\AppData\\Local\\anaconda3\\envs\\polars\\Lib\\site-packages\\sklearn\\base.py:1473: DataConversionWarning: A column-vector y was passed when a 1d array was expected. Please change the shape of y to (n_samples,), for example using ravel().\n",
      "  return fit_method(estimator, *args, **kwargs)\n"
     ]
    },
    {
     "name": "stdout",
     "output_type": "stream",
     "text": [
      "[CV 2/5] END class_weight=None, max_depth=3, min_samples_leaf=10, min_samples_split=5, n_estimators=100;, score=0.993 total time=   1.1s\n"
     ]
    },
    {
     "name": "stderr",
     "output_type": "stream",
     "text": [
      "C:\\Users\\jb5983on\\AppData\\Local\\anaconda3\\envs\\polars\\Lib\\site-packages\\sklearn\\base.py:1473: DataConversionWarning: A column-vector y was passed when a 1d array was expected. Please change the shape of y to (n_samples,), for example using ravel().\n",
      "  return fit_method(estimator, *args, **kwargs)\n"
     ]
    },
    {
     "name": "stdout",
     "output_type": "stream",
     "text": [
      "[CV 3/5] END class_weight=None, max_depth=3, min_samples_leaf=10, min_samples_split=5, n_estimators=100;, score=0.993 total time=   1.0s\n"
     ]
    },
    {
     "name": "stderr",
     "output_type": "stream",
     "text": [
      "C:\\Users\\jb5983on\\AppData\\Local\\anaconda3\\envs\\polars\\Lib\\site-packages\\sklearn\\base.py:1473: DataConversionWarning: A column-vector y was passed when a 1d array was expected. Please change the shape of y to (n_samples,), for example using ravel().\n",
      "  return fit_method(estimator, *args, **kwargs)\n"
     ]
    },
    {
     "name": "stdout",
     "output_type": "stream",
     "text": [
      "[CV 4/5] END class_weight=None, max_depth=3, min_samples_leaf=10, min_samples_split=5, n_estimators=100;, score=0.993 total time=   1.0s\n"
     ]
    },
    {
     "name": "stderr",
     "output_type": "stream",
     "text": [
      "C:\\Users\\jb5983on\\AppData\\Local\\anaconda3\\envs\\polars\\Lib\\site-packages\\sklearn\\base.py:1473: DataConversionWarning: A column-vector y was passed when a 1d array was expected. Please change the shape of y to (n_samples,), for example using ravel().\n",
      "  return fit_method(estimator, *args, **kwargs)\n"
     ]
    },
    {
     "name": "stdout",
     "output_type": "stream",
     "text": [
      "[CV 5/5] END class_weight=None, max_depth=3, min_samples_leaf=10, min_samples_split=5, n_estimators=100;, score=0.993 total time=   0.9s\n",
      "[CV 1/5] END class_weight=None, max_depth=3, min_samples_leaf=10, min_samples_split=10, n_estimators=10;, score=0.993 total time=   0.0s\n"
     ]
    },
    {
     "name": "stderr",
     "output_type": "stream",
     "text": [
      "C:\\Users\\jb5983on\\AppData\\Local\\anaconda3\\envs\\polars\\Lib\\site-packages\\sklearn\\base.py:1473: DataConversionWarning: A column-vector y was passed when a 1d array was expected. Please change the shape of y to (n_samples,), for example using ravel().\n",
      "  return fit_method(estimator, *args, **kwargs)\n",
      "C:\\Users\\jb5983on\\AppData\\Local\\anaconda3\\envs\\polars\\Lib\\site-packages\\sklearn\\base.py:1473: DataConversionWarning: A column-vector y was passed when a 1d array was expected. Please change the shape of y to (n_samples,), for example using ravel().\n",
      "  return fit_method(estimator, *args, **kwargs)\n"
     ]
    },
    {
     "name": "stdout",
     "output_type": "stream",
     "text": [
      "[CV 2/5] END class_weight=None, max_depth=3, min_samples_leaf=10, min_samples_split=10, n_estimators=10;, score=0.993 total time=   0.1s\n",
      "[CV 3/5] END class_weight=None, max_depth=3, min_samples_leaf=10, min_samples_split=10, n_estimators=10;, score=0.993 total time=   0.1s\n"
     ]
    },
    {
     "name": "stderr",
     "output_type": "stream",
     "text": [
      "C:\\Users\\jb5983on\\AppData\\Local\\anaconda3\\envs\\polars\\Lib\\site-packages\\sklearn\\base.py:1473: DataConversionWarning: A column-vector y was passed when a 1d array was expected. Please change the shape of y to (n_samples,), for example using ravel().\n",
      "  return fit_method(estimator, *args, **kwargs)\n",
      "C:\\Users\\jb5983on\\AppData\\Local\\anaconda3\\envs\\polars\\Lib\\site-packages\\sklearn\\base.py:1473: DataConversionWarning: A column-vector y was passed when a 1d array was expected. Please change the shape of y to (n_samples,), for example using ravel().\n",
      "  return fit_method(estimator, *args, **kwargs)\n"
     ]
    },
    {
     "name": "stdout",
     "output_type": "stream",
     "text": [
      "[CV 4/5] END class_weight=None, max_depth=3, min_samples_leaf=10, min_samples_split=10, n_estimators=10;, score=0.993 total time=   0.0s\n",
      "[CV 5/5] END class_weight=None, max_depth=3, min_samples_leaf=10, min_samples_split=10, n_estimators=10;, score=0.993 total time=   0.0s\n"
     ]
    },
    {
     "name": "stderr",
     "output_type": "stream",
     "text": [
      "C:\\Users\\jb5983on\\AppData\\Local\\anaconda3\\envs\\polars\\Lib\\site-packages\\sklearn\\base.py:1473: DataConversionWarning: A column-vector y was passed when a 1d array was expected. Please change the shape of y to (n_samples,), for example using ravel().\n",
      "  return fit_method(estimator, *args, **kwargs)\n",
      "C:\\Users\\jb5983on\\AppData\\Local\\anaconda3\\envs\\polars\\Lib\\site-packages\\sklearn\\base.py:1473: DataConversionWarning: A column-vector y was passed when a 1d array was expected. Please change the shape of y to (n_samples,), for example using ravel().\n",
      "  return fit_method(estimator, *args, **kwargs)\n"
     ]
    },
    {
     "name": "stdout",
     "output_type": "stream",
     "text": [
      "[CV 1/5] END class_weight=None, max_depth=3, min_samples_leaf=10, min_samples_split=10, n_estimators=100;, score=0.993 total time=   0.9s\n"
     ]
    },
    {
     "name": "stderr",
     "output_type": "stream",
     "text": [
      "C:\\Users\\jb5983on\\AppData\\Local\\anaconda3\\envs\\polars\\Lib\\site-packages\\sklearn\\base.py:1473: DataConversionWarning: A column-vector y was passed when a 1d array was expected. Please change the shape of y to (n_samples,), for example using ravel().\n",
      "  return fit_method(estimator, *args, **kwargs)\n"
     ]
    },
    {
     "name": "stdout",
     "output_type": "stream",
     "text": [
      "[CV 2/5] END class_weight=None, max_depth=3, min_samples_leaf=10, min_samples_split=10, n_estimators=100;, score=0.993 total time=   0.8s\n"
     ]
    },
    {
     "name": "stderr",
     "output_type": "stream",
     "text": [
      "C:\\Users\\jb5983on\\AppData\\Local\\anaconda3\\envs\\polars\\Lib\\site-packages\\sklearn\\base.py:1473: DataConversionWarning: A column-vector y was passed when a 1d array was expected. Please change the shape of y to (n_samples,), for example using ravel().\n",
      "  return fit_method(estimator, *args, **kwargs)\n"
     ]
    },
    {
     "name": "stdout",
     "output_type": "stream",
     "text": [
      "[CV 3/5] END class_weight=None, max_depth=3, min_samples_leaf=10, min_samples_split=10, n_estimators=100;, score=0.993 total time=   0.8s\n"
     ]
    },
    {
     "name": "stderr",
     "output_type": "stream",
     "text": [
      "C:\\Users\\jb5983on\\AppData\\Local\\anaconda3\\envs\\polars\\Lib\\site-packages\\sklearn\\base.py:1473: DataConversionWarning: A column-vector y was passed when a 1d array was expected. Please change the shape of y to (n_samples,), for example using ravel().\n",
      "  return fit_method(estimator, *args, **kwargs)\n"
     ]
    },
    {
     "name": "stdout",
     "output_type": "stream",
     "text": [
      "[CV 4/5] END class_weight=None, max_depth=3, min_samples_leaf=10, min_samples_split=10, n_estimators=100;, score=0.993 total time=   1.0s\n"
     ]
    },
    {
     "name": "stderr",
     "output_type": "stream",
     "text": [
      "C:\\Users\\jb5983on\\AppData\\Local\\anaconda3\\envs\\polars\\Lib\\site-packages\\sklearn\\base.py:1473: DataConversionWarning: A column-vector y was passed when a 1d array was expected. Please change the shape of y to (n_samples,), for example using ravel().\n",
      "  return fit_method(estimator, *args, **kwargs)\n"
     ]
    },
    {
     "name": "stdout",
     "output_type": "stream",
     "text": [
      "[CV 5/5] END class_weight=None, max_depth=3, min_samples_leaf=10, min_samples_split=10, n_estimators=100;, score=0.993 total time=   1.0s\n",
      "[CV 1/5] END class_weight=None, max_depth=4, min_samples_leaf=1, min_samples_split=1, n_estimators=10;, score=nan total time=   0.0s\n",
      "[CV 2/5] END class_weight=None, max_depth=4, min_samples_leaf=1, min_samples_split=1, n_estimators=10;, score=nan total time=   0.0s\n",
      "[CV 3/5] END class_weight=None, max_depth=4, min_samples_leaf=1, min_samples_split=1, n_estimators=10;, score=nan total time=   0.0s\n",
      "[CV 4/5] END class_weight=None, max_depth=4, min_samples_leaf=1, min_samples_split=1, n_estimators=10;, score=nan total time=   0.0s\n",
      "[CV 5/5] END class_weight=None, max_depth=4, min_samples_leaf=1, min_samples_split=1, n_estimators=10;, score=nan total time=   0.0s\n",
      "[CV 1/5] END class_weight=None, max_depth=4, min_samples_leaf=1, min_samples_split=1, n_estimators=100;, score=nan total time=   0.0s\n",
      "[CV 2/5] END class_weight=None, max_depth=4, min_samples_leaf=1, min_samples_split=1, n_estimators=100;, score=nan total time=   0.0s\n",
      "[CV 3/5] END class_weight=None, max_depth=4, min_samples_leaf=1, min_samples_split=1, n_estimators=100;, score=nan total time=   0.0s\n",
      "[CV 4/5] END class_weight=None, max_depth=4, min_samples_leaf=1, min_samples_split=1, n_estimators=100;, score=nan total time=   0.0s\n",
      "[CV 5/5] END class_weight=None, max_depth=4, min_samples_leaf=1, min_samples_split=1, n_estimators=100;, score=nan total time=   0.0s\n"
     ]
    },
    {
     "name": "stderr",
     "output_type": "stream",
     "text": [
      "C:\\Users\\jb5983on\\AppData\\Local\\anaconda3\\envs\\polars\\Lib\\site-packages\\sklearn\\base.py:1473: DataConversionWarning: A column-vector y was passed when a 1d array was expected. Please change the shape of y to (n_samples,), for example using ravel().\n",
      "  return fit_method(estimator, *args, **kwargs)\n"
     ]
    },
    {
     "name": "stdout",
     "output_type": "stream",
     "text": [
      "[CV 1/5] END class_weight=None, max_depth=4, min_samples_leaf=1, min_samples_split=5, n_estimators=10;, score=0.993 total time=   0.1s\n"
     ]
    },
    {
     "name": "stderr",
     "output_type": "stream",
     "text": [
      "C:\\Users\\jb5983on\\AppData\\Local\\anaconda3\\envs\\polars\\Lib\\site-packages\\sklearn\\base.py:1473: DataConversionWarning: A column-vector y was passed when a 1d array was expected. Please change the shape of y to (n_samples,), for example using ravel().\n",
      "  return fit_method(estimator, *args, **kwargs)\n",
      "C:\\Users\\jb5983on\\AppData\\Local\\anaconda3\\envs\\polars\\Lib\\site-packages\\sklearn\\base.py:1473: DataConversionWarning: A column-vector y was passed when a 1d array was expected. Please change the shape of y to (n_samples,), for example using ravel().\n",
      "  return fit_method(estimator, *args, **kwargs)\n"
     ]
    },
    {
     "name": "stdout",
     "output_type": "stream",
     "text": [
      "[CV 2/5] END class_weight=None, max_depth=4, min_samples_leaf=1, min_samples_split=5, n_estimators=10;, score=0.993 total time=   0.1s\n",
      "[CV 3/5] END class_weight=None, max_depth=4, min_samples_leaf=1, min_samples_split=5, n_estimators=10;, score=0.993 total time=   0.1s\n"
     ]
    },
    {
     "name": "stderr",
     "output_type": "stream",
     "text": [
      "C:\\Users\\jb5983on\\AppData\\Local\\anaconda3\\envs\\polars\\Lib\\site-packages\\sklearn\\base.py:1473: DataConversionWarning: A column-vector y was passed when a 1d array was expected. Please change the shape of y to (n_samples,), for example using ravel().\n",
      "  return fit_method(estimator, *args, **kwargs)\n",
      "C:\\Users\\jb5983on\\AppData\\Local\\anaconda3\\envs\\polars\\Lib\\site-packages\\sklearn\\base.py:1473: DataConversionWarning: A column-vector y was passed when a 1d array was expected. Please change the shape of y to (n_samples,), for example using ravel().\n",
      "  return fit_method(estimator, *args, **kwargs)\n"
     ]
    },
    {
     "name": "stdout",
     "output_type": "stream",
     "text": [
      "[CV 4/5] END class_weight=None, max_depth=4, min_samples_leaf=1, min_samples_split=5, n_estimators=10;, score=0.993 total time=   0.1s\n",
      "[CV 5/5] END class_weight=None, max_depth=4, min_samples_leaf=1, min_samples_split=5, n_estimators=10;, score=0.993 total time=   0.1s\n"
     ]
    },
    {
     "name": "stderr",
     "output_type": "stream",
     "text": [
      "C:\\Users\\jb5983on\\AppData\\Local\\anaconda3\\envs\\polars\\Lib\\site-packages\\sklearn\\base.py:1473: DataConversionWarning: A column-vector y was passed when a 1d array was expected. Please change the shape of y to (n_samples,), for example using ravel().\n",
      "  return fit_method(estimator, *args, **kwargs)\n"
     ]
    },
    {
     "name": "stdout",
     "output_type": "stream",
     "text": [
      "[CV 1/5] END class_weight=None, max_depth=4, min_samples_leaf=1, min_samples_split=5, n_estimators=100;, score=0.993 total time=   1.1s\n"
     ]
    },
    {
     "name": "stderr",
     "output_type": "stream",
     "text": [
      "C:\\Users\\jb5983on\\AppData\\Local\\anaconda3\\envs\\polars\\Lib\\site-packages\\sklearn\\base.py:1473: DataConversionWarning: A column-vector y was passed when a 1d array was expected. Please change the shape of y to (n_samples,), for example using ravel().\n",
      "  return fit_method(estimator, *args, **kwargs)\n"
     ]
    },
    {
     "name": "stdout",
     "output_type": "stream",
     "text": [
      "[CV 2/5] END class_weight=None, max_depth=4, min_samples_leaf=1, min_samples_split=5, n_estimators=100;, score=0.993 total time=   1.1s\n"
     ]
    },
    {
     "name": "stderr",
     "output_type": "stream",
     "text": [
      "C:\\Users\\jb5983on\\AppData\\Local\\anaconda3\\envs\\polars\\Lib\\site-packages\\sklearn\\base.py:1473: DataConversionWarning: A column-vector y was passed when a 1d array was expected. Please change the shape of y to (n_samples,), for example using ravel().\n",
      "  return fit_method(estimator, *args, **kwargs)\n"
     ]
    },
    {
     "name": "stdout",
     "output_type": "stream",
     "text": [
      "[CV 3/5] END class_weight=None, max_depth=4, min_samples_leaf=1, min_samples_split=5, n_estimators=100;, score=0.993 total time=   1.1s\n"
     ]
    },
    {
     "name": "stderr",
     "output_type": "stream",
     "text": [
      "C:\\Users\\jb5983on\\AppData\\Local\\anaconda3\\envs\\polars\\Lib\\site-packages\\sklearn\\base.py:1473: DataConversionWarning: A column-vector y was passed when a 1d array was expected. Please change the shape of y to (n_samples,), for example using ravel().\n",
      "  return fit_method(estimator, *args, **kwargs)\n"
     ]
    },
    {
     "name": "stdout",
     "output_type": "stream",
     "text": [
      "[CV 4/5] END class_weight=None, max_depth=4, min_samples_leaf=1, min_samples_split=5, n_estimators=100;, score=0.993 total time=   1.1s\n"
     ]
    },
    {
     "name": "stderr",
     "output_type": "stream",
     "text": [
      "C:\\Users\\jb5983on\\AppData\\Local\\anaconda3\\envs\\polars\\Lib\\site-packages\\sklearn\\base.py:1473: DataConversionWarning: A column-vector y was passed when a 1d array was expected. Please change the shape of y to (n_samples,), for example using ravel().\n",
      "  return fit_method(estimator, *args, **kwargs)\n"
     ]
    },
    {
     "name": "stdout",
     "output_type": "stream",
     "text": [
      "[CV 5/5] END class_weight=None, max_depth=4, min_samples_leaf=1, min_samples_split=5, n_estimators=100;, score=0.993 total time=   1.1s\n",
      "[CV 1/5] END class_weight=None, max_depth=4, min_samples_leaf=1, min_samples_split=10, n_estimators=10;, score=0.993 total time=   0.1s\n"
     ]
    },
    {
     "name": "stderr",
     "output_type": "stream",
     "text": [
      "C:\\Users\\jb5983on\\AppData\\Local\\anaconda3\\envs\\polars\\Lib\\site-packages\\sklearn\\base.py:1473: DataConversionWarning: A column-vector y was passed when a 1d array was expected. Please change the shape of y to (n_samples,), for example using ravel().\n",
      "  return fit_method(estimator, *args, **kwargs)\n",
      "C:\\Users\\jb5983on\\AppData\\Local\\anaconda3\\envs\\polars\\Lib\\site-packages\\sklearn\\base.py:1473: DataConversionWarning: A column-vector y was passed when a 1d array was expected. Please change the shape of y to (n_samples,), for example using ravel().\n",
      "  return fit_method(estimator, *args, **kwargs)\n",
      "C:\\Users\\jb5983on\\AppData\\Local\\anaconda3\\envs\\polars\\Lib\\site-packages\\sklearn\\base.py:1473: DataConversionWarning: A column-vector y was passed when a 1d array was expected. Please change the shape of y to (n_samples,), for example using ravel().\n",
      "  return fit_method(estimator, *args, **kwargs)\n"
     ]
    },
    {
     "name": "stdout",
     "output_type": "stream",
     "text": [
      "[CV 2/5] END class_weight=None, max_depth=4, min_samples_leaf=1, min_samples_split=10, n_estimators=10;, score=0.993 total time=   0.1s\n",
      "[CV 3/5] END class_weight=None, max_depth=4, min_samples_leaf=1, min_samples_split=10, n_estimators=10;, score=0.993 total time=   0.1s\n"
     ]
    },
    {
     "name": "stderr",
     "output_type": "stream",
     "text": [
      "C:\\Users\\jb5983on\\AppData\\Local\\anaconda3\\envs\\polars\\Lib\\site-packages\\sklearn\\base.py:1473: DataConversionWarning: A column-vector y was passed when a 1d array was expected. Please change the shape of y to (n_samples,), for example using ravel().\n",
      "  return fit_method(estimator, *args, **kwargs)\n",
      "C:\\Users\\jb5983on\\AppData\\Local\\anaconda3\\envs\\polars\\Lib\\site-packages\\sklearn\\base.py:1473: DataConversionWarning: A column-vector y was passed when a 1d array was expected. Please change the shape of y to (n_samples,), for example using ravel().\n",
      "  return fit_method(estimator, *args, **kwargs)\n"
     ]
    },
    {
     "name": "stdout",
     "output_type": "stream",
     "text": [
      "[CV 4/5] END class_weight=None, max_depth=4, min_samples_leaf=1, min_samples_split=10, n_estimators=10;, score=0.993 total time=   0.1s\n",
      "[CV 5/5] END class_weight=None, max_depth=4, min_samples_leaf=1, min_samples_split=10, n_estimators=10;, score=0.993 total time=   0.1s\n"
     ]
    },
    {
     "name": "stderr",
     "output_type": "stream",
     "text": [
      "C:\\Users\\jb5983on\\AppData\\Local\\anaconda3\\envs\\polars\\Lib\\site-packages\\sklearn\\base.py:1473: DataConversionWarning: A column-vector y was passed when a 1d array was expected. Please change the shape of y to (n_samples,), for example using ravel().\n",
      "  return fit_method(estimator, *args, **kwargs)\n"
     ]
    },
    {
     "name": "stdout",
     "output_type": "stream",
     "text": [
      "[CV 1/5] END class_weight=None, max_depth=4, min_samples_leaf=1, min_samples_split=10, n_estimators=100;, score=0.993 total time=   1.1s\n"
     ]
    },
    {
     "name": "stderr",
     "output_type": "stream",
     "text": [
      "C:\\Users\\jb5983on\\AppData\\Local\\anaconda3\\envs\\polars\\Lib\\site-packages\\sklearn\\base.py:1473: DataConversionWarning: A column-vector y was passed when a 1d array was expected. Please change the shape of y to (n_samples,), for example using ravel().\n",
      "  return fit_method(estimator, *args, **kwargs)\n"
     ]
    },
    {
     "name": "stdout",
     "output_type": "stream",
     "text": [
      "[CV 2/5] END class_weight=None, max_depth=4, min_samples_leaf=1, min_samples_split=10, n_estimators=100;, score=0.993 total time=   1.1s\n"
     ]
    },
    {
     "name": "stderr",
     "output_type": "stream",
     "text": [
      "C:\\Users\\jb5983on\\AppData\\Local\\anaconda3\\envs\\polars\\Lib\\site-packages\\sklearn\\base.py:1473: DataConversionWarning: A column-vector y was passed when a 1d array was expected. Please change the shape of y to (n_samples,), for example using ravel().\n",
      "  return fit_method(estimator, *args, **kwargs)\n"
     ]
    },
    {
     "name": "stdout",
     "output_type": "stream",
     "text": [
      "[CV 3/5] END class_weight=None, max_depth=4, min_samples_leaf=1, min_samples_split=10, n_estimators=100;, score=0.993 total time=   0.9s\n"
     ]
    },
    {
     "name": "stderr",
     "output_type": "stream",
     "text": [
      "C:\\Users\\jb5983on\\AppData\\Local\\anaconda3\\envs\\polars\\Lib\\site-packages\\sklearn\\base.py:1473: DataConversionWarning: A column-vector y was passed when a 1d array was expected. Please change the shape of y to (n_samples,), for example using ravel().\n",
      "  return fit_method(estimator, *args, **kwargs)\n"
     ]
    },
    {
     "name": "stdout",
     "output_type": "stream",
     "text": [
      "[CV 4/5] END class_weight=None, max_depth=4, min_samples_leaf=1, min_samples_split=10, n_estimators=100;, score=0.993 total time=   1.3s\n"
     ]
    },
    {
     "name": "stderr",
     "output_type": "stream",
     "text": [
      "C:\\Users\\jb5983on\\AppData\\Local\\anaconda3\\envs\\polars\\Lib\\site-packages\\sklearn\\base.py:1473: DataConversionWarning: A column-vector y was passed when a 1d array was expected. Please change the shape of y to (n_samples,), for example using ravel().\n",
      "  return fit_method(estimator, *args, **kwargs)\n"
     ]
    },
    {
     "name": "stdout",
     "output_type": "stream",
     "text": [
      "[CV 5/5] END class_weight=None, max_depth=4, min_samples_leaf=1, min_samples_split=10, n_estimators=100;, score=0.993 total time=   1.2s\n",
      "[CV 1/5] END class_weight=None, max_depth=4, min_samples_leaf=5, min_samples_split=1, n_estimators=10;, score=nan total time=   0.0s\n",
      "[CV 2/5] END class_weight=None, max_depth=4, min_samples_leaf=5, min_samples_split=1, n_estimators=10;, score=nan total time=   0.0s\n",
      "[CV 3/5] END class_weight=None, max_depth=4, min_samples_leaf=5, min_samples_split=1, n_estimators=10;, score=nan total time=   0.0s\n",
      "[CV 4/5] END class_weight=None, max_depth=4, min_samples_leaf=5, min_samples_split=1, n_estimators=10;, score=nan total time=   0.0s\n",
      "[CV 5/5] END class_weight=None, max_depth=4, min_samples_leaf=5, min_samples_split=1, n_estimators=10;, score=nan total time=   0.0s\n",
      "[CV 1/5] END class_weight=None, max_depth=4, min_samples_leaf=5, min_samples_split=1, n_estimators=100;, score=nan total time=   0.0s\n",
      "[CV 2/5] END class_weight=None, max_depth=4, min_samples_leaf=5, min_samples_split=1, n_estimators=100;, score=nan total time=   0.0s\n",
      "[CV 3/5] END class_weight=None, max_depth=4, min_samples_leaf=5, min_samples_split=1, n_estimators=100;, score=nan total time=   0.0s\n",
      "[CV 4/5] END class_weight=None, max_depth=4, min_samples_leaf=5, min_samples_split=1, n_estimators=100;, score=nan total time=   0.0s\n",
      "[CV 5/5] END class_weight=None, max_depth=4, min_samples_leaf=5, min_samples_split=1, n_estimators=100;, score=nan total time=   0.0s\n"
     ]
    },
    {
     "name": "stderr",
     "output_type": "stream",
     "text": [
      "C:\\Users\\jb5983on\\AppData\\Local\\anaconda3\\envs\\polars\\Lib\\site-packages\\sklearn\\base.py:1473: DataConversionWarning: A column-vector y was passed when a 1d array was expected. Please change the shape of y to (n_samples,), for example using ravel().\n",
      "  return fit_method(estimator, *args, **kwargs)\n"
     ]
    },
    {
     "name": "stdout",
     "output_type": "stream",
     "text": [
      "[CV 1/5] END class_weight=None, max_depth=4, min_samples_leaf=5, min_samples_split=5, n_estimators=10;, score=0.993 total time=   0.1s\n"
     ]
    },
    {
     "name": "stderr",
     "output_type": "stream",
     "text": [
      "C:\\Users\\jb5983on\\AppData\\Local\\anaconda3\\envs\\polars\\Lib\\site-packages\\sklearn\\base.py:1473: DataConversionWarning: A column-vector y was passed when a 1d array was expected. Please change the shape of y to (n_samples,), for example using ravel().\n",
      "  return fit_method(estimator, *args, **kwargs)\n"
     ]
    },
    {
     "name": "stdout",
     "output_type": "stream",
     "text": [
      "[CV 2/5] END class_weight=None, max_depth=4, min_samples_leaf=5, min_samples_split=5, n_estimators=10;, score=0.993 total time=   0.1s\n"
     ]
    },
    {
     "name": "stderr",
     "output_type": "stream",
     "text": [
      "C:\\Users\\jb5983on\\AppData\\Local\\anaconda3\\envs\\polars\\Lib\\site-packages\\sklearn\\base.py:1473: DataConversionWarning: A column-vector y was passed when a 1d array was expected. Please change the shape of y to (n_samples,), for example using ravel().\n",
      "  return fit_method(estimator, *args, **kwargs)\n"
     ]
    },
    {
     "name": "stdout",
     "output_type": "stream",
     "text": [
      "[CV 3/5] END class_weight=None, max_depth=4, min_samples_leaf=5, min_samples_split=5, n_estimators=10;, score=0.993 total time=   0.1s\n"
     ]
    },
    {
     "name": "stderr",
     "output_type": "stream",
     "text": [
      "C:\\Users\\jb5983on\\AppData\\Local\\anaconda3\\envs\\polars\\Lib\\site-packages\\sklearn\\base.py:1473: DataConversionWarning: A column-vector y was passed when a 1d array was expected. Please change the shape of y to (n_samples,), for example using ravel().\n",
      "  return fit_method(estimator, *args, **kwargs)\n",
      "C:\\Users\\jb5983on\\AppData\\Local\\anaconda3\\envs\\polars\\Lib\\site-packages\\sklearn\\base.py:1473: DataConversionWarning: A column-vector y was passed when a 1d array was expected. Please change the shape of y to (n_samples,), for example using ravel().\n",
      "  return fit_method(estimator, *args, **kwargs)\n"
     ]
    },
    {
     "name": "stdout",
     "output_type": "stream",
     "text": [
      "[CV 4/5] END class_weight=None, max_depth=4, min_samples_leaf=5, min_samples_split=5, n_estimators=10;, score=0.993 total time=   0.1s\n",
      "[CV 5/5] END class_weight=None, max_depth=4, min_samples_leaf=5, min_samples_split=5, n_estimators=10;, score=0.993 total time=   0.1s\n"
     ]
    },
    {
     "name": "stderr",
     "output_type": "stream",
     "text": [
      "C:\\Users\\jb5983on\\AppData\\Local\\anaconda3\\envs\\polars\\Lib\\site-packages\\sklearn\\base.py:1473: DataConversionWarning: A column-vector y was passed when a 1d array was expected. Please change the shape of y to (n_samples,), for example using ravel().\n",
      "  return fit_method(estimator, *args, **kwargs)\n"
     ]
    },
    {
     "name": "stdout",
     "output_type": "stream",
     "text": [
      "[CV 1/5] END class_weight=None, max_depth=4, min_samples_leaf=5, min_samples_split=5, n_estimators=100;, score=0.993 total time=   1.3s\n"
     ]
    },
    {
     "name": "stderr",
     "output_type": "stream",
     "text": [
      "C:\\Users\\jb5983on\\AppData\\Local\\anaconda3\\envs\\polars\\Lib\\site-packages\\sklearn\\base.py:1473: DataConversionWarning: A column-vector y was passed when a 1d array was expected. Please change the shape of y to (n_samples,), for example using ravel().\n",
      "  return fit_method(estimator, *args, **kwargs)\n"
     ]
    },
    {
     "name": "stdout",
     "output_type": "stream",
     "text": [
      "[CV 2/5] END class_weight=None, max_depth=4, min_samples_leaf=5, min_samples_split=5, n_estimators=100;, score=0.993 total time=   1.3s\n"
     ]
    },
    {
     "name": "stderr",
     "output_type": "stream",
     "text": [
      "C:\\Users\\jb5983on\\AppData\\Local\\anaconda3\\envs\\polars\\Lib\\site-packages\\sklearn\\base.py:1473: DataConversionWarning: A column-vector y was passed when a 1d array was expected. Please change the shape of y to (n_samples,), for example using ravel().\n",
      "  return fit_method(estimator, *args, **kwargs)\n"
     ]
    },
    {
     "name": "stdout",
     "output_type": "stream",
     "text": [
      "[CV 3/5] END class_weight=None, max_depth=4, min_samples_leaf=5, min_samples_split=5, n_estimators=100;, score=0.993 total time=   1.4s\n"
     ]
    },
    {
     "name": "stderr",
     "output_type": "stream",
     "text": [
      "C:\\Users\\jb5983on\\AppData\\Local\\anaconda3\\envs\\polars\\Lib\\site-packages\\sklearn\\base.py:1473: DataConversionWarning: A column-vector y was passed when a 1d array was expected. Please change the shape of y to (n_samples,), for example using ravel().\n",
      "  return fit_method(estimator, *args, **kwargs)\n"
     ]
    },
    {
     "name": "stdout",
     "output_type": "stream",
     "text": [
      "[CV 4/5] END class_weight=None, max_depth=4, min_samples_leaf=5, min_samples_split=5, n_estimators=100;, score=0.993 total time=   1.2s\n"
     ]
    },
    {
     "name": "stderr",
     "output_type": "stream",
     "text": [
      "C:\\Users\\jb5983on\\AppData\\Local\\anaconda3\\envs\\polars\\Lib\\site-packages\\sklearn\\base.py:1473: DataConversionWarning: A column-vector y was passed when a 1d array was expected. Please change the shape of y to (n_samples,), for example using ravel().\n",
      "  return fit_method(estimator, *args, **kwargs)\n"
     ]
    },
    {
     "name": "stdout",
     "output_type": "stream",
     "text": [
      "[CV 5/5] END class_weight=None, max_depth=4, min_samples_leaf=5, min_samples_split=5, n_estimators=100;, score=0.993 total time=   1.1s\n",
      "[CV 1/5] END class_weight=None, max_depth=4, min_samples_leaf=5, min_samples_split=10, n_estimators=10;, score=0.993 total time=   0.1s\n"
     ]
    },
    {
     "name": "stderr",
     "output_type": "stream",
     "text": [
      "C:\\Users\\jb5983on\\AppData\\Local\\anaconda3\\envs\\polars\\Lib\\site-packages\\sklearn\\base.py:1473: DataConversionWarning: A column-vector y was passed when a 1d array was expected. Please change the shape of y to (n_samples,), for example using ravel().\n",
      "  return fit_method(estimator, *args, **kwargs)\n",
      "C:\\Users\\jb5983on\\AppData\\Local\\anaconda3\\envs\\polars\\Lib\\site-packages\\sklearn\\base.py:1473: DataConversionWarning: A column-vector y was passed when a 1d array was expected. Please change the shape of y to (n_samples,), for example using ravel().\n",
      "  return fit_method(estimator, *args, **kwargs)\n"
     ]
    },
    {
     "name": "stdout",
     "output_type": "stream",
     "text": [
      "[CV 2/5] END class_weight=None, max_depth=4, min_samples_leaf=5, min_samples_split=10, n_estimators=10;, score=0.993 total time=   0.1s\n",
      "[CV 3/5] END class_weight=None, max_depth=4, min_samples_leaf=5, min_samples_split=10, n_estimators=10;, score=0.993 total time=   0.1s\n"
     ]
    },
    {
     "name": "stderr",
     "output_type": "stream",
     "text": [
      "C:\\Users\\jb5983on\\AppData\\Local\\anaconda3\\envs\\polars\\Lib\\site-packages\\sklearn\\base.py:1473: DataConversionWarning: A column-vector y was passed when a 1d array was expected. Please change the shape of y to (n_samples,), for example using ravel().\n",
      "  return fit_method(estimator, *args, **kwargs)\n",
      "C:\\Users\\jb5983on\\AppData\\Local\\anaconda3\\envs\\polars\\Lib\\site-packages\\sklearn\\base.py:1473: DataConversionWarning: A column-vector y was passed when a 1d array was expected. Please change the shape of y to (n_samples,), for example using ravel().\n",
      "  return fit_method(estimator, *args, **kwargs)\n"
     ]
    },
    {
     "name": "stdout",
     "output_type": "stream",
     "text": [
      "[CV 4/5] END class_weight=None, max_depth=4, min_samples_leaf=5, min_samples_split=10, n_estimators=10;, score=0.993 total time=   0.1s\n",
      "[CV 5/5] END class_weight=None, max_depth=4, min_samples_leaf=5, min_samples_split=10, n_estimators=10;, score=0.993 total time=   0.1s\n"
     ]
    },
    {
     "name": "stderr",
     "output_type": "stream",
     "text": [
      "C:\\Users\\jb5983on\\AppData\\Local\\anaconda3\\envs\\polars\\Lib\\site-packages\\sklearn\\base.py:1473: DataConversionWarning: A column-vector y was passed when a 1d array was expected. Please change the shape of y to (n_samples,), for example using ravel().\n",
      "  return fit_method(estimator, *args, **kwargs)\n",
      "C:\\Users\\jb5983on\\AppData\\Local\\anaconda3\\envs\\polars\\Lib\\site-packages\\sklearn\\base.py:1473: DataConversionWarning: A column-vector y was passed when a 1d array was expected. Please change the shape of y to (n_samples,), for example using ravel().\n",
      "  return fit_method(estimator, *args, **kwargs)\n"
     ]
    },
    {
     "name": "stdout",
     "output_type": "stream",
     "text": [
      "[CV 1/5] END class_weight=None, max_depth=4, min_samples_leaf=5, min_samples_split=10, n_estimators=100;, score=0.993 total time=   1.2s\n"
     ]
    },
    {
     "name": "stderr",
     "output_type": "stream",
     "text": [
      "C:\\Users\\jb5983on\\AppData\\Local\\anaconda3\\envs\\polars\\Lib\\site-packages\\sklearn\\base.py:1473: DataConversionWarning: A column-vector y was passed when a 1d array was expected. Please change the shape of y to (n_samples,), for example using ravel().\n",
      "  return fit_method(estimator, *args, **kwargs)\n"
     ]
    },
    {
     "name": "stdout",
     "output_type": "stream",
     "text": [
      "[CV 2/5] END class_weight=None, max_depth=4, min_samples_leaf=5, min_samples_split=10, n_estimators=100;, score=0.993 total time=   1.1s\n"
     ]
    },
    {
     "name": "stderr",
     "output_type": "stream",
     "text": [
      "C:\\Users\\jb5983on\\AppData\\Local\\anaconda3\\envs\\polars\\Lib\\site-packages\\sklearn\\base.py:1473: DataConversionWarning: A column-vector y was passed when a 1d array was expected. Please change the shape of y to (n_samples,), for example using ravel().\n",
      "  return fit_method(estimator, *args, **kwargs)\n"
     ]
    },
    {
     "name": "stdout",
     "output_type": "stream",
     "text": [
      "[CV 3/5] END class_weight=None, max_depth=4, min_samples_leaf=5, min_samples_split=10, n_estimators=100;, score=0.993 total time=   0.9s\n"
     ]
    },
    {
     "name": "stderr",
     "output_type": "stream",
     "text": [
      "C:\\Users\\jb5983on\\AppData\\Local\\anaconda3\\envs\\polars\\Lib\\site-packages\\sklearn\\base.py:1473: DataConversionWarning: A column-vector y was passed when a 1d array was expected. Please change the shape of y to (n_samples,), for example using ravel().\n",
      "  return fit_method(estimator, *args, **kwargs)\n"
     ]
    },
    {
     "name": "stdout",
     "output_type": "stream",
     "text": [
      "[CV 4/5] END class_weight=None, max_depth=4, min_samples_leaf=5, min_samples_split=10, n_estimators=100;, score=0.993 total time=   1.0s\n"
     ]
    },
    {
     "name": "stderr",
     "output_type": "stream",
     "text": [
      "C:\\Users\\jb5983on\\AppData\\Local\\anaconda3\\envs\\polars\\Lib\\site-packages\\sklearn\\base.py:1473: DataConversionWarning: A column-vector y was passed when a 1d array was expected. Please change the shape of y to (n_samples,), for example using ravel().\n",
      "  return fit_method(estimator, *args, **kwargs)\n"
     ]
    },
    {
     "name": "stdout",
     "output_type": "stream",
     "text": [
      "[CV 5/5] END class_weight=None, max_depth=4, min_samples_leaf=5, min_samples_split=10, n_estimators=100;, score=0.993 total time=   0.7s\n",
      "[CV 1/5] END class_weight=None, max_depth=4, min_samples_leaf=10, min_samples_split=1, n_estimators=10;, score=nan total time=   0.0s\n",
      "[CV 2/5] END class_weight=None, max_depth=4, min_samples_leaf=10, min_samples_split=1, n_estimators=10;, score=nan total time=   0.0s\n",
      "[CV 3/5] END class_weight=None, max_depth=4, min_samples_leaf=10, min_samples_split=1, n_estimators=10;, score=nan total time=   0.0s\n",
      "[CV 4/5] END class_weight=None, max_depth=4, min_samples_leaf=10, min_samples_split=1, n_estimators=10;, score=nan total time=   0.0s\n",
      "[CV 5/5] END class_weight=None, max_depth=4, min_samples_leaf=10, min_samples_split=1, n_estimators=10;, score=nan total time=   0.0s\n",
      "[CV 1/5] END class_weight=None, max_depth=4, min_samples_leaf=10, min_samples_split=1, n_estimators=100;, score=nan total time=   0.0s\n",
      "[CV 2/5] END class_weight=None, max_depth=4, min_samples_leaf=10, min_samples_split=1, n_estimators=100;, score=nan total time=   0.0s\n",
      "[CV 3/5] END class_weight=None, max_depth=4, min_samples_leaf=10, min_samples_split=1, n_estimators=100;, score=nan total time=   0.0s\n",
      "[CV 4/5] END class_weight=None, max_depth=4, min_samples_leaf=10, min_samples_split=1, n_estimators=100;, score=nan total time=   0.0s\n",
      "[CV 5/5] END class_weight=None, max_depth=4, min_samples_leaf=10, min_samples_split=1, n_estimators=100;, score=nan total time=   0.0s\n"
     ]
    },
    {
     "name": "stderr",
     "output_type": "stream",
     "text": [
      "C:\\Users\\jb5983on\\AppData\\Local\\anaconda3\\envs\\polars\\Lib\\site-packages\\sklearn\\base.py:1473: DataConversionWarning: A column-vector y was passed when a 1d array was expected. Please change the shape of y to (n_samples,), for example using ravel().\n",
      "  return fit_method(estimator, *args, **kwargs)\n",
      "C:\\Users\\jb5983on\\AppData\\Local\\anaconda3\\envs\\polars\\Lib\\site-packages\\sklearn\\base.py:1473: DataConversionWarning: A column-vector y was passed when a 1d array was expected. Please change the shape of y to (n_samples,), for example using ravel().\n",
      "  return fit_method(estimator, *args, **kwargs)\n"
     ]
    },
    {
     "name": "stdout",
     "output_type": "stream",
     "text": [
      "[CV 1/5] END class_weight=None, max_depth=4, min_samples_leaf=10, min_samples_split=5, n_estimators=10;, score=0.993 total time=   0.1s\n",
      "[CV 2/5] END class_weight=None, max_depth=4, min_samples_leaf=10, min_samples_split=5, n_estimators=10;, score=0.993 total time=   0.1s\n"
     ]
    },
    {
     "name": "stderr",
     "output_type": "stream",
     "text": [
      "C:\\Users\\jb5983on\\AppData\\Local\\anaconda3\\envs\\polars\\Lib\\site-packages\\sklearn\\base.py:1473: DataConversionWarning: A column-vector y was passed when a 1d array was expected. Please change the shape of y to (n_samples,), for example using ravel().\n",
      "  return fit_method(estimator, *args, **kwargs)\n",
      "C:\\Users\\jb5983on\\AppData\\Local\\anaconda3\\envs\\polars\\Lib\\site-packages\\sklearn\\base.py:1473: DataConversionWarning: A column-vector y was passed when a 1d array was expected. Please change the shape of y to (n_samples,), for example using ravel().\n",
      "  return fit_method(estimator, *args, **kwargs)\n"
     ]
    },
    {
     "name": "stdout",
     "output_type": "stream",
     "text": [
      "[CV 3/5] END class_weight=None, max_depth=4, min_samples_leaf=10, min_samples_split=5, n_estimators=10;, score=0.993 total time=   0.1s\n",
      "[CV 4/5] END class_weight=None, max_depth=4, min_samples_leaf=10, min_samples_split=5, n_estimators=10;, score=0.993 total time=   0.1s\n"
     ]
    },
    {
     "name": "stderr",
     "output_type": "stream",
     "text": [
      "C:\\Users\\jb5983on\\AppData\\Local\\anaconda3\\envs\\polars\\Lib\\site-packages\\sklearn\\base.py:1473: DataConversionWarning: A column-vector y was passed when a 1d array was expected. Please change the shape of y to (n_samples,), for example using ravel().\n",
      "  return fit_method(estimator, *args, **kwargs)\n",
      "C:\\Users\\jb5983on\\AppData\\Local\\anaconda3\\envs\\polars\\Lib\\site-packages\\sklearn\\base.py:1473: DataConversionWarning: A column-vector y was passed when a 1d array was expected. Please change the shape of y to (n_samples,), for example using ravel().\n",
      "  return fit_method(estimator, *args, **kwargs)\n"
     ]
    },
    {
     "name": "stdout",
     "output_type": "stream",
     "text": [
      "[CV 5/5] END class_weight=None, max_depth=4, min_samples_leaf=10, min_samples_split=5, n_estimators=10;, score=0.993 total time=   0.1s\n",
      "[CV 1/5] END class_weight=None, max_depth=4, min_samples_leaf=10, min_samples_split=5, n_estimators=100;, score=0.993 total time=   1.4s\n"
     ]
    },
    {
     "name": "stderr",
     "output_type": "stream",
     "text": [
      "C:\\Users\\jb5983on\\AppData\\Local\\anaconda3\\envs\\polars\\Lib\\site-packages\\sklearn\\base.py:1473: DataConversionWarning: A column-vector y was passed when a 1d array was expected. Please change the shape of y to (n_samples,), for example using ravel().\n",
      "  return fit_method(estimator, *args, **kwargs)\n"
     ]
    },
    {
     "name": "stdout",
     "output_type": "stream",
     "text": [
      "[CV 2/5] END class_weight=None, max_depth=4, min_samples_leaf=10, min_samples_split=5, n_estimators=100;, score=0.993 total time=   1.1s\n"
     ]
    },
    {
     "name": "stderr",
     "output_type": "stream",
     "text": [
      "C:\\Users\\jb5983on\\AppData\\Local\\anaconda3\\envs\\polars\\Lib\\site-packages\\sklearn\\base.py:1473: DataConversionWarning: A column-vector y was passed when a 1d array was expected. Please change the shape of y to (n_samples,), for example using ravel().\n",
      "  return fit_method(estimator, *args, **kwargs)\n"
     ]
    },
    {
     "name": "stdout",
     "output_type": "stream",
     "text": [
      "[CV 3/5] END class_weight=None, max_depth=4, min_samples_leaf=10, min_samples_split=5, n_estimators=100;, score=0.993 total time=   1.1s\n"
     ]
    },
    {
     "name": "stderr",
     "output_type": "stream",
     "text": [
      "C:\\Users\\jb5983on\\AppData\\Local\\anaconda3\\envs\\polars\\Lib\\site-packages\\sklearn\\base.py:1473: DataConversionWarning: A column-vector y was passed when a 1d array was expected. Please change the shape of y to (n_samples,), for example using ravel().\n",
      "  return fit_method(estimator, *args, **kwargs)\n"
     ]
    },
    {
     "name": "stdout",
     "output_type": "stream",
     "text": [
      "[CV 4/5] END class_weight=None, max_depth=4, min_samples_leaf=10, min_samples_split=5, n_estimators=100;, score=0.993 total time=   1.1s\n"
     ]
    },
    {
     "name": "stderr",
     "output_type": "stream",
     "text": [
      "C:\\Users\\jb5983on\\AppData\\Local\\anaconda3\\envs\\polars\\Lib\\site-packages\\sklearn\\base.py:1473: DataConversionWarning: A column-vector y was passed when a 1d array was expected. Please change the shape of y to (n_samples,), for example using ravel().\n",
      "  return fit_method(estimator, *args, **kwargs)\n"
     ]
    },
    {
     "name": "stdout",
     "output_type": "stream",
     "text": [
      "[CV 5/5] END class_weight=None, max_depth=4, min_samples_leaf=10, min_samples_split=5, n_estimators=100;, score=0.993 total time=   1.1s\n",
      "[CV 1/5] END class_weight=None, max_depth=4, min_samples_leaf=10, min_samples_split=10, n_estimators=10;, score=0.993 total time=   0.1s\n"
     ]
    },
    {
     "name": "stderr",
     "output_type": "stream",
     "text": [
      "C:\\Users\\jb5983on\\AppData\\Local\\anaconda3\\envs\\polars\\Lib\\site-packages\\sklearn\\base.py:1473: DataConversionWarning: A column-vector y was passed when a 1d array was expected. Please change the shape of y to (n_samples,), for example using ravel().\n",
      "  return fit_method(estimator, *args, **kwargs)\n",
      "C:\\Users\\jb5983on\\AppData\\Local\\anaconda3\\envs\\polars\\Lib\\site-packages\\sklearn\\base.py:1473: DataConversionWarning: A column-vector y was passed when a 1d array was expected. Please change the shape of y to (n_samples,), for example using ravel().\n",
      "  return fit_method(estimator, *args, **kwargs)\n",
      "C:\\Users\\jb5983on\\AppData\\Local\\anaconda3\\envs\\polars\\Lib\\site-packages\\sklearn\\base.py:1473: DataConversionWarning: A column-vector y was passed when a 1d array was expected. Please change the shape of y to (n_samples,), for example using ravel().\n",
      "  return fit_method(estimator, *args, **kwargs)\n"
     ]
    },
    {
     "name": "stdout",
     "output_type": "stream",
     "text": [
      "[CV 2/5] END class_weight=None, max_depth=4, min_samples_leaf=10, min_samples_split=10, n_estimators=10;, score=0.993 total time=   0.1s\n",
      "[CV 3/5] END class_weight=None, max_depth=4, min_samples_leaf=10, min_samples_split=10, n_estimators=10;, score=0.993 total time=   0.1s\n"
     ]
    },
    {
     "name": "stderr",
     "output_type": "stream",
     "text": [
      "C:\\Users\\jb5983on\\AppData\\Local\\anaconda3\\envs\\polars\\Lib\\site-packages\\sklearn\\base.py:1473: DataConversionWarning: A column-vector y was passed when a 1d array was expected. Please change the shape of y to (n_samples,), for example using ravel().\n",
      "  return fit_method(estimator, *args, **kwargs)\n",
      "C:\\Users\\jb5983on\\AppData\\Local\\anaconda3\\envs\\polars\\Lib\\site-packages\\sklearn\\base.py:1473: DataConversionWarning: A column-vector y was passed when a 1d array was expected. Please change the shape of y to (n_samples,), for example using ravel().\n",
      "  return fit_method(estimator, *args, **kwargs)\n"
     ]
    },
    {
     "name": "stdout",
     "output_type": "stream",
     "text": [
      "[CV 4/5] END class_weight=None, max_depth=4, min_samples_leaf=10, min_samples_split=10, n_estimators=10;, score=0.993 total time=   0.1s\n",
      "[CV 5/5] END class_weight=None, max_depth=4, min_samples_leaf=10, min_samples_split=10, n_estimators=10;, score=0.993 total time=   0.1s\n"
     ]
    },
    {
     "name": "stderr",
     "output_type": "stream",
     "text": [
      "C:\\Users\\jb5983on\\AppData\\Local\\anaconda3\\envs\\polars\\Lib\\site-packages\\sklearn\\base.py:1473: DataConversionWarning: A column-vector y was passed when a 1d array was expected. Please change the shape of y to (n_samples,), for example using ravel().\n",
      "  return fit_method(estimator, *args, **kwargs)\n"
     ]
    },
    {
     "name": "stdout",
     "output_type": "stream",
     "text": [
      "[CV 1/5] END class_weight=None, max_depth=4, min_samples_leaf=10, min_samples_split=10, n_estimators=100;, score=0.993 total time=   1.1s\n"
     ]
    },
    {
     "name": "stderr",
     "output_type": "stream",
     "text": [
      "C:\\Users\\jb5983on\\AppData\\Local\\anaconda3\\envs\\polars\\Lib\\site-packages\\sklearn\\base.py:1473: DataConversionWarning: A column-vector y was passed when a 1d array was expected. Please change the shape of y to (n_samples,), for example using ravel().\n",
      "  return fit_method(estimator, *args, **kwargs)\n"
     ]
    },
    {
     "name": "stdout",
     "output_type": "stream",
     "text": [
      "[CV 2/5] END class_weight=None, max_depth=4, min_samples_leaf=10, min_samples_split=10, n_estimators=100;, score=0.993 total time=   1.2s\n"
     ]
    },
    {
     "name": "stderr",
     "output_type": "stream",
     "text": [
      "C:\\Users\\jb5983on\\AppData\\Local\\anaconda3\\envs\\polars\\Lib\\site-packages\\sklearn\\base.py:1473: DataConversionWarning: A column-vector y was passed when a 1d array was expected. Please change the shape of y to (n_samples,), for example using ravel().\n",
      "  return fit_method(estimator, *args, **kwargs)\n"
     ]
    },
    {
     "name": "stdout",
     "output_type": "stream",
     "text": [
      "[CV 3/5] END class_weight=None, max_depth=4, min_samples_leaf=10, min_samples_split=10, n_estimators=100;, score=0.993 total time=   1.2s\n"
     ]
    },
    {
     "name": "stderr",
     "output_type": "stream",
     "text": [
      "C:\\Users\\jb5983on\\AppData\\Local\\anaconda3\\envs\\polars\\Lib\\site-packages\\sklearn\\base.py:1473: DataConversionWarning: A column-vector y was passed when a 1d array was expected. Please change the shape of y to (n_samples,), for example using ravel().\n",
      "  return fit_method(estimator, *args, **kwargs)\n"
     ]
    },
    {
     "name": "stdout",
     "output_type": "stream",
     "text": [
      "[CV 4/5] END class_weight=None, max_depth=4, min_samples_leaf=10, min_samples_split=10, n_estimators=100;, score=0.993 total time=   1.0s\n"
     ]
    },
    {
     "name": "stderr",
     "output_type": "stream",
     "text": [
      "C:\\Users\\jb5983on\\AppData\\Local\\anaconda3\\envs\\polars\\Lib\\site-packages\\sklearn\\base.py:1473: DataConversionWarning: A column-vector y was passed when a 1d array was expected. Please change the shape of y to (n_samples,), for example using ravel().\n",
      "  return fit_method(estimator, *args, **kwargs)\n"
     ]
    },
    {
     "name": "stdout",
     "output_type": "stream",
     "text": [
      "[CV 5/5] END class_weight=None, max_depth=4, min_samples_leaf=10, min_samples_split=10, n_estimators=100;, score=0.993 total time=   0.8s\n",
      "[CV 1/5] END class_weight=None, max_depth=5, min_samples_leaf=1, min_samples_split=1, n_estimators=10;, score=nan total time=   0.0s\n",
      "[CV 2/5] END class_weight=None, max_depth=5, min_samples_leaf=1, min_samples_split=1, n_estimators=10;, score=nan total time=   0.0s\n",
      "[CV 3/5] END class_weight=None, max_depth=5, min_samples_leaf=1, min_samples_split=1, n_estimators=10;, score=nan total time=   0.0s\n",
      "[CV 4/5] END class_weight=None, max_depth=5, min_samples_leaf=1, min_samples_split=1, n_estimators=10;, score=nan total time=   0.0s\n",
      "[CV 5/5] END class_weight=None, max_depth=5, min_samples_leaf=1, min_samples_split=1, n_estimators=10;, score=nan total time=   0.0s\n",
      "[CV 1/5] END class_weight=None, max_depth=5, min_samples_leaf=1, min_samples_split=1, n_estimators=100;, score=nan total time=   0.0s\n",
      "[CV 2/5] END class_weight=None, max_depth=5, min_samples_leaf=1, min_samples_split=1, n_estimators=100;, score=nan total time=   0.0s\n",
      "[CV 3/5] END class_weight=None, max_depth=5, min_samples_leaf=1, min_samples_split=1, n_estimators=100;, score=nan total time=   0.0s\n",
      "[CV 4/5] END class_weight=None, max_depth=5, min_samples_leaf=1, min_samples_split=1, n_estimators=100;, score=nan total time=   0.0s\n",
      "[CV 5/5] END class_weight=None, max_depth=5, min_samples_leaf=1, min_samples_split=1, n_estimators=100;, score=nan total time=   0.0s\n"
     ]
    },
    {
     "name": "stderr",
     "output_type": "stream",
     "text": [
      "C:\\Users\\jb5983on\\AppData\\Local\\anaconda3\\envs\\polars\\Lib\\site-packages\\sklearn\\base.py:1473: DataConversionWarning: A column-vector y was passed when a 1d array was expected. Please change the shape of y to (n_samples,), for example using ravel().\n",
      "  return fit_method(estimator, *args, **kwargs)\n",
      "C:\\Users\\jb5983on\\AppData\\Local\\anaconda3\\envs\\polars\\Lib\\site-packages\\sklearn\\base.py:1473: DataConversionWarning: A column-vector y was passed when a 1d array was expected. Please change the shape of y to (n_samples,), for example using ravel().\n",
      "  return fit_method(estimator, *args, **kwargs)\n"
     ]
    },
    {
     "name": "stdout",
     "output_type": "stream",
     "text": [
      "[CV 1/5] END class_weight=None, max_depth=5, min_samples_leaf=1, min_samples_split=5, n_estimators=10;, score=0.993 total time=   0.1s\n",
      "[CV 2/5] END class_weight=None, max_depth=5, min_samples_leaf=1, min_samples_split=5, n_estimators=10;, score=0.993 total time=   0.1s\n"
     ]
    },
    {
     "name": "stderr",
     "output_type": "stream",
     "text": [
      "C:\\Users\\jb5983on\\AppData\\Local\\anaconda3\\envs\\polars\\Lib\\site-packages\\sklearn\\base.py:1473: DataConversionWarning: A column-vector y was passed when a 1d array was expected. Please change the shape of y to (n_samples,), for example using ravel().\n",
      "  return fit_method(estimator, *args, **kwargs)\n",
      "C:\\Users\\jb5983on\\AppData\\Local\\anaconda3\\envs\\polars\\Lib\\site-packages\\sklearn\\base.py:1473: DataConversionWarning: A column-vector y was passed when a 1d array was expected. Please change the shape of y to (n_samples,), for example using ravel().\n",
      "  return fit_method(estimator, *args, **kwargs)\n"
     ]
    },
    {
     "name": "stdout",
     "output_type": "stream",
     "text": [
      "[CV 3/5] END class_weight=None, max_depth=5, min_samples_leaf=1, min_samples_split=5, n_estimators=10;, score=0.993 total time=   0.1s\n",
      "[CV 4/5] END class_weight=None, max_depth=5, min_samples_leaf=1, min_samples_split=5, n_estimators=10;, score=0.993 total time=   0.1s\n"
     ]
    },
    {
     "name": "stderr",
     "output_type": "stream",
     "text": [
      "C:\\Users\\jb5983on\\AppData\\Local\\anaconda3\\envs\\polars\\Lib\\site-packages\\sklearn\\base.py:1473: DataConversionWarning: A column-vector y was passed when a 1d array was expected. Please change the shape of y to (n_samples,), for example using ravel().\n",
      "  return fit_method(estimator, *args, **kwargs)\n",
      "C:\\Users\\jb5983on\\AppData\\Local\\anaconda3\\envs\\polars\\Lib\\site-packages\\sklearn\\base.py:1473: DataConversionWarning: A column-vector y was passed when a 1d array was expected. Please change the shape of y to (n_samples,), for example using ravel().\n",
      "  return fit_method(estimator, *args, **kwargs)\n"
     ]
    },
    {
     "name": "stdout",
     "output_type": "stream",
     "text": [
      "[CV 5/5] END class_weight=None, max_depth=5, min_samples_leaf=1, min_samples_split=5, n_estimators=10;, score=0.993 total time=   0.1s\n",
      "[CV 1/5] END class_weight=None, max_depth=5, min_samples_leaf=1, min_samples_split=5, n_estimators=100;, score=0.993 total time=   0.8s\n"
     ]
    },
    {
     "name": "stderr",
     "output_type": "stream",
     "text": [
      "C:\\Users\\jb5983on\\AppData\\Local\\anaconda3\\envs\\polars\\Lib\\site-packages\\sklearn\\base.py:1473: DataConversionWarning: A column-vector y was passed when a 1d array was expected. Please change the shape of y to (n_samples,), for example using ravel().\n",
      "  return fit_method(estimator, *args, **kwargs)\n"
     ]
    },
    {
     "name": "stdout",
     "output_type": "stream",
     "text": [
      "[CV 2/5] END class_weight=None, max_depth=5, min_samples_leaf=1, min_samples_split=5, n_estimators=100;, score=0.993 total time=   1.2s\n"
     ]
    },
    {
     "name": "stderr",
     "output_type": "stream",
     "text": [
      "C:\\Users\\jb5983on\\AppData\\Local\\anaconda3\\envs\\polars\\Lib\\site-packages\\sklearn\\base.py:1473: DataConversionWarning: A column-vector y was passed when a 1d array was expected. Please change the shape of y to (n_samples,), for example using ravel().\n",
      "  return fit_method(estimator, *args, **kwargs)\n"
     ]
    },
    {
     "name": "stdout",
     "output_type": "stream",
     "text": [
      "[CV 3/5] END class_weight=None, max_depth=5, min_samples_leaf=1, min_samples_split=5, n_estimators=100;, score=0.993 total time=   1.3s\n"
     ]
    },
    {
     "name": "stderr",
     "output_type": "stream",
     "text": [
      "C:\\Users\\jb5983on\\AppData\\Local\\anaconda3\\envs\\polars\\Lib\\site-packages\\sklearn\\base.py:1473: DataConversionWarning: A column-vector y was passed when a 1d array was expected. Please change the shape of y to (n_samples,), for example using ravel().\n",
      "  return fit_method(estimator, *args, **kwargs)\n"
     ]
    },
    {
     "name": "stdout",
     "output_type": "stream",
     "text": [
      "[CV 4/5] END class_weight=None, max_depth=5, min_samples_leaf=1, min_samples_split=5, n_estimators=100;, score=0.993 total time=   1.2s\n"
     ]
    },
    {
     "name": "stderr",
     "output_type": "stream",
     "text": [
      "C:\\Users\\jb5983on\\AppData\\Local\\anaconda3\\envs\\polars\\Lib\\site-packages\\sklearn\\base.py:1473: DataConversionWarning: A column-vector y was passed when a 1d array was expected. Please change the shape of y to (n_samples,), for example using ravel().\n",
      "  return fit_method(estimator, *args, **kwargs)\n"
     ]
    },
    {
     "name": "stdout",
     "output_type": "stream",
     "text": [
      "[CV 5/5] END class_weight=None, max_depth=5, min_samples_leaf=1, min_samples_split=5, n_estimators=100;, score=0.993 total time=   1.4s\n"
     ]
    },
    {
     "name": "stderr",
     "output_type": "stream",
     "text": [
      "C:\\Users\\jb5983on\\AppData\\Local\\anaconda3\\envs\\polars\\Lib\\site-packages\\sklearn\\base.py:1473: DataConversionWarning: A column-vector y was passed when a 1d array was expected. Please change the shape of y to (n_samples,), for example using ravel().\n",
      "  return fit_method(estimator, *args, **kwargs)\n"
     ]
    },
    {
     "name": "stdout",
     "output_type": "stream",
     "text": [
      "[CV 1/5] END class_weight=None, max_depth=5, min_samples_leaf=1, min_samples_split=10, n_estimators=10;, score=0.993 total time=   0.1s\n"
     ]
    },
    {
     "name": "stderr",
     "output_type": "stream",
     "text": [
      "C:\\Users\\jb5983on\\AppData\\Local\\anaconda3\\envs\\polars\\Lib\\site-packages\\sklearn\\base.py:1473: DataConversionWarning: A column-vector y was passed when a 1d array was expected. Please change the shape of y to (n_samples,), for example using ravel().\n",
      "  return fit_method(estimator, *args, **kwargs)\n"
     ]
    },
    {
     "name": "stdout",
     "output_type": "stream",
     "text": [
      "[CV 2/5] END class_weight=None, max_depth=5, min_samples_leaf=1, min_samples_split=10, n_estimators=10;, score=0.993 total time=   0.2s\n"
     ]
    },
    {
     "name": "stderr",
     "output_type": "stream",
     "text": [
      "C:\\Users\\jb5983on\\AppData\\Local\\anaconda3\\envs\\polars\\Lib\\site-packages\\sklearn\\base.py:1473: DataConversionWarning: A column-vector y was passed when a 1d array was expected. Please change the shape of y to (n_samples,), for example using ravel().\n",
      "  return fit_method(estimator, *args, **kwargs)\n"
     ]
    },
    {
     "name": "stdout",
     "output_type": "stream",
     "text": [
      "[CV 3/5] END class_weight=None, max_depth=5, min_samples_leaf=1, min_samples_split=10, n_estimators=10;, score=0.993 total time=   0.2s\n"
     ]
    },
    {
     "name": "stderr",
     "output_type": "stream",
     "text": [
      "C:\\Users\\jb5983on\\AppData\\Local\\anaconda3\\envs\\polars\\Lib\\site-packages\\sklearn\\base.py:1473: DataConversionWarning: A column-vector y was passed when a 1d array was expected. Please change the shape of y to (n_samples,), for example using ravel().\n",
      "  return fit_method(estimator, *args, **kwargs)\n"
     ]
    },
    {
     "name": "stdout",
     "output_type": "stream",
     "text": [
      "[CV 4/5] END class_weight=None, max_depth=5, min_samples_leaf=1, min_samples_split=10, n_estimators=10;, score=0.993 total time=   0.2s\n"
     ]
    },
    {
     "name": "stderr",
     "output_type": "stream",
     "text": [
      "C:\\Users\\jb5983on\\AppData\\Local\\anaconda3\\envs\\polars\\Lib\\site-packages\\sklearn\\base.py:1473: DataConversionWarning: A column-vector y was passed when a 1d array was expected. Please change the shape of y to (n_samples,), for example using ravel().\n",
      "  return fit_method(estimator, *args, **kwargs)\n"
     ]
    },
    {
     "name": "stdout",
     "output_type": "stream",
     "text": [
      "[CV 5/5] END class_weight=None, max_depth=5, min_samples_leaf=1, min_samples_split=10, n_estimators=10;, score=0.993 total time=   0.1s\n"
     ]
    },
    {
     "name": "stderr",
     "output_type": "stream",
     "text": [
      "C:\\Users\\jb5983on\\AppData\\Local\\anaconda3\\envs\\polars\\Lib\\site-packages\\sklearn\\base.py:1473: DataConversionWarning: A column-vector y was passed when a 1d array was expected. Please change the shape of y to (n_samples,), for example using ravel().\n",
      "  return fit_method(estimator, *args, **kwargs)\n"
     ]
    },
    {
     "name": "stdout",
     "output_type": "stream",
     "text": [
      "[CV 1/5] END class_weight=None, max_depth=5, min_samples_leaf=1, min_samples_split=10, n_estimators=100;, score=0.993 total time=   1.5s\n"
     ]
    },
    {
     "name": "stderr",
     "output_type": "stream",
     "text": [
      "C:\\Users\\jb5983on\\AppData\\Local\\anaconda3\\envs\\polars\\Lib\\site-packages\\sklearn\\base.py:1473: DataConversionWarning: A column-vector y was passed when a 1d array was expected. Please change the shape of y to (n_samples,), for example using ravel().\n",
      "  return fit_method(estimator, *args, **kwargs)\n"
     ]
    },
    {
     "name": "stdout",
     "output_type": "stream",
     "text": [
      "[CV 2/5] END class_weight=None, max_depth=5, min_samples_leaf=1, min_samples_split=10, n_estimators=100;, score=0.993 total time=   1.4s\n"
     ]
    },
    {
     "name": "stderr",
     "output_type": "stream",
     "text": [
      "C:\\Users\\jb5983on\\AppData\\Local\\anaconda3\\envs\\polars\\Lib\\site-packages\\sklearn\\base.py:1473: DataConversionWarning: A column-vector y was passed when a 1d array was expected. Please change the shape of y to (n_samples,), for example using ravel().\n",
      "  return fit_method(estimator, *args, **kwargs)\n"
     ]
    },
    {
     "name": "stdout",
     "output_type": "stream",
     "text": [
      "[CV 3/5] END class_weight=None, max_depth=5, min_samples_leaf=1, min_samples_split=10, n_estimators=100;, score=0.993 total time=   1.5s\n"
     ]
    },
    {
     "name": "stderr",
     "output_type": "stream",
     "text": [
      "C:\\Users\\jb5983on\\AppData\\Local\\anaconda3\\envs\\polars\\Lib\\site-packages\\sklearn\\base.py:1473: DataConversionWarning: A column-vector y was passed when a 1d array was expected. Please change the shape of y to (n_samples,), for example using ravel().\n",
      "  return fit_method(estimator, *args, **kwargs)\n"
     ]
    },
    {
     "name": "stdout",
     "output_type": "stream",
     "text": [
      "[CV 4/5] END class_weight=None, max_depth=5, min_samples_leaf=1, min_samples_split=10, n_estimators=100;, score=0.993 total time=   1.3s\n"
     ]
    },
    {
     "name": "stderr",
     "output_type": "stream",
     "text": [
      "C:\\Users\\jb5983on\\AppData\\Local\\anaconda3\\envs\\polars\\Lib\\site-packages\\sklearn\\base.py:1473: DataConversionWarning: A column-vector y was passed when a 1d array was expected. Please change the shape of y to (n_samples,), for example using ravel().\n",
      "  return fit_method(estimator, *args, **kwargs)\n"
     ]
    },
    {
     "name": "stdout",
     "output_type": "stream",
     "text": [
      "[CV 5/5] END class_weight=None, max_depth=5, min_samples_leaf=1, min_samples_split=10, n_estimators=100;, score=0.993 total time=   1.2s\n",
      "[CV 1/5] END class_weight=None, max_depth=5, min_samples_leaf=5, min_samples_split=1, n_estimators=10;, score=nan total time=   0.0s\n",
      "[CV 2/5] END class_weight=None, max_depth=5, min_samples_leaf=5, min_samples_split=1, n_estimators=10;, score=nan total time=   0.0s\n",
      "[CV 3/5] END class_weight=None, max_depth=5, min_samples_leaf=5, min_samples_split=1, n_estimators=10;, score=nan total time=   0.0s\n",
      "[CV 4/5] END class_weight=None, max_depth=5, min_samples_leaf=5, min_samples_split=1, n_estimators=10;, score=nan total time=   0.0s\n",
      "[CV 5/5] END class_weight=None, max_depth=5, min_samples_leaf=5, min_samples_split=1, n_estimators=10;, score=nan total time=   0.0s\n",
      "[CV 1/5] END class_weight=None, max_depth=5, min_samples_leaf=5, min_samples_split=1, n_estimators=100;, score=nan total time=   0.0s\n",
      "[CV 2/5] END class_weight=None, max_depth=5, min_samples_leaf=5, min_samples_split=1, n_estimators=100;, score=nan total time=   0.0s\n",
      "[CV 3/5] END class_weight=None, max_depth=5, min_samples_leaf=5, min_samples_split=1, n_estimators=100;, score=nan total time=   0.0s\n",
      "[CV 4/5] END class_weight=None, max_depth=5, min_samples_leaf=5, min_samples_split=1, n_estimators=100;, score=nan total time=   0.0s\n",
      "[CV 5/5] END class_weight=None, max_depth=5, min_samples_leaf=5, min_samples_split=1, n_estimators=100;, score=nan total time=   0.0s\n"
     ]
    },
    {
     "name": "stderr",
     "output_type": "stream",
     "text": [
      "C:\\Users\\jb5983on\\AppData\\Local\\anaconda3\\envs\\polars\\Lib\\site-packages\\sklearn\\base.py:1473: DataConversionWarning: A column-vector y was passed when a 1d array was expected. Please change the shape of y to (n_samples,), for example using ravel().\n",
      "  return fit_method(estimator, *args, **kwargs)\n"
     ]
    },
    {
     "name": "stdout",
     "output_type": "stream",
     "text": [
      "[CV 1/5] END class_weight=None, max_depth=5, min_samples_leaf=5, min_samples_split=5, n_estimators=10;, score=0.993 total time=   0.2s\n",
      "[CV 2/5] END class_weight=None, max_depth=5, min_samples_leaf=5, min_samples_split=5, n_estimators=10;, score=0.993 total time=   0.1s\n"
     ]
    },
    {
     "name": "stderr",
     "output_type": "stream",
     "text": [
      "C:\\Users\\jb5983on\\AppData\\Local\\anaconda3\\envs\\polars\\Lib\\site-packages\\sklearn\\base.py:1473: DataConversionWarning: A column-vector y was passed when a 1d array was expected. Please change the shape of y to (n_samples,), for example using ravel().\n",
      "  return fit_method(estimator, *args, **kwargs)\n",
      "C:\\Users\\jb5983on\\AppData\\Local\\anaconda3\\envs\\polars\\Lib\\site-packages\\sklearn\\base.py:1473: DataConversionWarning: A column-vector y was passed when a 1d array was expected. Please change the shape of y to (n_samples,), for example using ravel().\n",
      "  return fit_method(estimator, *args, **kwargs)\n"
     ]
    },
    {
     "name": "stdout",
     "output_type": "stream",
     "text": [
      "[CV 3/5] END class_weight=None, max_depth=5, min_samples_leaf=5, min_samples_split=5, n_estimators=10;, score=0.993 total time=   0.1s\n"
     ]
    },
    {
     "name": "stderr",
     "output_type": "stream",
     "text": [
      "C:\\Users\\jb5983on\\AppData\\Local\\anaconda3\\envs\\polars\\Lib\\site-packages\\sklearn\\base.py:1473: DataConversionWarning: A column-vector y was passed when a 1d array was expected. Please change the shape of y to (n_samples,), for example using ravel().\n",
      "  return fit_method(estimator, *args, **kwargs)\n"
     ]
    },
    {
     "name": "stdout",
     "output_type": "stream",
     "text": [
      "[CV 4/5] END class_weight=None, max_depth=5, min_samples_leaf=5, min_samples_split=5, n_estimators=10;, score=0.993 total time=   0.1s\n",
      "[CV 5/5] END class_weight=None, max_depth=5, min_samples_leaf=5, min_samples_split=5, n_estimators=10;, score=0.993 total time=   0.1s\n"
     ]
    },
    {
     "name": "stderr",
     "output_type": "stream",
     "text": [
      "C:\\Users\\jb5983on\\AppData\\Local\\anaconda3\\envs\\polars\\Lib\\site-packages\\sklearn\\base.py:1473: DataConversionWarning: A column-vector y was passed when a 1d array was expected. Please change the shape of y to (n_samples,), for example using ravel().\n",
      "  return fit_method(estimator, *args, **kwargs)\n",
      "C:\\Users\\jb5983on\\AppData\\Local\\anaconda3\\envs\\polars\\Lib\\site-packages\\sklearn\\base.py:1473: DataConversionWarning: A column-vector y was passed when a 1d array was expected. Please change the shape of y to (n_samples,), for example using ravel().\n",
      "  return fit_method(estimator, *args, **kwargs)\n"
     ]
    },
    {
     "name": "stdout",
     "output_type": "stream",
     "text": [
      "[CV 1/5] END class_weight=None, max_depth=5, min_samples_leaf=5, min_samples_split=5, n_estimators=100;, score=0.993 total time=   1.2s\n"
     ]
    },
    {
     "name": "stderr",
     "output_type": "stream",
     "text": [
      "C:\\Users\\jb5983on\\AppData\\Local\\anaconda3\\envs\\polars\\Lib\\site-packages\\sklearn\\base.py:1473: DataConversionWarning: A column-vector y was passed when a 1d array was expected. Please change the shape of y to (n_samples,), for example using ravel().\n",
      "  return fit_method(estimator, *args, **kwargs)\n"
     ]
    },
    {
     "name": "stdout",
     "output_type": "stream",
     "text": [
      "[CV 2/5] END class_weight=None, max_depth=5, min_samples_leaf=5, min_samples_split=5, n_estimators=100;, score=0.993 total time=   1.2s\n"
     ]
    },
    {
     "name": "stderr",
     "output_type": "stream",
     "text": [
      "C:\\Users\\jb5983on\\AppData\\Local\\anaconda3\\envs\\polars\\Lib\\site-packages\\sklearn\\base.py:1473: DataConversionWarning: A column-vector y was passed when a 1d array was expected. Please change the shape of y to (n_samples,), for example using ravel().\n",
      "  return fit_method(estimator, *args, **kwargs)\n"
     ]
    },
    {
     "name": "stdout",
     "output_type": "stream",
     "text": [
      "[CV 3/5] END class_weight=None, max_depth=5, min_samples_leaf=5, min_samples_split=5, n_estimators=100;, score=0.993 total time=   1.3s\n"
     ]
    },
    {
     "name": "stderr",
     "output_type": "stream",
     "text": [
      "C:\\Users\\jb5983on\\AppData\\Local\\anaconda3\\envs\\polars\\Lib\\site-packages\\sklearn\\base.py:1473: DataConversionWarning: A column-vector y was passed when a 1d array was expected. Please change the shape of y to (n_samples,), for example using ravel().\n",
      "  return fit_method(estimator, *args, **kwargs)\n"
     ]
    },
    {
     "name": "stdout",
     "output_type": "stream",
     "text": [
      "[CV 4/5] END class_weight=None, max_depth=5, min_samples_leaf=5, min_samples_split=5, n_estimators=100;, score=0.993 total time=   1.2s\n"
     ]
    },
    {
     "name": "stderr",
     "output_type": "stream",
     "text": [
      "C:\\Users\\jb5983on\\AppData\\Local\\anaconda3\\envs\\polars\\Lib\\site-packages\\sklearn\\base.py:1473: DataConversionWarning: A column-vector y was passed when a 1d array was expected. Please change the shape of y to (n_samples,), for example using ravel().\n",
      "  return fit_method(estimator, *args, **kwargs)\n"
     ]
    },
    {
     "name": "stdout",
     "output_type": "stream",
     "text": [
      "[CV 5/5] END class_weight=None, max_depth=5, min_samples_leaf=5, min_samples_split=5, n_estimators=100;, score=0.993 total time=   1.3s\n",
      "[CV 1/5] END class_weight=None, max_depth=5, min_samples_leaf=5, min_samples_split=10, n_estimators=10;, score=0.993 total time=   0.1s\n"
     ]
    },
    {
     "name": "stderr",
     "output_type": "stream",
     "text": [
      "C:\\Users\\jb5983on\\AppData\\Local\\anaconda3\\envs\\polars\\Lib\\site-packages\\sklearn\\base.py:1473: DataConversionWarning: A column-vector y was passed when a 1d array was expected. Please change the shape of y to (n_samples,), for example using ravel().\n",
      "  return fit_method(estimator, *args, **kwargs)\n",
      "C:\\Users\\jb5983on\\AppData\\Local\\anaconda3\\envs\\polars\\Lib\\site-packages\\sklearn\\base.py:1473: DataConversionWarning: A column-vector y was passed when a 1d array was expected. Please change the shape of y to (n_samples,), for example using ravel().\n",
      "  return fit_method(estimator, *args, **kwargs)\n"
     ]
    },
    {
     "name": "stdout",
     "output_type": "stream",
     "text": [
      "[CV 2/5] END class_weight=None, max_depth=5, min_samples_leaf=5, min_samples_split=10, n_estimators=10;, score=0.993 total time=   0.1s\n",
      "[CV 3/5] END class_weight=None, max_depth=5, min_samples_leaf=5, min_samples_split=10, n_estimators=10;, score=0.993 total time=   0.1s\n"
     ]
    },
    {
     "name": "stderr",
     "output_type": "stream",
     "text": [
      "C:\\Users\\jb5983on\\AppData\\Local\\anaconda3\\envs\\polars\\Lib\\site-packages\\sklearn\\base.py:1473: DataConversionWarning: A column-vector y was passed when a 1d array was expected. Please change the shape of y to (n_samples,), for example using ravel().\n",
      "  return fit_method(estimator, *args, **kwargs)\n",
      "C:\\Users\\jb5983on\\AppData\\Local\\anaconda3\\envs\\polars\\Lib\\site-packages\\sklearn\\base.py:1473: DataConversionWarning: A column-vector y was passed when a 1d array was expected. Please change the shape of y to (n_samples,), for example using ravel().\n",
      "  return fit_method(estimator, *args, **kwargs)\n",
      "C:\\Users\\jb5983on\\AppData\\Local\\anaconda3\\envs\\polars\\Lib\\site-packages\\sklearn\\base.py:1473: DataConversionWarning: A column-vector y was passed when a 1d array was expected. Please change the shape of y to (n_samples,), for example using ravel().\n",
      "  return fit_method(estimator, *args, **kwargs)\n"
     ]
    },
    {
     "name": "stdout",
     "output_type": "stream",
     "text": [
      "[CV 4/5] END class_weight=None, max_depth=5, min_samples_leaf=5, min_samples_split=10, n_estimators=10;, score=0.993 total time=   0.1s\n",
      "[CV 5/5] END class_weight=None, max_depth=5, min_samples_leaf=5, min_samples_split=10, n_estimators=10;, score=0.993 total time=   0.1s\n"
     ]
    },
    {
     "name": "stderr",
     "output_type": "stream",
     "text": [
      "C:\\Users\\jb5983on\\AppData\\Local\\anaconda3\\envs\\polars\\Lib\\site-packages\\sklearn\\base.py:1473: DataConversionWarning: A column-vector y was passed when a 1d array was expected. Please change the shape of y to (n_samples,), for example using ravel().\n",
      "  return fit_method(estimator, *args, **kwargs)\n"
     ]
    },
    {
     "name": "stdout",
     "output_type": "stream",
     "text": [
      "[CV 1/5] END class_weight=None, max_depth=5, min_samples_leaf=5, min_samples_split=10, n_estimators=100;, score=0.993 total time=   1.1s\n"
     ]
    },
    {
     "name": "stderr",
     "output_type": "stream",
     "text": [
      "C:\\Users\\jb5983on\\AppData\\Local\\anaconda3\\envs\\polars\\Lib\\site-packages\\sklearn\\base.py:1473: DataConversionWarning: A column-vector y was passed when a 1d array was expected. Please change the shape of y to (n_samples,), for example using ravel().\n",
      "  return fit_method(estimator, *args, **kwargs)\n"
     ]
    },
    {
     "name": "stdout",
     "output_type": "stream",
     "text": [
      "[CV 2/5] END class_weight=None, max_depth=5, min_samples_leaf=5, min_samples_split=10, n_estimators=100;, score=0.993 total time=   1.3s\n"
     ]
    },
    {
     "name": "stderr",
     "output_type": "stream",
     "text": [
      "C:\\Users\\jb5983on\\AppData\\Local\\anaconda3\\envs\\polars\\Lib\\site-packages\\sklearn\\base.py:1473: DataConversionWarning: A column-vector y was passed when a 1d array was expected. Please change the shape of y to (n_samples,), for example using ravel().\n",
      "  return fit_method(estimator, *args, **kwargs)\n"
     ]
    },
    {
     "name": "stdout",
     "output_type": "stream",
     "text": [
      "[CV 3/5] END class_weight=None, max_depth=5, min_samples_leaf=5, min_samples_split=10, n_estimators=100;, score=0.993 total time=   1.3s\n"
     ]
    },
    {
     "name": "stderr",
     "output_type": "stream",
     "text": [
      "C:\\Users\\jb5983on\\AppData\\Local\\anaconda3\\envs\\polars\\Lib\\site-packages\\sklearn\\base.py:1473: DataConversionWarning: A column-vector y was passed when a 1d array was expected. Please change the shape of y to (n_samples,), for example using ravel().\n",
      "  return fit_method(estimator, *args, **kwargs)\n"
     ]
    },
    {
     "name": "stdout",
     "output_type": "stream",
     "text": [
      "[CV 4/5] END class_weight=None, max_depth=5, min_samples_leaf=5, min_samples_split=10, n_estimators=100;, score=0.993 total time=   1.2s\n"
     ]
    },
    {
     "name": "stderr",
     "output_type": "stream",
     "text": [
      "C:\\Users\\jb5983on\\AppData\\Local\\anaconda3\\envs\\polars\\Lib\\site-packages\\sklearn\\base.py:1473: DataConversionWarning: A column-vector y was passed when a 1d array was expected. Please change the shape of y to (n_samples,), for example using ravel().\n",
      "  return fit_method(estimator, *args, **kwargs)\n"
     ]
    },
    {
     "name": "stdout",
     "output_type": "stream",
     "text": [
      "[CV 5/5] END class_weight=None, max_depth=5, min_samples_leaf=5, min_samples_split=10, n_estimators=100;, score=0.993 total time=   1.1s\n",
      "[CV 1/5] END class_weight=None, max_depth=5, min_samples_leaf=10, min_samples_split=1, n_estimators=10;, score=nan total time=   0.0s\n",
      "[CV 2/5] END class_weight=None, max_depth=5, min_samples_leaf=10, min_samples_split=1, n_estimators=10;, score=nan total time=   0.0s\n",
      "[CV 3/5] END class_weight=None, max_depth=5, min_samples_leaf=10, min_samples_split=1, n_estimators=10;, score=nan total time=   0.0s\n",
      "[CV 4/5] END class_weight=None, max_depth=5, min_samples_leaf=10, min_samples_split=1, n_estimators=10;, score=nan total time=   0.0s\n",
      "[CV 5/5] END class_weight=None, max_depth=5, min_samples_leaf=10, min_samples_split=1, n_estimators=10;, score=nan total time=   0.0s\n",
      "[CV 1/5] END class_weight=None, max_depth=5, min_samples_leaf=10, min_samples_split=1, n_estimators=100;, score=nan total time=   0.0s\n",
      "[CV 2/5] END class_weight=None, max_depth=5, min_samples_leaf=10, min_samples_split=1, n_estimators=100;, score=nan total time=   0.0s\n",
      "[CV 3/5] END class_weight=None, max_depth=5, min_samples_leaf=10, min_samples_split=1, n_estimators=100;, score=nan total time=   0.0s\n",
      "[CV 4/5] END class_weight=None, max_depth=5, min_samples_leaf=10, min_samples_split=1, n_estimators=100;, score=nan total time=   0.0s\n",
      "[CV 5/5] END class_weight=None, max_depth=5, min_samples_leaf=10, min_samples_split=1, n_estimators=100;, score=nan total time=   0.0s\n"
     ]
    },
    {
     "name": "stderr",
     "output_type": "stream",
     "text": [
      "C:\\Users\\jb5983on\\AppData\\Local\\anaconda3\\envs\\polars\\Lib\\site-packages\\sklearn\\base.py:1473: DataConversionWarning: A column-vector y was passed when a 1d array was expected. Please change the shape of y to (n_samples,), for example using ravel().\n",
      "  return fit_method(estimator, *args, **kwargs)\n"
     ]
    },
    {
     "name": "stdout",
     "output_type": "stream",
     "text": [
      "[CV 1/5] END class_weight=None, max_depth=5, min_samples_leaf=10, min_samples_split=5, n_estimators=10;, score=0.993 total time=   0.1s\n",
      "[CV 2/5] END class_weight=None, max_depth=5, min_samples_leaf=10, min_samples_split=5, n_estimators=10;, score=0.993 total time=   0.1s\n"
     ]
    },
    {
     "name": "stderr",
     "output_type": "stream",
     "text": [
      "C:\\Users\\jb5983on\\AppData\\Local\\anaconda3\\envs\\polars\\Lib\\site-packages\\sklearn\\base.py:1473: DataConversionWarning: A column-vector y was passed when a 1d array was expected. Please change the shape of y to (n_samples,), for example using ravel().\n",
      "  return fit_method(estimator, *args, **kwargs)\n",
      "C:\\Users\\jb5983on\\AppData\\Local\\anaconda3\\envs\\polars\\Lib\\site-packages\\sklearn\\base.py:1473: DataConversionWarning: A column-vector y was passed when a 1d array was expected. Please change the shape of y to (n_samples,), for example using ravel().\n",
      "  return fit_method(estimator, *args, **kwargs)\n"
     ]
    },
    {
     "name": "stdout",
     "output_type": "stream",
     "text": [
      "[CV 3/5] END class_weight=None, max_depth=5, min_samples_leaf=10, min_samples_split=5, n_estimators=10;, score=0.993 total time=   0.1s\n",
      "[CV 4/5] END class_weight=None, max_depth=5, min_samples_leaf=10, min_samples_split=5, n_estimators=10;, score=0.993 total time=   0.1s\n"
     ]
    },
    {
     "name": "stderr",
     "output_type": "stream",
     "text": [
      "C:\\Users\\jb5983on\\AppData\\Local\\anaconda3\\envs\\polars\\Lib\\site-packages\\sklearn\\base.py:1473: DataConversionWarning: A column-vector y was passed when a 1d array was expected. Please change the shape of y to (n_samples,), for example using ravel().\n",
      "  return fit_method(estimator, *args, **kwargs)\n",
      "C:\\Users\\jb5983on\\AppData\\Local\\anaconda3\\envs\\polars\\Lib\\site-packages\\sklearn\\base.py:1473: DataConversionWarning: A column-vector y was passed when a 1d array was expected. Please change the shape of y to (n_samples,), for example using ravel().\n",
      "  return fit_method(estimator, *args, **kwargs)\n"
     ]
    },
    {
     "name": "stdout",
     "output_type": "stream",
     "text": [
      "[CV 5/5] END class_weight=None, max_depth=5, min_samples_leaf=10, min_samples_split=5, n_estimators=10;, score=0.993 total time=   0.1s\n"
     ]
    },
    {
     "name": "stderr",
     "output_type": "stream",
     "text": [
      "C:\\Users\\jb5983on\\AppData\\Local\\anaconda3\\envs\\polars\\Lib\\site-packages\\sklearn\\base.py:1473: DataConversionWarning: A column-vector y was passed when a 1d array was expected. Please change the shape of y to (n_samples,), for example using ravel().\n",
      "  return fit_method(estimator, *args, **kwargs)\n"
     ]
    },
    {
     "name": "stdout",
     "output_type": "stream",
     "text": [
      "[CV 1/5] END class_weight=None, max_depth=5, min_samples_leaf=10, min_samples_split=5, n_estimators=100;, score=0.993 total time=   1.3s\n"
     ]
    },
    {
     "name": "stderr",
     "output_type": "stream",
     "text": [
      "C:\\Users\\jb5983on\\AppData\\Local\\anaconda3\\envs\\polars\\Lib\\site-packages\\sklearn\\base.py:1473: DataConversionWarning: A column-vector y was passed when a 1d array was expected. Please change the shape of y to (n_samples,), for example using ravel().\n",
      "  return fit_method(estimator, *args, **kwargs)\n"
     ]
    },
    {
     "name": "stdout",
     "output_type": "stream",
     "text": [
      "[CV 2/5] END class_weight=None, max_depth=5, min_samples_leaf=10, min_samples_split=5, n_estimators=100;, score=0.993 total time=   1.1s\n"
     ]
    },
    {
     "name": "stderr",
     "output_type": "stream",
     "text": [
      "C:\\Users\\jb5983on\\AppData\\Local\\anaconda3\\envs\\polars\\Lib\\site-packages\\sklearn\\base.py:1473: DataConversionWarning: A column-vector y was passed when a 1d array was expected. Please change the shape of y to (n_samples,), for example using ravel().\n",
      "  return fit_method(estimator, *args, **kwargs)\n"
     ]
    },
    {
     "name": "stdout",
     "output_type": "stream",
     "text": [
      "[CV 3/5] END class_weight=None, max_depth=5, min_samples_leaf=10, min_samples_split=5, n_estimators=100;, score=0.993 total time=   1.2s\n"
     ]
    },
    {
     "name": "stderr",
     "output_type": "stream",
     "text": [
      "C:\\Users\\jb5983on\\AppData\\Local\\anaconda3\\envs\\polars\\Lib\\site-packages\\sklearn\\base.py:1473: DataConversionWarning: A column-vector y was passed when a 1d array was expected. Please change the shape of y to (n_samples,), for example using ravel().\n",
      "  return fit_method(estimator, *args, **kwargs)\n"
     ]
    },
    {
     "name": "stdout",
     "output_type": "stream",
     "text": [
      "[CV 4/5] END class_weight=None, max_depth=5, min_samples_leaf=10, min_samples_split=5, n_estimators=100;, score=0.993 total time=   1.2s\n"
     ]
    },
    {
     "name": "stderr",
     "output_type": "stream",
     "text": [
      "C:\\Users\\jb5983on\\AppData\\Local\\anaconda3\\envs\\polars\\Lib\\site-packages\\sklearn\\base.py:1473: DataConversionWarning: A column-vector y was passed when a 1d array was expected. Please change the shape of y to (n_samples,), for example using ravel().\n",
      "  return fit_method(estimator, *args, **kwargs)\n"
     ]
    },
    {
     "name": "stdout",
     "output_type": "stream",
     "text": [
      "[CV 5/5] END class_weight=None, max_depth=5, min_samples_leaf=10, min_samples_split=5, n_estimators=100;, score=0.993 total time=   1.2s\n",
      "[CV 1/5] END class_weight=None, max_depth=5, min_samples_leaf=10, min_samples_split=10, n_estimators=10;, score=0.993 total time=   0.1s\n"
     ]
    },
    {
     "name": "stderr",
     "output_type": "stream",
     "text": [
      "C:\\Users\\jb5983on\\AppData\\Local\\anaconda3\\envs\\polars\\Lib\\site-packages\\sklearn\\base.py:1473: DataConversionWarning: A column-vector y was passed when a 1d array was expected. Please change the shape of y to (n_samples,), for example using ravel().\n",
      "  return fit_method(estimator, *args, **kwargs)\n",
      "C:\\Users\\jb5983on\\AppData\\Local\\anaconda3\\envs\\polars\\Lib\\site-packages\\sklearn\\base.py:1473: DataConversionWarning: A column-vector y was passed when a 1d array was expected. Please change the shape of y to (n_samples,), for example using ravel().\n",
      "  return fit_method(estimator, *args, **kwargs)\n",
      "C:\\Users\\jb5983on\\AppData\\Local\\anaconda3\\envs\\polars\\Lib\\site-packages\\sklearn\\base.py:1473: DataConversionWarning: A column-vector y was passed when a 1d array was expected. Please change the shape of y to (n_samples,), for example using ravel().\n",
      "  return fit_method(estimator, *args, **kwargs)\n"
     ]
    },
    {
     "name": "stdout",
     "output_type": "stream",
     "text": [
      "[CV 2/5] END class_weight=None, max_depth=5, min_samples_leaf=10, min_samples_split=10, n_estimators=10;, score=0.993 total time=   0.1s\n",
      "[CV 3/5] END class_weight=None, max_depth=5, min_samples_leaf=10, min_samples_split=10, n_estimators=10;, score=0.993 total time=   0.1s\n"
     ]
    },
    {
     "name": "stderr",
     "output_type": "stream",
     "text": [
      "C:\\Users\\jb5983on\\AppData\\Local\\anaconda3\\envs\\polars\\Lib\\site-packages\\sklearn\\base.py:1473: DataConversionWarning: A column-vector y was passed when a 1d array was expected. Please change the shape of y to (n_samples,), for example using ravel().\n",
      "  return fit_method(estimator, *args, **kwargs)\n",
      "C:\\Users\\jb5983on\\AppData\\Local\\anaconda3\\envs\\polars\\Lib\\site-packages\\sklearn\\base.py:1473: DataConversionWarning: A column-vector y was passed when a 1d array was expected. Please change the shape of y to (n_samples,), for example using ravel().\n",
      "  return fit_method(estimator, *args, **kwargs)\n"
     ]
    },
    {
     "name": "stdout",
     "output_type": "stream",
     "text": [
      "[CV 4/5] END class_weight=None, max_depth=5, min_samples_leaf=10, min_samples_split=10, n_estimators=10;, score=0.993 total time=   0.1s\n",
      "[CV 5/5] END class_weight=None, max_depth=5, min_samples_leaf=10, min_samples_split=10, n_estimators=10;, score=0.993 total time=   0.1s\n"
     ]
    },
    {
     "name": "stderr",
     "output_type": "stream",
     "text": [
      "C:\\Users\\jb5983on\\AppData\\Local\\anaconda3\\envs\\polars\\Lib\\site-packages\\sklearn\\base.py:1473: DataConversionWarning: A column-vector y was passed when a 1d array was expected. Please change the shape of y to (n_samples,), for example using ravel().\n",
      "  return fit_method(estimator, *args, **kwargs)\n"
     ]
    },
    {
     "name": "stdout",
     "output_type": "stream",
     "text": [
      "[CV 1/5] END class_weight=None, max_depth=5, min_samples_leaf=10, min_samples_split=10, n_estimators=100;, score=0.993 total time=   1.3s\n"
     ]
    },
    {
     "name": "stderr",
     "output_type": "stream",
     "text": [
      "C:\\Users\\jb5983on\\AppData\\Local\\anaconda3\\envs\\polars\\Lib\\site-packages\\sklearn\\base.py:1473: DataConversionWarning: A column-vector y was passed when a 1d array was expected. Please change the shape of y to (n_samples,), for example using ravel().\n",
      "  return fit_method(estimator, *args, **kwargs)\n"
     ]
    },
    {
     "name": "stdout",
     "output_type": "stream",
     "text": [
      "[CV 2/5] END class_weight=None, max_depth=5, min_samples_leaf=10, min_samples_split=10, n_estimators=100;, score=0.993 total time=   1.3s\n"
     ]
    },
    {
     "name": "stderr",
     "output_type": "stream",
     "text": [
      "C:\\Users\\jb5983on\\AppData\\Local\\anaconda3\\envs\\polars\\Lib\\site-packages\\sklearn\\base.py:1473: DataConversionWarning: A column-vector y was passed when a 1d array was expected. Please change the shape of y to (n_samples,), for example using ravel().\n",
      "  return fit_method(estimator, *args, **kwargs)\n"
     ]
    },
    {
     "name": "stdout",
     "output_type": "stream",
     "text": [
      "[CV 3/5] END class_weight=None, max_depth=5, min_samples_leaf=10, min_samples_split=10, n_estimators=100;, score=0.993 total time=   1.3s\n"
     ]
    },
    {
     "name": "stderr",
     "output_type": "stream",
     "text": [
      "C:\\Users\\jb5983on\\AppData\\Local\\anaconda3\\envs\\polars\\Lib\\site-packages\\sklearn\\base.py:1473: DataConversionWarning: A column-vector y was passed when a 1d array was expected. Please change the shape of y to (n_samples,), for example using ravel().\n",
      "  return fit_method(estimator, *args, **kwargs)\n"
     ]
    },
    {
     "name": "stdout",
     "output_type": "stream",
     "text": [
      "[CV 4/5] END class_weight=None, max_depth=5, min_samples_leaf=10, min_samples_split=10, n_estimators=100;, score=0.993 total time=   1.3s\n"
     ]
    },
    {
     "name": "stderr",
     "output_type": "stream",
     "text": [
      "C:\\Users\\jb5983on\\AppData\\Local\\anaconda3\\envs\\polars\\Lib\\site-packages\\sklearn\\base.py:1473: DataConversionWarning: A column-vector y was passed when a 1d array was expected. Please change the shape of y to (n_samples,), for example using ravel().\n",
      "  return fit_method(estimator, *args, **kwargs)\n"
     ]
    },
    {
     "name": "stdout",
     "output_type": "stream",
     "text": [
      "[CV 5/5] END class_weight=None, max_depth=5, min_samples_leaf=10, min_samples_split=10, n_estimators=100;, score=0.993 total time=   1.3s\n",
      "[CV 1/5] END class_weight=balanced, max_depth=None, min_samples_leaf=1, min_samples_split=1, n_estimators=10;, score=nan total time=   0.0s\n",
      "[CV 2/5] END class_weight=balanced, max_depth=None, min_samples_leaf=1, min_samples_split=1, n_estimators=10;, score=nan total time=   0.0s\n",
      "[CV 3/5] END class_weight=balanced, max_depth=None, min_samples_leaf=1, min_samples_split=1, n_estimators=10;, score=nan total time=   0.0s\n",
      "[CV 4/5] END class_weight=balanced, max_depth=None, min_samples_leaf=1, min_samples_split=1, n_estimators=10;, score=nan total time=   0.0s\n",
      "[CV 5/5] END class_weight=balanced, max_depth=None, min_samples_leaf=1, min_samples_split=1, n_estimators=10;, score=nan total time=   0.0s\n",
      "[CV 1/5] END class_weight=balanced, max_depth=None, min_samples_leaf=1, min_samples_split=1, n_estimators=100;, score=nan total time=   0.0s\n",
      "[CV 2/5] END class_weight=balanced, max_depth=None, min_samples_leaf=1, min_samples_split=1, n_estimators=100;, score=nan total time=   0.0s\n",
      "[CV 3/5] END class_weight=balanced, max_depth=None, min_samples_leaf=1, min_samples_split=1, n_estimators=100;, score=nan total time=   0.0s\n",
      "[CV 4/5] END class_weight=balanced, max_depth=None, min_samples_leaf=1, min_samples_split=1, n_estimators=100;, score=nan total time=   0.0s\n",
      "[CV 5/5] END class_weight=balanced, max_depth=None, min_samples_leaf=1, min_samples_split=1, n_estimators=100;, score=nan total time=   0.0s\n"
     ]
    },
    {
     "name": "stderr",
     "output_type": "stream",
     "text": [
      "C:\\Users\\jb5983on\\AppData\\Local\\anaconda3\\envs\\polars\\Lib\\site-packages\\sklearn\\base.py:1473: DataConversionWarning: A column-vector y was passed when a 1d array was expected. Please change the shape of y to (n_samples,), for example using ravel().\n",
      "  return fit_method(estimator, *args, **kwargs)\n"
     ]
    },
    {
     "name": "stdout",
     "output_type": "stream",
     "text": [
      "[CV 1/5] END class_weight=balanced, max_depth=None, min_samples_leaf=1, min_samples_split=5, n_estimators=10;, score=0.902 total time=   0.2s\n"
     ]
    },
    {
     "name": "stderr",
     "output_type": "stream",
     "text": [
      "C:\\Users\\jb5983on\\AppData\\Local\\anaconda3\\envs\\polars\\Lib\\site-packages\\sklearn\\base.py:1473: DataConversionWarning: A column-vector y was passed when a 1d array was expected. Please change the shape of y to (n_samples,), for example using ravel().\n",
      "  return fit_method(estimator, *args, **kwargs)\n"
     ]
    },
    {
     "name": "stdout",
     "output_type": "stream",
     "text": [
      "[CV 2/5] END class_weight=balanced, max_depth=None, min_samples_leaf=1, min_samples_split=5, n_estimators=10;, score=0.922 total time=   0.2s\n"
     ]
    },
    {
     "name": "stderr",
     "output_type": "stream",
     "text": [
      "C:\\Users\\jb5983on\\AppData\\Local\\anaconda3\\envs\\polars\\Lib\\site-packages\\sklearn\\base.py:1473: DataConversionWarning: A column-vector y was passed when a 1d array was expected. Please change the shape of y to (n_samples,), for example using ravel().\n",
      "  return fit_method(estimator, *args, **kwargs)\n"
     ]
    },
    {
     "name": "stdout",
     "output_type": "stream",
     "text": [
      "[CV 3/5] END class_weight=balanced, max_depth=None, min_samples_leaf=1, min_samples_split=5, n_estimators=10;, score=0.875 total time=   0.1s\n"
     ]
    },
    {
     "name": "stderr",
     "output_type": "stream",
     "text": [
      "C:\\Users\\jb5983on\\AppData\\Local\\anaconda3\\envs\\polars\\Lib\\site-packages\\sklearn\\base.py:1473: DataConversionWarning: A column-vector y was passed when a 1d array was expected. Please change the shape of y to (n_samples,), for example using ravel().\n",
      "  return fit_method(estimator, *args, **kwargs)\n"
     ]
    },
    {
     "name": "stdout",
     "output_type": "stream",
     "text": [
      "[CV 4/5] END class_weight=balanced, max_depth=None, min_samples_leaf=1, min_samples_split=5, n_estimators=10;, score=0.903 total time=   0.2s\n",
      "[CV 5/5] END class_weight=balanced, max_depth=None, min_samples_leaf=1, min_samples_split=5, n_estimators=10;, score=0.890 total time=   0.1s\n"
     ]
    },
    {
     "name": "stderr",
     "output_type": "stream",
     "text": [
      "C:\\Users\\jb5983on\\AppData\\Local\\anaconda3\\envs\\polars\\Lib\\site-packages\\sklearn\\base.py:1473: DataConversionWarning: A column-vector y was passed when a 1d array was expected. Please change the shape of y to (n_samples,), for example using ravel().\n",
      "  return fit_method(estimator, *args, **kwargs)\n",
      "C:\\Users\\jb5983on\\AppData\\Local\\anaconda3\\envs\\polars\\Lib\\site-packages\\sklearn\\base.py:1473: DataConversionWarning: A column-vector y was passed when a 1d array was expected. Please change the shape of y to (n_samples,), for example using ravel().\n",
      "  return fit_method(estimator, *args, **kwargs)\n"
     ]
    },
    {
     "name": "stdout",
     "output_type": "stream",
     "text": [
      "[CV 1/5] END class_weight=balanced, max_depth=None, min_samples_leaf=1, min_samples_split=5, n_estimators=100;, score=0.890 total time=   1.1s\n"
     ]
    },
    {
     "name": "stderr",
     "output_type": "stream",
     "text": [
      "C:\\Users\\jb5983on\\AppData\\Local\\anaconda3\\envs\\polars\\Lib\\site-packages\\sklearn\\base.py:1473: DataConversionWarning: A column-vector y was passed when a 1d array was expected. Please change the shape of y to (n_samples,), for example using ravel().\n",
      "  return fit_method(estimator, *args, **kwargs)\n"
     ]
    },
    {
     "name": "stdout",
     "output_type": "stream",
     "text": [
      "[CV 2/5] END class_weight=balanced, max_depth=None, min_samples_leaf=1, min_samples_split=5, n_estimators=100;, score=0.914 total time=   1.3s\n"
     ]
    },
    {
     "name": "stderr",
     "output_type": "stream",
     "text": [
      "C:\\Users\\jb5983on\\AppData\\Local\\anaconda3\\envs\\polars\\Lib\\site-packages\\sklearn\\base.py:1473: DataConversionWarning: A column-vector y was passed when a 1d array was expected. Please change the shape of y to (n_samples,), for example using ravel().\n",
      "  return fit_method(estimator, *args, **kwargs)\n"
     ]
    },
    {
     "name": "stdout",
     "output_type": "stream",
     "text": [
      "[CV 3/5] END class_weight=balanced, max_depth=None, min_samples_leaf=1, min_samples_split=5, n_estimators=100;, score=0.898 total time=   1.0s\n"
     ]
    },
    {
     "name": "stderr",
     "output_type": "stream",
     "text": [
      "C:\\Users\\jb5983on\\AppData\\Local\\anaconda3\\envs\\polars\\Lib\\site-packages\\sklearn\\base.py:1473: DataConversionWarning: A column-vector y was passed when a 1d array was expected. Please change the shape of y to (n_samples,), for example using ravel().\n",
      "  return fit_method(estimator, *args, **kwargs)\n"
     ]
    },
    {
     "name": "stdout",
     "output_type": "stream",
     "text": [
      "[CV 4/5] END class_weight=balanced, max_depth=None, min_samples_leaf=1, min_samples_split=5, n_estimators=100;, score=0.909 total time=   1.3s\n"
     ]
    },
    {
     "name": "stderr",
     "output_type": "stream",
     "text": [
      "C:\\Users\\jb5983on\\AppData\\Local\\anaconda3\\envs\\polars\\Lib\\site-packages\\sklearn\\base.py:1473: DataConversionWarning: A column-vector y was passed when a 1d array was expected. Please change the shape of y to (n_samples,), for example using ravel().\n",
      "  return fit_method(estimator, *args, **kwargs)\n"
     ]
    },
    {
     "name": "stdout",
     "output_type": "stream",
     "text": [
      "[CV 5/5] END class_weight=balanced, max_depth=None, min_samples_leaf=1, min_samples_split=5, n_estimators=100;, score=0.895 total time=   1.3s\n"
     ]
    },
    {
     "name": "stderr",
     "output_type": "stream",
     "text": [
      "C:\\Users\\jb5983on\\AppData\\Local\\anaconda3\\envs\\polars\\Lib\\site-packages\\sklearn\\base.py:1473: DataConversionWarning: A column-vector y was passed when a 1d array was expected. Please change the shape of y to (n_samples,), for example using ravel().\n",
      "  return fit_method(estimator, *args, **kwargs)\n"
     ]
    },
    {
     "name": "stdout",
     "output_type": "stream",
     "text": [
      "[CV 1/5] END class_weight=balanced, max_depth=None, min_samples_leaf=1, min_samples_split=10, n_estimators=10;, score=0.900 total time=   0.2s\n"
     ]
    },
    {
     "name": "stderr",
     "output_type": "stream",
     "text": [
      "C:\\Users\\jb5983on\\AppData\\Local\\anaconda3\\envs\\polars\\Lib\\site-packages\\sklearn\\base.py:1473: DataConversionWarning: A column-vector y was passed when a 1d array was expected. Please change the shape of y to (n_samples,), for example using ravel().\n",
      "  return fit_method(estimator, *args, **kwargs)\n"
     ]
    },
    {
     "name": "stdout",
     "output_type": "stream",
     "text": [
      "[CV 2/5] END class_weight=balanced, max_depth=None, min_samples_leaf=1, min_samples_split=10, n_estimators=10;, score=0.920 total time=   0.2s\n"
     ]
    },
    {
     "name": "stderr",
     "output_type": "stream",
     "text": [
      "C:\\Users\\jb5983on\\AppData\\Local\\anaconda3\\envs\\polars\\Lib\\site-packages\\sklearn\\base.py:1473: DataConversionWarning: A column-vector y was passed when a 1d array was expected. Please change the shape of y to (n_samples,), for example using ravel().\n",
      "  return fit_method(estimator, *args, **kwargs)\n"
     ]
    },
    {
     "name": "stdout",
     "output_type": "stream",
     "text": [
      "[CV 3/5] END class_weight=balanced, max_depth=None, min_samples_leaf=1, min_samples_split=10, n_estimators=10;, score=0.916 total time=   0.2s\n"
     ]
    },
    {
     "name": "stderr",
     "output_type": "stream",
     "text": [
      "C:\\Users\\jb5983on\\AppData\\Local\\anaconda3\\envs\\polars\\Lib\\site-packages\\sklearn\\base.py:1473: DataConversionWarning: A column-vector y was passed when a 1d array was expected. Please change the shape of y to (n_samples,), for example using ravel().\n",
      "  return fit_method(estimator, *args, **kwargs)\n"
     ]
    },
    {
     "name": "stdout",
     "output_type": "stream",
     "text": [
      "[CV 4/5] END class_weight=balanced, max_depth=None, min_samples_leaf=1, min_samples_split=10, n_estimators=10;, score=0.911 total time=   0.2s\n"
     ]
    },
    {
     "name": "stderr",
     "output_type": "stream",
     "text": [
      "C:\\Users\\jb5983on\\AppData\\Local\\anaconda3\\envs\\polars\\Lib\\site-packages\\sklearn\\base.py:1473: DataConversionWarning: A column-vector y was passed when a 1d array was expected. Please change the shape of y to (n_samples,), for example using ravel().\n",
      "  return fit_method(estimator, *args, **kwargs)\n"
     ]
    },
    {
     "name": "stdout",
     "output_type": "stream",
     "text": [
      "[CV 5/5] END class_weight=balanced, max_depth=None, min_samples_leaf=1, min_samples_split=10, n_estimators=10;, score=0.894 total time=   0.2s\n"
     ]
    },
    {
     "name": "stderr",
     "output_type": "stream",
     "text": [
      "C:\\Users\\jb5983on\\AppData\\Local\\anaconda3\\envs\\polars\\Lib\\site-packages\\sklearn\\base.py:1473: DataConversionWarning: A column-vector y was passed when a 1d array was expected. Please change the shape of y to (n_samples,), for example using ravel().\n",
      "  return fit_method(estimator, *args, **kwargs)\n"
     ]
    },
    {
     "name": "stdout",
     "output_type": "stream",
     "text": [
      "[CV 1/5] END class_weight=balanced, max_depth=None, min_samples_leaf=1, min_samples_split=10, n_estimators=100;, score=0.886 total time=   1.2s\n"
     ]
    },
    {
     "name": "stderr",
     "output_type": "stream",
     "text": [
      "C:\\Users\\jb5983on\\AppData\\Local\\anaconda3\\envs\\polars\\Lib\\site-packages\\sklearn\\base.py:1473: DataConversionWarning: A column-vector y was passed when a 1d array was expected. Please change the shape of y to (n_samples,), for example using ravel().\n",
      "  return fit_method(estimator, *args, **kwargs)\n"
     ]
    },
    {
     "name": "stdout",
     "output_type": "stream",
     "text": [
      "[CV 2/5] END class_weight=balanced, max_depth=None, min_samples_leaf=1, min_samples_split=10, n_estimators=100;, score=0.917 total time=   1.3s\n"
     ]
    },
    {
     "name": "stderr",
     "output_type": "stream",
     "text": [
      "C:\\Users\\jb5983on\\AppData\\Local\\anaconda3\\envs\\polars\\Lib\\site-packages\\sklearn\\base.py:1473: DataConversionWarning: A column-vector y was passed when a 1d array was expected. Please change the shape of y to (n_samples,), for example using ravel().\n",
      "  return fit_method(estimator, *args, **kwargs)\n"
     ]
    },
    {
     "name": "stdout",
     "output_type": "stream",
     "text": [
      "[CV 3/5] END class_weight=balanced, max_depth=None, min_samples_leaf=1, min_samples_split=10, n_estimators=100;, score=0.903 total time=   1.2s\n"
     ]
    },
    {
     "name": "stderr",
     "output_type": "stream",
     "text": [
      "C:\\Users\\jb5983on\\AppData\\Local\\anaconda3\\envs\\polars\\Lib\\site-packages\\sklearn\\base.py:1473: DataConversionWarning: A column-vector y was passed when a 1d array was expected. Please change the shape of y to (n_samples,), for example using ravel().\n",
      "  return fit_method(estimator, *args, **kwargs)\n"
     ]
    },
    {
     "name": "stdout",
     "output_type": "stream",
     "text": [
      "[CV 4/5] END class_weight=balanced, max_depth=None, min_samples_leaf=1, min_samples_split=10, n_estimators=100;, score=0.909 total time=   1.2s\n"
     ]
    },
    {
     "name": "stderr",
     "output_type": "stream",
     "text": [
      "C:\\Users\\jb5983on\\AppData\\Local\\anaconda3\\envs\\polars\\Lib\\site-packages\\sklearn\\base.py:1473: DataConversionWarning: A column-vector y was passed when a 1d array was expected. Please change the shape of y to (n_samples,), for example using ravel().\n",
      "  return fit_method(estimator, *args, **kwargs)\n"
     ]
    },
    {
     "name": "stdout",
     "output_type": "stream",
     "text": [
      "[CV 5/5] END class_weight=balanced, max_depth=None, min_samples_leaf=1, min_samples_split=10, n_estimators=100;, score=0.895 total time=   1.1s\n",
      "[CV 1/5] END class_weight=balanced, max_depth=None, min_samples_leaf=5, min_samples_split=1, n_estimators=10;, score=nan total time=   0.0s\n",
      "[CV 2/5] END class_weight=balanced, max_depth=None, min_samples_leaf=5, min_samples_split=1, n_estimators=10;, score=nan total time=   0.0s\n",
      "[CV 3/5] END class_weight=balanced, max_depth=None, min_samples_leaf=5, min_samples_split=1, n_estimators=10;, score=nan total time=   0.0s\n",
      "[CV 4/5] END class_weight=balanced, max_depth=None, min_samples_leaf=5, min_samples_split=1, n_estimators=10;, score=nan total time=   0.0s\n",
      "[CV 5/5] END class_weight=balanced, max_depth=None, min_samples_leaf=5, min_samples_split=1, n_estimators=10;, score=nan total time=   0.0s\n",
      "[CV 1/5] END class_weight=balanced, max_depth=None, min_samples_leaf=5, min_samples_split=1, n_estimators=100;, score=nan total time=   0.0s\n",
      "[CV 2/5] END class_weight=balanced, max_depth=None, min_samples_leaf=5, min_samples_split=1, n_estimators=100;, score=nan total time=   0.0s\n",
      "[CV 3/5] END class_weight=balanced, max_depth=None, min_samples_leaf=5, min_samples_split=1, n_estimators=100;, score=nan total time=   0.0s\n",
      "[CV 4/5] END class_weight=balanced, max_depth=None, min_samples_leaf=5, min_samples_split=1, n_estimators=100;, score=nan total time=   0.0s\n",
      "[CV 5/5] END class_weight=balanced, max_depth=None, min_samples_leaf=5, min_samples_split=1, n_estimators=100;, score=nan total time=   0.0s\n"
     ]
    },
    {
     "name": "stderr",
     "output_type": "stream",
     "text": [
      "C:\\Users\\jb5983on\\AppData\\Local\\anaconda3\\envs\\polars\\Lib\\site-packages\\sklearn\\base.py:1473: DataConversionWarning: A column-vector y was passed when a 1d array was expected. Please change the shape of y to (n_samples,), for example using ravel().\n",
      "  return fit_method(estimator, *args, **kwargs)\n"
     ]
    },
    {
     "name": "stdout",
     "output_type": "stream",
     "text": [
      "[CV 1/5] END class_weight=balanced, max_depth=None, min_samples_leaf=5, min_samples_split=5, n_estimators=10;, score=0.909 total time=   0.1s\n",
      "[CV 2/5] END class_weight=balanced, max_depth=None, min_samples_leaf=5, min_samples_split=5, n_estimators=10;, score=0.906 total time=   0.1s\n"
     ]
    },
    {
     "name": "stderr",
     "output_type": "stream",
     "text": [
      "C:\\Users\\jb5983on\\AppData\\Local\\anaconda3\\envs\\polars\\Lib\\site-packages\\sklearn\\base.py:1473: DataConversionWarning: A column-vector y was passed when a 1d array was expected. Please change the shape of y to (n_samples,), for example using ravel().\n",
      "  return fit_method(estimator, *args, **kwargs)\n",
      "C:\\Users\\jb5983on\\AppData\\Local\\anaconda3\\envs\\polars\\Lib\\site-packages\\sklearn\\base.py:1473: DataConversionWarning: A column-vector y was passed when a 1d array was expected. Please change the shape of y to (n_samples,), for example using ravel().\n",
      "  return fit_method(estimator, *args, **kwargs)\n"
     ]
    },
    {
     "name": "stdout",
     "output_type": "stream",
     "text": [
      "[CV 3/5] END class_weight=balanced, max_depth=None, min_samples_leaf=5, min_samples_split=5, n_estimators=10;, score=0.896 total time=   0.1s\n",
      "[CV 4/5] END class_weight=balanced, max_depth=None, min_samples_leaf=5, min_samples_split=5, n_estimators=10;, score=0.904 total time=   0.1s\n"
     ]
    },
    {
     "name": "stderr",
     "output_type": "stream",
     "text": [
      "C:\\Users\\jb5983on\\AppData\\Local\\anaconda3\\envs\\polars\\Lib\\site-packages\\sklearn\\base.py:1473: DataConversionWarning: A column-vector y was passed when a 1d array was expected. Please change the shape of y to (n_samples,), for example using ravel().\n",
      "  return fit_method(estimator, *args, **kwargs)\n",
      "C:\\Users\\jb5983on\\AppData\\Local\\anaconda3\\envs\\polars\\Lib\\site-packages\\sklearn\\base.py:1473: DataConversionWarning: A column-vector y was passed when a 1d array was expected. Please change the shape of y to (n_samples,), for example using ravel().\n",
      "  return fit_method(estimator, *args, **kwargs)\n"
     ]
    },
    {
     "name": "stdout",
     "output_type": "stream",
     "text": [
      "[CV 5/5] END class_weight=balanced, max_depth=None, min_samples_leaf=5, min_samples_split=5, n_estimators=10;, score=0.900 total time=   0.1s\n"
     ]
    },
    {
     "name": "stderr",
     "output_type": "stream",
     "text": [
      "C:\\Users\\jb5983on\\AppData\\Local\\anaconda3\\envs\\polars\\Lib\\site-packages\\sklearn\\base.py:1473: DataConversionWarning: A column-vector y was passed when a 1d array was expected. Please change the shape of y to (n_samples,), for example using ravel().\n",
      "  return fit_method(estimator, *args, **kwargs)\n"
     ]
    },
    {
     "name": "stdout",
     "output_type": "stream",
     "text": [
      "[CV 1/5] END class_weight=balanced, max_depth=None, min_samples_leaf=5, min_samples_split=5, n_estimators=100;, score=0.894 total time=   1.1s\n"
     ]
    },
    {
     "name": "stderr",
     "output_type": "stream",
     "text": [
      "C:\\Users\\jb5983on\\AppData\\Local\\anaconda3\\envs\\polars\\Lib\\site-packages\\sklearn\\base.py:1473: DataConversionWarning: A column-vector y was passed when a 1d array was expected. Please change the shape of y to (n_samples,), for example using ravel().\n",
      "  return fit_method(estimator, *args, **kwargs)\n"
     ]
    },
    {
     "name": "stdout",
     "output_type": "stream",
     "text": [
      "[CV 2/5] END class_weight=balanced, max_depth=None, min_samples_leaf=5, min_samples_split=5, n_estimators=100;, score=0.917 total time=   1.1s\n"
     ]
    },
    {
     "name": "stderr",
     "output_type": "stream",
     "text": [
      "C:\\Users\\jb5983on\\AppData\\Local\\anaconda3\\envs\\polars\\Lib\\site-packages\\sklearn\\base.py:1473: DataConversionWarning: A column-vector y was passed when a 1d array was expected. Please change the shape of y to (n_samples,), for example using ravel().\n",
      "  return fit_method(estimator, *args, **kwargs)\n"
     ]
    },
    {
     "name": "stdout",
     "output_type": "stream",
     "text": [
      "[CV 3/5] END class_weight=balanced, max_depth=None, min_samples_leaf=5, min_samples_split=5, n_estimators=100;, score=0.901 total time=   1.3s\n"
     ]
    },
    {
     "name": "stderr",
     "output_type": "stream",
     "text": [
      "C:\\Users\\jb5983on\\AppData\\Local\\anaconda3\\envs\\polars\\Lib\\site-packages\\sklearn\\base.py:1473: DataConversionWarning: A column-vector y was passed when a 1d array was expected. Please change the shape of y to (n_samples,), for example using ravel().\n",
      "  return fit_method(estimator, *args, **kwargs)\n"
     ]
    },
    {
     "name": "stdout",
     "output_type": "stream",
     "text": [
      "[CV 4/5] END class_weight=balanced, max_depth=None, min_samples_leaf=5, min_samples_split=5, n_estimators=100;, score=0.900 total time=   1.3s\n"
     ]
    },
    {
     "name": "stderr",
     "output_type": "stream",
     "text": [
      "C:\\Users\\jb5983on\\AppData\\Local\\anaconda3\\envs\\polars\\Lib\\site-packages\\sklearn\\base.py:1473: DataConversionWarning: A column-vector y was passed when a 1d array was expected. Please change the shape of y to (n_samples,), for example using ravel().\n",
      "  return fit_method(estimator, *args, **kwargs)\n"
     ]
    },
    {
     "name": "stdout",
     "output_type": "stream",
     "text": [
      "[CV 5/5] END class_weight=balanced, max_depth=None, min_samples_leaf=5, min_samples_split=5, n_estimators=100;, score=0.900 total time=   1.3s\n"
     ]
    },
    {
     "name": "stderr",
     "output_type": "stream",
     "text": [
      "C:\\Users\\jb5983on\\AppData\\Local\\anaconda3\\envs\\polars\\Lib\\site-packages\\sklearn\\base.py:1473: DataConversionWarning: A column-vector y was passed when a 1d array was expected. Please change the shape of y to (n_samples,), for example using ravel().\n",
      "  return fit_method(estimator, *args, **kwargs)\n"
     ]
    },
    {
     "name": "stdout",
     "output_type": "stream",
     "text": [
      "[CV 1/5] END class_weight=balanced, max_depth=None, min_samples_leaf=5, min_samples_split=10, n_estimators=10;, score=0.882 total time=   0.1s\n"
     ]
    },
    {
     "name": "stderr",
     "output_type": "stream",
     "text": [
      "C:\\Users\\jb5983on\\AppData\\Local\\anaconda3\\envs\\polars\\Lib\\site-packages\\sklearn\\base.py:1473: DataConversionWarning: A column-vector y was passed when a 1d array was expected. Please change the shape of y to (n_samples,), for example using ravel().\n",
      "  return fit_method(estimator, *args, **kwargs)\n"
     ]
    },
    {
     "name": "stdout",
     "output_type": "stream",
     "text": [
      "[CV 2/5] END class_weight=balanced, max_depth=None, min_samples_leaf=5, min_samples_split=10, n_estimators=10;, score=0.919 total time=   0.2s\n"
     ]
    },
    {
     "name": "stderr",
     "output_type": "stream",
     "text": [
      "C:\\Users\\jb5983on\\AppData\\Local\\anaconda3\\envs\\polars\\Lib\\site-packages\\sklearn\\base.py:1473: DataConversionWarning: A column-vector y was passed when a 1d array was expected. Please change the shape of y to (n_samples,), for example using ravel().\n",
      "  return fit_method(estimator, *args, **kwargs)\n"
     ]
    },
    {
     "name": "stdout",
     "output_type": "stream",
     "text": [
      "[CV 3/5] END class_weight=balanced, max_depth=None, min_samples_leaf=5, min_samples_split=10, n_estimators=10;, score=0.905 total time=   0.2s\n"
     ]
    },
    {
     "name": "stderr",
     "output_type": "stream",
     "text": [
      "C:\\Users\\jb5983on\\AppData\\Local\\anaconda3\\envs\\polars\\Lib\\site-packages\\sklearn\\base.py:1473: DataConversionWarning: A column-vector y was passed when a 1d array was expected. Please change the shape of y to (n_samples,), for example using ravel().\n",
      "  return fit_method(estimator, *args, **kwargs)\n"
     ]
    },
    {
     "name": "stdout",
     "output_type": "stream",
     "text": [
      "[CV 4/5] END class_weight=balanced, max_depth=None, min_samples_leaf=5, min_samples_split=10, n_estimators=10;, score=0.895 total time=   0.2s\n"
     ]
    },
    {
     "name": "stderr",
     "output_type": "stream",
     "text": [
      "C:\\Users\\jb5983on\\AppData\\Local\\anaconda3\\envs\\polars\\Lib\\site-packages\\sklearn\\base.py:1473: DataConversionWarning: A column-vector y was passed when a 1d array was expected. Please change the shape of y to (n_samples,), for example using ravel().\n",
      "  return fit_method(estimator, *args, **kwargs)\n"
     ]
    },
    {
     "name": "stdout",
     "output_type": "stream",
     "text": [
      "[CV 5/5] END class_weight=balanced, max_depth=None, min_samples_leaf=5, min_samples_split=10, n_estimators=10;, score=0.907 total time=   0.2s\n"
     ]
    },
    {
     "name": "stderr",
     "output_type": "stream",
     "text": [
      "C:\\Users\\jb5983on\\AppData\\Local\\anaconda3\\envs\\polars\\Lib\\site-packages\\sklearn\\base.py:1473: DataConversionWarning: A column-vector y was passed when a 1d array was expected. Please change the shape of y to (n_samples,), for example using ravel().\n",
      "  return fit_method(estimator, *args, **kwargs)\n"
     ]
    },
    {
     "name": "stdout",
     "output_type": "stream",
     "text": [
      "[CV 1/5] END class_weight=balanced, max_depth=None, min_samples_leaf=5, min_samples_split=10, n_estimators=100;, score=0.895 total time=   1.3s\n"
     ]
    },
    {
     "name": "stderr",
     "output_type": "stream",
     "text": [
      "C:\\Users\\jb5983on\\AppData\\Local\\anaconda3\\envs\\polars\\Lib\\site-packages\\sklearn\\base.py:1473: DataConversionWarning: A column-vector y was passed when a 1d array was expected. Please change the shape of y to (n_samples,), for example using ravel().\n",
      "  return fit_method(estimator, *args, **kwargs)\n"
     ]
    },
    {
     "name": "stdout",
     "output_type": "stream",
     "text": [
      "[CV 2/5] END class_weight=balanced, max_depth=None, min_samples_leaf=5, min_samples_split=10, n_estimators=100;, score=0.923 total time=   1.3s\n"
     ]
    },
    {
     "name": "stderr",
     "output_type": "stream",
     "text": [
      "C:\\Users\\jb5983on\\AppData\\Local\\anaconda3\\envs\\polars\\Lib\\site-packages\\sklearn\\base.py:1473: DataConversionWarning: A column-vector y was passed when a 1d array was expected. Please change the shape of y to (n_samples,), for example using ravel().\n",
      "  return fit_method(estimator, *args, **kwargs)\n"
     ]
    },
    {
     "name": "stdout",
     "output_type": "stream",
     "text": [
      "[CV 3/5] END class_weight=balanced, max_depth=None, min_samples_leaf=5, min_samples_split=10, n_estimators=100;, score=0.903 total time=   1.4s\n"
     ]
    },
    {
     "name": "stderr",
     "output_type": "stream",
     "text": [
      "C:\\Users\\jb5983on\\AppData\\Local\\anaconda3\\envs\\polars\\Lib\\site-packages\\sklearn\\base.py:1473: DataConversionWarning: A column-vector y was passed when a 1d array was expected. Please change the shape of y to (n_samples,), for example using ravel().\n",
      "  return fit_method(estimator, *args, **kwargs)\n"
     ]
    },
    {
     "name": "stdout",
     "output_type": "stream",
     "text": [
      "[CV 4/5] END class_weight=balanced, max_depth=None, min_samples_leaf=5, min_samples_split=10, n_estimators=100;, score=0.901 total time=   1.3s\n"
     ]
    },
    {
     "name": "stderr",
     "output_type": "stream",
     "text": [
      "C:\\Users\\jb5983on\\AppData\\Local\\anaconda3\\envs\\polars\\Lib\\site-packages\\sklearn\\base.py:1473: DataConversionWarning: A column-vector y was passed when a 1d array was expected. Please change the shape of y to (n_samples,), for example using ravel().\n",
      "  return fit_method(estimator, *args, **kwargs)\n"
     ]
    },
    {
     "name": "stdout",
     "output_type": "stream",
     "text": [
      "[CV 5/5] END class_weight=balanced, max_depth=None, min_samples_leaf=5, min_samples_split=10, n_estimators=100;, score=0.898 total time=   1.0s\n",
      "[CV 1/5] END class_weight=balanced, max_depth=None, min_samples_leaf=10, min_samples_split=1, n_estimators=10;, score=nan total time=   0.0s\n",
      "[CV 2/5] END class_weight=balanced, max_depth=None, min_samples_leaf=10, min_samples_split=1, n_estimators=10;, score=nan total time=   0.0s\n",
      "[CV 3/5] END class_weight=balanced, max_depth=None, min_samples_leaf=10, min_samples_split=1, n_estimators=10;, score=nan total time=   0.0s\n",
      "[CV 4/5] END class_weight=balanced, max_depth=None, min_samples_leaf=10, min_samples_split=1, n_estimators=10;, score=nan total time=   0.0s\n",
      "[CV 5/5] END class_weight=balanced, max_depth=None, min_samples_leaf=10, min_samples_split=1, n_estimators=10;, score=nan total time=   0.0s\n",
      "[CV 1/5] END class_weight=balanced, max_depth=None, min_samples_leaf=10, min_samples_split=1, n_estimators=100;, score=nan total time=   0.0s\n",
      "[CV 2/5] END class_weight=balanced, max_depth=None, min_samples_leaf=10, min_samples_split=1, n_estimators=100;, score=nan total time=   0.0s\n",
      "[CV 3/5] END class_weight=balanced, max_depth=None, min_samples_leaf=10, min_samples_split=1, n_estimators=100;, score=nan total time=   0.0s\n",
      "[CV 4/5] END class_weight=balanced, max_depth=None, min_samples_leaf=10, min_samples_split=1, n_estimators=100;, score=nan total time=   0.0s\n",
      "[CV 5/5] END class_weight=balanced, max_depth=None, min_samples_leaf=10, min_samples_split=1, n_estimators=100;, score=nan total time=   0.0s\n"
     ]
    },
    {
     "name": "stderr",
     "output_type": "stream",
     "text": [
      "C:\\Users\\jb5983on\\AppData\\Local\\anaconda3\\envs\\polars\\Lib\\site-packages\\sklearn\\base.py:1473: DataConversionWarning: A column-vector y was passed when a 1d array was expected. Please change the shape of y to (n_samples,), for example using ravel().\n",
      "  return fit_method(estimator, *args, **kwargs)\n",
      "C:\\Users\\jb5983on\\AppData\\Local\\anaconda3\\envs\\polars\\Lib\\site-packages\\sklearn\\base.py:1473: DataConversionWarning: A column-vector y was passed when a 1d array was expected. Please change the shape of y to (n_samples,), for example using ravel().\n",
      "  return fit_method(estimator, *args, **kwargs)\n"
     ]
    },
    {
     "name": "stdout",
     "output_type": "stream",
     "text": [
      "[CV 1/5] END class_weight=balanced, max_depth=None, min_samples_leaf=10, min_samples_split=5, n_estimators=10;, score=0.895 total time=   0.1s\n",
      "[CV 2/5] END class_weight=balanced, max_depth=None, min_samples_leaf=10, min_samples_split=5, n_estimators=10;, score=0.915 total time=   0.1s\n"
     ]
    },
    {
     "name": "stderr",
     "output_type": "stream",
     "text": [
      "C:\\Users\\jb5983on\\AppData\\Local\\anaconda3\\envs\\polars\\Lib\\site-packages\\sklearn\\base.py:1473: DataConversionWarning: A column-vector y was passed when a 1d array was expected. Please change the shape of y to (n_samples,), for example using ravel().\n",
      "  return fit_method(estimator, *args, **kwargs)\n"
     ]
    },
    {
     "name": "stdout",
     "output_type": "stream",
     "text": [
      "[CV 3/5] END class_weight=balanced, max_depth=None, min_samples_leaf=10, min_samples_split=5, n_estimators=10;, score=0.904 total time=   0.1s\n",
      "[CV 4/5] END class_weight=balanced, max_depth=None, min_samples_leaf=10, min_samples_split=5, n_estimators=10;, score=0.923 total time=   0.1s\n"
     ]
    },
    {
     "name": "stderr",
     "output_type": "stream",
     "text": [
      "C:\\Users\\jb5983on\\AppData\\Local\\anaconda3\\envs\\polars\\Lib\\site-packages\\sklearn\\base.py:1473: DataConversionWarning: A column-vector y was passed when a 1d array was expected. Please change the shape of y to (n_samples,), for example using ravel().\n",
      "  return fit_method(estimator, *args, **kwargs)\n",
      "C:\\Users\\jb5983on\\AppData\\Local\\anaconda3\\envs\\polars\\Lib\\site-packages\\sklearn\\base.py:1473: DataConversionWarning: A column-vector y was passed when a 1d array was expected. Please change the shape of y to (n_samples,), for example using ravel().\n",
      "  return fit_method(estimator, *args, **kwargs)\n"
     ]
    },
    {
     "name": "stdout",
     "output_type": "stream",
     "text": [
      "[CV 5/5] END class_weight=balanced, max_depth=None, min_samples_leaf=10, min_samples_split=5, n_estimators=10;, score=0.900 total time=   0.1s\n"
     ]
    },
    {
     "name": "stderr",
     "output_type": "stream",
     "text": [
      "C:\\Users\\jb5983on\\AppData\\Local\\anaconda3\\envs\\polars\\Lib\\site-packages\\sklearn\\base.py:1473: DataConversionWarning: A column-vector y was passed when a 1d array was expected. Please change the shape of y to (n_samples,), for example using ravel().\n",
      "  return fit_method(estimator, *args, **kwargs)\n"
     ]
    },
    {
     "name": "stdout",
     "output_type": "stream",
     "text": [
      "[CV 1/5] END class_weight=balanced, max_depth=None, min_samples_leaf=10, min_samples_split=5, n_estimators=100;, score=0.894 total time=   1.0s\n"
     ]
    },
    {
     "name": "stderr",
     "output_type": "stream",
     "text": [
      "C:\\Users\\jb5983on\\AppData\\Local\\anaconda3\\envs\\polars\\Lib\\site-packages\\sklearn\\base.py:1473: DataConversionWarning: A column-vector y was passed when a 1d array was expected. Please change the shape of y to (n_samples,), for example using ravel().\n",
      "  return fit_method(estimator, *args, **kwargs)\n"
     ]
    },
    {
     "name": "stdout",
     "output_type": "stream",
     "text": [
      "[CV 2/5] END class_weight=balanced, max_depth=None, min_samples_leaf=10, min_samples_split=5, n_estimators=100;, score=0.917 total time=   1.0s\n"
     ]
    },
    {
     "name": "stderr",
     "output_type": "stream",
     "text": [
      "C:\\Users\\jb5983on\\AppData\\Local\\anaconda3\\envs\\polars\\Lib\\site-packages\\sklearn\\base.py:1473: DataConversionWarning: A column-vector y was passed when a 1d array was expected. Please change the shape of y to (n_samples,), for example using ravel().\n",
      "  return fit_method(estimator, *args, **kwargs)\n"
     ]
    },
    {
     "name": "stdout",
     "output_type": "stream",
     "text": [
      "[CV 3/5] END class_weight=balanced, max_depth=None, min_samples_leaf=10, min_samples_split=5, n_estimators=100;, score=0.905 total time=   1.3s\n"
     ]
    },
    {
     "name": "stderr",
     "output_type": "stream",
     "text": [
      "C:\\Users\\jb5983on\\AppData\\Local\\anaconda3\\envs\\polars\\Lib\\site-packages\\sklearn\\base.py:1473: DataConversionWarning: A column-vector y was passed when a 1d array was expected. Please change the shape of y to (n_samples,), for example using ravel().\n",
      "  return fit_method(estimator, *args, **kwargs)\n"
     ]
    },
    {
     "name": "stdout",
     "output_type": "stream",
     "text": [
      "[CV 4/5] END class_weight=balanced, max_depth=None, min_samples_leaf=10, min_samples_split=5, n_estimators=100;, score=0.901 total time=   1.4s\n"
     ]
    },
    {
     "name": "stderr",
     "output_type": "stream",
     "text": [
      "C:\\Users\\jb5983on\\AppData\\Local\\anaconda3\\envs\\polars\\Lib\\site-packages\\sklearn\\base.py:1473: DataConversionWarning: A column-vector y was passed when a 1d array was expected. Please change the shape of y to (n_samples,), for example using ravel().\n",
      "  return fit_method(estimator, *args, **kwargs)\n"
     ]
    },
    {
     "name": "stdout",
     "output_type": "stream",
     "text": [
      "[CV 5/5] END class_weight=balanced, max_depth=None, min_samples_leaf=10, min_samples_split=5, n_estimators=100;, score=0.906 total time=   1.4s\n"
     ]
    },
    {
     "name": "stderr",
     "output_type": "stream",
     "text": [
      "C:\\Users\\jb5983on\\AppData\\Local\\anaconda3\\envs\\polars\\Lib\\site-packages\\sklearn\\base.py:1473: DataConversionWarning: A column-vector y was passed when a 1d array was expected. Please change the shape of y to (n_samples,), for example using ravel().\n",
      "  return fit_method(estimator, *args, **kwargs)\n"
     ]
    },
    {
     "name": "stdout",
     "output_type": "stream",
     "text": [
      "[CV 1/5] END class_weight=balanced, max_depth=None, min_samples_leaf=10, min_samples_split=10, n_estimators=10;, score=0.900 total time=   0.2s\n"
     ]
    },
    {
     "name": "stderr",
     "output_type": "stream",
     "text": [
      "C:\\Users\\jb5983on\\AppData\\Local\\anaconda3\\envs\\polars\\Lib\\site-packages\\sklearn\\base.py:1473: DataConversionWarning: A column-vector y was passed when a 1d array was expected. Please change the shape of y to (n_samples,), for example using ravel().\n",
      "  return fit_method(estimator, *args, **kwargs)\n"
     ]
    },
    {
     "name": "stdout",
     "output_type": "stream",
     "text": [
      "[CV 2/5] END class_weight=balanced, max_depth=None, min_samples_leaf=10, min_samples_split=10, n_estimators=10;, score=0.932 total time=   0.1s\n"
     ]
    },
    {
     "name": "stderr",
     "output_type": "stream",
     "text": [
      "C:\\Users\\jb5983on\\AppData\\Local\\anaconda3\\envs\\polars\\Lib\\site-packages\\sklearn\\base.py:1473: DataConversionWarning: A column-vector y was passed when a 1d array was expected. Please change the shape of y to (n_samples,), for example using ravel().\n",
      "  return fit_method(estimator, *args, **kwargs)\n"
     ]
    },
    {
     "name": "stdout",
     "output_type": "stream",
     "text": [
      "[CV 3/5] END class_weight=balanced, max_depth=None, min_samples_leaf=10, min_samples_split=10, n_estimators=10;, score=0.901 total time=   0.1s\n"
     ]
    },
    {
     "name": "stderr",
     "output_type": "stream",
     "text": [
      "C:\\Users\\jb5983on\\AppData\\Local\\anaconda3\\envs\\polars\\Lib\\site-packages\\sklearn\\base.py:1473: DataConversionWarning: A column-vector y was passed when a 1d array was expected. Please change the shape of y to (n_samples,), for example using ravel().\n",
      "  return fit_method(estimator, *args, **kwargs)\n"
     ]
    },
    {
     "name": "stdout",
     "output_type": "stream",
     "text": [
      "[CV 4/5] END class_weight=balanced, max_depth=None, min_samples_leaf=10, min_samples_split=10, n_estimators=10;, score=0.896 total time=   0.1s\n"
     ]
    },
    {
     "name": "stderr",
     "output_type": "stream",
     "text": [
      "C:\\Users\\jb5983on\\AppData\\Local\\anaconda3\\envs\\polars\\Lib\\site-packages\\sklearn\\base.py:1473: DataConversionWarning: A column-vector y was passed when a 1d array was expected. Please change the shape of y to (n_samples,), for example using ravel().\n",
      "  return fit_method(estimator, *args, **kwargs)\n"
     ]
    },
    {
     "name": "stdout",
     "output_type": "stream",
     "text": [
      "[CV 5/5] END class_weight=balanced, max_depth=None, min_samples_leaf=10, min_samples_split=10, n_estimators=10;, score=0.888 total time=   0.2s\n"
     ]
    },
    {
     "name": "stderr",
     "output_type": "stream",
     "text": [
      "C:\\Users\\jb5983on\\AppData\\Local\\anaconda3\\envs\\polars\\Lib\\site-packages\\sklearn\\base.py:1473: DataConversionWarning: A column-vector y was passed when a 1d array was expected. Please change the shape of y to (n_samples,), for example using ravel().\n",
      "  return fit_method(estimator, *args, **kwargs)\n"
     ]
    },
    {
     "name": "stdout",
     "output_type": "stream",
     "text": [
      "[CV 1/5] END class_weight=balanced, max_depth=None, min_samples_leaf=10, min_samples_split=10, n_estimators=100;, score=0.902 total time=   1.5s\n"
     ]
    },
    {
     "name": "stderr",
     "output_type": "stream",
     "text": [
      "C:\\Users\\jb5983on\\AppData\\Local\\anaconda3\\envs\\polars\\Lib\\site-packages\\sklearn\\base.py:1473: DataConversionWarning: A column-vector y was passed when a 1d array was expected. Please change the shape of y to (n_samples,), for example using ravel().\n",
      "  return fit_method(estimator, *args, **kwargs)\n"
     ]
    },
    {
     "name": "stdout",
     "output_type": "stream",
     "text": [
      "[CV 2/5] END class_weight=balanced, max_depth=None, min_samples_leaf=10, min_samples_split=10, n_estimators=100;, score=0.922 total time=   1.5s\n"
     ]
    },
    {
     "name": "stderr",
     "output_type": "stream",
     "text": [
      "C:\\Users\\jb5983on\\AppData\\Local\\anaconda3\\envs\\polars\\Lib\\site-packages\\sklearn\\base.py:1473: DataConversionWarning: A column-vector y was passed when a 1d array was expected. Please change the shape of y to (n_samples,), for example using ravel().\n",
      "  return fit_method(estimator, *args, **kwargs)\n"
     ]
    },
    {
     "name": "stdout",
     "output_type": "stream",
     "text": [
      "[CV 3/5] END class_weight=balanced, max_depth=None, min_samples_leaf=10, min_samples_split=10, n_estimators=100;, score=0.900 total time=   1.2s\n"
     ]
    },
    {
     "name": "stderr",
     "output_type": "stream",
     "text": [
      "C:\\Users\\jb5983on\\AppData\\Local\\anaconda3\\envs\\polars\\Lib\\site-packages\\sklearn\\base.py:1473: DataConversionWarning: A column-vector y was passed when a 1d array was expected. Please change the shape of y to (n_samples,), for example using ravel().\n",
      "  return fit_method(estimator, *args, **kwargs)\n"
     ]
    },
    {
     "name": "stdout",
     "output_type": "stream",
     "text": [
      "[CV 4/5] END class_weight=balanced, max_depth=None, min_samples_leaf=10, min_samples_split=10, n_estimators=100;, score=0.903 total time=   1.3s\n"
     ]
    },
    {
     "name": "stderr",
     "output_type": "stream",
     "text": [
      "C:\\Users\\jb5983on\\AppData\\Local\\anaconda3\\envs\\polars\\Lib\\site-packages\\sklearn\\base.py:1473: DataConversionWarning: A column-vector y was passed when a 1d array was expected. Please change the shape of y to (n_samples,), for example using ravel().\n",
      "  return fit_method(estimator, *args, **kwargs)\n"
     ]
    },
    {
     "name": "stdout",
     "output_type": "stream",
     "text": [
      "[CV 5/5] END class_weight=balanced, max_depth=None, min_samples_leaf=10, min_samples_split=10, n_estimators=100;, score=0.892 total time=   1.2s\n",
      "[CV 1/5] END class_weight=balanced, max_depth=1, min_samples_leaf=1, min_samples_split=1, n_estimators=10;, score=nan total time=   0.0s\n",
      "[CV 2/5] END class_weight=balanced, max_depth=1, min_samples_leaf=1, min_samples_split=1, n_estimators=10;, score=nan total time=   0.0s\n",
      "[CV 3/5] END class_weight=balanced, max_depth=1, min_samples_leaf=1, min_samples_split=1, n_estimators=10;, score=nan total time=   0.0s\n",
      "[CV 4/5] END class_weight=balanced, max_depth=1, min_samples_leaf=1, min_samples_split=1, n_estimators=10;, score=nan total time=   0.0s\n",
      "[CV 5/5] END class_weight=balanced, max_depth=1, min_samples_leaf=1, min_samples_split=1, n_estimators=10;, score=nan total time=   0.0s\n",
      "[CV 1/5] END class_weight=balanced, max_depth=1, min_samples_leaf=1, min_samples_split=1, n_estimators=100;, score=nan total time=   0.0s\n",
      "[CV 2/5] END class_weight=balanced, max_depth=1, min_samples_leaf=1, min_samples_split=1, n_estimators=100;, score=nan total time=   0.0s\n",
      "[CV 3/5] END class_weight=balanced, max_depth=1, min_samples_leaf=1, min_samples_split=1, n_estimators=100;, score=nan total time=   0.0s\n",
      "[CV 4/5] END class_weight=balanced, max_depth=1, min_samples_leaf=1, min_samples_split=1, n_estimators=100;, score=nan total time=   0.0s\n",
      "[CV 5/5] END class_weight=balanced, max_depth=1, min_samples_leaf=1, min_samples_split=1, n_estimators=100;, score=nan total time=   0.0s\n"
     ]
    },
    {
     "name": "stderr",
     "output_type": "stream",
     "text": [
      "C:\\Users\\jb5983on\\AppData\\Local\\anaconda3\\envs\\polars\\Lib\\site-packages\\sklearn\\base.py:1473: DataConversionWarning: A column-vector y was passed when a 1d array was expected. Please change the shape of y to (n_samples,), for example using ravel().\n",
      "  return fit_method(estimator, *args, **kwargs)\n",
      "C:\\Users\\jb5983on\\AppData\\Local\\anaconda3\\envs\\polars\\Lib\\site-packages\\sklearn\\base.py:1473: DataConversionWarning: A column-vector y was passed when a 1d array was expected. Please change the shape of y to (n_samples,), for example using ravel().\n",
      "  return fit_method(estimator, *args, **kwargs)\n"
     ]
    },
    {
     "name": "stdout",
     "output_type": "stream",
     "text": [
      "[CV 1/5] END class_weight=balanced, max_depth=1, min_samples_leaf=1, min_samples_split=5, n_estimators=10;, score=0.918 total time=   0.1s\n",
      "[CV 2/5] END class_weight=balanced, max_depth=1, min_samples_leaf=1, min_samples_split=5, n_estimators=10;, score=0.916 total time=   0.1s\n"
     ]
    },
    {
     "name": "stderr",
     "output_type": "stream",
     "text": [
      "C:\\Users\\jb5983on\\AppData\\Local\\anaconda3\\envs\\polars\\Lib\\site-packages\\sklearn\\base.py:1473: DataConversionWarning: A column-vector y was passed when a 1d array was expected. Please change the shape of y to (n_samples,), for example using ravel().\n",
      "  return fit_method(estimator, *args, **kwargs)\n",
      "C:\\Users\\jb5983on\\AppData\\Local\\anaconda3\\envs\\polars\\Lib\\site-packages\\sklearn\\base.py:1473: DataConversionWarning: A column-vector y was passed when a 1d array was expected. Please change the shape of y to (n_samples,), for example using ravel().\n",
      "  return fit_method(estimator, *args, **kwargs)\n"
     ]
    },
    {
     "name": "stdout",
     "output_type": "stream",
     "text": [
      "[CV 3/5] END class_weight=balanced, max_depth=1, min_samples_leaf=1, min_samples_split=5, n_estimators=10;, score=0.919 total time=   0.1s\n",
      "[CV 4/5] END class_weight=balanced, max_depth=1, min_samples_leaf=1, min_samples_split=5, n_estimators=10;, score=0.927 total time=   0.1s\n"
     ]
    },
    {
     "name": "stderr",
     "output_type": "stream",
     "text": [
      "C:\\Users\\jb5983on\\AppData\\Local\\anaconda3\\envs\\polars\\Lib\\site-packages\\sklearn\\base.py:1473: DataConversionWarning: A column-vector y was passed when a 1d array was expected. Please change the shape of y to (n_samples,), for example using ravel().\n",
      "  return fit_method(estimator, *args, **kwargs)\n"
     ]
    },
    {
     "name": "stdout",
     "output_type": "stream",
     "text": [
      "[CV 5/5] END class_weight=balanced, max_depth=1, min_samples_leaf=1, min_samples_split=5, n_estimators=10;, score=0.926 total time=   0.1s\n"
     ]
    },
    {
     "name": "stderr",
     "output_type": "stream",
     "text": [
      "C:\\Users\\jb5983on\\AppData\\Local\\anaconda3\\envs\\polars\\Lib\\site-packages\\sklearn\\base.py:1473: DataConversionWarning: A column-vector y was passed when a 1d array was expected. Please change the shape of y to (n_samples,), for example using ravel().\n",
      "  return fit_method(estimator, *args, **kwargs)\n"
     ]
    },
    {
     "name": "stdout",
     "output_type": "stream",
     "text": [
      "[CV 1/5] END class_weight=balanced, max_depth=1, min_samples_leaf=1, min_samples_split=5, n_estimators=100;, score=0.907 total time=   0.7s\n"
     ]
    },
    {
     "name": "stderr",
     "output_type": "stream",
     "text": [
      "C:\\Users\\jb5983on\\AppData\\Local\\anaconda3\\envs\\polars\\Lib\\site-packages\\sklearn\\base.py:1473: DataConversionWarning: A column-vector y was passed when a 1d array was expected. Please change the shape of y to (n_samples,), for example using ravel().\n",
      "  return fit_method(estimator, *args, **kwargs)\n"
     ]
    },
    {
     "name": "stdout",
     "output_type": "stream",
     "text": [
      "[CV 2/5] END class_weight=balanced, max_depth=1, min_samples_leaf=1, min_samples_split=5, n_estimators=100;, score=0.916 total time=   0.9s\n"
     ]
    },
    {
     "name": "stderr",
     "output_type": "stream",
     "text": [
      "C:\\Users\\jb5983on\\AppData\\Local\\anaconda3\\envs\\polars\\Lib\\site-packages\\sklearn\\base.py:1473: DataConversionWarning: A column-vector y was passed when a 1d array was expected. Please change the shape of y to (n_samples,), for example using ravel().\n",
      "  return fit_method(estimator, *args, **kwargs)\n"
     ]
    },
    {
     "name": "stdout",
     "output_type": "stream",
     "text": [
      "[CV 3/5] END class_weight=balanced, max_depth=1, min_samples_leaf=1, min_samples_split=5, n_estimators=100;, score=0.921 total time=   0.7s\n"
     ]
    },
    {
     "name": "stderr",
     "output_type": "stream",
     "text": [
      "C:\\Users\\jb5983on\\AppData\\Local\\anaconda3\\envs\\polars\\Lib\\site-packages\\sklearn\\base.py:1473: DataConversionWarning: A column-vector y was passed when a 1d array was expected. Please change the shape of y to (n_samples,), for example using ravel().\n",
      "  return fit_method(estimator, *args, **kwargs)\n"
     ]
    },
    {
     "name": "stdout",
     "output_type": "stream",
     "text": [
      "[CV 4/5] END class_weight=balanced, max_depth=1, min_samples_leaf=1, min_samples_split=5, n_estimators=100;, score=0.934 total time=   0.8s\n"
     ]
    },
    {
     "name": "stderr",
     "output_type": "stream",
     "text": [
      "C:\\Users\\jb5983on\\AppData\\Local\\anaconda3\\envs\\polars\\Lib\\site-packages\\sklearn\\base.py:1473: DataConversionWarning: A column-vector y was passed when a 1d array was expected. Please change the shape of y to (n_samples,), for example using ravel().\n",
      "  return fit_method(estimator, *args, **kwargs)\n"
     ]
    },
    {
     "name": "stdout",
     "output_type": "stream",
     "text": [
      "[CV 5/5] END class_weight=balanced, max_depth=1, min_samples_leaf=1, min_samples_split=5, n_estimators=100;, score=0.926 total time=   0.8s\n",
      "[CV 1/5] END class_weight=balanced, max_depth=1, min_samples_leaf=1, min_samples_split=10, n_estimators=10;, score=0.907 total time=   0.1s\n"
     ]
    },
    {
     "name": "stderr",
     "output_type": "stream",
     "text": [
      "C:\\Users\\jb5983on\\AppData\\Local\\anaconda3\\envs\\polars\\Lib\\site-packages\\sklearn\\base.py:1473: DataConversionWarning: A column-vector y was passed when a 1d array was expected. Please change the shape of y to (n_samples,), for example using ravel().\n",
      "  return fit_method(estimator, *args, **kwargs)\n",
      "C:\\Users\\jb5983on\\AppData\\Local\\anaconda3\\envs\\polars\\Lib\\site-packages\\sklearn\\base.py:1473: DataConversionWarning: A column-vector y was passed when a 1d array was expected. Please change the shape of y to (n_samples,), for example using ravel().\n",
      "  return fit_method(estimator, *args, **kwargs)\n"
     ]
    },
    {
     "name": "stdout",
     "output_type": "stream",
     "text": [
      "[CV 2/5] END class_weight=balanced, max_depth=1, min_samples_leaf=1, min_samples_split=10, n_estimators=10;, score=0.916 total time=   0.1s\n",
      "[CV 3/5] END class_weight=balanced, max_depth=1, min_samples_leaf=1, min_samples_split=10, n_estimators=10;, score=0.930 total time=   0.1s\n"
     ]
    },
    {
     "name": "stderr",
     "output_type": "stream",
     "text": [
      "C:\\Users\\jb5983on\\AppData\\Local\\anaconda3\\envs\\polars\\Lib\\site-packages\\sklearn\\base.py:1473: DataConversionWarning: A column-vector y was passed when a 1d array was expected. Please change the shape of y to (n_samples,), for example using ravel().\n",
      "  return fit_method(estimator, *args, **kwargs)\n",
      "C:\\Users\\jb5983on\\AppData\\Local\\anaconda3\\envs\\polars\\Lib\\site-packages\\sklearn\\base.py:1473: DataConversionWarning: A column-vector y was passed when a 1d array was expected. Please change the shape of y to (n_samples,), for example using ravel().\n",
      "  return fit_method(estimator, *args, **kwargs)\n",
      "C:\\Users\\jb5983on\\AppData\\Local\\anaconda3\\envs\\polars\\Lib\\site-packages\\sklearn\\base.py:1473: DataConversionWarning: A column-vector y was passed when a 1d array was expected. Please change the shape of y to (n_samples,), for example using ravel().\n",
      "  return fit_method(estimator, *args, **kwargs)\n"
     ]
    },
    {
     "name": "stdout",
     "output_type": "stream",
     "text": [
      "[CV 4/5] END class_weight=balanced, max_depth=1, min_samples_leaf=1, min_samples_split=10, n_estimators=10;, score=0.927 total time=   0.1s\n",
      "[CV 5/5] END class_weight=balanced, max_depth=1, min_samples_leaf=1, min_samples_split=10, n_estimators=10;, score=0.926 total time=   0.1s\n"
     ]
    },
    {
     "name": "stderr",
     "output_type": "stream",
     "text": [
      "C:\\Users\\jb5983on\\AppData\\Local\\anaconda3\\envs\\polars\\Lib\\site-packages\\sklearn\\base.py:1473: DataConversionWarning: A column-vector y was passed when a 1d array was expected. Please change the shape of y to (n_samples,), for example using ravel().\n",
      "  return fit_method(estimator, *args, **kwargs)\n"
     ]
    },
    {
     "name": "stdout",
     "output_type": "stream",
     "text": [
      "[CV 1/5] END class_weight=balanced, max_depth=1, min_samples_leaf=1, min_samples_split=10, n_estimators=100;, score=0.907 total time=   0.8s\n"
     ]
    },
    {
     "name": "stderr",
     "output_type": "stream",
     "text": [
      "C:\\Users\\jb5983on\\AppData\\Local\\anaconda3\\envs\\polars\\Lib\\site-packages\\sklearn\\base.py:1473: DataConversionWarning: A column-vector y was passed when a 1d array was expected. Please change the shape of y to (n_samples,), for example using ravel().\n",
      "  return fit_method(estimator, *args, **kwargs)\n"
     ]
    },
    {
     "name": "stdout",
     "output_type": "stream",
     "text": [
      "[CV 2/5] END class_weight=balanced, max_depth=1, min_samples_leaf=1, min_samples_split=10, n_estimators=100;, score=0.916 total time=   0.7s\n"
     ]
    },
    {
     "name": "stderr",
     "output_type": "stream",
     "text": [
      "C:\\Users\\jb5983on\\AppData\\Local\\anaconda3\\envs\\polars\\Lib\\site-packages\\sklearn\\base.py:1473: DataConversionWarning: A column-vector y was passed when a 1d array was expected. Please change the shape of y to (n_samples,), for example using ravel().\n",
      "  return fit_method(estimator, *args, **kwargs)\n"
     ]
    },
    {
     "name": "stdout",
     "output_type": "stream",
     "text": [
      "[CV 3/5] END class_weight=balanced, max_depth=1, min_samples_leaf=1, min_samples_split=10, n_estimators=100;, score=0.921 total time=   0.7s\n"
     ]
    },
    {
     "name": "stderr",
     "output_type": "stream",
     "text": [
      "C:\\Users\\jb5983on\\AppData\\Local\\anaconda3\\envs\\polars\\Lib\\site-packages\\sklearn\\base.py:1473: DataConversionWarning: A column-vector y was passed when a 1d array was expected. Please change the shape of y to (n_samples,), for example using ravel().\n",
      "  return fit_method(estimator, *args, **kwargs)\n"
     ]
    },
    {
     "name": "stdout",
     "output_type": "stream",
     "text": [
      "[CV 4/5] END class_weight=balanced, max_depth=1, min_samples_leaf=1, min_samples_split=10, n_estimators=100;, score=0.934 total time=   0.7s\n"
     ]
    },
    {
     "name": "stderr",
     "output_type": "stream",
     "text": [
      "C:\\Users\\jb5983on\\AppData\\Local\\anaconda3\\envs\\polars\\Lib\\site-packages\\sklearn\\base.py:1473: DataConversionWarning: A column-vector y was passed when a 1d array was expected. Please change the shape of y to (n_samples,), for example using ravel().\n",
      "  return fit_method(estimator, *args, **kwargs)\n"
     ]
    },
    {
     "name": "stdout",
     "output_type": "stream",
     "text": [
      "[CV 5/5] END class_weight=balanced, max_depth=1, min_samples_leaf=1, min_samples_split=10, n_estimators=100;, score=0.926 total time=   0.7s\n",
      "[CV 1/5] END class_weight=balanced, max_depth=1, min_samples_leaf=5, min_samples_split=1, n_estimators=10;, score=nan total time=   0.0s\n",
      "[CV 2/5] END class_weight=balanced, max_depth=1, min_samples_leaf=5, min_samples_split=1, n_estimators=10;, score=nan total time=   0.0s\n",
      "[CV 3/5] END class_weight=balanced, max_depth=1, min_samples_leaf=5, min_samples_split=1, n_estimators=10;, score=nan total time=   0.0s\n",
      "[CV 4/5] END class_weight=balanced, max_depth=1, min_samples_leaf=5, min_samples_split=1, n_estimators=10;, score=nan total time=   0.0s\n",
      "[CV 5/5] END class_weight=balanced, max_depth=1, min_samples_leaf=5, min_samples_split=1, n_estimators=10;, score=nan total time=   0.0s\n",
      "[CV 1/5] END class_weight=balanced, max_depth=1, min_samples_leaf=5, min_samples_split=1, n_estimators=100;, score=nan total time=   0.0s\n",
      "[CV 2/5] END class_weight=balanced, max_depth=1, min_samples_leaf=5, min_samples_split=1, n_estimators=100;, score=nan total time=   0.0s\n",
      "[CV 3/5] END class_weight=balanced, max_depth=1, min_samples_leaf=5, min_samples_split=1, n_estimators=100;, score=nan total time=   0.0s\n",
      "[CV 4/5] END class_weight=balanced, max_depth=1, min_samples_leaf=5, min_samples_split=1, n_estimators=100;, score=nan total time=   0.0s\n",
      "[CV 5/5] END class_weight=balanced, max_depth=1, min_samples_leaf=5, min_samples_split=1, n_estimators=100;, score=nan total time=   0.0s\n"
     ]
    },
    {
     "name": "stderr",
     "output_type": "stream",
     "text": [
      "C:\\Users\\jb5983on\\AppData\\Local\\anaconda3\\envs\\polars\\Lib\\site-packages\\sklearn\\base.py:1473: DataConversionWarning: A column-vector y was passed when a 1d array was expected. Please change the shape of y to (n_samples,), for example using ravel().\n",
      "  return fit_method(estimator, *args, **kwargs)\n"
     ]
    },
    {
     "name": "stdout",
     "output_type": "stream",
     "text": [
      "[CV 1/5] END class_weight=balanced, max_depth=1, min_samples_leaf=5, min_samples_split=5, n_estimators=10;, score=0.909 total time=   0.1s\n",
      "[CV 2/5] END class_weight=balanced, max_depth=1, min_samples_leaf=5, min_samples_split=5, n_estimators=10;, score=0.916 total time=   0.1s\n"
     ]
    },
    {
     "name": "stderr",
     "output_type": "stream",
     "text": [
      "C:\\Users\\jb5983on\\AppData\\Local\\anaconda3\\envs\\polars\\Lib\\site-packages\\sklearn\\base.py:1473: DataConversionWarning: A column-vector y was passed when a 1d array was expected. Please change the shape of y to (n_samples,), for example using ravel().\n",
      "  return fit_method(estimator, *args, **kwargs)\n",
      "C:\\Users\\jb5983on\\AppData\\Local\\anaconda3\\envs\\polars\\Lib\\site-packages\\sklearn\\base.py:1473: DataConversionWarning: A column-vector y was passed when a 1d array was expected. Please change the shape of y to (n_samples,), for example using ravel().\n",
      "  return fit_method(estimator, *args, **kwargs)\n"
     ]
    },
    {
     "name": "stdout",
     "output_type": "stream",
     "text": [
      "[CV 3/5] END class_weight=balanced, max_depth=1, min_samples_leaf=5, min_samples_split=5, n_estimators=10;, score=0.930 total time=   0.1s\n"
     ]
    },
    {
     "name": "stderr",
     "output_type": "stream",
     "text": [
      "C:\\Users\\jb5983on\\AppData\\Local\\anaconda3\\envs\\polars\\Lib\\site-packages\\sklearn\\base.py:1473: DataConversionWarning: A column-vector y was passed when a 1d array was expected. Please change the shape of y to (n_samples,), for example using ravel().\n",
      "  return fit_method(estimator, *args, **kwargs)\n"
     ]
    },
    {
     "name": "stdout",
     "output_type": "stream",
     "text": [
      "[CV 4/5] END class_weight=balanced, max_depth=1, min_samples_leaf=5, min_samples_split=5, n_estimators=10;, score=0.934 total time=   0.1s\n",
      "[CV 5/5] END class_weight=balanced, max_depth=1, min_samples_leaf=5, min_samples_split=5, n_estimators=10;, score=0.914 total time=   0.1s\n"
     ]
    },
    {
     "name": "stderr",
     "output_type": "stream",
     "text": [
      "C:\\Users\\jb5983on\\AppData\\Local\\anaconda3\\envs\\polars\\Lib\\site-packages\\sklearn\\base.py:1473: DataConversionWarning: A column-vector y was passed when a 1d array was expected. Please change the shape of y to (n_samples,), for example using ravel().\n",
      "  return fit_method(estimator, *args, **kwargs)\n",
      "C:\\Users\\jb5983on\\AppData\\Local\\anaconda3\\envs\\polars\\Lib\\site-packages\\sklearn\\base.py:1473: DataConversionWarning: A column-vector y was passed when a 1d array was expected. Please change the shape of y to (n_samples,), for example using ravel().\n",
      "  return fit_method(estimator, *args, **kwargs)\n"
     ]
    },
    {
     "name": "stdout",
     "output_type": "stream",
     "text": [
      "[CV 1/5] END class_weight=balanced, max_depth=1, min_samples_leaf=5, min_samples_split=5, n_estimators=100;, score=0.907 total time=   0.7s\n"
     ]
    },
    {
     "name": "stderr",
     "output_type": "stream",
     "text": [
      "C:\\Users\\jb5983on\\AppData\\Local\\anaconda3\\envs\\polars\\Lib\\site-packages\\sklearn\\base.py:1473: DataConversionWarning: A column-vector y was passed when a 1d array was expected. Please change the shape of y to (n_samples,), for example using ravel().\n",
      "  return fit_method(estimator, *args, **kwargs)\n"
     ]
    },
    {
     "name": "stdout",
     "output_type": "stream",
     "text": [
      "[CV 2/5] END class_weight=balanced, max_depth=1, min_samples_leaf=5, min_samples_split=5, n_estimators=100;, score=0.916 total time=   0.7s\n"
     ]
    },
    {
     "name": "stderr",
     "output_type": "stream",
     "text": [
      "C:\\Users\\jb5983on\\AppData\\Local\\anaconda3\\envs\\polars\\Lib\\site-packages\\sklearn\\base.py:1473: DataConversionWarning: A column-vector y was passed when a 1d array was expected. Please change the shape of y to (n_samples,), for example using ravel().\n",
      "  return fit_method(estimator, *args, **kwargs)\n"
     ]
    },
    {
     "name": "stdout",
     "output_type": "stream",
     "text": [
      "[CV 3/5] END class_weight=balanced, max_depth=1, min_samples_leaf=5, min_samples_split=5, n_estimators=100;, score=0.919 total time=   0.8s\n"
     ]
    },
    {
     "name": "stderr",
     "output_type": "stream",
     "text": [
      "C:\\Users\\jb5983on\\AppData\\Local\\anaconda3\\envs\\polars\\Lib\\site-packages\\sklearn\\base.py:1473: DataConversionWarning: A column-vector y was passed when a 1d array was expected. Please change the shape of y to (n_samples,), for example using ravel().\n",
      "  return fit_method(estimator, *args, **kwargs)\n"
     ]
    },
    {
     "name": "stdout",
     "output_type": "stream",
     "text": [
      "[CV 4/5] END class_weight=balanced, max_depth=1, min_samples_leaf=5, min_samples_split=5, n_estimators=100;, score=0.934 total time=   0.7s\n"
     ]
    },
    {
     "name": "stderr",
     "output_type": "stream",
     "text": [
      "C:\\Users\\jb5983on\\AppData\\Local\\anaconda3\\envs\\polars\\Lib\\site-packages\\sklearn\\base.py:1473: DataConversionWarning: A column-vector y was passed when a 1d array was expected. Please change the shape of y to (n_samples,), for example using ravel().\n",
      "  return fit_method(estimator, *args, **kwargs)\n"
     ]
    },
    {
     "name": "stdout",
     "output_type": "stream",
     "text": [
      "[CV 5/5] END class_weight=balanced, max_depth=1, min_samples_leaf=5, min_samples_split=5, n_estimators=100;, score=0.926 total time=   0.7s\n",
      "[CV 1/5] END class_weight=balanced, max_depth=1, min_samples_leaf=5, min_samples_split=10, n_estimators=10;, score=0.907 total time=   0.1s\n"
     ]
    },
    {
     "name": "stderr",
     "output_type": "stream",
     "text": [
      "C:\\Users\\jb5983on\\AppData\\Local\\anaconda3\\envs\\polars\\Lib\\site-packages\\sklearn\\base.py:1473: DataConversionWarning: A column-vector y was passed when a 1d array was expected. Please change the shape of y to (n_samples,), for example using ravel().\n",
      "  return fit_method(estimator, *args, **kwargs)\n",
      "C:\\Users\\jb5983on\\AppData\\Local\\anaconda3\\envs\\polars\\Lib\\site-packages\\sklearn\\base.py:1473: DataConversionWarning: A column-vector y was passed when a 1d array was expected. Please change the shape of y to (n_samples,), for example using ravel().\n",
      "  return fit_method(estimator, *args, **kwargs)\n"
     ]
    },
    {
     "name": "stdout",
     "output_type": "stream",
     "text": [
      "[CV 2/5] END class_weight=balanced, max_depth=1, min_samples_leaf=5, min_samples_split=10, n_estimators=10;, score=0.916 total time=   0.1s\n",
      "[CV 3/5] END class_weight=balanced, max_depth=1, min_samples_leaf=5, min_samples_split=10, n_estimators=10;, score=0.921 total time=   0.1s\n"
     ]
    },
    {
     "name": "stderr",
     "output_type": "stream",
     "text": [
      "C:\\Users\\jb5983on\\AppData\\Local\\anaconda3\\envs\\polars\\Lib\\site-packages\\sklearn\\base.py:1473: DataConversionWarning: A column-vector y was passed when a 1d array was expected. Please change the shape of y to (n_samples,), for example using ravel().\n",
      "  return fit_method(estimator, *args, **kwargs)\n",
      "C:\\Users\\jb5983on\\AppData\\Local\\anaconda3\\envs\\polars\\Lib\\site-packages\\sklearn\\base.py:1473: DataConversionWarning: A column-vector y was passed when a 1d array was expected. Please change the shape of y to (n_samples,), for example using ravel().\n",
      "  return fit_method(estimator, *args, **kwargs)\n"
     ]
    },
    {
     "name": "stdout",
     "output_type": "stream",
     "text": [
      "[CV 4/5] END class_weight=balanced, max_depth=1, min_samples_leaf=5, min_samples_split=10, n_estimators=10;, score=0.927 total time=   0.1s\n",
      "[CV 5/5] END class_weight=balanced, max_depth=1, min_samples_leaf=5, min_samples_split=10, n_estimators=10;, score=0.926 total time=   0.1s\n"
     ]
    },
    {
     "name": "stderr",
     "output_type": "stream",
     "text": [
      "C:\\Users\\jb5983on\\AppData\\Local\\anaconda3\\envs\\polars\\Lib\\site-packages\\sklearn\\base.py:1473: DataConversionWarning: A column-vector y was passed when a 1d array was expected. Please change the shape of y to (n_samples,), for example using ravel().\n",
      "  return fit_method(estimator, *args, **kwargs)\n",
      "C:\\Users\\jb5983on\\AppData\\Local\\anaconda3\\envs\\polars\\Lib\\site-packages\\sklearn\\base.py:1473: DataConversionWarning: A column-vector y was passed when a 1d array was expected. Please change the shape of y to (n_samples,), for example using ravel().\n",
      "  return fit_method(estimator, *args, **kwargs)\n"
     ]
    },
    {
     "name": "stdout",
     "output_type": "stream",
     "text": [
      "[CV 1/5] END class_weight=balanced, max_depth=1, min_samples_leaf=5, min_samples_split=10, n_estimators=100;, score=0.907 total time=   0.8s\n"
     ]
    },
    {
     "name": "stderr",
     "output_type": "stream",
     "text": [
      "C:\\Users\\jb5983on\\AppData\\Local\\anaconda3\\envs\\polars\\Lib\\site-packages\\sklearn\\base.py:1473: DataConversionWarning: A column-vector y was passed when a 1d array was expected. Please change the shape of y to (n_samples,), for example using ravel().\n",
      "  return fit_method(estimator, *args, **kwargs)\n"
     ]
    },
    {
     "name": "stdout",
     "output_type": "stream",
     "text": [
      "[CV 2/5] END class_weight=balanced, max_depth=1, min_samples_leaf=5, min_samples_split=10, n_estimators=100;, score=0.920 total time=   0.6s\n"
     ]
    },
    {
     "name": "stderr",
     "output_type": "stream",
     "text": [
      "C:\\Users\\jb5983on\\AppData\\Local\\anaconda3\\envs\\polars\\Lib\\site-packages\\sklearn\\base.py:1473: DataConversionWarning: A column-vector y was passed when a 1d array was expected. Please change the shape of y to (n_samples,), for example using ravel().\n",
      "  return fit_method(estimator, *args, **kwargs)\n"
     ]
    },
    {
     "name": "stdout",
     "output_type": "stream",
     "text": [
      "[CV 3/5] END class_weight=balanced, max_depth=1, min_samples_leaf=5, min_samples_split=10, n_estimators=100;, score=0.919 total time=   0.7s\n"
     ]
    },
    {
     "name": "stderr",
     "output_type": "stream",
     "text": [
      "C:\\Users\\jb5983on\\AppData\\Local\\anaconda3\\envs\\polars\\Lib\\site-packages\\sklearn\\base.py:1473: DataConversionWarning: A column-vector y was passed when a 1d array was expected. Please change the shape of y to (n_samples,), for example using ravel().\n",
      "  return fit_method(estimator, *args, **kwargs)\n"
     ]
    },
    {
     "name": "stdout",
     "output_type": "stream",
     "text": [
      "[CV 4/5] END class_weight=balanced, max_depth=1, min_samples_leaf=5, min_samples_split=10, n_estimators=100;, score=0.934 total time=   0.8s\n"
     ]
    },
    {
     "name": "stderr",
     "output_type": "stream",
     "text": [
      "C:\\Users\\jb5983on\\AppData\\Local\\anaconda3\\envs\\polars\\Lib\\site-packages\\sklearn\\base.py:1473: DataConversionWarning: A column-vector y was passed when a 1d array was expected. Please change the shape of y to (n_samples,), for example using ravel().\n",
      "  return fit_method(estimator, *args, **kwargs)\n"
     ]
    },
    {
     "name": "stdout",
     "output_type": "stream",
     "text": [
      "[CV 5/5] END class_weight=balanced, max_depth=1, min_samples_leaf=5, min_samples_split=10, n_estimators=100;, score=0.926 total time=   0.8s\n",
      "[CV 1/5] END class_weight=balanced, max_depth=1, min_samples_leaf=10, min_samples_split=1, n_estimators=10;, score=nan total time=   0.0s\n",
      "[CV 2/5] END class_weight=balanced, max_depth=1, min_samples_leaf=10, min_samples_split=1, n_estimators=10;, score=nan total time=   0.0s\n",
      "[CV 3/5] END class_weight=balanced, max_depth=1, min_samples_leaf=10, min_samples_split=1, n_estimators=10;, score=nan total time=   0.0s\n",
      "[CV 4/5] END class_weight=balanced, max_depth=1, min_samples_leaf=10, min_samples_split=1, n_estimators=10;, score=nan total time=   0.0s\n",
      "[CV 5/5] END class_weight=balanced, max_depth=1, min_samples_leaf=10, min_samples_split=1, n_estimators=10;, score=nan total time=   0.0s\n",
      "[CV 1/5] END class_weight=balanced, max_depth=1, min_samples_leaf=10, min_samples_split=1, n_estimators=100;, score=nan total time=   0.0s\n",
      "[CV 2/5] END class_weight=balanced, max_depth=1, min_samples_leaf=10, min_samples_split=1, n_estimators=100;, score=nan total time=   0.0s\n",
      "[CV 3/5] END class_weight=balanced, max_depth=1, min_samples_leaf=10, min_samples_split=1, n_estimators=100;, score=nan total time=   0.0s\n",
      "[CV 4/5] END class_weight=balanced, max_depth=1, min_samples_leaf=10, min_samples_split=1, n_estimators=100;, score=nan total time=   0.0s\n",
      "[CV 5/5] END class_weight=balanced, max_depth=1, min_samples_leaf=10, min_samples_split=1, n_estimators=100;, score=nan total time=   0.0s\n"
     ]
    },
    {
     "name": "stderr",
     "output_type": "stream",
     "text": [
      "C:\\Users\\jb5983on\\AppData\\Local\\anaconda3\\envs\\polars\\Lib\\site-packages\\sklearn\\base.py:1473: DataConversionWarning: A column-vector y was passed when a 1d array was expected. Please change the shape of y to (n_samples,), for example using ravel().\n",
      "  return fit_method(estimator, *args, **kwargs)\n",
      "C:\\Users\\jb5983on\\AppData\\Local\\anaconda3\\envs\\polars\\Lib\\site-packages\\sklearn\\base.py:1473: DataConversionWarning: A column-vector y was passed when a 1d array was expected. Please change the shape of y to (n_samples,), for example using ravel().\n",
      "  return fit_method(estimator, *args, **kwargs)\n"
     ]
    },
    {
     "name": "stdout",
     "output_type": "stream",
     "text": [
      "[CV 1/5] END class_weight=balanced, max_depth=1, min_samples_leaf=10, min_samples_split=5, n_estimators=10;, score=0.907 total time=   0.1s\n",
      "[CV 2/5] END class_weight=balanced, max_depth=1, min_samples_leaf=10, min_samples_split=5, n_estimators=10;, score=0.916 total time=   0.1s\n"
     ]
    },
    {
     "name": "stderr",
     "output_type": "stream",
     "text": [
      "C:\\Users\\jb5983on\\AppData\\Local\\anaconda3\\envs\\polars\\Lib\\site-packages\\sklearn\\base.py:1473: DataConversionWarning: A column-vector y was passed when a 1d array was expected. Please change the shape of y to (n_samples,), for example using ravel().\n",
      "  return fit_method(estimator, *args, **kwargs)\n",
      "C:\\Users\\jb5983on\\AppData\\Local\\anaconda3\\envs\\polars\\Lib\\site-packages\\sklearn\\base.py:1473: DataConversionWarning: A column-vector y was passed when a 1d array was expected. Please change the shape of y to (n_samples,), for example using ravel().\n",
      "  return fit_method(estimator, *args, **kwargs)\n"
     ]
    },
    {
     "name": "stdout",
     "output_type": "stream",
     "text": [
      "[CV 3/5] END class_weight=balanced, max_depth=1, min_samples_leaf=10, min_samples_split=5, n_estimators=10;, score=0.919 total time=   0.1s\n",
      "[CV 4/5] END class_weight=balanced, max_depth=1, min_samples_leaf=10, min_samples_split=5, n_estimators=10;, score=0.934 total time=   0.1s\n"
     ]
    },
    {
     "name": "stderr",
     "output_type": "stream",
     "text": [
      "C:\\Users\\jb5983on\\AppData\\Local\\anaconda3\\envs\\polars\\Lib\\site-packages\\sklearn\\base.py:1473: DataConversionWarning: A column-vector y was passed when a 1d array was expected. Please change the shape of y to (n_samples,), for example using ravel().\n",
      "  return fit_method(estimator, *args, **kwargs)\n",
      "C:\\Users\\jb5983on\\AppData\\Local\\anaconda3\\envs\\polars\\Lib\\site-packages\\sklearn\\base.py:1473: DataConversionWarning: A column-vector y was passed when a 1d array was expected. Please change the shape of y to (n_samples,), for example using ravel().\n",
      "  return fit_method(estimator, *args, **kwargs)\n"
     ]
    },
    {
     "name": "stdout",
     "output_type": "stream",
     "text": [
      "[CV 5/5] END class_weight=balanced, max_depth=1, min_samples_leaf=10, min_samples_split=5, n_estimators=10;, score=0.926 total time=   0.1s\n",
      "[CV 1/5] END class_weight=balanced, max_depth=1, min_samples_leaf=10, min_samples_split=5, n_estimators=100;, score=0.907 total time=   0.8s\n"
     ]
    },
    {
     "name": "stderr",
     "output_type": "stream",
     "text": [
      "C:\\Users\\jb5983on\\AppData\\Local\\anaconda3\\envs\\polars\\Lib\\site-packages\\sklearn\\base.py:1473: DataConversionWarning: A column-vector y was passed when a 1d array was expected. Please change the shape of y to (n_samples,), for example using ravel().\n",
      "  return fit_method(estimator, *args, **kwargs)\n"
     ]
    },
    {
     "name": "stdout",
     "output_type": "stream",
     "text": [
      "[CV 2/5] END class_weight=balanced, max_depth=1, min_samples_leaf=10, min_samples_split=5, n_estimators=100;, score=0.916 total time=   0.8s\n"
     ]
    },
    {
     "name": "stderr",
     "output_type": "stream",
     "text": [
      "C:\\Users\\jb5983on\\AppData\\Local\\anaconda3\\envs\\polars\\Lib\\site-packages\\sklearn\\base.py:1473: DataConversionWarning: A column-vector y was passed when a 1d array was expected. Please change the shape of y to (n_samples,), for example using ravel().\n",
      "  return fit_method(estimator, *args, **kwargs)\n"
     ]
    },
    {
     "name": "stdout",
     "output_type": "stream",
     "text": [
      "[CV 3/5] END class_weight=balanced, max_depth=1, min_samples_leaf=10, min_samples_split=5, n_estimators=100;, score=0.921 total time=   0.8s\n"
     ]
    },
    {
     "name": "stderr",
     "output_type": "stream",
     "text": [
      "C:\\Users\\jb5983on\\AppData\\Local\\anaconda3\\envs\\polars\\Lib\\site-packages\\sklearn\\base.py:1473: DataConversionWarning: A column-vector y was passed when a 1d array was expected. Please change the shape of y to (n_samples,), for example using ravel().\n",
      "  return fit_method(estimator, *args, **kwargs)\n"
     ]
    },
    {
     "name": "stdout",
     "output_type": "stream",
     "text": [
      "[CV 4/5] END class_weight=balanced, max_depth=1, min_samples_leaf=10, min_samples_split=5, n_estimators=100;, score=0.934 total time=   0.8s\n"
     ]
    },
    {
     "name": "stderr",
     "output_type": "stream",
     "text": [
      "C:\\Users\\jb5983on\\AppData\\Local\\anaconda3\\envs\\polars\\Lib\\site-packages\\sklearn\\base.py:1473: DataConversionWarning: A column-vector y was passed when a 1d array was expected. Please change the shape of y to (n_samples,), for example using ravel().\n",
      "  return fit_method(estimator, *args, **kwargs)\n"
     ]
    },
    {
     "name": "stdout",
     "output_type": "stream",
     "text": [
      "[CV 5/5] END class_weight=balanced, max_depth=1, min_samples_leaf=10, min_samples_split=5, n_estimators=100;, score=0.926 total time=   0.8s\n",
      "[CV 1/5] END class_weight=balanced, max_depth=1, min_samples_leaf=10, min_samples_split=10, n_estimators=10;, score=0.907 total time=   0.1s\n"
     ]
    },
    {
     "name": "stderr",
     "output_type": "stream",
     "text": [
      "C:\\Users\\jb5983on\\AppData\\Local\\anaconda3\\envs\\polars\\Lib\\site-packages\\sklearn\\base.py:1473: DataConversionWarning: A column-vector y was passed when a 1d array was expected. Please change the shape of y to (n_samples,), for example using ravel().\n",
      "  return fit_method(estimator, *args, **kwargs)\n",
      "C:\\Users\\jb5983on\\AppData\\Local\\anaconda3\\envs\\polars\\Lib\\site-packages\\sklearn\\base.py:1473: DataConversionWarning: A column-vector y was passed when a 1d array was expected. Please change the shape of y to (n_samples,), for example using ravel().\n",
      "  return fit_method(estimator, *args, **kwargs)\n",
      "C:\\Users\\jb5983on\\AppData\\Local\\anaconda3\\envs\\polars\\Lib\\site-packages\\sklearn\\base.py:1473: DataConversionWarning: A column-vector y was passed when a 1d array was expected. Please change the shape of y to (n_samples,), for example using ravel().\n",
      "  return fit_method(estimator, *args, **kwargs)\n"
     ]
    },
    {
     "name": "stdout",
     "output_type": "stream",
     "text": [
      "[CV 2/5] END class_weight=balanced, max_depth=1, min_samples_leaf=10, min_samples_split=10, n_estimators=10;, score=0.916 total time=   0.1s\n",
      "[CV 3/5] END class_weight=balanced, max_depth=1, min_samples_leaf=10, min_samples_split=10, n_estimators=10;, score=0.919 total time=   0.1s\n"
     ]
    },
    {
     "name": "stderr",
     "output_type": "stream",
     "text": [
      "C:\\Users\\jb5983on\\AppData\\Local\\anaconda3\\envs\\polars\\Lib\\site-packages\\sklearn\\base.py:1473: DataConversionWarning: A column-vector y was passed when a 1d array was expected. Please change the shape of y to (n_samples,), for example using ravel().\n",
      "  return fit_method(estimator, *args, **kwargs)\n",
      "C:\\Users\\jb5983on\\AppData\\Local\\anaconda3\\envs\\polars\\Lib\\site-packages\\sklearn\\base.py:1473: DataConversionWarning: A column-vector y was passed when a 1d array was expected. Please change the shape of y to (n_samples,), for example using ravel().\n",
      "  return fit_method(estimator, *args, **kwargs)\n"
     ]
    },
    {
     "name": "stdout",
     "output_type": "stream",
     "text": [
      "[CV 4/5] END class_weight=balanced, max_depth=1, min_samples_leaf=10, min_samples_split=10, n_estimators=10;, score=0.934 total time=   0.1s\n",
      "[CV 5/5] END class_weight=balanced, max_depth=1, min_samples_leaf=10, min_samples_split=10, n_estimators=10;, score=0.926 total time=   0.1s\n"
     ]
    },
    {
     "name": "stderr",
     "output_type": "stream",
     "text": [
      "C:\\Users\\jb5983on\\AppData\\Local\\anaconda3\\envs\\polars\\Lib\\site-packages\\sklearn\\base.py:1473: DataConversionWarning: A column-vector y was passed when a 1d array was expected. Please change the shape of y to (n_samples,), for example using ravel().\n",
      "  return fit_method(estimator, *args, **kwargs)\n"
     ]
    },
    {
     "name": "stdout",
     "output_type": "stream",
     "text": [
      "[CV 1/5] END class_weight=balanced, max_depth=1, min_samples_leaf=10, min_samples_split=10, n_estimators=100;, score=0.907 total time=   0.8s\n"
     ]
    },
    {
     "name": "stderr",
     "output_type": "stream",
     "text": [
      "C:\\Users\\jb5983on\\AppData\\Local\\anaconda3\\envs\\polars\\Lib\\site-packages\\sklearn\\base.py:1473: DataConversionWarning: A column-vector y was passed when a 1d array was expected. Please change the shape of y to (n_samples,), for example using ravel().\n",
      "  return fit_method(estimator, *args, **kwargs)\n"
     ]
    },
    {
     "name": "stdout",
     "output_type": "stream",
     "text": [
      "[CV 2/5] END class_weight=balanced, max_depth=1, min_samples_leaf=10, min_samples_split=10, n_estimators=100;, score=0.916 total time=   0.8s\n"
     ]
    },
    {
     "name": "stderr",
     "output_type": "stream",
     "text": [
      "C:\\Users\\jb5983on\\AppData\\Local\\anaconda3\\envs\\polars\\Lib\\site-packages\\sklearn\\base.py:1473: DataConversionWarning: A column-vector y was passed when a 1d array was expected. Please change the shape of y to (n_samples,), for example using ravel().\n",
      "  return fit_method(estimator, *args, **kwargs)\n"
     ]
    },
    {
     "name": "stdout",
     "output_type": "stream",
     "text": [
      "[CV 3/5] END class_weight=balanced, max_depth=1, min_samples_leaf=10, min_samples_split=10, n_estimators=100;, score=0.921 total time=   0.8s\n"
     ]
    },
    {
     "name": "stderr",
     "output_type": "stream",
     "text": [
      "C:\\Users\\jb5983on\\AppData\\Local\\anaconda3\\envs\\polars\\Lib\\site-packages\\sklearn\\base.py:1473: DataConversionWarning: A column-vector y was passed when a 1d array was expected. Please change the shape of y to (n_samples,), for example using ravel().\n",
      "  return fit_method(estimator, *args, **kwargs)\n"
     ]
    },
    {
     "name": "stdout",
     "output_type": "stream",
     "text": [
      "[CV 4/5] END class_weight=balanced, max_depth=1, min_samples_leaf=10, min_samples_split=10, n_estimators=100;, score=0.934 total time=   0.9s\n"
     ]
    },
    {
     "name": "stderr",
     "output_type": "stream",
     "text": [
      "C:\\Users\\jb5983on\\AppData\\Local\\anaconda3\\envs\\polars\\Lib\\site-packages\\sklearn\\base.py:1473: DataConversionWarning: A column-vector y was passed when a 1d array was expected. Please change the shape of y to (n_samples,), for example using ravel().\n",
      "  return fit_method(estimator, *args, **kwargs)\n"
     ]
    },
    {
     "name": "stdout",
     "output_type": "stream",
     "text": [
      "[CV 5/5] END class_weight=balanced, max_depth=1, min_samples_leaf=10, min_samples_split=10, n_estimators=100;, score=0.926 total time=   0.7s\n",
      "[CV 1/5] END class_weight=balanced, max_depth=2, min_samples_leaf=1, min_samples_split=1, n_estimators=10;, score=nan total time=   0.0s\n",
      "[CV 2/5] END class_weight=balanced, max_depth=2, min_samples_leaf=1, min_samples_split=1, n_estimators=10;, score=nan total time=   0.0s\n",
      "[CV 3/5] END class_weight=balanced, max_depth=2, min_samples_leaf=1, min_samples_split=1, n_estimators=10;, score=nan total time=   0.0s\n",
      "[CV 4/5] END class_weight=balanced, max_depth=2, min_samples_leaf=1, min_samples_split=1, n_estimators=10;, score=nan total time=   0.0s\n",
      "[CV 5/5] END class_weight=balanced, max_depth=2, min_samples_leaf=1, min_samples_split=1, n_estimators=10;, score=nan total time=   0.0s\n",
      "[CV 1/5] END class_weight=balanced, max_depth=2, min_samples_leaf=1, min_samples_split=1, n_estimators=100;, score=nan total time=   0.0s\n",
      "[CV 2/5] END class_weight=balanced, max_depth=2, min_samples_leaf=1, min_samples_split=1, n_estimators=100;, score=nan total time=   0.0s\n",
      "[CV 3/5] END class_weight=balanced, max_depth=2, min_samples_leaf=1, min_samples_split=1, n_estimators=100;, score=nan total time=   0.0s\n",
      "[CV 4/5] END class_weight=balanced, max_depth=2, min_samples_leaf=1, min_samples_split=1, n_estimators=100;, score=nan total time=   0.0s\n",
      "[CV 5/5] END class_weight=balanced, max_depth=2, min_samples_leaf=1, min_samples_split=1, n_estimators=100;, score=nan total time=   0.0s\n"
     ]
    },
    {
     "name": "stderr",
     "output_type": "stream",
     "text": [
      "C:\\Users\\jb5983on\\AppData\\Local\\anaconda3\\envs\\polars\\Lib\\site-packages\\sklearn\\base.py:1473: DataConversionWarning: A column-vector y was passed when a 1d array was expected. Please change the shape of y to (n_samples,), for example using ravel().\n",
      "  return fit_method(estimator, *args, **kwargs)\n",
      "C:\\Users\\jb5983on\\AppData\\Local\\anaconda3\\envs\\polars\\Lib\\site-packages\\sklearn\\base.py:1473: DataConversionWarning: A column-vector y was passed when a 1d array was expected. Please change the shape of y to (n_samples,), for example using ravel().\n",
      "  return fit_method(estimator, *args, **kwargs)\n"
     ]
    },
    {
     "name": "stdout",
     "output_type": "stream",
     "text": [
      "[CV 1/5] END class_weight=balanced, max_depth=2, min_samples_leaf=1, min_samples_split=5, n_estimators=10;, score=0.907 total time=   0.1s\n",
      "[CV 2/5] END class_weight=balanced, max_depth=2, min_samples_leaf=1, min_samples_split=5, n_estimators=10;, score=0.916 total time=   0.1s\n"
     ]
    },
    {
     "name": "stderr",
     "output_type": "stream",
     "text": [
      "C:\\Users\\jb5983on\\AppData\\Local\\anaconda3\\envs\\polars\\Lib\\site-packages\\sklearn\\base.py:1473: DataConversionWarning: A column-vector y was passed when a 1d array was expected. Please change the shape of y to (n_samples,), for example using ravel().\n",
      "  return fit_method(estimator, *args, **kwargs)\n"
     ]
    },
    {
     "name": "stdout",
     "output_type": "stream",
     "text": [
      "[CV 3/5] END class_weight=balanced, max_depth=2, min_samples_leaf=1, min_samples_split=5, n_estimators=10;, score=0.919 total time=   0.1s\n"
     ]
    },
    {
     "name": "stderr",
     "output_type": "stream",
     "text": [
      "C:\\Users\\jb5983on\\AppData\\Local\\anaconda3\\envs\\polars\\Lib\\site-packages\\sklearn\\base.py:1473: DataConversionWarning: A column-vector y was passed when a 1d array was expected. Please change the shape of y to (n_samples,), for example using ravel().\n",
      "  return fit_method(estimator, *args, **kwargs)\n"
     ]
    },
    {
     "name": "stdout",
     "output_type": "stream",
     "text": [
      "[CV 4/5] END class_weight=balanced, max_depth=2, min_samples_leaf=1, min_samples_split=5, n_estimators=10;, score=0.934 total time=   0.2s\n"
     ]
    },
    {
     "name": "stderr",
     "output_type": "stream",
     "text": [
      "C:\\Users\\jb5983on\\AppData\\Local\\anaconda3\\envs\\polars\\Lib\\site-packages\\sklearn\\base.py:1473: DataConversionWarning: A column-vector y was passed when a 1d array was expected. Please change the shape of y to (n_samples,), for example using ravel().\n",
      "  return fit_method(estimator, *args, **kwargs)\n"
     ]
    },
    {
     "name": "stdout",
     "output_type": "stream",
     "text": [
      "[CV 5/5] END class_weight=balanced, max_depth=2, min_samples_leaf=1, min_samples_split=5, n_estimators=10;, score=0.926 total time=   0.1s\n"
     ]
    },
    {
     "name": "stderr",
     "output_type": "stream",
     "text": [
      "C:\\Users\\jb5983on\\AppData\\Local\\anaconda3\\envs\\polars\\Lib\\site-packages\\sklearn\\base.py:1473: DataConversionWarning: A column-vector y was passed when a 1d array was expected. Please change the shape of y to (n_samples,), for example using ravel().\n",
      "  return fit_method(estimator, *args, **kwargs)\n"
     ]
    },
    {
     "name": "stdout",
     "output_type": "stream",
     "text": [
      "[CV 1/5] END class_weight=balanced, max_depth=2, min_samples_leaf=1, min_samples_split=5, n_estimators=100;, score=0.907 total time=   1.1s\n"
     ]
    },
    {
     "name": "stderr",
     "output_type": "stream",
     "text": [
      "C:\\Users\\jb5983on\\AppData\\Local\\anaconda3\\envs\\polars\\Lib\\site-packages\\sklearn\\base.py:1473: DataConversionWarning: A column-vector y was passed when a 1d array was expected. Please change the shape of y to (n_samples,), for example using ravel().\n",
      "  return fit_method(estimator, *args, **kwargs)\n"
     ]
    },
    {
     "name": "stdout",
     "output_type": "stream",
     "text": [
      "[CV 2/5] END class_weight=balanced, max_depth=2, min_samples_leaf=1, min_samples_split=5, n_estimators=100;, score=0.916 total time=   1.0s\n"
     ]
    },
    {
     "name": "stderr",
     "output_type": "stream",
     "text": [
      "C:\\Users\\jb5983on\\AppData\\Local\\anaconda3\\envs\\polars\\Lib\\site-packages\\sklearn\\base.py:1473: DataConversionWarning: A column-vector y was passed when a 1d array was expected. Please change the shape of y to (n_samples,), for example using ravel().\n",
      "  return fit_method(estimator, *args, **kwargs)\n"
     ]
    },
    {
     "name": "stdout",
     "output_type": "stream",
     "text": [
      "[CV 3/5] END class_weight=balanced, max_depth=2, min_samples_leaf=1, min_samples_split=5, n_estimators=100;, score=0.919 total time=   1.1s\n"
     ]
    },
    {
     "name": "stderr",
     "output_type": "stream",
     "text": [
      "C:\\Users\\jb5983on\\AppData\\Local\\anaconda3\\envs\\polars\\Lib\\site-packages\\sklearn\\base.py:1473: DataConversionWarning: A column-vector y was passed when a 1d array was expected. Please change the shape of y to (n_samples,), for example using ravel().\n",
      "  return fit_method(estimator, *args, **kwargs)\n"
     ]
    },
    {
     "name": "stdout",
     "output_type": "stream",
     "text": [
      "[CV 4/5] END class_weight=balanced, max_depth=2, min_samples_leaf=1, min_samples_split=5, n_estimators=100;, score=0.934 total time=   1.1s\n"
     ]
    },
    {
     "name": "stderr",
     "output_type": "stream",
     "text": [
      "C:\\Users\\jb5983on\\AppData\\Local\\anaconda3\\envs\\polars\\Lib\\site-packages\\sklearn\\base.py:1473: DataConversionWarning: A column-vector y was passed when a 1d array was expected. Please change the shape of y to (n_samples,), for example using ravel().\n",
      "  return fit_method(estimator, *args, **kwargs)\n"
     ]
    },
    {
     "name": "stdout",
     "output_type": "stream",
     "text": [
      "[CV 5/5] END class_weight=balanced, max_depth=2, min_samples_leaf=1, min_samples_split=5, n_estimators=100;, score=0.926 total time=   1.0s\n",
      "[CV 1/5] END class_weight=balanced, max_depth=2, min_samples_leaf=1, min_samples_split=10, n_estimators=10;, score=0.907 total time=   0.1s\n"
     ]
    },
    {
     "name": "stderr",
     "output_type": "stream",
     "text": [
      "C:\\Users\\jb5983on\\AppData\\Local\\anaconda3\\envs\\polars\\Lib\\site-packages\\sklearn\\base.py:1473: DataConversionWarning: A column-vector y was passed when a 1d array was expected. Please change the shape of y to (n_samples,), for example using ravel().\n",
      "  return fit_method(estimator, *args, **kwargs)\n",
      "C:\\Users\\jb5983on\\AppData\\Local\\anaconda3\\envs\\polars\\Lib\\site-packages\\sklearn\\base.py:1473: DataConversionWarning: A column-vector y was passed when a 1d array was expected. Please change the shape of y to (n_samples,), for example using ravel().\n",
      "  return fit_method(estimator, *args, **kwargs)\n"
     ]
    },
    {
     "name": "stdout",
     "output_type": "stream",
     "text": [
      "[CV 2/5] END class_weight=balanced, max_depth=2, min_samples_leaf=1, min_samples_split=10, n_estimators=10;, score=0.916 total time=   0.1s\n"
     ]
    },
    {
     "name": "stderr",
     "output_type": "stream",
     "text": [
      "C:\\Users\\jb5983on\\AppData\\Local\\anaconda3\\envs\\polars\\Lib\\site-packages\\sklearn\\base.py:1473: DataConversionWarning: A column-vector y was passed when a 1d array was expected. Please change the shape of y to (n_samples,), for example using ravel().\n",
      "  return fit_method(estimator, *args, **kwargs)\n"
     ]
    },
    {
     "name": "stdout",
     "output_type": "stream",
     "text": [
      "[CV 3/5] END class_weight=balanced, max_depth=2, min_samples_leaf=1, min_samples_split=10, n_estimators=10;, score=0.919 total time=   0.1s\n"
     ]
    },
    {
     "name": "stderr",
     "output_type": "stream",
     "text": [
      "C:\\Users\\jb5983on\\AppData\\Local\\anaconda3\\envs\\polars\\Lib\\site-packages\\sklearn\\base.py:1473: DataConversionWarning: A column-vector y was passed when a 1d array was expected. Please change the shape of y to (n_samples,), for example using ravel().\n",
      "  return fit_method(estimator, *args, **kwargs)\n",
      "C:\\Users\\jb5983on\\AppData\\Local\\anaconda3\\envs\\polars\\Lib\\site-packages\\sklearn\\base.py:1473: DataConversionWarning: A column-vector y was passed when a 1d array was expected. Please change the shape of y to (n_samples,), for example using ravel().\n",
      "  return fit_method(estimator, *args, **kwargs)\n"
     ]
    },
    {
     "name": "stdout",
     "output_type": "stream",
     "text": [
      "[CV 4/5] END class_weight=balanced, max_depth=2, min_samples_leaf=1, min_samples_split=10, n_estimators=10;, score=0.927 total time=   0.1s\n",
      "[CV 5/5] END class_weight=balanced, max_depth=2, min_samples_leaf=1, min_samples_split=10, n_estimators=10;, score=0.926 total time=   0.2s\n"
     ]
    },
    {
     "name": "stderr",
     "output_type": "stream",
     "text": [
      "C:\\Users\\jb5983on\\AppData\\Local\\anaconda3\\envs\\polars\\Lib\\site-packages\\sklearn\\base.py:1473: DataConversionWarning: A column-vector y was passed when a 1d array was expected. Please change the shape of y to (n_samples,), for example using ravel().\n",
      "  return fit_method(estimator, *args, **kwargs)\n"
     ]
    },
    {
     "name": "stdout",
     "output_type": "stream",
     "text": [
      "[CV 1/5] END class_weight=balanced, max_depth=2, min_samples_leaf=1, min_samples_split=10, n_estimators=100;, score=0.907 total time=   1.0s\n"
     ]
    },
    {
     "name": "stderr",
     "output_type": "stream",
     "text": [
      "C:\\Users\\jb5983on\\AppData\\Local\\anaconda3\\envs\\polars\\Lib\\site-packages\\sklearn\\base.py:1473: DataConversionWarning: A column-vector y was passed when a 1d array was expected. Please change the shape of y to (n_samples,), for example using ravel().\n",
      "  return fit_method(estimator, *args, **kwargs)\n"
     ]
    },
    {
     "name": "stdout",
     "output_type": "stream",
     "text": [
      "[CV 2/5] END class_weight=balanced, max_depth=2, min_samples_leaf=1, min_samples_split=10, n_estimators=100;, score=0.916 total time=   0.9s\n"
     ]
    },
    {
     "name": "stderr",
     "output_type": "stream",
     "text": [
      "C:\\Users\\jb5983on\\AppData\\Local\\anaconda3\\envs\\polars\\Lib\\site-packages\\sklearn\\base.py:1473: DataConversionWarning: A column-vector y was passed when a 1d array was expected. Please change the shape of y to (n_samples,), for example using ravel().\n",
      "  return fit_method(estimator, *args, **kwargs)\n"
     ]
    },
    {
     "name": "stdout",
     "output_type": "stream",
     "text": [
      "[CV 3/5] END class_weight=balanced, max_depth=2, min_samples_leaf=1, min_samples_split=10, n_estimators=100;, score=0.919 total time=   0.9s\n"
     ]
    },
    {
     "name": "stderr",
     "output_type": "stream",
     "text": [
      "C:\\Users\\jb5983on\\AppData\\Local\\anaconda3\\envs\\polars\\Lib\\site-packages\\sklearn\\base.py:1473: DataConversionWarning: A column-vector y was passed when a 1d array was expected. Please change the shape of y to (n_samples,), for example using ravel().\n",
      "  return fit_method(estimator, *args, **kwargs)\n"
     ]
    },
    {
     "name": "stdout",
     "output_type": "stream",
     "text": [
      "[CV 4/5] END class_weight=balanced, max_depth=2, min_samples_leaf=1, min_samples_split=10, n_estimators=100;, score=0.934 total time=   0.9s\n"
     ]
    },
    {
     "name": "stderr",
     "output_type": "stream",
     "text": [
      "C:\\Users\\jb5983on\\AppData\\Local\\anaconda3\\envs\\polars\\Lib\\site-packages\\sklearn\\base.py:1473: DataConversionWarning: A column-vector y was passed when a 1d array was expected. Please change the shape of y to (n_samples,), for example using ravel().\n",
      "  return fit_method(estimator, *args, **kwargs)\n"
     ]
    },
    {
     "name": "stdout",
     "output_type": "stream",
     "text": [
      "[CV 5/5] END class_weight=balanced, max_depth=2, min_samples_leaf=1, min_samples_split=10, n_estimators=100;, score=0.926 total time=   0.9s\n",
      "[CV 1/5] END class_weight=balanced, max_depth=2, min_samples_leaf=5, min_samples_split=1, n_estimators=10;, score=nan total time=   0.0s\n",
      "[CV 2/5] END class_weight=balanced, max_depth=2, min_samples_leaf=5, min_samples_split=1, n_estimators=10;, score=nan total time=   0.0s\n",
      "[CV 3/5] END class_weight=balanced, max_depth=2, min_samples_leaf=5, min_samples_split=1, n_estimators=10;, score=nan total time=   0.0s\n",
      "[CV 4/5] END class_weight=balanced, max_depth=2, min_samples_leaf=5, min_samples_split=1, n_estimators=10;, score=nan total time=   0.0s\n",
      "[CV 5/5] END class_weight=balanced, max_depth=2, min_samples_leaf=5, min_samples_split=1, n_estimators=10;, score=nan total time=   0.0s\n",
      "[CV 1/5] END class_weight=balanced, max_depth=2, min_samples_leaf=5, min_samples_split=1, n_estimators=100;, score=nan total time=   0.0s\n",
      "[CV 2/5] END class_weight=balanced, max_depth=2, min_samples_leaf=5, min_samples_split=1, n_estimators=100;, score=nan total time=   0.0s\n",
      "[CV 3/5] END class_weight=balanced, max_depth=2, min_samples_leaf=5, min_samples_split=1, n_estimators=100;, score=nan total time=   0.0s\n",
      "[CV 4/5] END class_weight=balanced, max_depth=2, min_samples_leaf=5, min_samples_split=1, n_estimators=100;, score=nan total time=   0.0s\n",
      "[CV 5/5] END class_weight=balanced, max_depth=2, min_samples_leaf=5, min_samples_split=1, n_estimators=100;, score=nan total time=   0.0s\n"
     ]
    },
    {
     "name": "stderr",
     "output_type": "stream",
     "text": [
      "C:\\Users\\jb5983on\\AppData\\Local\\anaconda3\\envs\\polars\\Lib\\site-packages\\sklearn\\base.py:1473: DataConversionWarning: A column-vector y was passed when a 1d array was expected. Please change the shape of y to (n_samples,), for example using ravel().\n",
      "  return fit_method(estimator, *args, **kwargs)\n",
      "C:\\Users\\jb5983on\\AppData\\Local\\anaconda3\\envs\\polars\\Lib\\site-packages\\sklearn\\base.py:1473: DataConversionWarning: A column-vector y was passed when a 1d array was expected. Please change the shape of y to (n_samples,), for example using ravel().\n",
      "  return fit_method(estimator, *args, **kwargs)\n"
     ]
    },
    {
     "name": "stdout",
     "output_type": "stream",
     "text": [
      "[CV 1/5] END class_weight=balanced, max_depth=2, min_samples_leaf=5, min_samples_split=5, n_estimators=10;, score=0.907 total time=   0.1s\n",
      "[CV 2/5] END class_weight=balanced, max_depth=2, min_samples_leaf=5, min_samples_split=5, n_estimators=10;, score=0.916 total time=   0.1s\n"
     ]
    },
    {
     "name": "stderr",
     "output_type": "stream",
     "text": [
      "C:\\Users\\jb5983on\\AppData\\Local\\anaconda3\\envs\\polars\\Lib\\site-packages\\sklearn\\base.py:1473: DataConversionWarning: A column-vector y was passed when a 1d array was expected. Please change the shape of y to (n_samples,), for example using ravel().\n",
      "  return fit_method(estimator, *args, **kwargs)\n",
      "C:\\Users\\jb5983on\\AppData\\Local\\anaconda3\\envs\\polars\\Lib\\site-packages\\sklearn\\base.py:1473: DataConversionWarning: A column-vector y was passed when a 1d array was expected. Please change the shape of y to (n_samples,), for example using ravel().\n",
      "  return fit_method(estimator, *args, **kwargs)\n"
     ]
    },
    {
     "name": "stdout",
     "output_type": "stream",
     "text": [
      "[CV 3/5] END class_weight=balanced, max_depth=2, min_samples_leaf=5, min_samples_split=5, n_estimators=10;, score=0.919 total time=   0.1s\n",
      "[CV 4/5] END class_weight=balanced, max_depth=2, min_samples_leaf=5, min_samples_split=5, n_estimators=10;, score=0.934 total time=   0.1s\n"
     ]
    },
    {
     "name": "stderr",
     "output_type": "stream",
     "text": [
      "C:\\Users\\jb5983on\\AppData\\Local\\anaconda3\\envs\\polars\\Lib\\site-packages\\sklearn\\base.py:1473: DataConversionWarning: A column-vector y was passed when a 1d array was expected. Please change the shape of y to (n_samples,), for example using ravel().\n",
      "  return fit_method(estimator, *args, **kwargs)\n"
     ]
    },
    {
     "name": "stdout",
     "output_type": "stream",
     "text": [
      "[CV 5/5] END class_weight=balanced, max_depth=2, min_samples_leaf=5, min_samples_split=5, n_estimators=10;, score=0.914 total time=   0.1s\n"
     ]
    },
    {
     "name": "stderr",
     "output_type": "stream",
     "text": [
      "C:\\Users\\jb5983on\\AppData\\Local\\anaconda3\\envs\\polars\\Lib\\site-packages\\sklearn\\base.py:1473: DataConversionWarning: A column-vector y was passed when a 1d array was expected. Please change the shape of y to (n_samples,), for example using ravel().\n",
      "  return fit_method(estimator, *args, **kwargs)\n"
     ]
    },
    {
     "name": "stdout",
     "output_type": "stream",
     "text": [
      "[CV 1/5] END class_weight=balanced, max_depth=2, min_samples_leaf=5, min_samples_split=5, n_estimators=100;, score=0.907 total time=   0.8s\n"
     ]
    },
    {
     "name": "stderr",
     "output_type": "stream",
     "text": [
      "C:\\Users\\jb5983on\\AppData\\Local\\anaconda3\\envs\\polars\\Lib\\site-packages\\sklearn\\base.py:1473: DataConversionWarning: A column-vector y was passed when a 1d array was expected. Please change the shape of y to (n_samples,), for example using ravel().\n",
      "  return fit_method(estimator, *args, **kwargs)\n"
     ]
    },
    {
     "name": "stdout",
     "output_type": "stream",
     "text": [
      "[CV 2/5] END class_weight=balanced, max_depth=2, min_samples_leaf=5, min_samples_split=5, n_estimators=100;, score=0.916 total time=   1.0s\n"
     ]
    },
    {
     "name": "stderr",
     "output_type": "stream",
     "text": [
      "C:\\Users\\jb5983on\\AppData\\Local\\anaconda3\\envs\\polars\\Lib\\site-packages\\sklearn\\base.py:1473: DataConversionWarning: A column-vector y was passed when a 1d array was expected. Please change the shape of y to (n_samples,), for example using ravel().\n",
      "  return fit_method(estimator, *args, **kwargs)\n"
     ]
    },
    {
     "name": "stdout",
     "output_type": "stream",
     "text": [
      "[CV 3/5] END class_weight=balanced, max_depth=2, min_samples_leaf=5, min_samples_split=5, n_estimators=100;, score=0.919 total time=   0.8s\n"
     ]
    },
    {
     "name": "stderr",
     "output_type": "stream",
     "text": [
      "C:\\Users\\jb5983on\\AppData\\Local\\anaconda3\\envs\\polars\\Lib\\site-packages\\sklearn\\base.py:1473: DataConversionWarning: A column-vector y was passed when a 1d array was expected. Please change the shape of y to (n_samples,), for example using ravel().\n",
      "  return fit_method(estimator, *args, **kwargs)\n"
     ]
    },
    {
     "name": "stdout",
     "output_type": "stream",
     "text": [
      "[CV 4/5] END class_weight=balanced, max_depth=2, min_samples_leaf=5, min_samples_split=5, n_estimators=100;, score=0.934 total time=   0.9s\n"
     ]
    },
    {
     "name": "stderr",
     "output_type": "stream",
     "text": [
      "C:\\Users\\jb5983on\\AppData\\Local\\anaconda3\\envs\\polars\\Lib\\site-packages\\sklearn\\base.py:1473: DataConversionWarning: A column-vector y was passed when a 1d array was expected. Please change the shape of y to (n_samples,), for example using ravel().\n",
      "  return fit_method(estimator, *args, **kwargs)\n"
     ]
    },
    {
     "name": "stdout",
     "output_type": "stream",
     "text": [
      "[CV 5/5] END class_weight=balanced, max_depth=2, min_samples_leaf=5, min_samples_split=5, n_estimators=100;, score=0.926 total time=   0.7s\n",
      "[CV 1/5] END class_weight=balanced, max_depth=2, min_samples_leaf=5, min_samples_split=10, n_estimators=10;, score=0.907 total time=   0.1s\n"
     ]
    },
    {
     "name": "stderr",
     "output_type": "stream",
     "text": [
      "C:\\Users\\jb5983on\\AppData\\Local\\anaconda3\\envs\\polars\\Lib\\site-packages\\sklearn\\base.py:1473: DataConversionWarning: A column-vector y was passed when a 1d array was expected. Please change the shape of y to (n_samples,), for example using ravel().\n",
      "  return fit_method(estimator, *args, **kwargs)\n",
      "C:\\Users\\jb5983on\\AppData\\Local\\anaconda3\\envs\\polars\\Lib\\site-packages\\sklearn\\base.py:1473: DataConversionWarning: A column-vector y was passed when a 1d array was expected. Please change the shape of y to (n_samples,), for example using ravel().\n",
      "  return fit_method(estimator, *args, **kwargs)\n"
     ]
    },
    {
     "name": "stdout",
     "output_type": "stream",
     "text": [
      "[CV 2/5] END class_weight=balanced, max_depth=2, min_samples_leaf=5, min_samples_split=10, n_estimators=10;, score=0.916 total time=   0.1s\n",
      "[CV 3/5] END class_weight=balanced, max_depth=2, min_samples_leaf=5, min_samples_split=10, n_estimators=10;, score=0.919 total time=   0.1s\n"
     ]
    },
    {
     "name": "stderr",
     "output_type": "stream",
     "text": [
      "C:\\Users\\jb5983on\\AppData\\Local\\anaconda3\\envs\\polars\\Lib\\site-packages\\sklearn\\base.py:1473: DataConversionWarning: A column-vector y was passed when a 1d array was expected. Please change the shape of y to (n_samples,), for example using ravel().\n",
      "  return fit_method(estimator, *args, **kwargs)\n",
      "C:\\Users\\jb5983on\\AppData\\Local\\anaconda3\\envs\\polars\\Lib\\site-packages\\sklearn\\base.py:1473: DataConversionWarning: A column-vector y was passed when a 1d array was expected. Please change the shape of y to (n_samples,), for example using ravel().\n",
      "  return fit_method(estimator, *args, **kwargs)\n",
      "C:\\Users\\jb5983on\\AppData\\Local\\anaconda3\\envs\\polars\\Lib\\site-packages\\sklearn\\base.py:1473: DataConversionWarning: A column-vector y was passed when a 1d array was expected. Please change the shape of y to (n_samples,), for example using ravel().\n",
      "  return fit_method(estimator, *args, **kwargs)\n"
     ]
    },
    {
     "name": "stdout",
     "output_type": "stream",
     "text": [
      "[CV 4/5] END class_weight=balanced, max_depth=2, min_samples_leaf=5, min_samples_split=10, n_estimators=10;, score=0.934 total time=   0.1s\n",
      "[CV 5/5] END class_weight=balanced, max_depth=2, min_samples_leaf=5, min_samples_split=10, n_estimators=10;, score=0.914 total time=   0.1s\n"
     ]
    },
    {
     "name": "stderr",
     "output_type": "stream",
     "text": [
      "C:\\Users\\jb5983on\\AppData\\Local\\anaconda3\\envs\\polars\\Lib\\site-packages\\sklearn\\base.py:1473: DataConversionWarning: A column-vector y was passed when a 1d array was expected. Please change the shape of y to (n_samples,), for example using ravel().\n",
      "  return fit_method(estimator, *args, **kwargs)\n"
     ]
    },
    {
     "name": "stdout",
     "output_type": "stream",
     "text": [
      "[CV 1/5] END class_weight=balanced, max_depth=2, min_samples_leaf=5, min_samples_split=10, n_estimators=100;, score=0.907 total time=   0.9s\n"
     ]
    },
    {
     "name": "stderr",
     "output_type": "stream",
     "text": [
      "C:\\Users\\jb5983on\\AppData\\Local\\anaconda3\\envs\\polars\\Lib\\site-packages\\sklearn\\base.py:1473: DataConversionWarning: A column-vector y was passed when a 1d array was expected. Please change the shape of y to (n_samples,), for example using ravel().\n",
      "  return fit_method(estimator, *args, **kwargs)\n"
     ]
    },
    {
     "name": "stdout",
     "output_type": "stream",
     "text": [
      "[CV 2/5] END class_weight=balanced, max_depth=2, min_samples_leaf=5, min_samples_split=10, n_estimators=100;, score=0.916 total time=   1.0s\n"
     ]
    },
    {
     "name": "stderr",
     "output_type": "stream",
     "text": [
      "C:\\Users\\jb5983on\\AppData\\Local\\anaconda3\\envs\\polars\\Lib\\site-packages\\sklearn\\base.py:1473: DataConversionWarning: A column-vector y was passed when a 1d array was expected. Please change the shape of y to (n_samples,), for example using ravel().\n",
      "  return fit_method(estimator, *args, **kwargs)\n"
     ]
    },
    {
     "name": "stdout",
     "output_type": "stream",
     "text": [
      "[CV 3/5] END class_weight=balanced, max_depth=2, min_samples_leaf=5, min_samples_split=10, n_estimators=100;, score=0.919 total time=   0.9s\n"
     ]
    },
    {
     "name": "stderr",
     "output_type": "stream",
     "text": [
      "C:\\Users\\jb5983on\\AppData\\Local\\anaconda3\\envs\\polars\\Lib\\site-packages\\sklearn\\base.py:1473: DataConversionWarning: A column-vector y was passed when a 1d array was expected. Please change the shape of y to (n_samples,), for example using ravel().\n",
      "  return fit_method(estimator, *args, **kwargs)\n"
     ]
    },
    {
     "name": "stdout",
     "output_type": "stream",
     "text": [
      "[CV 4/5] END class_weight=balanced, max_depth=2, min_samples_leaf=5, min_samples_split=10, n_estimators=100;, score=0.934 total time=   0.9s\n"
     ]
    },
    {
     "name": "stderr",
     "output_type": "stream",
     "text": [
      "C:\\Users\\jb5983on\\AppData\\Local\\anaconda3\\envs\\polars\\Lib\\site-packages\\sklearn\\base.py:1473: DataConversionWarning: A column-vector y was passed when a 1d array was expected. Please change the shape of y to (n_samples,), for example using ravel().\n",
      "  return fit_method(estimator, *args, **kwargs)\n"
     ]
    },
    {
     "name": "stdout",
     "output_type": "stream",
     "text": [
      "[CV 5/5] END class_weight=balanced, max_depth=2, min_samples_leaf=5, min_samples_split=10, n_estimators=100;, score=0.926 total time=   0.9s\n",
      "[CV 1/5] END class_weight=balanced, max_depth=2, min_samples_leaf=10, min_samples_split=1, n_estimators=10;, score=nan total time=   0.0s\n",
      "[CV 2/5] END class_weight=balanced, max_depth=2, min_samples_leaf=10, min_samples_split=1, n_estimators=10;, score=nan total time=   0.0s\n",
      "[CV 3/5] END class_weight=balanced, max_depth=2, min_samples_leaf=10, min_samples_split=1, n_estimators=10;, score=nan total time=   0.0s\n",
      "[CV 4/5] END class_weight=balanced, max_depth=2, min_samples_leaf=10, min_samples_split=1, n_estimators=10;, score=nan total time=   0.0s\n",
      "[CV 5/5] END class_weight=balanced, max_depth=2, min_samples_leaf=10, min_samples_split=1, n_estimators=10;, score=nan total time=   0.0s\n",
      "[CV 1/5] END class_weight=balanced, max_depth=2, min_samples_leaf=10, min_samples_split=1, n_estimators=100;, score=nan total time=   0.0s\n",
      "[CV 2/5] END class_weight=balanced, max_depth=2, min_samples_leaf=10, min_samples_split=1, n_estimators=100;, score=nan total time=   0.0s\n",
      "[CV 3/5] END class_weight=balanced, max_depth=2, min_samples_leaf=10, min_samples_split=1, n_estimators=100;, score=nan total time=   0.0s\n",
      "[CV 4/5] END class_weight=balanced, max_depth=2, min_samples_leaf=10, min_samples_split=1, n_estimators=100;, score=nan total time=   0.0s\n",
      "[CV 5/5] END class_weight=balanced, max_depth=2, min_samples_leaf=10, min_samples_split=1, n_estimators=100;, score=nan total time=   0.0s\n"
     ]
    },
    {
     "name": "stderr",
     "output_type": "stream",
     "text": [
      "C:\\Users\\jb5983on\\AppData\\Local\\anaconda3\\envs\\polars\\Lib\\site-packages\\sklearn\\base.py:1473: DataConversionWarning: A column-vector y was passed when a 1d array was expected. Please change the shape of y to (n_samples,), for example using ravel().\n",
      "  return fit_method(estimator, *args, **kwargs)\n"
     ]
    },
    {
     "name": "stdout",
     "output_type": "stream",
     "text": [
      "[CV 1/5] END class_weight=balanced, max_depth=2, min_samples_leaf=10, min_samples_split=5, n_estimators=10;, score=0.907 total time=   0.1s\n",
      "[CV 2/5] END class_weight=balanced, max_depth=2, min_samples_leaf=10, min_samples_split=5, n_estimators=10;, score=0.920 total time=   0.1s\n"
     ]
    },
    {
     "name": "stderr",
     "output_type": "stream",
     "text": [
      "C:\\Users\\jb5983on\\AppData\\Local\\anaconda3\\envs\\polars\\Lib\\site-packages\\sklearn\\base.py:1473: DataConversionWarning: A column-vector y was passed when a 1d array was expected. Please change the shape of y to (n_samples,), for example using ravel().\n",
      "  return fit_method(estimator, *args, **kwargs)\n",
      "C:\\Users\\jb5983on\\AppData\\Local\\anaconda3\\envs\\polars\\Lib\\site-packages\\sklearn\\base.py:1473: DataConversionWarning: A column-vector y was passed when a 1d array was expected. Please change the shape of y to (n_samples,), for example using ravel().\n",
      "  return fit_method(estimator, *args, **kwargs)\n"
     ]
    },
    {
     "name": "stdout",
     "output_type": "stream",
     "text": [
      "[CV 3/5] END class_weight=balanced, max_depth=2, min_samples_leaf=10, min_samples_split=5, n_estimators=10;, score=0.929 total time=   0.1s\n",
      "[CV 4/5] END class_weight=balanced, max_depth=2, min_samples_leaf=10, min_samples_split=5, n_estimators=10;, score=0.927 total time=   0.1s\n"
     ]
    },
    {
     "name": "stderr",
     "output_type": "stream",
     "text": [
      "C:\\Users\\jb5983on\\AppData\\Local\\anaconda3\\envs\\polars\\Lib\\site-packages\\sklearn\\base.py:1473: DataConversionWarning: A column-vector y was passed when a 1d array was expected. Please change the shape of y to (n_samples,), for example using ravel().\n",
      "  return fit_method(estimator, *args, **kwargs)\n",
      "C:\\Users\\jb5983on\\AppData\\Local\\anaconda3\\envs\\polars\\Lib\\site-packages\\sklearn\\base.py:1473: DataConversionWarning: A column-vector y was passed when a 1d array was expected. Please change the shape of y to (n_samples,), for example using ravel().\n",
      "  return fit_method(estimator, *args, **kwargs)\n"
     ]
    },
    {
     "name": "stdout",
     "output_type": "stream",
     "text": [
      "[CV 5/5] END class_weight=balanced, max_depth=2, min_samples_leaf=10, min_samples_split=5, n_estimators=10;, score=0.926 total time=   0.1s\n"
     ]
    },
    {
     "name": "stderr",
     "output_type": "stream",
     "text": [
      "C:\\Users\\jb5983on\\AppData\\Local\\anaconda3\\envs\\polars\\Lib\\site-packages\\sklearn\\base.py:1473: DataConversionWarning: A column-vector y was passed when a 1d array was expected. Please change the shape of y to (n_samples,), for example using ravel().\n",
      "  return fit_method(estimator, *args, **kwargs)\n"
     ]
    },
    {
     "name": "stdout",
     "output_type": "stream",
     "text": [
      "[CV 1/5] END class_weight=balanced, max_depth=2, min_samples_leaf=10, min_samples_split=5, n_estimators=100;, score=0.907 total time=   1.0s\n"
     ]
    },
    {
     "name": "stderr",
     "output_type": "stream",
     "text": [
      "C:\\Users\\jb5983on\\AppData\\Local\\anaconda3\\envs\\polars\\Lib\\site-packages\\sklearn\\base.py:1473: DataConversionWarning: A column-vector y was passed when a 1d array was expected. Please change the shape of y to (n_samples,), for example using ravel().\n",
      "  return fit_method(estimator, *args, **kwargs)\n"
     ]
    },
    {
     "name": "stdout",
     "output_type": "stream",
     "text": [
      "[CV 2/5] END class_weight=balanced, max_depth=2, min_samples_leaf=10, min_samples_split=5, n_estimators=100;, score=0.916 total time=   0.9s\n"
     ]
    },
    {
     "name": "stderr",
     "output_type": "stream",
     "text": [
      "C:\\Users\\jb5983on\\AppData\\Local\\anaconda3\\envs\\polars\\Lib\\site-packages\\sklearn\\base.py:1473: DataConversionWarning: A column-vector y was passed when a 1d array was expected. Please change the shape of y to (n_samples,), for example using ravel().\n",
      "  return fit_method(estimator, *args, **kwargs)\n"
     ]
    },
    {
     "name": "stdout",
     "output_type": "stream",
     "text": [
      "[CV 3/5] END class_weight=balanced, max_depth=2, min_samples_leaf=10, min_samples_split=5, n_estimators=100;, score=0.919 total time=   1.0s\n"
     ]
    },
    {
     "name": "stderr",
     "output_type": "stream",
     "text": [
      "C:\\Users\\jb5983on\\AppData\\Local\\anaconda3\\envs\\polars\\Lib\\site-packages\\sklearn\\base.py:1473: DataConversionWarning: A column-vector y was passed when a 1d array was expected. Please change the shape of y to (n_samples,), for example using ravel().\n",
      "  return fit_method(estimator, *args, **kwargs)\n"
     ]
    },
    {
     "name": "stdout",
     "output_type": "stream",
     "text": [
      "[CV 4/5] END class_weight=balanced, max_depth=2, min_samples_leaf=10, min_samples_split=5, n_estimators=100;, score=0.934 total time=   1.1s\n"
     ]
    },
    {
     "name": "stderr",
     "output_type": "stream",
     "text": [
      "C:\\Users\\jb5983on\\AppData\\Local\\anaconda3\\envs\\polars\\Lib\\site-packages\\sklearn\\base.py:1473: DataConversionWarning: A column-vector y was passed when a 1d array was expected. Please change the shape of y to (n_samples,), for example using ravel().\n",
      "  return fit_method(estimator, *args, **kwargs)\n"
     ]
    },
    {
     "name": "stdout",
     "output_type": "stream",
     "text": [
      "[CV 5/5] END class_weight=balanced, max_depth=2, min_samples_leaf=10, min_samples_split=5, n_estimators=100;, score=0.926 total time=   0.9s\n",
      "[CV 1/5] END class_weight=balanced, max_depth=2, min_samples_leaf=10, min_samples_split=10, n_estimators=10;, score=0.907 total time=   0.1s\n"
     ]
    },
    {
     "name": "stderr",
     "output_type": "stream",
     "text": [
      "C:\\Users\\jb5983on\\AppData\\Local\\anaconda3\\envs\\polars\\Lib\\site-packages\\sklearn\\base.py:1473: DataConversionWarning: A column-vector y was passed when a 1d array was expected. Please change the shape of y to (n_samples,), for example using ravel().\n",
      "  return fit_method(estimator, *args, **kwargs)\n",
      "C:\\Users\\jb5983on\\AppData\\Local\\anaconda3\\envs\\polars\\Lib\\site-packages\\sklearn\\base.py:1473: DataConversionWarning: A column-vector y was passed when a 1d array was expected. Please change the shape of y to (n_samples,), for example using ravel().\n",
      "  return fit_method(estimator, *args, **kwargs)\n"
     ]
    },
    {
     "name": "stdout",
     "output_type": "stream",
     "text": [
      "[CV 2/5] END class_weight=balanced, max_depth=2, min_samples_leaf=10, min_samples_split=10, n_estimators=10;, score=0.916 total time=   0.1s\n",
      "[CV 3/5] END class_weight=balanced, max_depth=2, min_samples_leaf=10, min_samples_split=10, n_estimators=10;, score=0.919 total time=   0.1s\n"
     ]
    },
    {
     "name": "stderr",
     "output_type": "stream",
     "text": [
      "C:\\Users\\jb5983on\\AppData\\Local\\anaconda3\\envs\\polars\\Lib\\site-packages\\sklearn\\base.py:1473: DataConversionWarning: A column-vector y was passed when a 1d array was expected. Please change the shape of y to (n_samples,), for example using ravel().\n",
      "  return fit_method(estimator, *args, **kwargs)\n",
      "C:\\Users\\jb5983on\\AppData\\Local\\anaconda3\\envs\\polars\\Lib\\site-packages\\sklearn\\base.py:1473: DataConversionWarning: A column-vector y was passed when a 1d array was expected. Please change the shape of y to (n_samples,), for example using ravel().\n",
      "  return fit_method(estimator, *args, **kwargs)\n",
      "C:\\Users\\jb5983on\\AppData\\Local\\anaconda3\\envs\\polars\\Lib\\site-packages\\sklearn\\base.py:1473: DataConversionWarning: A column-vector y was passed when a 1d array was expected. Please change the shape of y to (n_samples,), for example using ravel().\n",
      "  return fit_method(estimator, *args, **kwargs)\n"
     ]
    },
    {
     "name": "stdout",
     "output_type": "stream",
     "text": [
      "[CV 4/5] END class_weight=balanced, max_depth=2, min_samples_leaf=10, min_samples_split=10, n_estimators=10;, score=0.927 total time=   0.1s\n",
      "[CV 5/5] END class_weight=balanced, max_depth=2, min_samples_leaf=10, min_samples_split=10, n_estimators=10;, score=0.930 total time=   0.1s\n"
     ]
    },
    {
     "name": "stderr",
     "output_type": "stream",
     "text": [
      "C:\\Users\\jb5983on\\AppData\\Local\\anaconda3\\envs\\polars\\Lib\\site-packages\\sklearn\\base.py:1473: DataConversionWarning: A column-vector y was passed when a 1d array was expected. Please change the shape of y to (n_samples,), for example using ravel().\n",
      "  return fit_method(estimator, *args, **kwargs)\n"
     ]
    },
    {
     "name": "stdout",
     "output_type": "stream",
     "text": [
      "[CV 1/5] END class_weight=balanced, max_depth=2, min_samples_leaf=10, min_samples_split=10, n_estimators=100;, score=0.907 total time=   0.9s\n"
     ]
    },
    {
     "name": "stderr",
     "output_type": "stream",
     "text": [
      "C:\\Users\\jb5983on\\AppData\\Local\\anaconda3\\envs\\polars\\Lib\\site-packages\\sklearn\\base.py:1473: DataConversionWarning: A column-vector y was passed when a 1d array was expected. Please change the shape of y to (n_samples,), for example using ravel().\n",
      "  return fit_method(estimator, *args, **kwargs)\n"
     ]
    },
    {
     "name": "stdout",
     "output_type": "stream",
     "text": [
      "[CV 2/5] END class_weight=balanced, max_depth=2, min_samples_leaf=10, min_samples_split=10, n_estimators=100;, score=0.916 total time=   1.0s\n"
     ]
    },
    {
     "name": "stderr",
     "output_type": "stream",
     "text": [
      "C:\\Users\\jb5983on\\AppData\\Local\\anaconda3\\envs\\polars\\Lib\\site-packages\\sklearn\\base.py:1473: DataConversionWarning: A column-vector y was passed when a 1d array was expected. Please change the shape of y to (n_samples,), for example using ravel().\n",
      "  return fit_method(estimator, *args, **kwargs)\n"
     ]
    },
    {
     "name": "stdout",
     "output_type": "stream",
     "text": [
      "[CV 3/5] END class_weight=balanced, max_depth=2, min_samples_leaf=10, min_samples_split=10, n_estimators=100;, score=0.919 total time=   1.0s\n"
     ]
    },
    {
     "name": "stderr",
     "output_type": "stream",
     "text": [
      "C:\\Users\\jb5983on\\AppData\\Local\\anaconda3\\envs\\polars\\Lib\\site-packages\\sklearn\\base.py:1473: DataConversionWarning: A column-vector y was passed when a 1d array was expected. Please change the shape of y to (n_samples,), for example using ravel().\n",
      "  return fit_method(estimator, *args, **kwargs)\n"
     ]
    },
    {
     "name": "stdout",
     "output_type": "stream",
     "text": [
      "[CV 4/5] END class_weight=balanced, max_depth=2, min_samples_leaf=10, min_samples_split=10, n_estimators=100;, score=0.934 total time=   1.0s\n"
     ]
    },
    {
     "name": "stderr",
     "output_type": "stream",
     "text": [
      "C:\\Users\\jb5983on\\AppData\\Local\\anaconda3\\envs\\polars\\Lib\\site-packages\\sklearn\\base.py:1473: DataConversionWarning: A column-vector y was passed when a 1d array was expected. Please change the shape of y to (n_samples,), for example using ravel().\n",
      "  return fit_method(estimator, *args, **kwargs)\n"
     ]
    },
    {
     "name": "stdout",
     "output_type": "stream",
     "text": [
      "[CV 5/5] END class_weight=balanced, max_depth=2, min_samples_leaf=10, min_samples_split=10, n_estimators=100;, score=0.926 total time=   1.0s\n",
      "[CV 1/5] END class_weight=balanced, max_depth=3, min_samples_leaf=1, min_samples_split=1, n_estimators=10;, score=nan total time=   0.0s\n",
      "[CV 2/5] END class_weight=balanced, max_depth=3, min_samples_leaf=1, min_samples_split=1, n_estimators=10;, score=nan total time=   0.0s\n",
      "[CV 3/5] END class_weight=balanced, max_depth=3, min_samples_leaf=1, min_samples_split=1, n_estimators=10;, score=nan total time=   0.0s\n",
      "[CV 4/5] END class_weight=balanced, max_depth=3, min_samples_leaf=1, min_samples_split=1, n_estimators=10;, score=nan total time=   0.0s\n",
      "[CV 5/5] END class_weight=balanced, max_depth=3, min_samples_leaf=1, min_samples_split=1, n_estimators=10;, score=nan total time=   0.0s\n",
      "[CV 1/5] END class_weight=balanced, max_depth=3, min_samples_leaf=1, min_samples_split=1, n_estimators=100;, score=nan total time=   0.0s\n",
      "[CV 2/5] END class_weight=balanced, max_depth=3, min_samples_leaf=1, min_samples_split=1, n_estimators=100;, score=nan total time=   0.0s\n",
      "[CV 3/5] END class_weight=balanced, max_depth=3, min_samples_leaf=1, min_samples_split=1, n_estimators=100;, score=nan total time=   0.0s\n",
      "[CV 4/5] END class_weight=balanced, max_depth=3, min_samples_leaf=1, min_samples_split=1, n_estimators=100;, score=nan total time=   0.0s\n",
      "[CV 5/5] END class_weight=balanced, max_depth=3, min_samples_leaf=1, min_samples_split=1, n_estimators=100;, score=nan total time=   0.0s\n"
     ]
    },
    {
     "name": "stderr",
     "output_type": "stream",
     "text": [
      "C:\\Users\\jb5983on\\AppData\\Local\\anaconda3\\envs\\polars\\Lib\\site-packages\\sklearn\\base.py:1473: DataConversionWarning: A column-vector y was passed when a 1d array was expected. Please change the shape of y to (n_samples,), for example using ravel().\n",
      "  return fit_method(estimator, *args, **kwargs)\n"
     ]
    },
    {
     "name": "stdout",
     "output_type": "stream",
     "text": [
      "[CV 1/5] END class_weight=balanced, max_depth=3, min_samples_leaf=1, min_samples_split=5, n_estimators=10;, score=0.842 total time=   0.1s\n",
      "[CV 2/5] END class_weight=balanced, max_depth=3, min_samples_leaf=1, min_samples_split=5, n_estimators=10;, score=0.929 total time=   0.1s\n"
     ]
    },
    {
     "name": "stderr",
     "output_type": "stream",
     "text": [
      "C:\\Users\\jb5983on\\AppData\\Local\\anaconda3\\envs\\polars\\Lib\\site-packages\\sklearn\\base.py:1473: DataConversionWarning: A column-vector y was passed when a 1d array was expected. Please change the shape of y to (n_samples,), for example using ravel().\n",
      "  return fit_method(estimator, *args, **kwargs)\n",
      "C:\\Users\\jb5983on\\AppData\\Local\\anaconda3\\envs\\polars\\Lib\\site-packages\\sklearn\\base.py:1473: DataConversionWarning: A column-vector y was passed when a 1d array was expected. Please change the shape of y to (n_samples,), for example using ravel().\n",
      "  return fit_method(estimator, *args, **kwargs)\n"
     ]
    },
    {
     "name": "stdout",
     "output_type": "stream",
     "text": [
      "[CV 3/5] END class_weight=balanced, max_depth=3, min_samples_leaf=1, min_samples_split=5, n_estimators=10;, score=0.874 total time=   0.1s\n"
     ]
    },
    {
     "name": "stderr",
     "output_type": "stream",
     "text": [
      "C:\\Users\\jb5983on\\AppData\\Local\\anaconda3\\envs\\polars\\Lib\\site-packages\\sklearn\\base.py:1473: DataConversionWarning: A column-vector y was passed when a 1d array was expected. Please change the shape of y to (n_samples,), for example using ravel().\n",
      "  return fit_method(estimator, *args, **kwargs)\n",
      "C:\\Users\\jb5983on\\AppData\\Local\\anaconda3\\envs\\polars\\Lib\\site-packages\\sklearn\\base.py:1473: DataConversionWarning: A column-vector y was passed when a 1d array was expected. Please change the shape of y to (n_samples,), for example using ravel().\n",
      "  return fit_method(estimator, *args, **kwargs)\n"
     ]
    },
    {
     "name": "stdout",
     "output_type": "stream",
     "text": [
      "[CV 4/5] END class_weight=balanced, max_depth=3, min_samples_leaf=1, min_samples_split=5, n_estimators=10;, score=0.955 total time=   0.1s\n",
      "[CV 5/5] END class_weight=balanced, max_depth=3, min_samples_leaf=1, min_samples_split=5, n_estimators=10;, score=0.932 total time=   0.1s\n"
     ]
    },
    {
     "name": "stderr",
     "output_type": "stream",
     "text": [
      "C:\\Users\\jb5983on\\AppData\\Local\\anaconda3\\envs\\polars\\Lib\\site-packages\\sklearn\\base.py:1473: DataConversionWarning: A column-vector y was passed when a 1d array was expected. Please change the shape of y to (n_samples,), for example using ravel().\n",
      "  return fit_method(estimator, *args, **kwargs)\n"
     ]
    },
    {
     "name": "stdout",
     "output_type": "stream",
     "text": [
      "[CV 1/5] END class_weight=balanced, max_depth=3, min_samples_leaf=1, min_samples_split=5, n_estimators=100;, score=0.853 total time=   1.2s\n"
     ]
    },
    {
     "name": "stderr",
     "output_type": "stream",
     "text": [
      "C:\\Users\\jb5983on\\AppData\\Local\\anaconda3\\envs\\polars\\Lib\\site-packages\\sklearn\\base.py:1473: DataConversionWarning: A column-vector y was passed when a 1d array was expected. Please change the shape of y to (n_samples,), for example using ravel().\n",
      "  return fit_method(estimator, *args, **kwargs)\n"
     ]
    },
    {
     "name": "stdout",
     "output_type": "stream",
     "text": [
      "[CV 2/5] END class_weight=balanced, max_depth=3, min_samples_leaf=1, min_samples_split=5, n_estimators=100;, score=0.923 total time=   1.1s\n"
     ]
    },
    {
     "name": "stderr",
     "output_type": "stream",
     "text": [
      "C:\\Users\\jb5983on\\AppData\\Local\\anaconda3\\envs\\polars\\Lib\\site-packages\\sklearn\\base.py:1473: DataConversionWarning: A column-vector y was passed when a 1d array was expected. Please change the shape of y to (n_samples,), for example using ravel().\n",
      "  return fit_method(estimator, *args, **kwargs)\n"
     ]
    },
    {
     "name": "stdout",
     "output_type": "stream",
     "text": [
      "[CV 3/5] END class_weight=balanced, max_depth=3, min_samples_leaf=1, min_samples_split=5, n_estimators=100;, score=0.929 total time=   1.1s\n"
     ]
    },
    {
     "name": "stderr",
     "output_type": "stream",
     "text": [
      "C:\\Users\\jb5983on\\AppData\\Local\\anaconda3\\envs\\polars\\Lib\\site-packages\\sklearn\\base.py:1473: DataConversionWarning: A column-vector y was passed when a 1d array was expected. Please change the shape of y to (n_samples,), for example using ravel().\n",
      "  return fit_method(estimator, *args, **kwargs)\n"
     ]
    },
    {
     "name": "stdout",
     "output_type": "stream",
     "text": [
      "[CV 4/5] END class_weight=balanced, max_depth=3, min_samples_leaf=1, min_samples_split=5, n_estimators=100;, score=0.894 total time=   1.2s\n"
     ]
    },
    {
     "name": "stderr",
     "output_type": "stream",
     "text": [
      "C:\\Users\\jb5983on\\AppData\\Local\\anaconda3\\envs\\polars\\Lib\\site-packages\\sklearn\\base.py:1473: DataConversionWarning: A column-vector y was passed when a 1d array was expected. Please change the shape of y to (n_samples,), for example using ravel().\n",
      "  return fit_method(estimator, *args, **kwargs)\n"
     ]
    },
    {
     "name": "stdout",
     "output_type": "stream",
     "text": [
      "[CV 5/5] END class_weight=balanced, max_depth=3, min_samples_leaf=1, min_samples_split=5, n_estimators=100;, score=0.861 total time=   1.1s\n"
     ]
    },
    {
     "name": "stderr",
     "output_type": "stream",
     "text": [
      "C:\\Users\\jb5983on\\AppData\\Local\\anaconda3\\envs\\polars\\Lib\\site-packages\\sklearn\\base.py:1473: DataConversionWarning: A column-vector y was passed when a 1d array was expected. Please change the shape of y to (n_samples,), for example using ravel().\n",
      "  return fit_method(estimator, *args, **kwargs)\n"
     ]
    },
    {
     "name": "stdout",
     "output_type": "stream",
     "text": [
      "[CV 1/5] END class_weight=balanced, max_depth=3, min_samples_leaf=1, min_samples_split=10, n_estimators=10;, score=0.836 total time=   0.2s\n"
     ]
    },
    {
     "name": "stderr",
     "output_type": "stream",
     "text": [
      "C:\\Users\\jb5983on\\AppData\\Local\\anaconda3\\envs\\polars\\Lib\\site-packages\\sklearn\\base.py:1473: DataConversionWarning: A column-vector y was passed when a 1d array was expected. Please change the shape of y to (n_samples,), for example using ravel().\n",
      "  return fit_method(estimator, *args, **kwargs)\n"
     ]
    },
    {
     "name": "stdout",
     "output_type": "stream",
     "text": [
      "[CV 2/5] END class_weight=balanced, max_depth=3, min_samples_leaf=1, min_samples_split=10, n_estimators=10;, score=0.927 total time=   0.1s\n",
      "[CV 3/5] END class_weight=balanced, max_depth=3, min_samples_leaf=1, min_samples_split=10, n_estimators=10;, score=0.933 total time=   0.1s\n"
     ]
    },
    {
     "name": "stderr",
     "output_type": "stream",
     "text": [
      "C:\\Users\\jb5983on\\AppData\\Local\\anaconda3\\envs\\polars\\Lib\\site-packages\\sklearn\\base.py:1473: DataConversionWarning: A column-vector y was passed when a 1d array was expected. Please change the shape of y to (n_samples,), for example using ravel().\n",
      "  return fit_method(estimator, *args, **kwargs)\n",
      "C:\\Users\\jb5983on\\AppData\\Local\\anaconda3\\envs\\polars\\Lib\\site-packages\\sklearn\\base.py:1473: DataConversionWarning: A column-vector y was passed when a 1d array was expected. Please change the shape of y to (n_samples,), for example using ravel().\n",
      "  return fit_method(estimator, *args, **kwargs)\n"
     ]
    },
    {
     "name": "stdout",
     "output_type": "stream",
     "text": [
      "[CV 4/5] END class_weight=balanced, max_depth=3, min_samples_leaf=1, min_samples_split=10, n_estimators=10;, score=0.918 total time=   0.1s\n",
      "[CV 5/5] END class_weight=balanced, max_depth=3, min_samples_leaf=1, min_samples_split=10, n_estimators=10;, score=0.819 total time=   0.1s\n"
     ]
    },
    {
     "name": "stderr",
     "output_type": "stream",
     "text": [
      "C:\\Users\\jb5983on\\AppData\\Local\\anaconda3\\envs\\polars\\Lib\\site-packages\\sklearn\\base.py:1473: DataConversionWarning: A column-vector y was passed when a 1d array was expected. Please change the shape of y to (n_samples,), for example using ravel().\n",
      "  return fit_method(estimator, *args, **kwargs)\n",
      "C:\\Users\\jb5983on\\AppData\\Local\\anaconda3\\envs\\polars\\Lib\\site-packages\\sklearn\\base.py:1473: DataConversionWarning: A column-vector y was passed when a 1d array was expected. Please change the shape of y to (n_samples,), for example using ravel().\n",
      "  return fit_method(estimator, *args, **kwargs)\n"
     ]
    },
    {
     "name": "stdout",
     "output_type": "stream",
     "text": [
      "[CV 1/5] END class_weight=balanced, max_depth=3, min_samples_leaf=1, min_samples_split=10, n_estimators=100;, score=0.839 total time=   0.7s\n"
     ]
    },
    {
     "name": "stderr",
     "output_type": "stream",
     "text": [
      "C:\\Users\\jb5983on\\AppData\\Local\\anaconda3\\envs\\polars\\Lib\\site-packages\\sklearn\\base.py:1473: DataConversionWarning: A column-vector y was passed when a 1d array was expected. Please change the shape of y to (n_samples,), for example using ravel().\n",
      "  return fit_method(estimator, *args, **kwargs)\n"
     ]
    },
    {
     "name": "stdout",
     "output_type": "stream",
     "text": [
      "[CV 2/5] END class_weight=balanced, max_depth=3, min_samples_leaf=1, min_samples_split=10, n_estimators=100;, score=0.923 total time=   1.0s\n"
     ]
    },
    {
     "name": "stderr",
     "output_type": "stream",
     "text": [
      "C:\\Users\\jb5983on\\AppData\\Local\\anaconda3\\envs\\polars\\Lib\\site-packages\\sklearn\\base.py:1473: DataConversionWarning: A column-vector y was passed when a 1d array was expected. Please change the shape of y to (n_samples,), for example using ravel().\n",
      "  return fit_method(estimator, *args, **kwargs)\n"
     ]
    },
    {
     "name": "stdout",
     "output_type": "stream",
     "text": [
      "[CV 3/5] END class_weight=balanced, max_depth=3, min_samples_leaf=1, min_samples_split=10, n_estimators=100;, score=0.927 total time=   0.8s\n"
     ]
    },
    {
     "name": "stderr",
     "output_type": "stream",
     "text": [
      "C:\\Users\\jb5983on\\AppData\\Local\\anaconda3\\envs\\polars\\Lib\\site-packages\\sklearn\\base.py:1473: DataConversionWarning: A column-vector y was passed when a 1d array was expected. Please change the shape of y to (n_samples,), for example using ravel().\n",
      "  return fit_method(estimator, *args, **kwargs)\n"
     ]
    },
    {
     "name": "stdout",
     "output_type": "stream",
     "text": [
      "[CV 4/5] END class_weight=balanced, max_depth=3, min_samples_leaf=1, min_samples_split=10, n_estimators=100;, score=0.904 total time=   1.1s\n"
     ]
    },
    {
     "name": "stderr",
     "output_type": "stream",
     "text": [
      "C:\\Users\\jb5983on\\AppData\\Local\\anaconda3\\envs\\polars\\Lib\\site-packages\\sklearn\\base.py:1473: DataConversionWarning: A column-vector y was passed when a 1d array was expected. Please change the shape of y to (n_samples,), for example using ravel().\n",
      "  return fit_method(estimator, *args, **kwargs)\n"
     ]
    },
    {
     "name": "stdout",
     "output_type": "stream",
     "text": [
      "[CV 5/5] END class_weight=balanced, max_depth=3, min_samples_leaf=1, min_samples_split=10, n_estimators=100;, score=0.861 total time=   1.1s\n",
      "[CV 1/5] END class_weight=balanced, max_depth=3, min_samples_leaf=5, min_samples_split=1, n_estimators=10;, score=nan total time=   0.0s\n",
      "[CV 2/5] END class_weight=balanced, max_depth=3, min_samples_leaf=5, min_samples_split=1, n_estimators=10;, score=nan total time=   0.0s\n",
      "[CV 3/5] END class_weight=balanced, max_depth=3, min_samples_leaf=5, min_samples_split=1, n_estimators=10;, score=nan total time=   0.0s\n",
      "[CV 4/5] END class_weight=balanced, max_depth=3, min_samples_leaf=5, min_samples_split=1, n_estimators=10;, score=nan total time=   0.0s\n",
      "[CV 5/5] END class_weight=balanced, max_depth=3, min_samples_leaf=5, min_samples_split=1, n_estimators=10;, score=nan total time=   0.0s\n",
      "[CV 1/5] END class_weight=balanced, max_depth=3, min_samples_leaf=5, min_samples_split=1, n_estimators=100;, score=nan total time=   0.0s\n",
      "[CV 2/5] END class_weight=balanced, max_depth=3, min_samples_leaf=5, min_samples_split=1, n_estimators=100;, score=nan total time=   0.0s\n",
      "[CV 3/5] END class_weight=balanced, max_depth=3, min_samples_leaf=5, min_samples_split=1, n_estimators=100;, score=nan total time=   0.0s\n",
      "[CV 4/5] END class_weight=balanced, max_depth=3, min_samples_leaf=5, min_samples_split=1, n_estimators=100;, score=nan total time=   0.0s\n",
      "[CV 5/5] END class_weight=balanced, max_depth=3, min_samples_leaf=5, min_samples_split=1, n_estimators=100;, score=nan total time=   0.0s\n"
     ]
    },
    {
     "name": "stderr",
     "output_type": "stream",
     "text": [
      "C:\\Users\\jb5983on\\AppData\\Local\\anaconda3\\envs\\polars\\Lib\\site-packages\\sklearn\\base.py:1473: DataConversionWarning: A column-vector y was passed when a 1d array was expected. Please change the shape of y to (n_samples,), for example using ravel().\n",
      "  return fit_method(estimator, *args, **kwargs)\n"
     ]
    },
    {
     "name": "stdout",
     "output_type": "stream",
     "text": [
      "[CV 1/5] END class_weight=balanced, max_depth=3, min_samples_leaf=5, min_samples_split=5, n_estimators=10;, score=0.850 total time=   0.1s\n"
     ]
    },
    {
     "name": "stderr",
     "output_type": "stream",
     "text": [
      "C:\\Users\\jb5983on\\AppData\\Local\\anaconda3\\envs\\polars\\Lib\\site-packages\\sklearn\\base.py:1473: DataConversionWarning: A column-vector y was passed when a 1d array was expected. Please change the shape of y to (n_samples,), for example using ravel().\n",
      "  return fit_method(estimator, *args, **kwargs)\n"
     ]
    },
    {
     "name": "stdout",
     "output_type": "stream",
     "text": [
      "[CV 2/5] END class_weight=balanced, max_depth=3, min_samples_leaf=5, min_samples_split=5, n_estimators=10;, score=0.923 total time=   0.1s\n"
     ]
    },
    {
     "name": "stderr",
     "output_type": "stream",
     "text": [
      "C:\\Users\\jb5983on\\AppData\\Local\\anaconda3\\envs\\polars\\Lib\\site-packages\\sklearn\\base.py:1473: DataConversionWarning: A column-vector y was passed when a 1d array was expected. Please change the shape of y to (n_samples,), for example using ravel().\n",
      "  return fit_method(estimator, *args, **kwargs)\n"
     ]
    },
    {
     "name": "stdout",
     "output_type": "stream",
     "text": [
      "[CV 3/5] END class_weight=balanced, max_depth=3, min_samples_leaf=5, min_samples_split=5, n_estimators=10;, score=0.933 total time=   0.1s\n"
     ]
    },
    {
     "name": "stderr",
     "output_type": "stream",
     "text": [
      "C:\\Users\\jb5983on\\AppData\\Local\\anaconda3\\envs\\polars\\Lib\\site-packages\\sklearn\\base.py:1473: DataConversionWarning: A column-vector y was passed when a 1d array was expected. Please change the shape of y to (n_samples,), for example using ravel().\n",
      "  return fit_method(estimator, *args, **kwargs)\n"
     ]
    },
    {
     "name": "stdout",
     "output_type": "stream",
     "text": [
      "[CV 4/5] END class_weight=balanced, max_depth=3, min_samples_leaf=5, min_samples_split=5, n_estimators=10;, score=0.955 total time=   0.1s\n"
     ]
    },
    {
     "name": "stderr",
     "output_type": "stream",
     "text": [
      "C:\\Users\\jb5983on\\AppData\\Local\\anaconda3\\envs\\polars\\Lib\\site-packages\\sklearn\\base.py:1473: DataConversionWarning: A column-vector y was passed when a 1d array was expected. Please change the shape of y to (n_samples,), for example using ravel().\n",
      "  return fit_method(estimator, *args, **kwargs)\n"
     ]
    },
    {
     "name": "stdout",
     "output_type": "stream",
     "text": [
      "[CV 5/5] END class_weight=balanced, max_depth=3, min_samples_leaf=5, min_samples_split=5, n_estimators=10;, score=0.821 total time=   0.1s\n"
     ]
    },
    {
     "name": "stderr",
     "output_type": "stream",
     "text": [
      "C:\\Users\\jb5983on\\AppData\\Local\\anaconda3\\envs\\polars\\Lib\\site-packages\\sklearn\\base.py:1473: DataConversionWarning: A column-vector y was passed when a 1d array was expected. Please change the shape of y to (n_samples,), for example using ravel().\n",
      "  return fit_method(estimator, *args, **kwargs)\n"
     ]
    },
    {
     "name": "stdout",
     "output_type": "stream",
     "text": [
      "[CV 1/5] END class_weight=balanced, max_depth=3, min_samples_leaf=5, min_samples_split=5, n_estimators=100;, score=0.851 total time=   1.1s\n"
     ]
    },
    {
     "name": "stderr",
     "output_type": "stream",
     "text": [
      "C:\\Users\\jb5983on\\AppData\\Local\\anaconda3\\envs\\polars\\Lib\\site-packages\\sklearn\\base.py:1473: DataConversionWarning: A column-vector y was passed when a 1d array was expected. Please change the shape of y to (n_samples,), for example using ravel().\n",
      "  return fit_method(estimator, *args, **kwargs)\n"
     ]
    },
    {
     "name": "stdout",
     "output_type": "stream",
     "text": [
      "[CV 2/5] END class_weight=balanced, max_depth=3, min_samples_leaf=5, min_samples_split=5, n_estimators=100;, score=0.923 total time=   1.1s\n"
     ]
    },
    {
     "name": "stderr",
     "output_type": "stream",
     "text": [
      "C:\\Users\\jb5983on\\AppData\\Local\\anaconda3\\envs\\polars\\Lib\\site-packages\\sklearn\\base.py:1473: DataConversionWarning: A column-vector y was passed when a 1d array was expected. Please change the shape of y to (n_samples,), for example using ravel().\n",
      "  return fit_method(estimator, *args, **kwargs)\n"
     ]
    },
    {
     "name": "stdout",
     "output_type": "stream",
     "text": [
      "[CV 3/5] END class_weight=balanced, max_depth=3, min_samples_leaf=5, min_samples_split=5, n_estimators=100;, score=0.895 total time=   1.1s\n"
     ]
    },
    {
     "name": "stderr",
     "output_type": "stream",
     "text": [
      "C:\\Users\\jb5983on\\AppData\\Local\\anaconda3\\envs\\polars\\Lib\\site-packages\\sklearn\\base.py:1473: DataConversionWarning: A column-vector y was passed when a 1d array was expected. Please change the shape of y to (n_samples,), for example using ravel().\n",
      "  return fit_method(estimator, *args, **kwargs)\n"
     ]
    },
    {
     "name": "stdout",
     "output_type": "stream",
     "text": [
      "[CV 4/5] END class_weight=balanced, max_depth=3, min_samples_leaf=5, min_samples_split=5, n_estimators=100;, score=0.886 total time=   1.2s\n"
     ]
    },
    {
     "name": "stderr",
     "output_type": "stream",
     "text": [
      "C:\\Users\\jb5983on\\AppData\\Local\\anaconda3\\envs\\polars\\Lib\\site-packages\\sklearn\\base.py:1473: DataConversionWarning: A column-vector y was passed when a 1d array was expected. Please change the shape of y to (n_samples,), for example using ravel().\n",
      "  return fit_method(estimator, *args, **kwargs)\n"
     ]
    },
    {
     "name": "stdout",
     "output_type": "stream",
     "text": [
      "[CV 5/5] END class_weight=balanced, max_depth=3, min_samples_leaf=5, min_samples_split=5, n_estimators=100;, score=0.839 total time=   1.1s\n",
      "[CV 1/5] END class_weight=balanced, max_depth=3, min_samples_leaf=5, min_samples_split=10, n_estimators=10;, score=0.860 total time=   0.1s\n"
     ]
    },
    {
     "name": "stderr",
     "output_type": "stream",
     "text": [
      "C:\\Users\\jb5983on\\AppData\\Local\\anaconda3\\envs\\polars\\Lib\\site-packages\\sklearn\\base.py:1473: DataConversionWarning: A column-vector y was passed when a 1d array was expected. Please change the shape of y to (n_samples,), for example using ravel().\n",
      "  return fit_method(estimator, *args, **kwargs)\n",
      "C:\\Users\\jb5983on\\AppData\\Local\\anaconda3\\envs\\polars\\Lib\\site-packages\\sklearn\\base.py:1473: DataConversionWarning: A column-vector y was passed when a 1d array was expected. Please change the shape of y to (n_samples,), for example using ravel().\n",
      "  return fit_method(estimator, *args, **kwargs)\n"
     ]
    },
    {
     "name": "stdout",
     "output_type": "stream",
     "text": [
      "[CV 2/5] END class_weight=balanced, max_depth=3, min_samples_leaf=5, min_samples_split=10, n_estimators=10;, score=0.916 total time=   0.1s\n"
     ]
    },
    {
     "name": "stderr",
     "output_type": "stream",
     "text": [
      "C:\\Users\\jb5983on\\AppData\\Local\\anaconda3\\envs\\polars\\Lib\\site-packages\\sklearn\\base.py:1473: DataConversionWarning: A column-vector y was passed when a 1d array was expected. Please change the shape of y to (n_samples,), for example using ravel().\n",
      "  return fit_method(estimator, *args, **kwargs)\n"
     ]
    },
    {
     "name": "stdout",
     "output_type": "stream",
     "text": [
      "[CV 3/5] END class_weight=balanced, max_depth=3, min_samples_leaf=5, min_samples_split=10, n_estimators=10;, score=0.872 total time=   0.1s\n",
      "[CV 4/5] END class_weight=balanced, max_depth=3, min_samples_leaf=5, min_samples_split=10, n_estimators=10;, score=0.959 total time=   0.1s\n"
     ]
    },
    {
     "name": "stderr",
     "output_type": "stream",
     "text": [
      "C:\\Users\\jb5983on\\AppData\\Local\\anaconda3\\envs\\polars\\Lib\\site-packages\\sklearn\\base.py:1473: DataConversionWarning: A column-vector y was passed when a 1d array was expected. Please change the shape of y to (n_samples,), for example using ravel().\n",
      "  return fit_method(estimator, *args, **kwargs)\n",
      "C:\\Users\\jb5983on\\AppData\\Local\\anaconda3\\envs\\polars\\Lib\\site-packages\\sklearn\\base.py:1473: DataConversionWarning: A column-vector y was passed when a 1d array was expected. Please change the shape of y to (n_samples,), for example using ravel().\n",
      "  return fit_method(estimator, *args, **kwargs)\n"
     ]
    },
    {
     "name": "stdout",
     "output_type": "stream",
     "text": [
      "[CV 5/5] END class_weight=balanced, max_depth=3, min_samples_leaf=5, min_samples_split=10, n_estimators=10;, score=0.836 total time=   0.1s\n"
     ]
    },
    {
     "name": "stderr",
     "output_type": "stream",
     "text": [
      "C:\\Users\\jb5983on\\AppData\\Local\\anaconda3\\envs\\polars\\Lib\\site-packages\\sklearn\\base.py:1473: DataConversionWarning: A column-vector y was passed when a 1d array was expected. Please change the shape of y to (n_samples,), for example using ravel().\n",
      "  return fit_method(estimator, *args, **kwargs)\n"
     ]
    },
    {
     "name": "stdout",
     "output_type": "stream",
     "text": [
      "[CV 1/5] END class_weight=balanced, max_depth=3, min_samples_leaf=5, min_samples_split=10, n_estimators=100;, score=0.860 total time=   1.1s\n"
     ]
    },
    {
     "name": "stderr",
     "output_type": "stream",
     "text": [
      "C:\\Users\\jb5983on\\AppData\\Local\\anaconda3\\envs\\polars\\Lib\\site-packages\\sklearn\\base.py:1473: DataConversionWarning: A column-vector y was passed when a 1d array was expected. Please change the shape of y to (n_samples,), for example using ravel().\n",
      "  return fit_method(estimator, *args, **kwargs)\n"
     ]
    },
    {
     "name": "stdout",
     "output_type": "stream",
     "text": [
      "[CV 2/5] END class_weight=balanced, max_depth=3, min_samples_leaf=5, min_samples_split=10, n_estimators=100;, score=0.923 total time=   1.1s\n"
     ]
    },
    {
     "name": "stderr",
     "output_type": "stream",
     "text": [
      "C:\\Users\\jb5983on\\AppData\\Local\\anaconda3\\envs\\polars\\Lib\\site-packages\\sklearn\\base.py:1473: DataConversionWarning: A column-vector y was passed when a 1d array was expected. Please change the shape of y to (n_samples,), for example using ravel().\n",
      "  return fit_method(estimator, *args, **kwargs)\n"
     ]
    },
    {
     "name": "stdout",
     "output_type": "stream",
     "text": [
      "[CV 3/5] END class_weight=balanced, max_depth=3, min_samples_leaf=5, min_samples_split=10, n_estimators=100;, score=0.929 total time=   1.1s\n"
     ]
    },
    {
     "name": "stderr",
     "output_type": "stream",
     "text": [
      "C:\\Users\\jb5983on\\AppData\\Local\\anaconda3\\envs\\polars\\Lib\\site-packages\\sklearn\\base.py:1473: DataConversionWarning: A column-vector y was passed when a 1d array was expected. Please change the shape of y to (n_samples,), for example using ravel().\n",
      "  return fit_method(estimator, *args, **kwargs)\n"
     ]
    },
    {
     "name": "stdout",
     "output_type": "stream",
     "text": [
      "[CV 4/5] END class_weight=balanced, max_depth=3, min_samples_leaf=5, min_samples_split=10, n_estimators=100;, score=0.912 total time=   1.1s\n"
     ]
    },
    {
     "name": "stderr",
     "output_type": "stream",
     "text": [
      "C:\\Users\\jb5983on\\AppData\\Local\\anaconda3\\envs\\polars\\Lib\\site-packages\\sklearn\\base.py:1473: DataConversionWarning: A column-vector y was passed when a 1d array was expected. Please change the shape of y to (n_samples,), for example using ravel().\n",
      "  return fit_method(estimator, *args, **kwargs)\n"
     ]
    },
    {
     "name": "stdout",
     "output_type": "stream",
     "text": [
      "[CV 5/5] END class_weight=balanced, max_depth=3, min_samples_leaf=5, min_samples_split=10, n_estimators=100;, score=0.855 total time=   0.9s\n",
      "[CV 1/5] END class_weight=balanced, max_depth=3, min_samples_leaf=10, min_samples_split=1, n_estimators=10;, score=nan total time=   0.0s\n",
      "[CV 2/5] END class_weight=balanced, max_depth=3, min_samples_leaf=10, min_samples_split=1, n_estimators=10;, score=nan total time=   0.0s\n",
      "[CV 3/5] END class_weight=balanced, max_depth=3, min_samples_leaf=10, min_samples_split=1, n_estimators=10;, score=nan total time=   0.0s\n",
      "[CV 4/5] END class_weight=balanced, max_depth=3, min_samples_leaf=10, min_samples_split=1, n_estimators=10;, score=nan total time=   0.0s\n",
      "[CV 5/5] END class_weight=balanced, max_depth=3, min_samples_leaf=10, min_samples_split=1, n_estimators=10;, score=nan total time=   0.0s\n",
      "[CV 1/5] END class_weight=balanced, max_depth=3, min_samples_leaf=10, min_samples_split=1, n_estimators=100;, score=nan total time=   0.0s\n",
      "[CV 2/5] END class_weight=balanced, max_depth=3, min_samples_leaf=10, min_samples_split=1, n_estimators=100;, score=nan total time=   0.0s\n",
      "[CV 3/5] END class_weight=balanced, max_depth=3, min_samples_leaf=10, min_samples_split=1, n_estimators=100;, score=nan total time=   0.0s\n",
      "[CV 4/5] END class_weight=balanced, max_depth=3, min_samples_leaf=10, min_samples_split=1, n_estimators=100;, score=nan total time=   0.0s\n",
      "[CV 5/5] END class_weight=balanced, max_depth=3, min_samples_leaf=10, min_samples_split=1, n_estimators=100;, score=nan total time=   0.0s\n"
     ]
    },
    {
     "name": "stderr",
     "output_type": "stream",
     "text": [
      "C:\\Users\\jb5983on\\AppData\\Local\\anaconda3\\envs\\polars\\Lib\\site-packages\\sklearn\\base.py:1473: DataConversionWarning: A column-vector y was passed when a 1d array was expected. Please change the shape of y to (n_samples,), for example using ravel().\n",
      "  return fit_method(estimator, *args, **kwargs)\n"
     ]
    },
    {
     "name": "stdout",
     "output_type": "stream",
     "text": [
      "[CV 1/5] END class_weight=balanced, max_depth=3, min_samples_leaf=10, min_samples_split=5, n_estimators=10;, score=0.895 total time=   0.2s\n"
     ]
    },
    {
     "name": "stderr",
     "output_type": "stream",
     "text": [
      "C:\\Users\\jb5983on\\AppData\\Local\\anaconda3\\envs\\polars\\Lib\\site-packages\\sklearn\\base.py:1473: DataConversionWarning: A column-vector y was passed when a 1d array was expected. Please change the shape of y to (n_samples,), for example using ravel().\n",
      "  return fit_method(estimator, *args, **kwargs)\n"
     ]
    },
    {
     "name": "stdout",
     "output_type": "stream",
     "text": [
      "[CV 2/5] END class_weight=balanced, max_depth=3, min_samples_leaf=10, min_samples_split=5, n_estimators=10;, score=0.930 total time=   0.1s\n"
     ]
    },
    {
     "name": "stderr",
     "output_type": "stream",
     "text": [
      "C:\\Users\\jb5983on\\AppData\\Local\\anaconda3\\envs\\polars\\Lib\\site-packages\\sklearn\\base.py:1473: DataConversionWarning: A column-vector y was passed when a 1d array was expected. Please change the shape of y to (n_samples,), for example using ravel().\n",
      "  return fit_method(estimator, *args, **kwargs)\n"
     ]
    },
    {
     "name": "stdout",
     "output_type": "stream",
     "text": [
      "[CV 3/5] END class_weight=balanced, max_depth=3, min_samples_leaf=10, min_samples_split=5, n_estimators=10;, score=0.919 total time=   0.2s\n",
      "[CV 4/5] END class_weight=balanced, max_depth=3, min_samples_leaf=10, min_samples_split=5, n_estimators=10;, score=0.876 total time=   0.1s\n"
     ]
    },
    {
     "name": "stderr",
     "output_type": "stream",
     "text": [
      "C:\\Users\\jb5983on\\AppData\\Local\\anaconda3\\envs\\polars\\Lib\\site-packages\\sklearn\\base.py:1473: DataConversionWarning: A column-vector y was passed when a 1d array was expected. Please change the shape of y to (n_samples,), for example using ravel().\n",
      "  return fit_method(estimator, *args, **kwargs)\n",
      "C:\\Users\\jb5983on\\AppData\\Local\\anaconda3\\envs\\polars\\Lib\\site-packages\\sklearn\\base.py:1473: DataConversionWarning: A column-vector y was passed when a 1d array was expected. Please change the shape of y to (n_samples,), for example using ravel().\n",
      "  return fit_method(estimator, *args, **kwargs)\n"
     ]
    },
    {
     "name": "stdout",
     "output_type": "stream",
     "text": [
      "[CV 5/5] END class_weight=balanced, max_depth=3, min_samples_leaf=10, min_samples_split=5, n_estimators=10;, score=0.844 total time=   0.1s\n"
     ]
    },
    {
     "name": "stderr",
     "output_type": "stream",
     "text": [
      "C:\\Users\\jb5983on\\AppData\\Local\\anaconda3\\envs\\polars\\Lib\\site-packages\\sklearn\\base.py:1473: DataConversionWarning: A column-vector y was passed when a 1d array was expected. Please change the shape of y to (n_samples,), for example using ravel().\n",
      "  return fit_method(estimator, *args, **kwargs)\n"
     ]
    },
    {
     "name": "stdout",
     "output_type": "stream",
     "text": [
      "[CV 1/5] END class_weight=balanced, max_depth=3, min_samples_leaf=10, min_samples_split=5, n_estimators=100;, score=0.857 total time=   1.1s\n"
     ]
    },
    {
     "name": "stderr",
     "output_type": "stream",
     "text": [
      "C:\\Users\\jb5983on\\AppData\\Local\\anaconda3\\envs\\polars\\Lib\\site-packages\\sklearn\\base.py:1473: DataConversionWarning: A column-vector y was passed when a 1d array was expected. Please change the shape of y to (n_samples,), for example using ravel().\n",
      "  return fit_method(estimator, *args, **kwargs)\n"
     ]
    },
    {
     "name": "stdout",
     "output_type": "stream",
     "text": [
      "[CV 2/5] END class_weight=balanced, max_depth=3, min_samples_leaf=10, min_samples_split=5, n_estimators=100;, score=0.920 total time=   1.2s\n"
     ]
    },
    {
     "name": "stderr",
     "output_type": "stream",
     "text": [
      "C:\\Users\\jb5983on\\AppData\\Local\\anaconda3\\envs\\polars\\Lib\\site-packages\\sklearn\\base.py:1473: DataConversionWarning: A column-vector y was passed when a 1d array was expected. Please change the shape of y to (n_samples,), for example using ravel().\n",
      "  return fit_method(estimator, *args, **kwargs)\n"
     ]
    },
    {
     "name": "stdout",
     "output_type": "stream",
     "text": [
      "[CV 3/5] END class_weight=balanced, max_depth=3, min_samples_leaf=10, min_samples_split=5, n_estimators=100;, score=0.929 total time=   1.1s\n"
     ]
    },
    {
     "name": "stderr",
     "output_type": "stream",
     "text": [
      "C:\\Users\\jb5983on\\AppData\\Local\\anaconda3\\envs\\polars\\Lib\\site-packages\\sklearn\\base.py:1473: DataConversionWarning: A column-vector y was passed when a 1d array was expected. Please change the shape of y to (n_samples,), for example using ravel().\n",
      "  return fit_method(estimator, *args, **kwargs)\n"
     ]
    },
    {
     "name": "stdout",
     "output_type": "stream",
     "text": [
      "[CV 4/5] END class_weight=balanced, max_depth=3, min_samples_leaf=10, min_samples_split=5, n_estimators=100;, score=0.898 total time=   1.1s\n"
     ]
    },
    {
     "name": "stderr",
     "output_type": "stream",
     "text": [
      "C:\\Users\\jb5983on\\AppData\\Local\\anaconda3\\envs\\polars\\Lib\\site-packages\\sklearn\\base.py:1473: DataConversionWarning: A column-vector y was passed when a 1d array was expected. Please change the shape of y to (n_samples,), for example using ravel().\n",
      "  return fit_method(estimator, *args, **kwargs)\n"
     ]
    },
    {
     "name": "stdout",
     "output_type": "stream",
     "text": [
      "[CV 5/5] END class_weight=balanced, max_depth=3, min_samples_leaf=10, min_samples_split=5, n_estimators=100;, score=0.852 total time=   1.2s\n"
     ]
    },
    {
     "name": "stderr",
     "output_type": "stream",
     "text": [
      "C:\\Users\\jb5983on\\AppData\\Local\\anaconda3\\envs\\polars\\Lib\\site-packages\\sklearn\\base.py:1473: DataConversionWarning: A column-vector y was passed when a 1d array was expected. Please change the shape of y to (n_samples,), for example using ravel().\n",
      "  return fit_method(estimator, *args, **kwargs)\n"
     ]
    },
    {
     "name": "stdout",
     "output_type": "stream",
     "text": [
      "[CV 1/5] END class_weight=balanced, max_depth=3, min_samples_leaf=10, min_samples_split=10, n_estimators=10;, score=0.830 total time=   0.1s\n",
      "[CV 2/5] END class_weight=balanced, max_depth=3, min_samples_leaf=10, min_samples_split=10, n_estimators=10;, score=0.919 total time=   0.1s\n"
     ]
    },
    {
     "name": "stderr",
     "output_type": "stream",
     "text": [
      "C:\\Users\\jb5983on\\AppData\\Local\\anaconda3\\envs\\polars\\Lib\\site-packages\\sklearn\\base.py:1473: DataConversionWarning: A column-vector y was passed when a 1d array was expected. Please change the shape of y to (n_samples,), for example using ravel().\n",
      "  return fit_method(estimator, *args, **kwargs)\n",
      "C:\\Users\\jb5983on\\AppData\\Local\\anaconda3\\envs\\polars\\Lib\\site-packages\\sklearn\\base.py:1473: DataConversionWarning: A column-vector y was passed when a 1d array was expected. Please change the shape of y to (n_samples,), for example using ravel().\n",
      "  return fit_method(estimator, *args, **kwargs)\n"
     ]
    },
    {
     "name": "stdout",
     "output_type": "stream",
     "text": [
      "[CV 3/5] END class_weight=balanced, max_depth=3, min_samples_leaf=10, min_samples_split=10, n_estimators=10;, score=0.919 total time=   0.1s\n",
      "[CV 4/5] END class_weight=balanced, max_depth=3, min_samples_leaf=10, min_samples_split=10, n_estimators=10;, score=0.748 total time=   0.1s\n"
     ]
    },
    {
     "name": "stderr",
     "output_type": "stream",
     "text": [
      "C:\\Users\\jb5983on\\AppData\\Local\\anaconda3\\envs\\polars\\Lib\\site-packages\\sklearn\\base.py:1473: DataConversionWarning: A column-vector y was passed when a 1d array was expected. Please change the shape of y to (n_samples,), for example using ravel().\n",
      "  return fit_method(estimator, *args, **kwargs)\n",
      "C:\\Users\\jb5983on\\AppData\\Local\\anaconda3\\envs\\polars\\Lib\\site-packages\\sklearn\\base.py:1473: DataConversionWarning: A column-vector y was passed when a 1d array was expected. Please change the shape of y to (n_samples,), for example using ravel().\n",
      "  return fit_method(estimator, *args, **kwargs)\n"
     ]
    },
    {
     "name": "stdout",
     "output_type": "stream",
     "text": [
      "[CV 5/5] END class_weight=balanced, max_depth=3, min_samples_leaf=10, min_samples_split=10, n_estimators=10;, score=0.910 total time=   0.1s\n"
     ]
    },
    {
     "name": "stderr",
     "output_type": "stream",
     "text": [
      "C:\\Users\\jb5983on\\AppData\\Local\\anaconda3\\envs\\polars\\Lib\\site-packages\\sklearn\\base.py:1473: DataConversionWarning: A column-vector y was passed when a 1d array was expected. Please change the shape of y to (n_samples,), for example using ravel().\n",
      "  return fit_method(estimator, *args, **kwargs)\n"
     ]
    },
    {
     "name": "stdout",
     "output_type": "stream",
     "text": [
      "[CV 1/5] END class_weight=balanced, max_depth=3, min_samples_leaf=10, min_samples_split=10, n_estimators=100;, score=0.843 total time=   1.1s\n"
     ]
    },
    {
     "name": "stderr",
     "output_type": "stream",
     "text": [
      "C:\\Users\\jb5983on\\AppData\\Local\\anaconda3\\envs\\polars\\Lib\\site-packages\\sklearn\\base.py:1473: DataConversionWarning: A column-vector y was passed when a 1d array was expected. Please change the shape of y to (n_samples,), for example using ravel().\n",
      "  return fit_method(estimator, *args, **kwargs)\n"
     ]
    },
    {
     "name": "stdout",
     "output_type": "stream",
     "text": [
      "[CV 2/5] END class_weight=balanced, max_depth=3, min_samples_leaf=10, min_samples_split=10, n_estimators=100;, score=0.923 total time=   1.2s\n"
     ]
    },
    {
     "name": "stderr",
     "output_type": "stream",
     "text": [
      "C:\\Users\\jb5983on\\AppData\\Local\\anaconda3\\envs\\polars\\Lib\\site-packages\\sklearn\\base.py:1473: DataConversionWarning: A column-vector y was passed when a 1d array was expected. Please change the shape of y to (n_samples,), for example using ravel().\n",
      "  return fit_method(estimator, *args, **kwargs)\n"
     ]
    },
    {
     "name": "stdout",
     "output_type": "stream",
     "text": [
      "[CV 3/5] END class_weight=balanced, max_depth=3, min_samples_leaf=10, min_samples_split=10, n_estimators=100;, score=0.927 total time=   0.9s\n"
     ]
    },
    {
     "name": "stderr",
     "output_type": "stream",
     "text": [
      "C:\\Users\\jb5983on\\AppData\\Local\\anaconda3\\envs\\polars\\Lib\\site-packages\\sklearn\\base.py:1473: DataConversionWarning: A column-vector y was passed when a 1d array was expected. Please change the shape of y to (n_samples,), for example using ravel().\n",
      "  return fit_method(estimator, *args, **kwargs)\n"
     ]
    },
    {
     "name": "stdout",
     "output_type": "stream",
     "text": [
      "[CV 4/5] END class_weight=balanced, max_depth=3, min_samples_leaf=10, min_samples_split=10, n_estimators=100;, score=0.903 total time=   0.8s\n"
     ]
    },
    {
     "name": "stderr",
     "output_type": "stream",
     "text": [
      "C:\\Users\\jb5983on\\AppData\\Local\\anaconda3\\envs\\polars\\Lib\\site-packages\\sklearn\\base.py:1473: DataConversionWarning: A column-vector y was passed when a 1d array was expected. Please change the shape of y to (n_samples,), for example using ravel().\n",
      "  return fit_method(estimator, *args, **kwargs)\n"
     ]
    },
    {
     "name": "stdout",
     "output_type": "stream",
     "text": [
      "[CV 5/5] END class_weight=balanced, max_depth=3, min_samples_leaf=10, min_samples_split=10, n_estimators=100;, score=0.866 total time=   1.0s\n",
      "[CV 1/5] END class_weight=balanced, max_depth=4, min_samples_leaf=1, min_samples_split=1, n_estimators=10;, score=nan total time=   0.0s\n",
      "[CV 2/5] END class_weight=balanced, max_depth=4, min_samples_leaf=1, min_samples_split=1, n_estimators=10;, score=nan total time=   0.0s\n",
      "[CV 3/5] END class_weight=balanced, max_depth=4, min_samples_leaf=1, min_samples_split=1, n_estimators=10;, score=nan total time=   0.0s\n",
      "[CV 4/5] END class_weight=balanced, max_depth=4, min_samples_leaf=1, min_samples_split=1, n_estimators=10;, score=nan total time=   0.0s\n",
      "[CV 5/5] END class_weight=balanced, max_depth=4, min_samples_leaf=1, min_samples_split=1, n_estimators=10;, score=nan total time=   0.0s\n",
      "[CV 1/5] END class_weight=balanced, max_depth=4, min_samples_leaf=1, min_samples_split=1, n_estimators=100;, score=nan total time=   0.0s\n",
      "[CV 2/5] END class_weight=balanced, max_depth=4, min_samples_leaf=1, min_samples_split=1, n_estimators=100;, score=nan total time=   0.0s\n",
      "[CV 3/5] END class_weight=balanced, max_depth=4, min_samples_leaf=1, min_samples_split=1, n_estimators=100;, score=nan total time=   0.0s\n",
      "[CV 4/5] END class_weight=balanced, max_depth=4, min_samples_leaf=1, min_samples_split=1, n_estimators=100;, score=nan total time=   0.0s\n",
      "[CV 5/5] END class_weight=balanced, max_depth=4, min_samples_leaf=1, min_samples_split=1, n_estimators=100;, score=nan total time=   0.0s\n"
     ]
    },
    {
     "name": "stderr",
     "output_type": "stream",
     "text": [
      "C:\\Users\\jb5983on\\AppData\\Local\\anaconda3\\envs\\polars\\Lib\\site-packages\\sklearn\\base.py:1473: DataConversionWarning: A column-vector y was passed when a 1d array was expected. Please change the shape of y to (n_samples,), for example using ravel().\n",
      "  return fit_method(estimator, *args, **kwargs)\n",
      "C:\\Users\\jb5983on\\AppData\\Local\\anaconda3\\envs\\polars\\Lib\\site-packages\\sklearn\\base.py:1473: DataConversionWarning: A column-vector y was passed when a 1d array was expected. Please change the shape of y to (n_samples,), for example using ravel().\n",
      "  return fit_method(estimator, *args, **kwargs)\n"
     ]
    },
    {
     "name": "stdout",
     "output_type": "stream",
     "text": [
      "[CV 1/5] END class_weight=balanced, max_depth=4, min_samples_leaf=1, min_samples_split=5, n_estimators=10;, score=0.884 total time=   0.0s\n",
      "[CV 2/5] END class_weight=balanced, max_depth=4, min_samples_leaf=1, min_samples_split=5, n_estimators=10;, score=0.906 total time=   0.1s\n"
     ]
    },
    {
     "name": "stderr",
     "output_type": "stream",
     "text": [
      "C:\\Users\\jb5983on\\AppData\\Local\\anaconda3\\envs\\polars\\Lib\\site-packages\\sklearn\\base.py:1473: DataConversionWarning: A column-vector y was passed when a 1d array was expected. Please change the shape of y to (n_samples,), for example using ravel().\n",
      "  return fit_method(estimator, *args, **kwargs)\n"
     ]
    },
    {
     "name": "stdout",
     "output_type": "stream",
     "text": [
      "[CV 3/5] END class_weight=balanced, max_depth=4, min_samples_leaf=1, min_samples_split=5, n_estimators=10;, score=0.884 total time=   0.1s\n",
      "[CV 4/5] END class_weight=balanced, max_depth=4, min_samples_leaf=1, min_samples_split=5, n_estimators=10;, score=0.884 total time=   0.1s\n"
     ]
    },
    {
     "name": "stderr",
     "output_type": "stream",
     "text": [
      "C:\\Users\\jb5983on\\AppData\\Local\\anaconda3\\envs\\polars\\Lib\\site-packages\\sklearn\\base.py:1473: DataConversionWarning: A column-vector y was passed when a 1d array was expected. Please change the shape of y to (n_samples,), for example using ravel().\n",
      "  return fit_method(estimator, *args, **kwargs)\n",
      "C:\\Users\\jb5983on\\AppData\\Local\\anaconda3\\envs\\polars\\Lib\\site-packages\\sklearn\\base.py:1473: DataConversionWarning: A column-vector y was passed when a 1d array was expected. Please change the shape of y to (n_samples,), for example using ravel().\n",
      "  return fit_method(estimator, *args, **kwargs)\n"
     ]
    },
    {
     "name": "stdout",
     "output_type": "stream",
     "text": [
      "[CV 5/5] END class_weight=balanced, max_depth=4, min_samples_leaf=1, min_samples_split=5, n_estimators=10;, score=0.885 total time=   0.1s\n"
     ]
    },
    {
     "name": "stderr",
     "output_type": "stream",
     "text": [
      "C:\\Users\\jb5983on\\AppData\\Local\\anaconda3\\envs\\polars\\Lib\\site-packages\\sklearn\\base.py:1473: DataConversionWarning: A column-vector y was passed when a 1d array was expected. Please change the shape of y to (n_samples,), for example using ravel().\n",
      "  return fit_method(estimator, *args, **kwargs)\n"
     ]
    },
    {
     "name": "stdout",
     "output_type": "stream",
     "text": [
      "[CV 1/5] END class_weight=balanced, max_depth=4, min_samples_leaf=1, min_samples_split=5, n_estimators=100;, score=0.893 total time=   1.2s\n"
     ]
    },
    {
     "name": "stderr",
     "output_type": "stream",
     "text": [
      "C:\\Users\\jb5983on\\AppData\\Local\\anaconda3\\envs\\polars\\Lib\\site-packages\\sklearn\\base.py:1473: DataConversionWarning: A column-vector y was passed when a 1d array was expected. Please change the shape of y to (n_samples,), for example using ravel().\n",
      "  return fit_method(estimator, *args, **kwargs)\n"
     ]
    },
    {
     "name": "stdout",
     "output_type": "stream",
     "text": [
      "[CV 2/5] END class_weight=balanced, max_depth=4, min_samples_leaf=1, min_samples_split=5, n_estimators=100;, score=0.907 total time=   1.2s\n"
     ]
    },
    {
     "name": "stderr",
     "output_type": "stream",
     "text": [
      "C:\\Users\\jb5983on\\AppData\\Local\\anaconda3\\envs\\polars\\Lib\\site-packages\\sklearn\\base.py:1473: DataConversionWarning: A column-vector y was passed when a 1d array was expected. Please change the shape of y to (n_samples,), for example using ravel().\n",
      "  return fit_method(estimator, *args, **kwargs)\n"
     ]
    },
    {
     "name": "stdout",
     "output_type": "stream",
     "text": [
      "[CV 3/5] END class_weight=balanced, max_depth=4, min_samples_leaf=1, min_samples_split=5, n_estimators=100;, score=0.890 total time=   1.2s\n"
     ]
    },
    {
     "name": "stderr",
     "output_type": "stream",
     "text": [
      "C:\\Users\\jb5983on\\AppData\\Local\\anaconda3\\envs\\polars\\Lib\\site-packages\\sklearn\\base.py:1473: DataConversionWarning: A column-vector y was passed when a 1d array was expected. Please change the shape of y to (n_samples,), for example using ravel().\n",
      "  return fit_method(estimator, *args, **kwargs)\n"
     ]
    },
    {
     "name": "stdout",
     "output_type": "stream",
     "text": [
      "[CV 4/5] END class_weight=balanced, max_depth=4, min_samples_leaf=1, min_samples_split=5, n_estimators=100;, score=0.894 total time=   1.3s\n"
     ]
    },
    {
     "name": "stderr",
     "output_type": "stream",
     "text": [
      "C:\\Users\\jb5983on\\AppData\\Local\\anaconda3\\envs\\polars\\Lib\\site-packages\\sklearn\\base.py:1473: DataConversionWarning: A column-vector y was passed when a 1d array was expected. Please change the shape of y to (n_samples,), for example using ravel().\n",
      "  return fit_method(estimator, *args, **kwargs)\n"
     ]
    },
    {
     "name": "stdout",
     "output_type": "stream",
     "text": [
      "[CV 5/5] END class_weight=balanced, max_depth=4, min_samples_leaf=1, min_samples_split=5, n_estimators=100;, score=0.884 total time=   1.3s\n"
     ]
    },
    {
     "name": "stderr",
     "output_type": "stream",
     "text": [
      "C:\\Users\\jb5983on\\AppData\\Local\\anaconda3\\envs\\polars\\Lib\\site-packages\\sklearn\\base.py:1473: DataConversionWarning: A column-vector y was passed when a 1d array was expected. Please change the shape of y to (n_samples,), for example using ravel().\n",
      "  return fit_method(estimator, *args, **kwargs)\n"
     ]
    },
    {
     "name": "stdout",
     "output_type": "stream",
     "text": [
      "[CV 1/5] END class_weight=balanced, max_depth=4, min_samples_leaf=1, min_samples_split=10, n_estimators=10;, score=0.878 total time=   0.1s\n"
     ]
    },
    {
     "name": "stderr",
     "output_type": "stream",
     "text": [
      "C:\\Users\\jb5983on\\AppData\\Local\\anaconda3\\envs\\polars\\Lib\\site-packages\\sklearn\\base.py:1473: DataConversionWarning: A column-vector y was passed when a 1d array was expected. Please change the shape of y to (n_samples,), for example using ravel().\n",
      "  return fit_method(estimator, *args, **kwargs)\n"
     ]
    },
    {
     "name": "stdout",
     "output_type": "stream",
     "text": [
      "[CV 2/5] END class_weight=balanced, max_depth=4, min_samples_leaf=1, min_samples_split=10, n_estimators=10;, score=0.911 total time=   0.1s\n"
     ]
    },
    {
     "name": "stderr",
     "output_type": "stream",
     "text": [
      "C:\\Users\\jb5983on\\AppData\\Local\\anaconda3\\envs\\polars\\Lib\\site-packages\\sklearn\\base.py:1473: DataConversionWarning: A column-vector y was passed when a 1d array was expected. Please change the shape of y to (n_samples,), for example using ravel().\n",
      "  return fit_method(estimator, *args, **kwargs)\n"
     ]
    },
    {
     "name": "stdout",
     "output_type": "stream",
     "text": [
      "[CV 3/5] END class_weight=balanced, max_depth=4, min_samples_leaf=1, min_samples_split=10, n_estimators=10;, score=0.927 total time=   0.2s\n"
     ]
    },
    {
     "name": "stderr",
     "output_type": "stream",
     "text": [
      "C:\\Users\\jb5983on\\AppData\\Local\\anaconda3\\envs\\polars\\Lib\\site-packages\\sklearn\\base.py:1473: DataConversionWarning: A column-vector y was passed when a 1d array was expected. Please change the shape of y to (n_samples,), for example using ravel().\n",
      "  return fit_method(estimator, *args, **kwargs)\n"
     ]
    },
    {
     "name": "stdout",
     "output_type": "stream",
     "text": [
      "[CV 4/5] END class_weight=balanced, max_depth=4, min_samples_leaf=1, min_samples_split=10, n_estimators=10;, score=0.933 total time=   0.1s\n"
     ]
    },
    {
     "name": "stderr",
     "output_type": "stream",
     "text": [
      "C:\\Users\\jb5983on\\AppData\\Local\\anaconda3\\envs\\polars\\Lib\\site-packages\\sklearn\\base.py:1473: DataConversionWarning: A column-vector y was passed when a 1d array was expected. Please change the shape of y to (n_samples,), for example using ravel().\n",
      "  return fit_method(estimator, *args, **kwargs)\n"
     ]
    },
    {
     "name": "stdout",
     "output_type": "stream",
     "text": [
      "[CV 5/5] END class_weight=balanced, max_depth=4, min_samples_leaf=1, min_samples_split=10, n_estimators=10;, score=0.908 total time=   0.1s\n"
     ]
    },
    {
     "name": "stderr",
     "output_type": "stream",
     "text": [
      "C:\\Users\\jb5983on\\AppData\\Local\\anaconda3\\envs\\polars\\Lib\\site-packages\\sklearn\\base.py:1473: DataConversionWarning: A column-vector y was passed when a 1d array was expected. Please change the shape of y to (n_samples,), for example using ravel().\n",
      "  return fit_method(estimator, *args, **kwargs)\n"
     ]
    },
    {
     "name": "stdout",
     "output_type": "stream",
     "text": [
      "[CV 1/5] END class_weight=balanced, max_depth=4, min_samples_leaf=1, min_samples_split=10, n_estimators=100;, score=0.896 total time=   1.2s\n"
     ]
    },
    {
     "name": "stderr",
     "output_type": "stream",
     "text": [
      "C:\\Users\\jb5983on\\AppData\\Local\\anaconda3\\envs\\polars\\Lib\\site-packages\\sklearn\\base.py:1473: DataConversionWarning: A column-vector y was passed when a 1d array was expected. Please change the shape of y to (n_samples,), for example using ravel().\n",
      "  return fit_method(estimator, *args, **kwargs)\n"
     ]
    },
    {
     "name": "stdout",
     "output_type": "stream",
     "text": [
      "[CV 2/5] END class_weight=balanced, max_depth=4, min_samples_leaf=1, min_samples_split=10, n_estimators=100;, score=0.927 total time=   1.5s\n"
     ]
    },
    {
     "name": "stderr",
     "output_type": "stream",
     "text": [
      "C:\\Users\\jb5983on\\AppData\\Local\\anaconda3\\envs\\polars\\Lib\\site-packages\\sklearn\\base.py:1473: DataConversionWarning: A column-vector y was passed when a 1d array was expected. Please change the shape of y to (n_samples,), for example using ravel().\n",
      "  return fit_method(estimator, *args, **kwargs)\n"
     ]
    },
    {
     "name": "stdout",
     "output_type": "stream",
     "text": [
      "[CV 3/5] END class_weight=balanced, max_depth=4, min_samples_leaf=1, min_samples_split=10, n_estimators=100;, score=0.894 total time=   1.2s\n"
     ]
    },
    {
     "name": "stderr",
     "output_type": "stream",
     "text": [
      "C:\\Users\\jb5983on\\AppData\\Local\\anaconda3\\envs\\polars\\Lib\\site-packages\\sklearn\\base.py:1473: DataConversionWarning: A column-vector y was passed when a 1d array was expected. Please change the shape of y to (n_samples,), for example using ravel().\n",
      "  return fit_method(estimator, *args, **kwargs)\n"
     ]
    },
    {
     "name": "stdout",
     "output_type": "stream",
     "text": [
      "[CV 4/5] END class_weight=balanced, max_depth=4, min_samples_leaf=1, min_samples_split=10, n_estimators=100;, score=0.897 total time=   1.1s\n"
     ]
    },
    {
     "name": "stderr",
     "output_type": "stream",
     "text": [
      "C:\\Users\\jb5983on\\AppData\\Local\\anaconda3\\envs\\polars\\Lib\\site-packages\\sklearn\\base.py:1473: DataConversionWarning: A column-vector y was passed when a 1d array was expected. Please change the shape of y to (n_samples,), for example using ravel().\n",
      "  return fit_method(estimator, *args, **kwargs)\n"
     ]
    },
    {
     "name": "stdout",
     "output_type": "stream",
     "text": [
      "[CV 5/5] END class_weight=balanced, max_depth=4, min_samples_leaf=1, min_samples_split=10, n_estimators=100;, score=0.903 total time=   1.1s\n",
      "[CV 1/5] END class_weight=balanced, max_depth=4, min_samples_leaf=5, min_samples_split=1, n_estimators=10;, score=nan total time=   0.0s\n",
      "[CV 2/5] END class_weight=balanced, max_depth=4, min_samples_leaf=5, min_samples_split=1, n_estimators=10;, score=nan total time=   0.0s\n",
      "[CV 3/5] END class_weight=balanced, max_depth=4, min_samples_leaf=5, min_samples_split=1, n_estimators=10;, score=nan total time=   0.0s\n",
      "[CV 4/5] END class_weight=balanced, max_depth=4, min_samples_leaf=5, min_samples_split=1, n_estimators=10;, score=nan total time=   0.0s\n",
      "[CV 5/5] END class_weight=balanced, max_depth=4, min_samples_leaf=5, min_samples_split=1, n_estimators=10;, score=nan total time=   0.0s\n",
      "[CV 1/5] END class_weight=balanced, max_depth=4, min_samples_leaf=5, min_samples_split=1, n_estimators=100;, score=nan total time=   0.0s\n",
      "[CV 2/5] END class_weight=balanced, max_depth=4, min_samples_leaf=5, min_samples_split=1, n_estimators=100;, score=nan total time=   0.0s\n",
      "[CV 3/5] END class_weight=balanced, max_depth=4, min_samples_leaf=5, min_samples_split=1, n_estimators=100;, score=nan total time=   0.0s\n",
      "[CV 4/5] END class_weight=balanced, max_depth=4, min_samples_leaf=5, min_samples_split=1, n_estimators=100;, score=nan total time=   0.0s\n",
      "[CV 5/5] END class_weight=balanced, max_depth=4, min_samples_leaf=5, min_samples_split=1, n_estimators=100;, score=nan total time=   0.0s\n"
     ]
    },
    {
     "name": "stderr",
     "output_type": "stream",
     "text": [
      "C:\\Users\\jb5983on\\AppData\\Local\\anaconda3\\envs\\polars\\Lib\\site-packages\\sklearn\\base.py:1473: DataConversionWarning: A column-vector y was passed when a 1d array was expected. Please change the shape of y to (n_samples,), for example using ravel().\n",
      "  return fit_method(estimator, *args, **kwargs)\n"
     ]
    },
    {
     "name": "stdout",
     "output_type": "stream",
     "text": [
      "[CV 1/5] END class_weight=balanced, max_depth=4, min_samples_leaf=5, min_samples_split=5, n_estimators=10;, score=0.894 total time=   0.1s\n",
      "[CV 2/5] END class_weight=balanced, max_depth=4, min_samples_leaf=5, min_samples_split=5, n_estimators=10;, score=0.909 total time=   0.1s\n"
     ]
    },
    {
     "name": "stderr",
     "output_type": "stream",
     "text": [
      "C:\\Users\\jb5983on\\AppData\\Local\\anaconda3\\envs\\polars\\Lib\\site-packages\\sklearn\\base.py:1473: DataConversionWarning: A column-vector y was passed when a 1d array was expected. Please change the shape of y to (n_samples,), for example using ravel().\n",
      "  return fit_method(estimator, *args, **kwargs)\n",
      "C:\\Users\\jb5983on\\AppData\\Local\\anaconda3\\envs\\polars\\Lib\\site-packages\\sklearn\\base.py:1473: DataConversionWarning: A column-vector y was passed when a 1d array was expected. Please change the shape of y to (n_samples,), for example using ravel().\n",
      "  return fit_method(estimator, *args, **kwargs)\n"
     ]
    },
    {
     "name": "stdout",
     "output_type": "stream",
     "text": [
      "[CV 3/5] END class_weight=balanced, max_depth=4, min_samples_leaf=5, min_samples_split=5, n_estimators=10;, score=0.891 total time=   0.2s\n",
      "[CV 4/5] END class_weight=balanced, max_depth=4, min_samples_leaf=5, min_samples_split=5, n_estimators=10;, score=0.919 total time=   0.1s\n"
     ]
    },
    {
     "name": "stderr",
     "output_type": "stream",
     "text": [
      "C:\\Users\\jb5983on\\AppData\\Local\\anaconda3\\envs\\polars\\Lib\\site-packages\\sklearn\\base.py:1473: DataConversionWarning: A column-vector y was passed when a 1d array was expected. Please change the shape of y to (n_samples,), for example using ravel().\n",
      "  return fit_method(estimator, *args, **kwargs)\n",
      "C:\\Users\\jb5983on\\AppData\\Local\\anaconda3\\envs\\polars\\Lib\\site-packages\\sklearn\\base.py:1473: DataConversionWarning: A column-vector y was passed when a 1d array was expected. Please change the shape of y to (n_samples,), for example using ravel().\n",
      "  return fit_method(estimator, *args, **kwargs)\n"
     ]
    },
    {
     "name": "stdout",
     "output_type": "stream",
     "text": [
      "[CV 5/5] END class_weight=balanced, max_depth=4, min_samples_leaf=5, min_samples_split=5, n_estimators=10;, score=0.901 total time=   0.1s\n"
     ]
    },
    {
     "name": "stderr",
     "output_type": "stream",
     "text": [
      "C:\\Users\\jb5983on\\AppData\\Local\\anaconda3\\envs\\polars\\Lib\\site-packages\\sklearn\\base.py:1473: DataConversionWarning: A column-vector y was passed when a 1d array was expected. Please change the shape of y to (n_samples,), for example using ravel().\n",
      "  return fit_method(estimator, *args, **kwargs)\n"
     ]
    },
    {
     "name": "stdout",
     "output_type": "stream",
     "text": [
      "[CV 1/5] END class_weight=balanced, max_depth=4, min_samples_leaf=5, min_samples_split=5, n_estimators=100;, score=0.886 total time=   1.2s\n"
     ]
    },
    {
     "name": "stderr",
     "output_type": "stream",
     "text": [
      "C:\\Users\\jb5983on\\AppData\\Local\\anaconda3\\envs\\polars\\Lib\\site-packages\\sklearn\\base.py:1473: DataConversionWarning: A column-vector y was passed when a 1d array was expected. Please change the shape of y to (n_samples,), for example using ravel().\n",
      "  return fit_method(estimator, *args, **kwargs)\n"
     ]
    },
    {
     "name": "stdout",
     "output_type": "stream",
     "text": [
      "[CV 2/5] END class_weight=balanced, max_depth=4, min_samples_leaf=5, min_samples_split=5, n_estimators=100;, score=0.919 total time=   1.3s\n"
     ]
    },
    {
     "name": "stderr",
     "output_type": "stream",
     "text": [
      "C:\\Users\\jb5983on\\AppData\\Local\\anaconda3\\envs\\polars\\Lib\\site-packages\\sklearn\\base.py:1473: DataConversionWarning: A column-vector y was passed when a 1d array was expected. Please change the shape of y to (n_samples,), for example using ravel().\n",
      "  return fit_method(estimator, *args, **kwargs)\n"
     ]
    },
    {
     "name": "stdout",
     "output_type": "stream",
     "text": [
      "[CV 3/5] END class_weight=balanced, max_depth=4, min_samples_leaf=5, min_samples_split=5, n_estimators=100;, score=0.901 total time=   1.1s\n"
     ]
    },
    {
     "name": "stderr",
     "output_type": "stream",
     "text": [
      "C:\\Users\\jb5983on\\AppData\\Local\\anaconda3\\envs\\polars\\Lib\\site-packages\\sklearn\\base.py:1473: DataConversionWarning: A column-vector y was passed when a 1d array was expected. Please change the shape of y to (n_samples,), for example using ravel().\n",
      "  return fit_method(estimator, *args, **kwargs)\n"
     ]
    },
    {
     "name": "stdout",
     "output_type": "stream",
     "text": [
      "[CV 4/5] END class_weight=balanced, max_depth=4, min_samples_leaf=5, min_samples_split=5, n_estimators=100;, score=0.897 total time=   1.3s\n"
     ]
    },
    {
     "name": "stderr",
     "output_type": "stream",
     "text": [
      "C:\\Users\\jb5983on\\AppData\\Local\\anaconda3\\envs\\polars\\Lib\\site-packages\\sklearn\\base.py:1473: DataConversionWarning: A column-vector y was passed when a 1d array was expected. Please change the shape of y to (n_samples,), for example using ravel().\n",
      "  return fit_method(estimator, *args, **kwargs)\n"
     ]
    },
    {
     "name": "stdout",
     "output_type": "stream",
     "text": [
      "[CV 5/5] END class_weight=balanced, max_depth=4, min_samples_leaf=5, min_samples_split=5, n_estimators=100;, score=0.903 total time=   1.2s\n"
     ]
    },
    {
     "name": "stderr",
     "output_type": "stream",
     "text": [
      "C:\\Users\\jb5983on\\AppData\\Local\\anaconda3\\envs\\polars\\Lib\\site-packages\\sklearn\\base.py:1473: DataConversionWarning: A column-vector y was passed when a 1d array was expected. Please change the shape of y to (n_samples,), for example using ravel().\n",
      "  return fit_method(estimator, *args, **kwargs)\n"
     ]
    },
    {
     "name": "stdout",
     "output_type": "stream",
     "text": [
      "[CV 1/5] END class_weight=balanced, max_depth=4, min_samples_leaf=5, min_samples_split=10, n_estimators=10;, score=0.871 total time=   0.1s\n"
     ]
    },
    {
     "name": "stderr",
     "output_type": "stream",
     "text": [
      "C:\\Users\\jb5983on\\AppData\\Local\\anaconda3\\envs\\polars\\Lib\\site-packages\\sklearn\\base.py:1473: DataConversionWarning: A column-vector y was passed when a 1d array was expected. Please change the shape of y to (n_samples,), for example using ravel().\n",
      "  return fit_method(estimator, *args, **kwargs)\n"
     ]
    },
    {
     "name": "stdout",
     "output_type": "stream",
     "text": [
      "[CV 2/5] END class_weight=balanced, max_depth=4, min_samples_leaf=5, min_samples_split=10, n_estimators=10;, score=0.919 total time=   0.1s\n"
     ]
    },
    {
     "name": "stderr",
     "output_type": "stream",
     "text": [
      "C:\\Users\\jb5983on\\AppData\\Local\\anaconda3\\envs\\polars\\Lib\\site-packages\\sklearn\\base.py:1473: DataConversionWarning: A column-vector y was passed when a 1d array was expected. Please change the shape of y to (n_samples,), for example using ravel().\n",
      "  return fit_method(estimator, *args, **kwargs)\n"
     ]
    },
    {
     "name": "stdout",
     "output_type": "stream",
     "text": [
      "[CV 3/5] END class_weight=balanced, max_depth=4, min_samples_leaf=5, min_samples_split=10, n_estimators=10;, score=0.906 total time=   0.1s\n"
     ]
    },
    {
     "name": "stderr",
     "output_type": "stream",
     "text": [
      "C:\\Users\\jb5983on\\AppData\\Local\\anaconda3\\envs\\polars\\Lib\\site-packages\\sklearn\\base.py:1473: DataConversionWarning: A column-vector y was passed when a 1d array was expected. Please change the shape of y to (n_samples,), for example using ravel().\n",
      "  return fit_method(estimator, *args, **kwargs)\n"
     ]
    },
    {
     "name": "stdout",
     "output_type": "stream",
     "text": [
      "[CV 4/5] END class_weight=balanced, max_depth=4, min_samples_leaf=5, min_samples_split=10, n_estimators=10;, score=0.887 total time=   0.1s\n"
     ]
    },
    {
     "name": "stderr",
     "output_type": "stream",
     "text": [
      "C:\\Users\\jb5983on\\AppData\\Local\\anaconda3\\envs\\polars\\Lib\\site-packages\\sklearn\\base.py:1473: DataConversionWarning: A column-vector y was passed when a 1d array was expected. Please change the shape of y to (n_samples,), for example using ravel().\n",
      "  return fit_method(estimator, *args, **kwargs)\n"
     ]
    },
    {
     "name": "stdout",
     "output_type": "stream",
     "text": [
      "[CV 5/5] END class_weight=balanced, max_depth=4, min_samples_leaf=5, min_samples_split=10, n_estimators=10;, score=0.871 total time=   0.2s\n"
     ]
    },
    {
     "name": "stderr",
     "output_type": "stream",
     "text": [
      "C:\\Users\\jb5983on\\AppData\\Local\\anaconda3\\envs\\polars\\Lib\\site-packages\\sklearn\\base.py:1473: DataConversionWarning: A column-vector y was passed when a 1d array was expected. Please change the shape of y to (n_samples,), for example using ravel().\n",
      "  return fit_method(estimator, *args, **kwargs)\n"
     ]
    },
    {
     "name": "stdout",
     "output_type": "stream",
     "text": [
      "[CV 1/5] END class_weight=balanced, max_depth=4, min_samples_leaf=5, min_samples_split=10, n_estimators=100;, score=0.896 total time=   1.1s\n"
     ]
    },
    {
     "name": "stderr",
     "output_type": "stream",
     "text": [
      "C:\\Users\\jb5983on\\AppData\\Local\\anaconda3\\envs\\polars\\Lib\\site-packages\\sklearn\\base.py:1473: DataConversionWarning: A column-vector y was passed when a 1d array was expected. Please change the shape of y to (n_samples,), for example using ravel().\n",
      "  return fit_method(estimator, *args, **kwargs)\n"
     ]
    },
    {
     "name": "stdout",
     "output_type": "stream",
     "text": [
      "[CV 2/5] END class_weight=balanced, max_depth=4, min_samples_leaf=5, min_samples_split=10, n_estimators=100;, score=0.920 total time=   1.2s\n"
     ]
    },
    {
     "name": "stderr",
     "output_type": "stream",
     "text": [
      "C:\\Users\\jb5983on\\AppData\\Local\\anaconda3\\envs\\polars\\Lib\\site-packages\\sklearn\\base.py:1473: DataConversionWarning: A column-vector y was passed when a 1d array was expected. Please change the shape of y to (n_samples,), for example using ravel().\n",
      "  return fit_method(estimator, *args, **kwargs)\n"
     ]
    },
    {
     "name": "stdout",
     "output_type": "stream",
     "text": [
      "[CV 3/5] END class_weight=balanced, max_depth=4, min_samples_leaf=5, min_samples_split=10, n_estimators=100;, score=0.901 total time=   1.2s\n"
     ]
    },
    {
     "name": "stderr",
     "output_type": "stream",
     "text": [
      "C:\\Users\\jb5983on\\AppData\\Local\\anaconda3\\envs\\polars\\Lib\\site-packages\\sklearn\\base.py:1473: DataConversionWarning: A column-vector y was passed when a 1d array was expected. Please change the shape of y to (n_samples,), for example using ravel().\n",
      "  return fit_method(estimator, *args, **kwargs)\n"
     ]
    },
    {
     "name": "stdout",
     "output_type": "stream",
     "text": [
      "[CV 4/5] END class_weight=balanced, max_depth=4, min_samples_leaf=5, min_samples_split=10, n_estimators=100;, score=0.902 total time=   1.2s\n"
     ]
    },
    {
     "name": "stderr",
     "output_type": "stream",
     "text": [
      "C:\\Users\\jb5983on\\AppData\\Local\\anaconda3\\envs\\polars\\Lib\\site-packages\\sklearn\\base.py:1473: DataConversionWarning: A column-vector y was passed when a 1d array was expected. Please change the shape of y to (n_samples,), for example using ravel().\n",
      "  return fit_method(estimator, *args, **kwargs)\n"
     ]
    },
    {
     "name": "stdout",
     "output_type": "stream",
     "text": [
      "[CV 5/5] END class_weight=balanced, max_depth=4, min_samples_leaf=5, min_samples_split=10, n_estimators=100;, score=0.900 total time=   0.8s\n",
      "[CV 1/5] END class_weight=balanced, max_depth=4, min_samples_leaf=10, min_samples_split=1, n_estimators=10;, score=nan total time=   0.0s\n",
      "[CV 2/5] END class_weight=balanced, max_depth=4, min_samples_leaf=10, min_samples_split=1, n_estimators=10;, score=nan total time=   0.0s\n",
      "[CV 3/5] END class_weight=balanced, max_depth=4, min_samples_leaf=10, min_samples_split=1, n_estimators=10;, score=nan total time=   0.0s\n",
      "[CV 4/5] END class_weight=balanced, max_depth=4, min_samples_leaf=10, min_samples_split=1, n_estimators=10;, score=nan total time=   0.0s\n",
      "[CV 5/5] END class_weight=balanced, max_depth=4, min_samples_leaf=10, min_samples_split=1, n_estimators=10;, score=nan total time=   0.0s\n",
      "[CV 1/5] END class_weight=balanced, max_depth=4, min_samples_leaf=10, min_samples_split=1, n_estimators=100;, score=nan total time=   0.0s\n",
      "[CV 2/5] END class_weight=balanced, max_depth=4, min_samples_leaf=10, min_samples_split=1, n_estimators=100;, score=nan total time=   0.0s\n",
      "[CV 3/5] END class_weight=balanced, max_depth=4, min_samples_leaf=10, min_samples_split=1, n_estimators=100;, score=nan total time=   0.0s\n",
      "[CV 4/5] END class_weight=balanced, max_depth=4, min_samples_leaf=10, min_samples_split=1, n_estimators=100;, score=nan total time=   0.0s\n",
      "[CV 5/5] END class_weight=balanced, max_depth=4, min_samples_leaf=10, min_samples_split=1, n_estimators=100;, score=nan total time=   0.0s\n"
     ]
    },
    {
     "name": "stderr",
     "output_type": "stream",
     "text": [
      "C:\\Users\\jb5983on\\AppData\\Local\\anaconda3\\envs\\polars\\Lib\\site-packages\\sklearn\\base.py:1473: DataConversionWarning: A column-vector y was passed when a 1d array was expected. Please change the shape of y to (n_samples,), for example using ravel().\n",
      "  return fit_method(estimator, *args, **kwargs)\n"
     ]
    },
    {
     "name": "stdout",
     "output_type": "stream",
     "text": [
      "[CV 1/5] END class_weight=balanced, max_depth=4, min_samples_leaf=10, min_samples_split=5, n_estimators=10;, score=0.899 total time=   0.1s\n",
      "[CV 2/5] END class_weight=balanced, max_depth=4, min_samples_leaf=10, min_samples_split=5, n_estimators=10;, score=0.911 total time=   0.1s\n"
     ]
    },
    {
     "name": "stderr",
     "output_type": "stream",
     "text": [
      "C:\\Users\\jb5983on\\AppData\\Local\\anaconda3\\envs\\polars\\Lib\\site-packages\\sklearn\\base.py:1473: DataConversionWarning: A column-vector y was passed when a 1d array was expected. Please change the shape of y to (n_samples,), for example using ravel().\n",
      "  return fit_method(estimator, *args, **kwargs)\n",
      "C:\\Users\\jb5983on\\AppData\\Local\\anaconda3\\envs\\polars\\Lib\\site-packages\\sklearn\\base.py:1473: DataConversionWarning: A column-vector y was passed when a 1d array was expected. Please change the shape of y to (n_samples,), for example using ravel().\n",
      "  return fit_method(estimator, *args, **kwargs)\n",
      "C:\\Users\\jb5983on\\AppData\\Local\\anaconda3\\envs\\polars\\Lib\\site-packages\\sklearn\\base.py:1473: DataConversionWarning: A column-vector y was passed when a 1d array was expected. Please change the shape of y to (n_samples,), for example using ravel().\n",
      "  return fit_method(estimator, *args, **kwargs)\n"
     ]
    },
    {
     "name": "stdout",
     "output_type": "stream",
     "text": [
      "[CV 3/5] END class_weight=balanced, max_depth=4, min_samples_leaf=10, min_samples_split=5, n_estimators=10;, score=0.898 total time=   0.1s\n",
      "[CV 4/5] END class_weight=balanced, max_depth=4, min_samples_leaf=10, min_samples_split=5, n_estimators=10;, score=0.905 total time=   0.1s\n"
     ]
    },
    {
     "name": "stderr",
     "output_type": "stream",
     "text": [
      "C:\\Users\\jb5983on\\AppData\\Local\\anaconda3\\envs\\polars\\Lib\\site-packages\\sklearn\\base.py:1473: DataConversionWarning: A column-vector y was passed when a 1d array was expected. Please change the shape of y to (n_samples,), for example using ravel().\n",
      "  return fit_method(estimator, *args, **kwargs)\n"
     ]
    },
    {
     "name": "stdout",
     "output_type": "stream",
     "text": [
      "[CV 5/5] END class_weight=balanced, max_depth=4, min_samples_leaf=10, min_samples_split=5, n_estimators=10;, score=0.909 total time=   0.1s\n"
     ]
    },
    {
     "name": "stderr",
     "output_type": "stream",
     "text": [
      "C:\\Users\\jb5983on\\AppData\\Local\\anaconda3\\envs\\polars\\Lib\\site-packages\\sklearn\\base.py:1473: DataConversionWarning: A column-vector y was passed when a 1d array was expected. Please change the shape of y to (n_samples,), for example using ravel().\n",
      "  return fit_method(estimator, *args, **kwargs)\n"
     ]
    },
    {
     "name": "stdout",
     "output_type": "stream",
     "text": [
      "[CV 1/5] END class_weight=balanced, max_depth=4, min_samples_leaf=10, min_samples_split=5, n_estimators=100;, score=0.897 total time=   0.8s\n"
     ]
    },
    {
     "name": "stderr",
     "output_type": "stream",
     "text": [
      "C:\\Users\\jb5983on\\AppData\\Local\\anaconda3\\envs\\polars\\Lib\\site-packages\\sklearn\\base.py:1473: DataConversionWarning: A column-vector y was passed when a 1d array was expected. Please change the shape of y to (n_samples,), for example using ravel().\n",
      "  return fit_method(estimator, *args, **kwargs)\n"
     ]
    },
    {
     "name": "stdout",
     "output_type": "stream",
     "text": [
      "[CV 2/5] END class_weight=balanced, max_depth=4, min_samples_leaf=10, min_samples_split=5, n_estimators=100;, score=0.923 total time=   1.2s\n"
     ]
    },
    {
     "name": "stderr",
     "output_type": "stream",
     "text": [
      "C:\\Users\\jb5983on\\AppData\\Local\\anaconda3\\envs\\polars\\Lib\\site-packages\\sklearn\\base.py:1473: DataConversionWarning: A column-vector y was passed when a 1d array was expected. Please change the shape of y to (n_samples,), for example using ravel().\n",
      "  return fit_method(estimator, *args, **kwargs)\n"
     ]
    },
    {
     "name": "stdout",
     "output_type": "stream",
     "text": [
      "[CV 3/5] END class_weight=balanced, max_depth=4, min_samples_leaf=10, min_samples_split=5, n_estimators=100;, score=0.894 total time=   1.1s\n"
     ]
    },
    {
     "name": "stderr",
     "output_type": "stream",
     "text": [
      "C:\\Users\\jb5983on\\AppData\\Local\\anaconda3\\envs\\polars\\Lib\\site-packages\\sklearn\\base.py:1473: DataConversionWarning: A column-vector y was passed when a 1d array was expected. Please change the shape of y to (n_samples,), for example using ravel().\n",
      "  return fit_method(estimator, *args, **kwargs)\n"
     ]
    },
    {
     "name": "stdout",
     "output_type": "stream",
     "text": [
      "[CV 4/5] END class_weight=balanced, max_depth=4, min_samples_leaf=10, min_samples_split=5, n_estimators=100;, score=0.893 total time=   1.2s\n"
     ]
    },
    {
     "name": "stderr",
     "output_type": "stream",
     "text": [
      "C:\\Users\\jb5983on\\AppData\\Local\\anaconda3\\envs\\polars\\Lib\\site-packages\\sklearn\\base.py:1473: DataConversionWarning: A column-vector y was passed when a 1d array was expected. Please change the shape of y to (n_samples,), for example using ravel().\n",
      "  return fit_method(estimator, *args, **kwargs)\n"
     ]
    },
    {
     "name": "stdout",
     "output_type": "stream",
     "text": [
      "[CV 5/5] END class_weight=balanced, max_depth=4, min_samples_leaf=10, min_samples_split=5, n_estimators=100;, score=0.899 total time=   1.2s\n"
     ]
    },
    {
     "name": "stderr",
     "output_type": "stream",
     "text": [
      "C:\\Users\\jb5983on\\AppData\\Local\\anaconda3\\envs\\polars\\Lib\\site-packages\\sklearn\\base.py:1473: DataConversionWarning: A column-vector y was passed when a 1d array was expected. Please change the shape of y to (n_samples,), for example using ravel().\n",
      "  return fit_method(estimator, *args, **kwargs)\n"
     ]
    },
    {
     "name": "stdout",
     "output_type": "stream",
     "text": [
      "[CV 1/5] END class_weight=balanced, max_depth=4, min_samples_leaf=10, min_samples_split=10, n_estimators=10;, score=0.895 total time=   0.1s\n"
     ]
    },
    {
     "name": "stderr",
     "output_type": "stream",
     "text": [
      "C:\\Users\\jb5983on\\AppData\\Local\\anaconda3\\envs\\polars\\Lib\\site-packages\\sklearn\\base.py:1473: DataConversionWarning: A column-vector y was passed when a 1d array was expected. Please change the shape of y to (n_samples,), for example using ravel().\n",
      "  return fit_method(estimator, *args, **kwargs)\n"
     ]
    },
    {
     "name": "stdout",
     "output_type": "stream",
     "text": [
      "[CV 2/5] END class_weight=balanced, max_depth=4, min_samples_leaf=10, min_samples_split=10, n_estimators=10;, score=0.925 total time=   0.2s\n"
     ]
    },
    {
     "name": "stderr",
     "output_type": "stream",
     "text": [
      "C:\\Users\\jb5983on\\AppData\\Local\\anaconda3\\envs\\polars\\Lib\\site-packages\\sklearn\\base.py:1473: DataConversionWarning: A column-vector y was passed when a 1d array was expected. Please change the shape of y to (n_samples,), for example using ravel().\n",
      "  return fit_method(estimator, *args, **kwargs)\n"
     ]
    },
    {
     "name": "stdout",
     "output_type": "stream",
     "text": [
      "[CV 3/5] END class_weight=balanced, max_depth=4, min_samples_leaf=10, min_samples_split=10, n_estimators=10;, score=0.906 total time=   0.2s\n"
     ]
    },
    {
     "name": "stderr",
     "output_type": "stream",
     "text": [
      "C:\\Users\\jb5983on\\AppData\\Local\\anaconda3\\envs\\polars\\Lib\\site-packages\\sklearn\\base.py:1473: DataConversionWarning: A column-vector y was passed when a 1d array was expected. Please change the shape of y to (n_samples,), for example using ravel().\n",
      "  return fit_method(estimator, *args, **kwargs)\n"
     ]
    },
    {
     "name": "stdout",
     "output_type": "stream",
     "text": [
      "[CV 4/5] END class_weight=balanced, max_depth=4, min_samples_leaf=10, min_samples_split=10, n_estimators=10;, score=0.898 total time=   0.1s\n"
     ]
    },
    {
     "name": "stderr",
     "output_type": "stream",
     "text": [
      "C:\\Users\\jb5983on\\AppData\\Local\\anaconda3\\envs\\polars\\Lib\\site-packages\\sklearn\\base.py:1473: DataConversionWarning: A column-vector y was passed when a 1d array was expected. Please change the shape of y to (n_samples,), for example using ravel().\n",
      "  return fit_method(estimator, *args, **kwargs)\n"
     ]
    },
    {
     "name": "stdout",
     "output_type": "stream",
     "text": [
      "[CV 5/5] END class_weight=balanced, max_depth=4, min_samples_leaf=10, min_samples_split=10, n_estimators=10;, score=0.918 total time=   0.1s\n"
     ]
    },
    {
     "name": "stderr",
     "output_type": "stream",
     "text": [
      "C:\\Users\\jb5983on\\AppData\\Local\\anaconda3\\envs\\polars\\Lib\\site-packages\\sklearn\\base.py:1473: DataConversionWarning: A column-vector y was passed when a 1d array was expected. Please change the shape of y to (n_samples,), for example using ravel().\n",
      "  return fit_method(estimator, *args, **kwargs)\n"
     ]
    },
    {
     "name": "stdout",
     "output_type": "stream",
     "text": [
      "[CV 1/5] END class_weight=balanced, max_depth=4, min_samples_leaf=10, min_samples_split=10, n_estimators=100;, score=0.884 total time=   1.4s\n"
     ]
    },
    {
     "name": "stderr",
     "output_type": "stream",
     "text": [
      "C:\\Users\\jb5983on\\AppData\\Local\\anaconda3\\envs\\polars\\Lib\\site-packages\\sklearn\\base.py:1473: DataConversionWarning: A column-vector y was passed when a 1d array was expected. Please change the shape of y to (n_samples,), for example using ravel().\n",
      "  return fit_method(estimator, *args, **kwargs)\n"
     ]
    },
    {
     "name": "stdout",
     "output_type": "stream",
     "text": [
      "[CV 2/5] END class_weight=balanced, max_depth=4, min_samples_leaf=10, min_samples_split=10, n_estimators=100;, score=0.925 total time=   1.4s\n"
     ]
    },
    {
     "name": "stderr",
     "output_type": "stream",
     "text": [
      "C:\\Users\\jb5983on\\AppData\\Local\\anaconda3\\envs\\polars\\Lib\\site-packages\\sklearn\\base.py:1473: DataConversionWarning: A column-vector y was passed when a 1d array was expected. Please change the shape of y to (n_samples,), for example using ravel().\n",
      "  return fit_method(estimator, *args, **kwargs)\n"
     ]
    },
    {
     "name": "stdout",
     "output_type": "stream",
     "text": [
      "[CV 3/5] END class_weight=balanced, max_depth=4, min_samples_leaf=10, min_samples_split=10, n_estimators=100;, score=0.890 total time=   1.2s\n"
     ]
    },
    {
     "name": "stderr",
     "output_type": "stream",
     "text": [
      "C:\\Users\\jb5983on\\AppData\\Local\\anaconda3\\envs\\polars\\Lib\\site-packages\\sklearn\\base.py:1473: DataConversionWarning: A column-vector y was passed when a 1d array was expected. Please change the shape of y to (n_samples,), for example using ravel().\n",
      "  return fit_method(estimator, *args, **kwargs)\n"
     ]
    },
    {
     "name": "stdout",
     "output_type": "stream",
     "text": [
      "[CV 4/5] END class_weight=balanced, max_depth=4, min_samples_leaf=10, min_samples_split=10, n_estimators=100;, score=0.895 total time=   1.2s\n"
     ]
    },
    {
     "name": "stderr",
     "output_type": "stream",
     "text": [
      "C:\\Users\\jb5983on\\AppData\\Local\\anaconda3\\envs\\polars\\Lib\\site-packages\\sklearn\\base.py:1473: DataConversionWarning: A column-vector y was passed when a 1d array was expected. Please change the shape of y to (n_samples,), for example using ravel().\n",
      "  return fit_method(estimator, *args, **kwargs)\n"
     ]
    },
    {
     "name": "stdout",
     "output_type": "stream",
     "text": [
      "[CV 5/5] END class_weight=balanced, max_depth=4, min_samples_leaf=10, min_samples_split=10, n_estimators=100;, score=0.897 total time=   1.2s\n",
      "[CV 1/5] END class_weight=balanced, max_depth=5, min_samples_leaf=1, min_samples_split=1, n_estimators=10;, score=nan total time=   0.0s\n",
      "[CV 2/5] END class_weight=balanced, max_depth=5, min_samples_leaf=1, min_samples_split=1, n_estimators=10;, score=nan total time=   0.0s\n",
      "[CV 3/5] END class_weight=balanced, max_depth=5, min_samples_leaf=1, min_samples_split=1, n_estimators=10;, score=nan total time=   0.0s\n",
      "[CV 4/5] END class_weight=balanced, max_depth=5, min_samples_leaf=1, min_samples_split=1, n_estimators=10;, score=nan total time=   0.0s\n",
      "[CV 5/5] END class_weight=balanced, max_depth=5, min_samples_leaf=1, min_samples_split=1, n_estimators=10;, score=nan total time=   0.0s\n",
      "[CV 1/5] END class_weight=balanced, max_depth=5, min_samples_leaf=1, min_samples_split=1, n_estimators=100;, score=nan total time=   0.0s\n",
      "[CV 2/5] END class_weight=balanced, max_depth=5, min_samples_leaf=1, min_samples_split=1, n_estimators=100;, score=nan total time=   0.0s\n",
      "[CV 3/5] END class_weight=balanced, max_depth=5, min_samples_leaf=1, min_samples_split=1, n_estimators=100;, score=nan total time=   0.0s\n",
      "[CV 4/5] END class_weight=balanced, max_depth=5, min_samples_leaf=1, min_samples_split=1, n_estimators=100;, score=nan total time=   0.0s\n",
      "[CV 5/5] END class_weight=balanced, max_depth=5, min_samples_leaf=1, min_samples_split=1, n_estimators=100;, score=nan total time=   0.0s\n"
     ]
    },
    {
     "name": "stderr",
     "output_type": "stream",
     "text": [
      "C:\\Users\\jb5983on\\AppData\\Local\\anaconda3\\envs\\polars\\Lib\\site-packages\\sklearn\\base.py:1473: DataConversionWarning: A column-vector y was passed when a 1d array was expected. Please change the shape of y to (n_samples,), for example using ravel().\n",
      "  return fit_method(estimator, *args, **kwargs)\n"
     ]
    },
    {
     "name": "stdout",
     "output_type": "stream",
     "text": [
      "[CV 1/5] END class_weight=balanced, max_depth=5, min_samples_leaf=1, min_samples_split=5, n_estimators=10;, score=0.889 total time=   0.1s\n",
      "[CV 2/5] END class_weight=balanced, max_depth=5, min_samples_leaf=1, min_samples_split=5, n_estimators=10;, score=0.924 total time=   0.1s\n"
     ]
    },
    {
     "name": "stderr",
     "output_type": "stream",
     "text": [
      "C:\\Users\\jb5983on\\AppData\\Local\\anaconda3\\envs\\polars\\Lib\\site-packages\\sklearn\\base.py:1473: DataConversionWarning: A column-vector y was passed when a 1d array was expected. Please change the shape of y to (n_samples,), for example using ravel().\n",
      "  return fit_method(estimator, *args, **kwargs)\n",
      "C:\\Users\\jb5983on\\AppData\\Local\\anaconda3\\envs\\polars\\Lib\\site-packages\\sklearn\\base.py:1473: DataConversionWarning: A column-vector y was passed when a 1d array was expected. Please change the shape of y to (n_samples,), for example using ravel().\n",
      "  return fit_method(estimator, *args, **kwargs)\n"
     ]
    },
    {
     "name": "stdout",
     "output_type": "stream",
     "text": [
      "[CV 3/5] END class_weight=balanced, max_depth=5, min_samples_leaf=1, min_samples_split=5, n_estimators=10;, score=0.897 total time=   0.1s\n",
      "[CV 4/5] END class_weight=balanced, max_depth=5, min_samples_leaf=1, min_samples_split=5, n_estimators=10;, score=0.928 total time=   0.1s\n"
     ]
    },
    {
     "name": "stderr",
     "output_type": "stream",
     "text": [
      "C:\\Users\\jb5983on\\AppData\\Local\\anaconda3\\envs\\polars\\Lib\\site-packages\\sklearn\\base.py:1473: DataConversionWarning: A column-vector y was passed when a 1d array was expected. Please change the shape of y to (n_samples,), for example using ravel().\n",
      "  return fit_method(estimator, *args, **kwargs)\n",
      "C:\\Users\\jb5983on\\AppData\\Local\\anaconda3\\envs\\polars\\Lib\\site-packages\\sklearn\\base.py:1473: DataConversionWarning: A column-vector y was passed when a 1d array was expected. Please change the shape of y to (n_samples,), for example using ravel().\n",
      "  return fit_method(estimator, *args, **kwargs)\n",
      "C:\\Users\\jb5983on\\AppData\\Local\\anaconda3\\envs\\polars\\Lib\\site-packages\\sklearn\\base.py:1473: DataConversionWarning: A column-vector y was passed when a 1d array was expected. Please change the shape of y to (n_samples,), for example using ravel().\n",
      "  return fit_method(estimator, *args, **kwargs)\n"
     ]
    },
    {
     "name": "stdout",
     "output_type": "stream",
     "text": [
      "[CV 5/5] END class_weight=balanced, max_depth=5, min_samples_leaf=1, min_samples_split=5, n_estimators=10;, score=0.882 total time=   0.1s\n",
      "[CV 1/5] END class_weight=balanced, max_depth=5, min_samples_leaf=1, min_samples_split=5, n_estimators=100;, score=0.883 total time=   1.2s\n"
     ]
    },
    {
     "name": "stderr",
     "output_type": "stream",
     "text": [
      "C:\\Users\\jb5983on\\AppData\\Local\\anaconda3\\envs\\polars\\Lib\\site-packages\\sklearn\\base.py:1473: DataConversionWarning: A column-vector y was passed when a 1d array was expected. Please change the shape of y to (n_samples,), for example using ravel().\n",
      "  return fit_method(estimator, *args, **kwargs)\n"
     ]
    },
    {
     "name": "stdout",
     "output_type": "stream",
     "text": [
      "[CV 2/5] END class_weight=balanced, max_depth=5, min_samples_leaf=1, min_samples_split=5, n_estimators=100;, score=0.924 total time=   1.0s\n"
     ]
    },
    {
     "name": "stderr",
     "output_type": "stream",
     "text": [
      "C:\\Users\\jb5983on\\AppData\\Local\\anaconda3\\envs\\polars\\Lib\\site-packages\\sklearn\\base.py:1473: DataConversionWarning: A column-vector y was passed when a 1d array was expected. Please change the shape of y to (n_samples,), for example using ravel().\n",
      "  return fit_method(estimator, *args, **kwargs)\n"
     ]
    },
    {
     "name": "stdout",
     "output_type": "stream",
     "text": [
      "[CV 3/5] END class_weight=balanced, max_depth=5, min_samples_leaf=1, min_samples_split=5, n_estimators=100;, score=0.897 total time=   1.1s\n"
     ]
    },
    {
     "name": "stderr",
     "output_type": "stream",
     "text": [
      "C:\\Users\\jb5983on\\AppData\\Local\\anaconda3\\envs\\polars\\Lib\\site-packages\\sklearn\\base.py:1473: DataConversionWarning: A column-vector y was passed when a 1d array was expected. Please change the shape of y to (n_samples,), for example using ravel().\n",
      "  return fit_method(estimator, *args, **kwargs)\n"
     ]
    },
    {
     "name": "stdout",
     "output_type": "stream",
     "text": [
      "[CV 4/5] END class_weight=balanced, max_depth=5, min_samples_leaf=1, min_samples_split=5, n_estimators=100;, score=0.903 total time=   1.2s\n"
     ]
    },
    {
     "name": "stderr",
     "output_type": "stream",
     "text": [
      "C:\\Users\\jb5983on\\AppData\\Local\\anaconda3\\envs\\polars\\Lib\\site-packages\\sklearn\\base.py:1473: DataConversionWarning: A column-vector y was passed when a 1d array was expected. Please change the shape of y to (n_samples,), for example using ravel().\n",
      "  return fit_method(estimator, *args, **kwargs)\n"
     ]
    },
    {
     "name": "stdout",
     "output_type": "stream",
     "text": [
      "[CV 5/5] END class_weight=balanced, max_depth=5, min_samples_leaf=1, min_samples_split=5, n_estimators=100;, score=0.908 total time=   1.2s\n"
     ]
    },
    {
     "name": "stderr",
     "output_type": "stream",
     "text": [
      "C:\\Users\\jb5983on\\AppData\\Local\\anaconda3\\envs\\polars\\Lib\\site-packages\\sklearn\\base.py:1473: DataConversionWarning: A column-vector y was passed when a 1d array was expected. Please change the shape of y to (n_samples,), for example using ravel().\n",
      "  return fit_method(estimator, *args, **kwargs)\n"
     ]
    },
    {
     "name": "stdout",
     "output_type": "stream",
     "text": [
      "[CV 1/5] END class_weight=balanced, max_depth=5, min_samples_leaf=1, min_samples_split=10, n_estimators=10;, score=0.881 total time=   0.1s\n"
     ]
    },
    {
     "name": "stderr",
     "output_type": "stream",
     "text": [
      "C:\\Users\\jb5983on\\AppData\\Local\\anaconda3\\envs\\polars\\Lib\\site-packages\\sklearn\\base.py:1473: DataConversionWarning: A column-vector y was passed when a 1d array was expected. Please change the shape of y to (n_samples,), for example using ravel().\n",
      "  return fit_method(estimator, *args, **kwargs)\n"
     ]
    },
    {
     "name": "stdout",
     "output_type": "stream",
     "text": [
      "[CV 2/5] END class_weight=balanced, max_depth=5, min_samples_leaf=1, min_samples_split=10, n_estimators=10;, score=0.906 total time=   0.1s\n"
     ]
    },
    {
     "name": "stderr",
     "output_type": "stream",
     "text": [
      "C:\\Users\\jb5983on\\AppData\\Local\\anaconda3\\envs\\polars\\Lib\\site-packages\\sklearn\\base.py:1473: DataConversionWarning: A column-vector y was passed when a 1d array was expected. Please change the shape of y to (n_samples,), for example using ravel().\n",
      "  return fit_method(estimator, *args, **kwargs)\n"
     ]
    },
    {
     "name": "stdout",
     "output_type": "stream",
     "text": [
      "[CV 3/5] END class_weight=balanced, max_depth=5, min_samples_leaf=1, min_samples_split=10, n_estimators=10;, score=0.912 total time=   0.1s\n",
      "[CV 4/5] END class_weight=balanced, max_depth=5, min_samples_leaf=1, min_samples_split=10, n_estimators=10;, score=0.918 total time=   0.1s\n"
     ]
    },
    {
     "name": "stderr",
     "output_type": "stream",
     "text": [
      "C:\\Users\\jb5983on\\AppData\\Local\\anaconda3\\envs\\polars\\Lib\\site-packages\\sklearn\\base.py:1473: DataConversionWarning: A column-vector y was passed when a 1d array was expected. Please change the shape of y to (n_samples,), for example using ravel().\n",
      "  return fit_method(estimator, *args, **kwargs)\n",
      "C:\\Users\\jb5983on\\AppData\\Local\\anaconda3\\envs\\polars\\Lib\\site-packages\\sklearn\\base.py:1473: DataConversionWarning: A column-vector y was passed when a 1d array was expected. Please change the shape of y to (n_samples,), for example using ravel().\n",
      "  return fit_method(estimator, *args, **kwargs)\n"
     ]
    },
    {
     "name": "stdout",
     "output_type": "stream",
     "text": [
      "[CV 5/5] END class_weight=balanced, max_depth=5, min_samples_leaf=1, min_samples_split=10, n_estimators=10;, score=0.880 total time=   0.1s\n"
     ]
    },
    {
     "name": "stderr",
     "output_type": "stream",
     "text": [
      "C:\\Users\\jb5983on\\AppData\\Local\\anaconda3\\envs\\polars\\Lib\\site-packages\\sklearn\\base.py:1473: DataConversionWarning: A column-vector y was passed when a 1d array was expected. Please change the shape of y to (n_samples,), for example using ravel().\n",
      "  return fit_method(estimator, *args, **kwargs)\n"
     ]
    },
    {
     "name": "stdout",
     "output_type": "stream",
     "text": [
      "[CV 1/5] END class_weight=balanced, max_depth=5, min_samples_leaf=1, min_samples_split=10, n_estimators=100;, score=0.890 total time=   1.2s\n"
     ]
    },
    {
     "name": "stderr",
     "output_type": "stream",
     "text": [
      "C:\\Users\\jb5983on\\AppData\\Local\\anaconda3\\envs\\polars\\Lib\\site-packages\\sklearn\\base.py:1473: DataConversionWarning: A column-vector y was passed when a 1d array was expected. Please change the shape of y to (n_samples,), for example using ravel().\n",
      "  return fit_method(estimator, *args, **kwargs)\n"
     ]
    },
    {
     "name": "stdout",
     "output_type": "stream",
     "text": [
      "[CV 2/5] END class_weight=balanced, max_depth=5, min_samples_leaf=1, min_samples_split=10, n_estimators=100;, score=0.912 total time=   1.1s\n"
     ]
    },
    {
     "name": "stderr",
     "output_type": "stream",
     "text": [
      "C:\\Users\\jb5983on\\AppData\\Local\\anaconda3\\envs\\polars\\Lib\\site-packages\\sklearn\\base.py:1473: DataConversionWarning: A column-vector y was passed when a 1d array was expected. Please change the shape of y to (n_samples,), for example using ravel().\n",
      "  return fit_method(estimator, *args, **kwargs)\n"
     ]
    },
    {
     "name": "stdout",
     "output_type": "stream",
     "text": [
      "[CV 3/5] END class_weight=balanced, max_depth=5, min_samples_leaf=1, min_samples_split=10, n_estimators=100;, score=0.896 total time=   1.2s\n"
     ]
    },
    {
     "name": "stderr",
     "output_type": "stream",
     "text": [
      "C:\\Users\\jb5983on\\AppData\\Local\\anaconda3\\envs\\polars\\Lib\\site-packages\\sklearn\\base.py:1473: DataConversionWarning: A column-vector y was passed when a 1d array was expected. Please change the shape of y to (n_samples,), for example using ravel().\n",
      "  return fit_method(estimator, *args, **kwargs)\n"
     ]
    },
    {
     "name": "stdout",
     "output_type": "stream",
     "text": [
      "[CV 4/5] END class_weight=balanced, max_depth=5, min_samples_leaf=1, min_samples_split=10, n_estimators=100;, score=0.907 total time=   1.2s\n"
     ]
    },
    {
     "name": "stderr",
     "output_type": "stream",
     "text": [
      "C:\\Users\\jb5983on\\AppData\\Local\\anaconda3\\envs\\polars\\Lib\\site-packages\\sklearn\\base.py:1473: DataConversionWarning: A column-vector y was passed when a 1d array was expected. Please change the shape of y to (n_samples,), for example using ravel().\n",
      "  return fit_method(estimator, *args, **kwargs)\n"
     ]
    },
    {
     "name": "stdout",
     "output_type": "stream",
     "text": [
      "[CV 5/5] END class_weight=balanced, max_depth=5, min_samples_leaf=1, min_samples_split=10, n_estimators=100;, score=0.910 total time=   1.1s\n",
      "[CV 1/5] END class_weight=balanced, max_depth=5, min_samples_leaf=5, min_samples_split=1, n_estimators=10;, score=nan total time=   0.0s\n",
      "[CV 2/5] END class_weight=balanced, max_depth=5, min_samples_leaf=5, min_samples_split=1, n_estimators=10;, score=nan total time=   0.0s\n",
      "[CV 3/5] END class_weight=balanced, max_depth=5, min_samples_leaf=5, min_samples_split=1, n_estimators=10;, score=nan total time=   0.0s\n",
      "[CV 4/5] END class_weight=balanced, max_depth=5, min_samples_leaf=5, min_samples_split=1, n_estimators=10;, score=nan total time=   0.0s\n",
      "[CV 5/5] END class_weight=balanced, max_depth=5, min_samples_leaf=5, min_samples_split=1, n_estimators=10;, score=nan total time=   0.0s\n",
      "[CV 1/5] END class_weight=balanced, max_depth=5, min_samples_leaf=5, min_samples_split=1, n_estimators=100;, score=nan total time=   0.0s\n",
      "[CV 2/5] END class_weight=balanced, max_depth=5, min_samples_leaf=5, min_samples_split=1, n_estimators=100;, score=nan total time=   0.0s\n",
      "[CV 3/5] END class_weight=balanced, max_depth=5, min_samples_leaf=5, min_samples_split=1, n_estimators=100;, score=nan total time=   0.0s\n",
      "[CV 4/5] END class_weight=balanced, max_depth=5, min_samples_leaf=5, min_samples_split=1, n_estimators=100;, score=nan total time=   0.0s\n",
      "[CV 5/5] END class_weight=balanced, max_depth=5, min_samples_leaf=5, min_samples_split=1, n_estimators=100;, score=nan total time=   0.0s\n"
     ]
    },
    {
     "name": "stderr",
     "output_type": "stream",
     "text": [
      "C:\\Users\\jb5983on\\AppData\\Local\\anaconda3\\envs\\polars\\Lib\\site-packages\\sklearn\\base.py:1473: DataConversionWarning: A column-vector y was passed when a 1d array was expected. Please change the shape of y to (n_samples,), for example using ravel().\n",
      "  return fit_method(estimator, *args, **kwargs)\n"
     ]
    },
    {
     "name": "stdout",
     "output_type": "stream",
     "text": [
      "[CV 1/5] END class_weight=balanced, max_depth=5, min_samples_leaf=5, min_samples_split=5, n_estimators=10;, score=0.894 total time=   0.1s\n",
      "[CV 2/5] END class_weight=balanced, max_depth=5, min_samples_leaf=5, min_samples_split=5, n_estimators=10;, score=0.927 total time=   0.1s\n"
     ]
    },
    {
     "name": "stderr",
     "output_type": "stream",
     "text": [
      "C:\\Users\\jb5983on\\AppData\\Local\\anaconda3\\envs\\polars\\Lib\\site-packages\\sklearn\\base.py:1473: DataConversionWarning: A column-vector y was passed when a 1d array was expected. Please change the shape of y to (n_samples,), for example using ravel().\n",
      "  return fit_method(estimator, *args, **kwargs)\n",
      "C:\\Users\\jb5983on\\AppData\\Local\\anaconda3\\envs\\polars\\Lib\\site-packages\\sklearn\\base.py:1473: DataConversionWarning: A column-vector y was passed when a 1d array was expected. Please change the shape of y to (n_samples,), for example using ravel().\n",
      "  return fit_method(estimator, *args, **kwargs)\n"
     ]
    },
    {
     "name": "stdout",
     "output_type": "stream",
     "text": [
      "[CV 3/5] END class_weight=balanced, max_depth=5, min_samples_leaf=5, min_samples_split=5, n_estimators=10;, score=0.848 total time=   0.1s\n",
      "[CV 4/5] END class_weight=balanced, max_depth=5, min_samples_leaf=5, min_samples_split=5, n_estimators=10;, score=0.904 total time=   0.1s\n"
     ]
    },
    {
     "name": "stderr",
     "output_type": "stream",
     "text": [
      "C:\\Users\\jb5983on\\AppData\\Local\\anaconda3\\envs\\polars\\Lib\\site-packages\\sklearn\\base.py:1473: DataConversionWarning: A column-vector y was passed when a 1d array was expected. Please change the shape of y to (n_samples,), for example using ravel().\n",
      "  return fit_method(estimator, *args, **kwargs)\n",
      "C:\\Users\\jb5983on\\AppData\\Local\\anaconda3\\envs\\polars\\Lib\\site-packages\\sklearn\\base.py:1473: DataConversionWarning: A column-vector y was passed when a 1d array was expected. Please change the shape of y to (n_samples,), for example using ravel().\n",
      "  return fit_method(estimator, *args, **kwargs)\n",
      "C:\\Users\\jb5983on\\AppData\\Local\\anaconda3\\envs\\polars\\Lib\\site-packages\\sklearn\\base.py:1473: DataConversionWarning: A column-vector y was passed when a 1d array was expected. Please change the shape of y to (n_samples,), for example using ravel().\n",
      "  return fit_method(estimator, *args, **kwargs)\n"
     ]
    },
    {
     "name": "stdout",
     "output_type": "stream",
     "text": [
      "[CV 5/5] END class_weight=balanced, max_depth=5, min_samples_leaf=5, min_samples_split=5, n_estimators=10;, score=0.910 total time=   0.1s\n",
      "[CV 1/5] END class_weight=balanced, max_depth=5, min_samples_leaf=5, min_samples_split=5, n_estimators=100;, score=0.890 total time=   0.8s\n"
     ]
    },
    {
     "name": "stderr",
     "output_type": "stream",
     "text": [
      "C:\\Users\\jb5983on\\AppData\\Local\\anaconda3\\envs\\polars\\Lib\\site-packages\\sklearn\\base.py:1473: DataConversionWarning: A column-vector y was passed when a 1d array was expected. Please change the shape of y to (n_samples,), for example using ravel().\n",
      "  return fit_method(estimator, *args, **kwargs)\n"
     ]
    },
    {
     "name": "stdout",
     "output_type": "stream",
     "text": [
      "[CV 2/5] END class_weight=balanced, max_depth=5, min_samples_leaf=5, min_samples_split=5, n_estimators=100;, score=0.912 total time=   1.0s\n"
     ]
    },
    {
     "name": "stderr",
     "output_type": "stream",
     "text": [
      "C:\\Users\\jb5983on\\AppData\\Local\\anaconda3\\envs\\polars\\Lib\\site-packages\\sklearn\\base.py:1473: DataConversionWarning: A column-vector y was passed when a 1d array was expected. Please change the shape of y to (n_samples,), for example using ravel().\n",
      "  return fit_method(estimator, *args, **kwargs)\n"
     ]
    },
    {
     "name": "stdout",
     "output_type": "stream",
     "text": [
      "[CV 3/5] END class_weight=balanced, max_depth=5, min_samples_leaf=5, min_samples_split=5, n_estimators=100;, score=0.897 total time=   0.9s\n"
     ]
    },
    {
     "name": "stderr",
     "output_type": "stream",
     "text": [
      "C:\\Users\\jb5983on\\AppData\\Local\\anaconda3\\envs\\polars\\Lib\\site-packages\\sklearn\\base.py:1473: DataConversionWarning: A column-vector y was passed when a 1d array was expected. Please change the shape of y to (n_samples,), for example using ravel().\n",
      "  return fit_method(estimator, *args, **kwargs)\n"
     ]
    },
    {
     "name": "stdout",
     "output_type": "stream",
     "text": [
      "[CV 4/5] END class_weight=balanced, max_depth=5, min_samples_leaf=5, min_samples_split=5, n_estimators=100;, score=0.907 total time=   1.1s\n"
     ]
    },
    {
     "name": "stderr",
     "output_type": "stream",
     "text": [
      "C:\\Users\\jb5983on\\AppData\\Local\\anaconda3\\envs\\polars\\Lib\\site-packages\\sklearn\\base.py:1473: DataConversionWarning: A column-vector y was passed when a 1d array was expected. Please change the shape of y to (n_samples,), for example using ravel().\n",
      "  return fit_method(estimator, *args, **kwargs)\n"
     ]
    },
    {
     "name": "stdout",
     "output_type": "stream",
     "text": [
      "[CV 5/5] END class_weight=balanced, max_depth=5, min_samples_leaf=5, min_samples_split=5, n_estimators=100;, score=0.904 total time=   1.2s\n"
     ]
    },
    {
     "name": "stderr",
     "output_type": "stream",
     "text": [
      "C:\\Users\\jb5983on\\AppData\\Local\\anaconda3\\envs\\polars\\Lib\\site-packages\\sklearn\\base.py:1473: DataConversionWarning: A column-vector y was passed when a 1d array was expected. Please change the shape of y to (n_samples,), for example using ravel().\n",
      "  return fit_method(estimator, *args, **kwargs)\n"
     ]
    },
    {
     "name": "stdout",
     "output_type": "stream",
     "text": [
      "[CV 1/5] END class_weight=balanced, max_depth=5, min_samples_leaf=5, min_samples_split=10, n_estimators=10;, score=0.899 total time=   0.1s\n"
     ]
    },
    {
     "name": "stderr",
     "output_type": "stream",
     "text": [
      "C:\\Users\\jb5983on\\AppData\\Local\\anaconda3\\envs\\polars\\Lib\\site-packages\\sklearn\\base.py:1473: DataConversionWarning: A column-vector y was passed when a 1d array was expected. Please change the shape of y to (n_samples,), for example using ravel().\n",
      "  return fit_method(estimator, *args, **kwargs)\n"
     ]
    },
    {
     "name": "stdout",
     "output_type": "stream",
     "text": [
      "[CV 2/5] END class_weight=balanced, max_depth=5, min_samples_leaf=5, min_samples_split=10, n_estimators=10;, score=0.903 total time=   0.1s\n"
     ]
    },
    {
     "name": "stderr",
     "output_type": "stream",
     "text": [
      "C:\\Users\\jb5983on\\AppData\\Local\\anaconda3\\envs\\polars\\Lib\\site-packages\\sklearn\\base.py:1473: DataConversionWarning: A column-vector y was passed when a 1d array was expected. Please change the shape of y to (n_samples,), for example using ravel().\n",
      "  return fit_method(estimator, *args, **kwargs)\n"
     ]
    },
    {
     "name": "stdout",
     "output_type": "stream",
     "text": [
      "[CV 3/5] END class_weight=balanced, max_depth=5, min_samples_leaf=5, min_samples_split=10, n_estimators=10;, score=0.895 total time=   0.2s\n"
     ]
    },
    {
     "name": "stderr",
     "output_type": "stream",
     "text": [
      "C:\\Users\\jb5983on\\AppData\\Local\\anaconda3\\envs\\polars\\Lib\\site-packages\\sklearn\\base.py:1473: DataConversionWarning: A column-vector y was passed when a 1d array was expected. Please change the shape of y to (n_samples,), for example using ravel().\n",
      "  return fit_method(estimator, *args, **kwargs)\n"
     ]
    },
    {
     "name": "stdout",
     "output_type": "stream",
     "text": [
      "[CV 4/5] END class_weight=balanced, max_depth=5, min_samples_leaf=5, min_samples_split=10, n_estimators=10;, score=0.854 total time=   0.2s\n"
     ]
    },
    {
     "name": "stderr",
     "output_type": "stream",
     "text": [
      "C:\\Users\\jb5983on\\AppData\\Local\\anaconda3\\envs\\polars\\Lib\\site-packages\\sklearn\\base.py:1473: DataConversionWarning: A column-vector y was passed when a 1d array was expected. Please change the shape of y to (n_samples,), for example using ravel().\n",
      "  return fit_method(estimator, *args, **kwargs)\n"
     ]
    },
    {
     "name": "stdout",
     "output_type": "stream",
     "text": [
      "[CV 5/5] END class_weight=balanced, max_depth=5, min_samples_leaf=5, min_samples_split=10, n_estimators=10;, score=0.900 total time=   0.2s\n"
     ]
    },
    {
     "name": "stderr",
     "output_type": "stream",
     "text": [
      "C:\\Users\\jb5983on\\AppData\\Local\\anaconda3\\envs\\polars\\Lib\\site-packages\\sklearn\\base.py:1473: DataConversionWarning: A column-vector y was passed when a 1d array was expected. Please change the shape of y to (n_samples,), for example using ravel().\n",
      "  return fit_method(estimator, *args, **kwargs)\n"
     ]
    },
    {
     "name": "stdout",
     "output_type": "stream",
     "text": [
      "[CV 1/5] END class_weight=balanced, max_depth=5, min_samples_leaf=5, min_samples_split=10, n_estimators=100;, score=0.886 total time=   1.1s\n"
     ]
    },
    {
     "name": "stderr",
     "output_type": "stream",
     "text": [
      "C:\\Users\\jb5983on\\AppData\\Local\\anaconda3\\envs\\polars\\Lib\\site-packages\\sklearn\\base.py:1473: DataConversionWarning: A column-vector y was passed when a 1d array was expected. Please change the shape of y to (n_samples,), for example using ravel().\n",
      "  return fit_method(estimator, *args, **kwargs)\n"
     ]
    },
    {
     "name": "stdout",
     "output_type": "stream",
     "text": [
      "[CV 2/5] END class_weight=balanced, max_depth=5, min_samples_leaf=5, min_samples_split=10, n_estimators=100;, score=0.931 total time=   1.1s\n"
     ]
    },
    {
     "name": "stderr",
     "output_type": "stream",
     "text": [
      "C:\\Users\\jb5983on\\AppData\\Local\\anaconda3\\envs\\polars\\Lib\\site-packages\\sklearn\\base.py:1473: DataConversionWarning: A column-vector y was passed when a 1d array was expected. Please change the shape of y to (n_samples,), for example using ravel().\n",
      "  return fit_method(estimator, *args, **kwargs)\n"
     ]
    },
    {
     "name": "stdout",
     "output_type": "stream",
     "text": [
      "[CV 3/5] END class_weight=balanced, max_depth=5, min_samples_leaf=5, min_samples_split=10, n_estimators=100;, score=0.894 total time=   1.4s\n"
     ]
    },
    {
     "name": "stderr",
     "output_type": "stream",
     "text": [
      "C:\\Users\\jb5983on\\AppData\\Local\\anaconda3\\envs\\polars\\Lib\\site-packages\\sklearn\\base.py:1473: DataConversionWarning: A column-vector y was passed when a 1d array was expected. Please change the shape of y to (n_samples,), for example using ravel().\n",
      "  return fit_method(estimator, *args, **kwargs)\n"
     ]
    },
    {
     "name": "stdout",
     "output_type": "stream",
     "text": [
      "[CV 4/5] END class_weight=balanced, max_depth=5, min_samples_leaf=5, min_samples_split=10, n_estimators=100;, score=0.911 total time=   1.3s\n"
     ]
    },
    {
     "name": "stderr",
     "output_type": "stream",
     "text": [
      "C:\\Users\\jb5983on\\AppData\\Local\\anaconda3\\envs\\polars\\Lib\\site-packages\\sklearn\\base.py:1473: DataConversionWarning: A column-vector y was passed when a 1d array was expected. Please change the shape of y to (n_samples,), for example using ravel().\n",
      "  return fit_method(estimator, *args, **kwargs)\n"
     ]
    },
    {
     "name": "stdout",
     "output_type": "stream",
     "text": [
      "[CV 5/5] END class_weight=balanced, max_depth=5, min_samples_leaf=5, min_samples_split=10, n_estimators=100;, score=0.907 total time=   1.1s\n",
      "[CV 1/5] END class_weight=balanced, max_depth=5, min_samples_leaf=10, min_samples_split=1, n_estimators=10;, score=nan total time=   0.0s\n",
      "[CV 2/5] END class_weight=balanced, max_depth=5, min_samples_leaf=10, min_samples_split=1, n_estimators=10;, score=nan total time=   0.0s\n",
      "[CV 3/5] END class_weight=balanced, max_depth=5, min_samples_leaf=10, min_samples_split=1, n_estimators=10;, score=nan total time=   0.0s\n",
      "[CV 4/5] END class_weight=balanced, max_depth=5, min_samples_leaf=10, min_samples_split=1, n_estimators=10;, score=nan total time=   0.0s\n",
      "[CV 5/5] END class_weight=balanced, max_depth=5, min_samples_leaf=10, min_samples_split=1, n_estimators=10;, score=nan total time=   0.0s\n",
      "[CV 1/5] END class_weight=balanced, max_depth=5, min_samples_leaf=10, min_samples_split=1, n_estimators=100;, score=nan total time=   0.0s\n",
      "[CV 2/5] END class_weight=balanced, max_depth=5, min_samples_leaf=10, min_samples_split=1, n_estimators=100;, score=nan total time=   0.0s\n",
      "[CV 3/5] END class_weight=balanced, max_depth=5, min_samples_leaf=10, min_samples_split=1, n_estimators=100;, score=nan total time=   0.0s\n",
      "[CV 4/5] END class_weight=balanced, max_depth=5, min_samples_leaf=10, min_samples_split=1, n_estimators=100;, score=nan total time=   0.0s\n",
      "[CV 5/5] END class_weight=balanced, max_depth=5, min_samples_leaf=10, min_samples_split=1, n_estimators=100;, score=nan total time=   0.0s\n"
     ]
    },
    {
     "name": "stderr",
     "output_type": "stream",
     "text": [
      "C:\\Users\\jb5983on\\AppData\\Local\\anaconda3\\envs\\polars\\Lib\\site-packages\\sklearn\\base.py:1473: DataConversionWarning: A column-vector y was passed when a 1d array was expected. Please change the shape of y to (n_samples,), for example using ravel().\n",
      "  return fit_method(estimator, *args, **kwargs)\n"
     ]
    },
    {
     "name": "stdout",
     "output_type": "stream",
     "text": [
      "[CV 1/5] END class_weight=balanced, max_depth=5, min_samples_leaf=10, min_samples_split=5, n_estimators=10;, score=0.878 total time=   0.1s\n",
      "[CV 2/5] END class_weight=balanced, max_depth=5, min_samples_leaf=10, min_samples_split=5, n_estimators=10;, score=0.907 total time=   0.1s\n"
     ]
    },
    {
     "name": "stderr",
     "output_type": "stream",
     "text": [
      "C:\\Users\\jb5983on\\AppData\\Local\\anaconda3\\envs\\polars\\Lib\\site-packages\\sklearn\\base.py:1473: DataConversionWarning: A column-vector y was passed when a 1d array was expected. Please change the shape of y to (n_samples,), for example using ravel().\n",
      "  return fit_method(estimator, *args, **kwargs)\n",
      "C:\\Users\\jb5983on\\AppData\\Local\\anaconda3\\envs\\polars\\Lib\\site-packages\\sklearn\\base.py:1473: DataConversionWarning: A column-vector y was passed when a 1d array was expected. Please change the shape of y to (n_samples,), for example using ravel().\n",
      "  return fit_method(estimator, *args, **kwargs)\n"
     ]
    },
    {
     "name": "stdout",
     "output_type": "stream",
     "text": [
      "[CV 3/5] END class_weight=balanced, max_depth=5, min_samples_leaf=10, min_samples_split=5, n_estimators=10;, score=0.895 total time=   0.1s\n",
      "[CV 4/5] END class_weight=balanced, max_depth=5, min_samples_leaf=10, min_samples_split=5, n_estimators=10;, score=0.886 total time=   0.1s\n"
     ]
    },
    {
     "name": "stderr",
     "output_type": "stream",
     "text": [
      "C:\\Users\\jb5983on\\AppData\\Local\\anaconda3\\envs\\polars\\Lib\\site-packages\\sklearn\\base.py:1473: DataConversionWarning: A column-vector y was passed when a 1d array was expected. Please change the shape of y to (n_samples,), for example using ravel().\n",
      "  return fit_method(estimator, *args, **kwargs)\n",
      "C:\\Users\\jb5983on\\AppData\\Local\\anaconda3\\envs\\polars\\Lib\\site-packages\\sklearn\\base.py:1473: DataConversionWarning: A column-vector y was passed when a 1d array was expected. Please change the shape of y to (n_samples,), for example using ravel().\n",
      "  return fit_method(estimator, *args, **kwargs)\n"
     ]
    },
    {
     "name": "stdout",
     "output_type": "stream",
     "text": [
      "[CV 5/5] END class_weight=balanced, max_depth=5, min_samples_leaf=10, min_samples_split=5, n_estimators=10;, score=0.902 total time=   0.1s\n"
     ]
    },
    {
     "name": "stderr",
     "output_type": "stream",
     "text": [
      "C:\\Users\\jb5983on\\AppData\\Local\\anaconda3\\envs\\polars\\Lib\\site-packages\\sklearn\\base.py:1473: DataConversionWarning: A column-vector y was passed when a 1d array was expected. Please change the shape of y to (n_samples,), for example using ravel().\n",
      "  return fit_method(estimator, *args, **kwargs)\n"
     ]
    },
    {
     "name": "stdout",
     "output_type": "stream",
     "text": [
      "[CV 1/5] END class_weight=balanced, max_depth=5, min_samples_leaf=10, min_samples_split=5, n_estimators=100;, score=0.887 total time=   1.2s\n"
     ]
    },
    {
     "name": "stderr",
     "output_type": "stream",
     "text": [
      "C:\\Users\\jb5983on\\AppData\\Local\\anaconda3\\envs\\polars\\Lib\\site-packages\\sklearn\\base.py:1473: DataConversionWarning: A column-vector y was passed when a 1d array was expected. Please change the shape of y to (n_samples,), for example using ravel().\n",
      "  return fit_method(estimator, *args, **kwargs)\n"
     ]
    },
    {
     "name": "stdout",
     "output_type": "stream",
     "text": [
      "[CV 2/5] END class_weight=balanced, max_depth=5, min_samples_leaf=10, min_samples_split=5, n_estimators=100;, score=0.919 total time=   0.9s\n"
     ]
    },
    {
     "name": "stderr",
     "output_type": "stream",
     "text": [
      "C:\\Users\\jb5983on\\AppData\\Local\\anaconda3\\envs\\polars\\Lib\\site-packages\\sklearn\\base.py:1473: DataConversionWarning: A column-vector y was passed when a 1d array was expected. Please change the shape of y to (n_samples,), for example using ravel().\n",
      "  return fit_method(estimator, *args, **kwargs)\n"
     ]
    },
    {
     "name": "stdout",
     "output_type": "stream",
     "text": [
      "[CV 3/5] END class_weight=balanced, max_depth=5, min_samples_leaf=10, min_samples_split=5, n_estimators=100;, score=0.897 total time=   0.9s\n"
     ]
    },
    {
     "name": "stderr",
     "output_type": "stream",
     "text": [
      "C:\\Users\\jb5983on\\AppData\\Local\\anaconda3\\envs\\polars\\Lib\\site-packages\\sklearn\\base.py:1473: DataConversionWarning: A column-vector y was passed when a 1d array was expected. Please change the shape of y to (n_samples,), for example using ravel().\n",
      "  return fit_method(estimator, *args, **kwargs)\n"
     ]
    },
    {
     "name": "stdout",
     "output_type": "stream",
     "text": [
      "[CV 4/5] END class_weight=balanced, max_depth=5, min_samples_leaf=10, min_samples_split=5, n_estimators=100;, score=0.903 total time=   0.8s\n"
     ]
    },
    {
     "name": "stderr",
     "output_type": "stream",
     "text": [
      "C:\\Users\\jb5983on\\AppData\\Local\\anaconda3\\envs\\polars\\Lib\\site-packages\\sklearn\\base.py:1473: DataConversionWarning: A column-vector y was passed when a 1d array was expected. Please change the shape of y to (n_samples,), for example using ravel().\n",
      "  return fit_method(estimator, *args, **kwargs)\n"
     ]
    },
    {
     "name": "stdout",
     "output_type": "stream",
     "text": [
      "[CV 5/5] END class_weight=balanced, max_depth=5, min_samples_leaf=10, min_samples_split=5, n_estimators=100;, score=0.909 total time=   1.0s\n"
     ]
    },
    {
     "name": "stderr",
     "output_type": "stream",
     "text": [
      "C:\\Users\\jb5983on\\AppData\\Local\\anaconda3\\envs\\polars\\Lib\\site-packages\\sklearn\\base.py:1473: DataConversionWarning: A column-vector y was passed when a 1d array was expected. Please change the shape of y to (n_samples,), for example using ravel().\n",
      "  return fit_method(estimator, *args, **kwargs)\n"
     ]
    },
    {
     "name": "stdout",
     "output_type": "stream",
     "text": [
      "[CV 1/5] END class_weight=balanced, max_depth=5, min_samples_leaf=10, min_samples_split=10, n_estimators=10;, score=0.884 total time=   0.1s\n",
      "[CV 2/5] END class_weight=balanced, max_depth=5, min_samples_leaf=10, min_samples_split=10, n_estimators=10;, score=0.936 total time=   0.1s\n"
     ]
    },
    {
     "name": "stderr",
     "output_type": "stream",
     "text": [
      "C:\\Users\\jb5983on\\AppData\\Local\\anaconda3\\envs\\polars\\Lib\\site-packages\\sklearn\\base.py:1473: DataConversionWarning: A column-vector y was passed when a 1d array was expected. Please change the shape of y to (n_samples,), for example using ravel().\n",
      "  return fit_method(estimator, *args, **kwargs)\n",
      "C:\\Users\\jb5983on\\AppData\\Local\\anaconda3\\envs\\polars\\Lib\\site-packages\\sklearn\\base.py:1473: DataConversionWarning: A column-vector y was passed when a 1d array was expected. Please change the shape of y to (n_samples,), for example using ravel().\n",
      "  return fit_method(estimator, *args, **kwargs)\n"
     ]
    },
    {
     "name": "stdout",
     "output_type": "stream",
     "text": [
      "[CV 3/5] END class_weight=balanced, max_depth=5, min_samples_leaf=10, min_samples_split=10, n_estimators=10;, score=0.882 total time=   0.1s\n"
     ]
    },
    {
     "name": "stderr",
     "output_type": "stream",
     "text": [
      "C:\\Users\\jb5983on\\AppData\\Local\\anaconda3\\envs\\polars\\Lib\\site-packages\\sklearn\\base.py:1473: DataConversionWarning: A column-vector y was passed when a 1d array was expected. Please change the shape of y to (n_samples,), for example using ravel().\n",
      "  return fit_method(estimator, *args, **kwargs)\n"
     ]
    },
    {
     "name": "stdout",
     "output_type": "stream",
     "text": [
      "[CV 4/5] END class_weight=balanced, max_depth=5, min_samples_leaf=10, min_samples_split=10, n_estimators=10;, score=0.904 total time=   0.1s\n"
     ]
    },
    {
     "name": "stderr",
     "output_type": "stream",
     "text": [
      "C:\\Users\\jb5983on\\AppData\\Local\\anaconda3\\envs\\polars\\Lib\\site-packages\\sklearn\\base.py:1473: DataConversionWarning: A column-vector y was passed when a 1d array was expected. Please change the shape of y to (n_samples,), for example using ravel().\n",
      "  return fit_method(estimator, *args, **kwargs)\n"
     ]
    },
    {
     "name": "stdout",
     "output_type": "stream",
     "text": [
      "[CV 5/5] END class_weight=balanced, max_depth=5, min_samples_leaf=10, min_samples_split=10, n_estimators=10;, score=0.916 total time=   0.1s\n"
     ]
    },
    {
     "name": "stderr",
     "output_type": "stream",
     "text": [
      "C:\\Users\\jb5983on\\AppData\\Local\\anaconda3\\envs\\polars\\Lib\\site-packages\\sklearn\\base.py:1473: DataConversionWarning: A column-vector y was passed when a 1d array was expected. Please change the shape of y to (n_samples,), for example using ravel().\n",
      "  return fit_method(estimator, *args, **kwargs)\n"
     ]
    },
    {
     "name": "stdout",
     "output_type": "stream",
     "text": [
      "[CV 1/5] END class_weight=balanced, max_depth=5, min_samples_leaf=10, min_samples_split=10, n_estimators=100;, score=0.889 total time=   1.2s\n"
     ]
    },
    {
     "name": "stderr",
     "output_type": "stream",
     "text": [
      "C:\\Users\\jb5983on\\AppData\\Local\\anaconda3\\envs\\polars\\Lib\\site-packages\\sklearn\\base.py:1473: DataConversionWarning: A column-vector y was passed when a 1d array was expected. Please change the shape of y to (n_samples,), for example using ravel().\n",
      "  return fit_method(estimator, *args, **kwargs)\n"
     ]
    },
    {
     "name": "stdout",
     "output_type": "stream",
     "text": [
      "[CV 2/5] END class_weight=balanced, max_depth=5, min_samples_leaf=10, min_samples_split=10, n_estimators=100;, score=0.896 total time=   1.2s\n"
     ]
    },
    {
     "name": "stderr",
     "output_type": "stream",
     "text": [
      "C:\\Users\\jb5983on\\AppData\\Local\\anaconda3\\envs\\polars\\Lib\\site-packages\\sklearn\\base.py:1473: DataConversionWarning: A column-vector y was passed when a 1d array was expected. Please change the shape of y to (n_samples,), for example using ravel().\n",
      "  return fit_method(estimator, *args, **kwargs)\n"
     ]
    },
    {
     "name": "stdout",
     "output_type": "stream",
     "text": [
      "[CV 3/5] END class_weight=balanced, max_depth=5, min_samples_leaf=10, min_samples_split=10, n_estimators=100;, score=0.896 total time=   1.1s\n"
     ]
    },
    {
     "name": "stderr",
     "output_type": "stream",
     "text": [
      "C:\\Users\\jb5983on\\AppData\\Local\\anaconda3\\envs\\polars\\Lib\\site-packages\\sklearn\\base.py:1473: DataConversionWarning: A column-vector y was passed when a 1d array was expected. Please change the shape of y to (n_samples,), for example using ravel().\n",
      "  return fit_method(estimator, *args, **kwargs)\n"
     ]
    },
    {
     "name": "stdout",
     "output_type": "stream",
     "text": [
      "[CV 4/5] END class_weight=balanced, max_depth=5, min_samples_leaf=10, min_samples_split=10, n_estimators=100;, score=0.903 total time=   1.2s\n"
     ]
    },
    {
     "name": "stderr",
     "output_type": "stream",
     "text": [
      "C:\\Users\\jb5983on\\AppData\\Local\\anaconda3\\envs\\polars\\Lib\\site-packages\\sklearn\\base.py:1473: DataConversionWarning: A column-vector y was passed when a 1d array was expected. Please change the shape of y to (n_samples,), for example using ravel().\n",
      "  return fit_method(estimator, *args, **kwargs)\n"
     ]
    },
    {
     "name": "stdout",
     "output_type": "stream",
     "text": [
      "[CV 5/5] END class_weight=balanced, max_depth=5, min_samples_leaf=10, min_samples_split=10, n_estimators=100;, score=0.907 total time=   1.2s\n"
     ]
    },
    {
     "name": "stderr",
     "output_type": "stream",
     "text": [
      "C:\\Users\\jb5983on\\AppData\\Local\\anaconda3\\envs\\polars\\Lib\\site-packages\\sklearn\\model_selection\\_validation.py:540: FitFailedWarning: \n",
      "360 fits failed out of a total of 1080.\n",
      "The score on these train-test partitions for these parameters will be set to nan.\n",
      "If these failures are not expected, you can try to debug them by setting error_score='raise'.\n",
      "\n",
      "Below are more details about the failures:\n",
      "--------------------------------------------------------------------------------\n",
      "360 fits failed with the following error:\n",
      "Traceback (most recent call last):\n",
      "  File \"C:\\Users\\jb5983on\\AppData\\Local\\anaconda3\\envs\\polars\\Lib\\site-packages\\sklearn\\model_selection\\_validation.py\", line 888, in _fit_and_score\n",
      "    estimator.fit(X_train, y_train, **fit_params)\n",
      "  File \"C:\\Users\\jb5983on\\AppData\\Local\\anaconda3\\envs\\polars\\Lib\\site-packages\\sklearn\\base.py\", line 1466, in wrapper\n",
      "    estimator._validate_params()\n",
      "  File \"C:\\Users\\jb5983on\\AppData\\Local\\anaconda3\\envs\\polars\\Lib\\site-packages\\sklearn\\base.py\", line 666, in _validate_params\n",
      "    validate_parameter_constraints(\n",
      "  File \"C:\\Users\\jb5983on\\AppData\\Local\\anaconda3\\envs\\polars\\Lib\\site-packages\\sklearn\\utils\\_param_validation.py\", line 95, in validate_parameter_constraints\n",
      "    raise InvalidParameterError(\n",
      "sklearn.utils._param_validation.InvalidParameterError: The 'min_samples_split' parameter of RandomForestClassifier must be an int in the range [2, inf) or a float in the range (0.0, 1.0]. Got 1 instead.\n",
      "\n",
      "  warnings.warn(some_fits_failed_message, FitFailedWarning)\n",
      "C:\\Users\\jb5983on\\AppData\\Local\\anaconda3\\envs\\polars\\Lib\\site-packages\\sklearn\\model_selection\\_search.py:1102: UserWarning: One or more of the test scores are non-finite: [       nan        nan 0.99314505 0.99314505 0.99314505 0.99314505\n",
      "        nan        nan 0.99314505 0.99314505 0.99314505 0.99314505\n",
      "        nan        nan 0.99314505 0.99314505 0.99314505 0.99314505\n",
      "        nan        nan 0.99314505 0.99314505 0.99314505 0.99314505\n",
      "        nan        nan 0.99314505 0.99314505 0.99314505 0.99314505\n",
      "        nan        nan 0.99314505 0.99314505 0.99314505 0.99314505\n",
      "        nan        nan 0.99314505 0.99314505 0.99314505 0.99314505\n",
      "        nan        nan 0.99314505 0.99314505 0.99314505 0.99314505\n",
      "        nan        nan 0.99314505 0.99314505 0.99314505 0.99314505\n",
      "        nan        nan 0.99314505 0.99314505 0.99314505 0.99314505\n",
      "        nan        nan 0.99314505 0.99314505 0.99314505 0.99314505\n",
      "        nan        nan 0.99314505 0.99314505 0.99314505 0.99314505\n",
      "        nan        nan 0.99314505 0.99314505 0.99314505 0.99314505\n",
      "        nan        nan 0.99314505 0.99314505 0.99314505 0.99314505\n",
      "        nan        nan 0.99314505 0.99314505 0.99314505 0.99314505\n",
      "        nan        nan 0.99314505 0.99314505 0.99314505 0.99314505\n",
      "        nan        nan 0.99314505 0.99314505 0.99314505 0.99314505\n",
      "        nan        nan 0.99314505 0.99314505 0.99314505 0.99314505\n",
      "        nan        nan 0.89825653 0.90145337 0.90815363 0.90186584\n",
      "        nan        nan 0.90299923 0.90227778 0.90140202 0.90387538\n",
      "        nan        nan 0.90727787 0.9048551  0.90341073 0.90397812\n",
      "        nan        nan 0.92119412 0.92093693 0.92140085 0.92093693\n",
      "        nan        nan 0.92067911 0.92042147 0.91959673 0.9210914\n",
      "        nan        nan 0.92042147 0.92093693 0.92042147 0.92093693\n",
      "        nan        nan 0.92042147 0.92042147 0.91908126 0.92042147\n",
      "        nan        nan 0.91799879 0.92042147 0.91799879 0.92042147\n",
      "        nan        nan 0.92170996 0.92042147 0.91975137 0.92042147\n",
      "        nan        nan 0.90645509 0.89191878 0.88640397 0.89094012\n",
      "        nan        nan 0.89630036 0.87861994 0.88877442 0.8956813\n",
      "        nan        nan 0.89274098 0.89119708 0.86527064 0.89233166\n",
      "        nan        nan 0.8884129  0.89377315 0.9114026  0.90330809\n",
      "        nan        nan 0.90274212 0.90135023 0.89062938 0.90377238\n",
      "        nan        nan 0.90449431 0.90119484 0.90825672 0.89825729\n",
      "        nan        nan 0.90397874 0.90305117 0.89949549 0.90279373\n",
      "        nan        nan 0.89650406 0.90217516 0.89016484 0.90583416\n",
      "        nan        nan 0.8937224  0.90289659 0.9042361  0.89820695]\n",
      "  warnings.warn(\n",
      "C:\\Users\\jb5983on\\AppData\\Local\\anaconda3\\envs\\polars\\Lib\\site-packages\\sklearn\\base.py:1473: DataConversionWarning: A column-vector y was passed when a 1d array was expected. Please change the shape of y to (n_samples,), for example using ravel().\n",
      "  return fit_method(estimator, *args, **kwargs)\n"
     ]
    },
    {
     "data": {
      "text/html": [
       "<style>#sk-container-id-3 {\n",
       "  /* Definition of color scheme common for light and dark mode */\n",
       "  --sklearn-color-text: black;\n",
       "  --sklearn-color-line: gray;\n",
       "  /* Definition of color scheme for unfitted estimators */\n",
       "  --sklearn-color-unfitted-level-0: #fff5e6;\n",
       "  --sklearn-color-unfitted-level-1: #f6e4d2;\n",
       "  --sklearn-color-unfitted-level-2: #ffe0b3;\n",
       "  --sklearn-color-unfitted-level-3: chocolate;\n",
       "  /* Definition of color scheme for fitted estimators */\n",
       "  --sklearn-color-fitted-level-0: #f0f8ff;\n",
       "  --sklearn-color-fitted-level-1: #d4ebff;\n",
       "  --sklearn-color-fitted-level-2: #b3dbfd;\n",
       "  --sklearn-color-fitted-level-3: cornflowerblue;\n",
       "\n",
       "  /* Specific color for light theme */\n",
       "  --sklearn-color-text-on-default-background: var(--sg-text-color, var(--theme-code-foreground, var(--jp-content-font-color1, black)));\n",
       "  --sklearn-color-background: var(--sg-background-color, var(--theme-background, var(--jp-layout-color0, white)));\n",
       "  --sklearn-color-border-box: var(--sg-text-color, var(--theme-code-foreground, var(--jp-content-font-color1, black)));\n",
       "  --sklearn-color-icon: #696969;\n",
       "\n",
       "  @media (prefers-color-scheme: dark) {\n",
       "    /* Redefinition of color scheme for dark theme */\n",
       "    --sklearn-color-text-on-default-background: var(--sg-text-color, var(--theme-code-foreground, var(--jp-content-font-color1, white)));\n",
       "    --sklearn-color-background: var(--sg-background-color, var(--theme-background, var(--jp-layout-color0, #111)));\n",
       "    --sklearn-color-border-box: var(--sg-text-color, var(--theme-code-foreground, var(--jp-content-font-color1, white)));\n",
       "    --sklearn-color-icon: #878787;\n",
       "  }\n",
       "}\n",
       "\n",
       "#sk-container-id-3 {\n",
       "  color: var(--sklearn-color-text);\n",
       "}\n",
       "\n",
       "#sk-container-id-3 pre {\n",
       "  padding: 0;\n",
       "}\n",
       "\n",
       "#sk-container-id-3 input.sk-hidden--visually {\n",
       "  border: 0;\n",
       "  clip: rect(1px 1px 1px 1px);\n",
       "  clip: rect(1px, 1px, 1px, 1px);\n",
       "  height: 1px;\n",
       "  margin: -1px;\n",
       "  overflow: hidden;\n",
       "  padding: 0;\n",
       "  position: absolute;\n",
       "  width: 1px;\n",
       "}\n",
       "\n",
       "#sk-container-id-3 div.sk-dashed-wrapped {\n",
       "  border: 1px dashed var(--sklearn-color-line);\n",
       "  margin: 0 0.4em 0.5em 0.4em;\n",
       "  box-sizing: border-box;\n",
       "  padding-bottom: 0.4em;\n",
       "  background-color: var(--sklearn-color-background);\n",
       "}\n",
       "\n",
       "#sk-container-id-3 div.sk-container {\n",
       "  /* jupyter's `normalize.less` sets `[hidden] { display: none; }`\n",
       "     but bootstrap.min.css set `[hidden] { display: none !important; }`\n",
       "     so we also need the `!important` here to be able to override the\n",
       "     default hidden behavior on the sphinx rendered scikit-learn.org.\n",
       "     See: https://github.com/scikit-learn/scikit-learn/issues/21755 */\n",
       "  display: inline-block !important;\n",
       "  position: relative;\n",
       "}\n",
       "\n",
       "#sk-container-id-3 div.sk-text-repr-fallback {\n",
       "  display: none;\n",
       "}\n",
       "\n",
       "div.sk-parallel-item,\n",
       "div.sk-serial,\n",
       "div.sk-item {\n",
       "  /* draw centered vertical line to link estimators */\n",
       "  background-image: linear-gradient(var(--sklearn-color-text-on-default-background), var(--sklearn-color-text-on-default-background));\n",
       "  background-size: 2px 100%;\n",
       "  background-repeat: no-repeat;\n",
       "  background-position: center center;\n",
       "}\n",
       "\n",
       "/* Parallel-specific style estimator block */\n",
       "\n",
       "#sk-container-id-3 div.sk-parallel-item::after {\n",
       "  content: \"\";\n",
       "  width: 100%;\n",
       "  border-bottom: 2px solid var(--sklearn-color-text-on-default-background);\n",
       "  flex-grow: 1;\n",
       "}\n",
       "\n",
       "#sk-container-id-3 div.sk-parallel {\n",
       "  display: flex;\n",
       "  align-items: stretch;\n",
       "  justify-content: center;\n",
       "  background-color: var(--sklearn-color-background);\n",
       "  position: relative;\n",
       "}\n",
       "\n",
       "#sk-container-id-3 div.sk-parallel-item {\n",
       "  display: flex;\n",
       "  flex-direction: column;\n",
       "}\n",
       "\n",
       "#sk-container-id-3 div.sk-parallel-item:first-child::after {\n",
       "  align-self: flex-end;\n",
       "  width: 50%;\n",
       "}\n",
       "\n",
       "#sk-container-id-3 div.sk-parallel-item:last-child::after {\n",
       "  align-self: flex-start;\n",
       "  width: 50%;\n",
       "}\n",
       "\n",
       "#sk-container-id-3 div.sk-parallel-item:only-child::after {\n",
       "  width: 0;\n",
       "}\n",
       "\n",
       "/* Serial-specific style estimator block */\n",
       "\n",
       "#sk-container-id-3 div.sk-serial {\n",
       "  display: flex;\n",
       "  flex-direction: column;\n",
       "  align-items: center;\n",
       "  background-color: var(--sklearn-color-background);\n",
       "  padding-right: 1em;\n",
       "  padding-left: 1em;\n",
       "}\n",
       "\n",
       "\n",
       "/* Toggleable style: style used for estimator/Pipeline/ColumnTransformer box that is\n",
       "clickable and can be expanded/collapsed.\n",
       "- Pipeline and ColumnTransformer use this feature and define the default style\n",
       "- Estimators will overwrite some part of the style using the `sk-estimator` class\n",
       "*/\n",
       "\n",
       "/* Pipeline and ColumnTransformer style (default) */\n",
       "\n",
       "#sk-container-id-3 div.sk-toggleable {\n",
       "  /* Default theme specific background. It is overwritten whether we have a\n",
       "  specific estimator or a Pipeline/ColumnTransformer */\n",
       "  background-color: var(--sklearn-color-background);\n",
       "}\n",
       "\n",
       "/* Toggleable label */\n",
       "#sk-container-id-3 label.sk-toggleable__label {\n",
       "  cursor: pointer;\n",
       "  display: block;\n",
       "  width: 100%;\n",
       "  margin-bottom: 0;\n",
       "  padding: 0.5em;\n",
       "  box-sizing: border-box;\n",
       "  text-align: center;\n",
       "}\n",
       "\n",
       "#sk-container-id-3 label.sk-toggleable__label-arrow:before {\n",
       "  /* Arrow on the left of the label */\n",
       "  content: \"▸\";\n",
       "  float: left;\n",
       "  margin-right: 0.25em;\n",
       "  color: var(--sklearn-color-icon);\n",
       "}\n",
       "\n",
       "#sk-container-id-3 label.sk-toggleable__label-arrow:hover:before {\n",
       "  color: var(--sklearn-color-text);\n",
       "}\n",
       "\n",
       "/* Toggleable content - dropdown */\n",
       "\n",
       "#sk-container-id-3 div.sk-toggleable__content {\n",
       "  max-height: 0;\n",
       "  max-width: 0;\n",
       "  overflow: hidden;\n",
       "  text-align: left;\n",
       "  /* unfitted */\n",
       "  background-color: var(--sklearn-color-unfitted-level-0);\n",
       "}\n",
       "\n",
       "#sk-container-id-3 div.sk-toggleable__content.fitted {\n",
       "  /* fitted */\n",
       "  background-color: var(--sklearn-color-fitted-level-0);\n",
       "}\n",
       "\n",
       "#sk-container-id-3 div.sk-toggleable__content pre {\n",
       "  margin: 0.2em;\n",
       "  border-radius: 0.25em;\n",
       "  color: var(--sklearn-color-text);\n",
       "  /* unfitted */\n",
       "  background-color: var(--sklearn-color-unfitted-level-0);\n",
       "}\n",
       "\n",
       "#sk-container-id-3 div.sk-toggleable__content.fitted pre {\n",
       "  /* unfitted */\n",
       "  background-color: var(--sklearn-color-fitted-level-0);\n",
       "}\n",
       "\n",
       "#sk-container-id-3 input.sk-toggleable__control:checked~div.sk-toggleable__content {\n",
       "  /* Expand drop-down */\n",
       "  max-height: 200px;\n",
       "  max-width: 100%;\n",
       "  overflow: auto;\n",
       "}\n",
       "\n",
       "#sk-container-id-3 input.sk-toggleable__control:checked~label.sk-toggleable__label-arrow:before {\n",
       "  content: \"▾\";\n",
       "}\n",
       "\n",
       "/* Pipeline/ColumnTransformer-specific style */\n",
       "\n",
       "#sk-container-id-3 div.sk-label input.sk-toggleable__control:checked~label.sk-toggleable__label {\n",
       "  color: var(--sklearn-color-text);\n",
       "  background-color: var(--sklearn-color-unfitted-level-2);\n",
       "}\n",
       "\n",
       "#sk-container-id-3 div.sk-label.fitted input.sk-toggleable__control:checked~label.sk-toggleable__label {\n",
       "  background-color: var(--sklearn-color-fitted-level-2);\n",
       "}\n",
       "\n",
       "/* Estimator-specific style */\n",
       "\n",
       "/* Colorize estimator box */\n",
       "#sk-container-id-3 div.sk-estimator input.sk-toggleable__control:checked~label.sk-toggleable__label {\n",
       "  /* unfitted */\n",
       "  background-color: var(--sklearn-color-unfitted-level-2);\n",
       "}\n",
       "\n",
       "#sk-container-id-3 div.sk-estimator.fitted input.sk-toggleable__control:checked~label.sk-toggleable__label {\n",
       "  /* fitted */\n",
       "  background-color: var(--sklearn-color-fitted-level-2);\n",
       "}\n",
       "\n",
       "#sk-container-id-3 div.sk-label label.sk-toggleable__label,\n",
       "#sk-container-id-3 div.sk-label label {\n",
       "  /* The background is the default theme color */\n",
       "  color: var(--sklearn-color-text-on-default-background);\n",
       "}\n",
       "\n",
       "/* On hover, darken the color of the background */\n",
       "#sk-container-id-3 div.sk-label:hover label.sk-toggleable__label {\n",
       "  color: var(--sklearn-color-text);\n",
       "  background-color: var(--sklearn-color-unfitted-level-2);\n",
       "}\n",
       "\n",
       "/* Label box, darken color on hover, fitted */\n",
       "#sk-container-id-3 div.sk-label.fitted:hover label.sk-toggleable__label.fitted {\n",
       "  color: var(--sklearn-color-text);\n",
       "  background-color: var(--sklearn-color-fitted-level-2);\n",
       "}\n",
       "\n",
       "/* Estimator label */\n",
       "\n",
       "#sk-container-id-3 div.sk-label label {\n",
       "  font-family: monospace;\n",
       "  font-weight: bold;\n",
       "  display: inline-block;\n",
       "  line-height: 1.2em;\n",
       "}\n",
       "\n",
       "#sk-container-id-3 div.sk-label-container {\n",
       "  text-align: center;\n",
       "}\n",
       "\n",
       "/* Estimator-specific */\n",
       "#sk-container-id-3 div.sk-estimator {\n",
       "  font-family: monospace;\n",
       "  border: 1px dotted var(--sklearn-color-border-box);\n",
       "  border-radius: 0.25em;\n",
       "  box-sizing: border-box;\n",
       "  margin-bottom: 0.5em;\n",
       "  /* unfitted */\n",
       "  background-color: var(--sklearn-color-unfitted-level-0);\n",
       "}\n",
       "\n",
       "#sk-container-id-3 div.sk-estimator.fitted {\n",
       "  /* fitted */\n",
       "  background-color: var(--sklearn-color-fitted-level-0);\n",
       "}\n",
       "\n",
       "/* on hover */\n",
       "#sk-container-id-3 div.sk-estimator:hover {\n",
       "  /* unfitted */\n",
       "  background-color: var(--sklearn-color-unfitted-level-2);\n",
       "}\n",
       "\n",
       "#sk-container-id-3 div.sk-estimator.fitted:hover {\n",
       "  /* fitted */\n",
       "  background-color: var(--sklearn-color-fitted-level-2);\n",
       "}\n",
       "\n",
       "/* Specification for estimator info (e.g. \"i\" and \"?\") */\n",
       "\n",
       "/* Common style for \"i\" and \"?\" */\n",
       "\n",
       ".sk-estimator-doc-link,\n",
       "a:link.sk-estimator-doc-link,\n",
       "a:visited.sk-estimator-doc-link {\n",
       "  float: right;\n",
       "  font-size: smaller;\n",
       "  line-height: 1em;\n",
       "  font-family: monospace;\n",
       "  background-color: var(--sklearn-color-background);\n",
       "  border-radius: 1em;\n",
       "  height: 1em;\n",
       "  width: 1em;\n",
       "  text-decoration: none !important;\n",
       "  margin-left: 1ex;\n",
       "  /* unfitted */\n",
       "  border: var(--sklearn-color-unfitted-level-1) 1pt solid;\n",
       "  color: var(--sklearn-color-unfitted-level-1);\n",
       "}\n",
       "\n",
       ".sk-estimator-doc-link.fitted,\n",
       "a:link.sk-estimator-doc-link.fitted,\n",
       "a:visited.sk-estimator-doc-link.fitted {\n",
       "  /* fitted */\n",
       "  border: var(--sklearn-color-fitted-level-1) 1pt solid;\n",
       "  color: var(--sklearn-color-fitted-level-1);\n",
       "}\n",
       "\n",
       "/* On hover */\n",
       "div.sk-estimator:hover .sk-estimator-doc-link:hover,\n",
       ".sk-estimator-doc-link:hover,\n",
       "div.sk-label-container:hover .sk-estimator-doc-link:hover,\n",
       ".sk-estimator-doc-link:hover {\n",
       "  /* unfitted */\n",
       "  background-color: var(--sklearn-color-unfitted-level-3);\n",
       "  color: var(--sklearn-color-background);\n",
       "  text-decoration: none;\n",
       "}\n",
       "\n",
       "div.sk-estimator.fitted:hover .sk-estimator-doc-link.fitted:hover,\n",
       ".sk-estimator-doc-link.fitted:hover,\n",
       "div.sk-label-container:hover .sk-estimator-doc-link.fitted:hover,\n",
       ".sk-estimator-doc-link.fitted:hover {\n",
       "  /* fitted */\n",
       "  background-color: var(--sklearn-color-fitted-level-3);\n",
       "  color: var(--sklearn-color-background);\n",
       "  text-decoration: none;\n",
       "}\n",
       "\n",
       "/* Span, style for the box shown on hovering the info icon */\n",
       ".sk-estimator-doc-link span {\n",
       "  display: none;\n",
       "  z-index: 9999;\n",
       "  position: relative;\n",
       "  font-weight: normal;\n",
       "  right: .2ex;\n",
       "  padding: .5ex;\n",
       "  margin: .5ex;\n",
       "  width: min-content;\n",
       "  min-width: 20ex;\n",
       "  max-width: 50ex;\n",
       "  color: var(--sklearn-color-text);\n",
       "  box-shadow: 2pt 2pt 4pt #999;\n",
       "  /* unfitted */\n",
       "  background: var(--sklearn-color-unfitted-level-0);\n",
       "  border: .5pt solid var(--sklearn-color-unfitted-level-3);\n",
       "}\n",
       "\n",
       ".sk-estimator-doc-link.fitted span {\n",
       "  /* fitted */\n",
       "  background: var(--sklearn-color-fitted-level-0);\n",
       "  border: var(--sklearn-color-fitted-level-3);\n",
       "}\n",
       "\n",
       ".sk-estimator-doc-link:hover span {\n",
       "  display: block;\n",
       "}\n",
       "\n",
       "/* \"?\"-specific style due to the `<a>` HTML tag */\n",
       "\n",
       "#sk-container-id-3 a.estimator_doc_link {\n",
       "  float: right;\n",
       "  font-size: 1rem;\n",
       "  line-height: 1em;\n",
       "  font-family: monospace;\n",
       "  background-color: var(--sklearn-color-background);\n",
       "  border-radius: 1rem;\n",
       "  height: 1rem;\n",
       "  width: 1rem;\n",
       "  text-decoration: none;\n",
       "  /* unfitted */\n",
       "  color: var(--sklearn-color-unfitted-level-1);\n",
       "  border: var(--sklearn-color-unfitted-level-1) 1pt solid;\n",
       "}\n",
       "\n",
       "#sk-container-id-3 a.estimator_doc_link.fitted {\n",
       "  /* fitted */\n",
       "  border: var(--sklearn-color-fitted-level-1) 1pt solid;\n",
       "  color: var(--sklearn-color-fitted-level-1);\n",
       "}\n",
       "\n",
       "/* On hover */\n",
       "#sk-container-id-3 a.estimator_doc_link:hover {\n",
       "  /* unfitted */\n",
       "  background-color: var(--sklearn-color-unfitted-level-3);\n",
       "  color: var(--sklearn-color-background);\n",
       "  text-decoration: none;\n",
       "}\n",
       "\n",
       "#sk-container-id-3 a.estimator_doc_link.fitted:hover {\n",
       "  /* fitted */\n",
       "  background-color: var(--sklearn-color-fitted-level-3);\n",
       "}\n",
       "</style><div id=\"sk-container-id-3\" class=\"sk-top-container\"><div class=\"sk-text-repr-fallback\"><pre>GridSearchCV(estimator=RandomForestClassifier(),\n",
       "             param_grid={&#x27;class_weight&#x27;: [None, &#x27;balanced&#x27;],\n",
       "                         &#x27;max_depth&#x27;: [None, 1, 2, 3, 4, 5],\n",
       "                         &#x27;min_samples_leaf&#x27;: [1, 5, 10],\n",
       "                         &#x27;min_samples_split&#x27;: [1, 5, 10],\n",
       "                         &#x27;n_estimators&#x27;: array([ 10, 100])},\n",
       "             verbose=3)</pre><b>In a Jupyter environment, please rerun this cell to show the HTML representation or trust the notebook. <br />On GitHub, the HTML representation is unable to render, please try loading this page with nbviewer.org.</b></div><div class=\"sk-container\" hidden><div class=\"sk-item sk-dashed-wrapped\"><div class=\"sk-label-container\"><div class=\"sk-label fitted sk-toggleable\"><input class=\"sk-toggleable__control sk-hidden--visually\" id=\"sk-estimator-id-5\" type=\"checkbox\" ><label for=\"sk-estimator-id-5\" class=\"sk-toggleable__label fitted sk-toggleable__label-arrow fitted\">&nbsp;&nbsp;GridSearchCV<a class=\"sk-estimator-doc-link fitted\" rel=\"noreferrer\" target=\"_blank\" href=\"https://scikit-learn.org/1.5/modules/generated/sklearn.model_selection.GridSearchCV.html\">?<span>Documentation for GridSearchCV</span></a><span class=\"sk-estimator-doc-link fitted\">i<span>Fitted</span></span></label><div class=\"sk-toggleable__content fitted\"><pre>GridSearchCV(estimator=RandomForestClassifier(),\n",
       "             param_grid={&#x27;class_weight&#x27;: [None, &#x27;balanced&#x27;],\n",
       "                         &#x27;max_depth&#x27;: [None, 1, 2, 3, 4, 5],\n",
       "                         &#x27;min_samples_leaf&#x27;: [1, 5, 10],\n",
       "                         &#x27;min_samples_split&#x27;: [1, 5, 10],\n",
       "                         &#x27;n_estimators&#x27;: array([ 10, 100])},\n",
       "             verbose=3)</pre></div> </div></div><div class=\"sk-parallel\"><div class=\"sk-parallel-item\"><div class=\"sk-item\"><div class=\"sk-label-container\"><div class=\"sk-label fitted sk-toggleable\"><input class=\"sk-toggleable__control sk-hidden--visually\" id=\"sk-estimator-id-6\" type=\"checkbox\" ><label for=\"sk-estimator-id-6\" class=\"sk-toggleable__label fitted sk-toggleable__label-arrow fitted\">best_estimator_: RandomForestClassifier</label><div class=\"sk-toggleable__content fitted\"><pre>RandomForestClassifier(min_samples_split=5, n_estimators=np.int64(10))</pre></div> </div></div><div class=\"sk-serial\"><div class=\"sk-item\"><div class=\"sk-estimator fitted sk-toggleable\"><input class=\"sk-toggleable__control sk-hidden--visually\" id=\"sk-estimator-id-7\" type=\"checkbox\" ><label for=\"sk-estimator-id-7\" class=\"sk-toggleable__label fitted sk-toggleable__label-arrow fitted\">&nbsp;RandomForestClassifier<a class=\"sk-estimator-doc-link fitted\" rel=\"noreferrer\" target=\"_blank\" href=\"https://scikit-learn.org/1.5/modules/generated/sklearn.ensemble.RandomForestClassifier.html\">?<span>Documentation for RandomForestClassifier</span></a></label><div class=\"sk-toggleable__content fitted\"><pre>RandomForestClassifier(min_samples_split=5, n_estimators=np.int64(10))</pre></div> </div></div></div></div></div></div></div></div></div>"
      ],
      "text/plain": [
       "GridSearchCV(estimator=RandomForestClassifier(),\n",
       "             param_grid={'class_weight': [None, 'balanced'],\n",
       "                         'max_depth': [None, 1, 2, 3, 4, 5],\n",
       "                         'min_samples_leaf': [1, 5, 10],\n",
       "                         'min_samples_split': [1, 5, 10],\n",
       "                         'n_estimators': array([ 10, 100])},\n",
       "             verbose=3)"
      ]
     },
     "execution_count": 18,
     "metadata": {},
     "output_type": "execute_result"
    }
   ],
   "source": [
    "rf_grid_search = GridSearchCV(RandomForestClassifier(), rf_param_grid, verbose=3)\n",
    "\n",
    "rf_grid_search.fit(Fielding_Stats, Won_GGlove)"
   ]
  },
  {
   "cell_type": "code",
   "execution_count": 19,
   "id": "79e3f7ae-579b-4211-bb08-f8cec60d585d",
   "metadata": {},
   "outputs": [
    {
     "data": {
      "text/plain": [
       "np.float64(0.9931450471102942)"
      ]
     },
     "execution_count": 19,
     "metadata": {},
     "output_type": "execute_result"
    }
   ],
   "source": [
    "rf_grid_search.best_score_"
   ]
  },
  {
   "cell_type": "code",
   "execution_count": 20,
   "id": "776a6adf-3538-4175-b511-7ca258bb1279",
   "metadata": {},
   "outputs": [
    {
     "data": {
      "text/plain": [
       "{'class_weight': None,\n",
       " 'max_depth': None,\n",
       " 'min_samples_leaf': 1,\n",
       " 'min_samples_split': 5,\n",
       " 'n_estimators': np.int64(10)}"
      ]
     },
     "execution_count": 20,
     "metadata": {},
     "output_type": "execute_result"
    }
   ],
   "source": [
    "rf_grid_search.best_params_"
   ]
  },
  {
   "cell_type": "code",
   "execution_count": 21,
   "id": "c4548869-c122-4af2-bec5-066a39ec5c04",
   "metadata": {},
   "outputs": [
    {
     "data": {
      "text/html": [
       "<style>#sk-container-id-4 {\n",
       "  /* Definition of color scheme common for light and dark mode */\n",
       "  --sklearn-color-text: black;\n",
       "  --sklearn-color-line: gray;\n",
       "  /* Definition of color scheme for unfitted estimators */\n",
       "  --sklearn-color-unfitted-level-0: #fff5e6;\n",
       "  --sklearn-color-unfitted-level-1: #f6e4d2;\n",
       "  --sklearn-color-unfitted-level-2: #ffe0b3;\n",
       "  --sklearn-color-unfitted-level-3: chocolate;\n",
       "  /* Definition of color scheme for fitted estimators */\n",
       "  --sklearn-color-fitted-level-0: #f0f8ff;\n",
       "  --sklearn-color-fitted-level-1: #d4ebff;\n",
       "  --sklearn-color-fitted-level-2: #b3dbfd;\n",
       "  --sklearn-color-fitted-level-3: cornflowerblue;\n",
       "\n",
       "  /* Specific color for light theme */\n",
       "  --sklearn-color-text-on-default-background: var(--sg-text-color, var(--theme-code-foreground, var(--jp-content-font-color1, black)));\n",
       "  --sklearn-color-background: var(--sg-background-color, var(--theme-background, var(--jp-layout-color0, white)));\n",
       "  --sklearn-color-border-box: var(--sg-text-color, var(--theme-code-foreground, var(--jp-content-font-color1, black)));\n",
       "  --sklearn-color-icon: #696969;\n",
       "\n",
       "  @media (prefers-color-scheme: dark) {\n",
       "    /* Redefinition of color scheme for dark theme */\n",
       "    --sklearn-color-text-on-default-background: var(--sg-text-color, var(--theme-code-foreground, var(--jp-content-font-color1, white)));\n",
       "    --sklearn-color-background: var(--sg-background-color, var(--theme-background, var(--jp-layout-color0, #111)));\n",
       "    --sklearn-color-border-box: var(--sg-text-color, var(--theme-code-foreground, var(--jp-content-font-color1, white)));\n",
       "    --sklearn-color-icon: #878787;\n",
       "  }\n",
       "}\n",
       "\n",
       "#sk-container-id-4 {\n",
       "  color: var(--sklearn-color-text);\n",
       "}\n",
       "\n",
       "#sk-container-id-4 pre {\n",
       "  padding: 0;\n",
       "}\n",
       "\n",
       "#sk-container-id-4 input.sk-hidden--visually {\n",
       "  border: 0;\n",
       "  clip: rect(1px 1px 1px 1px);\n",
       "  clip: rect(1px, 1px, 1px, 1px);\n",
       "  height: 1px;\n",
       "  margin: -1px;\n",
       "  overflow: hidden;\n",
       "  padding: 0;\n",
       "  position: absolute;\n",
       "  width: 1px;\n",
       "}\n",
       "\n",
       "#sk-container-id-4 div.sk-dashed-wrapped {\n",
       "  border: 1px dashed var(--sklearn-color-line);\n",
       "  margin: 0 0.4em 0.5em 0.4em;\n",
       "  box-sizing: border-box;\n",
       "  padding-bottom: 0.4em;\n",
       "  background-color: var(--sklearn-color-background);\n",
       "}\n",
       "\n",
       "#sk-container-id-4 div.sk-container {\n",
       "  /* jupyter's `normalize.less` sets `[hidden] { display: none; }`\n",
       "     but bootstrap.min.css set `[hidden] { display: none !important; }`\n",
       "     so we also need the `!important` here to be able to override the\n",
       "     default hidden behavior on the sphinx rendered scikit-learn.org.\n",
       "     See: https://github.com/scikit-learn/scikit-learn/issues/21755 */\n",
       "  display: inline-block !important;\n",
       "  position: relative;\n",
       "}\n",
       "\n",
       "#sk-container-id-4 div.sk-text-repr-fallback {\n",
       "  display: none;\n",
       "}\n",
       "\n",
       "div.sk-parallel-item,\n",
       "div.sk-serial,\n",
       "div.sk-item {\n",
       "  /* draw centered vertical line to link estimators */\n",
       "  background-image: linear-gradient(var(--sklearn-color-text-on-default-background), var(--sklearn-color-text-on-default-background));\n",
       "  background-size: 2px 100%;\n",
       "  background-repeat: no-repeat;\n",
       "  background-position: center center;\n",
       "}\n",
       "\n",
       "/* Parallel-specific style estimator block */\n",
       "\n",
       "#sk-container-id-4 div.sk-parallel-item::after {\n",
       "  content: \"\";\n",
       "  width: 100%;\n",
       "  border-bottom: 2px solid var(--sklearn-color-text-on-default-background);\n",
       "  flex-grow: 1;\n",
       "}\n",
       "\n",
       "#sk-container-id-4 div.sk-parallel {\n",
       "  display: flex;\n",
       "  align-items: stretch;\n",
       "  justify-content: center;\n",
       "  background-color: var(--sklearn-color-background);\n",
       "  position: relative;\n",
       "}\n",
       "\n",
       "#sk-container-id-4 div.sk-parallel-item {\n",
       "  display: flex;\n",
       "  flex-direction: column;\n",
       "}\n",
       "\n",
       "#sk-container-id-4 div.sk-parallel-item:first-child::after {\n",
       "  align-self: flex-end;\n",
       "  width: 50%;\n",
       "}\n",
       "\n",
       "#sk-container-id-4 div.sk-parallel-item:last-child::after {\n",
       "  align-self: flex-start;\n",
       "  width: 50%;\n",
       "}\n",
       "\n",
       "#sk-container-id-4 div.sk-parallel-item:only-child::after {\n",
       "  width: 0;\n",
       "}\n",
       "\n",
       "/* Serial-specific style estimator block */\n",
       "\n",
       "#sk-container-id-4 div.sk-serial {\n",
       "  display: flex;\n",
       "  flex-direction: column;\n",
       "  align-items: center;\n",
       "  background-color: var(--sklearn-color-background);\n",
       "  padding-right: 1em;\n",
       "  padding-left: 1em;\n",
       "}\n",
       "\n",
       "\n",
       "/* Toggleable style: style used for estimator/Pipeline/ColumnTransformer box that is\n",
       "clickable and can be expanded/collapsed.\n",
       "- Pipeline and ColumnTransformer use this feature and define the default style\n",
       "- Estimators will overwrite some part of the style using the `sk-estimator` class\n",
       "*/\n",
       "\n",
       "/* Pipeline and ColumnTransformer style (default) */\n",
       "\n",
       "#sk-container-id-4 div.sk-toggleable {\n",
       "  /* Default theme specific background. It is overwritten whether we have a\n",
       "  specific estimator or a Pipeline/ColumnTransformer */\n",
       "  background-color: var(--sklearn-color-background);\n",
       "}\n",
       "\n",
       "/* Toggleable label */\n",
       "#sk-container-id-4 label.sk-toggleable__label {\n",
       "  cursor: pointer;\n",
       "  display: block;\n",
       "  width: 100%;\n",
       "  margin-bottom: 0;\n",
       "  padding: 0.5em;\n",
       "  box-sizing: border-box;\n",
       "  text-align: center;\n",
       "}\n",
       "\n",
       "#sk-container-id-4 label.sk-toggleable__label-arrow:before {\n",
       "  /* Arrow on the left of the label */\n",
       "  content: \"▸\";\n",
       "  float: left;\n",
       "  margin-right: 0.25em;\n",
       "  color: var(--sklearn-color-icon);\n",
       "}\n",
       "\n",
       "#sk-container-id-4 label.sk-toggleable__label-arrow:hover:before {\n",
       "  color: var(--sklearn-color-text);\n",
       "}\n",
       "\n",
       "/* Toggleable content - dropdown */\n",
       "\n",
       "#sk-container-id-4 div.sk-toggleable__content {\n",
       "  max-height: 0;\n",
       "  max-width: 0;\n",
       "  overflow: hidden;\n",
       "  text-align: left;\n",
       "  /* unfitted */\n",
       "  background-color: var(--sklearn-color-unfitted-level-0);\n",
       "}\n",
       "\n",
       "#sk-container-id-4 div.sk-toggleable__content.fitted {\n",
       "  /* fitted */\n",
       "  background-color: var(--sklearn-color-fitted-level-0);\n",
       "}\n",
       "\n",
       "#sk-container-id-4 div.sk-toggleable__content pre {\n",
       "  margin: 0.2em;\n",
       "  border-radius: 0.25em;\n",
       "  color: var(--sklearn-color-text);\n",
       "  /* unfitted */\n",
       "  background-color: var(--sklearn-color-unfitted-level-0);\n",
       "}\n",
       "\n",
       "#sk-container-id-4 div.sk-toggleable__content.fitted pre {\n",
       "  /* unfitted */\n",
       "  background-color: var(--sklearn-color-fitted-level-0);\n",
       "}\n",
       "\n",
       "#sk-container-id-4 input.sk-toggleable__control:checked~div.sk-toggleable__content {\n",
       "  /* Expand drop-down */\n",
       "  max-height: 200px;\n",
       "  max-width: 100%;\n",
       "  overflow: auto;\n",
       "}\n",
       "\n",
       "#sk-container-id-4 input.sk-toggleable__control:checked~label.sk-toggleable__label-arrow:before {\n",
       "  content: \"▾\";\n",
       "}\n",
       "\n",
       "/* Pipeline/ColumnTransformer-specific style */\n",
       "\n",
       "#sk-container-id-4 div.sk-label input.sk-toggleable__control:checked~label.sk-toggleable__label {\n",
       "  color: var(--sklearn-color-text);\n",
       "  background-color: var(--sklearn-color-unfitted-level-2);\n",
       "}\n",
       "\n",
       "#sk-container-id-4 div.sk-label.fitted input.sk-toggleable__control:checked~label.sk-toggleable__label {\n",
       "  background-color: var(--sklearn-color-fitted-level-2);\n",
       "}\n",
       "\n",
       "/* Estimator-specific style */\n",
       "\n",
       "/* Colorize estimator box */\n",
       "#sk-container-id-4 div.sk-estimator input.sk-toggleable__control:checked~label.sk-toggleable__label {\n",
       "  /* unfitted */\n",
       "  background-color: var(--sklearn-color-unfitted-level-2);\n",
       "}\n",
       "\n",
       "#sk-container-id-4 div.sk-estimator.fitted input.sk-toggleable__control:checked~label.sk-toggleable__label {\n",
       "  /* fitted */\n",
       "  background-color: var(--sklearn-color-fitted-level-2);\n",
       "}\n",
       "\n",
       "#sk-container-id-4 div.sk-label label.sk-toggleable__label,\n",
       "#sk-container-id-4 div.sk-label label {\n",
       "  /* The background is the default theme color */\n",
       "  color: var(--sklearn-color-text-on-default-background);\n",
       "}\n",
       "\n",
       "/* On hover, darken the color of the background */\n",
       "#sk-container-id-4 div.sk-label:hover label.sk-toggleable__label {\n",
       "  color: var(--sklearn-color-text);\n",
       "  background-color: var(--sklearn-color-unfitted-level-2);\n",
       "}\n",
       "\n",
       "/* Label box, darken color on hover, fitted */\n",
       "#sk-container-id-4 div.sk-label.fitted:hover label.sk-toggleable__label.fitted {\n",
       "  color: var(--sklearn-color-text);\n",
       "  background-color: var(--sklearn-color-fitted-level-2);\n",
       "}\n",
       "\n",
       "/* Estimator label */\n",
       "\n",
       "#sk-container-id-4 div.sk-label label {\n",
       "  font-family: monospace;\n",
       "  font-weight: bold;\n",
       "  display: inline-block;\n",
       "  line-height: 1.2em;\n",
       "}\n",
       "\n",
       "#sk-container-id-4 div.sk-label-container {\n",
       "  text-align: center;\n",
       "}\n",
       "\n",
       "/* Estimator-specific */\n",
       "#sk-container-id-4 div.sk-estimator {\n",
       "  font-family: monospace;\n",
       "  border: 1px dotted var(--sklearn-color-border-box);\n",
       "  border-radius: 0.25em;\n",
       "  box-sizing: border-box;\n",
       "  margin-bottom: 0.5em;\n",
       "  /* unfitted */\n",
       "  background-color: var(--sklearn-color-unfitted-level-0);\n",
       "}\n",
       "\n",
       "#sk-container-id-4 div.sk-estimator.fitted {\n",
       "  /* fitted */\n",
       "  background-color: var(--sklearn-color-fitted-level-0);\n",
       "}\n",
       "\n",
       "/* on hover */\n",
       "#sk-container-id-4 div.sk-estimator:hover {\n",
       "  /* unfitted */\n",
       "  background-color: var(--sklearn-color-unfitted-level-2);\n",
       "}\n",
       "\n",
       "#sk-container-id-4 div.sk-estimator.fitted:hover {\n",
       "  /* fitted */\n",
       "  background-color: var(--sklearn-color-fitted-level-2);\n",
       "}\n",
       "\n",
       "/* Specification for estimator info (e.g. \"i\" and \"?\") */\n",
       "\n",
       "/* Common style for \"i\" and \"?\" */\n",
       "\n",
       ".sk-estimator-doc-link,\n",
       "a:link.sk-estimator-doc-link,\n",
       "a:visited.sk-estimator-doc-link {\n",
       "  float: right;\n",
       "  font-size: smaller;\n",
       "  line-height: 1em;\n",
       "  font-family: monospace;\n",
       "  background-color: var(--sklearn-color-background);\n",
       "  border-radius: 1em;\n",
       "  height: 1em;\n",
       "  width: 1em;\n",
       "  text-decoration: none !important;\n",
       "  margin-left: 1ex;\n",
       "  /* unfitted */\n",
       "  border: var(--sklearn-color-unfitted-level-1) 1pt solid;\n",
       "  color: var(--sklearn-color-unfitted-level-1);\n",
       "}\n",
       "\n",
       ".sk-estimator-doc-link.fitted,\n",
       "a:link.sk-estimator-doc-link.fitted,\n",
       "a:visited.sk-estimator-doc-link.fitted {\n",
       "  /* fitted */\n",
       "  border: var(--sklearn-color-fitted-level-1) 1pt solid;\n",
       "  color: var(--sklearn-color-fitted-level-1);\n",
       "}\n",
       "\n",
       "/* On hover */\n",
       "div.sk-estimator:hover .sk-estimator-doc-link:hover,\n",
       ".sk-estimator-doc-link:hover,\n",
       "div.sk-label-container:hover .sk-estimator-doc-link:hover,\n",
       ".sk-estimator-doc-link:hover {\n",
       "  /* unfitted */\n",
       "  background-color: var(--sklearn-color-unfitted-level-3);\n",
       "  color: var(--sklearn-color-background);\n",
       "  text-decoration: none;\n",
       "}\n",
       "\n",
       "div.sk-estimator.fitted:hover .sk-estimator-doc-link.fitted:hover,\n",
       ".sk-estimator-doc-link.fitted:hover,\n",
       "div.sk-label-container:hover .sk-estimator-doc-link.fitted:hover,\n",
       ".sk-estimator-doc-link.fitted:hover {\n",
       "  /* fitted */\n",
       "  background-color: var(--sklearn-color-fitted-level-3);\n",
       "  color: var(--sklearn-color-background);\n",
       "  text-decoration: none;\n",
       "}\n",
       "\n",
       "/* Span, style for the box shown on hovering the info icon */\n",
       ".sk-estimator-doc-link span {\n",
       "  display: none;\n",
       "  z-index: 9999;\n",
       "  position: relative;\n",
       "  font-weight: normal;\n",
       "  right: .2ex;\n",
       "  padding: .5ex;\n",
       "  margin: .5ex;\n",
       "  width: min-content;\n",
       "  min-width: 20ex;\n",
       "  max-width: 50ex;\n",
       "  color: var(--sklearn-color-text);\n",
       "  box-shadow: 2pt 2pt 4pt #999;\n",
       "  /* unfitted */\n",
       "  background: var(--sklearn-color-unfitted-level-0);\n",
       "  border: .5pt solid var(--sklearn-color-unfitted-level-3);\n",
       "}\n",
       "\n",
       ".sk-estimator-doc-link.fitted span {\n",
       "  /* fitted */\n",
       "  background: var(--sklearn-color-fitted-level-0);\n",
       "  border: var(--sklearn-color-fitted-level-3);\n",
       "}\n",
       "\n",
       ".sk-estimator-doc-link:hover span {\n",
       "  display: block;\n",
       "}\n",
       "\n",
       "/* \"?\"-specific style due to the `<a>` HTML tag */\n",
       "\n",
       "#sk-container-id-4 a.estimator_doc_link {\n",
       "  float: right;\n",
       "  font-size: 1rem;\n",
       "  line-height: 1em;\n",
       "  font-family: monospace;\n",
       "  background-color: var(--sklearn-color-background);\n",
       "  border-radius: 1rem;\n",
       "  height: 1rem;\n",
       "  width: 1rem;\n",
       "  text-decoration: none;\n",
       "  /* unfitted */\n",
       "  color: var(--sklearn-color-unfitted-level-1);\n",
       "  border: var(--sklearn-color-unfitted-level-1) 1pt solid;\n",
       "}\n",
       "\n",
       "#sk-container-id-4 a.estimator_doc_link.fitted {\n",
       "  /* fitted */\n",
       "  border: var(--sklearn-color-fitted-level-1) 1pt solid;\n",
       "  color: var(--sklearn-color-fitted-level-1);\n",
       "}\n",
       "\n",
       "/* On hover */\n",
       "#sk-container-id-4 a.estimator_doc_link:hover {\n",
       "  /* unfitted */\n",
       "  background-color: var(--sklearn-color-unfitted-level-3);\n",
       "  color: var(--sklearn-color-background);\n",
       "  text-decoration: none;\n",
       "}\n",
       "\n",
       "#sk-container-id-4 a.estimator_doc_link.fitted:hover {\n",
       "  /* fitted */\n",
       "  background-color: var(--sklearn-color-fitted-level-3);\n",
       "}\n",
       "</style><div id=\"sk-container-id-4\" class=\"sk-top-container\"><div class=\"sk-text-repr-fallback\"><pre>RandomForestClassifier(min_samples_split=5, n_estimators=np.int64(10))</pre><b>In a Jupyter environment, please rerun this cell to show the HTML representation or trust the notebook. <br />On GitHub, the HTML representation is unable to render, please try loading this page with nbviewer.org.</b></div><div class=\"sk-container\" hidden><div class=\"sk-item\"><div class=\"sk-estimator fitted sk-toggleable\"><input class=\"sk-toggleable__control sk-hidden--visually\" id=\"sk-estimator-id-8\" type=\"checkbox\" checked><label for=\"sk-estimator-id-8\" class=\"sk-toggleable__label fitted sk-toggleable__label-arrow fitted\">&nbsp;&nbsp;RandomForestClassifier<a class=\"sk-estimator-doc-link fitted\" rel=\"noreferrer\" target=\"_blank\" href=\"https://scikit-learn.org/1.5/modules/generated/sklearn.ensemble.RandomForestClassifier.html\">?<span>Documentation for RandomForestClassifier</span></a><span class=\"sk-estimator-doc-link fitted\">i<span>Fitted</span></span></label><div class=\"sk-toggleable__content fitted\"><pre>RandomForestClassifier(min_samples_split=5, n_estimators=np.int64(10))</pre></div> </div></div></div></div>"
      ],
      "text/plain": [
       "RandomForestClassifier(min_samples_split=5, n_estimators=np.int64(10))"
      ]
     },
     "execution_count": 21,
     "metadata": {},
     "output_type": "execute_result"
    }
   ],
   "source": [
    "rf_grid_search.best_estimator_"
   ]
  },
  {
   "cell_type": "code",
   "execution_count": 36,
   "id": "ceb57151-58d8-440c-83db-1857e648096b",
   "metadata": {},
   "outputs": [
    {
     "data": {
      "text/plain": [
       "array(['No', 'No', 'No', ..., 'No', 'No', 'No'], dtype=object)"
      ]
     },
     "execution_count": 36,
     "metadata": {},
     "output_type": "execute_result"
    }
   ],
   "source": [
    "Won_GGlove_Forest_Pred = rf_grid_search.predict(Fielding_Stats)\n",
    "\n",
    "Won_GGlove_Forest_Pred"
   ]
  },
  {
   "cell_type": "code",
   "execution_count": 37,
   "id": "08c96e82-99cf-4066-833b-1087c16b3b94",
   "metadata": {},
   "outputs": [
    {
     "data": {
      "text/plain": [
       "{'accuracy': np.float64(0.9931450365941655),\n",
       " 'balanced_accuracy': np.float64(0.5),\n",
       " 'specificity': np.float64(1.0),\n",
       " 'sensitivity': np.float64(0.0),\n",
       " 'npv': np.float64(0.9931450365941655)}"
      ]
     },
     "execution_count": 37,
     "metadata": {},
     "output_type": "execute_result"
    }
   ],
   "source": [
    "get_metrics(Won_GGlove, Won_GGlove_Forest_Pred)"
   ]
  },
  {
   "cell_type": "code",
   "execution_count": 49,
   "id": "f03e8ec0-9f97-43ac-8367-fa048033bdbe",
   "metadata": {},
   "outputs": [
    {
     "data": {
      "text/plain": [
       "np.True_"
      ]
     },
     "execution_count": 49,
     "metadata": {},
     "output_type": "execute_result"
    }
   ],
   "source": [
    "rf_grid_search.best_score_ >= tree_grid_search.best_score_"
   ]
  },
  {
   "cell_type": "code",
   "execution_count": 40,
   "id": "16a8e178-00f7-4636-9d85-b41552399222",
   "metadata": {},
   "outputs": [],
   "source": [
    "#tie between random forest and single tree models, just chose random forest as my winning model\n",
    "Winning_Model = rf_grid_search.predict(Fielding_Stats_Test)"
   ]
  },
  {
   "cell_type": "code",
   "execution_count": 30,
   "id": "a7245928-370e-48f0-8e0d-ea0f9688ce1d",
   "metadata": {},
   "outputs": [
    {
     "data": {
      "text/plain": [
       "{'accuracy': np.float64(0.9913461538461539),\n",
       " 'balanced_accuracy': np.float64(0.5),\n",
       " 'specificity': np.float64(1.0),\n",
       " 'sensitivity': np.float64(0.0),\n",
       " 'npv': np.float64(0.9913461538461539)}"
      ]
     },
     "execution_count": 30,
     "metadata": {},
     "output_type": "execute_result"
    }
   ],
   "source": [
    "get_metrics(Won_GGlove_Test, Winning_Model)"
   ]
  }
 ],
 "metadata": {
  "kernelspec": {
   "display_name": "Python 3 (ipykernel)",
   "language": "python",
   "name": "python3"
  },
  "language_info": {
   "codemirror_mode": {
    "name": "ipython",
    "version": 3
   },
   "file_extension": ".py",
   "mimetype": "text/x-python",
   "name": "python",
   "nbconvert_exporter": "python",
   "pygments_lexer": "ipython3",
   "version": "3.12.5"
  }
 },
 "nbformat": 4,
 "nbformat_minor": 5
}
