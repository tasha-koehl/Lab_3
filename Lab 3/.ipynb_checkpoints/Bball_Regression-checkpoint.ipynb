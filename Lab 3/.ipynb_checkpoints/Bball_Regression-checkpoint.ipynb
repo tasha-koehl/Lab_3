{
 "cells": [
  {
   "cell_type": "code",
   "execution_count": 3,
   "id": "25bf0232-8835-4284-b972-699ae7260438",
   "metadata": {},
   "outputs": [],
   "source": [
    "import sklearn\n",
    "import pandas as pd\n",
    "import polars as pl\n",
    "import numpy as np\n",
    "import matplotlib.pyplot as plt"
   ]
  },
  {
   "cell_type": "code",
   "execution_count": 11,
   "id": "e7689d25-817a-47f9-9d82-b8f600e17d25",
   "metadata": {},
   "outputs": [],
   "source": [
    "from sklearn.ensemble import RandomForestRegressor\n",
    "from sklearn.tree import DecisionTreeRegressor\n",
    "from sklearn.model_selection import GridSearchCV"
   ]
  },
  {
   "cell_type": "code",
   "execution_count": 39,
   "id": "27dfda48-8d9f-44b5-99b8-abfbe9477c57",
   "metadata": {},
   "outputs": [],
   "source": [
    "from sklearn.metrics import mean_squared_error, mean_absolute_error, r2_score\n",
    "\n",
    "def get_metrics(y_true, y_pred):\n",
    "    \"\"\" Compute various regression metrics\n",
    "\n",
    "    Args:\n",
    "        y_true: a column of the true values.\n",
    "        y_pred: a column of the predicted values.\n",
    "    \n",
    "    Returns:\n",
    "        A dictionary of regression metrics.\n",
    "    \"\"\"\n",
    "    mse = mean_squared_error(y_true, y_pred)\n",
    "    rmse = mse ** 0.5\n",
    "    mae = mean_absolute_error(y_true, y_pred)\n",
    "    r2 = r2_score(y_true, y_pred)\n",
    "\n",
    "    return {\n",
    "        'mean_squared_error': mse,\n",
    "        'root_mean_squared_error': rmse,\n",
    "        'mean_absolute_error': mae,\n",
    "        'r_squared': r2\n",
    "    }\n"
   ]
  },
  {
   "cell_type": "markdown",
   "id": "b56325fd-ec03-4b5a-b027-c1f79b2df45b",
   "metadata": {},
   "source": [
    "# Tree Grid Search"
   ]
  },
  {
   "cell_type": "code",
   "execution_count": 8,
   "id": "815d3ae8-7b79-4752-8bab-d0a27e856d31",
   "metadata": {},
   "outputs": [
    {
     "data": {
      "text/html": [
       "<div><style>\n",
       ".dataframe > thead > tr,\n",
       ".dataframe > tbody > tr {\n",
       "  text-align: right;\n",
       "  white-space: pre-wrap;\n",
       "}\n",
       "</style>\n",
       "<small>shape: (9_131, 60)</small><table border=\"1\" class=\"dataframe\"><thead><tr><th>playerID</th><th>yearID</th><th>salary</th><th>stint</th><th>G</th><th>G_batting</th><th>AB</th><th>R</th><th>H</th><th>2B</th><th>3B</th><th>HR</th><th>RBI</th><th>SB</th><th>CS</th><th>BB</th><th>SO</th><th>IBB</th><th>HBP</th><th>SH</th><th>SF</th><th>GIDP</th><th>G_old</th><th>W</th><th>L</th><th>G_right</th><th>GS</th><th>CG</th><th>SHO</th><th>SV</th><th>IPouts</th><th>H_right</th><th>ER</th><th>HR_right</th><th>BB_right</th><th>SO_right</th><th>BAOpp</th><th>ERA</th><th>IBB_right</th><th>WP</th><th>HBP_right</th><th>BK</th><th>BFP</th><th>GF</th><th>R_right</th><th>SH_right</th><th>SF_right</th><th>GIDP_right</th><th>GS_right</th><th>InnOuts</th><th>PO</th><th>A</th><th>E</th><th>DP</th><th>PB</th><th>WP_right</th><th>SB_right</th><th>CS_right</th><th>ZR</th><th>Training-Validation</th></tr><tr><td>str</td><td>i64</td><td>i64</td><td>i64</td><td>i64</td><td>i64</td><td>i64</td><td>i64</td><td>i64</td><td>i64</td><td>i64</td><td>i64</td><td>i64</td><td>i64</td><td>i64</td><td>i64</td><td>i64</td><td>i64</td><td>i64</td><td>i64</td><td>i64</td><td>i64</td><td>i64</td><td>i64</td><td>i64</td><td>i64</td><td>i64</td><td>i64</td><td>i64</td><td>i64</td><td>i64</td><td>i64</td><td>i64</td><td>i64</td><td>i64</td><td>i64</td><td>f64</td><td>f64</td><td>i64</td><td>i64</td><td>i64</td><td>i64</td><td>i64</td><td>i64</td><td>i64</td><td>i64</td><td>i64</td><td>i64</td><td>i64</td><td>i64</td><td>i64</td><td>i64</td><td>i64</td><td>i64</td><td>i64</td><td>i64</td><td>i64</td><td>i64</td><td>i64</td><td>str</td></tr></thead><tbody><tr><td>&quot;pillbr01&quot;</td><td>2012</td><td>480000</td><td>1</td><td>48</td><td>0</td><td>105</td><td>10</td><td>22</td><td>3</td><td>0</td><td>4</td><td>11</td><td>1</td><td>0</td><td>6</td><td>19</td><td>1</td><td>2</td><td>1</td><td>0</td><td>5</td><td>0</td><td>null</td><td>null</td><td>null</td><td>null</td><td>null</td><td>null</td><td>null</td><td>null</td><td>null</td><td>null</td><td>null</td><td>null</td><td>null</td><td>null</td><td>null</td><td>null</td><td>null</td><td>null</td><td>null</td><td>null</td><td>null</td><td>null</td><td>null</td><td>null</td><td>null</td><td>null</td><td>null</td><td>null</td><td>null</td><td>null</td><td>null</td><td>null</td><td>null</td><td>null</td><td>null</td><td>null</td><td>&quot;Training&quot;</td></tr><tr><td>&quot;hamptmi01&quot;</td><td>2009</td><td>2000000</td><td>1</td><td>21</td><td>0</td><td>37</td><td>6</td><td>12</td><td>1</td><td>0</td><td>1</td><td>7</td><td>0</td><td>0</td><td>2</td><td>8</td><td>0</td><td>0</td><td>1</td><td>1</td><td>0</td><td>0</td><td>7</td><td>10</td><td>21</td><td>21</td><td>0</td><td>0</td><td>0</td><td>336</td><td>128</td><td>66</td><td>13</td><td>46</td><td>74</td><td>0.298</td><td>5.3</td><td>6</td><td>1</td><td>2</td><td>0</td><td>494</td><td>0</td><td>71</td><td>11</td><td>5</td><td>13</td><td>21</td><td>336</td><td>9</td><td>17</td><td>2</td><td>1</td><td>0</td><td>0</td><td>0</td><td>0</td><td>0</td><td>&quot;Training&quot;</td></tr><tr><td>&quot;mathisc01&quot;</td><td>2007</td><td>380000</td><td>null</td><td>null</td><td>null</td><td>null</td><td>null</td><td>null</td><td>null</td><td>null</td><td>null</td><td>null</td><td>null</td><td>null</td><td>null</td><td>null</td><td>null</td><td>null</td><td>null</td><td>null</td><td>null</td><td>null</td><td>null</td><td>null</td><td>null</td><td>null</td><td>null</td><td>null</td><td>null</td><td>null</td><td>null</td><td>null</td><td>null</td><td>null</td><td>null</td><td>null</td><td>null</td><td>null</td><td>null</td><td>null</td><td>null</td><td>null</td><td>null</td><td>null</td><td>null</td><td>null</td><td>null</td><td>null</td><td>null</td><td>null</td><td>null</td><td>null</td><td>null</td><td>null</td><td>null</td><td>null</td><td>null</td><td>null</td><td>&quot;Training&quot;</td></tr><tr><td>&quot;hansoto01&quot;</td><td>2013</td><td>3725000</td><td>1</td><td>15</td><td>0</td><td>0</td><td>0</td><td>0</td><td>0</td><td>0</td><td>0</td><td>0</td><td>0</td><td>0</td><td>0</td><td>0</td><td>0</td><td>0</td><td>0</td><td>0</td><td>0</td><td>0</td><td>4</td><td>3</td><td>15</td><td>13</td><td>0</td><td>0</td><td>0</td><td>219</td><td>83</td><td>44</td><td>10</td><td>30</td><td>56</td><td>0.286</td><td>5.42</td><td>3</td><td>6</td><td>3</td><td>0</td><td>327</td><td>1</td><td>47</td><td>0</td><td>4</td><td>3</td><td>13</td><td>219</td><td>7</td><td>7</td><td>1</td><td>0</td><td>0</td><td>0</td><td>0</td><td>0</td><td>0</td><td>&quot;Training&quot;</td></tr><tr><td>&quot;wrighja01&quot;</td><td>2006</td><td>800000</td><td>1</td><td>35</td><td>0</td><td>47</td><td>4</td><td>12</td><td>2</td><td>0</td><td>0</td><td>1</td><td>0</td><td>0</td><td>0</td><td>11</td><td>0</td><td>0</td><td>5</td><td>0</td><td>1</td><td>0</td><td>6</td><td>10</td><td>34</td><td>21</td><td>0</td><td>0</td><td>0</td><td>468</td><td>167</td><td>90</td><td>16</td><td>64</td><td>79</td><td>0.282</td><td>5.19</td><td>4</td><td>6</td><td>10</td><td>0</td><td>676</td><td>2</td><td>95</td><td>5</td><td>4</td><td>24</td><td>null</td><td>null</td><td>null</td><td>null</td><td>null</td><td>null</td><td>null</td><td>null</td><td>null</td><td>null</td><td>null</td><td>&quot;Training&quot;</td></tr><tr><td>&hellip;</td><td>&hellip;</td><td>&hellip;</td><td>&hellip;</td><td>&hellip;</td><td>&hellip;</td><td>&hellip;</td><td>&hellip;</td><td>&hellip;</td><td>&hellip;</td><td>&hellip;</td><td>&hellip;</td><td>&hellip;</td><td>&hellip;</td><td>&hellip;</td><td>&hellip;</td><td>&hellip;</td><td>&hellip;</td><td>&hellip;</td><td>&hellip;</td><td>&hellip;</td><td>&hellip;</td><td>&hellip;</td><td>&hellip;</td><td>&hellip;</td><td>&hellip;</td><td>&hellip;</td><td>&hellip;</td><td>&hellip;</td><td>&hellip;</td><td>&hellip;</td><td>&hellip;</td><td>&hellip;</td><td>&hellip;</td><td>&hellip;</td><td>&hellip;</td><td>&hellip;</td><td>&hellip;</td><td>&hellip;</td><td>&hellip;</td><td>&hellip;</td><td>&hellip;</td><td>&hellip;</td><td>&hellip;</td><td>&hellip;</td><td>&hellip;</td><td>&hellip;</td><td>&hellip;</td><td>&hellip;</td><td>&hellip;</td><td>&hellip;</td><td>&hellip;</td><td>&hellip;</td><td>&hellip;</td><td>&hellip;</td><td>&hellip;</td><td>&hellip;</td><td>&hellip;</td><td>&hellip;</td><td>&hellip;</td></tr><tr><td>&quot;espinda01&quot;</td><td>2015</td><td>1800000</td><td>1</td><td>118</td><td>0</td><td>367</td><td>59</td><td>88</td><td>21</td><td>1</td><td>13</td><td>37</td><td>5</td><td>2</td><td>33</td><td>106</td><td>5</td><td>6</td><td>3</td><td>3</td><td>6</td><td>0</td><td>null</td><td>null</td><td>null</td><td>null</td><td>null</td><td>null</td><td>null</td><td>null</td><td>null</td><td>null</td><td>null</td><td>null</td><td>null</td><td>null</td><td>null</td><td>null</td><td>null</td><td>null</td><td>null</td><td>null</td><td>null</td><td>null</td><td>null</td><td>null</td><td>null</td><td>null</td><td>null</td><td>null</td><td>null</td><td>null</td><td>null</td><td>null</td><td>null</td><td>null</td><td>null</td><td>null</td><td>&quot;Training&quot;</td></tr><tr><td>&quot;pradoma01&quot;</td><td>2016</td><td>11000000</td><td>1</td><td>153</td><td>0</td><td>600</td><td>70</td><td>183</td><td>37</td><td>3</td><td>8</td><td>75</td><td>2</td><td>2</td><td>49</td><td>69</td><td>4</td><td>4</td><td>0</td><td>5</td><td>24</td><td>0</td><td>null</td><td>null</td><td>null</td><td>null</td><td>null</td><td>null</td><td>null</td><td>null</td><td>null</td><td>null</td><td>null</td><td>null</td><td>null</td><td>null</td><td>null</td><td>null</td><td>null</td><td>null</td><td>null</td><td>null</td><td>null</td><td>null</td><td>null</td><td>null</td><td>null</td><td>null</td><td>null</td><td>null</td><td>null</td><td>null</td><td>null</td><td>null</td><td>null</td><td>null</td><td>null</td><td>null</td><td>&quot;Validation&quot;</td></tr><tr><td>&quot;derosma01&quot;</td><td>2013</td><td>750000</td><td>1</td><td>88</td><td>0</td><td>204</td><td>23</td><td>48</td><td>12</td><td>1</td><td>7</td><td>36</td><td>0</td><td>0</td><td>28</td><td>49</td><td>1</td><td>1</td><td>0</td><td>3</td><td>8</td><td>0</td><td>null</td><td>null</td><td>null</td><td>null</td><td>null</td><td>null</td><td>null</td><td>null</td><td>null</td><td>null</td><td>null</td><td>null</td><td>null</td><td>null</td><td>null</td><td>null</td><td>null</td><td>null</td><td>null</td><td>null</td><td>null</td><td>null</td><td>null</td><td>null</td><td>null</td><td>null</td><td>null</td><td>null</td><td>null</td><td>null</td><td>null</td><td>null</td><td>null</td><td>null</td><td>null</td><td>null</td><td>&quot;Training&quot;</td></tr><tr><td>&quot;matsuda01&quot;</td><td>2008</td><td>8333333</td><td>1</td><td>29</td><td>0</td><td>2</td><td>0</td><td>0</td><td>0</td><td>0</td><td>0</td><td>0</td><td>0</td><td>0</td><td>0</td><td>2</td><td>0</td><td>0</td><td>0</td><td>0</td><td>0</td><td>0</td><td>18</td><td>3</td><td>29</td><td>29</td><td>0</td><td>0</td><td>0</td><td>503</td><td>128</td><td>54</td><td>12</td><td>94</td><td>154</td><td>0.211</td><td>2.9</td><td>1</td><td>5</td><td>7</td><td>0</td><td>716</td><td>0</td><td>58</td><td>3</td><td>4</td><td>13</td><td>29</td><td>503</td><td>16</td><td>19</td><td>1</td><td>2</td><td>0</td><td>0</td><td>0</td><td>0</td><td>0</td><td>&quot;Training&quot;</td></tr><tr><td>&quot;piefe01&quot;</td><td>2010</td><td>420000</td><td>1</td><td>82</td><td>0</td><td>288</td><td>39</td><td>79</td><td>15</td><td>5</td><td>5</td><td>31</td><td>5</td><td>2</td><td>13</td><td>52</td><td>0</td><td>1</td><td>3</td><td>3</td><td>10</td><td>0</td><td>null</td><td>null</td><td>null</td><td>null</td><td>null</td><td>null</td><td>null</td><td>null</td><td>null</td><td>null</td><td>null</td><td>null</td><td>null</td><td>null</td><td>null</td><td>null</td><td>null</td><td>null</td><td>null</td><td>null</td><td>null</td><td>null</td><td>null</td><td>null</td><td>null</td><td>null</td><td>null</td><td>null</td><td>null</td><td>null</td><td>null</td><td>null</td><td>null</td><td>null</td><td>null</td><td>null</td><td>&quot;Training&quot;</td></tr></tbody></table></div>"
      ],
      "text/plain": [
       "shape: (9_131, 60)\n",
       "┌───────────┬────────┬──────────┬───────┬───┬──────────┬──────────┬──────┬─────────────────────┐\n",
       "│ playerID  ┆ yearID ┆ salary   ┆ stint ┆ … ┆ SB_right ┆ CS_right ┆ ZR   ┆ Training-Validation │\n",
       "│ ---       ┆ ---    ┆ ---      ┆ ---   ┆   ┆ ---      ┆ ---      ┆ ---  ┆ ---                 │\n",
       "│ str       ┆ i64    ┆ i64      ┆ i64   ┆   ┆ i64      ┆ i64      ┆ i64  ┆ str                 │\n",
       "╞═══════════╪════════╪══════════╪═══════╪═══╪══════════╪══════════╪══════╪═════════════════════╡\n",
       "│ pillbr01  ┆ 2012   ┆ 480000   ┆ 1     ┆ … ┆ null     ┆ null     ┆ null ┆ Training            │\n",
       "│ hamptmi01 ┆ 2009   ┆ 2000000  ┆ 1     ┆ … ┆ 0        ┆ 0        ┆ 0    ┆ Training            │\n",
       "│ mathisc01 ┆ 2007   ┆ 380000   ┆ null  ┆ … ┆ null     ┆ null     ┆ null ┆ Training            │\n",
       "│ hansoto01 ┆ 2013   ┆ 3725000  ┆ 1     ┆ … ┆ 0        ┆ 0        ┆ 0    ┆ Training            │\n",
       "│ wrighja01 ┆ 2006   ┆ 800000   ┆ 1     ┆ … ┆ null     ┆ null     ┆ null ┆ Training            │\n",
       "│ …         ┆ …      ┆ …        ┆ …     ┆ … ┆ …        ┆ …        ┆ …    ┆ …                   │\n",
       "│ espinda01 ┆ 2015   ┆ 1800000  ┆ 1     ┆ … ┆ null     ┆ null     ┆ null ┆ Training            │\n",
       "│ pradoma01 ┆ 2016   ┆ 11000000 ┆ 1     ┆ … ┆ null     ┆ null     ┆ null ┆ Validation          │\n",
       "│ derosma01 ┆ 2013   ┆ 750000   ┆ 1     ┆ … ┆ null     ┆ null     ┆ null ┆ Training            │\n",
       "│ matsuda01 ┆ 2008   ┆ 8333333  ┆ 1     ┆ … ┆ 0        ┆ 0        ┆ 0    ┆ Training            │\n",
       "│ piefe01   ┆ 2010   ┆ 420000   ┆ 1     ┆ … ┆ null     ┆ null     ┆ null ┆ Training            │\n",
       "└───────────┴────────┴──────────┴───────┴───┴──────────┴──────────┴──────┴─────────────────────┘"
      ]
     },
     "execution_count": 8,
     "metadata": {},
     "output_type": "execute_result"
    }
   ],
   "source": [
    "Salary = pl.read_csv('./Data/Salary_Bball.csv')\n",
    "\n",
    "SalaryTrain = Salary.filter(pl.col('Training-Validation') == 'Training')\n",
    "\n",
    "SalaryTest = Salary.filter(pl.col('Training-Validation') == 'Validation')\n",
    "\n",
    "Salary"
   ]
  },
  {
   "cell_type": "code",
   "execution_count": 10,
   "id": "a05cd59c-2ab3-480f-978b-04085bb9d3fb",
   "metadata": {},
   "outputs": [],
   "source": [
    "Salary_Stats = SalaryTrain.select(pl.col('G'), pl.col('ZR'))\n",
    "Salary = SalaryTrain.select(pl.col('salary'))\n",
    "Salary_Stats_Test = SalaryTest.select(pl.col('G'), pl.col('ZR'))\n",
    "Salary_Test = SalaryTest.select(pl.col('salary'))"
   ]
  },
  {
   "cell_type": "code",
   "execution_count": 2,
   "id": "dac17655-25d5-44d0-a5ea-c483c017aeff",
   "metadata": {},
   "outputs": [
    {
     "data": {
      "text/plain": [
       "{'criterion': ['squared_error', 'friedman_mse'],\n",
       " 'max_depth': [10, 20, None],\n",
       " 'min_samples_split': [2, 10],\n",
       " 'min_samples_leaf': [1, 5]}"
      ]
     },
     "execution_count": 2,
     "metadata": {},
     "output_type": "execute_result"
    }
   ],
   "source": [
    "param_grid = {'criterion': ['squared_error', 'friedman_mse'],\n",
    "              'max_depth': [10, 20, None],\n",
    "              'min_samples_split': [2, 10],\n",
    "              'min_samples_leaf': [1, 5],\n",
    "            }\n",
    "\n",
    "param_grid"
   ]
  },
  {
   "cell_type": "code",
   "execution_count": 13,
   "id": "ffa2247c-54a5-4f1d-aec2-8a21f51dcb14",
   "metadata": {
    "scrolled": true
   },
   "outputs": [
    {
     "name": "stdout",
     "output_type": "stream",
     "text": [
      "Fitting 5 folds for each of 24 candidates, totalling 120 fits\n",
      "[CV 1/5] END criterion=squared_error, max_depth=10, min_samples_leaf=1, min_samples_split=2;, score=-17711958331408.414 total time=   0.0s\n",
      "[CV 2/5] END criterion=squared_error, max_depth=10, min_samples_leaf=1, min_samples_split=2;, score=-21181588393923.941 total time=   0.0s\n",
      "[CV 3/5] END criterion=squared_error, max_depth=10, min_samples_leaf=1, min_samples_split=2;, score=-19745676391065.465 total time=   0.0s\n",
      "[CV 4/5] END criterion=squared_error, max_depth=10, min_samples_leaf=1, min_samples_split=2;, score=-19572491886427.148 total time=   0.0s\n",
      "[CV 5/5] END criterion=squared_error, max_depth=10, min_samples_leaf=1, min_samples_split=2;, score=-20585525959597.426 total time=   0.0s\n",
      "[CV 1/5] END criterion=squared_error, max_depth=10, min_samples_leaf=1, min_samples_split=10;, score=-17711958331408.414 total time=   0.0s\n",
      "[CV 2/5] END criterion=squared_error, max_depth=10, min_samples_leaf=1, min_samples_split=10;, score=-21181588393923.941 total time=   0.0s\n",
      "[CV 3/5] END criterion=squared_error, max_depth=10, min_samples_leaf=1, min_samples_split=10;, score=-19745676391065.465 total time=   0.0s\n",
      "[CV 4/5] END criterion=squared_error, max_depth=10, min_samples_leaf=1, min_samples_split=10;, score=-19572491886427.148 total time=   0.0s\n",
      "[CV 5/5] END criterion=squared_error, max_depth=10, min_samples_leaf=1, min_samples_split=10;, score=-20585525959597.426 total time=   0.0s\n",
      "[CV 1/5] END criterion=squared_error, max_depth=10, min_samples_leaf=5, min_samples_split=2;, score=-17711864956012.422 total time=   0.0s\n",
      "[CV 2/5] END criterion=squared_error, max_depth=10, min_samples_leaf=5, min_samples_split=2;, score=-21180662423124.770 total time=   0.0s\n",
      "[CV 3/5] END criterion=squared_error, max_depth=10, min_samples_leaf=5, min_samples_split=2;, score=-19744345244069.438 total time=   0.0s\n",
      "[CV 4/5] END criterion=squared_error, max_depth=10, min_samples_leaf=5, min_samples_split=2;, score=-19572491886427.148 total time=   0.0s\n",
      "[CV 5/5] END criterion=squared_error, max_depth=10, min_samples_leaf=5, min_samples_split=2;, score=-20584721107537.055 total time=   0.0s\n",
      "[CV 1/5] END criterion=squared_error, max_depth=10, min_samples_leaf=5, min_samples_split=10;, score=-17711864956012.422 total time=   0.0s\n",
      "[CV 2/5] END criterion=squared_error, max_depth=10, min_samples_leaf=5, min_samples_split=10;, score=-21180662423124.770 total time=   0.0s\n",
      "[CV 3/5] END criterion=squared_error, max_depth=10, min_samples_leaf=5, min_samples_split=10;, score=-19744345244069.438 total time=   0.0s\n",
      "[CV 4/5] END criterion=squared_error, max_depth=10, min_samples_leaf=5, min_samples_split=10;, score=-19572491886427.148 total time=   0.0s\n",
      "[CV 5/5] END criterion=squared_error, max_depth=10, min_samples_leaf=5, min_samples_split=10;, score=-20584721107537.055 total time=   0.0s\n",
      "[CV 1/5] END criterion=squared_error, max_depth=20, min_samples_leaf=1, min_samples_split=2;, score=-17740902432259.668 total time=   0.0s\n",
      "[CV 2/5] END criterion=squared_error, max_depth=20, min_samples_leaf=1, min_samples_split=2;, score=-21167140592870.938 total time=   0.0s\n",
      "[CV 3/5] END criterion=squared_error, max_depth=20, min_samples_leaf=1, min_samples_split=2;, score=-19759027216565.238 total time=   0.0s\n",
      "[CV 4/5] END criterion=squared_error, max_depth=20, min_samples_leaf=1, min_samples_split=2;, score=-19609604743535.793 total time=   0.0s\n",
      "[CV 5/5] END criterion=squared_error, max_depth=20, min_samples_leaf=1, min_samples_split=2;, score=-20625484399513.441 total time=   0.0s\n",
      "[CV 1/5] END criterion=squared_error, max_depth=20, min_samples_leaf=1, min_samples_split=10;, score=-17740902432259.668 total time=   0.0s\n",
      "[CV 2/5] END criterion=squared_error, max_depth=20, min_samples_leaf=1, min_samples_split=10;, score=-21167140592870.938 total time=   0.0s\n",
      "[CV 3/5] END criterion=squared_error, max_depth=20, min_samples_leaf=1, min_samples_split=10;, score=-19759027216565.238 total time=   0.0s\n",
      "[CV 4/5] END criterion=squared_error, max_depth=20, min_samples_leaf=1, min_samples_split=10;, score=-19609604743535.793 total time=   0.0s\n",
      "[CV 5/5] END criterion=squared_error, max_depth=20, min_samples_leaf=1, min_samples_split=10;, score=-20625484399513.441 total time=   0.0s\n",
      "[CV 1/5] END criterion=squared_error, max_depth=20, min_samples_leaf=5, min_samples_split=2;, score=-17740809056863.676 total time=   0.0s\n",
      "[CV 2/5] END criterion=squared_error, max_depth=20, min_samples_leaf=5, min_samples_split=2;, score=-21166214622071.770 total time=   0.0s\n",
      "[CV 3/5] END criterion=squared_error, max_depth=20, min_samples_leaf=5, min_samples_split=2;, score=-19757696069569.211 total time=   0.0s\n",
      "[CV 4/5] END criterion=squared_error, max_depth=20, min_samples_leaf=5, min_samples_split=2;, score=-19609604743535.793 total time=   0.0s\n",
      "[CV 5/5] END criterion=squared_error, max_depth=20, min_samples_leaf=5, min_samples_split=2;, score=-20624679547453.074 total time=   0.0s\n",
      "[CV 1/5] END criterion=squared_error, max_depth=20, min_samples_leaf=5, min_samples_split=10;, score=-17740809056863.676 total time=   0.0s\n",
      "[CV 2/5] END criterion=squared_error, max_depth=20, min_samples_leaf=5, min_samples_split=10;, score=-21166214622071.770 total time=   0.0s\n",
      "[CV 3/5] END criterion=squared_error, max_depth=20, min_samples_leaf=5, min_samples_split=10;, score=-19757696069569.211 total time=   0.0s\n",
      "[CV 4/5] END criterion=squared_error, max_depth=20, min_samples_leaf=5, min_samples_split=10;, score=-19609604743535.793 total time=   0.0s\n",
      "[CV 5/5] END criterion=squared_error, max_depth=20, min_samples_leaf=5, min_samples_split=10;, score=-20624679547453.074 total time=   0.0s\n",
      "[CV 1/5] END criterion=squared_error, max_depth=None, min_samples_leaf=1, min_samples_split=2;, score=-17740902432259.668 total time=   0.0s\n",
      "[CV 2/5] END criterion=squared_error, max_depth=None, min_samples_leaf=1, min_samples_split=2;, score=-21167140592870.938 total time=   0.0s\n",
      "[CV 3/5] END criterion=squared_error, max_depth=None, min_samples_leaf=1, min_samples_split=2;, score=-19759027216565.238 total time=   0.0s\n",
      "[CV 4/5] END criterion=squared_error, max_depth=None, min_samples_leaf=1, min_samples_split=2;, score=-19609604743535.793 total time=   0.0s\n",
      "[CV 5/5] END criterion=squared_error, max_depth=None, min_samples_leaf=1, min_samples_split=2;, score=-20625484399513.441 total time=   0.0s\n",
      "[CV 1/5] END criterion=squared_error, max_depth=None, min_samples_leaf=1, min_samples_split=10;, score=-17740902432259.668 total time=   0.0s\n",
      "[CV 2/5] END criterion=squared_error, max_depth=None, min_samples_leaf=1, min_samples_split=10;, score=-21167140592870.938 total time=   0.0s\n",
      "[CV 3/5] END criterion=squared_error, max_depth=None, min_samples_leaf=1, min_samples_split=10;, score=-19759027216565.238 total time=   0.0s\n",
      "[CV 4/5] END criterion=squared_error, max_depth=None, min_samples_leaf=1, min_samples_split=10;, score=-19609604743535.793 total time=   0.0s\n",
      "[CV 5/5] END criterion=squared_error, max_depth=None, min_samples_leaf=1, min_samples_split=10;, score=-20625484399513.441 total time=   0.0s\n",
      "[CV 1/5] END criterion=squared_error, max_depth=None, min_samples_leaf=5, min_samples_split=2;, score=-17740809056863.676 total time=   0.0s\n",
      "[CV 2/5] END criterion=squared_error, max_depth=None, min_samples_leaf=5, min_samples_split=2;, score=-21166214622071.770 total time=   0.0s\n",
      "[CV 3/5] END criterion=squared_error, max_depth=None, min_samples_leaf=5, min_samples_split=2;, score=-19757696069569.211 total time=   0.0s\n",
      "[CV 4/5] END criterion=squared_error, max_depth=None, min_samples_leaf=5, min_samples_split=2;, score=-19609604743535.793 total time=   0.0s\n",
      "[CV 5/5] END criterion=squared_error, max_depth=None, min_samples_leaf=5, min_samples_split=2;, score=-20624679547453.074 total time=   0.0s\n",
      "[CV 1/5] END criterion=squared_error, max_depth=None, min_samples_leaf=5, min_samples_split=10;, score=-17740809056863.676 total time=   0.0s\n",
      "[CV 2/5] END criterion=squared_error, max_depth=None, min_samples_leaf=5, min_samples_split=10;, score=-21166214622071.770 total time=   0.0s\n",
      "[CV 3/5] END criterion=squared_error, max_depth=None, min_samples_leaf=5, min_samples_split=10;, score=-19757696069569.211 total time=   0.0s\n",
      "[CV 4/5] END criterion=squared_error, max_depth=None, min_samples_leaf=5, min_samples_split=10;, score=-19609604743535.793 total time=   0.0s\n",
      "[CV 5/5] END criterion=squared_error, max_depth=None, min_samples_leaf=5, min_samples_split=10;, score=-20624679547453.074 total time=   0.0s\n",
      "[CV 1/5] END criterion=friedman_mse, max_depth=10, min_samples_leaf=1, min_samples_split=2;, score=-17711958331408.414 total time=   0.0s\n",
      "[CV 2/5] END criterion=friedman_mse, max_depth=10, min_samples_leaf=1, min_samples_split=2;, score=-21181588393923.941 total time=   0.0s\n",
      "[CV 3/5] END criterion=friedman_mse, max_depth=10, min_samples_leaf=1, min_samples_split=2;, score=-19745676391065.465 total time=   0.0s\n",
      "[CV 4/5] END criterion=friedman_mse, max_depth=10, min_samples_leaf=1, min_samples_split=2;, score=-19572491886427.148 total time=   0.0s\n",
      "[CV 5/5] END criterion=friedman_mse, max_depth=10, min_samples_leaf=1, min_samples_split=2;, score=-20585525959597.426 total time=   0.0s\n",
      "[CV 1/5] END criterion=friedman_mse, max_depth=10, min_samples_leaf=1, min_samples_split=10;, score=-17711958331408.414 total time=   0.0s\n",
      "[CV 2/5] END criterion=friedman_mse, max_depth=10, min_samples_leaf=1, min_samples_split=10;, score=-21181588393923.941 total time=   0.0s\n",
      "[CV 3/5] END criterion=friedman_mse, max_depth=10, min_samples_leaf=1, min_samples_split=10;, score=-19745676391065.465 total time=   0.0s\n",
      "[CV 4/5] END criterion=friedman_mse, max_depth=10, min_samples_leaf=1, min_samples_split=10;, score=-19572491886427.148 total time=   0.0s\n",
      "[CV 5/5] END criterion=friedman_mse, max_depth=10, min_samples_leaf=1, min_samples_split=10;, score=-20585525959597.426 total time=   0.0s\n",
      "[CV 1/5] END criterion=friedman_mse, max_depth=10, min_samples_leaf=5, min_samples_split=2;, score=-17711864956012.422 total time=   0.0s\n",
      "[CV 2/5] END criterion=friedman_mse, max_depth=10, min_samples_leaf=5, min_samples_split=2;, score=-21180662423124.770 total time=   0.0s\n",
      "[CV 3/5] END criterion=friedman_mse, max_depth=10, min_samples_leaf=5, min_samples_split=2;, score=-19744345244069.438 total time=   0.0s\n",
      "[CV 4/5] END criterion=friedman_mse, max_depth=10, min_samples_leaf=5, min_samples_split=2;, score=-19572491886427.148 total time=   0.0s\n",
      "[CV 5/5] END criterion=friedman_mse, max_depth=10, min_samples_leaf=5, min_samples_split=2;, score=-20584721107537.055 total time=   0.0s\n",
      "[CV 1/5] END criterion=friedman_mse, max_depth=10, min_samples_leaf=5, min_samples_split=10;, score=-17711864956012.422 total time=   0.0s\n",
      "[CV 2/5] END criterion=friedman_mse, max_depth=10, min_samples_leaf=5, min_samples_split=10;, score=-21180662423124.770 total time=   0.0s\n",
      "[CV 3/5] END criterion=friedman_mse, max_depth=10, min_samples_leaf=5, min_samples_split=10;, score=-19744345244069.438 total time=   0.0s\n",
      "[CV 4/5] END criterion=friedman_mse, max_depth=10, min_samples_leaf=5, min_samples_split=10;, score=-19572491886427.148 total time=   0.0s\n",
      "[CV 5/5] END criterion=friedman_mse, max_depth=10, min_samples_leaf=5, min_samples_split=10;, score=-20584721107537.055 total time=   0.0s\n",
      "[CV 1/5] END criterion=friedman_mse, max_depth=20, min_samples_leaf=1, min_samples_split=2;, score=-17740902432259.668 total time=   0.0s\n",
      "[CV 2/5] END criterion=friedman_mse, max_depth=20, min_samples_leaf=1, min_samples_split=2;, score=-21167140592870.938 total time=   0.0s\n",
      "[CV 3/5] END criterion=friedman_mse, max_depth=20, min_samples_leaf=1, min_samples_split=2;, score=-19759027216565.238 total time=   0.0s\n",
      "[CV 4/5] END criterion=friedman_mse, max_depth=20, min_samples_leaf=1, min_samples_split=2;, score=-19609604743535.793 total time=   0.0s\n",
      "[CV 5/5] END criterion=friedman_mse, max_depth=20, min_samples_leaf=1, min_samples_split=2;, score=-20625484399513.441 total time=   0.0s\n",
      "[CV 1/5] END criterion=friedman_mse, max_depth=20, min_samples_leaf=1, min_samples_split=10;, score=-17740902432259.668 total time=   0.0s\n",
      "[CV 2/5] END criterion=friedman_mse, max_depth=20, min_samples_leaf=1, min_samples_split=10;, score=-21167140592870.938 total time=   0.0s\n",
      "[CV 3/5] END criterion=friedman_mse, max_depth=20, min_samples_leaf=1, min_samples_split=10;, score=-19759027216565.238 total time=   0.0s\n",
      "[CV 4/5] END criterion=friedman_mse, max_depth=20, min_samples_leaf=1, min_samples_split=10;, score=-19609604743535.793 total time=   0.0s\n",
      "[CV 5/5] END criterion=friedman_mse, max_depth=20, min_samples_leaf=1, min_samples_split=10;, score=-20625484399513.441 total time=   0.0s\n",
      "[CV 1/5] END criterion=friedman_mse, max_depth=20, min_samples_leaf=5, min_samples_split=2;, score=-17740809056863.676 total time=   0.0s\n",
      "[CV 2/5] END criterion=friedman_mse, max_depth=20, min_samples_leaf=5, min_samples_split=2;, score=-21166214622071.770 total time=   0.0s\n",
      "[CV 3/5] END criterion=friedman_mse, max_depth=20, min_samples_leaf=5, min_samples_split=2;, score=-19757696069569.211 total time=   0.0s\n",
      "[CV 4/5] END criterion=friedman_mse, max_depth=20, min_samples_leaf=5, min_samples_split=2;, score=-19609604743535.793 total time=   0.0s\n",
      "[CV 5/5] END criterion=friedman_mse, max_depth=20, min_samples_leaf=5, min_samples_split=2;, score=-20624679547453.074 total time=   0.0s\n",
      "[CV 1/5] END criterion=friedman_mse, max_depth=20, min_samples_leaf=5, min_samples_split=10;, score=-17740809056863.676 total time=   0.0s\n",
      "[CV 2/5] END criterion=friedman_mse, max_depth=20, min_samples_leaf=5, min_samples_split=10;, score=-21166214622071.770 total time=   0.0s\n",
      "[CV 3/5] END criterion=friedman_mse, max_depth=20, min_samples_leaf=5, min_samples_split=10;, score=-19757696069569.211 total time=   0.0s\n",
      "[CV 4/5] END criterion=friedman_mse, max_depth=20, min_samples_leaf=5, min_samples_split=10;, score=-19609604743535.793 total time=   0.0s\n",
      "[CV 5/5] END criterion=friedman_mse, max_depth=20, min_samples_leaf=5, min_samples_split=10;, score=-20624679547453.074 total time=   0.0s\n",
      "[CV 1/5] END criterion=friedman_mse, max_depth=None, min_samples_leaf=1, min_samples_split=2;, score=-17740902432259.668 total time=   0.0s\n",
      "[CV 2/5] END criterion=friedman_mse, max_depth=None, min_samples_leaf=1, min_samples_split=2;, score=-21167140592870.938 total time=   0.0s\n",
      "[CV 3/5] END criterion=friedman_mse, max_depth=None, min_samples_leaf=1, min_samples_split=2;, score=-19759027216565.238 total time=   0.0s\n",
      "[CV 4/5] END criterion=friedman_mse, max_depth=None, min_samples_leaf=1, min_samples_split=2;, score=-19609604743535.793 total time=   0.0s\n",
      "[CV 5/5] END criterion=friedman_mse, max_depth=None, min_samples_leaf=1, min_samples_split=2;, score=-20625484399513.441 total time=   0.0s\n",
      "[CV 1/5] END criterion=friedman_mse, max_depth=None, min_samples_leaf=1, min_samples_split=10;, score=-17740902432259.668 total time=   0.0s\n",
      "[CV 2/5] END criterion=friedman_mse, max_depth=None, min_samples_leaf=1, min_samples_split=10;, score=-21167140592870.938 total time=   0.0s\n",
      "[CV 3/5] END criterion=friedman_mse, max_depth=None, min_samples_leaf=1, min_samples_split=10;, score=-19759027216565.238 total time=   0.0s\n",
      "[CV 4/5] END criterion=friedman_mse, max_depth=None, min_samples_leaf=1, min_samples_split=10;, score=-19609604743535.793 total time=   0.0s\n",
      "[CV 5/5] END criterion=friedman_mse, max_depth=None, min_samples_leaf=1, min_samples_split=10;, score=-20625484399513.441 total time=   0.0s\n",
      "[CV 1/5] END criterion=friedman_mse, max_depth=None, min_samples_leaf=5, min_samples_split=2;, score=-17740809056863.676 total time=   0.0s\n",
      "[CV 2/5] END criterion=friedman_mse, max_depth=None, min_samples_leaf=5, min_samples_split=2;, score=-21166214622071.770 total time=   0.0s\n",
      "[CV 3/5] END criterion=friedman_mse, max_depth=None, min_samples_leaf=5, min_samples_split=2;, score=-19757696069569.211 total time=   0.0s\n",
      "[CV 4/5] END criterion=friedman_mse, max_depth=None, min_samples_leaf=5, min_samples_split=2;, score=-19609604743535.793 total time=   0.0s\n",
      "[CV 5/5] END criterion=friedman_mse, max_depth=None, min_samples_leaf=5, min_samples_split=2;, score=-20624679547453.074 total time=   0.0s\n",
      "[CV 1/5] END criterion=friedman_mse, max_depth=None, min_samples_leaf=5, min_samples_split=10;, score=-17740809056863.676 total time=   0.0s\n",
      "[CV 2/5] END criterion=friedman_mse, max_depth=None, min_samples_leaf=5, min_samples_split=10;, score=-21166214622071.770 total time=   0.0s\n",
      "[CV 3/5] END criterion=friedman_mse, max_depth=None, min_samples_leaf=5, min_samples_split=10;, score=-19757696069569.211 total time=   0.0s\n",
      "[CV 4/5] END criterion=friedman_mse, max_depth=None, min_samples_leaf=5, min_samples_split=10;, score=-19609604743535.793 total time=   0.0s\n",
      "[CV 5/5] END criterion=friedman_mse, max_depth=None, min_samples_leaf=5, min_samples_split=10;, score=-20624679547453.074 total time=   0.0s\n"
     ]
    },
    {
     "data": {
      "text/html": [
       "<style>#sk-container-id-1 {\n",
       "  /* Definition of color scheme common for light and dark mode */\n",
       "  --sklearn-color-text: black;\n",
       "  --sklearn-color-line: gray;\n",
       "  /* Definition of color scheme for unfitted estimators */\n",
       "  --sklearn-color-unfitted-level-0: #fff5e6;\n",
       "  --sklearn-color-unfitted-level-1: #f6e4d2;\n",
       "  --sklearn-color-unfitted-level-2: #ffe0b3;\n",
       "  --sklearn-color-unfitted-level-3: chocolate;\n",
       "  /* Definition of color scheme for fitted estimators */\n",
       "  --sklearn-color-fitted-level-0: #f0f8ff;\n",
       "  --sklearn-color-fitted-level-1: #d4ebff;\n",
       "  --sklearn-color-fitted-level-2: #b3dbfd;\n",
       "  --sklearn-color-fitted-level-3: cornflowerblue;\n",
       "\n",
       "  /* Specific color for light theme */\n",
       "  --sklearn-color-text-on-default-background: var(--sg-text-color, var(--theme-code-foreground, var(--jp-content-font-color1, black)));\n",
       "  --sklearn-color-background: var(--sg-background-color, var(--theme-background, var(--jp-layout-color0, white)));\n",
       "  --sklearn-color-border-box: var(--sg-text-color, var(--theme-code-foreground, var(--jp-content-font-color1, black)));\n",
       "  --sklearn-color-icon: #696969;\n",
       "\n",
       "  @media (prefers-color-scheme: dark) {\n",
       "    /* Redefinition of color scheme for dark theme */\n",
       "    --sklearn-color-text-on-default-background: var(--sg-text-color, var(--theme-code-foreground, var(--jp-content-font-color1, white)));\n",
       "    --sklearn-color-background: var(--sg-background-color, var(--theme-background, var(--jp-layout-color0, #111)));\n",
       "    --sklearn-color-border-box: var(--sg-text-color, var(--theme-code-foreground, var(--jp-content-font-color1, white)));\n",
       "    --sklearn-color-icon: #878787;\n",
       "  }\n",
       "}\n",
       "\n",
       "#sk-container-id-1 {\n",
       "  color: var(--sklearn-color-text);\n",
       "}\n",
       "\n",
       "#sk-container-id-1 pre {\n",
       "  padding: 0;\n",
       "}\n",
       "\n",
       "#sk-container-id-1 input.sk-hidden--visually {\n",
       "  border: 0;\n",
       "  clip: rect(1px 1px 1px 1px);\n",
       "  clip: rect(1px, 1px, 1px, 1px);\n",
       "  height: 1px;\n",
       "  margin: -1px;\n",
       "  overflow: hidden;\n",
       "  padding: 0;\n",
       "  position: absolute;\n",
       "  width: 1px;\n",
       "}\n",
       "\n",
       "#sk-container-id-1 div.sk-dashed-wrapped {\n",
       "  border: 1px dashed var(--sklearn-color-line);\n",
       "  margin: 0 0.4em 0.5em 0.4em;\n",
       "  box-sizing: border-box;\n",
       "  padding-bottom: 0.4em;\n",
       "  background-color: var(--sklearn-color-background);\n",
       "}\n",
       "\n",
       "#sk-container-id-1 div.sk-container {\n",
       "  /* jupyter's `normalize.less` sets `[hidden] { display: none; }`\n",
       "     but bootstrap.min.css set `[hidden] { display: none !important; }`\n",
       "     so we also need the `!important` here to be able to override the\n",
       "     default hidden behavior on the sphinx rendered scikit-learn.org.\n",
       "     See: https://github.com/scikit-learn/scikit-learn/issues/21755 */\n",
       "  display: inline-block !important;\n",
       "  position: relative;\n",
       "}\n",
       "\n",
       "#sk-container-id-1 div.sk-text-repr-fallback {\n",
       "  display: none;\n",
       "}\n",
       "\n",
       "div.sk-parallel-item,\n",
       "div.sk-serial,\n",
       "div.sk-item {\n",
       "  /* draw centered vertical line to link estimators */\n",
       "  background-image: linear-gradient(var(--sklearn-color-text-on-default-background), var(--sklearn-color-text-on-default-background));\n",
       "  background-size: 2px 100%;\n",
       "  background-repeat: no-repeat;\n",
       "  background-position: center center;\n",
       "}\n",
       "\n",
       "/* Parallel-specific style estimator block */\n",
       "\n",
       "#sk-container-id-1 div.sk-parallel-item::after {\n",
       "  content: \"\";\n",
       "  width: 100%;\n",
       "  border-bottom: 2px solid var(--sklearn-color-text-on-default-background);\n",
       "  flex-grow: 1;\n",
       "}\n",
       "\n",
       "#sk-container-id-1 div.sk-parallel {\n",
       "  display: flex;\n",
       "  align-items: stretch;\n",
       "  justify-content: center;\n",
       "  background-color: var(--sklearn-color-background);\n",
       "  position: relative;\n",
       "}\n",
       "\n",
       "#sk-container-id-1 div.sk-parallel-item {\n",
       "  display: flex;\n",
       "  flex-direction: column;\n",
       "}\n",
       "\n",
       "#sk-container-id-1 div.sk-parallel-item:first-child::after {\n",
       "  align-self: flex-end;\n",
       "  width: 50%;\n",
       "}\n",
       "\n",
       "#sk-container-id-1 div.sk-parallel-item:last-child::after {\n",
       "  align-self: flex-start;\n",
       "  width: 50%;\n",
       "}\n",
       "\n",
       "#sk-container-id-1 div.sk-parallel-item:only-child::after {\n",
       "  width: 0;\n",
       "}\n",
       "\n",
       "/* Serial-specific style estimator block */\n",
       "\n",
       "#sk-container-id-1 div.sk-serial {\n",
       "  display: flex;\n",
       "  flex-direction: column;\n",
       "  align-items: center;\n",
       "  background-color: var(--sklearn-color-background);\n",
       "  padding-right: 1em;\n",
       "  padding-left: 1em;\n",
       "}\n",
       "\n",
       "\n",
       "/* Toggleable style: style used for estimator/Pipeline/ColumnTransformer box that is\n",
       "clickable and can be expanded/collapsed.\n",
       "- Pipeline and ColumnTransformer use this feature and define the default style\n",
       "- Estimators will overwrite some part of the style using the `sk-estimator` class\n",
       "*/\n",
       "\n",
       "/* Pipeline and ColumnTransformer style (default) */\n",
       "\n",
       "#sk-container-id-1 div.sk-toggleable {\n",
       "  /* Default theme specific background. It is overwritten whether we have a\n",
       "  specific estimator or a Pipeline/ColumnTransformer */\n",
       "  background-color: var(--sklearn-color-background);\n",
       "}\n",
       "\n",
       "/* Toggleable label */\n",
       "#sk-container-id-1 label.sk-toggleable__label {\n",
       "  cursor: pointer;\n",
       "  display: block;\n",
       "  width: 100%;\n",
       "  margin-bottom: 0;\n",
       "  padding: 0.5em;\n",
       "  box-sizing: border-box;\n",
       "  text-align: center;\n",
       "}\n",
       "\n",
       "#sk-container-id-1 label.sk-toggleable__label-arrow:before {\n",
       "  /* Arrow on the left of the label */\n",
       "  content: \"▸\";\n",
       "  float: left;\n",
       "  margin-right: 0.25em;\n",
       "  color: var(--sklearn-color-icon);\n",
       "}\n",
       "\n",
       "#sk-container-id-1 label.sk-toggleable__label-arrow:hover:before {\n",
       "  color: var(--sklearn-color-text);\n",
       "}\n",
       "\n",
       "/* Toggleable content - dropdown */\n",
       "\n",
       "#sk-container-id-1 div.sk-toggleable__content {\n",
       "  max-height: 0;\n",
       "  max-width: 0;\n",
       "  overflow: hidden;\n",
       "  text-align: left;\n",
       "  /* unfitted */\n",
       "  background-color: var(--sklearn-color-unfitted-level-0);\n",
       "}\n",
       "\n",
       "#sk-container-id-1 div.sk-toggleable__content.fitted {\n",
       "  /* fitted */\n",
       "  background-color: var(--sklearn-color-fitted-level-0);\n",
       "}\n",
       "\n",
       "#sk-container-id-1 div.sk-toggleable__content pre {\n",
       "  margin: 0.2em;\n",
       "  border-radius: 0.25em;\n",
       "  color: var(--sklearn-color-text);\n",
       "  /* unfitted */\n",
       "  background-color: var(--sklearn-color-unfitted-level-0);\n",
       "}\n",
       "\n",
       "#sk-container-id-1 div.sk-toggleable__content.fitted pre {\n",
       "  /* unfitted */\n",
       "  background-color: var(--sklearn-color-fitted-level-0);\n",
       "}\n",
       "\n",
       "#sk-container-id-1 input.sk-toggleable__control:checked~div.sk-toggleable__content {\n",
       "  /* Expand drop-down */\n",
       "  max-height: 200px;\n",
       "  max-width: 100%;\n",
       "  overflow: auto;\n",
       "}\n",
       "\n",
       "#sk-container-id-1 input.sk-toggleable__control:checked~label.sk-toggleable__label-arrow:before {\n",
       "  content: \"▾\";\n",
       "}\n",
       "\n",
       "/* Pipeline/ColumnTransformer-specific style */\n",
       "\n",
       "#sk-container-id-1 div.sk-label input.sk-toggleable__control:checked~label.sk-toggleable__label {\n",
       "  color: var(--sklearn-color-text);\n",
       "  background-color: var(--sklearn-color-unfitted-level-2);\n",
       "}\n",
       "\n",
       "#sk-container-id-1 div.sk-label.fitted input.sk-toggleable__control:checked~label.sk-toggleable__label {\n",
       "  background-color: var(--sklearn-color-fitted-level-2);\n",
       "}\n",
       "\n",
       "/* Estimator-specific style */\n",
       "\n",
       "/* Colorize estimator box */\n",
       "#sk-container-id-1 div.sk-estimator input.sk-toggleable__control:checked~label.sk-toggleable__label {\n",
       "  /* unfitted */\n",
       "  background-color: var(--sklearn-color-unfitted-level-2);\n",
       "}\n",
       "\n",
       "#sk-container-id-1 div.sk-estimator.fitted input.sk-toggleable__control:checked~label.sk-toggleable__label {\n",
       "  /* fitted */\n",
       "  background-color: var(--sklearn-color-fitted-level-2);\n",
       "}\n",
       "\n",
       "#sk-container-id-1 div.sk-label label.sk-toggleable__label,\n",
       "#sk-container-id-1 div.sk-label label {\n",
       "  /* The background is the default theme color */\n",
       "  color: var(--sklearn-color-text-on-default-background);\n",
       "}\n",
       "\n",
       "/* On hover, darken the color of the background */\n",
       "#sk-container-id-1 div.sk-label:hover label.sk-toggleable__label {\n",
       "  color: var(--sklearn-color-text);\n",
       "  background-color: var(--sklearn-color-unfitted-level-2);\n",
       "}\n",
       "\n",
       "/* Label box, darken color on hover, fitted */\n",
       "#sk-container-id-1 div.sk-label.fitted:hover label.sk-toggleable__label.fitted {\n",
       "  color: var(--sklearn-color-text);\n",
       "  background-color: var(--sklearn-color-fitted-level-2);\n",
       "}\n",
       "\n",
       "/* Estimator label */\n",
       "\n",
       "#sk-container-id-1 div.sk-label label {\n",
       "  font-family: monospace;\n",
       "  font-weight: bold;\n",
       "  display: inline-block;\n",
       "  line-height: 1.2em;\n",
       "}\n",
       "\n",
       "#sk-container-id-1 div.sk-label-container {\n",
       "  text-align: center;\n",
       "}\n",
       "\n",
       "/* Estimator-specific */\n",
       "#sk-container-id-1 div.sk-estimator {\n",
       "  font-family: monospace;\n",
       "  border: 1px dotted var(--sklearn-color-border-box);\n",
       "  border-radius: 0.25em;\n",
       "  box-sizing: border-box;\n",
       "  margin-bottom: 0.5em;\n",
       "  /* unfitted */\n",
       "  background-color: var(--sklearn-color-unfitted-level-0);\n",
       "}\n",
       "\n",
       "#sk-container-id-1 div.sk-estimator.fitted {\n",
       "  /* fitted */\n",
       "  background-color: var(--sklearn-color-fitted-level-0);\n",
       "}\n",
       "\n",
       "/* on hover */\n",
       "#sk-container-id-1 div.sk-estimator:hover {\n",
       "  /* unfitted */\n",
       "  background-color: var(--sklearn-color-unfitted-level-2);\n",
       "}\n",
       "\n",
       "#sk-container-id-1 div.sk-estimator.fitted:hover {\n",
       "  /* fitted */\n",
       "  background-color: var(--sklearn-color-fitted-level-2);\n",
       "}\n",
       "\n",
       "/* Specification for estimator info (e.g. \"i\" and \"?\") */\n",
       "\n",
       "/* Common style for \"i\" and \"?\" */\n",
       "\n",
       ".sk-estimator-doc-link,\n",
       "a:link.sk-estimator-doc-link,\n",
       "a:visited.sk-estimator-doc-link {\n",
       "  float: right;\n",
       "  font-size: smaller;\n",
       "  line-height: 1em;\n",
       "  font-family: monospace;\n",
       "  background-color: var(--sklearn-color-background);\n",
       "  border-radius: 1em;\n",
       "  height: 1em;\n",
       "  width: 1em;\n",
       "  text-decoration: none !important;\n",
       "  margin-left: 1ex;\n",
       "  /* unfitted */\n",
       "  border: var(--sklearn-color-unfitted-level-1) 1pt solid;\n",
       "  color: var(--sklearn-color-unfitted-level-1);\n",
       "}\n",
       "\n",
       ".sk-estimator-doc-link.fitted,\n",
       "a:link.sk-estimator-doc-link.fitted,\n",
       "a:visited.sk-estimator-doc-link.fitted {\n",
       "  /* fitted */\n",
       "  border: var(--sklearn-color-fitted-level-1) 1pt solid;\n",
       "  color: var(--sklearn-color-fitted-level-1);\n",
       "}\n",
       "\n",
       "/* On hover */\n",
       "div.sk-estimator:hover .sk-estimator-doc-link:hover,\n",
       ".sk-estimator-doc-link:hover,\n",
       "div.sk-label-container:hover .sk-estimator-doc-link:hover,\n",
       ".sk-estimator-doc-link:hover {\n",
       "  /* unfitted */\n",
       "  background-color: var(--sklearn-color-unfitted-level-3);\n",
       "  color: var(--sklearn-color-background);\n",
       "  text-decoration: none;\n",
       "}\n",
       "\n",
       "div.sk-estimator.fitted:hover .sk-estimator-doc-link.fitted:hover,\n",
       ".sk-estimator-doc-link.fitted:hover,\n",
       "div.sk-label-container:hover .sk-estimator-doc-link.fitted:hover,\n",
       ".sk-estimator-doc-link.fitted:hover {\n",
       "  /* fitted */\n",
       "  background-color: var(--sklearn-color-fitted-level-3);\n",
       "  color: var(--sklearn-color-background);\n",
       "  text-decoration: none;\n",
       "}\n",
       "\n",
       "/* Span, style for the box shown on hovering the info icon */\n",
       ".sk-estimator-doc-link span {\n",
       "  display: none;\n",
       "  z-index: 9999;\n",
       "  position: relative;\n",
       "  font-weight: normal;\n",
       "  right: .2ex;\n",
       "  padding: .5ex;\n",
       "  margin: .5ex;\n",
       "  width: min-content;\n",
       "  min-width: 20ex;\n",
       "  max-width: 50ex;\n",
       "  color: var(--sklearn-color-text);\n",
       "  box-shadow: 2pt 2pt 4pt #999;\n",
       "  /* unfitted */\n",
       "  background: var(--sklearn-color-unfitted-level-0);\n",
       "  border: .5pt solid var(--sklearn-color-unfitted-level-3);\n",
       "}\n",
       "\n",
       ".sk-estimator-doc-link.fitted span {\n",
       "  /* fitted */\n",
       "  background: var(--sklearn-color-fitted-level-0);\n",
       "  border: var(--sklearn-color-fitted-level-3);\n",
       "}\n",
       "\n",
       ".sk-estimator-doc-link:hover span {\n",
       "  display: block;\n",
       "}\n",
       "\n",
       "/* \"?\"-specific style due to the `<a>` HTML tag */\n",
       "\n",
       "#sk-container-id-1 a.estimator_doc_link {\n",
       "  float: right;\n",
       "  font-size: 1rem;\n",
       "  line-height: 1em;\n",
       "  font-family: monospace;\n",
       "  background-color: var(--sklearn-color-background);\n",
       "  border-radius: 1rem;\n",
       "  height: 1rem;\n",
       "  width: 1rem;\n",
       "  text-decoration: none;\n",
       "  /* unfitted */\n",
       "  color: var(--sklearn-color-unfitted-level-1);\n",
       "  border: var(--sklearn-color-unfitted-level-1) 1pt solid;\n",
       "}\n",
       "\n",
       "#sk-container-id-1 a.estimator_doc_link.fitted {\n",
       "  /* fitted */\n",
       "  border: var(--sklearn-color-fitted-level-1) 1pt solid;\n",
       "  color: var(--sklearn-color-fitted-level-1);\n",
       "}\n",
       "\n",
       "/* On hover */\n",
       "#sk-container-id-1 a.estimator_doc_link:hover {\n",
       "  /* unfitted */\n",
       "  background-color: var(--sklearn-color-unfitted-level-3);\n",
       "  color: var(--sklearn-color-background);\n",
       "  text-decoration: none;\n",
       "}\n",
       "\n",
       "#sk-container-id-1 a.estimator_doc_link.fitted:hover {\n",
       "  /* fitted */\n",
       "  background-color: var(--sklearn-color-fitted-level-3);\n",
       "}\n",
       "</style><div id=\"sk-container-id-1\" class=\"sk-top-container\"><div class=\"sk-text-repr-fallback\"><pre>GridSearchCV(estimator=DecisionTreeRegressor(),\n",
       "             param_grid={&#x27;criterion&#x27;: [&#x27;squared_error&#x27;, &#x27;friedman_mse&#x27;],\n",
       "                         &#x27;max_depth&#x27;: [10, 20, None],\n",
       "                         &#x27;min_samples_leaf&#x27;: [1, 5],\n",
       "                         &#x27;min_samples_split&#x27;: [2, 10]},\n",
       "             scoring=&#x27;neg_mean_squared_error&#x27;, verbose=3)</pre><b>In a Jupyter environment, please rerun this cell to show the HTML representation or trust the notebook. <br />On GitHub, the HTML representation is unable to render, please try loading this page with nbviewer.org.</b></div><div class=\"sk-container\" hidden><div class=\"sk-item sk-dashed-wrapped\"><div class=\"sk-label-container\"><div class=\"sk-label fitted sk-toggleable\"><input class=\"sk-toggleable__control sk-hidden--visually\" id=\"sk-estimator-id-1\" type=\"checkbox\" ><label for=\"sk-estimator-id-1\" class=\"sk-toggleable__label fitted sk-toggleable__label-arrow fitted\">&nbsp;&nbsp;GridSearchCV<a class=\"sk-estimator-doc-link fitted\" rel=\"noreferrer\" target=\"_blank\" href=\"https://scikit-learn.org/1.5/modules/generated/sklearn.model_selection.GridSearchCV.html\">?<span>Documentation for GridSearchCV</span></a><span class=\"sk-estimator-doc-link fitted\">i<span>Fitted</span></span></label><div class=\"sk-toggleable__content fitted\"><pre>GridSearchCV(estimator=DecisionTreeRegressor(),\n",
       "             param_grid={&#x27;criterion&#x27;: [&#x27;squared_error&#x27;, &#x27;friedman_mse&#x27;],\n",
       "                         &#x27;max_depth&#x27;: [10, 20, None],\n",
       "                         &#x27;min_samples_leaf&#x27;: [1, 5],\n",
       "                         &#x27;min_samples_split&#x27;: [2, 10]},\n",
       "             scoring=&#x27;neg_mean_squared_error&#x27;, verbose=3)</pre></div> </div></div><div class=\"sk-parallel\"><div class=\"sk-parallel-item\"><div class=\"sk-item\"><div class=\"sk-label-container\"><div class=\"sk-label fitted sk-toggleable\"><input class=\"sk-toggleable__control sk-hidden--visually\" id=\"sk-estimator-id-2\" type=\"checkbox\" ><label for=\"sk-estimator-id-2\" class=\"sk-toggleable__label fitted sk-toggleable__label-arrow fitted\">best_estimator_: DecisionTreeRegressor</label><div class=\"sk-toggleable__content fitted\"><pre>DecisionTreeRegressor(max_depth=10, min_samples_leaf=5)</pre></div> </div></div><div class=\"sk-serial\"><div class=\"sk-item\"><div class=\"sk-estimator fitted sk-toggleable\"><input class=\"sk-toggleable__control sk-hidden--visually\" id=\"sk-estimator-id-3\" type=\"checkbox\" ><label for=\"sk-estimator-id-3\" class=\"sk-toggleable__label fitted sk-toggleable__label-arrow fitted\">&nbsp;DecisionTreeRegressor<a class=\"sk-estimator-doc-link fitted\" rel=\"noreferrer\" target=\"_blank\" href=\"https://scikit-learn.org/1.5/modules/generated/sklearn.tree.DecisionTreeRegressor.html\">?<span>Documentation for DecisionTreeRegressor</span></a></label><div class=\"sk-toggleable__content fitted\"><pre>DecisionTreeRegressor(max_depth=10, min_samples_leaf=5)</pre></div> </div></div></div></div></div></div></div></div></div>"
      ],
      "text/plain": [
       "GridSearchCV(estimator=DecisionTreeRegressor(),\n",
       "             param_grid={'criterion': ['squared_error', 'friedman_mse'],\n",
       "                         'max_depth': [10, 20, None],\n",
       "                         'min_samples_leaf': [1, 5],\n",
       "                         'min_samples_split': [2, 10]},\n",
       "             scoring='neg_mean_squared_error', verbose=3)"
      ]
     },
     "execution_count": 13,
     "metadata": {},
     "output_type": "execute_result"
    }
   ],
   "source": [
    "tree_grid_search = GridSearchCV(DecisionTreeRegressor(), param_grid, verbose=3, scoring='neg_mean_squared_error')\n",
    "\n",
    "tree_grid_search.fit(Salary_Stats, Salary)"
   ]
  },
  {
   "cell_type": "code",
   "execution_count": 14,
   "id": "c71cbafc-6997-4d52-a154-fcfb0cfef183",
   "metadata": {},
   "outputs": [
    {
     "data": {
      "text/plain": [
       "np.float64(-19758817123434.168)"
      ]
     },
     "execution_count": 14,
     "metadata": {},
     "output_type": "execute_result"
    }
   ],
   "source": [
    "tree_grid_search.best_score_"
   ]
  },
  {
   "cell_type": "code",
   "execution_count": 16,
   "id": "416d814c-cfaa-4b90-b1d8-32263386fe47",
   "metadata": {},
   "outputs": [
    {
     "data": {
      "text/plain": [
       "{'criterion': 'squared_error',\n",
       " 'max_depth': 10,\n",
       " 'min_samples_leaf': 5,\n",
       " 'min_samples_split': 2}"
      ]
     },
     "execution_count": 16,
     "metadata": {},
     "output_type": "execute_result"
    }
   ],
   "source": [
    "tree_grid_search.best_params_"
   ]
  },
  {
   "cell_type": "code",
   "execution_count": 18,
   "id": "15dd0c4d-9c70-402d-86d3-965291b0636b",
   "metadata": {},
   "outputs": [
    {
     "data": {
      "text/html": [
       "<style>#sk-container-id-2 {\n",
       "  /* Definition of color scheme common for light and dark mode */\n",
       "  --sklearn-color-text: black;\n",
       "  --sklearn-color-line: gray;\n",
       "  /* Definition of color scheme for unfitted estimators */\n",
       "  --sklearn-color-unfitted-level-0: #fff5e6;\n",
       "  --sklearn-color-unfitted-level-1: #f6e4d2;\n",
       "  --sklearn-color-unfitted-level-2: #ffe0b3;\n",
       "  --sklearn-color-unfitted-level-3: chocolate;\n",
       "  /* Definition of color scheme for fitted estimators */\n",
       "  --sklearn-color-fitted-level-0: #f0f8ff;\n",
       "  --sklearn-color-fitted-level-1: #d4ebff;\n",
       "  --sklearn-color-fitted-level-2: #b3dbfd;\n",
       "  --sklearn-color-fitted-level-3: cornflowerblue;\n",
       "\n",
       "  /* Specific color for light theme */\n",
       "  --sklearn-color-text-on-default-background: var(--sg-text-color, var(--theme-code-foreground, var(--jp-content-font-color1, black)));\n",
       "  --sklearn-color-background: var(--sg-background-color, var(--theme-background, var(--jp-layout-color0, white)));\n",
       "  --sklearn-color-border-box: var(--sg-text-color, var(--theme-code-foreground, var(--jp-content-font-color1, black)));\n",
       "  --sklearn-color-icon: #696969;\n",
       "\n",
       "  @media (prefers-color-scheme: dark) {\n",
       "    /* Redefinition of color scheme for dark theme */\n",
       "    --sklearn-color-text-on-default-background: var(--sg-text-color, var(--theme-code-foreground, var(--jp-content-font-color1, white)));\n",
       "    --sklearn-color-background: var(--sg-background-color, var(--theme-background, var(--jp-layout-color0, #111)));\n",
       "    --sklearn-color-border-box: var(--sg-text-color, var(--theme-code-foreground, var(--jp-content-font-color1, white)));\n",
       "    --sklearn-color-icon: #878787;\n",
       "  }\n",
       "}\n",
       "\n",
       "#sk-container-id-2 {\n",
       "  color: var(--sklearn-color-text);\n",
       "}\n",
       "\n",
       "#sk-container-id-2 pre {\n",
       "  padding: 0;\n",
       "}\n",
       "\n",
       "#sk-container-id-2 input.sk-hidden--visually {\n",
       "  border: 0;\n",
       "  clip: rect(1px 1px 1px 1px);\n",
       "  clip: rect(1px, 1px, 1px, 1px);\n",
       "  height: 1px;\n",
       "  margin: -1px;\n",
       "  overflow: hidden;\n",
       "  padding: 0;\n",
       "  position: absolute;\n",
       "  width: 1px;\n",
       "}\n",
       "\n",
       "#sk-container-id-2 div.sk-dashed-wrapped {\n",
       "  border: 1px dashed var(--sklearn-color-line);\n",
       "  margin: 0 0.4em 0.5em 0.4em;\n",
       "  box-sizing: border-box;\n",
       "  padding-bottom: 0.4em;\n",
       "  background-color: var(--sklearn-color-background);\n",
       "}\n",
       "\n",
       "#sk-container-id-2 div.sk-container {\n",
       "  /* jupyter's `normalize.less` sets `[hidden] { display: none; }`\n",
       "     but bootstrap.min.css set `[hidden] { display: none !important; }`\n",
       "     so we also need the `!important` here to be able to override the\n",
       "     default hidden behavior on the sphinx rendered scikit-learn.org.\n",
       "     See: https://github.com/scikit-learn/scikit-learn/issues/21755 */\n",
       "  display: inline-block !important;\n",
       "  position: relative;\n",
       "}\n",
       "\n",
       "#sk-container-id-2 div.sk-text-repr-fallback {\n",
       "  display: none;\n",
       "}\n",
       "\n",
       "div.sk-parallel-item,\n",
       "div.sk-serial,\n",
       "div.sk-item {\n",
       "  /* draw centered vertical line to link estimators */\n",
       "  background-image: linear-gradient(var(--sklearn-color-text-on-default-background), var(--sklearn-color-text-on-default-background));\n",
       "  background-size: 2px 100%;\n",
       "  background-repeat: no-repeat;\n",
       "  background-position: center center;\n",
       "}\n",
       "\n",
       "/* Parallel-specific style estimator block */\n",
       "\n",
       "#sk-container-id-2 div.sk-parallel-item::after {\n",
       "  content: \"\";\n",
       "  width: 100%;\n",
       "  border-bottom: 2px solid var(--sklearn-color-text-on-default-background);\n",
       "  flex-grow: 1;\n",
       "}\n",
       "\n",
       "#sk-container-id-2 div.sk-parallel {\n",
       "  display: flex;\n",
       "  align-items: stretch;\n",
       "  justify-content: center;\n",
       "  background-color: var(--sklearn-color-background);\n",
       "  position: relative;\n",
       "}\n",
       "\n",
       "#sk-container-id-2 div.sk-parallel-item {\n",
       "  display: flex;\n",
       "  flex-direction: column;\n",
       "}\n",
       "\n",
       "#sk-container-id-2 div.sk-parallel-item:first-child::after {\n",
       "  align-self: flex-end;\n",
       "  width: 50%;\n",
       "}\n",
       "\n",
       "#sk-container-id-2 div.sk-parallel-item:last-child::after {\n",
       "  align-self: flex-start;\n",
       "  width: 50%;\n",
       "}\n",
       "\n",
       "#sk-container-id-2 div.sk-parallel-item:only-child::after {\n",
       "  width: 0;\n",
       "}\n",
       "\n",
       "/* Serial-specific style estimator block */\n",
       "\n",
       "#sk-container-id-2 div.sk-serial {\n",
       "  display: flex;\n",
       "  flex-direction: column;\n",
       "  align-items: center;\n",
       "  background-color: var(--sklearn-color-background);\n",
       "  padding-right: 1em;\n",
       "  padding-left: 1em;\n",
       "}\n",
       "\n",
       "\n",
       "/* Toggleable style: style used for estimator/Pipeline/ColumnTransformer box that is\n",
       "clickable and can be expanded/collapsed.\n",
       "- Pipeline and ColumnTransformer use this feature and define the default style\n",
       "- Estimators will overwrite some part of the style using the `sk-estimator` class\n",
       "*/\n",
       "\n",
       "/* Pipeline and ColumnTransformer style (default) */\n",
       "\n",
       "#sk-container-id-2 div.sk-toggleable {\n",
       "  /* Default theme specific background. It is overwritten whether we have a\n",
       "  specific estimator or a Pipeline/ColumnTransformer */\n",
       "  background-color: var(--sklearn-color-background);\n",
       "}\n",
       "\n",
       "/* Toggleable label */\n",
       "#sk-container-id-2 label.sk-toggleable__label {\n",
       "  cursor: pointer;\n",
       "  display: block;\n",
       "  width: 100%;\n",
       "  margin-bottom: 0;\n",
       "  padding: 0.5em;\n",
       "  box-sizing: border-box;\n",
       "  text-align: center;\n",
       "}\n",
       "\n",
       "#sk-container-id-2 label.sk-toggleable__label-arrow:before {\n",
       "  /* Arrow on the left of the label */\n",
       "  content: \"▸\";\n",
       "  float: left;\n",
       "  margin-right: 0.25em;\n",
       "  color: var(--sklearn-color-icon);\n",
       "}\n",
       "\n",
       "#sk-container-id-2 label.sk-toggleable__label-arrow:hover:before {\n",
       "  color: var(--sklearn-color-text);\n",
       "}\n",
       "\n",
       "/* Toggleable content - dropdown */\n",
       "\n",
       "#sk-container-id-2 div.sk-toggleable__content {\n",
       "  max-height: 0;\n",
       "  max-width: 0;\n",
       "  overflow: hidden;\n",
       "  text-align: left;\n",
       "  /* unfitted */\n",
       "  background-color: var(--sklearn-color-unfitted-level-0);\n",
       "}\n",
       "\n",
       "#sk-container-id-2 div.sk-toggleable__content.fitted {\n",
       "  /* fitted */\n",
       "  background-color: var(--sklearn-color-fitted-level-0);\n",
       "}\n",
       "\n",
       "#sk-container-id-2 div.sk-toggleable__content pre {\n",
       "  margin: 0.2em;\n",
       "  border-radius: 0.25em;\n",
       "  color: var(--sklearn-color-text);\n",
       "  /* unfitted */\n",
       "  background-color: var(--sklearn-color-unfitted-level-0);\n",
       "}\n",
       "\n",
       "#sk-container-id-2 div.sk-toggleable__content.fitted pre {\n",
       "  /* unfitted */\n",
       "  background-color: var(--sklearn-color-fitted-level-0);\n",
       "}\n",
       "\n",
       "#sk-container-id-2 input.sk-toggleable__control:checked~div.sk-toggleable__content {\n",
       "  /* Expand drop-down */\n",
       "  max-height: 200px;\n",
       "  max-width: 100%;\n",
       "  overflow: auto;\n",
       "}\n",
       "\n",
       "#sk-container-id-2 input.sk-toggleable__control:checked~label.sk-toggleable__label-arrow:before {\n",
       "  content: \"▾\";\n",
       "}\n",
       "\n",
       "/* Pipeline/ColumnTransformer-specific style */\n",
       "\n",
       "#sk-container-id-2 div.sk-label input.sk-toggleable__control:checked~label.sk-toggleable__label {\n",
       "  color: var(--sklearn-color-text);\n",
       "  background-color: var(--sklearn-color-unfitted-level-2);\n",
       "}\n",
       "\n",
       "#sk-container-id-2 div.sk-label.fitted input.sk-toggleable__control:checked~label.sk-toggleable__label {\n",
       "  background-color: var(--sklearn-color-fitted-level-2);\n",
       "}\n",
       "\n",
       "/* Estimator-specific style */\n",
       "\n",
       "/* Colorize estimator box */\n",
       "#sk-container-id-2 div.sk-estimator input.sk-toggleable__control:checked~label.sk-toggleable__label {\n",
       "  /* unfitted */\n",
       "  background-color: var(--sklearn-color-unfitted-level-2);\n",
       "}\n",
       "\n",
       "#sk-container-id-2 div.sk-estimator.fitted input.sk-toggleable__control:checked~label.sk-toggleable__label {\n",
       "  /* fitted */\n",
       "  background-color: var(--sklearn-color-fitted-level-2);\n",
       "}\n",
       "\n",
       "#sk-container-id-2 div.sk-label label.sk-toggleable__label,\n",
       "#sk-container-id-2 div.sk-label label {\n",
       "  /* The background is the default theme color */\n",
       "  color: var(--sklearn-color-text-on-default-background);\n",
       "}\n",
       "\n",
       "/* On hover, darken the color of the background */\n",
       "#sk-container-id-2 div.sk-label:hover label.sk-toggleable__label {\n",
       "  color: var(--sklearn-color-text);\n",
       "  background-color: var(--sklearn-color-unfitted-level-2);\n",
       "}\n",
       "\n",
       "/* Label box, darken color on hover, fitted */\n",
       "#sk-container-id-2 div.sk-label.fitted:hover label.sk-toggleable__label.fitted {\n",
       "  color: var(--sklearn-color-text);\n",
       "  background-color: var(--sklearn-color-fitted-level-2);\n",
       "}\n",
       "\n",
       "/* Estimator label */\n",
       "\n",
       "#sk-container-id-2 div.sk-label label {\n",
       "  font-family: monospace;\n",
       "  font-weight: bold;\n",
       "  display: inline-block;\n",
       "  line-height: 1.2em;\n",
       "}\n",
       "\n",
       "#sk-container-id-2 div.sk-label-container {\n",
       "  text-align: center;\n",
       "}\n",
       "\n",
       "/* Estimator-specific */\n",
       "#sk-container-id-2 div.sk-estimator {\n",
       "  font-family: monospace;\n",
       "  border: 1px dotted var(--sklearn-color-border-box);\n",
       "  border-radius: 0.25em;\n",
       "  box-sizing: border-box;\n",
       "  margin-bottom: 0.5em;\n",
       "  /* unfitted */\n",
       "  background-color: var(--sklearn-color-unfitted-level-0);\n",
       "}\n",
       "\n",
       "#sk-container-id-2 div.sk-estimator.fitted {\n",
       "  /* fitted */\n",
       "  background-color: var(--sklearn-color-fitted-level-0);\n",
       "}\n",
       "\n",
       "/* on hover */\n",
       "#sk-container-id-2 div.sk-estimator:hover {\n",
       "  /* unfitted */\n",
       "  background-color: var(--sklearn-color-unfitted-level-2);\n",
       "}\n",
       "\n",
       "#sk-container-id-2 div.sk-estimator.fitted:hover {\n",
       "  /* fitted */\n",
       "  background-color: var(--sklearn-color-fitted-level-2);\n",
       "}\n",
       "\n",
       "/* Specification for estimator info (e.g. \"i\" and \"?\") */\n",
       "\n",
       "/* Common style for \"i\" and \"?\" */\n",
       "\n",
       ".sk-estimator-doc-link,\n",
       "a:link.sk-estimator-doc-link,\n",
       "a:visited.sk-estimator-doc-link {\n",
       "  float: right;\n",
       "  font-size: smaller;\n",
       "  line-height: 1em;\n",
       "  font-family: monospace;\n",
       "  background-color: var(--sklearn-color-background);\n",
       "  border-radius: 1em;\n",
       "  height: 1em;\n",
       "  width: 1em;\n",
       "  text-decoration: none !important;\n",
       "  margin-left: 1ex;\n",
       "  /* unfitted */\n",
       "  border: var(--sklearn-color-unfitted-level-1) 1pt solid;\n",
       "  color: var(--sklearn-color-unfitted-level-1);\n",
       "}\n",
       "\n",
       ".sk-estimator-doc-link.fitted,\n",
       "a:link.sk-estimator-doc-link.fitted,\n",
       "a:visited.sk-estimator-doc-link.fitted {\n",
       "  /* fitted */\n",
       "  border: var(--sklearn-color-fitted-level-1) 1pt solid;\n",
       "  color: var(--sklearn-color-fitted-level-1);\n",
       "}\n",
       "\n",
       "/* On hover */\n",
       "div.sk-estimator:hover .sk-estimator-doc-link:hover,\n",
       ".sk-estimator-doc-link:hover,\n",
       "div.sk-label-container:hover .sk-estimator-doc-link:hover,\n",
       ".sk-estimator-doc-link:hover {\n",
       "  /* unfitted */\n",
       "  background-color: var(--sklearn-color-unfitted-level-3);\n",
       "  color: var(--sklearn-color-background);\n",
       "  text-decoration: none;\n",
       "}\n",
       "\n",
       "div.sk-estimator.fitted:hover .sk-estimator-doc-link.fitted:hover,\n",
       ".sk-estimator-doc-link.fitted:hover,\n",
       "div.sk-label-container:hover .sk-estimator-doc-link.fitted:hover,\n",
       ".sk-estimator-doc-link.fitted:hover {\n",
       "  /* fitted */\n",
       "  background-color: var(--sklearn-color-fitted-level-3);\n",
       "  color: var(--sklearn-color-background);\n",
       "  text-decoration: none;\n",
       "}\n",
       "\n",
       "/* Span, style for the box shown on hovering the info icon */\n",
       ".sk-estimator-doc-link span {\n",
       "  display: none;\n",
       "  z-index: 9999;\n",
       "  position: relative;\n",
       "  font-weight: normal;\n",
       "  right: .2ex;\n",
       "  padding: .5ex;\n",
       "  margin: .5ex;\n",
       "  width: min-content;\n",
       "  min-width: 20ex;\n",
       "  max-width: 50ex;\n",
       "  color: var(--sklearn-color-text);\n",
       "  box-shadow: 2pt 2pt 4pt #999;\n",
       "  /* unfitted */\n",
       "  background: var(--sklearn-color-unfitted-level-0);\n",
       "  border: .5pt solid var(--sklearn-color-unfitted-level-3);\n",
       "}\n",
       "\n",
       ".sk-estimator-doc-link.fitted span {\n",
       "  /* fitted */\n",
       "  background: var(--sklearn-color-fitted-level-0);\n",
       "  border: var(--sklearn-color-fitted-level-3);\n",
       "}\n",
       "\n",
       ".sk-estimator-doc-link:hover span {\n",
       "  display: block;\n",
       "}\n",
       "\n",
       "/* \"?\"-specific style due to the `<a>` HTML tag */\n",
       "\n",
       "#sk-container-id-2 a.estimator_doc_link {\n",
       "  float: right;\n",
       "  font-size: 1rem;\n",
       "  line-height: 1em;\n",
       "  font-family: monospace;\n",
       "  background-color: var(--sklearn-color-background);\n",
       "  border-radius: 1rem;\n",
       "  height: 1rem;\n",
       "  width: 1rem;\n",
       "  text-decoration: none;\n",
       "  /* unfitted */\n",
       "  color: var(--sklearn-color-unfitted-level-1);\n",
       "  border: var(--sklearn-color-unfitted-level-1) 1pt solid;\n",
       "}\n",
       "\n",
       "#sk-container-id-2 a.estimator_doc_link.fitted {\n",
       "  /* fitted */\n",
       "  border: var(--sklearn-color-fitted-level-1) 1pt solid;\n",
       "  color: var(--sklearn-color-fitted-level-1);\n",
       "}\n",
       "\n",
       "/* On hover */\n",
       "#sk-container-id-2 a.estimator_doc_link:hover {\n",
       "  /* unfitted */\n",
       "  background-color: var(--sklearn-color-unfitted-level-3);\n",
       "  color: var(--sklearn-color-background);\n",
       "  text-decoration: none;\n",
       "}\n",
       "\n",
       "#sk-container-id-2 a.estimator_doc_link.fitted:hover {\n",
       "  /* fitted */\n",
       "  background-color: var(--sklearn-color-fitted-level-3);\n",
       "}\n",
       "</style><div id=\"sk-container-id-2\" class=\"sk-top-container\"><div class=\"sk-text-repr-fallback\"><pre>DecisionTreeRegressor(max_depth=10, min_samples_leaf=5)</pre><b>In a Jupyter environment, please rerun this cell to show the HTML representation or trust the notebook. <br />On GitHub, the HTML representation is unable to render, please try loading this page with nbviewer.org.</b></div><div class=\"sk-container\" hidden><div class=\"sk-item\"><div class=\"sk-estimator fitted sk-toggleable\"><input class=\"sk-toggleable__control sk-hidden--visually\" id=\"sk-estimator-id-4\" type=\"checkbox\" checked><label for=\"sk-estimator-id-4\" class=\"sk-toggleable__label fitted sk-toggleable__label-arrow fitted\">&nbsp;&nbsp;DecisionTreeRegressor<a class=\"sk-estimator-doc-link fitted\" rel=\"noreferrer\" target=\"_blank\" href=\"https://scikit-learn.org/1.5/modules/generated/sklearn.tree.DecisionTreeRegressor.html\">?<span>Documentation for DecisionTreeRegressor</span></a><span class=\"sk-estimator-doc-link fitted\">i<span>Fitted</span></span></label><div class=\"sk-toggleable__content fitted\"><pre>DecisionTreeRegressor(max_depth=10, min_samples_leaf=5)</pre></div> </div></div></div></div>"
      ],
      "text/plain": [
       "DecisionTreeRegressor(max_depth=10, min_samples_leaf=5)"
      ]
     },
     "execution_count": 18,
     "metadata": {},
     "output_type": "execute_result"
    }
   ],
   "source": [
    "tree_grid_search.best_estimator_"
   ]
  },
  {
   "cell_type": "code",
   "execution_count": 20,
   "id": "d86da17e-7c4b-4809-ae32-e711f02c2a61",
   "metadata": {},
   "outputs": [
    {
     "data": {
      "text/plain": [
       "array([2210760.8989899 , 3500929.81481481, 2076944.47959184, ...,\n",
       "       2800565.625     , 3357841.08      , 2516874.28571429])"
      ]
     },
     "execution_count": 20,
     "metadata": {},
     "output_type": "execute_result"
    }
   ],
   "source": [
    "Salary_Pred = tree_grid_search.predict(Salary_Stats)\n",
    "\n",
    "Salary_Pred"
   ]
  },
  {
   "cell_type": "code",
   "execution_count": 42,
   "id": "f7407786-f1d0-4049-9b2c-2322818a84f6",
   "metadata": {},
   "outputs": [
    {
     "data": {
      "text/plain": [
       "{'mean_squared_error': np.float64(18902150587093.652),\n",
       " 'root_mean_squared_error': np.float64(4347660.357835425),\n",
       " 'mean_absolute_error': np.float64(3084256.5982865333),\n",
       " 'r_squared': 0.10404366876133031}"
      ]
     },
     "execution_count": 42,
     "metadata": {},
     "output_type": "execute_result"
    }
   ],
   "source": [
    "get_metrics(Salary, Salary_Pred)"
   ]
  },
  {
   "cell_type": "markdown",
   "id": "80df359b-c532-4c19-ada3-ef78faa6d535",
   "metadata": {},
   "source": [
    "# Forest Grid Search"
   ]
  },
  {
   "cell_type": "code",
   "execution_count": 54,
   "id": "0e51dabe-905c-453d-aacb-716eef56602f",
   "metadata": {},
   "outputs": [
    {
     "data": {
      "text/plain": [
       "{'criterion': ['squared_error', 'friedman_mse'],\n",
       " 'n_estimators': [10, 100],\n",
       " 'max_depth': [None, 1, 2, 3, 4, 5],\n",
       " 'min_samples_split': [1, 5, 10],\n",
       " 'min_samples_leaf': [1, 5, 10]}"
      ]
     },
     "execution_count": 54,
     "metadata": {},
     "output_type": "execute_result"
    }
   ],
   "source": [
    "rf_param_grid = {'criterion': ['squared_error', 'friedman_mse'],\n",
    "                 'n_estimators': [10, 100],\n",
    "              'max_depth': [None, 1,2,3,4,5],\n",
    "              'min_samples_split' : [1, 5, 10],\n",
    "               'min_samples_leaf' : [1, 5, 10]\n",
    "              }\n",
    "\n",
    "rf_param_grid"
   ]
  },
  {
   "cell_type": "code",
   "execution_count": 55,
   "id": "bbf2f75c-a8b2-4b2d-820a-69ea909798b8",
   "metadata": {
    "scrolled": true
   },
   "outputs": [
    {
     "name": "stdout",
     "output_type": "stream",
     "text": [
      "Fitting 5 folds for each of 216 candidates, totalling 1080 fits\n",
      "[CV 1/5] END criterion=squared_error, max_depth=None, min_samples_leaf=1, min_samples_split=1, n_estimators=10;, score=nan total time=   0.0s\n",
      "[CV 2/5] END criterion=squared_error, max_depth=None, min_samples_leaf=1, min_samples_split=1, n_estimators=10;, score=nan total time=   0.0s\n",
      "[CV 3/5] END criterion=squared_error, max_depth=None, min_samples_leaf=1, min_samples_split=1, n_estimators=10;, score=nan total time=   0.0s\n",
      "[CV 4/5] END criterion=squared_error, max_depth=None, min_samples_leaf=1, min_samples_split=1, n_estimators=10;, score=nan total time=   0.0s\n",
      "[CV 5/5] END criterion=squared_error, max_depth=None, min_samples_leaf=1, min_samples_split=1, n_estimators=10;, score=nan total time=   0.0s\n",
      "[CV 1/5] END criterion=squared_error, max_depth=None, min_samples_leaf=1, min_samples_split=1, n_estimators=100;, score=nan total time=   0.0s\n",
      "[CV 2/5] END criterion=squared_error, max_depth=None, min_samples_leaf=1, min_samples_split=1, n_estimators=100;, score=nan total time=   0.0s\n",
      "[CV 3/5] END criterion=squared_error, max_depth=None, min_samples_leaf=1, min_samples_split=1, n_estimators=100;, score=nan total time=   0.0s\n",
      "[CV 4/5] END criterion=squared_error, max_depth=None, min_samples_leaf=1, min_samples_split=1, n_estimators=100;, score=nan total time=   0.0s\n",
      "[CV 5/5] END criterion=squared_error, max_depth=None, min_samples_leaf=1, min_samples_split=1, n_estimators=100;, score=nan total time=   0.0s\n",
      "[CV 1/5] END criterion=squared_error, max_depth=None, min_samples_leaf=1, min_samples_split=5, n_estimators=10;, score=-17803294240925.133 total time=   0.0s\n",
      "[CV 2/5] END criterion=squared_error, max_depth=None, min_samples_leaf=1, min_samples_split=5, n_estimators=10;, score=-21290179631591.578 total time=   0.0s\n",
      "[CV 3/5] END criterion=squared_error, max_depth=None, min_samples_leaf=1, min_samples_split=5, n_estimators=10;, score=-19823975108056.016 total time=   0.0s\n",
      "[CV 4/5] END criterion=squared_error, max_depth=None, min_samples_leaf=1, min_samples_split=5, n_estimators=10;, score=-19558945131049.145 total time=   0.0s\n"
     ]
    },
    {
     "name": "stderr",
     "output_type": "stream",
     "text": [
      "C:\\Users\\jb5983on\\AppData\\Local\\anaconda3\\envs\\polars\\Lib\\site-packages\\sklearn\\base.py:1473: DataConversionWarning: A column-vector y was passed when a 1d array was expected. Please change the shape of y to (n_samples,), for example using ravel().\n",
      "  return fit_method(estimator, *args, **kwargs)\n",
      "C:\\Users\\jb5983on\\AppData\\Local\\anaconda3\\envs\\polars\\Lib\\site-packages\\sklearn\\base.py:1473: DataConversionWarning: A column-vector y was passed when a 1d array was expected. Please change the shape of y to (n_samples,), for example using ravel().\n",
      "  return fit_method(estimator, *args, **kwargs)\n",
      "C:\\Users\\jb5983on\\AppData\\Local\\anaconda3\\envs\\polars\\Lib\\site-packages\\sklearn\\base.py:1473: DataConversionWarning: A column-vector y was passed when a 1d array was expected. Please change the shape of y to (n_samples,), for example using ravel().\n",
      "  return fit_method(estimator, *args, **kwargs)\n",
      "C:\\Users\\jb5983on\\AppData\\Local\\anaconda3\\envs\\polars\\Lib\\site-packages\\sklearn\\base.py:1473: DataConversionWarning: A column-vector y was passed when a 1d array was expected. Please change the shape of y to (n_samples,), for example using ravel().\n",
      "  return fit_method(estimator, *args, **kwargs)\n",
      "C:\\Users\\jb5983on\\AppData\\Local\\anaconda3\\envs\\polars\\Lib\\site-packages\\sklearn\\base.py:1473: DataConversionWarning: A column-vector y was passed when a 1d array was expected. Please change the shape of y to (n_samples,), for example using ravel().\n",
      "  return fit_method(estimator, *args, **kwargs)\n"
     ]
    },
    {
     "name": "stdout",
     "output_type": "stream",
     "text": [
      "[CV 5/5] END criterion=squared_error, max_depth=None, min_samples_leaf=1, min_samples_split=5, n_estimators=10;, score=-20726620250655.734 total time=   0.0s\n"
     ]
    },
    {
     "name": "stderr",
     "output_type": "stream",
     "text": [
      "C:\\Users\\jb5983on\\AppData\\Local\\anaconda3\\envs\\polars\\Lib\\site-packages\\sklearn\\base.py:1473: DataConversionWarning: A column-vector y was passed when a 1d array was expected. Please change the shape of y to (n_samples,), for example using ravel().\n",
      "  return fit_method(estimator, *args, **kwargs)\n"
     ]
    },
    {
     "name": "stdout",
     "output_type": "stream",
     "text": [
      "[CV 1/5] END criterion=squared_error, max_depth=None, min_samples_leaf=1, min_samples_split=5, n_estimators=100;, score=-17739777164354.605 total time=   0.3s\n"
     ]
    },
    {
     "name": "stderr",
     "output_type": "stream",
     "text": [
      "C:\\Users\\jb5983on\\AppData\\Local\\anaconda3\\envs\\polars\\Lib\\site-packages\\sklearn\\base.py:1473: DataConversionWarning: A column-vector y was passed when a 1d array was expected. Please change the shape of y to (n_samples,), for example using ravel().\n",
      "  return fit_method(estimator, *args, **kwargs)\n"
     ]
    },
    {
     "name": "stdout",
     "output_type": "stream",
     "text": [
      "[CV 2/5] END criterion=squared_error, max_depth=None, min_samples_leaf=1, min_samples_split=5, n_estimators=100;, score=-21184692980884.582 total time=   0.3s\n"
     ]
    },
    {
     "name": "stderr",
     "output_type": "stream",
     "text": [
      "C:\\Users\\jb5983on\\AppData\\Local\\anaconda3\\envs\\polars\\Lib\\site-packages\\sklearn\\base.py:1473: DataConversionWarning: A column-vector y was passed when a 1d array was expected. Please change the shape of y to (n_samples,), for example using ravel().\n",
      "  return fit_method(estimator, *args, **kwargs)\n"
     ]
    },
    {
     "name": "stdout",
     "output_type": "stream",
     "text": [
      "[CV 3/5] END criterion=squared_error, max_depth=None, min_samples_leaf=1, min_samples_split=5, n_estimators=100;, score=-19745571338719.910 total time=   0.3s\n"
     ]
    },
    {
     "name": "stderr",
     "output_type": "stream",
     "text": [
      "C:\\Users\\jb5983on\\AppData\\Local\\anaconda3\\envs\\polars\\Lib\\site-packages\\sklearn\\base.py:1473: DataConversionWarning: A column-vector y was passed when a 1d array was expected. Please change the shape of y to (n_samples,), for example using ravel().\n",
      "  return fit_method(estimator, *args, **kwargs)\n"
     ]
    },
    {
     "name": "stdout",
     "output_type": "stream",
     "text": [
      "[CV 4/5] END criterion=squared_error, max_depth=None, min_samples_leaf=1, min_samples_split=5, n_estimators=100;, score=-19634726994223.891 total time=   0.3s\n"
     ]
    },
    {
     "name": "stderr",
     "output_type": "stream",
     "text": [
      "C:\\Users\\jb5983on\\AppData\\Local\\anaconda3\\envs\\polars\\Lib\\site-packages\\sklearn\\base.py:1473: DataConversionWarning: A column-vector y was passed when a 1d array was expected. Please change the shape of y to (n_samples,), for example using ravel().\n",
      "  return fit_method(estimator, *args, **kwargs)\n"
     ]
    },
    {
     "name": "stdout",
     "output_type": "stream",
     "text": [
      "[CV 5/5] END criterion=squared_error, max_depth=None, min_samples_leaf=1, min_samples_split=5, n_estimators=100;, score=-20629615619434.953 total time=   0.2s\n",
      "[CV 1/5] END criterion=squared_error, max_depth=None, min_samples_leaf=1, min_samples_split=10, n_estimators=10;, score=-17861480671748.836 total time=   0.0s\n",
      "[CV 2/5] END criterion=squared_error, max_depth=None, min_samples_leaf=1, min_samples_split=10, n_estimators=10;, score=-21155925531784.922 total time=   0.0s\n",
      "[CV 3/5] END criterion=squared_error, max_depth=None, min_samples_leaf=1, min_samples_split=10, n_estimators=10;, score=-19785095423374.762 total time=   0.0s\n"
     ]
    },
    {
     "name": "stderr",
     "output_type": "stream",
     "text": [
      "C:\\Users\\jb5983on\\AppData\\Local\\anaconda3\\envs\\polars\\Lib\\site-packages\\sklearn\\base.py:1473: DataConversionWarning: A column-vector y was passed when a 1d array was expected. Please change the shape of y to (n_samples,), for example using ravel().\n",
      "  return fit_method(estimator, *args, **kwargs)\n",
      "C:\\Users\\jb5983on\\AppData\\Local\\anaconda3\\envs\\polars\\Lib\\site-packages\\sklearn\\base.py:1473: DataConversionWarning: A column-vector y was passed when a 1d array was expected. Please change the shape of y to (n_samples,), for example using ravel().\n",
      "  return fit_method(estimator, *args, **kwargs)\n",
      "C:\\Users\\jb5983on\\AppData\\Local\\anaconda3\\envs\\polars\\Lib\\site-packages\\sklearn\\base.py:1473: DataConversionWarning: A column-vector y was passed when a 1d array was expected. Please change the shape of y to (n_samples,), for example using ravel().\n",
      "  return fit_method(estimator, *args, **kwargs)\n",
      "C:\\Users\\jb5983on\\AppData\\Local\\anaconda3\\envs\\polars\\Lib\\site-packages\\sklearn\\base.py:1473: DataConversionWarning: A column-vector y was passed when a 1d array was expected. Please change the shape of y to (n_samples,), for example using ravel().\n",
      "  return fit_method(estimator, *args, **kwargs)\n"
     ]
    },
    {
     "name": "stdout",
     "output_type": "stream",
     "text": [
      "[CV 4/5] END criterion=squared_error, max_depth=None, min_samples_leaf=1, min_samples_split=10, n_estimators=10;, score=-19777351267174.844 total time=   0.0s\n",
      "[CV 5/5] END criterion=squared_error, max_depth=None, min_samples_leaf=1, min_samples_split=10, n_estimators=10;, score=-20674368022959.508 total time=   0.0s\n"
     ]
    },
    {
     "name": "stderr",
     "output_type": "stream",
     "text": [
      "C:\\Users\\jb5983on\\AppData\\Local\\anaconda3\\envs\\polars\\Lib\\site-packages\\sklearn\\base.py:1473: DataConversionWarning: A column-vector y was passed when a 1d array was expected. Please change the shape of y to (n_samples,), for example using ravel().\n",
      "  return fit_method(estimator, *args, **kwargs)\n",
      "C:\\Users\\jb5983on\\AppData\\Local\\anaconda3\\envs\\polars\\Lib\\site-packages\\sklearn\\base.py:1473: DataConversionWarning: A column-vector y was passed when a 1d array was expected. Please change the shape of y to (n_samples,), for example using ravel().\n",
      "  return fit_method(estimator, *args, **kwargs)\n"
     ]
    },
    {
     "name": "stdout",
     "output_type": "stream",
     "text": [
      "[CV 1/5] END criterion=squared_error, max_depth=None, min_samples_leaf=1, min_samples_split=10, n_estimators=100;, score=-17742668271275.293 total time=   0.3s\n"
     ]
    },
    {
     "name": "stderr",
     "output_type": "stream",
     "text": [
      "C:\\Users\\jb5983on\\AppData\\Local\\anaconda3\\envs\\polars\\Lib\\site-packages\\sklearn\\base.py:1473: DataConversionWarning: A column-vector y was passed when a 1d array was expected. Please change the shape of y to (n_samples,), for example using ravel().\n",
      "  return fit_method(estimator, *args, **kwargs)\n"
     ]
    },
    {
     "name": "stdout",
     "output_type": "stream",
     "text": [
      "[CV 2/5] END criterion=squared_error, max_depth=None, min_samples_leaf=1, min_samples_split=10, n_estimators=100;, score=-21193268876385.707 total time=   0.3s\n"
     ]
    },
    {
     "name": "stderr",
     "output_type": "stream",
     "text": [
      "C:\\Users\\jb5983on\\AppData\\Local\\anaconda3\\envs\\polars\\Lib\\site-packages\\sklearn\\base.py:1473: DataConversionWarning: A column-vector y was passed when a 1d array was expected. Please change the shape of y to (n_samples,), for example using ravel().\n",
      "  return fit_method(estimator, *args, **kwargs)\n"
     ]
    },
    {
     "name": "stdout",
     "output_type": "stream",
     "text": [
      "[CV 3/5] END criterion=squared_error, max_depth=None, min_samples_leaf=1, min_samples_split=10, n_estimators=100;, score=-19761488292316.426 total time=   0.2s\n"
     ]
    },
    {
     "name": "stderr",
     "output_type": "stream",
     "text": [
      "C:\\Users\\jb5983on\\AppData\\Local\\anaconda3\\envs\\polars\\Lib\\site-packages\\sklearn\\base.py:1473: DataConversionWarning: A column-vector y was passed when a 1d array was expected. Please change the shape of y to (n_samples,), for example using ravel().\n",
      "  return fit_method(estimator, *args, **kwargs)\n"
     ]
    },
    {
     "name": "stdout",
     "output_type": "stream",
     "text": [
      "[CV 4/5] END criterion=squared_error, max_depth=None, min_samples_leaf=1, min_samples_split=10, n_estimators=100;, score=-19629942422888.547 total time=   0.2s\n"
     ]
    },
    {
     "name": "stderr",
     "output_type": "stream",
     "text": [
      "C:\\Users\\jb5983on\\AppData\\Local\\anaconda3\\envs\\polars\\Lib\\site-packages\\sklearn\\base.py:1473: DataConversionWarning: A column-vector y was passed when a 1d array was expected. Please change the shape of y to (n_samples,), for example using ravel().\n",
      "  return fit_method(estimator, *args, **kwargs)\n"
     ]
    },
    {
     "name": "stdout",
     "output_type": "stream",
     "text": [
      "[CV 5/5] END criterion=squared_error, max_depth=None, min_samples_leaf=1, min_samples_split=10, n_estimators=100;, score=-20626780410896.766 total time=   0.2s\n",
      "[CV 1/5] END criterion=squared_error, max_depth=None, min_samples_leaf=5, min_samples_split=1, n_estimators=10;, score=nan total time=   0.0s\n",
      "[CV 2/5] END criterion=squared_error, max_depth=None, min_samples_leaf=5, min_samples_split=1, n_estimators=10;, score=nan total time=   0.0s\n",
      "[CV 3/5] END criterion=squared_error, max_depth=None, min_samples_leaf=5, min_samples_split=1, n_estimators=10;, score=nan total time=   0.0s\n",
      "[CV 4/5] END criterion=squared_error, max_depth=None, min_samples_leaf=5, min_samples_split=1, n_estimators=10;, score=nan total time=   0.0s\n",
      "[CV 5/5] END criterion=squared_error, max_depth=None, min_samples_leaf=5, min_samples_split=1, n_estimators=10;, score=nan total time=   0.0s\n",
      "[CV 1/5] END criterion=squared_error, max_depth=None, min_samples_leaf=5, min_samples_split=1, n_estimators=100;, score=nan total time=   0.0s\n",
      "[CV 2/5] END criterion=squared_error, max_depth=None, min_samples_leaf=5, min_samples_split=1, n_estimators=100;, score=nan total time=   0.0s\n",
      "[CV 3/5] END criterion=squared_error, max_depth=None, min_samples_leaf=5, min_samples_split=1, n_estimators=100;, score=nan total time=   0.0s\n",
      "[CV 4/5] END criterion=squared_error, max_depth=None, min_samples_leaf=5, min_samples_split=1, n_estimators=100;, score=nan total time=   0.0s\n",
      "[CV 5/5] END criterion=squared_error, max_depth=None, min_samples_leaf=5, min_samples_split=1, n_estimators=100;, score=nan total time=   0.0s\n",
      "[CV 1/5] END criterion=squared_error, max_depth=None, min_samples_leaf=5, min_samples_split=5, n_estimators=10;, score=-17782496672953.402 total time=   0.0s\n",
      "[CV 2/5] END criterion=squared_error, max_depth=None, min_samples_leaf=5, min_samples_split=5, n_estimators=10;, score=-21272550983596.055 total time=   0.0s\n",
      "[CV 3/5] END criterion=squared_error, max_depth=None, min_samples_leaf=5, min_samples_split=5, n_estimators=10;, score=-19852863426437.523 total time=   0.0s\n"
     ]
    },
    {
     "name": "stderr",
     "output_type": "stream",
     "text": [
      "C:\\Users\\jb5983on\\AppData\\Local\\anaconda3\\envs\\polars\\Lib\\site-packages\\sklearn\\base.py:1473: DataConversionWarning: A column-vector y was passed when a 1d array was expected. Please change the shape of y to (n_samples,), for example using ravel().\n",
      "  return fit_method(estimator, *args, **kwargs)\n",
      "C:\\Users\\jb5983on\\AppData\\Local\\anaconda3\\envs\\polars\\Lib\\site-packages\\sklearn\\base.py:1473: DataConversionWarning: A column-vector y was passed when a 1d array was expected. Please change the shape of y to (n_samples,), for example using ravel().\n",
      "  return fit_method(estimator, *args, **kwargs)\n",
      "C:\\Users\\jb5983on\\AppData\\Local\\anaconda3\\envs\\polars\\Lib\\site-packages\\sklearn\\base.py:1473: DataConversionWarning: A column-vector y was passed when a 1d array was expected. Please change the shape of y to (n_samples,), for example using ravel().\n",
      "  return fit_method(estimator, *args, **kwargs)\n",
      "C:\\Users\\jb5983on\\AppData\\Local\\anaconda3\\envs\\polars\\Lib\\site-packages\\sklearn\\base.py:1473: DataConversionWarning: A column-vector y was passed when a 1d array was expected. Please change the shape of y to (n_samples,), for example using ravel().\n",
      "  return fit_method(estimator, *args, **kwargs)\n"
     ]
    },
    {
     "name": "stdout",
     "output_type": "stream",
     "text": [
      "[CV 4/5] END criterion=squared_error, max_depth=None, min_samples_leaf=5, min_samples_split=5, n_estimators=10;, score=-19700632409895.066 total time=   0.0s\n",
      "[CV 5/5] END criterion=squared_error, max_depth=None, min_samples_leaf=5, min_samples_split=5, n_estimators=10;, score=-20681298659427.723 total time=   0.0s\n"
     ]
    },
    {
     "name": "stderr",
     "output_type": "stream",
     "text": [
      "C:\\Users\\jb5983on\\AppData\\Local\\anaconda3\\envs\\polars\\Lib\\site-packages\\sklearn\\base.py:1473: DataConversionWarning: A column-vector y was passed when a 1d array was expected. Please change the shape of y to (n_samples,), for example using ravel().\n",
      "  return fit_method(estimator, *args, **kwargs)\n",
      "C:\\Users\\jb5983on\\AppData\\Local\\anaconda3\\envs\\polars\\Lib\\site-packages\\sklearn\\base.py:1473: DataConversionWarning: A column-vector y was passed when a 1d array was expected. Please change the shape of y to (n_samples,), for example using ravel().\n",
      "  return fit_method(estimator, *args, **kwargs)\n"
     ]
    },
    {
     "name": "stdout",
     "output_type": "stream",
     "text": [
      "[CV 1/5] END criterion=squared_error, max_depth=None, min_samples_leaf=5, min_samples_split=5, n_estimators=100;, score=-17709373626578.809 total time=   0.3s\n"
     ]
    },
    {
     "name": "stderr",
     "output_type": "stream",
     "text": [
      "C:\\Users\\jb5983on\\AppData\\Local\\anaconda3\\envs\\polars\\Lib\\site-packages\\sklearn\\base.py:1473: DataConversionWarning: A column-vector y was passed when a 1d array was expected. Please change the shape of y to (n_samples,), for example using ravel().\n",
      "  return fit_method(estimator, *args, **kwargs)\n"
     ]
    },
    {
     "name": "stdout",
     "output_type": "stream",
     "text": [
      "[CV 2/5] END criterion=squared_error, max_depth=None, min_samples_leaf=5, min_samples_split=5, n_estimators=100;, score=-21163941618654.703 total time=   0.3s\n"
     ]
    },
    {
     "name": "stderr",
     "output_type": "stream",
     "text": [
      "C:\\Users\\jb5983on\\AppData\\Local\\anaconda3\\envs\\polars\\Lib\\site-packages\\sklearn\\base.py:1473: DataConversionWarning: A column-vector y was passed when a 1d array was expected. Please change the shape of y to (n_samples,), for example using ravel().\n",
      "  return fit_method(estimator, *args, **kwargs)\n"
     ]
    },
    {
     "name": "stdout",
     "output_type": "stream",
     "text": [
      "[CV 3/5] END criterion=squared_error, max_depth=None, min_samples_leaf=5, min_samples_split=5, n_estimators=100;, score=-19736374464839.477 total time=   0.3s\n"
     ]
    },
    {
     "name": "stderr",
     "output_type": "stream",
     "text": [
      "C:\\Users\\jb5983on\\AppData\\Local\\anaconda3\\envs\\polars\\Lib\\site-packages\\sklearn\\base.py:1473: DataConversionWarning: A column-vector y was passed when a 1d array was expected. Please change the shape of y to (n_samples,), for example using ravel().\n",
      "  return fit_method(estimator, *args, **kwargs)\n"
     ]
    },
    {
     "name": "stdout",
     "output_type": "stream",
     "text": [
      "[CV 4/5] END criterion=squared_error, max_depth=None, min_samples_leaf=5, min_samples_split=5, n_estimators=100;, score=-19628379307414.816 total time=   0.2s\n"
     ]
    },
    {
     "name": "stderr",
     "output_type": "stream",
     "text": [
      "C:\\Users\\jb5983on\\AppData\\Local\\anaconda3\\envs\\polars\\Lib\\site-packages\\sklearn\\base.py:1473: DataConversionWarning: A column-vector y was passed when a 1d array was expected. Please change the shape of y to (n_samples,), for example using ravel().\n",
      "  return fit_method(estimator, *args, **kwargs)\n"
     ]
    },
    {
     "name": "stdout",
     "output_type": "stream",
     "text": [
      "[CV 5/5] END criterion=squared_error, max_depth=None, min_samples_leaf=5, min_samples_split=5, n_estimators=100;, score=-20658186631921.098 total time=   0.2s\n",
      "[CV 1/5] END criterion=squared_error, max_depth=None, min_samples_leaf=5, min_samples_split=10, n_estimators=10;, score=-17789231556201.133 total time=   0.0s\n",
      "[CV 2/5] END criterion=squared_error, max_depth=None, min_samples_leaf=5, min_samples_split=10, n_estimators=10;, score=-21198441168993.160 total time=   0.0s\n",
      "[CV 3/5] END criterion=squared_error, max_depth=None, min_samples_leaf=5, min_samples_split=10, n_estimators=10;, score=-19805951632869.359 total time=   0.0s\n"
     ]
    },
    {
     "name": "stderr",
     "output_type": "stream",
     "text": [
      "C:\\Users\\jb5983on\\AppData\\Local\\anaconda3\\envs\\polars\\Lib\\site-packages\\sklearn\\base.py:1473: DataConversionWarning: A column-vector y was passed when a 1d array was expected. Please change the shape of y to (n_samples,), for example using ravel().\n",
      "  return fit_method(estimator, *args, **kwargs)\n",
      "C:\\Users\\jb5983on\\AppData\\Local\\anaconda3\\envs\\polars\\Lib\\site-packages\\sklearn\\base.py:1473: DataConversionWarning: A column-vector y was passed when a 1d array was expected. Please change the shape of y to (n_samples,), for example using ravel().\n",
      "  return fit_method(estimator, *args, **kwargs)\n",
      "C:\\Users\\jb5983on\\AppData\\Local\\anaconda3\\envs\\polars\\Lib\\site-packages\\sklearn\\base.py:1473: DataConversionWarning: A column-vector y was passed when a 1d array was expected. Please change the shape of y to (n_samples,), for example using ravel().\n",
      "  return fit_method(estimator, *args, **kwargs)\n",
      "C:\\Users\\jb5983on\\AppData\\Local\\anaconda3\\envs\\polars\\Lib\\site-packages\\sklearn\\base.py:1473: DataConversionWarning: A column-vector y was passed when a 1d array was expected. Please change the shape of y to (n_samples,), for example using ravel().\n",
      "  return fit_method(estimator, *args, **kwargs)\n"
     ]
    },
    {
     "name": "stdout",
     "output_type": "stream",
     "text": [
      "[CV 4/5] END criterion=squared_error, max_depth=None, min_samples_leaf=5, min_samples_split=10, n_estimators=10;, score=-19575615696621.145 total time=   0.0s\n",
      "[CV 5/5] END criterion=squared_error, max_depth=None, min_samples_leaf=5, min_samples_split=10, n_estimators=10;, score=-20804794177606.621 total time=   0.0s\n"
     ]
    },
    {
     "name": "stderr",
     "output_type": "stream",
     "text": [
      "C:\\Users\\jb5983on\\AppData\\Local\\anaconda3\\envs\\polars\\Lib\\site-packages\\sklearn\\base.py:1473: DataConversionWarning: A column-vector y was passed when a 1d array was expected. Please change the shape of y to (n_samples,), for example using ravel().\n",
      "  return fit_method(estimator, *args, **kwargs)\n",
      "C:\\Users\\jb5983on\\AppData\\Local\\anaconda3\\envs\\polars\\Lib\\site-packages\\sklearn\\base.py:1473: DataConversionWarning: A column-vector y was passed when a 1d array was expected. Please change the shape of y to (n_samples,), for example using ravel().\n",
      "  return fit_method(estimator, *args, **kwargs)\n"
     ]
    },
    {
     "name": "stdout",
     "output_type": "stream",
     "text": [
      "[CV 1/5] END criterion=squared_error, max_depth=None, min_samples_leaf=5, min_samples_split=10, n_estimators=100;, score=-17693873650396.527 total time=   0.2s\n"
     ]
    },
    {
     "name": "stderr",
     "output_type": "stream",
     "text": [
      "C:\\Users\\jb5983on\\AppData\\Local\\anaconda3\\envs\\polars\\Lib\\site-packages\\sklearn\\base.py:1473: DataConversionWarning: A column-vector y was passed when a 1d array was expected. Please change the shape of y to (n_samples,), for example using ravel().\n",
      "  return fit_method(estimator, *args, **kwargs)\n"
     ]
    },
    {
     "name": "stdout",
     "output_type": "stream",
     "text": [
      "[CV 2/5] END criterion=squared_error, max_depth=None, min_samples_leaf=5, min_samples_split=10, n_estimators=100;, score=-21193302814594.504 total time=   0.2s\n"
     ]
    },
    {
     "name": "stderr",
     "output_type": "stream",
     "text": [
      "C:\\Users\\jb5983on\\AppData\\Local\\anaconda3\\envs\\polars\\Lib\\site-packages\\sklearn\\base.py:1473: DataConversionWarning: A column-vector y was passed when a 1d array was expected. Please change the shape of y to (n_samples,), for example using ravel().\n",
      "  return fit_method(estimator, *args, **kwargs)\n"
     ]
    },
    {
     "name": "stdout",
     "output_type": "stream",
     "text": [
      "[CV 3/5] END criterion=squared_error, max_depth=None, min_samples_leaf=5, min_samples_split=10, n_estimators=100;, score=-19756737687078.227 total time=   0.2s\n"
     ]
    },
    {
     "name": "stderr",
     "output_type": "stream",
     "text": [
      "C:\\Users\\jb5983on\\AppData\\Local\\anaconda3\\envs\\polars\\Lib\\site-packages\\sklearn\\base.py:1473: DataConversionWarning: A column-vector y was passed when a 1d array was expected. Please change the shape of y to (n_samples,), for example using ravel().\n",
      "  return fit_method(estimator, *args, **kwargs)\n"
     ]
    },
    {
     "name": "stdout",
     "output_type": "stream",
     "text": [
      "[CV 4/5] END criterion=squared_error, max_depth=None, min_samples_leaf=5, min_samples_split=10, n_estimators=100;, score=-19625601709261.680 total time=   0.2s\n"
     ]
    },
    {
     "name": "stderr",
     "output_type": "stream",
     "text": [
      "C:\\Users\\jb5983on\\AppData\\Local\\anaconda3\\envs\\polars\\Lib\\site-packages\\sklearn\\base.py:1473: DataConversionWarning: A column-vector y was passed when a 1d array was expected. Please change the shape of y to (n_samples,), for example using ravel().\n",
      "  return fit_method(estimator, *args, **kwargs)\n"
     ]
    },
    {
     "name": "stdout",
     "output_type": "stream",
     "text": [
      "[CV 5/5] END criterion=squared_error, max_depth=None, min_samples_leaf=5, min_samples_split=10, n_estimators=100;, score=-20600601504768.770 total time=   0.3s\n",
      "[CV 1/5] END criterion=squared_error, max_depth=None, min_samples_leaf=10, min_samples_split=1, n_estimators=10;, score=nan total time=   0.0s\n",
      "[CV 2/5] END criterion=squared_error, max_depth=None, min_samples_leaf=10, min_samples_split=1, n_estimators=10;, score=nan total time=   0.0s\n",
      "[CV 3/5] END criterion=squared_error, max_depth=None, min_samples_leaf=10, min_samples_split=1, n_estimators=10;, score=nan total time=   0.0s\n",
      "[CV 4/5] END criterion=squared_error, max_depth=None, min_samples_leaf=10, min_samples_split=1, n_estimators=10;, score=nan total time=   0.0s\n",
      "[CV 5/5] END criterion=squared_error, max_depth=None, min_samples_leaf=10, min_samples_split=1, n_estimators=10;, score=nan total time=   0.0s\n",
      "[CV 1/5] END criterion=squared_error, max_depth=None, min_samples_leaf=10, min_samples_split=1, n_estimators=100;, score=nan total time=   0.0s\n",
      "[CV 2/5] END criterion=squared_error, max_depth=None, min_samples_leaf=10, min_samples_split=1, n_estimators=100;, score=nan total time=   0.0s\n",
      "[CV 3/5] END criterion=squared_error, max_depth=None, min_samples_leaf=10, min_samples_split=1, n_estimators=100;, score=nan total time=   0.0s\n",
      "[CV 4/5] END criterion=squared_error, max_depth=None, min_samples_leaf=10, min_samples_split=1, n_estimators=100;, score=nan total time=   0.0s\n",
      "[CV 5/5] END criterion=squared_error, max_depth=None, min_samples_leaf=10, min_samples_split=1, n_estimators=100;, score=nan total time=   0.0s\n",
      "[CV 1/5] END criterion=squared_error, max_depth=None, min_samples_leaf=10, min_samples_split=5, n_estimators=10;, score=-17819044625155.914 total time=   0.0s\n",
      "[CV 2/5] END criterion=squared_error, max_depth=None, min_samples_leaf=10, min_samples_split=5, n_estimators=10;, score=-21268187291143.996 total time=   0.0s\n"
     ]
    },
    {
     "name": "stderr",
     "output_type": "stream",
     "text": [
      "C:\\Users\\jb5983on\\AppData\\Local\\anaconda3\\envs\\polars\\Lib\\site-packages\\sklearn\\base.py:1473: DataConversionWarning: A column-vector y was passed when a 1d array was expected. Please change the shape of y to (n_samples,), for example using ravel().\n",
      "  return fit_method(estimator, *args, **kwargs)\n",
      "C:\\Users\\jb5983on\\AppData\\Local\\anaconda3\\envs\\polars\\Lib\\site-packages\\sklearn\\base.py:1473: DataConversionWarning: A column-vector y was passed when a 1d array was expected. Please change the shape of y to (n_samples,), for example using ravel().\n",
      "  return fit_method(estimator, *args, **kwargs)\n",
      "C:\\Users\\jb5983on\\AppData\\Local\\anaconda3\\envs\\polars\\Lib\\site-packages\\sklearn\\base.py:1473: DataConversionWarning: A column-vector y was passed when a 1d array was expected. Please change the shape of y to (n_samples,), for example using ravel().\n",
      "  return fit_method(estimator, *args, **kwargs)\n",
      "C:\\Users\\jb5983on\\AppData\\Local\\anaconda3\\envs\\polars\\Lib\\site-packages\\sklearn\\base.py:1473: DataConversionWarning: A column-vector y was passed when a 1d array was expected. Please change the shape of y to (n_samples,), for example using ravel().\n",
      "  return fit_method(estimator, *args, **kwargs)\n",
      "C:\\Users\\jb5983on\\AppData\\Local\\anaconda3\\envs\\polars\\Lib\\site-packages\\sklearn\\base.py:1473: DataConversionWarning: A column-vector y was passed when a 1d array was expected. Please change the shape of y to (n_samples,), for example using ravel().\n",
      "  return fit_method(estimator, *args, **kwargs)\n"
     ]
    },
    {
     "name": "stdout",
     "output_type": "stream",
     "text": [
      "[CV 3/5] END criterion=squared_error, max_depth=None, min_samples_leaf=10, min_samples_split=5, n_estimators=10;, score=-19721480961639.133 total time=   0.0s\n",
      "[CV 4/5] END criterion=squared_error, max_depth=None, min_samples_leaf=10, min_samples_split=5, n_estimators=10;, score=-19526841126229.559 total time=   0.0s\n",
      "[CV 5/5] END criterion=squared_error, max_depth=None, min_samples_leaf=10, min_samples_split=5, n_estimators=10;, score=-20632436874123.379 total time=   0.0s\n"
     ]
    },
    {
     "name": "stderr",
     "output_type": "stream",
     "text": [
      "C:\\Users\\jb5983on\\AppData\\Local\\anaconda3\\envs\\polars\\Lib\\site-packages\\sklearn\\base.py:1473: DataConversionWarning: A column-vector y was passed when a 1d array was expected. Please change the shape of y to (n_samples,), for example using ravel().\n",
      "  return fit_method(estimator, *args, **kwargs)\n"
     ]
    },
    {
     "name": "stdout",
     "output_type": "stream",
     "text": [
      "[CV 1/5] END criterion=squared_error, max_depth=None, min_samples_leaf=10, min_samples_split=5, n_estimators=100;, score=-17705956971901.059 total time=   0.2s\n"
     ]
    },
    {
     "name": "stderr",
     "output_type": "stream",
     "text": [
      "C:\\Users\\jb5983on\\AppData\\Local\\anaconda3\\envs\\polars\\Lib\\site-packages\\sklearn\\base.py:1473: DataConversionWarning: A column-vector y was passed when a 1d array was expected. Please change the shape of y to (n_samples,), for example using ravel().\n",
      "  return fit_method(estimator, *args, **kwargs)\n"
     ]
    },
    {
     "name": "stdout",
     "output_type": "stream",
     "text": [
      "[CV 2/5] END criterion=squared_error, max_depth=None, min_samples_leaf=10, min_samples_split=5, n_estimators=100;, score=-21184666614240.359 total time=   0.3s\n"
     ]
    },
    {
     "name": "stderr",
     "output_type": "stream",
     "text": [
      "C:\\Users\\jb5983on\\AppData\\Local\\anaconda3\\envs\\polars\\Lib\\site-packages\\sklearn\\base.py:1473: DataConversionWarning: A column-vector y was passed when a 1d array was expected. Please change the shape of y to (n_samples,), for example using ravel().\n",
      "  return fit_method(estimator, *args, **kwargs)\n"
     ]
    },
    {
     "name": "stdout",
     "output_type": "stream",
     "text": [
      "[CV 3/5] END criterion=squared_error, max_depth=None, min_samples_leaf=10, min_samples_split=5, n_estimators=100;, score=-19767078748984.203 total time=   0.2s\n"
     ]
    },
    {
     "name": "stderr",
     "output_type": "stream",
     "text": [
      "C:\\Users\\jb5983on\\AppData\\Local\\anaconda3\\envs\\polars\\Lib\\site-packages\\sklearn\\base.py:1473: DataConversionWarning: A column-vector y was passed when a 1d array was expected. Please change the shape of y to (n_samples,), for example using ravel().\n",
      "  return fit_method(estimator, *args, **kwargs)\n"
     ]
    },
    {
     "name": "stdout",
     "output_type": "stream",
     "text": [
      "[CV 4/5] END criterion=squared_error, max_depth=None, min_samples_leaf=10, min_samples_split=5, n_estimators=100;, score=-19635281140453.176 total time=   0.2s\n"
     ]
    },
    {
     "name": "stderr",
     "output_type": "stream",
     "text": [
      "C:\\Users\\jb5983on\\AppData\\Local\\anaconda3\\envs\\polars\\Lib\\site-packages\\sklearn\\base.py:1473: DataConversionWarning: A column-vector y was passed when a 1d array was expected. Please change the shape of y to (n_samples,), for example using ravel().\n",
      "  return fit_method(estimator, *args, **kwargs)\n"
     ]
    },
    {
     "name": "stdout",
     "output_type": "stream",
     "text": [
      "[CV 5/5] END criterion=squared_error, max_depth=None, min_samples_leaf=10, min_samples_split=5, n_estimators=100;, score=-20611205622019.984 total time=   0.3s\n",
      "[CV 1/5] END criterion=squared_error, max_depth=None, min_samples_leaf=10, min_samples_split=10, n_estimators=10;, score=-17764828190369.145 total time=   0.0s\n",
      "[CV 2/5] END criterion=squared_error, max_depth=None, min_samples_leaf=10, min_samples_split=10, n_estimators=10;, score=-21186449808296.148 total time=   0.0s\n",
      "[CV 3/5] END criterion=squared_error, max_depth=None, min_samples_leaf=10, min_samples_split=10, n_estimators=10;, score=-19831760664290.598 total time=   0.0s\n"
     ]
    },
    {
     "name": "stderr",
     "output_type": "stream",
     "text": [
      "C:\\Users\\jb5983on\\AppData\\Local\\anaconda3\\envs\\polars\\Lib\\site-packages\\sklearn\\base.py:1473: DataConversionWarning: A column-vector y was passed when a 1d array was expected. Please change the shape of y to (n_samples,), for example using ravel().\n",
      "  return fit_method(estimator, *args, **kwargs)\n",
      "C:\\Users\\jb5983on\\AppData\\Local\\anaconda3\\envs\\polars\\Lib\\site-packages\\sklearn\\base.py:1473: DataConversionWarning: A column-vector y was passed when a 1d array was expected. Please change the shape of y to (n_samples,), for example using ravel().\n",
      "  return fit_method(estimator, *args, **kwargs)\n",
      "C:\\Users\\jb5983on\\AppData\\Local\\anaconda3\\envs\\polars\\Lib\\site-packages\\sklearn\\base.py:1473: DataConversionWarning: A column-vector y was passed when a 1d array was expected. Please change the shape of y to (n_samples,), for example using ravel().\n",
      "  return fit_method(estimator, *args, **kwargs)\n",
      "C:\\Users\\jb5983on\\AppData\\Local\\anaconda3\\envs\\polars\\Lib\\site-packages\\sklearn\\base.py:1473: DataConversionWarning: A column-vector y was passed when a 1d array was expected. Please change the shape of y to (n_samples,), for example using ravel().\n",
      "  return fit_method(estimator, *args, **kwargs)\n"
     ]
    },
    {
     "name": "stdout",
     "output_type": "stream",
     "text": [
      "[CV 4/5] END criterion=squared_error, max_depth=None, min_samples_leaf=10, min_samples_split=10, n_estimators=10;, score=-19603837754192.957 total time=   0.0s\n",
      "[CV 5/5] END criterion=squared_error, max_depth=None, min_samples_leaf=10, min_samples_split=10, n_estimators=10;, score=-20705132323503.215 total time=   0.0s\n"
     ]
    },
    {
     "name": "stderr",
     "output_type": "stream",
     "text": [
      "C:\\Users\\jb5983on\\AppData\\Local\\anaconda3\\envs\\polars\\Lib\\site-packages\\sklearn\\base.py:1473: DataConversionWarning: A column-vector y was passed when a 1d array was expected. Please change the shape of y to (n_samples,), for example using ravel().\n",
      "  return fit_method(estimator, *args, **kwargs)\n",
      "C:\\Users\\jb5983on\\AppData\\Local\\anaconda3\\envs\\polars\\Lib\\site-packages\\sklearn\\base.py:1473: DataConversionWarning: A column-vector y was passed when a 1d array was expected. Please change the shape of y to (n_samples,), for example using ravel().\n",
      "  return fit_method(estimator, *args, **kwargs)\n"
     ]
    },
    {
     "name": "stdout",
     "output_type": "stream",
     "text": [
      "[CV 1/5] END criterion=squared_error, max_depth=None, min_samples_leaf=10, min_samples_split=10, n_estimators=100;, score=-17688477719464.004 total time=   0.2s\n"
     ]
    },
    {
     "name": "stderr",
     "output_type": "stream",
     "text": [
      "C:\\Users\\jb5983on\\AppData\\Local\\anaconda3\\envs\\polars\\Lib\\site-packages\\sklearn\\base.py:1473: DataConversionWarning: A column-vector y was passed when a 1d array was expected. Please change the shape of y to (n_samples,), for example using ravel().\n",
      "  return fit_method(estimator, *args, **kwargs)\n"
     ]
    },
    {
     "name": "stdout",
     "output_type": "stream",
     "text": [
      "[CV 2/5] END criterion=squared_error, max_depth=None, min_samples_leaf=10, min_samples_split=10, n_estimators=100;, score=-21161724573243.910 total time=   0.2s\n"
     ]
    },
    {
     "name": "stderr",
     "output_type": "stream",
     "text": [
      "C:\\Users\\jb5983on\\AppData\\Local\\anaconda3\\envs\\polars\\Lib\\site-packages\\sklearn\\base.py:1473: DataConversionWarning: A column-vector y was passed when a 1d array was expected. Please change the shape of y to (n_samples,), for example using ravel().\n",
      "  return fit_method(estimator, *args, **kwargs)\n"
     ]
    },
    {
     "name": "stdout",
     "output_type": "stream",
     "text": [
      "[CV 3/5] END criterion=squared_error, max_depth=None, min_samples_leaf=10, min_samples_split=10, n_estimators=100;, score=-19730309148071.574 total time=   0.2s\n"
     ]
    },
    {
     "name": "stderr",
     "output_type": "stream",
     "text": [
      "C:\\Users\\jb5983on\\AppData\\Local\\anaconda3\\envs\\polars\\Lib\\site-packages\\sklearn\\base.py:1473: DataConversionWarning: A column-vector y was passed when a 1d array was expected. Please change the shape of y to (n_samples,), for example using ravel().\n",
      "  return fit_method(estimator, *args, **kwargs)\n"
     ]
    },
    {
     "name": "stdout",
     "output_type": "stream",
     "text": [
      "[CV 4/5] END criterion=squared_error, max_depth=None, min_samples_leaf=10, min_samples_split=10, n_estimators=100;, score=-19629769072597.914 total time=   0.2s\n"
     ]
    },
    {
     "name": "stderr",
     "output_type": "stream",
     "text": [
      "C:\\Users\\jb5983on\\AppData\\Local\\anaconda3\\envs\\polars\\Lib\\site-packages\\sklearn\\base.py:1473: DataConversionWarning: A column-vector y was passed when a 1d array was expected. Please change the shape of y to (n_samples,), for example using ravel().\n",
      "  return fit_method(estimator, *args, **kwargs)\n"
     ]
    },
    {
     "name": "stdout",
     "output_type": "stream",
     "text": [
      "[CV 5/5] END criterion=squared_error, max_depth=None, min_samples_leaf=10, min_samples_split=10, n_estimators=100;, score=-20584858615397.539 total time=   0.2s\n",
      "[CV 1/5] END criterion=squared_error, max_depth=1, min_samples_leaf=1, min_samples_split=1, n_estimators=10;, score=nan total time=   0.0s\n",
      "[CV 2/5] END criterion=squared_error, max_depth=1, min_samples_leaf=1, min_samples_split=1, n_estimators=10;, score=nan total time=   0.0s\n",
      "[CV 3/5] END criterion=squared_error, max_depth=1, min_samples_leaf=1, min_samples_split=1, n_estimators=10;, score=nan total time=   0.0s\n",
      "[CV 4/5] END criterion=squared_error, max_depth=1, min_samples_leaf=1, min_samples_split=1, n_estimators=10;, score=nan total time=   0.0s\n",
      "[CV 5/5] END criterion=squared_error, max_depth=1, min_samples_leaf=1, min_samples_split=1, n_estimators=10;, score=nan total time=   0.0s\n",
      "[CV 1/5] END criterion=squared_error, max_depth=1, min_samples_leaf=1, min_samples_split=1, n_estimators=100;, score=nan total time=   0.0s\n",
      "[CV 2/5] END criterion=squared_error, max_depth=1, min_samples_leaf=1, min_samples_split=1, n_estimators=100;, score=nan total time=   0.0s\n",
      "[CV 3/5] END criterion=squared_error, max_depth=1, min_samples_leaf=1, min_samples_split=1, n_estimators=100;, score=nan total time=   0.0s\n",
      "[CV 4/5] END criterion=squared_error, max_depth=1, min_samples_leaf=1, min_samples_split=1, n_estimators=100;, score=nan total time=   0.0s\n",
      "[CV 5/5] END criterion=squared_error, max_depth=1, min_samples_leaf=1, min_samples_split=1, n_estimators=100;, score=nan total time=   0.0s\n",
      "[CV 1/5] END criterion=squared_error, max_depth=1, min_samples_leaf=1, min_samples_split=5, n_estimators=10;, score=-17964506088444.750 total time=   0.0s\n",
      "[CV 2/5] END criterion=squared_error, max_depth=1, min_samples_leaf=1, min_samples_split=5, n_estimators=10;, score=-21468211349065.711 total time=   0.0s\n",
      "[CV 3/5] END criterion=squared_error, max_depth=1, min_samples_leaf=1, min_samples_split=5, n_estimators=10;, score=-19752789791515.148 total time=   0.0s\n"
     ]
    },
    {
     "name": "stderr",
     "output_type": "stream",
     "text": [
      "C:\\Users\\jb5983on\\AppData\\Local\\anaconda3\\envs\\polars\\Lib\\site-packages\\sklearn\\base.py:1473: DataConversionWarning: A column-vector y was passed when a 1d array was expected. Please change the shape of y to (n_samples,), for example using ravel().\n",
      "  return fit_method(estimator, *args, **kwargs)\n",
      "C:\\Users\\jb5983on\\AppData\\Local\\anaconda3\\envs\\polars\\Lib\\site-packages\\sklearn\\base.py:1473: DataConversionWarning: A column-vector y was passed when a 1d array was expected. Please change the shape of y to (n_samples,), for example using ravel().\n",
      "  return fit_method(estimator, *args, **kwargs)\n",
      "C:\\Users\\jb5983on\\AppData\\Local\\anaconda3\\envs\\polars\\Lib\\site-packages\\sklearn\\base.py:1473: DataConversionWarning: A column-vector y was passed when a 1d array was expected. Please change the shape of y to (n_samples,), for example using ravel().\n",
      "  return fit_method(estimator, *args, **kwargs)\n",
      "C:\\Users\\jb5983on\\AppData\\Local\\anaconda3\\envs\\polars\\Lib\\site-packages\\sklearn\\base.py:1473: DataConversionWarning: A column-vector y was passed when a 1d array was expected. Please change the shape of y to (n_samples,), for example using ravel().\n",
      "  return fit_method(estimator, *args, **kwargs)\n",
      "C:\\Users\\jb5983on\\AppData\\Local\\anaconda3\\envs\\polars\\Lib\\site-packages\\sklearn\\base.py:1473: DataConversionWarning: A column-vector y was passed when a 1d array was expected. Please change the shape of y to (n_samples,), for example using ravel().\n",
      "  return fit_method(estimator, *args, **kwargs)\n",
      "C:\\Users\\jb5983on\\AppData\\Local\\anaconda3\\envs\\polars\\Lib\\site-packages\\sklearn\\base.py:1473: DataConversionWarning: A column-vector y was passed when a 1d array was expected. Please change the shape of y to (n_samples,), for example using ravel().\n",
      "  return fit_method(estimator, *args, **kwargs)\n"
     ]
    },
    {
     "name": "stdout",
     "output_type": "stream",
     "text": [
      "[CV 4/5] END criterion=squared_error, max_depth=1, min_samples_leaf=1, min_samples_split=5, n_estimators=10;, score=-19996815643441.352 total time=   0.0s\n",
      "[CV 5/5] END criterion=squared_error, max_depth=1, min_samples_leaf=1, min_samples_split=5, n_estimators=10;, score=-21176266548679.383 total time=   0.0s\n",
      "[CV 1/5] END criterion=squared_error, max_depth=1, min_samples_leaf=1, min_samples_split=5, n_estimators=100;, score=-17909274623449.688 total time=   0.1s\n",
      "[CV 2/5] END criterion=squared_error, max_depth=1, min_samples_leaf=1, min_samples_split=5, n_estimators=100;, score=-21474716523743.512 total time=   0.1s\n"
     ]
    },
    {
     "name": "stderr",
     "output_type": "stream",
     "text": [
      "C:\\Users\\jb5983on\\AppData\\Local\\anaconda3\\envs\\polars\\Lib\\site-packages\\sklearn\\base.py:1473: DataConversionWarning: A column-vector y was passed when a 1d array was expected. Please change the shape of y to (n_samples,), for example using ravel().\n",
      "  return fit_method(estimator, *args, **kwargs)\n",
      "C:\\Users\\jb5983on\\AppData\\Local\\anaconda3\\envs\\polars\\Lib\\site-packages\\sklearn\\base.py:1473: DataConversionWarning: A column-vector y was passed when a 1d array was expected. Please change the shape of y to (n_samples,), for example using ravel().\n",
      "  return fit_method(estimator, *args, **kwargs)\n"
     ]
    },
    {
     "name": "stdout",
     "output_type": "stream",
     "text": [
      "[CV 3/5] END criterion=squared_error, max_depth=1, min_samples_leaf=1, min_samples_split=5, n_estimators=100;, score=-19720572725632.766 total time=   0.1s\n",
      "[CV 4/5] END criterion=squared_error, max_depth=1, min_samples_leaf=1, min_samples_split=5, n_estimators=100;, score=-20001571710862.977 total time=   0.1s\n"
     ]
    },
    {
     "name": "stderr",
     "output_type": "stream",
     "text": [
      "C:\\Users\\jb5983on\\AppData\\Local\\anaconda3\\envs\\polars\\Lib\\site-packages\\sklearn\\base.py:1473: DataConversionWarning: A column-vector y was passed when a 1d array was expected. Please change the shape of y to (n_samples,), for example using ravel().\n",
      "  return fit_method(estimator, *args, **kwargs)\n",
      "C:\\Users\\jb5983on\\AppData\\Local\\anaconda3\\envs\\polars\\Lib\\site-packages\\sklearn\\base.py:1473: DataConversionWarning: A column-vector y was passed when a 1d array was expected. Please change the shape of y to (n_samples,), for example using ravel().\n",
      "  return fit_method(estimator, *args, **kwargs)\n"
     ]
    },
    {
     "name": "stdout",
     "output_type": "stream",
     "text": [
      "[CV 5/5] END criterion=squared_error, max_depth=1, min_samples_leaf=1, min_samples_split=5, n_estimators=100;, score=-21166771553803.582 total time=   0.1s\n",
      "[CV 1/5] END criterion=squared_error, max_depth=1, min_samples_leaf=1, min_samples_split=10, n_estimators=10;, score=-17873534809409.105 total time=   0.0s\n",
      "[CV 2/5] END criterion=squared_error, max_depth=1, min_samples_leaf=1, min_samples_split=10, n_estimators=10;, score=-21445662552573.523 total time=   0.0s\n",
      "[CV 3/5] END criterion=squared_error, max_depth=1, min_samples_leaf=1, min_samples_split=10, n_estimators=10;, score=-19740951977013.324 total time=   0.0s\n",
      "[CV 4/5] END criterion=squared_error, max_depth=1, min_samples_leaf=1, min_samples_split=10, n_estimators=10;, score=-19946142773194.609 total time=   0.0s\n",
      "[CV 5/5] END criterion=squared_error, max_depth=1, min_samples_leaf=1, min_samples_split=10, n_estimators=10;, score=-21202164237497.500 total time=   0.0s\n"
     ]
    },
    {
     "name": "stderr",
     "output_type": "stream",
     "text": [
      "C:\\Users\\jb5983on\\AppData\\Local\\anaconda3\\envs\\polars\\Lib\\site-packages\\sklearn\\base.py:1473: DataConversionWarning: A column-vector y was passed when a 1d array was expected. Please change the shape of y to (n_samples,), for example using ravel().\n",
      "  return fit_method(estimator, *args, **kwargs)\n",
      "C:\\Users\\jb5983on\\AppData\\Local\\anaconda3\\envs\\polars\\Lib\\site-packages\\sklearn\\base.py:1473: DataConversionWarning: A column-vector y was passed when a 1d array was expected. Please change the shape of y to (n_samples,), for example using ravel().\n",
      "  return fit_method(estimator, *args, **kwargs)\n",
      "C:\\Users\\jb5983on\\AppData\\Local\\anaconda3\\envs\\polars\\Lib\\site-packages\\sklearn\\base.py:1473: DataConversionWarning: A column-vector y was passed when a 1d array was expected. Please change the shape of y to (n_samples,), for example using ravel().\n",
      "  return fit_method(estimator, *args, **kwargs)\n",
      "C:\\Users\\jb5983on\\AppData\\Local\\anaconda3\\envs\\polars\\Lib\\site-packages\\sklearn\\base.py:1473: DataConversionWarning: A column-vector y was passed when a 1d array was expected. Please change the shape of y to (n_samples,), for example using ravel().\n",
      "  return fit_method(estimator, *args, **kwargs)\n",
      "C:\\Users\\jb5983on\\AppData\\Local\\anaconda3\\envs\\polars\\Lib\\site-packages\\sklearn\\base.py:1473: DataConversionWarning: A column-vector y was passed when a 1d array was expected. Please change the shape of y to (n_samples,), for example using ravel().\n",
      "  return fit_method(estimator, *args, **kwargs)\n",
      "C:\\Users\\jb5983on\\AppData\\Local\\anaconda3\\envs\\polars\\Lib\\site-packages\\sklearn\\base.py:1473: DataConversionWarning: A column-vector y was passed when a 1d array was expected. Please change the shape of y to (n_samples,), for example using ravel().\n",
      "  return fit_method(estimator, *args, **kwargs)\n"
     ]
    },
    {
     "name": "stdout",
     "output_type": "stream",
     "text": [
      "[CV 1/5] END criterion=squared_error, max_depth=1, min_samples_leaf=1, min_samples_split=10, n_estimators=100;, score=-17915096075066.473 total time=   0.1s\n",
      "[CV 2/5] END criterion=squared_error, max_depth=1, min_samples_leaf=1, min_samples_split=10, n_estimators=100;, score=-21451950546308.270 total time=   0.1s\n"
     ]
    },
    {
     "name": "stderr",
     "output_type": "stream",
     "text": [
      "C:\\Users\\jb5983on\\AppData\\Local\\anaconda3\\envs\\polars\\Lib\\site-packages\\sklearn\\base.py:1473: DataConversionWarning: A column-vector y was passed when a 1d array was expected. Please change the shape of y to (n_samples,), for example using ravel().\n",
      "  return fit_method(estimator, *args, **kwargs)\n",
      "C:\\Users\\jb5983on\\AppData\\Local\\anaconda3\\envs\\polars\\Lib\\site-packages\\sklearn\\base.py:1473: DataConversionWarning: A column-vector y was passed when a 1d array was expected. Please change the shape of y to (n_samples,), for example using ravel().\n",
      "  return fit_method(estimator, *args, **kwargs)\n"
     ]
    },
    {
     "name": "stdout",
     "output_type": "stream",
     "text": [
      "[CV 3/5] END criterion=squared_error, max_depth=1, min_samples_leaf=1, min_samples_split=10, n_estimators=100;, score=-19742296741934.043 total time=   0.1s\n",
      "[CV 4/5] END criterion=squared_error, max_depth=1, min_samples_leaf=1, min_samples_split=10, n_estimators=100;, score=-19986655258309.102 total time=   0.1s\n"
     ]
    },
    {
     "name": "stderr",
     "output_type": "stream",
     "text": [
      "C:\\Users\\jb5983on\\AppData\\Local\\anaconda3\\envs\\polars\\Lib\\site-packages\\sklearn\\base.py:1473: DataConversionWarning: A column-vector y was passed when a 1d array was expected. Please change the shape of y to (n_samples,), for example using ravel().\n",
      "  return fit_method(estimator, *args, **kwargs)\n",
      "C:\\Users\\jb5983on\\AppData\\Local\\anaconda3\\envs\\polars\\Lib\\site-packages\\sklearn\\base.py:1473: DataConversionWarning: A column-vector y was passed when a 1d array was expected. Please change the shape of y to (n_samples,), for example using ravel().\n",
      "  return fit_method(estimator, *args, **kwargs)\n"
     ]
    },
    {
     "name": "stdout",
     "output_type": "stream",
     "text": [
      "[CV 5/5] END criterion=squared_error, max_depth=1, min_samples_leaf=1, min_samples_split=10, n_estimators=100;, score=-21175699091112.484 total time=   0.1s\n",
      "[CV 1/5] END criterion=squared_error, max_depth=1, min_samples_leaf=5, min_samples_split=1, n_estimators=10;, score=nan total time=   0.0s\n",
      "[CV 2/5] END criterion=squared_error, max_depth=1, min_samples_leaf=5, min_samples_split=1, n_estimators=10;, score=nan total time=   0.0s\n",
      "[CV 3/5] END criterion=squared_error, max_depth=1, min_samples_leaf=5, min_samples_split=1, n_estimators=10;, score=nan total time=   0.0s\n",
      "[CV 4/5] END criterion=squared_error, max_depth=1, min_samples_leaf=5, min_samples_split=1, n_estimators=10;, score=nan total time=   0.0s\n",
      "[CV 5/5] END criterion=squared_error, max_depth=1, min_samples_leaf=5, min_samples_split=1, n_estimators=10;, score=nan total time=   0.0s\n",
      "[CV 1/5] END criterion=squared_error, max_depth=1, min_samples_leaf=5, min_samples_split=1, n_estimators=100;, score=nan total time=   0.0s\n",
      "[CV 2/5] END criterion=squared_error, max_depth=1, min_samples_leaf=5, min_samples_split=1, n_estimators=100;, score=nan total time=   0.0s\n",
      "[CV 3/5] END criterion=squared_error, max_depth=1, min_samples_leaf=5, min_samples_split=1, n_estimators=100;, score=nan total time=   0.0s\n",
      "[CV 4/5] END criterion=squared_error, max_depth=1, min_samples_leaf=5, min_samples_split=1, n_estimators=100;, score=nan total time=   0.0s\n",
      "[CV 5/5] END criterion=squared_error, max_depth=1, min_samples_leaf=5, min_samples_split=1, n_estimators=100;, score=nan total time=   0.0s\n",
      "[CV 1/5] END criterion=squared_error, max_depth=1, min_samples_leaf=5, min_samples_split=5, n_estimators=10;, score=-17975465881265.797 total time=   0.0s\n",
      "[CV 2/5] END criterion=squared_error, max_depth=1, min_samples_leaf=5, min_samples_split=5, n_estimators=10;, score=-21455276128945.629 total time=   0.0s\n",
      "[CV 3/5] END criterion=squared_error, max_depth=1, min_samples_leaf=5, min_samples_split=5, n_estimators=10;, score=-19716029287916.426 total time=   0.0s\n",
      "[CV 4/5] END criterion=squared_error, max_depth=1, min_samples_leaf=5, min_samples_split=5, n_estimators=10;, score=-19984920461969.598 total time=   0.0s\n"
     ]
    },
    {
     "name": "stderr",
     "output_type": "stream",
     "text": [
      "C:\\Users\\jb5983on\\AppData\\Local\\anaconda3\\envs\\polars\\Lib\\site-packages\\sklearn\\base.py:1473: DataConversionWarning: A column-vector y was passed when a 1d array was expected. Please change the shape of y to (n_samples,), for example using ravel().\n",
      "  return fit_method(estimator, *args, **kwargs)\n",
      "C:\\Users\\jb5983on\\AppData\\Local\\anaconda3\\envs\\polars\\Lib\\site-packages\\sklearn\\base.py:1473: DataConversionWarning: A column-vector y was passed when a 1d array was expected. Please change the shape of y to (n_samples,), for example using ravel().\n",
      "  return fit_method(estimator, *args, **kwargs)\n",
      "C:\\Users\\jb5983on\\AppData\\Local\\anaconda3\\envs\\polars\\Lib\\site-packages\\sklearn\\base.py:1473: DataConversionWarning: A column-vector y was passed when a 1d array was expected. Please change the shape of y to (n_samples,), for example using ravel().\n",
      "  return fit_method(estimator, *args, **kwargs)\n",
      "C:\\Users\\jb5983on\\AppData\\Local\\anaconda3\\envs\\polars\\Lib\\site-packages\\sklearn\\base.py:1473: DataConversionWarning: A column-vector y was passed when a 1d array was expected. Please change the shape of y to (n_samples,), for example using ravel().\n",
      "  return fit_method(estimator, *args, **kwargs)\n",
      "C:\\Users\\jb5983on\\AppData\\Local\\anaconda3\\envs\\polars\\Lib\\site-packages\\sklearn\\base.py:1473: DataConversionWarning: A column-vector y was passed when a 1d array was expected. Please change the shape of y to (n_samples,), for example using ravel().\n",
      "  return fit_method(estimator, *args, **kwargs)\n",
      "C:\\Users\\jb5983on\\AppData\\Local\\anaconda3\\envs\\polars\\Lib\\site-packages\\sklearn\\base.py:1473: DataConversionWarning: A column-vector y was passed when a 1d array was expected. Please change the shape of y to (n_samples,), for example using ravel().\n",
      "  return fit_method(estimator, *args, **kwargs)\n"
     ]
    },
    {
     "name": "stdout",
     "output_type": "stream",
     "text": [
      "[CV 5/5] END criterion=squared_error, max_depth=1, min_samples_leaf=5, min_samples_split=5, n_estimators=10;, score=-21172424825822.762 total time=   0.0s\n",
      "[CV 1/5] END criterion=squared_error, max_depth=1, min_samples_leaf=5, min_samples_split=5, n_estimators=100;, score=-17895954096798.961 total time=   0.1s\n"
     ]
    },
    {
     "name": "stderr",
     "output_type": "stream",
     "text": [
      "C:\\Users\\jb5983on\\AppData\\Local\\anaconda3\\envs\\polars\\Lib\\site-packages\\sklearn\\base.py:1473: DataConversionWarning: A column-vector y was passed when a 1d array was expected. Please change the shape of y to (n_samples,), for example using ravel().\n",
      "  return fit_method(estimator, *args, **kwargs)\n"
     ]
    },
    {
     "name": "stdout",
     "output_type": "stream",
     "text": [
      "[CV 2/5] END criterion=squared_error, max_depth=1, min_samples_leaf=5, min_samples_split=5, n_estimators=100;, score=-21456679511874.438 total time=   0.1s\n",
      "[CV 3/5] END criterion=squared_error, max_depth=1, min_samples_leaf=5, min_samples_split=5, n_estimators=100;, score=-19702289618458.105 total time=   0.1s\n"
     ]
    },
    {
     "name": "stderr",
     "output_type": "stream",
     "text": [
      "C:\\Users\\jb5983on\\AppData\\Local\\anaconda3\\envs\\polars\\Lib\\site-packages\\sklearn\\base.py:1473: DataConversionWarning: A column-vector y was passed when a 1d array was expected. Please change the shape of y to (n_samples,), for example using ravel().\n",
      "  return fit_method(estimator, *args, **kwargs)\n",
      "C:\\Users\\jb5983on\\AppData\\Local\\anaconda3\\envs\\polars\\Lib\\site-packages\\sklearn\\base.py:1473: DataConversionWarning: A column-vector y was passed when a 1d array was expected. Please change the shape of y to (n_samples,), for example using ravel().\n",
      "  return fit_method(estimator, *args, **kwargs)\n"
     ]
    },
    {
     "name": "stdout",
     "output_type": "stream",
     "text": [
      "[CV 4/5] END criterion=squared_error, max_depth=1, min_samples_leaf=5, min_samples_split=5, n_estimators=100;, score=-19998533769733.832 total time=   0.1s\n",
      "[CV 5/5] END criterion=squared_error, max_depth=1, min_samples_leaf=5, min_samples_split=5, n_estimators=100;, score=-21160212686372.965 total time=   0.0s\n",
      "[CV 1/5] END criterion=squared_error, max_depth=1, min_samples_leaf=5, min_samples_split=10, n_estimators=10;, score=-17887688500676.805 total time=   0.0s\n",
      "[CV 2/5] END criterion=squared_error, max_depth=1, min_samples_leaf=5, min_samples_split=10, n_estimators=10;, score=-21468709270439.477 total time=   0.0s\n"
     ]
    },
    {
     "name": "stderr",
     "output_type": "stream",
     "text": [
      "C:\\Users\\jb5983on\\AppData\\Local\\anaconda3\\envs\\polars\\Lib\\site-packages\\sklearn\\base.py:1473: DataConversionWarning: A column-vector y was passed when a 1d array was expected. Please change the shape of y to (n_samples,), for example using ravel().\n",
      "  return fit_method(estimator, *args, **kwargs)\n",
      "C:\\Users\\jb5983on\\AppData\\Local\\anaconda3\\envs\\polars\\Lib\\site-packages\\sklearn\\base.py:1473: DataConversionWarning: A column-vector y was passed when a 1d array was expected. Please change the shape of y to (n_samples,), for example using ravel().\n",
      "  return fit_method(estimator, *args, **kwargs)\n",
      "C:\\Users\\jb5983on\\AppData\\Local\\anaconda3\\envs\\polars\\Lib\\site-packages\\sklearn\\base.py:1473: DataConversionWarning: A column-vector y was passed when a 1d array was expected. Please change the shape of y to (n_samples,), for example using ravel().\n",
      "  return fit_method(estimator, *args, **kwargs)\n",
      "C:\\Users\\jb5983on\\AppData\\Local\\anaconda3\\envs\\polars\\Lib\\site-packages\\sklearn\\base.py:1473: DataConversionWarning: A column-vector y was passed when a 1d array was expected. Please change the shape of y to (n_samples,), for example using ravel().\n",
      "  return fit_method(estimator, *args, **kwargs)\n"
     ]
    },
    {
     "name": "stdout",
     "output_type": "stream",
     "text": [
      "[CV 3/5] END criterion=squared_error, max_depth=1, min_samples_leaf=5, min_samples_split=10, n_estimators=10;, score=-19708453584008.793 total time=   0.0s\n",
      "[CV 4/5] END criterion=squared_error, max_depth=1, min_samples_leaf=5, min_samples_split=10, n_estimators=10;, score=-20008284594381.273 total time=   0.0s\n",
      "[CV 5/5] END criterion=squared_error, max_depth=1, min_samples_leaf=5, min_samples_split=10, n_estimators=10;, score=-21166992016684.699 total time=   0.0s\n"
     ]
    },
    {
     "name": "stderr",
     "output_type": "stream",
     "text": [
      "C:\\Users\\jb5983on\\AppData\\Local\\anaconda3\\envs\\polars\\Lib\\site-packages\\sklearn\\base.py:1473: DataConversionWarning: A column-vector y was passed when a 1d array was expected. Please change the shape of y to (n_samples,), for example using ravel().\n",
      "  return fit_method(estimator, *args, **kwargs)\n",
      "C:\\Users\\jb5983on\\AppData\\Local\\anaconda3\\envs\\polars\\Lib\\site-packages\\sklearn\\base.py:1473: DataConversionWarning: A column-vector y was passed when a 1d array was expected. Please change the shape of y to (n_samples,), for example using ravel().\n",
      "  return fit_method(estimator, *args, **kwargs)\n",
      "C:\\Users\\jb5983on\\AppData\\Local\\anaconda3\\envs\\polars\\Lib\\site-packages\\sklearn\\base.py:1473: DataConversionWarning: A column-vector y was passed when a 1d array was expected. Please change the shape of y to (n_samples,), for example using ravel().\n",
      "  return fit_method(estimator, *args, **kwargs)\n"
     ]
    },
    {
     "name": "stdout",
     "output_type": "stream",
     "text": [
      "[CV 1/5] END criterion=squared_error, max_depth=1, min_samples_leaf=5, min_samples_split=10, n_estimators=100;, score=-17927812256602.141 total time=   0.1s\n",
      "[CV 2/5] END criterion=squared_error, max_depth=1, min_samples_leaf=5, min_samples_split=10, n_estimators=100;, score=-21439972346765.074 total time=   0.1s\n"
     ]
    },
    {
     "name": "stderr",
     "output_type": "stream",
     "text": [
      "C:\\Users\\jb5983on\\AppData\\Local\\anaconda3\\envs\\polars\\Lib\\site-packages\\sklearn\\base.py:1473: DataConversionWarning: A column-vector y was passed when a 1d array was expected. Please change the shape of y to (n_samples,), for example using ravel().\n",
      "  return fit_method(estimator, *args, **kwargs)\n",
      "C:\\Users\\jb5983on\\AppData\\Local\\anaconda3\\envs\\polars\\Lib\\site-packages\\sklearn\\base.py:1473: DataConversionWarning: A column-vector y was passed when a 1d array was expected. Please change the shape of y to (n_samples,), for example using ravel().\n",
      "  return fit_method(estimator, *args, **kwargs)\n"
     ]
    },
    {
     "name": "stdout",
     "output_type": "stream",
     "text": [
      "[CV 3/5] END criterion=squared_error, max_depth=1, min_samples_leaf=5, min_samples_split=10, n_estimators=100;, score=-19738251887591.352 total time=   0.1s\n",
      "[CV 4/5] END criterion=squared_error, max_depth=1, min_samples_leaf=5, min_samples_split=10, n_estimators=100;, score=-19990040328847.816 total time=   0.1s\n"
     ]
    },
    {
     "name": "stderr",
     "output_type": "stream",
     "text": [
      "C:\\Users\\jb5983on\\AppData\\Local\\anaconda3\\envs\\polars\\Lib\\site-packages\\sklearn\\base.py:1473: DataConversionWarning: A column-vector y was passed when a 1d array was expected. Please change the shape of y to (n_samples,), for example using ravel().\n",
      "  return fit_method(estimator, *args, **kwargs)\n",
      "C:\\Users\\jb5983on\\AppData\\Local\\anaconda3\\envs\\polars\\Lib\\site-packages\\sklearn\\base.py:1473: DataConversionWarning: A column-vector y was passed when a 1d array was expected. Please change the shape of y to (n_samples,), for example using ravel().\n",
      "  return fit_method(estimator, *args, **kwargs)\n"
     ]
    },
    {
     "name": "stdout",
     "output_type": "stream",
     "text": [
      "[CV 5/5] END criterion=squared_error, max_depth=1, min_samples_leaf=5, min_samples_split=10, n_estimators=100;, score=-21158407193982.094 total time=   0.1s\n",
      "[CV 1/5] END criterion=squared_error, max_depth=1, min_samples_leaf=10, min_samples_split=1, n_estimators=10;, score=nan total time=   0.0s\n",
      "[CV 2/5] END criterion=squared_error, max_depth=1, min_samples_leaf=10, min_samples_split=1, n_estimators=10;, score=nan total time=   0.0s\n",
      "[CV 3/5] END criterion=squared_error, max_depth=1, min_samples_leaf=10, min_samples_split=1, n_estimators=10;, score=nan total time=   0.0s\n",
      "[CV 4/5] END criterion=squared_error, max_depth=1, min_samples_leaf=10, min_samples_split=1, n_estimators=10;, score=nan total time=   0.0s\n",
      "[CV 5/5] END criterion=squared_error, max_depth=1, min_samples_leaf=10, min_samples_split=1, n_estimators=10;, score=nan total time=   0.0s\n",
      "[CV 1/5] END criterion=squared_error, max_depth=1, min_samples_leaf=10, min_samples_split=1, n_estimators=100;, score=nan total time=   0.0s\n",
      "[CV 2/5] END criterion=squared_error, max_depth=1, min_samples_leaf=10, min_samples_split=1, n_estimators=100;, score=nan total time=   0.0s\n",
      "[CV 3/5] END criterion=squared_error, max_depth=1, min_samples_leaf=10, min_samples_split=1, n_estimators=100;, score=nan total time=   0.0s\n",
      "[CV 4/5] END criterion=squared_error, max_depth=1, min_samples_leaf=10, min_samples_split=1, n_estimators=100;, score=nan total time=   0.0s\n",
      "[CV 5/5] END criterion=squared_error, max_depth=1, min_samples_leaf=10, min_samples_split=1, n_estimators=100;, score=nan total time=   0.0s\n",
      "[CV 1/5] END criterion=squared_error, max_depth=1, min_samples_leaf=10, min_samples_split=5, n_estimators=10;, score=-17963639736902.832 total time=   0.0s\n",
      "[CV 2/5] END criterion=squared_error, max_depth=1, min_samples_leaf=10, min_samples_split=5, n_estimators=10;, score=-21527226797029.035 total time=   0.0s\n",
      "[CV 3/5] END criterion=squared_error, max_depth=1, min_samples_leaf=10, min_samples_split=5, n_estimators=10;, score=-19674992378790.270 total time=   0.0s\n",
      "[CV 4/5] END criterion=squared_error, max_depth=1, min_samples_leaf=10, min_samples_split=5, n_estimators=10;, score=-19991361594153.730 total time=   0.0s\n"
     ]
    },
    {
     "name": "stderr",
     "output_type": "stream",
     "text": [
      "C:\\Users\\jb5983on\\AppData\\Local\\anaconda3\\envs\\polars\\Lib\\site-packages\\sklearn\\base.py:1473: DataConversionWarning: A column-vector y was passed when a 1d array was expected. Please change the shape of y to (n_samples,), for example using ravel().\n",
      "  return fit_method(estimator, *args, **kwargs)\n",
      "C:\\Users\\jb5983on\\AppData\\Local\\anaconda3\\envs\\polars\\Lib\\site-packages\\sklearn\\base.py:1473: DataConversionWarning: A column-vector y was passed when a 1d array was expected. Please change the shape of y to (n_samples,), for example using ravel().\n",
      "  return fit_method(estimator, *args, **kwargs)\n",
      "C:\\Users\\jb5983on\\AppData\\Local\\anaconda3\\envs\\polars\\Lib\\site-packages\\sklearn\\base.py:1473: DataConversionWarning: A column-vector y was passed when a 1d array was expected. Please change the shape of y to (n_samples,), for example using ravel().\n",
      "  return fit_method(estimator, *args, **kwargs)\n",
      "C:\\Users\\jb5983on\\AppData\\Local\\anaconda3\\envs\\polars\\Lib\\site-packages\\sklearn\\base.py:1473: DataConversionWarning: A column-vector y was passed when a 1d array was expected. Please change the shape of y to (n_samples,), for example using ravel().\n",
      "  return fit_method(estimator, *args, **kwargs)\n",
      "C:\\Users\\jb5983on\\AppData\\Local\\anaconda3\\envs\\polars\\Lib\\site-packages\\sklearn\\base.py:1473: DataConversionWarning: A column-vector y was passed when a 1d array was expected. Please change the shape of y to (n_samples,), for example using ravel().\n",
      "  return fit_method(estimator, *args, **kwargs)\n",
      "C:\\Users\\jb5983on\\AppData\\Local\\anaconda3\\envs\\polars\\Lib\\site-packages\\sklearn\\base.py:1473: DataConversionWarning: A column-vector y was passed when a 1d array was expected. Please change the shape of y to (n_samples,), for example using ravel().\n",
      "  return fit_method(estimator, *args, **kwargs)\n"
     ]
    },
    {
     "name": "stdout",
     "output_type": "stream",
     "text": [
      "[CV 5/5] END criterion=squared_error, max_depth=1, min_samples_leaf=10, min_samples_split=5, n_estimators=10;, score=-21151624257714.957 total time=   0.0s\n",
      "[CV 1/5] END criterion=squared_error, max_depth=1, min_samples_leaf=10, min_samples_split=5, n_estimators=100;, score=-17923428889589.324 total time=   0.1s\n"
     ]
    },
    {
     "name": "stderr",
     "output_type": "stream",
     "text": [
      "C:\\Users\\jb5983on\\AppData\\Local\\anaconda3\\envs\\polars\\Lib\\site-packages\\sklearn\\base.py:1473: DataConversionWarning: A column-vector y was passed when a 1d array was expected. Please change the shape of y to (n_samples,), for example using ravel().\n",
      "  return fit_method(estimator, *args, **kwargs)\n",
      "C:\\Users\\jb5983on\\AppData\\Local\\anaconda3\\envs\\polars\\Lib\\site-packages\\sklearn\\base.py:1473: DataConversionWarning: A column-vector y was passed when a 1d array was expected. Please change the shape of y to (n_samples,), for example using ravel().\n",
      "  return fit_method(estimator, *args, **kwargs)\n"
     ]
    },
    {
     "name": "stdout",
     "output_type": "stream",
     "text": [
      "[CV 2/5] END criterion=squared_error, max_depth=1, min_samples_leaf=10, min_samples_split=5, n_estimators=100;, score=-21430982098223.309 total time=   0.1s\n",
      "[CV 3/5] END criterion=squared_error, max_depth=1, min_samples_leaf=10, min_samples_split=5, n_estimators=100;, score=-19703954737798.727 total time=   0.1s\n",
      "[CV 4/5] END criterion=squared_error, max_depth=1, min_samples_leaf=10, min_samples_split=5, n_estimators=100;, score=-19994806269885.496 total time=   0.0s\n"
     ]
    },
    {
     "name": "stderr",
     "output_type": "stream",
     "text": [
      "C:\\Users\\jb5983on\\AppData\\Local\\anaconda3\\envs\\polars\\Lib\\site-packages\\sklearn\\base.py:1473: DataConversionWarning: A column-vector y was passed when a 1d array was expected. Please change the shape of y to (n_samples,), for example using ravel().\n",
      "  return fit_method(estimator, *args, **kwargs)\n",
      "C:\\Users\\jb5983on\\AppData\\Local\\anaconda3\\envs\\polars\\Lib\\site-packages\\sklearn\\base.py:1473: DataConversionWarning: A column-vector y was passed when a 1d array was expected. Please change the shape of y to (n_samples,), for example using ravel().\n",
      "  return fit_method(estimator, *args, **kwargs)\n"
     ]
    },
    {
     "name": "stdout",
     "output_type": "stream",
     "text": [
      "[CV 5/5] END criterion=squared_error, max_depth=1, min_samples_leaf=10, min_samples_split=5, n_estimators=100;, score=-21160976858414.984 total time=   0.1s\n",
      "[CV 1/5] END criterion=squared_error, max_depth=1, min_samples_leaf=10, min_samples_split=10, n_estimators=10;, score=-18026056017241.660 total time=   0.0s\n",
      "[CV 2/5] END criterion=squared_error, max_depth=1, min_samples_leaf=10, min_samples_split=10, n_estimators=10;, score=-21432832389728.320 total time=   0.0s\n",
      "[CV 3/5] END criterion=squared_error, max_depth=1, min_samples_leaf=10, min_samples_split=10, n_estimators=10;, score=-19768186688637.262 total time=   0.0s\n",
      "[CV 4/5] END criterion=squared_error, max_depth=1, min_samples_leaf=10, min_samples_split=10, n_estimators=10;, score=-19997584464842.945 total time=   0.0s\n",
      "[CV 5/5] END criterion=squared_error, max_depth=1, min_samples_leaf=10, min_samples_split=10, n_estimators=10;, score=-21150308386958.207 total time=   0.0s\n"
     ]
    },
    {
     "name": "stderr",
     "output_type": "stream",
     "text": [
      "C:\\Users\\jb5983on\\AppData\\Local\\anaconda3\\envs\\polars\\Lib\\site-packages\\sklearn\\base.py:1473: DataConversionWarning: A column-vector y was passed when a 1d array was expected. Please change the shape of y to (n_samples,), for example using ravel().\n",
      "  return fit_method(estimator, *args, **kwargs)\n",
      "C:\\Users\\jb5983on\\AppData\\Local\\anaconda3\\envs\\polars\\Lib\\site-packages\\sklearn\\base.py:1473: DataConversionWarning: A column-vector y was passed when a 1d array was expected. Please change the shape of y to (n_samples,), for example using ravel().\n",
      "  return fit_method(estimator, *args, **kwargs)\n",
      "C:\\Users\\jb5983on\\AppData\\Local\\anaconda3\\envs\\polars\\Lib\\site-packages\\sklearn\\base.py:1473: DataConversionWarning: A column-vector y was passed when a 1d array was expected. Please change the shape of y to (n_samples,), for example using ravel().\n",
      "  return fit_method(estimator, *args, **kwargs)\n",
      "C:\\Users\\jb5983on\\AppData\\Local\\anaconda3\\envs\\polars\\Lib\\site-packages\\sklearn\\base.py:1473: DataConversionWarning: A column-vector y was passed when a 1d array was expected. Please change the shape of y to (n_samples,), for example using ravel().\n",
      "  return fit_method(estimator, *args, **kwargs)\n",
      "C:\\Users\\jb5983on\\AppData\\Local\\anaconda3\\envs\\polars\\Lib\\site-packages\\sklearn\\base.py:1473: DataConversionWarning: A column-vector y was passed when a 1d array was expected. Please change the shape of y to (n_samples,), for example using ravel().\n",
      "  return fit_method(estimator, *args, **kwargs)\n",
      "C:\\Users\\jb5983on\\AppData\\Local\\anaconda3\\envs\\polars\\Lib\\site-packages\\sklearn\\base.py:1473: DataConversionWarning: A column-vector y was passed when a 1d array was expected. Please change the shape of y to (n_samples,), for example using ravel().\n",
      "  return fit_method(estimator, *args, **kwargs)\n"
     ]
    },
    {
     "name": "stdout",
     "output_type": "stream",
     "text": [
      "[CV 1/5] END criterion=squared_error, max_depth=1, min_samples_leaf=10, min_samples_split=10, n_estimators=100;, score=-17921126115105.082 total time=   0.1s\n",
      "[CV 2/5] END criterion=squared_error, max_depth=1, min_samples_leaf=10, min_samples_split=10, n_estimators=100;, score=-21443884799421.340 total time=   0.1s\n"
     ]
    },
    {
     "name": "stderr",
     "output_type": "stream",
     "text": [
      "C:\\Users\\jb5983on\\AppData\\Local\\anaconda3\\envs\\polars\\Lib\\site-packages\\sklearn\\base.py:1473: DataConversionWarning: A column-vector y was passed when a 1d array was expected. Please change the shape of y to (n_samples,), for example using ravel().\n",
      "  return fit_method(estimator, *args, **kwargs)\n",
      "C:\\Users\\jb5983on\\AppData\\Local\\anaconda3\\envs\\polars\\Lib\\site-packages\\sklearn\\base.py:1473: DataConversionWarning: A column-vector y was passed when a 1d array was expected. Please change the shape of y to (n_samples,), for example using ravel().\n",
      "  return fit_method(estimator, *args, **kwargs)\n"
     ]
    },
    {
     "name": "stdout",
     "output_type": "stream",
     "text": [
      "[CV 3/5] END criterion=squared_error, max_depth=1, min_samples_leaf=10, min_samples_split=10, n_estimators=100;, score=-19727703529184.637 total time=   0.1s\n",
      "[CV 4/5] END criterion=squared_error, max_depth=1, min_samples_leaf=10, min_samples_split=10, n_estimators=100;, score=-20002708877691.840 total time=   0.1s\n"
     ]
    },
    {
     "name": "stderr",
     "output_type": "stream",
     "text": [
      "C:\\Users\\jb5983on\\AppData\\Local\\anaconda3\\envs\\polars\\Lib\\site-packages\\sklearn\\base.py:1473: DataConversionWarning: A column-vector y was passed when a 1d array was expected. Please change the shape of y to (n_samples,), for example using ravel().\n",
      "  return fit_method(estimator, *args, **kwargs)\n",
      "C:\\Users\\jb5983on\\AppData\\Local\\anaconda3\\envs\\polars\\Lib\\site-packages\\sklearn\\base.py:1473: DataConversionWarning: A column-vector y was passed when a 1d array was expected. Please change the shape of y to (n_samples,), for example using ravel().\n",
      "  return fit_method(estimator, *args, **kwargs)\n"
     ]
    },
    {
     "name": "stdout",
     "output_type": "stream",
     "text": [
      "[CV 5/5] END criterion=squared_error, max_depth=1, min_samples_leaf=10, min_samples_split=10, n_estimators=100;, score=-21167934518917.758 total time=   0.1s\n",
      "[CV 1/5] END criterion=squared_error, max_depth=2, min_samples_leaf=1, min_samples_split=1, n_estimators=10;, score=nan total time=   0.0s\n",
      "[CV 2/5] END criterion=squared_error, max_depth=2, min_samples_leaf=1, min_samples_split=1, n_estimators=10;, score=nan total time=   0.0s\n",
      "[CV 3/5] END criterion=squared_error, max_depth=2, min_samples_leaf=1, min_samples_split=1, n_estimators=10;, score=nan total time=   0.0s\n",
      "[CV 4/5] END criterion=squared_error, max_depth=2, min_samples_leaf=1, min_samples_split=1, n_estimators=10;, score=nan total time=   0.0s\n",
      "[CV 5/5] END criterion=squared_error, max_depth=2, min_samples_leaf=1, min_samples_split=1, n_estimators=10;, score=nan total time=   0.0s\n",
      "[CV 1/5] END criterion=squared_error, max_depth=2, min_samples_leaf=1, min_samples_split=1, n_estimators=100;, score=nan total time=   0.0s\n",
      "[CV 2/5] END criterion=squared_error, max_depth=2, min_samples_leaf=1, min_samples_split=1, n_estimators=100;, score=nan total time=   0.0s\n",
      "[CV 3/5] END criterion=squared_error, max_depth=2, min_samples_leaf=1, min_samples_split=1, n_estimators=100;, score=nan total time=   0.0s\n",
      "[CV 4/5] END criterion=squared_error, max_depth=2, min_samples_leaf=1, min_samples_split=1, n_estimators=100;, score=nan total time=   0.0s\n",
      "[CV 5/5] END criterion=squared_error, max_depth=2, min_samples_leaf=1, min_samples_split=1, n_estimators=100;, score=nan total time=   0.0s\n",
      "[CV 1/5] END criterion=squared_error, max_depth=2, min_samples_leaf=1, min_samples_split=5, n_estimators=10;, score=-17777623336077.441 total time=   0.0s\n",
      "[CV 2/5] END criterion=squared_error, max_depth=2, min_samples_leaf=1, min_samples_split=5, n_estimators=10;, score=-21026147717521.977 total time=   0.0s\n",
      "[CV 3/5] END criterion=squared_error, max_depth=2, min_samples_leaf=1, min_samples_split=5, n_estimators=10;, score=-19539585661332.750 total time=   0.0s\n",
      "[CV 4/5] END criterion=squared_error, max_depth=2, min_samples_leaf=1, min_samples_split=5, n_estimators=10;, score=-19658664297241.305 total time=   0.0s\n",
      "[CV 5/5] END criterion=squared_error, max_depth=2, min_samples_leaf=1, min_samples_split=5, n_estimators=10;, score=-21026409592333.785 total time=   0.0s\n"
     ]
    },
    {
     "name": "stderr",
     "output_type": "stream",
     "text": [
      "C:\\Users\\jb5983on\\AppData\\Local\\anaconda3\\envs\\polars\\Lib\\site-packages\\sklearn\\base.py:1473: DataConversionWarning: A column-vector y was passed when a 1d array was expected. Please change the shape of y to (n_samples,), for example using ravel().\n",
      "  return fit_method(estimator, *args, **kwargs)\n",
      "C:\\Users\\jb5983on\\AppData\\Local\\anaconda3\\envs\\polars\\Lib\\site-packages\\sklearn\\base.py:1473: DataConversionWarning: A column-vector y was passed when a 1d array was expected. Please change the shape of y to (n_samples,), for example using ravel().\n",
      "  return fit_method(estimator, *args, **kwargs)\n",
      "C:\\Users\\jb5983on\\AppData\\Local\\anaconda3\\envs\\polars\\Lib\\site-packages\\sklearn\\base.py:1473: DataConversionWarning: A column-vector y was passed when a 1d array was expected. Please change the shape of y to (n_samples,), for example using ravel().\n",
      "  return fit_method(estimator, *args, **kwargs)\n",
      "C:\\Users\\jb5983on\\AppData\\Local\\anaconda3\\envs\\polars\\Lib\\site-packages\\sklearn\\base.py:1473: DataConversionWarning: A column-vector y was passed when a 1d array was expected. Please change the shape of y to (n_samples,), for example using ravel().\n",
      "  return fit_method(estimator, *args, **kwargs)\n",
      "C:\\Users\\jb5983on\\AppData\\Local\\anaconda3\\envs\\polars\\Lib\\site-packages\\sklearn\\base.py:1473: DataConversionWarning: A column-vector y was passed when a 1d array was expected. Please change the shape of y to (n_samples,), for example using ravel().\n",
      "  return fit_method(estimator, *args, **kwargs)\n",
      "C:\\Users\\jb5983on\\AppData\\Local\\anaconda3\\envs\\polars\\Lib\\site-packages\\sklearn\\base.py:1473: DataConversionWarning: A column-vector y was passed when a 1d array was expected. Please change the shape of y to (n_samples,), for example using ravel().\n",
      "  return fit_method(estimator, *args, **kwargs)\n"
     ]
    },
    {
     "name": "stdout",
     "output_type": "stream",
     "text": [
      "[CV 1/5] END criterion=squared_error, max_depth=2, min_samples_leaf=1, min_samples_split=5, n_estimators=100;, score=-17691634423607.617 total time=   0.1s\n",
      "[CV 2/5] END criterion=squared_error, max_depth=2, min_samples_leaf=1, min_samples_split=5, n_estimators=100;, score=-21009257106399.609 total time=   0.1s\n"
     ]
    },
    {
     "name": "stderr",
     "output_type": "stream",
     "text": [
      "C:\\Users\\jb5983on\\AppData\\Local\\anaconda3\\envs\\polars\\Lib\\site-packages\\sklearn\\base.py:1473: DataConversionWarning: A column-vector y was passed when a 1d array was expected. Please change the shape of y to (n_samples,), for example using ravel().\n",
      "  return fit_method(estimator, *args, **kwargs)\n",
      "C:\\Users\\jb5983on\\AppData\\Local\\anaconda3\\envs\\polars\\Lib\\site-packages\\sklearn\\base.py:1473: DataConversionWarning: A column-vector y was passed when a 1d array was expected. Please change the shape of y to (n_samples,), for example using ravel().\n",
      "  return fit_method(estimator, *args, **kwargs)\n"
     ]
    },
    {
     "name": "stdout",
     "output_type": "stream",
     "text": [
      "[CV 3/5] END criterion=squared_error, max_depth=2, min_samples_leaf=1, min_samples_split=5, n_estimators=100;, score=-19516336137132.973 total time=   0.1s\n",
      "[CV 4/5] END criterion=squared_error, max_depth=2, min_samples_leaf=1, min_samples_split=5, n_estimators=100;, score=-19631363099872.309 total time=   0.1s\n"
     ]
    },
    {
     "name": "stderr",
     "output_type": "stream",
     "text": [
      "C:\\Users\\jb5983on\\AppData\\Local\\anaconda3\\envs\\polars\\Lib\\site-packages\\sklearn\\base.py:1473: DataConversionWarning: A column-vector y was passed when a 1d array was expected. Please change the shape of y to (n_samples,), for example using ravel().\n",
      "  return fit_method(estimator, *args, **kwargs)\n",
      "C:\\Users\\jb5983on\\AppData\\Local\\anaconda3\\envs\\polars\\Lib\\site-packages\\sklearn\\base.py:1473: DataConversionWarning: A column-vector y was passed when a 1d array was expected. Please change the shape of y to (n_samples,), for example using ravel().\n",
      "  return fit_method(estimator, *args, **kwargs)\n"
     ]
    },
    {
     "name": "stdout",
     "output_type": "stream",
     "text": [
      "[CV 5/5] END criterion=squared_error, max_depth=2, min_samples_leaf=1, min_samples_split=5, n_estimators=100;, score=-20933123057655.945 total time=   0.1s\n",
      "[CV 1/5] END criterion=squared_error, max_depth=2, min_samples_leaf=1, min_samples_split=10, n_estimators=10;, score=-17701397454024.219 total time=   0.0s\n",
      "[CV 2/5] END criterion=squared_error, max_depth=2, min_samples_leaf=1, min_samples_split=10, n_estimators=10;, score=-21019712645516.645 total time=   0.0s\n",
      "[CV 3/5] END criterion=squared_error, max_depth=2, min_samples_leaf=1, min_samples_split=10, n_estimators=10;, score=-19462408764860.293 total time=   0.0s\n",
      "[CV 4/5] END criterion=squared_error, max_depth=2, min_samples_leaf=1, min_samples_split=10, n_estimators=10;, score=-19648929795032.426 total time=   0.0s\n",
      "[CV 5/5] END criterion=squared_error, max_depth=2, min_samples_leaf=1, min_samples_split=10, n_estimators=10;, score=-20979467394332.840 total time=   0.0s\n"
     ]
    },
    {
     "name": "stderr",
     "output_type": "stream",
     "text": [
      "C:\\Users\\jb5983on\\AppData\\Local\\anaconda3\\envs\\polars\\Lib\\site-packages\\sklearn\\base.py:1473: DataConversionWarning: A column-vector y was passed when a 1d array was expected. Please change the shape of y to (n_samples,), for example using ravel().\n",
      "  return fit_method(estimator, *args, **kwargs)\n",
      "C:\\Users\\jb5983on\\AppData\\Local\\anaconda3\\envs\\polars\\Lib\\site-packages\\sklearn\\base.py:1473: DataConversionWarning: A column-vector y was passed when a 1d array was expected. Please change the shape of y to (n_samples,), for example using ravel().\n",
      "  return fit_method(estimator, *args, **kwargs)\n",
      "C:\\Users\\jb5983on\\AppData\\Local\\anaconda3\\envs\\polars\\Lib\\site-packages\\sklearn\\base.py:1473: DataConversionWarning: A column-vector y was passed when a 1d array was expected. Please change the shape of y to (n_samples,), for example using ravel().\n",
      "  return fit_method(estimator, *args, **kwargs)\n",
      "C:\\Users\\jb5983on\\AppData\\Local\\anaconda3\\envs\\polars\\Lib\\site-packages\\sklearn\\base.py:1473: DataConversionWarning: A column-vector y was passed when a 1d array was expected. Please change the shape of y to (n_samples,), for example using ravel().\n",
      "  return fit_method(estimator, *args, **kwargs)\n",
      "C:\\Users\\jb5983on\\AppData\\Local\\anaconda3\\envs\\polars\\Lib\\site-packages\\sklearn\\base.py:1473: DataConversionWarning: A column-vector y was passed when a 1d array was expected. Please change the shape of y to (n_samples,), for example using ravel().\n",
      "  return fit_method(estimator, *args, **kwargs)\n",
      "C:\\Users\\jb5983on\\AppData\\Local\\anaconda3\\envs\\polars\\Lib\\site-packages\\sklearn\\base.py:1473: DataConversionWarning: A column-vector y was passed when a 1d array was expected. Please change the shape of y to (n_samples,), for example using ravel().\n",
      "  return fit_method(estimator, *args, **kwargs)\n"
     ]
    },
    {
     "name": "stdout",
     "output_type": "stream",
     "text": [
      "[CV 1/5] END criterion=squared_error, max_depth=2, min_samples_leaf=1, min_samples_split=10, n_estimators=100;, score=-17706357797408.734 total time=   0.1s\n",
      "[CV 2/5] END criterion=squared_error, max_depth=2, min_samples_leaf=1, min_samples_split=10, n_estimators=100;, score=-21000254131369.723 total time=   0.0s\n"
     ]
    },
    {
     "name": "stderr",
     "output_type": "stream",
     "text": [
      "C:\\Users\\jb5983on\\AppData\\Local\\anaconda3\\envs\\polars\\Lib\\site-packages\\sklearn\\base.py:1473: DataConversionWarning: A column-vector y was passed when a 1d array was expected. Please change the shape of y to (n_samples,), for example using ravel().\n",
      "  return fit_method(estimator, *args, **kwargs)\n",
      "C:\\Users\\jb5983on\\AppData\\Local\\anaconda3\\envs\\polars\\Lib\\site-packages\\sklearn\\base.py:1473: DataConversionWarning: A column-vector y was passed when a 1d array was expected. Please change the shape of y to (n_samples,), for example using ravel().\n",
      "  return fit_method(estimator, *args, **kwargs)\n"
     ]
    },
    {
     "name": "stdout",
     "output_type": "stream",
     "text": [
      "[CV 3/5] END criterion=squared_error, max_depth=2, min_samples_leaf=1, min_samples_split=10, n_estimators=100;, score=-19538606376677.555 total time=   0.1s\n",
      "[CV 4/5] END criterion=squared_error, max_depth=2, min_samples_leaf=1, min_samples_split=10, n_estimators=100;, score=-19634460872770.367 total time=   0.1s\n"
     ]
    },
    {
     "name": "stderr",
     "output_type": "stream",
     "text": [
      "C:\\Users\\jb5983on\\AppData\\Local\\anaconda3\\envs\\polars\\Lib\\site-packages\\sklearn\\base.py:1473: DataConversionWarning: A column-vector y was passed when a 1d array was expected. Please change the shape of y to (n_samples,), for example using ravel().\n",
      "  return fit_method(estimator, *args, **kwargs)\n",
      "C:\\Users\\jb5983on\\AppData\\Local\\anaconda3\\envs\\polars\\Lib\\site-packages\\sklearn\\base.py:1473: DataConversionWarning: A column-vector y was passed when a 1d array was expected. Please change the shape of y to (n_samples,), for example using ravel().\n",
      "  return fit_method(estimator, *args, **kwargs)\n"
     ]
    },
    {
     "name": "stdout",
     "output_type": "stream",
     "text": [
      "[CV 5/5] END criterion=squared_error, max_depth=2, min_samples_leaf=1, min_samples_split=10, n_estimators=100;, score=-20939991199125.898 total time=   0.1s\n",
      "[CV 1/5] END criterion=squared_error, max_depth=2, min_samples_leaf=5, min_samples_split=1, n_estimators=10;, score=nan total time=   0.0s\n",
      "[CV 2/5] END criterion=squared_error, max_depth=2, min_samples_leaf=5, min_samples_split=1, n_estimators=10;, score=nan total time=   0.0s\n",
      "[CV 3/5] END criterion=squared_error, max_depth=2, min_samples_leaf=5, min_samples_split=1, n_estimators=10;, score=nan total time=   0.0s\n",
      "[CV 4/5] END criterion=squared_error, max_depth=2, min_samples_leaf=5, min_samples_split=1, n_estimators=10;, score=nan total time=   0.0s\n",
      "[CV 5/5] END criterion=squared_error, max_depth=2, min_samples_leaf=5, min_samples_split=1, n_estimators=10;, score=nan total time=   0.0s\n",
      "[CV 1/5] END criterion=squared_error, max_depth=2, min_samples_leaf=5, min_samples_split=1, n_estimators=100;, score=nan total time=   0.0s\n",
      "[CV 2/5] END criterion=squared_error, max_depth=2, min_samples_leaf=5, min_samples_split=1, n_estimators=100;, score=nan total time=   0.0s\n",
      "[CV 3/5] END criterion=squared_error, max_depth=2, min_samples_leaf=5, min_samples_split=1, n_estimators=100;, score=nan total time=   0.0s\n",
      "[CV 4/5] END criterion=squared_error, max_depth=2, min_samples_leaf=5, min_samples_split=1, n_estimators=100;, score=nan total time=   0.0s\n",
      "[CV 5/5] END criterion=squared_error, max_depth=2, min_samples_leaf=5, min_samples_split=1, n_estimators=100;, score=nan total time=   0.0s\n",
      "[CV 1/5] END criterion=squared_error, max_depth=2, min_samples_leaf=5, min_samples_split=5, n_estimators=10;, score=-17712495662014.508 total time=   0.0s\n",
      "[CV 2/5] END criterion=squared_error, max_depth=2, min_samples_leaf=5, min_samples_split=5, n_estimators=10;, score=-20972507342171.891 total time=   0.0s\n",
      "[CV 3/5] END criterion=squared_error, max_depth=2, min_samples_leaf=5, min_samples_split=5, n_estimators=10;, score=-19561488943622.621 total time=   0.0s\n",
      "[CV 4/5] END criterion=squared_error, max_depth=2, min_samples_leaf=5, min_samples_split=5, n_estimators=10;, score=-19654687292853.781 total time=   0.0s\n"
     ]
    },
    {
     "name": "stderr",
     "output_type": "stream",
     "text": [
      "C:\\Users\\jb5983on\\AppData\\Local\\anaconda3\\envs\\polars\\Lib\\site-packages\\sklearn\\base.py:1473: DataConversionWarning: A column-vector y was passed when a 1d array was expected. Please change the shape of y to (n_samples,), for example using ravel().\n",
      "  return fit_method(estimator, *args, **kwargs)\n",
      "C:\\Users\\jb5983on\\AppData\\Local\\anaconda3\\envs\\polars\\Lib\\site-packages\\sklearn\\base.py:1473: DataConversionWarning: A column-vector y was passed when a 1d array was expected. Please change the shape of y to (n_samples,), for example using ravel().\n",
      "  return fit_method(estimator, *args, **kwargs)\n",
      "C:\\Users\\jb5983on\\AppData\\Local\\anaconda3\\envs\\polars\\Lib\\site-packages\\sklearn\\base.py:1473: DataConversionWarning: A column-vector y was passed when a 1d array was expected. Please change the shape of y to (n_samples,), for example using ravel().\n",
      "  return fit_method(estimator, *args, **kwargs)\n",
      "C:\\Users\\jb5983on\\AppData\\Local\\anaconda3\\envs\\polars\\Lib\\site-packages\\sklearn\\base.py:1473: DataConversionWarning: A column-vector y was passed when a 1d array was expected. Please change the shape of y to (n_samples,), for example using ravel().\n",
      "  return fit_method(estimator, *args, **kwargs)\n",
      "C:\\Users\\jb5983on\\AppData\\Local\\anaconda3\\envs\\polars\\Lib\\site-packages\\sklearn\\base.py:1473: DataConversionWarning: A column-vector y was passed when a 1d array was expected. Please change the shape of y to (n_samples,), for example using ravel().\n",
      "  return fit_method(estimator, *args, **kwargs)\n",
      "C:\\Users\\jb5983on\\AppData\\Local\\anaconda3\\envs\\polars\\Lib\\site-packages\\sklearn\\base.py:1473: DataConversionWarning: A column-vector y was passed when a 1d array was expected. Please change the shape of y to (n_samples,), for example using ravel().\n",
      "  return fit_method(estimator, *args, **kwargs)\n"
     ]
    },
    {
     "name": "stdout",
     "output_type": "stream",
     "text": [
      "[CV 5/5] END criterion=squared_error, max_depth=2, min_samples_leaf=5, min_samples_split=5, n_estimators=10;, score=-20912109042411.969 total time=   0.0s\n",
      "[CV 1/5] END criterion=squared_error, max_depth=2, min_samples_leaf=5, min_samples_split=5, n_estimators=100;, score=-17682471012938.727 total time=   0.1s\n"
     ]
    },
    {
     "name": "stderr",
     "output_type": "stream",
     "text": [
      "C:\\Users\\jb5983on\\AppData\\Local\\anaconda3\\envs\\polars\\Lib\\site-packages\\sklearn\\base.py:1473: DataConversionWarning: A column-vector y was passed when a 1d array was expected. Please change the shape of y to (n_samples,), for example using ravel().\n",
      "  return fit_method(estimator, *args, **kwargs)\n",
      "C:\\Users\\jb5983on\\AppData\\Local\\anaconda3\\envs\\polars\\Lib\\site-packages\\sklearn\\base.py:1473: DataConversionWarning: A column-vector y was passed when a 1d array was expected. Please change the shape of y to (n_samples,), for example using ravel().\n",
      "  return fit_method(estimator, *args, **kwargs)\n"
     ]
    },
    {
     "name": "stdout",
     "output_type": "stream",
     "text": [
      "[CV 2/5] END criterion=squared_error, max_depth=2, min_samples_leaf=5, min_samples_split=5, n_estimators=100;, score=-21007336023941.863 total time=   0.1s\n",
      "[CV 3/5] END criterion=squared_error, max_depth=2, min_samples_leaf=5, min_samples_split=5, n_estimators=100;, score=-19524687052974.875 total time=   0.1s\n"
     ]
    },
    {
     "name": "stderr",
     "output_type": "stream",
     "text": [
      "C:\\Users\\jb5983on\\AppData\\Local\\anaconda3\\envs\\polars\\Lib\\site-packages\\sklearn\\base.py:1473: DataConversionWarning: A column-vector y was passed when a 1d array was expected. Please change the shape of y to (n_samples,), for example using ravel().\n",
      "  return fit_method(estimator, *args, **kwargs)\n"
     ]
    },
    {
     "name": "stdout",
     "output_type": "stream",
     "text": [
      "[CV 4/5] END criterion=squared_error, max_depth=2, min_samples_leaf=5, min_samples_split=5, n_estimators=100;, score=-19619816543443.949 total time=   0.1s\n",
      "[CV 5/5] END criterion=squared_error, max_depth=2, min_samples_leaf=5, min_samples_split=5, n_estimators=100;, score=-20902462386868.422 total time=   0.1s\n",
      "[CV 1/5] END criterion=squared_error, max_depth=2, min_samples_leaf=5, min_samples_split=10, n_estimators=10;, score=-17722157994510.738 total time=   0.0s\n"
     ]
    },
    {
     "name": "stderr",
     "output_type": "stream",
     "text": [
      "C:\\Users\\jb5983on\\AppData\\Local\\anaconda3\\envs\\polars\\Lib\\site-packages\\sklearn\\base.py:1473: DataConversionWarning: A column-vector y was passed when a 1d array was expected. Please change the shape of y to (n_samples,), for example using ravel().\n",
      "  return fit_method(estimator, *args, **kwargs)\n",
      "C:\\Users\\jb5983on\\AppData\\Local\\anaconda3\\envs\\polars\\Lib\\site-packages\\sklearn\\base.py:1473: DataConversionWarning: A column-vector y was passed when a 1d array was expected. Please change the shape of y to (n_samples,), for example using ravel().\n",
      "  return fit_method(estimator, *args, **kwargs)\n",
      "C:\\Users\\jb5983on\\AppData\\Local\\anaconda3\\envs\\polars\\Lib\\site-packages\\sklearn\\base.py:1473: DataConversionWarning: A column-vector y was passed when a 1d array was expected. Please change the shape of y to (n_samples,), for example using ravel().\n",
      "  return fit_method(estimator, *args, **kwargs)\n"
     ]
    },
    {
     "name": "stdout",
     "output_type": "stream",
     "text": [
      "[CV 2/5] END criterion=squared_error, max_depth=2, min_samples_leaf=5, min_samples_split=10, n_estimators=10;, score=-21044006815495.211 total time=   0.0s\n",
      "[CV 3/5] END criterion=squared_error, max_depth=2, min_samples_leaf=5, min_samples_split=10, n_estimators=10;, score=-19577781750845.098 total time=   0.0s\n",
      "[CV 4/5] END criterion=squared_error, max_depth=2, min_samples_leaf=5, min_samples_split=10, n_estimators=10;, score=-19586877584684.059 total time=   0.0s\n",
      "[CV 5/5] END criterion=squared_error, max_depth=2, min_samples_leaf=5, min_samples_split=10, n_estimators=10;, score=-20916849061572.801 total time=   0.0s\n"
     ]
    },
    {
     "name": "stderr",
     "output_type": "stream",
     "text": [
      "C:\\Users\\jb5983on\\AppData\\Local\\anaconda3\\envs\\polars\\Lib\\site-packages\\sklearn\\base.py:1473: DataConversionWarning: A column-vector y was passed when a 1d array was expected. Please change the shape of y to (n_samples,), for example using ravel().\n",
      "  return fit_method(estimator, *args, **kwargs)\n",
      "C:\\Users\\jb5983on\\AppData\\Local\\anaconda3\\envs\\polars\\Lib\\site-packages\\sklearn\\base.py:1473: DataConversionWarning: A column-vector y was passed when a 1d array was expected. Please change the shape of y to (n_samples,), for example using ravel().\n",
      "  return fit_method(estimator, *args, **kwargs)\n",
      "C:\\Users\\jb5983on\\AppData\\Local\\anaconda3\\envs\\polars\\Lib\\site-packages\\sklearn\\base.py:1473: DataConversionWarning: A column-vector y was passed when a 1d array was expected. Please change the shape of y to (n_samples,), for example using ravel().\n",
      "  return fit_method(estimator, *args, **kwargs)\n",
      "C:\\Users\\jb5983on\\AppData\\Local\\anaconda3\\envs\\polars\\Lib\\site-packages\\sklearn\\base.py:1473: DataConversionWarning: A column-vector y was passed when a 1d array was expected. Please change the shape of y to (n_samples,), for example using ravel().\n",
      "  return fit_method(estimator, *args, **kwargs)\n"
     ]
    },
    {
     "name": "stdout",
     "output_type": "stream",
     "text": [
      "[CV 1/5] END criterion=squared_error, max_depth=2, min_samples_leaf=5, min_samples_split=10, n_estimators=100;, score=-17693100683711.059 total time=   0.1s\n",
      "[CV 2/5] END criterion=squared_error, max_depth=2, min_samples_leaf=5, min_samples_split=10, n_estimators=100;, score=-20999218639768.312 total time=   0.1s\n"
     ]
    },
    {
     "name": "stderr",
     "output_type": "stream",
     "text": [
      "C:\\Users\\jb5983on\\AppData\\Local\\anaconda3\\envs\\polars\\Lib\\site-packages\\sklearn\\base.py:1473: DataConversionWarning: A column-vector y was passed when a 1d array was expected. Please change the shape of y to (n_samples,), for example using ravel().\n",
      "  return fit_method(estimator, *args, **kwargs)\n",
      "C:\\Users\\jb5983on\\AppData\\Local\\anaconda3\\envs\\polars\\Lib\\site-packages\\sklearn\\base.py:1473: DataConversionWarning: A column-vector y was passed when a 1d array was expected. Please change the shape of y to (n_samples,), for example using ravel().\n",
      "  return fit_method(estimator, *args, **kwargs)\n"
     ]
    },
    {
     "name": "stdout",
     "output_type": "stream",
     "text": [
      "[CV 3/5] END criterion=squared_error, max_depth=2, min_samples_leaf=5, min_samples_split=10, n_estimators=100;, score=-19524258830827.941 total time=   0.1s\n"
     ]
    },
    {
     "name": "stderr",
     "output_type": "stream",
     "text": [
      "C:\\Users\\jb5983on\\AppData\\Local\\anaconda3\\envs\\polars\\Lib\\site-packages\\sklearn\\base.py:1473: DataConversionWarning: A column-vector y was passed when a 1d array was expected. Please change the shape of y to (n_samples,), for example using ravel().\n",
      "  return fit_method(estimator, *args, **kwargs)\n"
     ]
    },
    {
     "name": "stdout",
     "output_type": "stream",
     "text": [
      "[CV 4/5] END criterion=squared_error, max_depth=2, min_samples_leaf=5, min_samples_split=10, n_estimators=100;, score=-19640455731116.684 total time=   0.1s\n",
      "[CV 5/5] END criterion=squared_error, max_depth=2, min_samples_leaf=5, min_samples_split=10, n_estimators=100;, score=-20913622596344.098 total time=   0.1s\n",
      "[CV 1/5] END criterion=squared_error, max_depth=2, min_samples_leaf=10, min_samples_split=1, n_estimators=10;, score=nan total time=   0.0s\n",
      "[CV 2/5] END criterion=squared_error, max_depth=2, min_samples_leaf=10, min_samples_split=1, n_estimators=10;, score=nan total time=   0.0s\n",
      "[CV 3/5] END criterion=squared_error, max_depth=2, min_samples_leaf=10, min_samples_split=1, n_estimators=10;, score=nan total time=   0.0s\n",
      "[CV 4/5] END criterion=squared_error, max_depth=2, min_samples_leaf=10, min_samples_split=1, n_estimators=10;, score=nan total time=   0.0s\n",
      "[CV 5/5] END criterion=squared_error, max_depth=2, min_samples_leaf=10, min_samples_split=1, n_estimators=10;, score=nan total time=   0.0s\n",
      "[CV 1/5] END criterion=squared_error, max_depth=2, min_samples_leaf=10, min_samples_split=1, n_estimators=100;, score=nan total time=   0.0s\n",
      "[CV 2/5] END criterion=squared_error, max_depth=2, min_samples_leaf=10, min_samples_split=1, n_estimators=100;, score=nan total time=   0.0s\n",
      "[CV 3/5] END criterion=squared_error, max_depth=2, min_samples_leaf=10, min_samples_split=1, n_estimators=100;, score=nan total time=   0.0s\n",
      "[CV 4/5] END criterion=squared_error, max_depth=2, min_samples_leaf=10, min_samples_split=1, n_estimators=100;, score=nan total time=   0.0s\n",
      "[CV 5/5] END criterion=squared_error, max_depth=2, min_samples_leaf=10, min_samples_split=1, n_estimators=100;, score=nan total time=   0.0s\n"
     ]
    },
    {
     "name": "stderr",
     "output_type": "stream",
     "text": [
      "C:\\Users\\jb5983on\\AppData\\Local\\anaconda3\\envs\\polars\\Lib\\site-packages\\sklearn\\base.py:1473: DataConversionWarning: A column-vector y was passed when a 1d array was expected. Please change the shape of y to (n_samples,), for example using ravel().\n",
      "  return fit_method(estimator, *args, **kwargs)\n",
      "C:\\Users\\jb5983on\\AppData\\Local\\anaconda3\\envs\\polars\\Lib\\site-packages\\sklearn\\base.py:1473: DataConversionWarning: A column-vector y was passed when a 1d array was expected. Please change the shape of y to (n_samples,), for example using ravel().\n",
      "  return fit_method(estimator, *args, **kwargs)\n"
     ]
    },
    {
     "name": "stdout",
     "output_type": "stream",
     "text": [
      "[CV 1/5] END criterion=squared_error, max_depth=2, min_samples_leaf=10, min_samples_split=5, n_estimators=10;, score=-17707270015793.496 total time=   0.0s\n",
      "[CV 2/5] END criterion=squared_error, max_depth=2, min_samples_leaf=10, min_samples_split=5, n_estimators=10;, score=-20980339219606.660 total time=   0.0s\n",
      "[CV 3/5] END criterion=squared_error, max_depth=2, min_samples_leaf=10, min_samples_split=5, n_estimators=10;, score=-19534821712825.129 total time=   0.0s\n",
      "[CV 4/5] END criterion=squared_error, max_depth=2, min_samples_leaf=10, min_samples_split=5, n_estimators=10;, score=-19583679865262.082 total time=   0.0s\n",
      "[CV 5/5] END criterion=squared_error, max_depth=2, min_samples_leaf=10, min_samples_split=5, n_estimators=10;, score=-20919652376266.984 total time=   0.0s\n"
     ]
    },
    {
     "name": "stderr",
     "output_type": "stream",
     "text": [
      "C:\\Users\\jb5983on\\AppData\\Local\\anaconda3\\envs\\polars\\Lib\\site-packages\\sklearn\\base.py:1473: DataConversionWarning: A column-vector y was passed when a 1d array was expected. Please change the shape of y to (n_samples,), for example using ravel().\n",
      "  return fit_method(estimator, *args, **kwargs)\n",
      "C:\\Users\\jb5983on\\AppData\\Local\\anaconda3\\envs\\polars\\Lib\\site-packages\\sklearn\\base.py:1473: DataConversionWarning: A column-vector y was passed when a 1d array was expected. Please change the shape of y to (n_samples,), for example using ravel().\n",
      "  return fit_method(estimator, *args, **kwargs)\n",
      "C:\\Users\\jb5983on\\AppData\\Local\\anaconda3\\envs\\polars\\Lib\\site-packages\\sklearn\\base.py:1473: DataConversionWarning: A column-vector y was passed when a 1d array was expected. Please change the shape of y to (n_samples,), for example using ravel().\n",
      "  return fit_method(estimator, *args, **kwargs)\n",
      "C:\\Users\\jb5983on\\AppData\\Local\\anaconda3\\envs\\polars\\Lib\\site-packages\\sklearn\\base.py:1473: DataConversionWarning: A column-vector y was passed when a 1d array was expected. Please change the shape of y to (n_samples,), for example using ravel().\n",
      "  return fit_method(estimator, *args, **kwargs)\n",
      "C:\\Users\\jb5983on\\AppData\\Local\\anaconda3\\envs\\polars\\Lib\\site-packages\\sklearn\\base.py:1473: DataConversionWarning: A column-vector y was passed when a 1d array was expected. Please change the shape of y to (n_samples,), for example using ravel().\n",
      "  return fit_method(estimator, *args, **kwargs)\n"
     ]
    },
    {
     "name": "stdout",
     "output_type": "stream",
     "text": [
      "[CV 1/5] END criterion=squared_error, max_depth=2, min_samples_leaf=10, min_samples_split=5, n_estimators=100;, score=-17685522235856.027 total time=   0.1s\n"
     ]
    },
    {
     "name": "stderr",
     "output_type": "stream",
     "text": [
      "C:\\Users\\jb5983on\\AppData\\Local\\anaconda3\\envs\\polars\\Lib\\site-packages\\sklearn\\base.py:1473: DataConversionWarning: A column-vector y was passed when a 1d array was expected. Please change the shape of y to (n_samples,), for example using ravel().\n",
      "  return fit_method(estimator, *args, **kwargs)\n"
     ]
    },
    {
     "name": "stdout",
     "output_type": "stream",
     "text": [
      "[CV 2/5] END criterion=squared_error, max_depth=2, min_samples_leaf=10, min_samples_split=5, n_estimators=100;, score=-21001992242887.586 total time=   0.1s\n",
      "[CV 3/5] END criterion=squared_error, max_depth=2, min_samples_leaf=10, min_samples_split=5, n_estimators=100;, score=-19520526385938.809 total time=   0.1s\n"
     ]
    },
    {
     "name": "stderr",
     "output_type": "stream",
     "text": [
      "C:\\Users\\jb5983on\\AppData\\Local\\anaconda3\\envs\\polars\\Lib\\site-packages\\sklearn\\base.py:1473: DataConversionWarning: A column-vector y was passed when a 1d array was expected. Please change the shape of y to (n_samples,), for example using ravel().\n",
      "  return fit_method(estimator, *args, **kwargs)\n",
      "C:\\Users\\jb5983on\\AppData\\Local\\anaconda3\\envs\\polars\\Lib\\site-packages\\sklearn\\base.py:1473: DataConversionWarning: A column-vector y was passed when a 1d array was expected. Please change the shape of y to (n_samples,), for example using ravel().\n",
      "  return fit_method(estimator, *args, **kwargs)\n"
     ]
    },
    {
     "name": "stdout",
     "output_type": "stream",
     "text": [
      "[CV 4/5] END criterion=squared_error, max_depth=2, min_samples_leaf=10, min_samples_split=5, n_estimators=100;, score=-19654953136631.164 total time=   0.1s\n"
     ]
    },
    {
     "name": "stderr",
     "output_type": "stream",
     "text": [
      "C:\\Users\\jb5983on\\AppData\\Local\\anaconda3\\envs\\polars\\Lib\\site-packages\\sklearn\\base.py:1473: DataConversionWarning: A column-vector y was passed when a 1d array was expected. Please change the shape of y to (n_samples,), for example using ravel().\n",
      "  return fit_method(estimator, *args, **kwargs)\n"
     ]
    },
    {
     "name": "stdout",
     "output_type": "stream",
     "text": [
      "[CV 5/5] END criterion=squared_error, max_depth=2, min_samples_leaf=10, min_samples_split=5, n_estimators=100;, score=-20892457161302.238 total time=   0.1s\n",
      "[CV 1/5] END criterion=squared_error, max_depth=2, min_samples_leaf=10, min_samples_split=10, n_estimators=10;, score=-17744632288212.977 total time=   0.0s\n",
      "[CV 2/5] END criterion=squared_error, max_depth=2, min_samples_leaf=10, min_samples_split=10, n_estimators=10;, score=-21010302806274.492 total time=   0.0s\n",
      "[CV 3/5] END criterion=squared_error, max_depth=2, min_samples_leaf=10, min_samples_split=10, n_estimators=10;, score=-19612409311788.340 total time=   0.0s\n",
      "[CV 4/5] END criterion=squared_error, max_depth=2, min_samples_leaf=10, min_samples_split=10, n_estimators=10;, score=-19649168143076.301 total time=   0.0s\n",
      "[CV 5/5] END criterion=squared_error, max_depth=2, min_samples_leaf=10, min_samples_split=10, n_estimators=10;, score=-20906630578216.383 total time=   0.0s\n"
     ]
    },
    {
     "name": "stderr",
     "output_type": "stream",
     "text": [
      "C:\\Users\\jb5983on\\AppData\\Local\\anaconda3\\envs\\polars\\Lib\\site-packages\\sklearn\\base.py:1473: DataConversionWarning: A column-vector y was passed when a 1d array was expected. Please change the shape of y to (n_samples,), for example using ravel().\n",
      "  return fit_method(estimator, *args, **kwargs)\n",
      "C:\\Users\\jb5983on\\AppData\\Local\\anaconda3\\envs\\polars\\Lib\\site-packages\\sklearn\\base.py:1473: DataConversionWarning: A column-vector y was passed when a 1d array was expected. Please change the shape of y to (n_samples,), for example using ravel().\n",
      "  return fit_method(estimator, *args, **kwargs)\n",
      "C:\\Users\\jb5983on\\AppData\\Local\\anaconda3\\envs\\polars\\Lib\\site-packages\\sklearn\\base.py:1473: DataConversionWarning: A column-vector y was passed when a 1d array was expected. Please change the shape of y to (n_samples,), for example using ravel().\n",
      "  return fit_method(estimator, *args, **kwargs)\n",
      "C:\\Users\\jb5983on\\AppData\\Local\\anaconda3\\envs\\polars\\Lib\\site-packages\\sklearn\\base.py:1473: DataConversionWarning: A column-vector y was passed when a 1d array was expected. Please change the shape of y to (n_samples,), for example using ravel().\n",
      "  return fit_method(estimator, *args, **kwargs)\n",
      "C:\\Users\\jb5983on\\AppData\\Local\\anaconda3\\envs\\polars\\Lib\\site-packages\\sklearn\\base.py:1473: DataConversionWarning: A column-vector y was passed when a 1d array was expected. Please change the shape of y to (n_samples,), for example using ravel().\n",
      "  return fit_method(estimator, *args, **kwargs)\n",
      "C:\\Users\\jb5983on\\AppData\\Local\\anaconda3\\envs\\polars\\Lib\\site-packages\\sklearn\\base.py:1473: DataConversionWarning: A column-vector y was passed when a 1d array was expected. Please change the shape of y to (n_samples,), for example using ravel().\n",
      "  return fit_method(estimator, *args, **kwargs)\n"
     ]
    },
    {
     "name": "stdout",
     "output_type": "stream",
     "text": [
      "[CV 1/5] END criterion=squared_error, max_depth=2, min_samples_leaf=10, min_samples_split=10, n_estimators=100;, score=-17670727880171.504 total time=   0.1s\n"
     ]
    },
    {
     "name": "stderr",
     "output_type": "stream",
     "text": [
      "C:\\Users\\jb5983on\\AppData\\Local\\anaconda3\\envs\\polars\\Lib\\site-packages\\sklearn\\base.py:1473: DataConversionWarning: A column-vector y was passed when a 1d array was expected. Please change the shape of y to (n_samples,), for example using ravel().\n",
      "  return fit_method(estimator, *args, **kwargs)\n"
     ]
    },
    {
     "name": "stdout",
     "output_type": "stream",
     "text": [
      "[CV 2/5] END criterion=squared_error, max_depth=2, min_samples_leaf=10, min_samples_split=10, n_estimators=100;, score=-21002518040454.312 total time=   0.1s\n",
      "[CV 3/5] END criterion=squared_error, max_depth=2, min_samples_leaf=10, min_samples_split=10, n_estimators=100;, score=-19533258805298.027 total time=   0.1s\n"
     ]
    },
    {
     "name": "stderr",
     "output_type": "stream",
     "text": [
      "C:\\Users\\jb5983on\\AppData\\Local\\anaconda3\\envs\\polars\\Lib\\site-packages\\sklearn\\base.py:1473: DataConversionWarning: A column-vector y was passed when a 1d array was expected. Please change the shape of y to (n_samples,), for example using ravel().\n",
      "  return fit_method(estimator, *args, **kwargs)\n",
      "C:\\Users\\jb5983on\\AppData\\Local\\anaconda3\\envs\\polars\\Lib\\site-packages\\sklearn\\base.py:1473: DataConversionWarning: A column-vector y was passed when a 1d array was expected. Please change the shape of y to (n_samples,), for example using ravel().\n",
      "  return fit_method(estimator, *args, **kwargs)\n"
     ]
    },
    {
     "name": "stdout",
     "output_type": "stream",
     "text": [
      "[CV 4/5] END criterion=squared_error, max_depth=2, min_samples_leaf=10, min_samples_split=10, n_estimators=100;, score=-19635624883729.777 total time=   0.1s\n"
     ]
    },
    {
     "name": "stderr",
     "output_type": "stream",
     "text": [
      "C:\\Users\\jb5983on\\AppData\\Local\\anaconda3\\envs\\polars\\Lib\\site-packages\\sklearn\\base.py:1473: DataConversionWarning: A column-vector y was passed when a 1d array was expected. Please change the shape of y to (n_samples,), for example using ravel().\n",
      "  return fit_method(estimator, *args, **kwargs)\n"
     ]
    },
    {
     "name": "stdout",
     "output_type": "stream",
     "text": [
      "[CV 5/5] END criterion=squared_error, max_depth=2, min_samples_leaf=10, min_samples_split=10, n_estimators=100;, score=-20911054992484.168 total time=   0.1s\n",
      "[CV 1/5] END criterion=squared_error, max_depth=3, min_samples_leaf=1, min_samples_split=1, n_estimators=10;, score=nan total time=   0.0s\n",
      "[CV 2/5] END criterion=squared_error, max_depth=3, min_samples_leaf=1, min_samples_split=1, n_estimators=10;, score=nan total time=   0.0s\n",
      "[CV 3/5] END criterion=squared_error, max_depth=3, min_samples_leaf=1, min_samples_split=1, n_estimators=10;, score=nan total time=   0.0s\n",
      "[CV 4/5] END criterion=squared_error, max_depth=3, min_samples_leaf=1, min_samples_split=1, n_estimators=10;, score=nan total time=   0.0s\n",
      "[CV 5/5] END criterion=squared_error, max_depth=3, min_samples_leaf=1, min_samples_split=1, n_estimators=10;, score=nan total time=   0.0s\n",
      "[CV 1/5] END criterion=squared_error, max_depth=3, min_samples_leaf=1, min_samples_split=1, n_estimators=100;, score=nan total time=   0.0s\n",
      "[CV 2/5] END criterion=squared_error, max_depth=3, min_samples_leaf=1, min_samples_split=1, n_estimators=100;, score=nan total time=   0.0s\n",
      "[CV 3/5] END criterion=squared_error, max_depth=3, min_samples_leaf=1, min_samples_split=1, n_estimators=100;, score=nan total time=   0.0s\n",
      "[CV 4/5] END criterion=squared_error, max_depth=3, min_samples_leaf=1, min_samples_split=1, n_estimators=100;, score=nan total time=   0.0s\n",
      "[CV 5/5] END criterion=squared_error, max_depth=3, min_samples_leaf=1, min_samples_split=1, n_estimators=100;, score=nan total time=   0.0s\n",
      "[CV 1/5] END criterion=squared_error, max_depth=3, min_samples_leaf=1, min_samples_split=5, n_estimators=10;, score=-17350266678938.207 total time=   0.0s\n",
      "[CV 2/5] END criterion=squared_error, max_depth=3, min_samples_leaf=1, min_samples_split=5, n_estimators=10;, score=-20646782246900.555 total time=   0.0s\n",
      "[CV 3/5] END criterion=squared_error, max_depth=3, min_samples_leaf=1, min_samples_split=5, n_estimators=10;, score=-19442854310043.348 total time=   0.0s\n",
      "[CV 4/5] END criterion=squared_error, max_depth=3, min_samples_leaf=1, min_samples_split=5, n_estimators=10;, score=-19138120169767.082 total time=   0.0s\n"
     ]
    },
    {
     "name": "stderr",
     "output_type": "stream",
     "text": [
      "C:\\Users\\jb5983on\\AppData\\Local\\anaconda3\\envs\\polars\\Lib\\site-packages\\sklearn\\base.py:1473: DataConversionWarning: A column-vector y was passed when a 1d array was expected. Please change the shape of y to (n_samples,), for example using ravel().\n",
      "  return fit_method(estimator, *args, **kwargs)\n",
      "C:\\Users\\jb5983on\\AppData\\Local\\anaconda3\\envs\\polars\\Lib\\site-packages\\sklearn\\base.py:1473: DataConversionWarning: A column-vector y was passed when a 1d array was expected. Please change the shape of y to (n_samples,), for example using ravel().\n",
      "  return fit_method(estimator, *args, **kwargs)\n",
      "C:\\Users\\jb5983on\\AppData\\Local\\anaconda3\\envs\\polars\\Lib\\site-packages\\sklearn\\base.py:1473: DataConversionWarning: A column-vector y was passed when a 1d array was expected. Please change the shape of y to (n_samples,), for example using ravel().\n",
      "  return fit_method(estimator, *args, **kwargs)\n",
      "C:\\Users\\jb5983on\\AppData\\Local\\anaconda3\\envs\\polars\\Lib\\site-packages\\sklearn\\base.py:1473: DataConversionWarning: A column-vector y was passed when a 1d array was expected. Please change the shape of y to (n_samples,), for example using ravel().\n",
      "  return fit_method(estimator, *args, **kwargs)\n",
      "C:\\Users\\jb5983on\\AppData\\Local\\anaconda3\\envs\\polars\\Lib\\site-packages\\sklearn\\base.py:1473: DataConversionWarning: A column-vector y was passed when a 1d array was expected. Please change the shape of y to (n_samples,), for example using ravel().\n",
      "  return fit_method(estimator, *args, **kwargs)\n",
      "C:\\Users\\jb5983on\\AppData\\Local\\anaconda3\\envs\\polars\\Lib\\site-packages\\sklearn\\base.py:1473: DataConversionWarning: A column-vector y was passed when a 1d array was expected. Please change the shape of y to (n_samples,), for example using ravel().\n",
      "  return fit_method(estimator, *args, **kwargs)\n"
     ]
    },
    {
     "name": "stdout",
     "output_type": "stream",
     "text": [
      "[CV 5/5] END criterion=squared_error, max_depth=3, min_samples_leaf=1, min_samples_split=5, n_estimators=10;, score=-20529531928507.051 total time=   0.0s\n",
      "[CV 1/5] END criterion=squared_error, max_depth=3, min_samples_leaf=1, min_samples_split=5, n_estimators=100;, score=-17378636180214.369 total time=   0.1s\n",
      "[CV 2/5] END criterion=squared_error, max_depth=3, min_samples_leaf=1, min_samples_split=5, n_estimators=100;, score=-20663975089393.258 total time=   0.1s\n"
     ]
    },
    {
     "name": "stderr",
     "output_type": "stream",
     "text": [
      "C:\\Users\\jb5983on\\AppData\\Local\\anaconda3\\envs\\polars\\Lib\\site-packages\\sklearn\\base.py:1473: DataConversionWarning: A column-vector y was passed when a 1d array was expected. Please change the shape of y to (n_samples,), for example using ravel().\n",
      "  return fit_method(estimator, *args, **kwargs)\n",
      "C:\\Users\\jb5983on\\AppData\\Local\\anaconda3\\envs\\polars\\Lib\\site-packages\\sklearn\\base.py:1473: DataConversionWarning: A column-vector y was passed when a 1d array was expected. Please change the shape of y to (n_samples,), for example using ravel().\n",
      "  return fit_method(estimator, *args, **kwargs)\n"
     ]
    },
    {
     "name": "stdout",
     "output_type": "stream",
     "text": [
      "[CV 3/5] END criterion=squared_error, max_depth=3, min_samples_leaf=1, min_samples_split=5, n_estimators=100;, score=-19364465553699.488 total time=   0.2s\n"
     ]
    },
    {
     "name": "stderr",
     "output_type": "stream",
     "text": [
      "C:\\Users\\jb5983on\\AppData\\Local\\anaconda3\\envs\\polars\\Lib\\site-packages\\sklearn\\base.py:1473: DataConversionWarning: A column-vector y was passed when a 1d array was expected. Please change the shape of y to (n_samples,), for example using ravel().\n",
      "  return fit_method(estimator, *args, **kwargs)\n"
     ]
    },
    {
     "name": "stdout",
     "output_type": "stream",
     "text": [
      "[CV 4/5] END criterion=squared_error, max_depth=3, min_samples_leaf=1, min_samples_split=5, n_estimators=100;, score=-19159813815380.859 total time=   0.2s\n"
     ]
    },
    {
     "name": "stderr",
     "output_type": "stream",
     "text": [
      "C:\\Users\\jb5983on\\AppData\\Local\\anaconda3\\envs\\polars\\Lib\\site-packages\\sklearn\\base.py:1473: DataConversionWarning: A column-vector y was passed when a 1d array was expected. Please change the shape of y to (n_samples,), for example using ravel().\n",
      "  return fit_method(estimator, *args, **kwargs)\n"
     ]
    },
    {
     "name": "stdout",
     "output_type": "stream",
     "text": [
      "[CV 5/5] END criterion=squared_error, max_depth=3, min_samples_leaf=1, min_samples_split=5, n_estimators=100;, score=-20481105445440.234 total time=   0.2s\n",
      "[CV 1/5] END criterion=squared_error, max_depth=3, min_samples_leaf=1, min_samples_split=10, n_estimators=10;, score=-17361226951292.848 total time=   0.0s\n",
      "[CV 2/5] END criterion=squared_error, max_depth=3, min_samples_leaf=1, min_samples_split=10, n_estimators=10;, score=-20678605623562.445 total time=   0.0s\n",
      "[CV 3/5] END criterion=squared_error, max_depth=3, min_samples_leaf=1, min_samples_split=10, n_estimators=10;, score=-19454524618236.723 total time=   0.0s\n",
      "[CV 4/5] END criterion=squared_error, max_depth=3, min_samples_leaf=1, min_samples_split=10, n_estimators=10;, score=-19211712013701.199 total time=   0.0s\n"
     ]
    },
    {
     "name": "stderr",
     "output_type": "stream",
     "text": [
      "C:\\Users\\jb5983on\\AppData\\Local\\anaconda3\\envs\\polars\\Lib\\site-packages\\sklearn\\base.py:1473: DataConversionWarning: A column-vector y was passed when a 1d array was expected. Please change the shape of y to (n_samples,), for example using ravel().\n",
      "  return fit_method(estimator, *args, **kwargs)\n",
      "C:\\Users\\jb5983on\\AppData\\Local\\anaconda3\\envs\\polars\\Lib\\site-packages\\sklearn\\base.py:1473: DataConversionWarning: A column-vector y was passed when a 1d array was expected. Please change the shape of y to (n_samples,), for example using ravel().\n",
      "  return fit_method(estimator, *args, **kwargs)\n",
      "C:\\Users\\jb5983on\\AppData\\Local\\anaconda3\\envs\\polars\\Lib\\site-packages\\sklearn\\base.py:1473: DataConversionWarning: A column-vector y was passed when a 1d array was expected. Please change the shape of y to (n_samples,), for example using ravel().\n",
      "  return fit_method(estimator, *args, **kwargs)\n",
      "C:\\Users\\jb5983on\\AppData\\Local\\anaconda3\\envs\\polars\\Lib\\site-packages\\sklearn\\base.py:1473: DataConversionWarning: A column-vector y was passed when a 1d array was expected. Please change the shape of y to (n_samples,), for example using ravel().\n",
      "  return fit_method(estimator, *args, **kwargs)\n",
      "C:\\Users\\jb5983on\\AppData\\Local\\anaconda3\\envs\\polars\\Lib\\site-packages\\sklearn\\base.py:1473: DataConversionWarning: A column-vector y was passed when a 1d array was expected. Please change the shape of y to (n_samples,), for example using ravel().\n",
      "  return fit_method(estimator, *args, **kwargs)\n"
     ]
    },
    {
     "name": "stdout",
     "output_type": "stream",
     "text": [
      "[CV 5/5] END criterion=squared_error, max_depth=3, min_samples_leaf=1, min_samples_split=10, n_estimators=10;, score=-20469807356761.992 total time=   0.0s\n",
      "[CV 1/5] END criterion=squared_error, max_depth=3, min_samples_leaf=1, min_samples_split=10, n_estimators=100;, score=-17349224881835.551 total time=   0.1s\n"
     ]
    },
    {
     "name": "stderr",
     "output_type": "stream",
     "text": [
      "C:\\Users\\jb5983on\\AppData\\Local\\anaconda3\\envs\\polars\\Lib\\site-packages\\sklearn\\base.py:1473: DataConversionWarning: A column-vector y was passed when a 1d array was expected. Please change the shape of y to (n_samples,), for example using ravel().\n",
      "  return fit_method(estimator, *args, **kwargs)\n",
      "C:\\Users\\jb5983on\\AppData\\Local\\anaconda3\\envs\\polars\\Lib\\site-packages\\sklearn\\base.py:1473: DataConversionWarning: A column-vector y was passed when a 1d array was expected. Please change the shape of y to (n_samples,), for example using ravel().\n",
      "  return fit_method(estimator, *args, **kwargs)\n"
     ]
    },
    {
     "name": "stdout",
     "output_type": "stream",
     "text": [
      "[CV 2/5] END criterion=squared_error, max_depth=3, min_samples_leaf=1, min_samples_split=10, n_estimators=100;, score=-20676030467526.898 total time=   0.2s\n"
     ]
    },
    {
     "name": "stderr",
     "output_type": "stream",
     "text": [
      "C:\\Users\\jb5983on\\AppData\\Local\\anaconda3\\envs\\polars\\Lib\\site-packages\\sklearn\\base.py:1473: DataConversionWarning: A column-vector y was passed when a 1d array was expected. Please change the shape of y to (n_samples,), for example using ravel().\n",
      "  return fit_method(estimator, *args, **kwargs)\n"
     ]
    },
    {
     "name": "stdout",
     "output_type": "stream",
     "text": [
      "[CV 3/5] END criterion=squared_error, max_depth=3, min_samples_leaf=1, min_samples_split=10, n_estimators=100;, score=-19391642581480.699 total time=   0.2s\n"
     ]
    },
    {
     "name": "stderr",
     "output_type": "stream",
     "text": [
      "C:\\Users\\jb5983on\\AppData\\Local\\anaconda3\\envs\\polars\\Lib\\site-packages\\sklearn\\base.py:1473: DataConversionWarning: A column-vector y was passed when a 1d array was expected. Please change the shape of y to (n_samples,), for example using ravel().\n",
      "  return fit_method(estimator, *args, **kwargs)\n"
     ]
    },
    {
     "name": "stdout",
     "output_type": "stream",
     "text": [
      "[CV 4/5] END criterion=squared_error, max_depth=3, min_samples_leaf=1, min_samples_split=10, n_estimators=100;, score=-19176933605704.953 total time=   0.2s\n"
     ]
    },
    {
     "name": "stderr",
     "output_type": "stream",
     "text": [
      "C:\\Users\\jb5983on\\AppData\\Local\\anaconda3\\envs\\polars\\Lib\\site-packages\\sklearn\\base.py:1473: DataConversionWarning: A column-vector y was passed when a 1d array was expected. Please change the shape of y to (n_samples,), for example using ravel().\n",
      "  return fit_method(estimator, *args, **kwargs)\n"
     ]
    },
    {
     "name": "stdout",
     "output_type": "stream",
     "text": [
      "[CV 5/5] END criterion=squared_error, max_depth=3, min_samples_leaf=1, min_samples_split=10, n_estimators=100;, score=-20461641199557.777 total time=   0.1s\n",
      "[CV 1/5] END criterion=squared_error, max_depth=3, min_samples_leaf=5, min_samples_split=1, n_estimators=10;, score=nan total time=   0.0s\n",
      "[CV 2/5] END criterion=squared_error, max_depth=3, min_samples_leaf=5, min_samples_split=1, n_estimators=10;, score=nan total time=   0.0s\n",
      "[CV 3/5] END criterion=squared_error, max_depth=3, min_samples_leaf=5, min_samples_split=1, n_estimators=10;, score=nan total time=   0.0s\n",
      "[CV 4/5] END criterion=squared_error, max_depth=3, min_samples_leaf=5, min_samples_split=1, n_estimators=10;, score=nan total time=   0.0s\n",
      "[CV 5/5] END criterion=squared_error, max_depth=3, min_samples_leaf=5, min_samples_split=1, n_estimators=10;, score=nan total time=   0.0s\n",
      "[CV 1/5] END criterion=squared_error, max_depth=3, min_samples_leaf=5, min_samples_split=1, n_estimators=100;, score=nan total time=   0.0s\n",
      "[CV 2/5] END criterion=squared_error, max_depth=3, min_samples_leaf=5, min_samples_split=1, n_estimators=100;, score=nan total time=   0.0s\n",
      "[CV 3/5] END criterion=squared_error, max_depth=3, min_samples_leaf=5, min_samples_split=1, n_estimators=100;, score=nan total time=   0.0s\n",
      "[CV 4/5] END criterion=squared_error, max_depth=3, min_samples_leaf=5, min_samples_split=1, n_estimators=100;, score=nan total time=   0.0s\n",
      "[CV 5/5] END criterion=squared_error, max_depth=3, min_samples_leaf=5, min_samples_split=1, n_estimators=100;, score=nan total time=   0.0s\n",
      "[CV 1/5] END criterion=squared_error, max_depth=3, min_samples_leaf=5, min_samples_split=5, n_estimators=10;, score=-17429066706894.445 total time=   0.0s\n",
      "[CV 2/5] END criterion=squared_error, max_depth=3, min_samples_leaf=5, min_samples_split=5, n_estimators=10;, score=-20691429937308.777 total time=   0.0s\n"
     ]
    },
    {
     "name": "stderr",
     "output_type": "stream",
     "text": [
      "C:\\Users\\jb5983on\\AppData\\Local\\anaconda3\\envs\\polars\\Lib\\site-packages\\sklearn\\base.py:1473: DataConversionWarning: A column-vector y was passed when a 1d array was expected. Please change the shape of y to (n_samples,), for example using ravel().\n",
      "  return fit_method(estimator, *args, **kwargs)\n",
      "C:\\Users\\jb5983on\\AppData\\Local\\anaconda3\\envs\\polars\\Lib\\site-packages\\sklearn\\base.py:1473: DataConversionWarning: A column-vector y was passed when a 1d array was expected. Please change the shape of y to (n_samples,), for example using ravel().\n",
      "  return fit_method(estimator, *args, **kwargs)\n",
      "C:\\Users\\jb5983on\\AppData\\Local\\anaconda3\\envs\\polars\\Lib\\site-packages\\sklearn\\base.py:1473: DataConversionWarning: A column-vector y was passed when a 1d array was expected. Please change the shape of y to (n_samples,), for example using ravel().\n",
      "  return fit_method(estimator, *args, **kwargs)\n",
      "C:\\Users\\jb5983on\\AppData\\Local\\anaconda3\\envs\\polars\\Lib\\site-packages\\sklearn\\base.py:1473: DataConversionWarning: A column-vector y was passed when a 1d array was expected. Please change the shape of y to (n_samples,), for example using ravel().\n",
      "  return fit_method(estimator, *args, **kwargs)\n",
      "C:\\Users\\jb5983on\\AppData\\Local\\anaconda3\\envs\\polars\\Lib\\site-packages\\sklearn\\base.py:1473: DataConversionWarning: A column-vector y was passed when a 1d array was expected. Please change the shape of y to (n_samples,), for example using ravel().\n",
      "  return fit_method(estimator, *args, **kwargs)\n"
     ]
    },
    {
     "name": "stdout",
     "output_type": "stream",
     "text": [
      "[CV 3/5] END criterion=squared_error, max_depth=3, min_samples_leaf=5, min_samples_split=5, n_estimators=10;, score=-19286196366412.141 total time=   0.0s\n",
      "[CV 4/5] END criterion=squared_error, max_depth=3, min_samples_leaf=5, min_samples_split=5, n_estimators=10;, score=-19166172537776.059 total time=   0.0s\n",
      "[CV 5/5] END criterion=squared_error, max_depth=3, min_samples_leaf=5, min_samples_split=5, n_estimators=10;, score=-20522044092309.520 total time=   0.0s\n"
     ]
    },
    {
     "name": "stderr",
     "output_type": "stream",
     "text": [
      "C:\\Users\\jb5983on\\AppData\\Local\\anaconda3\\envs\\polars\\Lib\\site-packages\\sklearn\\base.py:1473: DataConversionWarning: A column-vector y was passed when a 1d array was expected. Please change the shape of y to (n_samples,), for example using ravel().\n",
      "  return fit_method(estimator, *args, **kwargs)\n"
     ]
    },
    {
     "name": "stdout",
     "output_type": "stream",
     "text": [
      "[CV 1/5] END criterion=squared_error, max_depth=3, min_samples_leaf=5, min_samples_split=5, n_estimators=100;, score=-17328193993370.416 total time=   0.1s\n"
     ]
    },
    {
     "name": "stderr",
     "output_type": "stream",
     "text": [
      "C:\\Users\\jb5983on\\AppData\\Local\\anaconda3\\envs\\polars\\Lib\\site-packages\\sklearn\\base.py:1473: DataConversionWarning: A column-vector y was passed when a 1d array was expected. Please change the shape of y to (n_samples,), for example using ravel().\n",
      "  return fit_method(estimator, *args, **kwargs)\n"
     ]
    },
    {
     "name": "stdout",
     "output_type": "stream",
     "text": [
      "[CV 2/5] END criterion=squared_error, max_depth=3, min_samples_leaf=5, min_samples_split=5, n_estimators=100;, score=-20670143884191.625 total time=   0.1s\n"
     ]
    },
    {
     "name": "stderr",
     "output_type": "stream",
     "text": [
      "C:\\Users\\jb5983on\\AppData\\Local\\anaconda3\\envs\\polars\\Lib\\site-packages\\sklearn\\base.py:1473: DataConversionWarning: A column-vector y was passed when a 1d array was expected. Please change the shape of y to (n_samples,), for example using ravel().\n",
      "  return fit_method(estimator, *args, **kwargs)\n"
     ]
    },
    {
     "name": "stdout",
     "output_type": "stream",
     "text": [
      "[CV 3/5] END criterion=squared_error, max_depth=3, min_samples_leaf=5, min_samples_split=5, n_estimators=100;, score=-19367370883505.492 total time=   0.1s\n"
     ]
    },
    {
     "name": "stderr",
     "output_type": "stream",
     "text": [
      "C:\\Users\\jb5983on\\AppData\\Local\\anaconda3\\envs\\polars\\Lib\\site-packages\\sklearn\\base.py:1473: DataConversionWarning: A column-vector y was passed when a 1d array was expected. Please change the shape of y to (n_samples,), for example using ravel().\n",
      "  return fit_method(estimator, *args, **kwargs)\n"
     ]
    },
    {
     "name": "stdout",
     "output_type": "stream",
     "text": [
      "[CV 4/5] END criterion=squared_error, max_depth=3, min_samples_leaf=5, min_samples_split=5, n_estimators=100;, score=-19244112263255.113 total time=   0.1s\n"
     ]
    },
    {
     "name": "stderr",
     "output_type": "stream",
     "text": [
      "C:\\Users\\jb5983on\\AppData\\Local\\anaconda3\\envs\\polars\\Lib\\site-packages\\sklearn\\base.py:1473: DataConversionWarning: A column-vector y was passed when a 1d array was expected. Please change the shape of y to (n_samples,), for example using ravel().\n",
      "  return fit_method(estimator, *args, **kwargs)\n"
     ]
    },
    {
     "name": "stdout",
     "output_type": "stream",
     "text": [
      "[CV 5/5] END criterion=squared_error, max_depth=3, min_samples_leaf=5, min_samples_split=5, n_estimators=100;, score=-20483063075487.176 total time=   0.2s\n",
      "[CV 1/5] END criterion=squared_error, max_depth=3, min_samples_leaf=5, min_samples_split=10, n_estimators=10;, score=-17384716640775.145 total time=   0.0s\n",
      "[CV 2/5] END criterion=squared_error, max_depth=3, min_samples_leaf=5, min_samples_split=10, n_estimators=10;, score=-20746975511518.465 total time=   0.0s\n",
      "[CV 3/5] END criterion=squared_error, max_depth=3, min_samples_leaf=5, min_samples_split=10, n_estimators=10;, score=-19410040136862.367 total time=   0.0s\n",
      "[CV 4/5] END criterion=squared_error, max_depth=3, min_samples_leaf=5, min_samples_split=10, n_estimators=10;, score=-19117435910768.566 total time=   0.0s\n"
     ]
    },
    {
     "name": "stderr",
     "output_type": "stream",
     "text": [
      "C:\\Users\\jb5983on\\AppData\\Local\\anaconda3\\envs\\polars\\Lib\\site-packages\\sklearn\\base.py:1473: DataConversionWarning: A column-vector y was passed when a 1d array was expected. Please change the shape of y to (n_samples,), for example using ravel().\n",
      "  return fit_method(estimator, *args, **kwargs)\n",
      "C:\\Users\\jb5983on\\AppData\\Local\\anaconda3\\envs\\polars\\Lib\\site-packages\\sklearn\\base.py:1473: DataConversionWarning: A column-vector y was passed when a 1d array was expected. Please change the shape of y to (n_samples,), for example using ravel().\n",
      "  return fit_method(estimator, *args, **kwargs)\n",
      "C:\\Users\\jb5983on\\AppData\\Local\\anaconda3\\envs\\polars\\Lib\\site-packages\\sklearn\\base.py:1473: DataConversionWarning: A column-vector y was passed when a 1d array was expected. Please change the shape of y to (n_samples,), for example using ravel().\n",
      "  return fit_method(estimator, *args, **kwargs)\n",
      "C:\\Users\\jb5983on\\AppData\\Local\\anaconda3\\envs\\polars\\Lib\\site-packages\\sklearn\\base.py:1473: DataConversionWarning: A column-vector y was passed when a 1d array was expected. Please change the shape of y to (n_samples,), for example using ravel().\n",
      "  return fit_method(estimator, *args, **kwargs)\n",
      "C:\\Users\\jb5983on\\AppData\\Local\\anaconda3\\envs\\polars\\Lib\\site-packages\\sklearn\\base.py:1473: DataConversionWarning: A column-vector y was passed when a 1d array was expected. Please change the shape of y to (n_samples,), for example using ravel().\n",
      "  return fit_method(estimator, *args, **kwargs)\n"
     ]
    },
    {
     "name": "stdout",
     "output_type": "stream",
     "text": [
      "[CV 5/5] END criterion=squared_error, max_depth=3, min_samples_leaf=5, min_samples_split=10, n_estimators=10;, score=-20519526989049.812 total time=   0.0s\n"
     ]
    },
    {
     "name": "stderr",
     "output_type": "stream",
     "text": [
      "C:\\Users\\jb5983on\\AppData\\Local\\anaconda3\\envs\\polars\\Lib\\site-packages\\sklearn\\base.py:1473: DataConversionWarning: A column-vector y was passed when a 1d array was expected. Please change the shape of y to (n_samples,), for example using ravel().\n",
      "  return fit_method(estimator, *args, **kwargs)\n"
     ]
    },
    {
     "name": "stdout",
     "output_type": "stream",
     "text": [
      "[CV 1/5] END criterion=squared_error, max_depth=3, min_samples_leaf=5, min_samples_split=10, n_estimators=100;, score=-17343255557404.438 total time=   0.2s\n"
     ]
    },
    {
     "name": "stderr",
     "output_type": "stream",
     "text": [
      "C:\\Users\\jb5983on\\AppData\\Local\\anaconda3\\envs\\polars\\Lib\\site-packages\\sklearn\\base.py:1473: DataConversionWarning: A column-vector y was passed when a 1d array was expected. Please change the shape of y to (n_samples,), for example using ravel().\n",
      "  return fit_method(estimator, *args, **kwargs)\n"
     ]
    },
    {
     "name": "stdout",
     "output_type": "stream",
     "text": [
      "[CV 2/5] END criterion=squared_error, max_depth=3, min_samples_leaf=5, min_samples_split=10, n_estimators=100;, score=-20662534197722.293 total time=   0.2s\n"
     ]
    },
    {
     "name": "stderr",
     "output_type": "stream",
     "text": [
      "C:\\Users\\jb5983on\\AppData\\Local\\anaconda3\\envs\\polars\\Lib\\site-packages\\sklearn\\base.py:1473: DataConversionWarning: A column-vector y was passed when a 1d array was expected. Please change the shape of y to (n_samples,), for example using ravel().\n",
      "  return fit_method(estimator, *args, **kwargs)\n"
     ]
    },
    {
     "name": "stdout",
     "output_type": "stream",
     "text": [
      "[CV 3/5] END criterion=squared_error, max_depth=3, min_samples_leaf=5, min_samples_split=10, n_estimators=100;, score=-19385445512649.668 total time=   0.2s\n"
     ]
    },
    {
     "name": "stderr",
     "output_type": "stream",
     "text": [
      "C:\\Users\\jb5983on\\AppData\\Local\\anaconda3\\envs\\polars\\Lib\\site-packages\\sklearn\\base.py:1473: DataConversionWarning: A column-vector y was passed when a 1d array was expected. Please change the shape of y to (n_samples,), for example using ravel().\n",
      "  return fit_method(estimator, *args, **kwargs)\n"
     ]
    },
    {
     "name": "stdout",
     "output_type": "stream",
     "text": [
      "[CV 4/5] END criterion=squared_error, max_depth=3, min_samples_leaf=5, min_samples_split=10, n_estimators=100;, score=-19182294894703.062 total time=   0.2s\n",
      "[CV 5/5] END criterion=squared_error, max_depth=3, min_samples_leaf=5, min_samples_split=10, n_estimators=100;, score=-20464920869346.402 total time=   0.1s\n",
      "[CV 1/5] END criterion=squared_error, max_depth=3, min_samples_leaf=10, min_samples_split=1, n_estimators=10;, score=nan total time=   0.0s\n",
      "[CV 2/5] END criterion=squared_error, max_depth=3, min_samples_leaf=10, min_samples_split=1, n_estimators=10;, score=nan total time=   0.0s\n",
      "[CV 3/5] END criterion=squared_error, max_depth=3, min_samples_leaf=10, min_samples_split=1, n_estimators=10;, score=nan total time=   0.0s\n",
      "[CV 4/5] END criterion=squared_error, max_depth=3, min_samples_leaf=10, min_samples_split=1, n_estimators=10;, score=nan total time=   0.0s\n"
     ]
    },
    {
     "name": "stderr",
     "output_type": "stream",
     "text": [
      "C:\\Users\\jb5983on\\AppData\\Local\\anaconda3\\envs\\polars\\Lib\\site-packages\\sklearn\\base.py:1473: DataConversionWarning: A column-vector y was passed when a 1d array was expected. Please change the shape of y to (n_samples,), for example using ravel().\n",
      "  return fit_method(estimator, *args, **kwargs)\n"
     ]
    },
    {
     "name": "stdout",
     "output_type": "stream",
     "text": [
      "[CV 5/5] END criterion=squared_error, max_depth=3, min_samples_leaf=10, min_samples_split=1, n_estimators=10;, score=nan total time=   0.0s\n",
      "[CV 1/5] END criterion=squared_error, max_depth=3, min_samples_leaf=10, min_samples_split=1, n_estimators=100;, score=nan total time=   0.0s\n",
      "[CV 2/5] END criterion=squared_error, max_depth=3, min_samples_leaf=10, min_samples_split=1, n_estimators=100;, score=nan total time=   0.0s\n",
      "[CV 3/5] END criterion=squared_error, max_depth=3, min_samples_leaf=10, min_samples_split=1, n_estimators=100;, score=nan total time=   0.0s\n",
      "[CV 4/5] END criterion=squared_error, max_depth=3, min_samples_leaf=10, min_samples_split=1, n_estimators=100;, score=nan total time=   0.0s\n",
      "[CV 5/5] END criterion=squared_error, max_depth=3, min_samples_leaf=10, min_samples_split=1, n_estimators=100;, score=nan total time=   0.0s\n",
      "[CV 1/5] END criterion=squared_error, max_depth=3, min_samples_leaf=10, min_samples_split=5, n_estimators=10;, score=-17351575634958.340 total time=   0.0s\n",
      "[CV 2/5] END criterion=squared_error, max_depth=3, min_samples_leaf=10, min_samples_split=5, n_estimators=10;, score=-20665874753974.469 total time=   0.0s\n",
      "[CV 3/5] END criterion=squared_error, max_depth=3, min_samples_leaf=10, min_samples_split=5, n_estimators=10;, score=-19461499237569.395 total time=   0.0s\n",
      "[CV 4/5] END criterion=squared_error, max_depth=3, min_samples_leaf=10, min_samples_split=5, n_estimators=10;, score=-19174337415456.859 total time=   0.0s\n",
      "[CV 5/5] END criterion=squared_error, max_depth=3, min_samples_leaf=10, min_samples_split=5, n_estimators=10;, score=-20474937195549.594 total time=   0.0s\n"
     ]
    },
    {
     "name": "stderr",
     "output_type": "stream",
     "text": [
      "C:\\Users\\jb5983on\\AppData\\Local\\anaconda3\\envs\\polars\\Lib\\site-packages\\sklearn\\base.py:1473: DataConversionWarning: A column-vector y was passed when a 1d array was expected. Please change the shape of y to (n_samples,), for example using ravel().\n",
      "  return fit_method(estimator, *args, **kwargs)\n",
      "C:\\Users\\jb5983on\\AppData\\Local\\anaconda3\\envs\\polars\\Lib\\site-packages\\sklearn\\base.py:1473: DataConversionWarning: A column-vector y was passed when a 1d array was expected. Please change the shape of y to (n_samples,), for example using ravel().\n",
      "  return fit_method(estimator, *args, **kwargs)\n",
      "C:\\Users\\jb5983on\\AppData\\Local\\anaconda3\\envs\\polars\\Lib\\site-packages\\sklearn\\base.py:1473: DataConversionWarning: A column-vector y was passed when a 1d array was expected. Please change the shape of y to (n_samples,), for example using ravel().\n",
      "  return fit_method(estimator, *args, **kwargs)\n",
      "C:\\Users\\jb5983on\\AppData\\Local\\anaconda3\\envs\\polars\\Lib\\site-packages\\sklearn\\base.py:1473: DataConversionWarning: A column-vector y was passed when a 1d array was expected. Please change the shape of y to (n_samples,), for example using ravel().\n",
      "  return fit_method(estimator, *args, **kwargs)\n",
      "C:\\Users\\jb5983on\\AppData\\Local\\anaconda3\\envs\\polars\\Lib\\site-packages\\sklearn\\base.py:1473: DataConversionWarning: A column-vector y was passed when a 1d array was expected. Please change the shape of y to (n_samples,), for example using ravel().\n",
      "  return fit_method(estimator, *args, **kwargs)\n",
      "C:\\Users\\jb5983on\\AppData\\Local\\anaconda3\\envs\\polars\\Lib\\site-packages\\sklearn\\base.py:1473: DataConversionWarning: A column-vector y was passed when a 1d array was expected. Please change the shape of y to (n_samples,), for example using ravel().\n",
      "  return fit_method(estimator, *args, **kwargs)\n"
     ]
    },
    {
     "name": "stdout",
     "output_type": "stream",
     "text": [
      "[CV 1/5] END criterion=squared_error, max_depth=3, min_samples_leaf=10, min_samples_split=5, n_estimators=100;, score=-17348728947691.170 total time=   0.1s\n"
     ]
    },
    {
     "name": "stderr",
     "output_type": "stream",
     "text": [
      "C:\\Users\\jb5983on\\AppData\\Local\\anaconda3\\envs\\polars\\Lib\\site-packages\\sklearn\\base.py:1473: DataConversionWarning: A column-vector y was passed when a 1d array was expected. Please change the shape of y to (n_samples,), for example using ravel().\n",
      "  return fit_method(estimator, *args, **kwargs)\n"
     ]
    },
    {
     "name": "stdout",
     "output_type": "stream",
     "text": [
      "[CV 2/5] END criterion=squared_error, max_depth=3, min_samples_leaf=10, min_samples_split=5, n_estimators=100;, score=-20679699095509.117 total time=   0.2s\n"
     ]
    },
    {
     "name": "stderr",
     "output_type": "stream",
     "text": [
      "C:\\Users\\jb5983on\\AppData\\Local\\anaconda3\\envs\\polars\\Lib\\site-packages\\sklearn\\base.py:1473: DataConversionWarning: A column-vector y was passed when a 1d array was expected. Please change the shape of y to (n_samples,), for example using ravel().\n",
      "  return fit_method(estimator, *args, **kwargs)\n"
     ]
    },
    {
     "name": "stdout",
     "output_type": "stream",
     "text": [
      "[CV 3/5] END criterion=squared_error, max_depth=3, min_samples_leaf=10, min_samples_split=5, n_estimators=100;, score=-19356075282705.262 total time=   0.2s\n"
     ]
    },
    {
     "name": "stderr",
     "output_type": "stream",
     "text": [
      "C:\\Users\\jb5983on\\AppData\\Local\\anaconda3\\envs\\polars\\Lib\\site-packages\\sklearn\\base.py:1473: DataConversionWarning: A column-vector y was passed when a 1d array was expected. Please change the shape of y to (n_samples,), for example using ravel().\n",
      "  return fit_method(estimator, *args, **kwargs)\n"
     ]
    },
    {
     "name": "stdout",
     "output_type": "stream",
     "text": [
      "[CV 4/5] END criterion=squared_error, max_depth=3, min_samples_leaf=10, min_samples_split=5, n_estimators=100;, score=-19199571231275.125 total time=   0.2s\n"
     ]
    },
    {
     "name": "stderr",
     "output_type": "stream",
     "text": [
      "C:\\Users\\jb5983on\\AppData\\Local\\anaconda3\\envs\\polars\\Lib\\site-packages\\sklearn\\base.py:1473: DataConversionWarning: A column-vector y was passed when a 1d array was expected. Please change the shape of y to (n_samples,), for example using ravel().\n",
      "  return fit_method(estimator, *args, **kwargs)\n"
     ]
    },
    {
     "name": "stdout",
     "output_type": "stream",
     "text": [
      "[CV 5/5] END criterion=squared_error, max_depth=3, min_samples_leaf=10, min_samples_split=5, n_estimators=100;, score=-20486911952211.578 total time=   0.2s\n",
      "[CV 1/5] END criterion=squared_error, max_depth=3, min_samples_leaf=10, min_samples_split=10, n_estimators=10;, score=-17346321027963.285 total time=   0.0s\n",
      "[CV 2/5] END criterion=squared_error, max_depth=3, min_samples_leaf=10, min_samples_split=10, n_estimators=10;, score=-20741486301600.930 total time=   0.0s\n",
      "[CV 3/5] END criterion=squared_error, max_depth=3, min_samples_leaf=10, min_samples_split=10, n_estimators=10;, score=-19308168372631.148 total time=   0.0s\n",
      "[CV 4/5] END criterion=squared_error, max_depth=3, min_samples_leaf=10, min_samples_split=10, n_estimators=10;, score=-19145072561964.445 total time=   0.0s\n",
      "[CV 5/5] END criterion=squared_error, max_depth=3, min_samples_leaf=10, min_samples_split=10, n_estimators=10;, score=-20516965414252.289 total time=   0.0s\n"
     ]
    },
    {
     "name": "stderr",
     "output_type": "stream",
     "text": [
      "C:\\Users\\jb5983on\\AppData\\Local\\anaconda3\\envs\\polars\\Lib\\site-packages\\sklearn\\base.py:1473: DataConversionWarning: A column-vector y was passed when a 1d array was expected. Please change the shape of y to (n_samples,), for example using ravel().\n",
      "  return fit_method(estimator, *args, **kwargs)\n",
      "C:\\Users\\jb5983on\\AppData\\Local\\anaconda3\\envs\\polars\\Lib\\site-packages\\sklearn\\base.py:1473: DataConversionWarning: A column-vector y was passed when a 1d array was expected. Please change the shape of y to (n_samples,), for example using ravel().\n",
      "  return fit_method(estimator, *args, **kwargs)\n",
      "C:\\Users\\jb5983on\\AppData\\Local\\anaconda3\\envs\\polars\\Lib\\site-packages\\sklearn\\base.py:1473: DataConversionWarning: A column-vector y was passed when a 1d array was expected. Please change the shape of y to (n_samples,), for example using ravel().\n",
      "  return fit_method(estimator, *args, **kwargs)\n",
      "C:\\Users\\jb5983on\\AppData\\Local\\anaconda3\\envs\\polars\\Lib\\site-packages\\sklearn\\base.py:1473: DataConversionWarning: A column-vector y was passed when a 1d array was expected. Please change the shape of y to (n_samples,), for example using ravel().\n",
      "  return fit_method(estimator, *args, **kwargs)\n",
      "C:\\Users\\jb5983on\\AppData\\Local\\anaconda3\\envs\\polars\\Lib\\site-packages\\sklearn\\base.py:1473: DataConversionWarning: A column-vector y was passed when a 1d array was expected. Please change the shape of y to (n_samples,), for example using ravel().\n",
      "  return fit_method(estimator, *args, **kwargs)\n",
      "C:\\Users\\jb5983on\\AppData\\Local\\anaconda3\\envs\\polars\\Lib\\site-packages\\sklearn\\base.py:1473: DataConversionWarning: A column-vector y was passed when a 1d array was expected. Please change the shape of y to (n_samples,), for example using ravel().\n",
      "  return fit_method(estimator, *args, **kwargs)\n"
     ]
    },
    {
     "name": "stdout",
     "output_type": "stream",
     "text": [
      "[CV 1/5] END criterion=squared_error, max_depth=3, min_samples_leaf=10, min_samples_split=10, n_estimators=100;, score=-17368169325447.672 total time=   0.2s\n"
     ]
    },
    {
     "name": "stderr",
     "output_type": "stream",
     "text": [
      "C:\\Users\\jb5983on\\AppData\\Local\\anaconda3\\envs\\polars\\Lib\\site-packages\\sklearn\\base.py:1473: DataConversionWarning: A column-vector y was passed when a 1d array was expected. Please change the shape of y to (n_samples,), for example using ravel().\n",
      "  return fit_method(estimator, *args, **kwargs)\n"
     ]
    },
    {
     "name": "stdout",
     "output_type": "stream",
     "text": [
      "[CV 2/5] END criterion=squared_error, max_depth=3, min_samples_leaf=10, min_samples_split=10, n_estimators=100;, score=-20672087837092.504 total time=   0.1s\n"
     ]
    },
    {
     "name": "stderr",
     "output_type": "stream",
     "text": [
      "C:\\Users\\jb5983on\\AppData\\Local\\anaconda3\\envs\\polars\\Lib\\site-packages\\sklearn\\base.py:1473: DataConversionWarning: A column-vector y was passed when a 1d array was expected. Please change the shape of y to (n_samples,), for example using ravel().\n",
      "  return fit_method(estimator, *args, **kwargs)\n"
     ]
    },
    {
     "name": "stdout",
     "output_type": "stream",
     "text": [
      "[CV 3/5] END criterion=squared_error, max_depth=3, min_samples_leaf=10, min_samples_split=10, n_estimators=100;, score=-19367015322927.156 total time=   0.2s\n"
     ]
    },
    {
     "name": "stderr",
     "output_type": "stream",
     "text": [
      "C:\\Users\\jb5983on\\AppData\\Local\\anaconda3\\envs\\polars\\Lib\\site-packages\\sklearn\\base.py:1473: DataConversionWarning: A column-vector y was passed when a 1d array was expected. Please change the shape of y to (n_samples,), for example using ravel().\n",
      "  return fit_method(estimator, *args, **kwargs)\n"
     ]
    },
    {
     "name": "stdout",
     "output_type": "stream",
     "text": [
      "[CV 4/5] END criterion=squared_error, max_depth=3, min_samples_leaf=10, min_samples_split=10, n_estimators=100;, score=-19194361243187.441 total time=   0.1s\n"
     ]
    },
    {
     "name": "stderr",
     "output_type": "stream",
     "text": [
      "C:\\Users\\jb5983on\\AppData\\Local\\anaconda3\\envs\\polars\\Lib\\site-packages\\sklearn\\base.py:1473: DataConversionWarning: A column-vector y was passed when a 1d array was expected. Please change the shape of y to (n_samples,), for example using ravel().\n",
      "  return fit_method(estimator, *args, **kwargs)\n"
     ]
    },
    {
     "name": "stdout",
     "output_type": "stream",
     "text": [
      "[CV 5/5] END criterion=squared_error, max_depth=3, min_samples_leaf=10, min_samples_split=10, n_estimators=100;, score=-20456791837473.242 total time=   0.1s\n",
      "[CV 1/5] END criterion=squared_error, max_depth=4, min_samples_leaf=1, min_samples_split=1, n_estimators=10;, score=nan total time=   0.0s\n",
      "[CV 2/5] END criterion=squared_error, max_depth=4, min_samples_leaf=1, min_samples_split=1, n_estimators=10;, score=nan total time=   0.0s\n",
      "[CV 3/5] END criterion=squared_error, max_depth=4, min_samples_leaf=1, min_samples_split=1, n_estimators=10;, score=nan total time=   0.0s\n",
      "[CV 4/5] END criterion=squared_error, max_depth=4, min_samples_leaf=1, min_samples_split=1, n_estimators=10;, score=nan total time=   0.0s\n",
      "[CV 5/5] END criterion=squared_error, max_depth=4, min_samples_leaf=1, min_samples_split=1, n_estimators=10;, score=nan total time=   0.0s\n",
      "[CV 1/5] END criterion=squared_error, max_depth=4, min_samples_leaf=1, min_samples_split=1, n_estimators=100;, score=nan total time=   0.0s\n",
      "[CV 2/5] END criterion=squared_error, max_depth=4, min_samples_leaf=1, min_samples_split=1, n_estimators=100;, score=nan total time=   0.0s\n",
      "[CV 3/5] END criterion=squared_error, max_depth=4, min_samples_leaf=1, min_samples_split=1, n_estimators=100;, score=nan total time=   0.0s\n",
      "[CV 4/5] END criterion=squared_error, max_depth=4, min_samples_leaf=1, min_samples_split=1, n_estimators=100;, score=nan total time=   0.0s\n",
      "[CV 5/5] END criterion=squared_error, max_depth=4, min_samples_leaf=1, min_samples_split=1, n_estimators=100;, score=nan total time=   0.0s\n",
      "[CV 1/5] END criterion=squared_error, max_depth=4, min_samples_leaf=1, min_samples_split=5, n_estimators=10;, score=-17418782073831.764 total time=   0.0s\n",
      "[CV 2/5] END criterion=squared_error, max_depth=4, min_samples_leaf=1, min_samples_split=5, n_estimators=10;, score=-20735316630502.535 total time=   0.0s\n",
      "[CV 3/5] END criterion=squared_error, max_depth=4, min_samples_leaf=1, min_samples_split=5, n_estimators=10;, score=-19390400291349.059 total time=   0.0s\n",
      "[CV 4/5] END criterion=squared_error, max_depth=4, min_samples_leaf=1, min_samples_split=5, n_estimators=10;, score=-19123444618748.137 total time=   0.0s\n"
     ]
    },
    {
     "name": "stderr",
     "output_type": "stream",
     "text": [
      "C:\\Users\\jb5983on\\AppData\\Local\\anaconda3\\envs\\polars\\Lib\\site-packages\\sklearn\\base.py:1473: DataConversionWarning: A column-vector y was passed when a 1d array was expected. Please change the shape of y to (n_samples,), for example using ravel().\n",
      "  return fit_method(estimator, *args, **kwargs)\n",
      "C:\\Users\\jb5983on\\AppData\\Local\\anaconda3\\envs\\polars\\Lib\\site-packages\\sklearn\\base.py:1473: DataConversionWarning: A column-vector y was passed when a 1d array was expected. Please change the shape of y to (n_samples,), for example using ravel().\n",
      "  return fit_method(estimator, *args, **kwargs)\n",
      "C:\\Users\\jb5983on\\AppData\\Local\\anaconda3\\envs\\polars\\Lib\\site-packages\\sklearn\\base.py:1473: DataConversionWarning: A column-vector y was passed when a 1d array was expected. Please change the shape of y to (n_samples,), for example using ravel().\n",
      "  return fit_method(estimator, *args, **kwargs)\n",
      "C:\\Users\\jb5983on\\AppData\\Local\\anaconda3\\envs\\polars\\Lib\\site-packages\\sklearn\\base.py:1473: DataConversionWarning: A column-vector y was passed when a 1d array was expected. Please change the shape of y to (n_samples,), for example using ravel().\n",
      "  return fit_method(estimator, *args, **kwargs)\n",
      "C:\\Users\\jb5983on\\AppData\\Local\\anaconda3\\envs\\polars\\Lib\\site-packages\\sklearn\\base.py:1473: DataConversionWarning: A column-vector y was passed when a 1d array was expected. Please change the shape of y to (n_samples,), for example using ravel().\n",
      "  return fit_method(estimator, *args, **kwargs)\n"
     ]
    },
    {
     "name": "stdout",
     "output_type": "stream",
     "text": [
      "[CV 5/5] END criterion=squared_error, max_depth=4, min_samples_leaf=1, min_samples_split=5, n_estimators=10;, score=-20424909596873.145 total time=   0.0s\n"
     ]
    },
    {
     "name": "stderr",
     "output_type": "stream",
     "text": [
      "C:\\Users\\jb5983on\\AppData\\Local\\anaconda3\\envs\\polars\\Lib\\site-packages\\sklearn\\base.py:1473: DataConversionWarning: A column-vector y was passed when a 1d array was expected. Please change the shape of y to (n_samples,), for example using ravel().\n",
      "  return fit_method(estimator, *args, **kwargs)\n"
     ]
    },
    {
     "name": "stdout",
     "output_type": "stream",
     "text": [
      "[CV 1/5] END criterion=squared_error, max_depth=4, min_samples_leaf=1, min_samples_split=5, n_estimators=100;, score=-17339264194078.389 total time=   0.2s\n"
     ]
    },
    {
     "name": "stderr",
     "output_type": "stream",
     "text": [
      "C:\\Users\\jb5983on\\AppData\\Local\\anaconda3\\envs\\polars\\Lib\\site-packages\\sklearn\\base.py:1473: DataConversionWarning: A column-vector y was passed when a 1d array was expected. Please change the shape of y to (n_samples,), for example using ravel().\n",
      "  return fit_method(estimator, *args, **kwargs)\n"
     ]
    },
    {
     "name": "stdout",
     "output_type": "stream",
     "text": [
      "[CV 2/5] END criterion=squared_error, max_depth=4, min_samples_leaf=1, min_samples_split=5, n_estimators=100;, score=-20711289600591.453 total time=   0.1s\n",
      "[CV 3/5] END criterion=squared_error, max_depth=4, min_samples_leaf=1, min_samples_split=5, n_estimators=100;, score=-19361517732539.320 total time=   0.1s\n"
     ]
    },
    {
     "name": "stderr",
     "output_type": "stream",
     "text": [
      "C:\\Users\\jb5983on\\AppData\\Local\\anaconda3\\envs\\polars\\Lib\\site-packages\\sklearn\\base.py:1473: DataConversionWarning: A column-vector y was passed when a 1d array was expected. Please change the shape of y to (n_samples,), for example using ravel().\n",
      "  return fit_method(estimator, *args, **kwargs)\n",
      "C:\\Users\\jb5983on\\AppData\\Local\\anaconda3\\envs\\polars\\Lib\\site-packages\\sklearn\\base.py:1473: DataConversionWarning: A column-vector y was passed when a 1d array was expected. Please change the shape of y to (n_samples,), for example using ravel().\n",
      "  return fit_method(estimator, *args, **kwargs)\n"
     ]
    },
    {
     "name": "stdout",
     "output_type": "stream",
     "text": [
      "[CV 4/5] END criterion=squared_error, max_depth=4, min_samples_leaf=1, min_samples_split=5, n_estimators=100;, score=-19155010371202.363 total time=   0.2s\n"
     ]
    },
    {
     "name": "stderr",
     "output_type": "stream",
     "text": [
      "C:\\Users\\jb5983on\\AppData\\Local\\anaconda3\\envs\\polars\\Lib\\site-packages\\sklearn\\base.py:1473: DataConversionWarning: A column-vector y was passed when a 1d array was expected. Please change the shape of y to (n_samples,), for example using ravel().\n",
      "  return fit_method(estimator, *args, **kwargs)\n"
     ]
    },
    {
     "name": "stdout",
     "output_type": "stream",
     "text": [
      "[CV 5/5] END criterion=squared_error, max_depth=4, min_samples_leaf=1, min_samples_split=5, n_estimators=100;, score=-20368873726430.344 total time=   0.2s\n",
      "[CV 1/5] END criterion=squared_error, max_depth=4, min_samples_leaf=1, min_samples_split=10, n_estimators=10;, score=-17323302107952.406 total time=   0.0s\n",
      "[CV 2/5] END criterion=squared_error, max_depth=4, min_samples_leaf=1, min_samples_split=10, n_estimators=10;, score=-20691744705874.566 total time=   0.0s\n",
      "[CV 3/5] END criterion=squared_error, max_depth=4, min_samples_leaf=1, min_samples_split=10, n_estimators=10;, score=-19371344054437.422 total time=   0.0s\n",
      "[CV 4/5] END criterion=squared_error, max_depth=4, min_samples_leaf=1, min_samples_split=10, n_estimators=10;, score=-19158721199532.176 total time=   0.0s\n",
      "[CV 5/5] END criterion=squared_error, max_depth=4, min_samples_leaf=1, min_samples_split=10, n_estimators=10;, score=-20431577551251.086 total time=   0.0s\n"
     ]
    },
    {
     "name": "stderr",
     "output_type": "stream",
     "text": [
      "C:\\Users\\jb5983on\\AppData\\Local\\anaconda3\\envs\\polars\\Lib\\site-packages\\sklearn\\base.py:1473: DataConversionWarning: A column-vector y was passed when a 1d array was expected. Please change the shape of y to (n_samples,), for example using ravel().\n",
      "  return fit_method(estimator, *args, **kwargs)\n",
      "C:\\Users\\jb5983on\\AppData\\Local\\anaconda3\\envs\\polars\\Lib\\site-packages\\sklearn\\base.py:1473: DataConversionWarning: A column-vector y was passed when a 1d array was expected. Please change the shape of y to (n_samples,), for example using ravel().\n",
      "  return fit_method(estimator, *args, **kwargs)\n",
      "C:\\Users\\jb5983on\\AppData\\Local\\anaconda3\\envs\\polars\\Lib\\site-packages\\sklearn\\base.py:1473: DataConversionWarning: A column-vector y was passed when a 1d array was expected. Please change the shape of y to (n_samples,), for example using ravel().\n",
      "  return fit_method(estimator, *args, **kwargs)\n",
      "C:\\Users\\jb5983on\\AppData\\Local\\anaconda3\\envs\\polars\\Lib\\site-packages\\sklearn\\base.py:1473: DataConversionWarning: A column-vector y was passed when a 1d array was expected. Please change the shape of y to (n_samples,), for example using ravel().\n",
      "  return fit_method(estimator, *args, **kwargs)\n",
      "C:\\Users\\jb5983on\\AppData\\Local\\anaconda3\\envs\\polars\\Lib\\site-packages\\sklearn\\base.py:1473: DataConversionWarning: A column-vector y was passed when a 1d array was expected. Please change the shape of y to (n_samples,), for example using ravel().\n",
      "  return fit_method(estimator, *args, **kwargs)\n",
      "C:\\Users\\jb5983on\\AppData\\Local\\anaconda3\\envs\\polars\\Lib\\site-packages\\sklearn\\base.py:1473: DataConversionWarning: A column-vector y was passed when a 1d array was expected. Please change the shape of y to (n_samples,), for example using ravel().\n",
      "  return fit_method(estimator, *args, **kwargs)\n"
     ]
    },
    {
     "name": "stdout",
     "output_type": "stream",
     "text": [
      "[CV 1/5] END criterion=squared_error, max_depth=4, min_samples_leaf=1, min_samples_split=10, n_estimators=100;, score=-17308962094833.166 total time=   0.2s\n"
     ]
    },
    {
     "name": "stderr",
     "output_type": "stream",
     "text": [
      "C:\\Users\\jb5983on\\AppData\\Local\\anaconda3\\envs\\polars\\Lib\\site-packages\\sklearn\\base.py:1473: DataConversionWarning: A column-vector y was passed when a 1d array was expected. Please change the shape of y to (n_samples,), for example using ravel().\n",
      "  return fit_method(estimator, *args, **kwargs)\n"
     ]
    },
    {
     "name": "stdout",
     "output_type": "stream",
     "text": [
      "[CV 2/5] END criterion=squared_error, max_depth=4, min_samples_leaf=1, min_samples_split=10, n_estimators=100;, score=-20691446479628.734 total time=   0.2s\n"
     ]
    },
    {
     "name": "stderr",
     "output_type": "stream",
     "text": [
      "C:\\Users\\jb5983on\\AppData\\Local\\anaconda3\\envs\\polars\\Lib\\site-packages\\sklearn\\base.py:1473: DataConversionWarning: A column-vector y was passed when a 1d array was expected. Please change the shape of y to (n_samples,), for example using ravel().\n",
      "  return fit_method(estimator, *args, **kwargs)\n"
     ]
    },
    {
     "name": "stdout",
     "output_type": "stream",
     "text": [
      "[CV 3/5] END criterion=squared_error, max_depth=4, min_samples_leaf=1, min_samples_split=10, n_estimators=100;, score=-19394525329338.344 total time=   0.2s\n"
     ]
    },
    {
     "name": "stderr",
     "output_type": "stream",
     "text": [
      "C:\\Users\\jb5983on\\AppData\\Local\\anaconda3\\envs\\polars\\Lib\\site-packages\\sklearn\\base.py:1473: DataConversionWarning: A column-vector y was passed when a 1d array was expected. Please change the shape of y to (n_samples,), for example using ravel().\n",
      "  return fit_method(estimator, *args, **kwargs)\n"
     ]
    },
    {
     "name": "stdout",
     "output_type": "stream",
     "text": [
      "[CV 4/5] END criterion=squared_error, max_depth=4, min_samples_leaf=1, min_samples_split=10, n_estimators=100;, score=-19152227133373.742 total time=   0.1s\n"
     ]
    },
    {
     "name": "stderr",
     "output_type": "stream",
     "text": [
      "C:\\Users\\jb5983on\\AppData\\Local\\anaconda3\\envs\\polars\\Lib\\site-packages\\sklearn\\base.py:1473: DataConversionWarning: A column-vector y was passed when a 1d array was expected. Please change the shape of y to (n_samples,), for example using ravel().\n",
      "  return fit_method(estimator, *args, **kwargs)\n"
     ]
    },
    {
     "name": "stdout",
     "output_type": "stream",
     "text": [
      "[CV 5/5] END criterion=squared_error, max_depth=4, min_samples_leaf=1, min_samples_split=10, n_estimators=100;, score=-20393296901472.543 total time=   0.1s\n",
      "[CV 1/5] END criterion=squared_error, max_depth=4, min_samples_leaf=5, min_samples_split=1, n_estimators=10;, score=nan total time=   0.0s\n",
      "[CV 2/5] END criterion=squared_error, max_depth=4, min_samples_leaf=5, min_samples_split=1, n_estimators=10;, score=nan total time=   0.0s\n",
      "[CV 3/5] END criterion=squared_error, max_depth=4, min_samples_leaf=5, min_samples_split=1, n_estimators=10;, score=nan total time=   0.0s\n",
      "[CV 4/5] END criterion=squared_error, max_depth=4, min_samples_leaf=5, min_samples_split=1, n_estimators=10;, score=nan total time=   0.0s\n",
      "[CV 5/5] END criterion=squared_error, max_depth=4, min_samples_leaf=5, min_samples_split=1, n_estimators=10;, score=nan total time=   0.0s\n",
      "[CV 1/5] END criterion=squared_error, max_depth=4, min_samples_leaf=5, min_samples_split=1, n_estimators=100;, score=nan total time=   0.0s\n",
      "[CV 2/5] END criterion=squared_error, max_depth=4, min_samples_leaf=5, min_samples_split=1, n_estimators=100;, score=nan total time=   0.0s\n",
      "[CV 3/5] END criterion=squared_error, max_depth=4, min_samples_leaf=5, min_samples_split=1, n_estimators=100;, score=nan total time=   0.0s\n",
      "[CV 4/5] END criterion=squared_error, max_depth=4, min_samples_leaf=5, min_samples_split=1, n_estimators=100;, score=nan total time=   0.0s\n",
      "[CV 5/5] END criterion=squared_error, max_depth=4, min_samples_leaf=5, min_samples_split=1, n_estimators=100;, score=nan total time=   0.0s\n",
      "[CV 1/5] END criterion=squared_error, max_depth=4, min_samples_leaf=5, min_samples_split=5, n_estimators=10;, score=-17354488869018.930 total time=   0.0s\n",
      "[CV 2/5] END criterion=squared_error, max_depth=4, min_samples_leaf=5, min_samples_split=5, n_estimators=10;, score=-20739820779819.055 total time=   0.0s\n",
      "[CV 3/5] END criterion=squared_error, max_depth=4, min_samples_leaf=5, min_samples_split=5, n_estimators=10;, score=-19412706958899.465 total time=   0.0s\n",
      "[CV 4/5] END criterion=squared_error, max_depth=4, min_samples_leaf=5, min_samples_split=5, n_estimators=10;, score=-19165760432560.117 total time=   0.0s\n"
     ]
    },
    {
     "name": "stderr",
     "output_type": "stream",
     "text": [
      "C:\\Users\\jb5983on\\AppData\\Local\\anaconda3\\envs\\polars\\Lib\\site-packages\\sklearn\\base.py:1473: DataConversionWarning: A column-vector y was passed when a 1d array was expected. Please change the shape of y to (n_samples,), for example using ravel().\n",
      "  return fit_method(estimator, *args, **kwargs)\n",
      "C:\\Users\\jb5983on\\AppData\\Local\\anaconda3\\envs\\polars\\Lib\\site-packages\\sklearn\\base.py:1473: DataConversionWarning: A column-vector y was passed when a 1d array was expected. Please change the shape of y to (n_samples,), for example using ravel().\n",
      "  return fit_method(estimator, *args, **kwargs)\n",
      "C:\\Users\\jb5983on\\AppData\\Local\\anaconda3\\envs\\polars\\Lib\\site-packages\\sklearn\\base.py:1473: DataConversionWarning: A column-vector y was passed when a 1d array was expected. Please change the shape of y to (n_samples,), for example using ravel().\n",
      "  return fit_method(estimator, *args, **kwargs)\n",
      "C:\\Users\\jb5983on\\AppData\\Local\\anaconda3\\envs\\polars\\Lib\\site-packages\\sklearn\\base.py:1473: DataConversionWarning: A column-vector y was passed when a 1d array was expected. Please change the shape of y to (n_samples,), for example using ravel().\n",
      "  return fit_method(estimator, *args, **kwargs)\n",
      "C:\\Users\\jb5983on\\AppData\\Local\\anaconda3\\envs\\polars\\Lib\\site-packages\\sklearn\\base.py:1473: DataConversionWarning: A column-vector y was passed when a 1d array was expected. Please change the shape of y to (n_samples,), for example using ravel().\n",
      "  return fit_method(estimator, *args, **kwargs)\n",
      "C:\\Users\\jb5983on\\AppData\\Local\\anaconda3\\envs\\polars\\Lib\\site-packages\\sklearn\\base.py:1473: DataConversionWarning: A column-vector y was passed when a 1d array was expected. Please change the shape of y to (n_samples,), for example using ravel().\n",
      "  return fit_method(estimator, *args, **kwargs)\n"
     ]
    },
    {
     "name": "stdout",
     "output_type": "stream",
     "text": [
      "[CV 5/5] END criterion=squared_error, max_depth=4, min_samples_leaf=5, min_samples_split=5, n_estimators=10;, score=-20394060050430.684 total time=   0.0s\n",
      "[CV 1/5] END criterion=squared_error, max_depth=4, min_samples_leaf=5, min_samples_split=5, n_estimators=100;, score=-17344548921971.787 total time=   0.2s\n"
     ]
    },
    {
     "name": "stderr",
     "output_type": "stream",
     "text": [
      "C:\\Users\\jb5983on\\AppData\\Local\\anaconda3\\envs\\polars\\Lib\\site-packages\\sklearn\\base.py:1473: DataConversionWarning: A column-vector y was passed when a 1d array was expected. Please change the shape of y to (n_samples,), for example using ravel().\n",
      "  return fit_method(estimator, *args, **kwargs)\n"
     ]
    },
    {
     "name": "stdout",
     "output_type": "stream",
     "text": [
      "[CV 2/5] END criterion=squared_error, max_depth=4, min_samples_leaf=5, min_samples_split=5, n_estimators=100;, score=-20670754178633.199 total time=   0.1s\n"
     ]
    },
    {
     "name": "stderr",
     "output_type": "stream",
     "text": [
      "C:\\Users\\jb5983on\\AppData\\Local\\anaconda3\\envs\\polars\\Lib\\site-packages\\sklearn\\base.py:1473: DataConversionWarning: A column-vector y was passed when a 1d array was expected. Please change the shape of y to (n_samples,), for example using ravel().\n",
      "  return fit_method(estimator, *args, **kwargs)\n"
     ]
    },
    {
     "name": "stdout",
     "output_type": "stream",
     "text": [
      "[CV 3/5] END criterion=squared_error, max_depth=4, min_samples_leaf=5, min_samples_split=5, n_estimators=100;, score=-19377283188193.309 total time=   0.2s\n"
     ]
    },
    {
     "name": "stderr",
     "output_type": "stream",
     "text": [
      "C:\\Users\\jb5983on\\AppData\\Local\\anaconda3\\envs\\polars\\Lib\\site-packages\\sklearn\\base.py:1473: DataConversionWarning: A column-vector y was passed when a 1d array was expected. Please change the shape of y to (n_samples,), for example using ravel().\n",
      "  return fit_method(estimator, *args, **kwargs)\n"
     ]
    },
    {
     "name": "stdout",
     "output_type": "stream",
     "text": [
      "[CV 4/5] END criterion=squared_error, max_depth=4, min_samples_leaf=5, min_samples_split=5, n_estimators=100;, score=-19157329150200.164 total time=   0.2s\n"
     ]
    },
    {
     "name": "stderr",
     "output_type": "stream",
     "text": [
      "C:\\Users\\jb5983on\\AppData\\Local\\anaconda3\\envs\\polars\\Lib\\site-packages\\sklearn\\base.py:1473: DataConversionWarning: A column-vector y was passed when a 1d array was expected. Please change the shape of y to (n_samples,), for example using ravel().\n",
      "  return fit_method(estimator, *args, **kwargs)\n"
     ]
    },
    {
     "name": "stdout",
     "output_type": "stream",
     "text": [
      "[CV 5/5] END criterion=squared_error, max_depth=4, min_samples_leaf=5, min_samples_split=5, n_estimators=100;, score=-20372427287132.102 total time=   0.2s\n",
      "[CV 1/5] END criterion=squared_error, max_depth=4, min_samples_leaf=5, min_samples_split=10, n_estimators=10;, score=-17352689883530.488 total time=   0.0s\n",
      "[CV 2/5] END criterion=squared_error, max_depth=4, min_samples_leaf=5, min_samples_split=10, n_estimators=10;, score=-20758082072779.742 total time=   0.0s\n",
      "[CV 3/5] END criterion=squared_error, max_depth=4, min_samples_leaf=5, min_samples_split=10, n_estimators=10;, score=-19360579377221.004 total time=   0.0s\n"
     ]
    },
    {
     "name": "stderr",
     "output_type": "stream",
     "text": [
      "C:\\Users\\jb5983on\\AppData\\Local\\anaconda3\\envs\\polars\\Lib\\site-packages\\sklearn\\base.py:1473: DataConversionWarning: A column-vector y was passed when a 1d array was expected. Please change the shape of y to (n_samples,), for example using ravel().\n",
      "  return fit_method(estimator, *args, **kwargs)\n",
      "C:\\Users\\jb5983on\\AppData\\Local\\anaconda3\\envs\\polars\\Lib\\site-packages\\sklearn\\base.py:1473: DataConversionWarning: A column-vector y was passed when a 1d array was expected. Please change the shape of y to (n_samples,), for example using ravel().\n",
      "  return fit_method(estimator, *args, **kwargs)\n",
      "C:\\Users\\jb5983on\\AppData\\Local\\anaconda3\\envs\\polars\\Lib\\site-packages\\sklearn\\base.py:1473: DataConversionWarning: A column-vector y was passed when a 1d array was expected. Please change the shape of y to (n_samples,), for example using ravel().\n",
      "  return fit_method(estimator, *args, **kwargs)\n",
      "C:\\Users\\jb5983on\\AppData\\Local\\anaconda3\\envs\\polars\\Lib\\site-packages\\sklearn\\base.py:1473: DataConversionWarning: A column-vector y was passed when a 1d array was expected. Please change the shape of y to (n_samples,), for example using ravel().\n",
      "  return fit_method(estimator, *args, **kwargs)\n"
     ]
    },
    {
     "name": "stdout",
     "output_type": "stream",
     "text": [
      "[CV 4/5] END criterion=squared_error, max_depth=4, min_samples_leaf=5, min_samples_split=10, n_estimators=10;, score=-19116890088164.699 total time=   0.0s\n",
      "[CV 5/5] END criterion=squared_error, max_depth=4, min_samples_leaf=5, min_samples_split=10, n_estimators=10;, score=-20410465625706.141 total time=   0.0s\n"
     ]
    },
    {
     "name": "stderr",
     "output_type": "stream",
     "text": [
      "C:\\Users\\jb5983on\\AppData\\Local\\anaconda3\\envs\\polars\\Lib\\site-packages\\sklearn\\base.py:1473: DataConversionWarning: A column-vector y was passed when a 1d array was expected. Please change the shape of y to (n_samples,), for example using ravel().\n",
      "  return fit_method(estimator, *args, **kwargs)\n",
      "C:\\Users\\jb5983on\\AppData\\Local\\anaconda3\\envs\\polars\\Lib\\site-packages\\sklearn\\base.py:1473: DataConversionWarning: A column-vector y was passed when a 1d array was expected. Please change the shape of y to (n_samples,), for example using ravel().\n",
      "  return fit_method(estimator, *args, **kwargs)\n"
     ]
    },
    {
     "name": "stdout",
     "output_type": "stream",
     "text": [
      "[CV 1/5] END criterion=squared_error, max_depth=4, min_samples_leaf=5, min_samples_split=10, n_estimators=100;, score=-17336564610821.908 total time=   0.1s\n"
     ]
    },
    {
     "name": "stderr",
     "output_type": "stream",
     "text": [
      "C:\\Users\\jb5983on\\AppData\\Local\\anaconda3\\envs\\polars\\Lib\\site-packages\\sklearn\\base.py:1473: DataConversionWarning: A column-vector y was passed when a 1d array was expected. Please change the shape of y to (n_samples,), for example using ravel().\n",
      "  return fit_method(estimator, *args, **kwargs)\n",
      "C:\\Users\\jb5983on\\AppData\\Local\\anaconda3\\envs\\polars\\Lib\\site-packages\\sklearn\\base.py:1473: DataConversionWarning: A column-vector y was passed when a 1d array was expected. Please change the shape of y to (n_samples,), for example using ravel().\n",
      "  return fit_method(estimator, *args, **kwargs)\n"
     ]
    },
    {
     "name": "stdout",
     "output_type": "stream",
     "text": [
      "[CV 2/5] END criterion=squared_error, max_depth=4, min_samples_leaf=5, min_samples_split=10, n_estimators=100;, score=-20713622389137.656 total time=   0.2s\n",
      "[CV 3/5] END criterion=squared_error, max_depth=4, min_samples_leaf=5, min_samples_split=10, n_estimators=100;, score=-19381210614621.160 total time=   0.1s\n"
     ]
    },
    {
     "name": "stderr",
     "output_type": "stream",
     "text": [
      "C:\\Users\\jb5983on\\AppData\\Local\\anaconda3\\envs\\polars\\Lib\\site-packages\\sklearn\\base.py:1473: DataConversionWarning: A column-vector y was passed when a 1d array was expected. Please change the shape of y to (n_samples,), for example using ravel().\n",
      "  return fit_method(estimator, *args, **kwargs)\n"
     ]
    },
    {
     "name": "stdout",
     "output_type": "stream",
     "text": [
      "[CV 4/5] END criterion=squared_error, max_depth=4, min_samples_leaf=5, min_samples_split=10, n_estimators=100;, score=-19142277936913.754 total time=   0.2s\n"
     ]
    },
    {
     "name": "stderr",
     "output_type": "stream",
     "text": [
      "C:\\Users\\jb5983on\\AppData\\Local\\anaconda3\\envs\\polars\\Lib\\site-packages\\sklearn\\base.py:1473: DataConversionWarning: A column-vector y was passed when a 1d array was expected. Please change the shape of y to (n_samples,), for example using ravel().\n",
      "  return fit_method(estimator, *args, **kwargs)\n"
     ]
    },
    {
     "name": "stdout",
     "output_type": "stream",
     "text": [
      "[CV 5/5] END criterion=squared_error, max_depth=4, min_samples_leaf=5, min_samples_split=10, n_estimators=100;, score=-20379446358423.645 total time=   0.2s\n",
      "[CV 1/5] END criterion=squared_error, max_depth=4, min_samples_leaf=10, min_samples_split=1, n_estimators=10;, score=nan total time=   0.0s\n",
      "[CV 2/5] END criterion=squared_error, max_depth=4, min_samples_leaf=10, min_samples_split=1, n_estimators=10;, score=nan total time=   0.0s\n",
      "[CV 3/5] END criterion=squared_error, max_depth=4, min_samples_leaf=10, min_samples_split=1, n_estimators=10;, score=nan total time=   0.0s\n",
      "[CV 4/5] END criterion=squared_error, max_depth=4, min_samples_leaf=10, min_samples_split=1, n_estimators=10;, score=nan total time=   0.0s\n",
      "[CV 5/5] END criterion=squared_error, max_depth=4, min_samples_leaf=10, min_samples_split=1, n_estimators=10;, score=nan total time=   0.0s\n",
      "[CV 1/5] END criterion=squared_error, max_depth=4, min_samples_leaf=10, min_samples_split=1, n_estimators=100;, score=nan total time=   0.0s\n",
      "[CV 2/5] END criterion=squared_error, max_depth=4, min_samples_leaf=10, min_samples_split=1, n_estimators=100;, score=nan total time=   0.0s\n",
      "[CV 3/5] END criterion=squared_error, max_depth=4, min_samples_leaf=10, min_samples_split=1, n_estimators=100;, score=nan total time=   0.0s\n",
      "[CV 4/5] END criterion=squared_error, max_depth=4, min_samples_leaf=10, min_samples_split=1, n_estimators=100;, score=nan total time=   0.0s\n",
      "[CV 5/5] END criterion=squared_error, max_depth=4, min_samples_leaf=10, min_samples_split=1, n_estimators=100;, score=nan total time=   0.0s\n",
      "[CV 1/5] END criterion=squared_error, max_depth=4, min_samples_leaf=10, min_samples_split=5, n_estimators=10;, score=-17466251321902.467 total time=   0.0s\n",
      "[CV 2/5] END criterion=squared_error, max_depth=4, min_samples_leaf=10, min_samples_split=5, n_estimators=10;, score=-20649904370936.234 total time=   0.0s\n",
      "[CV 3/5] END criterion=squared_error, max_depth=4, min_samples_leaf=10, min_samples_split=5, n_estimators=10;, score=-19403050475836.266 total time=   0.0s\n"
     ]
    },
    {
     "name": "stderr",
     "output_type": "stream",
     "text": [
      "C:\\Users\\jb5983on\\AppData\\Local\\anaconda3\\envs\\polars\\Lib\\site-packages\\sklearn\\base.py:1473: DataConversionWarning: A column-vector y was passed when a 1d array was expected. Please change the shape of y to (n_samples,), for example using ravel().\n",
      "  return fit_method(estimator, *args, **kwargs)\n",
      "C:\\Users\\jb5983on\\AppData\\Local\\anaconda3\\envs\\polars\\Lib\\site-packages\\sklearn\\base.py:1473: DataConversionWarning: A column-vector y was passed when a 1d array was expected. Please change the shape of y to (n_samples,), for example using ravel().\n",
      "  return fit_method(estimator, *args, **kwargs)\n",
      "C:\\Users\\jb5983on\\AppData\\Local\\anaconda3\\envs\\polars\\Lib\\site-packages\\sklearn\\base.py:1473: DataConversionWarning: A column-vector y was passed when a 1d array was expected. Please change the shape of y to (n_samples,), for example using ravel().\n",
      "  return fit_method(estimator, *args, **kwargs)\n",
      "C:\\Users\\jb5983on\\AppData\\Local\\anaconda3\\envs\\polars\\Lib\\site-packages\\sklearn\\base.py:1473: DataConversionWarning: A column-vector y was passed when a 1d array was expected. Please change the shape of y to (n_samples,), for example using ravel().\n",
      "  return fit_method(estimator, *args, **kwargs)\n"
     ]
    },
    {
     "name": "stdout",
     "output_type": "stream",
     "text": [
      "[CV 4/5] END criterion=squared_error, max_depth=4, min_samples_leaf=10, min_samples_split=5, n_estimators=10;, score=-19126610440513.262 total time=   0.0s\n",
      "[CV 5/5] END criterion=squared_error, max_depth=4, min_samples_leaf=10, min_samples_split=5, n_estimators=10;, score=-20452357308261.059 total time=   0.0s\n"
     ]
    },
    {
     "name": "stderr",
     "output_type": "stream",
     "text": [
      "C:\\Users\\jb5983on\\AppData\\Local\\anaconda3\\envs\\polars\\Lib\\site-packages\\sklearn\\base.py:1473: DataConversionWarning: A column-vector y was passed when a 1d array was expected. Please change the shape of y to (n_samples,), for example using ravel().\n",
      "  return fit_method(estimator, *args, **kwargs)\n",
      "C:\\Users\\jb5983on\\AppData\\Local\\anaconda3\\envs\\polars\\Lib\\site-packages\\sklearn\\base.py:1473: DataConversionWarning: A column-vector y was passed when a 1d array was expected. Please change the shape of y to (n_samples,), for example using ravel().\n",
      "  return fit_method(estimator, *args, **kwargs)\n"
     ]
    },
    {
     "name": "stdout",
     "output_type": "stream",
     "text": [
      "[CV 1/5] END criterion=squared_error, max_depth=4, min_samples_leaf=10, min_samples_split=5, n_estimators=100;, score=-17327378955209.295 total time=   0.2s\n",
      "[CV 2/5] END criterion=squared_error, max_depth=4, min_samples_leaf=10, min_samples_split=5, n_estimators=100;, score=-20712875160206.391 total time=   0.1s\n"
     ]
    },
    {
     "name": "stderr",
     "output_type": "stream",
     "text": [
      "C:\\Users\\jb5983on\\AppData\\Local\\anaconda3\\envs\\polars\\Lib\\site-packages\\sklearn\\base.py:1473: DataConversionWarning: A column-vector y was passed when a 1d array was expected. Please change the shape of y to (n_samples,), for example using ravel().\n",
      "  return fit_method(estimator, *args, **kwargs)\n",
      "C:\\Users\\jb5983on\\AppData\\Local\\anaconda3\\envs\\polars\\Lib\\site-packages\\sklearn\\base.py:1473: DataConversionWarning: A column-vector y was passed when a 1d array was expected. Please change the shape of y to (n_samples,), for example using ravel().\n",
      "  return fit_method(estimator, *args, **kwargs)\n"
     ]
    },
    {
     "name": "stdout",
     "output_type": "stream",
     "text": [
      "[CV 3/5] END criterion=squared_error, max_depth=4, min_samples_leaf=10, min_samples_split=5, n_estimators=100;, score=-19393084704856.926 total time=   0.1s\n"
     ]
    },
    {
     "name": "stderr",
     "output_type": "stream",
     "text": [
      "C:\\Users\\jb5983on\\AppData\\Local\\anaconda3\\envs\\polars\\Lib\\site-packages\\sklearn\\base.py:1473: DataConversionWarning: A column-vector y was passed when a 1d array was expected. Please change the shape of y to (n_samples,), for example using ravel().\n",
      "  return fit_method(estimator, *args, **kwargs)\n"
     ]
    },
    {
     "name": "stdout",
     "output_type": "stream",
     "text": [
      "[CV 4/5] END criterion=squared_error, max_depth=4, min_samples_leaf=10, min_samples_split=5, n_estimators=100;, score=-19152527496794.371 total time=   0.2s\n"
     ]
    },
    {
     "name": "stderr",
     "output_type": "stream",
     "text": [
      "C:\\Users\\jb5983on\\AppData\\Local\\anaconda3\\envs\\polars\\Lib\\site-packages\\sklearn\\base.py:1473: DataConversionWarning: A column-vector y was passed when a 1d array was expected. Please change the shape of y to (n_samples,), for example using ravel().\n",
      "  return fit_method(estimator, *args, **kwargs)\n"
     ]
    },
    {
     "name": "stdout",
     "output_type": "stream",
     "text": [
      "[CV 5/5] END criterion=squared_error, max_depth=4, min_samples_leaf=10, min_samples_split=5, n_estimators=100;, score=-20376635952992.586 total time=   0.2s\n",
      "[CV 1/5] END criterion=squared_error, max_depth=4, min_samples_leaf=10, min_samples_split=10, n_estimators=10;, score=-17412733590177.539 total time=   0.0s\n",
      "[CV 2/5] END criterion=squared_error, max_depth=4, min_samples_leaf=10, min_samples_split=10, n_estimators=10;, score=-20755062809248.129 total time=   0.0s\n",
      "[CV 3/5] END criterion=squared_error, max_depth=4, min_samples_leaf=10, min_samples_split=10, n_estimators=10;, score=-19437283214614.547 total time=   0.0s\n",
      "[CV 4/5] END criterion=squared_error, max_depth=4, min_samples_leaf=10, min_samples_split=10, n_estimators=10;, score=-19226139143067.629 total time=   0.0s\n"
     ]
    },
    {
     "name": "stderr",
     "output_type": "stream",
     "text": [
      "C:\\Users\\jb5983on\\AppData\\Local\\anaconda3\\envs\\polars\\Lib\\site-packages\\sklearn\\base.py:1473: DataConversionWarning: A column-vector y was passed when a 1d array was expected. Please change the shape of y to (n_samples,), for example using ravel().\n",
      "  return fit_method(estimator, *args, **kwargs)\n",
      "C:\\Users\\jb5983on\\AppData\\Local\\anaconda3\\envs\\polars\\Lib\\site-packages\\sklearn\\base.py:1473: DataConversionWarning: A column-vector y was passed when a 1d array was expected. Please change the shape of y to (n_samples,), for example using ravel().\n",
      "  return fit_method(estimator, *args, **kwargs)\n",
      "C:\\Users\\jb5983on\\AppData\\Local\\anaconda3\\envs\\polars\\Lib\\site-packages\\sklearn\\base.py:1473: DataConversionWarning: A column-vector y was passed when a 1d array was expected. Please change the shape of y to (n_samples,), for example using ravel().\n",
      "  return fit_method(estimator, *args, **kwargs)\n",
      "C:\\Users\\jb5983on\\AppData\\Local\\anaconda3\\envs\\polars\\Lib\\site-packages\\sklearn\\base.py:1473: DataConversionWarning: A column-vector y was passed when a 1d array was expected. Please change the shape of y to (n_samples,), for example using ravel().\n",
      "  return fit_method(estimator, *args, **kwargs)\n",
      "C:\\Users\\jb5983on\\AppData\\Local\\anaconda3\\envs\\polars\\Lib\\site-packages\\sklearn\\base.py:1473: DataConversionWarning: A column-vector y was passed when a 1d array was expected. Please change the shape of y to (n_samples,), for example using ravel().\n",
      "  return fit_method(estimator, *args, **kwargs)\n",
      "C:\\Users\\jb5983on\\AppData\\Local\\anaconda3\\envs\\polars\\Lib\\site-packages\\sklearn\\base.py:1473: DataConversionWarning: A column-vector y was passed when a 1d array was expected. Please change the shape of y to (n_samples,), for example using ravel().\n",
      "  return fit_method(estimator, *args, **kwargs)\n"
     ]
    },
    {
     "name": "stdout",
     "output_type": "stream",
     "text": [
      "[CV 5/5] END criterion=squared_error, max_depth=4, min_samples_leaf=10, min_samples_split=10, n_estimators=10;, score=-20365879155994.562 total time=   0.0s\n",
      "[CV 1/5] END criterion=squared_error, max_depth=4, min_samples_leaf=10, min_samples_split=10, n_estimators=100;, score=-17318803758618.783 total time=   0.1s\n"
     ]
    },
    {
     "name": "stderr",
     "output_type": "stream",
     "text": [
      "C:\\Users\\jb5983on\\AppData\\Local\\anaconda3\\envs\\polars\\Lib\\site-packages\\sklearn\\base.py:1473: DataConversionWarning: A column-vector y was passed when a 1d array was expected. Please change the shape of y to (n_samples,), for example using ravel().\n",
      "  return fit_method(estimator, *args, **kwargs)\n"
     ]
    },
    {
     "name": "stdout",
     "output_type": "stream",
     "text": [
      "[CV 2/5] END criterion=squared_error, max_depth=4, min_samples_leaf=10, min_samples_split=10, n_estimators=100;, score=-20702360856040.324 total time=   0.2s\n"
     ]
    },
    {
     "name": "stderr",
     "output_type": "stream",
     "text": [
      "C:\\Users\\jb5983on\\AppData\\Local\\anaconda3\\envs\\polars\\Lib\\site-packages\\sklearn\\base.py:1473: DataConversionWarning: A column-vector y was passed when a 1d array was expected. Please change the shape of y to (n_samples,), for example using ravel().\n",
      "  return fit_method(estimator, *args, **kwargs)\n"
     ]
    },
    {
     "name": "stdout",
     "output_type": "stream",
     "text": [
      "[CV 3/5] END criterion=squared_error, max_depth=4, min_samples_leaf=10, min_samples_split=10, n_estimators=100;, score=-19375845678892.059 total time=   0.2s\n"
     ]
    },
    {
     "name": "stderr",
     "output_type": "stream",
     "text": [
      "C:\\Users\\jb5983on\\AppData\\Local\\anaconda3\\envs\\polars\\Lib\\site-packages\\sklearn\\base.py:1473: DataConversionWarning: A column-vector y was passed when a 1d array was expected. Please change the shape of y to (n_samples,), for example using ravel().\n",
      "  return fit_method(estimator, *args, **kwargs)\n"
     ]
    },
    {
     "name": "stdout",
     "output_type": "stream",
     "text": [
      "[CV 4/5] END criterion=squared_error, max_depth=4, min_samples_leaf=10, min_samples_split=10, n_estimators=100;, score=-19145212480772.957 total time=   0.2s\n"
     ]
    },
    {
     "name": "stderr",
     "output_type": "stream",
     "text": [
      "C:\\Users\\jb5983on\\AppData\\Local\\anaconda3\\envs\\polars\\Lib\\site-packages\\sklearn\\base.py:1473: DataConversionWarning: A column-vector y was passed when a 1d array was expected. Please change the shape of y to (n_samples,), for example using ravel().\n",
      "  return fit_method(estimator, *args, **kwargs)\n"
     ]
    },
    {
     "name": "stdout",
     "output_type": "stream",
     "text": [
      "[CV 5/5] END criterion=squared_error, max_depth=4, min_samples_leaf=10, min_samples_split=10, n_estimators=100;, score=-20390886005457.633 total time=   0.2s\n",
      "[CV 1/5] END criterion=squared_error, max_depth=5, min_samples_leaf=1, min_samples_split=1, n_estimators=10;, score=nan total time=   0.0s\n",
      "[CV 2/5] END criterion=squared_error, max_depth=5, min_samples_leaf=1, min_samples_split=1, n_estimators=10;, score=nan total time=   0.0s\n",
      "[CV 3/5] END criterion=squared_error, max_depth=5, min_samples_leaf=1, min_samples_split=1, n_estimators=10;, score=nan total time=   0.0s\n",
      "[CV 4/5] END criterion=squared_error, max_depth=5, min_samples_leaf=1, min_samples_split=1, n_estimators=10;, score=nan total time=   0.0s\n",
      "[CV 5/5] END criterion=squared_error, max_depth=5, min_samples_leaf=1, min_samples_split=1, n_estimators=10;, score=nan total time=   0.0s\n",
      "[CV 1/5] END criterion=squared_error, max_depth=5, min_samples_leaf=1, min_samples_split=1, n_estimators=100;, score=nan total time=   0.0s\n",
      "[CV 2/5] END criterion=squared_error, max_depth=5, min_samples_leaf=1, min_samples_split=1, n_estimators=100;, score=nan total time=   0.0s\n",
      "[CV 3/5] END criterion=squared_error, max_depth=5, min_samples_leaf=1, min_samples_split=1, n_estimators=100;, score=nan total time=   0.0s\n",
      "[CV 4/5] END criterion=squared_error, max_depth=5, min_samples_leaf=1, min_samples_split=1, n_estimators=100;, score=nan total time=   0.0s\n",
      "[CV 5/5] END criterion=squared_error, max_depth=5, min_samples_leaf=1, min_samples_split=1, n_estimators=100;, score=nan total time=   0.0s\n",
      "[CV 1/5] END criterion=squared_error, max_depth=5, min_samples_leaf=1, min_samples_split=5, n_estimators=10;, score=-17381872268163.455 total time=   0.0s\n",
      "[CV 2/5] END criterion=squared_error, max_depth=5, min_samples_leaf=1, min_samples_split=5, n_estimators=10;, score=-20871972343190.262 total time=   0.0s\n"
     ]
    },
    {
     "name": "stderr",
     "output_type": "stream",
     "text": [
      "C:\\Users\\jb5983on\\AppData\\Local\\anaconda3\\envs\\polars\\Lib\\site-packages\\sklearn\\base.py:1473: DataConversionWarning: A column-vector y was passed when a 1d array was expected. Please change the shape of y to (n_samples,), for example using ravel().\n",
      "  return fit_method(estimator, *args, **kwargs)\n",
      "C:\\Users\\jb5983on\\AppData\\Local\\anaconda3\\envs\\polars\\Lib\\site-packages\\sklearn\\base.py:1473: DataConversionWarning: A column-vector y was passed when a 1d array was expected. Please change the shape of y to (n_samples,), for example using ravel().\n",
      "  return fit_method(estimator, *args, **kwargs)\n",
      "C:\\Users\\jb5983on\\AppData\\Local\\anaconda3\\envs\\polars\\Lib\\site-packages\\sklearn\\base.py:1473: DataConversionWarning: A column-vector y was passed when a 1d array was expected. Please change the shape of y to (n_samples,), for example using ravel().\n",
      "  return fit_method(estimator, *args, **kwargs)\n",
      "C:\\Users\\jb5983on\\AppData\\Local\\anaconda3\\envs\\polars\\Lib\\site-packages\\sklearn\\base.py:1473: DataConversionWarning: A column-vector y was passed when a 1d array was expected. Please change the shape of y to (n_samples,), for example using ravel().\n",
      "  return fit_method(estimator, *args, **kwargs)\n",
      "C:\\Users\\jb5983on\\AppData\\Local\\anaconda3\\envs\\polars\\Lib\\site-packages\\sklearn\\base.py:1473: DataConversionWarning: A column-vector y was passed when a 1d array was expected. Please change the shape of y to (n_samples,), for example using ravel().\n",
      "  return fit_method(estimator, *args, **kwargs)\n"
     ]
    },
    {
     "name": "stdout",
     "output_type": "stream",
     "text": [
      "[CV 3/5] END criterion=squared_error, max_depth=5, min_samples_leaf=1, min_samples_split=5, n_estimators=10;, score=-19372067441767.922 total time=   0.0s\n",
      "[CV 4/5] END criterion=squared_error, max_depth=5, min_samples_leaf=1, min_samples_split=5, n_estimators=10;, score=-19152254397711.199 total time=   0.0s\n",
      "[CV 5/5] END criterion=squared_error, max_depth=5, min_samples_leaf=1, min_samples_split=5, n_estimators=10;, score=-20413594339218.160 total time=   0.0s\n"
     ]
    },
    {
     "name": "stderr",
     "output_type": "stream",
     "text": [
      "C:\\Users\\jb5983on\\AppData\\Local\\anaconda3\\envs\\polars\\Lib\\site-packages\\sklearn\\base.py:1473: DataConversionWarning: A column-vector y was passed when a 1d array was expected. Please change the shape of y to (n_samples,), for example using ravel().\n",
      "  return fit_method(estimator, *args, **kwargs)\n"
     ]
    },
    {
     "name": "stdout",
     "output_type": "stream",
     "text": [
      "[CV 1/5] END criterion=squared_error, max_depth=5, min_samples_leaf=1, min_samples_split=5, n_estimators=100;, score=-17377175322321.404 total time=   0.2s\n"
     ]
    },
    {
     "name": "stderr",
     "output_type": "stream",
     "text": [
      "C:\\Users\\jb5983on\\AppData\\Local\\anaconda3\\envs\\polars\\Lib\\site-packages\\sklearn\\base.py:1473: DataConversionWarning: A column-vector y was passed when a 1d array was expected. Please change the shape of y to (n_samples,), for example using ravel().\n",
      "  return fit_method(estimator, *args, **kwargs)\n"
     ]
    },
    {
     "name": "stdout",
     "output_type": "stream",
     "text": [
      "[CV 2/5] END criterion=squared_error, max_depth=5, min_samples_leaf=1, min_samples_split=5, n_estimators=100;, score=-20778339609579.941 total time=   0.1s\n",
      "[CV 3/5] END criterion=squared_error, max_depth=5, min_samples_leaf=1, min_samples_split=5, n_estimators=100;, score=-19454140638682.273 total time=   0.1s\n"
     ]
    },
    {
     "name": "stderr",
     "output_type": "stream",
     "text": [
      "C:\\Users\\jb5983on\\AppData\\Local\\anaconda3\\envs\\polars\\Lib\\site-packages\\sklearn\\base.py:1473: DataConversionWarning: A column-vector y was passed when a 1d array was expected. Please change the shape of y to (n_samples,), for example using ravel().\n",
      "  return fit_method(estimator, *args, **kwargs)\n",
      "C:\\Users\\jb5983on\\AppData\\Local\\anaconda3\\envs\\polars\\Lib\\site-packages\\sklearn\\base.py:1473: DataConversionWarning: A column-vector y was passed when a 1d array was expected. Please change the shape of y to (n_samples,), for example using ravel().\n",
      "  return fit_method(estimator, *args, **kwargs)\n"
     ]
    },
    {
     "name": "stdout",
     "output_type": "stream",
     "text": [
      "[CV 4/5] END criterion=squared_error, max_depth=5, min_samples_leaf=1, min_samples_split=5, n_estimators=100;, score=-19203838068375.309 total time=   0.2s\n"
     ]
    },
    {
     "name": "stderr",
     "output_type": "stream",
     "text": [
      "C:\\Users\\jb5983on\\AppData\\Local\\anaconda3\\envs\\polars\\Lib\\site-packages\\sklearn\\base.py:1473: DataConversionWarning: A column-vector y was passed when a 1d array was expected. Please change the shape of y to (n_samples,), for example using ravel().\n",
      "  return fit_method(estimator, *args, **kwargs)\n"
     ]
    },
    {
     "name": "stdout",
     "output_type": "stream",
     "text": [
      "[CV 5/5] END criterion=squared_error, max_depth=5, min_samples_leaf=1, min_samples_split=5, n_estimators=100;, score=-20424551519651.078 total time=   0.2s\n",
      "[CV 1/5] END criterion=squared_error, max_depth=5, min_samples_leaf=1, min_samples_split=10, n_estimators=10;, score=-17432066842781.865 total time=   0.0s\n",
      "[CV 2/5] END criterion=squared_error, max_depth=5, min_samples_leaf=1, min_samples_split=10, n_estimators=10;, score=-20812672913717.820 total time=   0.0s\n",
      "[CV 3/5] END criterion=squared_error, max_depth=5, min_samples_leaf=1, min_samples_split=10, n_estimators=10;, score=-19486116133700.066 total time=   0.0s\n",
      "[CV 4/5] END criterion=squared_error, max_depth=5, min_samples_leaf=1, min_samples_split=10, n_estimators=10;, score=-19248461433349.148 total time=   0.0s\n"
     ]
    },
    {
     "name": "stderr",
     "output_type": "stream",
     "text": [
      "C:\\Users\\jb5983on\\AppData\\Local\\anaconda3\\envs\\polars\\Lib\\site-packages\\sklearn\\base.py:1473: DataConversionWarning: A column-vector y was passed when a 1d array was expected. Please change the shape of y to (n_samples,), for example using ravel().\n",
      "  return fit_method(estimator, *args, **kwargs)\n",
      "C:\\Users\\jb5983on\\AppData\\Local\\anaconda3\\envs\\polars\\Lib\\site-packages\\sklearn\\base.py:1473: DataConversionWarning: A column-vector y was passed when a 1d array was expected. Please change the shape of y to (n_samples,), for example using ravel().\n",
      "  return fit_method(estimator, *args, **kwargs)\n",
      "C:\\Users\\jb5983on\\AppData\\Local\\anaconda3\\envs\\polars\\Lib\\site-packages\\sklearn\\base.py:1473: DataConversionWarning: A column-vector y was passed when a 1d array was expected. Please change the shape of y to (n_samples,), for example using ravel().\n",
      "  return fit_method(estimator, *args, **kwargs)\n",
      "C:\\Users\\jb5983on\\AppData\\Local\\anaconda3\\envs\\polars\\Lib\\site-packages\\sklearn\\base.py:1473: DataConversionWarning: A column-vector y was passed when a 1d array was expected. Please change the shape of y to (n_samples,), for example using ravel().\n",
      "  return fit_method(estimator, *args, **kwargs)\n",
      "C:\\Users\\jb5983on\\AppData\\Local\\anaconda3\\envs\\polars\\Lib\\site-packages\\sklearn\\base.py:1473: DataConversionWarning: A column-vector y was passed when a 1d array was expected. Please change the shape of y to (n_samples,), for example using ravel().\n",
      "  return fit_method(estimator, *args, **kwargs)\n"
     ]
    },
    {
     "name": "stdout",
     "output_type": "stream",
     "text": [
      "[CV 5/5] END criterion=squared_error, max_depth=5, min_samples_leaf=1, min_samples_split=10, n_estimators=10;, score=-20424477809028.910 total time=   0.0s\n"
     ]
    },
    {
     "name": "stderr",
     "output_type": "stream",
     "text": [
      "C:\\Users\\jb5983on\\AppData\\Local\\anaconda3\\envs\\polars\\Lib\\site-packages\\sklearn\\base.py:1473: DataConversionWarning: A column-vector y was passed when a 1d array was expected. Please change the shape of y to (n_samples,), for example using ravel().\n",
      "  return fit_method(estimator, *args, **kwargs)\n"
     ]
    },
    {
     "name": "stdout",
     "output_type": "stream",
     "text": [
      "[CV 1/5] END criterion=squared_error, max_depth=5, min_samples_leaf=1, min_samples_split=10, n_estimators=100;, score=-17371080964831.020 total time=   0.1s\n",
      "[CV 2/5] END criterion=squared_error, max_depth=5, min_samples_leaf=1, min_samples_split=10, n_estimators=100;, score=-20755415776092.617 total time=   0.1s\n"
     ]
    },
    {
     "name": "stderr",
     "output_type": "stream",
     "text": [
      "C:\\Users\\jb5983on\\AppData\\Local\\anaconda3\\envs\\polars\\Lib\\site-packages\\sklearn\\base.py:1473: DataConversionWarning: A column-vector y was passed when a 1d array was expected. Please change the shape of y to (n_samples,), for example using ravel().\n",
      "  return fit_method(estimator, *args, **kwargs)\n",
      "C:\\Users\\jb5983on\\AppData\\Local\\anaconda3\\envs\\polars\\Lib\\site-packages\\sklearn\\base.py:1473: DataConversionWarning: A column-vector y was passed when a 1d array was expected. Please change the shape of y to (n_samples,), for example using ravel().\n",
      "  return fit_method(estimator, *args, **kwargs)\n"
     ]
    },
    {
     "name": "stdout",
     "output_type": "stream",
     "text": [
      "[CV 3/5] END criterion=squared_error, max_depth=5, min_samples_leaf=1, min_samples_split=10, n_estimators=100;, score=-19422181841558.555 total time=   0.1s\n"
     ]
    },
    {
     "name": "stderr",
     "output_type": "stream",
     "text": [
      "C:\\Users\\jb5983on\\AppData\\Local\\anaconda3\\envs\\polars\\Lib\\site-packages\\sklearn\\base.py:1473: DataConversionWarning: A column-vector y was passed when a 1d array was expected. Please change the shape of y to (n_samples,), for example using ravel().\n",
      "  return fit_method(estimator, *args, **kwargs)\n"
     ]
    },
    {
     "name": "stdout",
     "output_type": "stream",
     "text": [
      "[CV 4/5] END criterion=squared_error, max_depth=5, min_samples_leaf=1, min_samples_split=10, n_estimators=100;, score=-19170987758191.434 total time=   0.2s\n"
     ]
    },
    {
     "name": "stderr",
     "output_type": "stream",
     "text": [
      "C:\\Users\\jb5983on\\AppData\\Local\\anaconda3\\envs\\polars\\Lib\\site-packages\\sklearn\\base.py:1473: DataConversionWarning: A column-vector y was passed when a 1d array was expected. Please change the shape of y to (n_samples,), for example using ravel().\n",
      "  return fit_method(estimator, *args, **kwargs)\n"
     ]
    },
    {
     "name": "stdout",
     "output_type": "stream",
     "text": [
      "[CV 5/5] END criterion=squared_error, max_depth=5, min_samples_leaf=1, min_samples_split=10, n_estimators=100;, score=-20388358912214.664 total time=   0.3s\n",
      "[CV 1/5] END criterion=squared_error, max_depth=5, min_samples_leaf=5, min_samples_split=1, n_estimators=10;, score=nan total time=   0.0s\n",
      "[CV 2/5] END criterion=squared_error, max_depth=5, min_samples_leaf=5, min_samples_split=1, n_estimators=10;, score=nan total time=   0.0s\n",
      "[CV 3/5] END criterion=squared_error, max_depth=5, min_samples_leaf=5, min_samples_split=1, n_estimators=10;, score=nan total time=   0.0s\n",
      "[CV 4/5] END criterion=squared_error, max_depth=5, min_samples_leaf=5, min_samples_split=1, n_estimators=10;, score=nan total time=   0.0s\n",
      "[CV 5/5] END criterion=squared_error, max_depth=5, min_samples_leaf=5, min_samples_split=1, n_estimators=10;, score=nan total time=   0.0s\n",
      "[CV 1/5] END criterion=squared_error, max_depth=5, min_samples_leaf=5, min_samples_split=1, n_estimators=100;, score=nan total time=   0.0s\n",
      "[CV 2/5] END criterion=squared_error, max_depth=5, min_samples_leaf=5, min_samples_split=1, n_estimators=100;, score=nan total time=   0.0s\n",
      "[CV 3/5] END criterion=squared_error, max_depth=5, min_samples_leaf=5, min_samples_split=1, n_estimators=100;, score=nan total time=   0.0s\n",
      "[CV 4/5] END criterion=squared_error, max_depth=5, min_samples_leaf=5, min_samples_split=1, n_estimators=100;, score=nan total time=   0.0s\n",
      "[CV 5/5] END criterion=squared_error, max_depth=5, min_samples_leaf=5, min_samples_split=1, n_estimators=100;, score=nan total time=   0.0s\n",
      "[CV 1/5] END criterion=squared_error, max_depth=5, min_samples_leaf=5, min_samples_split=5, n_estimators=10;, score=-17364975161910.129 total time=   0.0s\n",
      "[CV 2/5] END criterion=squared_error, max_depth=5, min_samples_leaf=5, min_samples_split=5, n_estimators=10;, score=-20817696605784.914 total time=   0.0s\n",
      "[CV 3/5] END criterion=squared_error, max_depth=5, min_samples_leaf=5, min_samples_split=5, n_estimators=10;, score=-19451821654789.418 total time=   0.0s\n"
     ]
    },
    {
     "name": "stderr",
     "output_type": "stream",
     "text": [
      "C:\\Users\\jb5983on\\AppData\\Local\\anaconda3\\envs\\polars\\Lib\\site-packages\\sklearn\\base.py:1473: DataConversionWarning: A column-vector y was passed when a 1d array was expected. Please change the shape of y to (n_samples,), for example using ravel().\n",
      "  return fit_method(estimator, *args, **kwargs)\n",
      "C:\\Users\\jb5983on\\AppData\\Local\\anaconda3\\envs\\polars\\Lib\\site-packages\\sklearn\\base.py:1473: DataConversionWarning: A column-vector y was passed when a 1d array was expected. Please change the shape of y to (n_samples,), for example using ravel().\n",
      "  return fit_method(estimator, *args, **kwargs)\n",
      "C:\\Users\\jb5983on\\AppData\\Local\\anaconda3\\envs\\polars\\Lib\\site-packages\\sklearn\\base.py:1473: DataConversionWarning: A column-vector y was passed when a 1d array was expected. Please change the shape of y to (n_samples,), for example using ravel().\n",
      "  return fit_method(estimator, *args, **kwargs)\n",
      "C:\\Users\\jb5983on\\AppData\\Local\\anaconda3\\envs\\polars\\Lib\\site-packages\\sklearn\\base.py:1473: DataConversionWarning: A column-vector y was passed when a 1d array was expected. Please change the shape of y to (n_samples,), for example using ravel().\n",
      "  return fit_method(estimator, *args, **kwargs)\n",
      "C:\\Users\\jb5983on\\AppData\\Local\\anaconda3\\envs\\polars\\Lib\\site-packages\\sklearn\\base.py:1473: DataConversionWarning: A column-vector y was passed when a 1d array was expected. Please change the shape of y to (n_samples,), for example using ravel().\n",
      "  return fit_method(estimator, *args, **kwargs)\n",
      "C:\\Users\\jb5983on\\AppData\\Local\\anaconda3\\envs\\polars\\Lib\\site-packages\\sklearn\\base.py:1473: DataConversionWarning: A column-vector y was passed when a 1d array was expected. Please change the shape of y to (n_samples,), for example using ravel().\n",
      "  return fit_method(estimator, *args, **kwargs)\n"
     ]
    },
    {
     "name": "stdout",
     "output_type": "stream",
     "text": [
      "[CV 4/5] END criterion=squared_error, max_depth=5, min_samples_leaf=5, min_samples_split=5, n_estimators=10;, score=-19177662326427.859 total time=   0.0s\n",
      "[CV 5/5] END criterion=squared_error, max_depth=5, min_samples_leaf=5, min_samples_split=5, n_estimators=10;, score=-20403991039418.977 total time=   0.0s\n",
      "[CV 1/5] END criterion=squared_error, max_depth=5, min_samples_leaf=5, min_samples_split=5, n_estimators=100;, score=-17373728047099.912 total time=   0.2s\n"
     ]
    },
    {
     "name": "stderr",
     "output_type": "stream",
     "text": [
      "C:\\Users\\jb5983on\\AppData\\Local\\anaconda3\\envs\\polars\\Lib\\site-packages\\sklearn\\base.py:1473: DataConversionWarning: A column-vector y was passed when a 1d array was expected. Please change the shape of y to (n_samples,), for example using ravel().\n",
      "  return fit_method(estimator, *args, **kwargs)\n"
     ]
    },
    {
     "name": "stdout",
     "output_type": "stream",
     "text": [
      "[CV 2/5] END criterion=squared_error, max_depth=5, min_samples_leaf=5, min_samples_split=5, n_estimators=100;, score=-20761657693534.543 total time=   0.2s\n"
     ]
    },
    {
     "name": "stderr",
     "output_type": "stream",
     "text": [
      "C:\\Users\\jb5983on\\AppData\\Local\\anaconda3\\envs\\polars\\Lib\\site-packages\\sklearn\\base.py:1473: DataConversionWarning: A column-vector y was passed when a 1d array was expected. Please change the shape of y to (n_samples,), for example using ravel().\n",
      "  return fit_method(estimator, *args, **kwargs)\n"
     ]
    },
    {
     "name": "stdout",
     "output_type": "stream",
     "text": [
      "[CV 3/5] END criterion=squared_error, max_depth=5, min_samples_leaf=5, min_samples_split=5, n_estimators=100;, score=-19427813157399.469 total time=   0.1s\n"
     ]
    },
    {
     "name": "stderr",
     "output_type": "stream",
     "text": [
      "C:\\Users\\jb5983on\\AppData\\Local\\anaconda3\\envs\\polars\\Lib\\site-packages\\sklearn\\base.py:1473: DataConversionWarning: A column-vector y was passed when a 1d array was expected. Please change the shape of y to (n_samples,), for example using ravel().\n",
      "  return fit_method(estimator, *args, **kwargs)\n"
     ]
    },
    {
     "name": "stdout",
     "output_type": "stream",
     "text": [
      "[CV 4/5] END criterion=squared_error, max_depth=5, min_samples_leaf=5, min_samples_split=5, n_estimators=100;, score=-19191976626003.410 total time=   0.2s\n"
     ]
    },
    {
     "name": "stderr",
     "output_type": "stream",
     "text": [
      "C:\\Users\\jb5983on\\AppData\\Local\\anaconda3\\envs\\polars\\Lib\\site-packages\\sklearn\\base.py:1473: DataConversionWarning: A column-vector y was passed when a 1d array was expected. Please change the shape of y to (n_samples,), for example using ravel().\n",
      "  return fit_method(estimator, *args, **kwargs)\n"
     ]
    },
    {
     "name": "stdout",
     "output_type": "stream",
     "text": [
      "[CV 5/5] END criterion=squared_error, max_depth=5, min_samples_leaf=5, min_samples_split=5, n_estimators=100;, score=-20409279790897.316 total time=   0.2s\n",
      "[CV 1/5] END criterion=squared_error, max_depth=5, min_samples_leaf=5, min_samples_split=10, n_estimators=10;, score=-17393889593091.600 total time=   0.0s\n",
      "[CV 2/5] END criterion=squared_error, max_depth=5, min_samples_leaf=5, min_samples_split=10, n_estimators=10;, score=-20774092122421.359 total time=   0.0s\n",
      "[CV 3/5] END criterion=squared_error, max_depth=5, min_samples_leaf=5, min_samples_split=10, n_estimators=10;, score=-19490662849040.266 total time=   0.0s\n",
      "[CV 4/5] END criterion=squared_error, max_depth=5, min_samples_leaf=5, min_samples_split=10, n_estimators=10;, score=-19188555379000.270 total time=   0.0s\n",
      "[CV 5/5] END criterion=squared_error, max_depth=5, min_samples_leaf=5, min_samples_split=10, n_estimators=10;, score=-20449971836980.363 total time=   0.0s\n"
     ]
    },
    {
     "name": "stderr",
     "output_type": "stream",
     "text": [
      "C:\\Users\\jb5983on\\AppData\\Local\\anaconda3\\envs\\polars\\Lib\\site-packages\\sklearn\\base.py:1473: DataConversionWarning: A column-vector y was passed when a 1d array was expected. Please change the shape of y to (n_samples,), for example using ravel().\n",
      "  return fit_method(estimator, *args, **kwargs)\n",
      "C:\\Users\\jb5983on\\AppData\\Local\\anaconda3\\envs\\polars\\Lib\\site-packages\\sklearn\\base.py:1473: DataConversionWarning: A column-vector y was passed when a 1d array was expected. Please change the shape of y to (n_samples,), for example using ravel().\n",
      "  return fit_method(estimator, *args, **kwargs)\n",
      "C:\\Users\\jb5983on\\AppData\\Local\\anaconda3\\envs\\polars\\Lib\\site-packages\\sklearn\\base.py:1473: DataConversionWarning: A column-vector y was passed when a 1d array was expected. Please change the shape of y to (n_samples,), for example using ravel().\n",
      "  return fit_method(estimator, *args, **kwargs)\n",
      "C:\\Users\\jb5983on\\AppData\\Local\\anaconda3\\envs\\polars\\Lib\\site-packages\\sklearn\\base.py:1473: DataConversionWarning: A column-vector y was passed when a 1d array was expected. Please change the shape of y to (n_samples,), for example using ravel().\n",
      "  return fit_method(estimator, *args, **kwargs)\n",
      "C:\\Users\\jb5983on\\AppData\\Local\\anaconda3\\envs\\polars\\Lib\\site-packages\\sklearn\\base.py:1473: DataConversionWarning: A column-vector y was passed when a 1d array was expected. Please change the shape of y to (n_samples,), for example using ravel().\n",
      "  return fit_method(estimator, *args, **kwargs)\n",
      "C:\\Users\\jb5983on\\AppData\\Local\\anaconda3\\envs\\polars\\Lib\\site-packages\\sklearn\\base.py:1473: DataConversionWarning: A column-vector y was passed when a 1d array was expected. Please change the shape of y to (n_samples,), for example using ravel().\n",
      "  return fit_method(estimator, *args, **kwargs)\n"
     ]
    },
    {
     "name": "stdout",
     "output_type": "stream",
     "text": [
      "[CV 1/5] END criterion=squared_error, max_depth=5, min_samples_leaf=5, min_samples_split=10, n_estimators=100;, score=-17358690570163.705 total time=   0.2s\n"
     ]
    },
    {
     "name": "stderr",
     "output_type": "stream",
     "text": [
      "C:\\Users\\jb5983on\\AppData\\Local\\anaconda3\\envs\\polars\\Lib\\site-packages\\sklearn\\base.py:1473: DataConversionWarning: A column-vector y was passed when a 1d array was expected. Please change the shape of y to (n_samples,), for example using ravel().\n",
      "  return fit_method(estimator, *args, **kwargs)\n"
     ]
    },
    {
     "name": "stdout",
     "output_type": "stream",
     "text": [
      "[CV 2/5] END criterion=squared_error, max_depth=5, min_samples_leaf=5, min_samples_split=10, n_estimators=100;, score=-20769078341161.227 total time=   0.2s\n"
     ]
    },
    {
     "name": "stderr",
     "output_type": "stream",
     "text": [
      "C:\\Users\\jb5983on\\AppData\\Local\\anaconda3\\envs\\polars\\Lib\\site-packages\\sklearn\\base.py:1473: DataConversionWarning: A column-vector y was passed when a 1d array was expected. Please change the shape of y to (n_samples,), for example using ravel().\n",
      "  return fit_method(estimator, *args, **kwargs)\n"
     ]
    },
    {
     "name": "stdout",
     "output_type": "stream",
     "text": [
      "[CV 3/5] END criterion=squared_error, max_depth=5, min_samples_leaf=5, min_samples_split=10, n_estimators=100;, score=-19422827367174.625 total time=   0.1s\n"
     ]
    },
    {
     "name": "stderr",
     "output_type": "stream",
     "text": [
      "C:\\Users\\jb5983on\\AppData\\Local\\anaconda3\\envs\\polars\\Lib\\site-packages\\sklearn\\base.py:1473: DataConversionWarning: A column-vector y was passed when a 1d array was expected. Please change the shape of y to (n_samples,), for example using ravel().\n",
      "  return fit_method(estimator, *args, **kwargs)\n"
     ]
    },
    {
     "name": "stdout",
     "output_type": "stream",
     "text": [
      "[CV 4/5] END criterion=squared_error, max_depth=5, min_samples_leaf=5, min_samples_split=10, n_estimators=100;, score=-19237094611269.375 total time=   0.1s\n"
     ]
    },
    {
     "name": "stderr",
     "output_type": "stream",
     "text": [
      "C:\\Users\\jb5983on\\AppData\\Local\\anaconda3\\envs\\polars\\Lib\\site-packages\\sklearn\\base.py:1473: DataConversionWarning: A column-vector y was passed when a 1d array was expected. Please change the shape of y to (n_samples,), for example using ravel().\n",
      "  return fit_method(estimator, *args, **kwargs)\n"
     ]
    },
    {
     "name": "stdout",
     "output_type": "stream",
     "text": [
      "[CV 5/5] END criterion=squared_error, max_depth=5, min_samples_leaf=5, min_samples_split=10, n_estimators=100;, score=-20413662307050.113 total time=   0.2s\n",
      "[CV 1/5] END criterion=squared_error, max_depth=5, min_samples_leaf=10, min_samples_split=1, n_estimators=10;, score=nan total time=   0.0s\n",
      "[CV 2/5] END criterion=squared_error, max_depth=5, min_samples_leaf=10, min_samples_split=1, n_estimators=10;, score=nan total time=   0.0s\n",
      "[CV 3/5] END criterion=squared_error, max_depth=5, min_samples_leaf=10, min_samples_split=1, n_estimators=10;, score=nan total time=   0.0s\n",
      "[CV 4/5] END criterion=squared_error, max_depth=5, min_samples_leaf=10, min_samples_split=1, n_estimators=10;, score=nan total time=   0.0s\n",
      "[CV 5/5] END criterion=squared_error, max_depth=5, min_samples_leaf=10, min_samples_split=1, n_estimators=10;, score=nan total time=   0.0s\n",
      "[CV 1/5] END criterion=squared_error, max_depth=5, min_samples_leaf=10, min_samples_split=1, n_estimators=100;, score=nan total time=   0.0s\n",
      "[CV 2/5] END criterion=squared_error, max_depth=5, min_samples_leaf=10, min_samples_split=1, n_estimators=100;, score=nan total time=   0.0s\n",
      "[CV 3/5] END criterion=squared_error, max_depth=5, min_samples_leaf=10, min_samples_split=1, n_estimators=100;, score=nan total time=   0.0s\n",
      "[CV 4/5] END criterion=squared_error, max_depth=5, min_samples_leaf=10, min_samples_split=1, n_estimators=100;, score=nan total time=   0.0s\n",
      "[CV 5/5] END criterion=squared_error, max_depth=5, min_samples_leaf=10, min_samples_split=1, n_estimators=100;, score=nan total time=   0.0s\n",
      "[CV 1/5] END criterion=squared_error, max_depth=5, min_samples_leaf=10, min_samples_split=5, n_estimators=10;, score=-17397999145019.451 total time=   0.0s\n",
      "[CV 2/5] END criterion=squared_error, max_depth=5, min_samples_leaf=10, min_samples_split=5, n_estimators=10;, score=-20875857929824.559 total time=   0.0s\n",
      "[CV 3/5] END criterion=squared_error, max_depth=5, min_samples_leaf=10, min_samples_split=5, n_estimators=10;, score=-19480733130080.246 total time=   0.0s\n",
      "[CV 4/5] END criterion=squared_error, max_depth=5, min_samples_leaf=10, min_samples_split=5, n_estimators=10;, score=-19374013778150.180 total time=   0.0s\n",
      "[CV 5/5] END criterion=squared_error, max_depth=5, min_samples_leaf=10, min_samples_split=5, n_estimators=10;, score=-20435667565420.211 total time=   0.0s\n"
     ]
    },
    {
     "name": "stderr",
     "output_type": "stream",
     "text": [
      "C:\\Users\\jb5983on\\AppData\\Local\\anaconda3\\envs\\polars\\Lib\\site-packages\\sklearn\\base.py:1473: DataConversionWarning: A column-vector y was passed when a 1d array was expected. Please change the shape of y to (n_samples,), for example using ravel().\n",
      "  return fit_method(estimator, *args, **kwargs)\n",
      "C:\\Users\\jb5983on\\AppData\\Local\\anaconda3\\envs\\polars\\Lib\\site-packages\\sklearn\\base.py:1473: DataConversionWarning: A column-vector y was passed when a 1d array was expected. Please change the shape of y to (n_samples,), for example using ravel().\n",
      "  return fit_method(estimator, *args, **kwargs)\n",
      "C:\\Users\\jb5983on\\AppData\\Local\\anaconda3\\envs\\polars\\Lib\\site-packages\\sklearn\\base.py:1473: DataConversionWarning: A column-vector y was passed when a 1d array was expected. Please change the shape of y to (n_samples,), for example using ravel().\n",
      "  return fit_method(estimator, *args, **kwargs)\n",
      "C:\\Users\\jb5983on\\AppData\\Local\\anaconda3\\envs\\polars\\Lib\\site-packages\\sklearn\\base.py:1473: DataConversionWarning: A column-vector y was passed when a 1d array was expected. Please change the shape of y to (n_samples,), for example using ravel().\n",
      "  return fit_method(estimator, *args, **kwargs)\n",
      "C:\\Users\\jb5983on\\AppData\\Local\\anaconda3\\envs\\polars\\Lib\\site-packages\\sklearn\\base.py:1473: DataConversionWarning: A column-vector y was passed when a 1d array was expected. Please change the shape of y to (n_samples,), for example using ravel().\n",
      "  return fit_method(estimator, *args, **kwargs)\n",
      "C:\\Users\\jb5983on\\AppData\\Local\\anaconda3\\envs\\polars\\Lib\\site-packages\\sklearn\\base.py:1473: DataConversionWarning: A column-vector y was passed when a 1d array was expected. Please change the shape of y to (n_samples,), for example using ravel().\n",
      "  return fit_method(estimator, *args, **kwargs)\n"
     ]
    },
    {
     "name": "stdout",
     "output_type": "stream",
     "text": [
      "[CV 1/5] END criterion=squared_error, max_depth=5, min_samples_leaf=10, min_samples_split=5, n_estimators=100;, score=-17359621936200.533 total time=   0.2s\n"
     ]
    },
    {
     "name": "stderr",
     "output_type": "stream",
     "text": [
      "C:\\Users\\jb5983on\\AppData\\Local\\anaconda3\\envs\\polars\\Lib\\site-packages\\sklearn\\base.py:1473: DataConversionWarning: A column-vector y was passed when a 1d array was expected. Please change the shape of y to (n_samples,), for example using ravel().\n",
      "  return fit_method(estimator, *args, **kwargs)\n"
     ]
    },
    {
     "name": "stdout",
     "output_type": "stream",
     "text": [
      "[CV 2/5] END criterion=squared_error, max_depth=5, min_samples_leaf=10, min_samples_split=5, n_estimators=100;, score=-20778437044819.363 total time=   0.1s\n"
     ]
    },
    {
     "name": "stderr",
     "output_type": "stream",
     "text": [
      "C:\\Users\\jb5983on\\AppData\\Local\\anaconda3\\envs\\polars\\Lib\\site-packages\\sklearn\\base.py:1473: DataConversionWarning: A column-vector y was passed when a 1d array was expected. Please change the shape of y to (n_samples,), for example using ravel().\n",
      "  return fit_method(estimator, *args, **kwargs)\n"
     ]
    },
    {
     "name": "stdout",
     "output_type": "stream",
     "text": [
      "[CV 3/5] END criterion=squared_error, max_depth=5, min_samples_leaf=10, min_samples_split=5, n_estimators=100;, score=-19441690022216.414 total time=   0.2s\n"
     ]
    },
    {
     "name": "stderr",
     "output_type": "stream",
     "text": [
      "C:\\Users\\jb5983on\\AppData\\Local\\anaconda3\\envs\\polars\\Lib\\site-packages\\sklearn\\base.py:1473: DataConversionWarning: A column-vector y was passed when a 1d array was expected. Please change the shape of y to (n_samples,), for example using ravel().\n",
      "  return fit_method(estimator, *args, **kwargs)\n"
     ]
    },
    {
     "name": "stdout",
     "output_type": "stream",
     "text": [
      "[CV 4/5] END criterion=squared_error, max_depth=5, min_samples_leaf=10, min_samples_split=5, n_estimators=100;, score=-19198491819670.922 total time=   0.1s\n"
     ]
    },
    {
     "name": "stderr",
     "output_type": "stream",
     "text": [
      "C:\\Users\\jb5983on\\AppData\\Local\\anaconda3\\envs\\polars\\Lib\\site-packages\\sklearn\\base.py:1473: DataConversionWarning: A column-vector y was passed when a 1d array was expected. Please change the shape of y to (n_samples,), for example using ravel().\n",
      "  return fit_method(estimator, *args, **kwargs)\n"
     ]
    },
    {
     "name": "stdout",
     "output_type": "stream",
     "text": [
      "[CV 5/5] END criterion=squared_error, max_depth=5, min_samples_leaf=10, min_samples_split=5, n_estimators=100;, score=-20422074282927.039 total time=   0.2s\n",
      "[CV 1/5] END criterion=squared_error, max_depth=5, min_samples_leaf=10, min_samples_split=10, n_estimators=10;, score=-17471690657203.447 total time=   0.0s\n",
      "[CV 2/5] END criterion=squared_error, max_depth=5, min_samples_leaf=10, min_samples_split=10, n_estimators=10;, score=-20806362819252.871 total time=   0.0s\n",
      "[CV 3/5] END criterion=squared_error, max_depth=5, min_samples_leaf=10, min_samples_split=10, n_estimators=10;, score=-19464680699208.578 total time=   0.0s\n",
      "[CV 4/5] END criterion=squared_error, max_depth=5, min_samples_leaf=10, min_samples_split=10, n_estimators=10;, score=-19174966441371.180 total time=   0.0s\n"
     ]
    },
    {
     "name": "stderr",
     "output_type": "stream",
     "text": [
      "C:\\Users\\jb5983on\\AppData\\Local\\anaconda3\\envs\\polars\\Lib\\site-packages\\sklearn\\base.py:1473: DataConversionWarning: A column-vector y was passed when a 1d array was expected. Please change the shape of y to (n_samples,), for example using ravel().\n",
      "  return fit_method(estimator, *args, **kwargs)\n",
      "C:\\Users\\jb5983on\\AppData\\Local\\anaconda3\\envs\\polars\\Lib\\site-packages\\sklearn\\base.py:1473: DataConversionWarning: A column-vector y was passed when a 1d array was expected. Please change the shape of y to (n_samples,), for example using ravel().\n",
      "  return fit_method(estimator, *args, **kwargs)\n",
      "C:\\Users\\jb5983on\\AppData\\Local\\anaconda3\\envs\\polars\\Lib\\site-packages\\sklearn\\base.py:1473: DataConversionWarning: A column-vector y was passed when a 1d array was expected. Please change the shape of y to (n_samples,), for example using ravel().\n",
      "  return fit_method(estimator, *args, **kwargs)\n",
      "C:\\Users\\jb5983on\\AppData\\Local\\anaconda3\\envs\\polars\\Lib\\site-packages\\sklearn\\base.py:1473: DataConversionWarning: A column-vector y was passed when a 1d array was expected. Please change the shape of y to (n_samples,), for example using ravel().\n",
      "  return fit_method(estimator, *args, **kwargs)\n",
      "C:\\Users\\jb5983on\\AppData\\Local\\anaconda3\\envs\\polars\\Lib\\site-packages\\sklearn\\base.py:1473: DataConversionWarning: A column-vector y was passed when a 1d array was expected. Please change the shape of y to (n_samples,), for example using ravel().\n",
      "  return fit_method(estimator, *args, **kwargs)\n"
     ]
    },
    {
     "name": "stdout",
     "output_type": "stream",
     "text": [
      "[CV 5/5] END criterion=squared_error, max_depth=5, min_samples_leaf=10, min_samples_split=10, n_estimators=10;, score=-20415074275628.762 total time=   0.0s\n"
     ]
    },
    {
     "name": "stderr",
     "output_type": "stream",
     "text": [
      "C:\\Users\\jb5983on\\AppData\\Local\\anaconda3\\envs\\polars\\Lib\\site-packages\\sklearn\\base.py:1473: DataConversionWarning: A column-vector y was passed when a 1d array was expected. Please change the shape of y to (n_samples,), for example using ravel().\n",
      "  return fit_method(estimator, *args, **kwargs)\n"
     ]
    },
    {
     "name": "stdout",
     "output_type": "stream",
     "text": [
      "[CV 1/5] END criterion=squared_error, max_depth=5, min_samples_leaf=10, min_samples_split=10, n_estimators=100;, score=-17392071476425.295 total time=   0.2s\n"
     ]
    },
    {
     "name": "stderr",
     "output_type": "stream",
     "text": [
      "C:\\Users\\jb5983on\\AppData\\Local\\anaconda3\\envs\\polars\\Lib\\site-packages\\sklearn\\base.py:1473: DataConversionWarning: A column-vector y was passed when a 1d array was expected. Please change the shape of y to (n_samples,), for example using ravel().\n",
      "  return fit_method(estimator, *args, **kwargs)\n"
     ]
    },
    {
     "name": "stdout",
     "output_type": "stream",
     "text": [
      "[CV 2/5] END criterion=squared_error, max_depth=5, min_samples_leaf=10, min_samples_split=10, n_estimators=100;, score=-20773467448796.164 total time=   0.2s\n"
     ]
    },
    {
     "name": "stderr",
     "output_type": "stream",
     "text": [
      "C:\\Users\\jb5983on\\AppData\\Local\\anaconda3\\envs\\polars\\Lib\\site-packages\\sklearn\\base.py:1473: DataConversionWarning: A column-vector y was passed when a 1d array was expected. Please change the shape of y to (n_samples,), for example using ravel().\n",
      "  return fit_method(estimator, *args, **kwargs)\n"
     ]
    },
    {
     "name": "stdout",
     "output_type": "stream",
     "text": [
      "[CV 3/5] END criterion=squared_error, max_depth=5, min_samples_leaf=10, min_samples_split=10, n_estimators=100;, score=-19414208829701.965 total time=   0.2s\n"
     ]
    },
    {
     "name": "stderr",
     "output_type": "stream",
     "text": [
      "C:\\Users\\jb5983on\\AppData\\Local\\anaconda3\\envs\\polars\\Lib\\site-packages\\sklearn\\base.py:1473: DataConversionWarning: A column-vector y was passed when a 1d array was expected. Please change the shape of y to (n_samples,), for example using ravel().\n",
      "  return fit_method(estimator, *args, **kwargs)\n"
     ]
    },
    {
     "name": "stdout",
     "output_type": "stream",
     "text": [
      "[CV 4/5] END criterion=squared_error, max_depth=5, min_samples_leaf=10, min_samples_split=10, n_estimators=100;, score=-19218297021630.070 total time=   0.1s\n"
     ]
    },
    {
     "name": "stderr",
     "output_type": "stream",
     "text": [
      "C:\\Users\\jb5983on\\AppData\\Local\\anaconda3\\envs\\polars\\Lib\\site-packages\\sklearn\\base.py:1473: DataConversionWarning: A column-vector y was passed when a 1d array was expected. Please change the shape of y to (n_samples,), for example using ravel().\n",
      "  return fit_method(estimator, *args, **kwargs)\n"
     ]
    },
    {
     "name": "stdout",
     "output_type": "stream",
     "text": [
      "[CV 5/5] END criterion=squared_error, max_depth=5, min_samples_leaf=10, min_samples_split=10, n_estimators=100;, score=-20426688387321.711 total time=   0.2s\n",
      "[CV 1/5] END criterion=friedman_mse, max_depth=None, min_samples_leaf=1, min_samples_split=1, n_estimators=10;, score=nan total time=   0.0s\n",
      "[CV 2/5] END criterion=friedman_mse, max_depth=None, min_samples_leaf=1, min_samples_split=1, n_estimators=10;, score=nan total time=   0.0s\n",
      "[CV 3/5] END criterion=friedman_mse, max_depth=None, min_samples_leaf=1, min_samples_split=1, n_estimators=10;, score=nan total time=   0.0s\n",
      "[CV 4/5] END criterion=friedman_mse, max_depth=None, min_samples_leaf=1, min_samples_split=1, n_estimators=10;, score=nan total time=   0.0s\n",
      "[CV 5/5] END criterion=friedman_mse, max_depth=None, min_samples_leaf=1, min_samples_split=1, n_estimators=10;, score=nan total time=   0.0s\n",
      "[CV 1/5] END criterion=friedman_mse, max_depth=None, min_samples_leaf=1, min_samples_split=1, n_estimators=100;, score=nan total time=   0.0s\n",
      "[CV 2/5] END criterion=friedman_mse, max_depth=None, min_samples_leaf=1, min_samples_split=1, n_estimators=100;, score=nan total time=   0.0s\n",
      "[CV 3/5] END criterion=friedman_mse, max_depth=None, min_samples_leaf=1, min_samples_split=1, n_estimators=100;, score=nan total time=   0.0s\n",
      "[CV 4/5] END criterion=friedman_mse, max_depth=None, min_samples_leaf=1, min_samples_split=1, n_estimators=100;, score=nan total time=   0.0s\n",
      "[CV 5/5] END criterion=friedman_mse, max_depth=None, min_samples_leaf=1, min_samples_split=1, n_estimators=100;, score=nan total time=   0.0s\n",
      "[CV 1/5] END criterion=friedman_mse, max_depth=None, min_samples_leaf=1, min_samples_split=5, n_estimators=10;, score=-17873850802683.219 total time=   0.0s\n",
      "[CV 2/5] END criterion=friedman_mse, max_depth=None, min_samples_leaf=1, min_samples_split=5, n_estimators=10;, score=-21277885106074.727 total time=   0.0s\n"
     ]
    },
    {
     "name": "stderr",
     "output_type": "stream",
     "text": [
      "C:\\Users\\jb5983on\\AppData\\Local\\anaconda3\\envs\\polars\\Lib\\site-packages\\sklearn\\base.py:1473: DataConversionWarning: A column-vector y was passed when a 1d array was expected. Please change the shape of y to (n_samples,), for example using ravel().\n",
      "  return fit_method(estimator, *args, **kwargs)\n",
      "C:\\Users\\jb5983on\\AppData\\Local\\anaconda3\\envs\\polars\\Lib\\site-packages\\sklearn\\base.py:1473: DataConversionWarning: A column-vector y was passed when a 1d array was expected. Please change the shape of y to (n_samples,), for example using ravel().\n",
      "  return fit_method(estimator, *args, **kwargs)\n",
      "C:\\Users\\jb5983on\\AppData\\Local\\anaconda3\\envs\\polars\\Lib\\site-packages\\sklearn\\base.py:1473: DataConversionWarning: A column-vector y was passed when a 1d array was expected. Please change the shape of y to (n_samples,), for example using ravel().\n",
      "  return fit_method(estimator, *args, **kwargs)\n"
     ]
    },
    {
     "name": "stdout",
     "output_type": "stream",
     "text": [
      "[CV 3/5] END criterion=friedman_mse, max_depth=None, min_samples_leaf=1, min_samples_split=5, n_estimators=10;, score=-19855988100354.863 total time=   0.0s\n",
      "[CV 4/5] END criterion=friedman_mse, max_depth=None, min_samples_leaf=1, min_samples_split=5, n_estimators=10;, score=-19701221459197.430 total time=   0.0s\n",
      "[CV 5/5] END criterion=friedman_mse, max_depth=None, min_samples_leaf=1, min_samples_split=5, n_estimators=10;, score=-20605350712373.441 total time=   0.0s\n"
     ]
    },
    {
     "name": "stderr",
     "output_type": "stream",
     "text": [
      "C:\\Users\\jb5983on\\AppData\\Local\\anaconda3\\envs\\polars\\Lib\\site-packages\\sklearn\\base.py:1473: DataConversionWarning: A column-vector y was passed when a 1d array was expected. Please change the shape of y to (n_samples,), for example using ravel().\n",
      "  return fit_method(estimator, *args, **kwargs)\n",
      "C:\\Users\\jb5983on\\AppData\\Local\\anaconda3\\envs\\polars\\Lib\\site-packages\\sklearn\\base.py:1473: DataConversionWarning: A column-vector y was passed when a 1d array was expected. Please change the shape of y to (n_samples,), for example using ravel().\n",
      "  return fit_method(estimator, *args, **kwargs)\n",
      "C:\\Users\\jb5983on\\AppData\\Local\\anaconda3\\envs\\polars\\Lib\\site-packages\\sklearn\\base.py:1473: DataConversionWarning: A column-vector y was passed when a 1d array was expected. Please change the shape of y to (n_samples,), for example using ravel().\n",
      "  return fit_method(estimator, *args, **kwargs)\n"
     ]
    },
    {
     "name": "stdout",
     "output_type": "stream",
     "text": [
      "[CV 1/5] END criterion=friedman_mse, max_depth=None, min_samples_leaf=1, min_samples_split=5, n_estimators=100;, score=-17699381499721.387 total time=   0.2s\n"
     ]
    },
    {
     "name": "stderr",
     "output_type": "stream",
     "text": [
      "C:\\Users\\jb5983on\\AppData\\Local\\anaconda3\\envs\\polars\\Lib\\site-packages\\sklearn\\base.py:1473: DataConversionWarning: A column-vector y was passed when a 1d array was expected. Please change the shape of y to (n_samples,), for example using ravel().\n",
      "  return fit_method(estimator, *args, **kwargs)\n"
     ]
    },
    {
     "name": "stdout",
     "output_type": "stream",
     "text": [
      "[CV 2/5] END criterion=friedman_mse, max_depth=None, min_samples_leaf=1, min_samples_split=5, n_estimators=100;, score=-21172262488819.168 total time=   0.2s\n"
     ]
    },
    {
     "name": "stderr",
     "output_type": "stream",
     "text": [
      "C:\\Users\\jb5983on\\AppData\\Local\\anaconda3\\envs\\polars\\Lib\\site-packages\\sklearn\\base.py:1473: DataConversionWarning: A column-vector y was passed when a 1d array was expected. Please change the shape of y to (n_samples,), for example using ravel().\n",
      "  return fit_method(estimator, *args, **kwargs)\n"
     ]
    },
    {
     "name": "stdout",
     "output_type": "stream",
     "text": [
      "[CV 3/5] END criterion=friedman_mse, max_depth=None, min_samples_leaf=1, min_samples_split=5, n_estimators=100;, score=-19748889710930.473 total time=   0.2s\n"
     ]
    },
    {
     "name": "stderr",
     "output_type": "stream",
     "text": [
      "C:\\Users\\jb5983on\\AppData\\Local\\anaconda3\\envs\\polars\\Lib\\site-packages\\sklearn\\base.py:1473: DataConversionWarning: A column-vector y was passed when a 1d array was expected. Please change the shape of y to (n_samples,), for example using ravel().\n",
      "  return fit_method(estimator, *args, **kwargs)\n"
     ]
    },
    {
     "name": "stdout",
     "output_type": "stream",
     "text": [
      "[CV 4/5] END criterion=friedman_mse, max_depth=None, min_samples_leaf=1, min_samples_split=5, n_estimators=100;, score=-19586413808235.371 total time=   0.3s\n"
     ]
    },
    {
     "name": "stderr",
     "output_type": "stream",
     "text": [
      "C:\\Users\\jb5983on\\AppData\\Local\\anaconda3\\envs\\polars\\Lib\\site-packages\\sklearn\\base.py:1473: DataConversionWarning: A column-vector y was passed when a 1d array was expected. Please change the shape of y to (n_samples,), for example using ravel().\n",
      "  return fit_method(estimator, *args, **kwargs)\n"
     ]
    },
    {
     "name": "stdout",
     "output_type": "stream",
     "text": [
      "[CV 5/5] END criterion=friedman_mse, max_depth=None, min_samples_leaf=1, min_samples_split=5, n_estimators=100;, score=-20616506391035.711 total time=   0.2s\n",
      "[CV 1/5] END criterion=friedman_mse, max_depth=None, min_samples_leaf=1, min_samples_split=10, n_estimators=10;, score=-17951799446681.395 total time=   0.0s\n",
      "[CV 2/5] END criterion=friedman_mse, max_depth=None, min_samples_leaf=1, min_samples_split=10, n_estimators=10;, score=-21195759832508.754 total time=   0.0s\n",
      "[CV 3/5] END criterion=friedman_mse, max_depth=None, min_samples_leaf=1, min_samples_split=10, n_estimators=10;, score=-19869335885163.496 total time=   0.0s\n"
     ]
    },
    {
     "name": "stderr",
     "output_type": "stream",
     "text": [
      "C:\\Users\\jb5983on\\AppData\\Local\\anaconda3\\envs\\polars\\Lib\\site-packages\\sklearn\\base.py:1473: DataConversionWarning: A column-vector y was passed when a 1d array was expected. Please change the shape of y to (n_samples,), for example using ravel().\n",
      "  return fit_method(estimator, *args, **kwargs)\n",
      "C:\\Users\\jb5983on\\AppData\\Local\\anaconda3\\envs\\polars\\Lib\\site-packages\\sklearn\\base.py:1473: DataConversionWarning: A column-vector y was passed when a 1d array was expected. Please change the shape of y to (n_samples,), for example using ravel().\n",
      "  return fit_method(estimator, *args, **kwargs)\n",
      "C:\\Users\\jb5983on\\AppData\\Local\\anaconda3\\envs\\polars\\Lib\\site-packages\\sklearn\\base.py:1473: DataConversionWarning: A column-vector y was passed when a 1d array was expected. Please change the shape of y to (n_samples,), for example using ravel().\n",
      "  return fit_method(estimator, *args, **kwargs)\n",
      "C:\\Users\\jb5983on\\AppData\\Local\\anaconda3\\envs\\polars\\Lib\\site-packages\\sklearn\\base.py:1473: DataConversionWarning: A column-vector y was passed when a 1d array was expected. Please change the shape of y to (n_samples,), for example using ravel().\n",
      "  return fit_method(estimator, *args, **kwargs)\n"
     ]
    },
    {
     "name": "stdout",
     "output_type": "stream",
     "text": [
      "[CV 4/5] END criterion=friedman_mse, max_depth=None, min_samples_leaf=1, min_samples_split=10, n_estimators=10;, score=-19509192351415.375 total time=   0.0s\n",
      "[CV 5/5] END criterion=friedman_mse, max_depth=None, min_samples_leaf=1, min_samples_split=10, n_estimators=10;, score=-20751875738598.805 total time=   0.0s\n"
     ]
    },
    {
     "name": "stderr",
     "output_type": "stream",
     "text": [
      "C:\\Users\\jb5983on\\AppData\\Local\\anaconda3\\envs\\polars\\Lib\\site-packages\\sklearn\\base.py:1473: DataConversionWarning: A column-vector y was passed when a 1d array was expected. Please change the shape of y to (n_samples,), for example using ravel().\n",
      "  return fit_method(estimator, *args, **kwargs)\n",
      "C:\\Users\\jb5983on\\AppData\\Local\\anaconda3\\envs\\polars\\Lib\\site-packages\\sklearn\\base.py:1473: DataConversionWarning: A column-vector y was passed when a 1d array was expected. Please change the shape of y to (n_samples,), for example using ravel().\n",
      "  return fit_method(estimator, *args, **kwargs)\n"
     ]
    },
    {
     "name": "stdout",
     "output_type": "stream",
     "text": [
      "[CV 1/5] END criterion=friedman_mse, max_depth=None, min_samples_leaf=1, min_samples_split=10, n_estimators=100;, score=-17762160518178.305 total time=   0.2s\n"
     ]
    },
    {
     "name": "stderr",
     "output_type": "stream",
     "text": [
      "C:\\Users\\jb5983on\\AppData\\Local\\anaconda3\\envs\\polars\\Lib\\site-packages\\sklearn\\base.py:1473: DataConversionWarning: A column-vector y was passed when a 1d array was expected. Please change the shape of y to (n_samples,), for example using ravel().\n",
      "  return fit_method(estimator, *args, **kwargs)\n"
     ]
    },
    {
     "name": "stdout",
     "output_type": "stream",
     "text": [
      "[CV 2/5] END criterion=friedman_mse, max_depth=None, min_samples_leaf=1, min_samples_split=10, n_estimators=100;, score=-21196910431840.934 total time=   0.3s\n"
     ]
    },
    {
     "name": "stderr",
     "output_type": "stream",
     "text": [
      "C:\\Users\\jb5983on\\AppData\\Local\\anaconda3\\envs\\polars\\Lib\\site-packages\\sklearn\\base.py:1473: DataConversionWarning: A column-vector y was passed when a 1d array was expected. Please change the shape of y to (n_samples,), for example using ravel().\n",
      "  return fit_method(estimator, *args, **kwargs)\n"
     ]
    },
    {
     "name": "stdout",
     "output_type": "stream",
     "text": [
      "[CV 3/5] END criterion=friedman_mse, max_depth=None, min_samples_leaf=1, min_samples_split=10, n_estimators=100;, score=-19760702538767.418 total time=   0.3s\n"
     ]
    },
    {
     "name": "stderr",
     "output_type": "stream",
     "text": [
      "C:\\Users\\jb5983on\\AppData\\Local\\anaconda3\\envs\\polars\\Lib\\site-packages\\sklearn\\base.py:1473: DataConversionWarning: A column-vector y was passed when a 1d array was expected. Please change the shape of y to (n_samples,), for example using ravel().\n",
      "  return fit_method(estimator, *args, **kwargs)\n"
     ]
    },
    {
     "name": "stdout",
     "output_type": "stream",
     "text": [
      "[CV 4/5] END criterion=friedman_mse, max_depth=None, min_samples_leaf=1, min_samples_split=10, n_estimators=100;, score=-19607094979424.789 total time=   0.2s\n"
     ]
    },
    {
     "name": "stderr",
     "output_type": "stream",
     "text": [
      "C:\\Users\\jb5983on\\AppData\\Local\\anaconda3\\envs\\polars\\Lib\\site-packages\\sklearn\\base.py:1473: DataConversionWarning: A column-vector y was passed when a 1d array was expected. Please change the shape of y to (n_samples,), for example using ravel().\n",
      "  return fit_method(estimator, *args, **kwargs)\n"
     ]
    },
    {
     "name": "stdout",
     "output_type": "stream",
     "text": [
      "[CV 5/5] END criterion=friedman_mse, max_depth=None, min_samples_leaf=1, min_samples_split=10, n_estimators=100;, score=-20574762207077.488 total time=   0.3s\n",
      "[CV 1/5] END criterion=friedman_mse, max_depth=None, min_samples_leaf=5, min_samples_split=1, n_estimators=10;, score=nan total time=   0.0s\n",
      "[CV 2/5] END criterion=friedman_mse, max_depth=None, min_samples_leaf=5, min_samples_split=1, n_estimators=10;, score=nan total time=   0.0s\n",
      "[CV 3/5] END criterion=friedman_mse, max_depth=None, min_samples_leaf=5, min_samples_split=1, n_estimators=10;, score=nan total time=   0.0s\n",
      "[CV 4/5] END criterion=friedman_mse, max_depth=None, min_samples_leaf=5, min_samples_split=1, n_estimators=10;, score=nan total time=   0.0s\n",
      "[CV 5/5] END criterion=friedman_mse, max_depth=None, min_samples_leaf=5, min_samples_split=1, n_estimators=10;, score=nan total time=   0.0s\n",
      "[CV 1/5] END criterion=friedman_mse, max_depth=None, min_samples_leaf=5, min_samples_split=1, n_estimators=100;, score=nan total time=   0.0s\n",
      "[CV 2/5] END criterion=friedman_mse, max_depth=None, min_samples_leaf=5, min_samples_split=1, n_estimators=100;, score=nan total time=   0.0s\n",
      "[CV 3/5] END criterion=friedman_mse, max_depth=None, min_samples_leaf=5, min_samples_split=1, n_estimators=100;, score=nan total time=   0.0s\n",
      "[CV 4/5] END criterion=friedman_mse, max_depth=None, min_samples_leaf=5, min_samples_split=1, n_estimators=100;, score=nan total time=   0.0s\n",
      "[CV 5/5] END criterion=friedman_mse, max_depth=None, min_samples_leaf=5, min_samples_split=1, n_estimators=100;, score=nan total time=   0.0s\n",
      "[CV 1/5] END criterion=friedman_mse, max_depth=None, min_samples_leaf=5, min_samples_split=5, n_estimators=10;, score=-17778781192729.711 total time=   0.0s\n",
      "[CV 2/5] END criterion=friedman_mse, max_depth=None, min_samples_leaf=5, min_samples_split=5, n_estimators=10;, score=-21295976655570.496 total time=   0.0s\n",
      "[CV 3/5] END criterion=friedman_mse, max_depth=None, min_samples_leaf=5, min_samples_split=5, n_estimators=10;, score=-19850705924607.766 total time=   0.0s\n"
     ]
    },
    {
     "name": "stderr",
     "output_type": "stream",
     "text": [
      "C:\\Users\\jb5983on\\AppData\\Local\\anaconda3\\envs\\polars\\Lib\\site-packages\\sklearn\\base.py:1473: DataConversionWarning: A column-vector y was passed when a 1d array was expected. Please change the shape of y to (n_samples,), for example using ravel().\n",
      "  return fit_method(estimator, *args, **kwargs)\n",
      "C:\\Users\\jb5983on\\AppData\\Local\\anaconda3\\envs\\polars\\Lib\\site-packages\\sklearn\\base.py:1473: DataConversionWarning: A column-vector y was passed when a 1d array was expected. Please change the shape of y to (n_samples,), for example using ravel().\n",
      "  return fit_method(estimator, *args, **kwargs)\n",
      "C:\\Users\\jb5983on\\AppData\\Local\\anaconda3\\envs\\polars\\Lib\\site-packages\\sklearn\\base.py:1473: DataConversionWarning: A column-vector y was passed when a 1d array was expected. Please change the shape of y to (n_samples,), for example using ravel().\n",
      "  return fit_method(estimator, *args, **kwargs)\n",
      "C:\\Users\\jb5983on\\AppData\\Local\\anaconda3\\envs\\polars\\Lib\\site-packages\\sklearn\\base.py:1473: DataConversionWarning: A column-vector y was passed when a 1d array was expected. Please change the shape of y to (n_samples,), for example using ravel().\n",
      "  return fit_method(estimator, *args, **kwargs)\n"
     ]
    },
    {
     "name": "stdout",
     "output_type": "stream",
     "text": [
      "[CV 4/5] END criterion=friedman_mse, max_depth=None, min_samples_leaf=5, min_samples_split=5, n_estimators=10;, score=-19627613327549.434 total time=   0.0s\n",
      "[CV 5/5] END criterion=friedman_mse, max_depth=None, min_samples_leaf=5, min_samples_split=5, n_estimators=10;, score=-20719416857671.434 total time=   0.0s\n"
     ]
    },
    {
     "name": "stderr",
     "output_type": "stream",
     "text": [
      "C:\\Users\\jb5983on\\AppData\\Local\\anaconda3\\envs\\polars\\Lib\\site-packages\\sklearn\\base.py:1473: DataConversionWarning: A column-vector y was passed when a 1d array was expected. Please change the shape of y to (n_samples,), for example using ravel().\n",
      "  return fit_method(estimator, *args, **kwargs)\n",
      "C:\\Users\\jb5983on\\AppData\\Local\\anaconda3\\envs\\polars\\Lib\\site-packages\\sklearn\\base.py:1473: DataConversionWarning: A column-vector y was passed when a 1d array was expected. Please change the shape of y to (n_samples,), for example using ravel().\n",
      "  return fit_method(estimator, *args, **kwargs)\n"
     ]
    },
    {
     "name": "stdout",
     "output_type": "stream",
     "text": [
      "[CV 1/5] END criterion=friedman_mse, max_depth=None, min_samples_leaf=5, min_samples_split=5, n_estimators=100;, score=-17752676214424.840 total time=   0.3s\n"
     ]
    },
    {
     "name": "stderr",
     "output_type": "stream",
     "text": [
      "C:\\Users\\jb5983on\\AppData\\Local\\anaconda3\\envs\\polars\\Lib\\site-packages\\sklearn\\base.py:1473: DataConversionWarning: A column-vector y was passed when a 1d array was expected. Please change the shape of y to (n_samples,), for example using ravel().\n",
      "  return fit_method(estimator, *args, **kwargs)\n"
     ]
    },
    {
     "name": "stdout",
     "output_type": "stream",
     "text": [
      "[CV 2/5] END criterion=friedman_mse, max_depth=None, min_samples_leaf=5, min_samples_split=5, n_estimators=100;, score=-21161578983872.578 total time=   0.3s\n"
     ]
    },
    {
     "name": "stderr",
     "output_type": "stream",
     "text": [
      "C:\\Users\\jb5983on\\AppData\\Local\\anaconda3\\envs\\polars\\Lib\\site-packages\\sklearn\\base.py:1473: DataConversionWarning: A column-vector y was passed when a 1d array was expected. Please change the shape of y to (n_samples,), for example using ravel().\n",
      "  return fit_method(estimator, *args, **kwargs)\n"
     ]
    },
    {
     "name": "stdout",
     "output_type": "stream",
     "text": [
      "[CV 3/5] END criterion=friedman_mse, max_depth=None, min_samples_leaf=5, min_samples_split=5, n_estimators=100;, score=-19754538307064.141 total time=   0.3s\n"
     ]
    },
    {
     "name": "stderr",
     "output_type": "stream",
     "text": [
      "C:\\Users\\jb5983on\\AppData\\Local\\anaconda3\\envs\\polars\\Lib\\site-packages\\sklearn\\base.py:1473: DataConversionWarning: A column-vector y was passed when a 1d array was expected. Please change the shape of y to (n_samples,), for example using ravel().\n",
      "  return fit_method(estimator, *args, **kwargs)\n"
     ]
    },
    {
     "name": "stdout",
     "output_type": "stream",
     "text": [
      "[CV 4/5] END criterion=friedman_mse, max_depth=None, min_samples_leaf=5, min_samples_split=5, n_estimators=100;, score=-19591189428874.223 total time=   0.3s\n"
     ]
    },
    {
     "name": "stderr",
     "output_type": "stream",
     "text": [
      "C:\\Users\\jb5983on\\AppData\\Local\\anaconda3\\envs\\polars\\Lib\\site-packages\\sklearn\\base.py:1473: DataConversionWarning: A column-vector y was passed when a 1d array was expected. Please change the shape of y to (n_samples,), for example using ravel().\n",
      "  return fit_method(estimator, *args, **kwargs)\n"
     ]
    },
    {
     "name": "stdout",
     "output_type": "stream",
     "text": [
      "[CV 5/5] END criterion=friedman_mse, max_depth=None, min_samples_leaf=5, min_samples_split=5, n_estimators=100;, score=-20648957895733.887 total time=   0.2s\n",
      "[CV 1/5] END criterion=friedman_mse, max_depth=None, min_samples_leaf=5, min_samples_split=10, n_estimators=10;, score=-17691468236174.984 total time=   0.0s\n",
      "[CV 2/5] END criterion=friedman_mse, max_depth=None, min_samples_leaf=5, min_samples_split=10, n_estimators=10;, score=-21253619894340.789 total time=   0.0s\n",
      "[CV 3/5] END criterion=friedman_mse, max_depth=None, min_samples_leaf=5, min_samples_split=10, n_estimators=10;, score=-19749798912587.609 total time=   0.0s\n",
      "[CV 4/5] END criterion=friedman_mse, max_depth=None, min_samples_leaf=5, min_samples_split=10, n_estimators=10;, score=-19676401950536.781 total time=   0.0s\n"
     ]
    },
    {
     "name": "stderr",
     "output_type": "stream",
     "text": [
      "C:\\Users\\jb5983on\\AppData\\Local\\anaconda3\\envs\\polars\\Lib\\site-packages\\sklearn\\base.py:1473: DataConversionWarning: A column-vector y was passed when a 1d array was expected. Please change the shape of y to (n_samples,), for example using ravel().\n",
      "  return fit_method(estimator, *args, **kwargs)\n",
      "C:\\Users\\jb5983on\\AppData\\Local\\anaconda3\\envs\\polars\\Lib\\site-packages\\sklearn\\base.py:1473: DataConversionWarning: A column-vector y was passed when a 1d array was expected. Please change the shape of y to (n_samples,), for example using ravel().\n",
      "  return fit_method(estimator, *args, **kwargs)\n",
      "C:\\Users\\jb5983on\\AppData\\Local\\anaconda3\\envs\\polars\\Lib\\site-packages\\sklearn\\base.py:1473: DataConversionWarning: A column-vector y was passed when a 1d array was expected. Please change the shape of y to (n_samples,), for example using ravel().\n",
      "  return fit_method(estimator, *args, **kwargs)\n",
      "C:\\Users\\jb5983on\\AppData\\Local\\anaconda3\\envs\\polars\\Lib\\site-packages\\sklearn\\base.py:1473: DataConversionWarning: A column-vector y was passed when a 1d array was expected. Please change the shape of y to (n_samples,), for example using ravel().\n",
      "  return fit_method(estimator, *args, **kwargs)\n",
      "C:\\Users\\jb5983on\\AppData\\Local\\anaconda3\\envs\\polars\\Lib\\site-packages\\sklearn\\base.py:1473: DataConversionWarning: A column-vector y was passed when a 1d array was expected. Please change the shape of y to (n_samples,), for example using ravel().\n",
      "  return fit_method(estimator, *args, **kwargs)\n"
     ]
    },
    {
     "name": "stdout",
     "output_type": "stream",
     "text": [
      "[CV 5/5] END criterion=friedman_mse, max_depth=None, min_samples_leaf=5, min_samples_split=10, n_estimators=10;, score=-20657877210916.457 total time=   0.0s\n"
     ]
    },
    {
     "name": "stderr",
     "output_type": "stream",
     "text": [
      "C:\\Users\\jb5983on\\AppData\\Local\\anaconda3\\envs\\polars\\Lib\\site-packages\\sklearn\\base.py:1473: DataConversionWarning: A column-vector y was passed when a 1d array was expected. Please change the shape of y to (n_samples,), for example using ravel().\n",
      "  return fit_method(estimator, *args, **kwargs)\n"
     ]
    },
    {
     "name": "stdout",
     "output_type": "stream",
     "text": [
      "[CV 1/5] END criterion=friedman_mse, max_depth=None, min_samples_leaf=5, min_samples_split=10, n_estimators=100;, score=-17752563478947.047 total time=   0.2s\n"
     ]
    },
    {
     "name": "stderr",
     "output_type": "stream",
     "text": [
      "C:\\Users\\jb5983on\\AppData\\Local\\anaconda3\\envs\\polars\\Lib\\site-packages\\sklearn\\base.py:1473: DataConversionWarning: A column-vector y was passed when a 1d array was expected. Please change the shape of y to (n_samples,), for example using ravel().\n",
      "  return fit_method(estimator, *args, **kwargs)\n"
     ]
    },
    {
     "name": "stdout",
     "output_type": "stream",
     "text": [
      "[CV 2/5] END criterion=friedman_mse, max_depth=None, min_samples_leaf=5, min_samples_split=10, n_estimators=100;, score=-21172067143034.398 total time=   0.2s\n"
     ]
    },
    {
     "name": "stderr",
     "output_type": "stream",
     "text": [
      "C:\\Users\\jb5983on\\AppData\\Local\\anaconda3\\envs\\polars\\Lib\\site-packages\\sklearn\\base.py:1473: DataConversionWarning: A column-vector y was passed when a 1d array was expected. Please change the shape of y to (n_samples,), for example using ravel().\n",
      "  return fit_method(estimator, *args, **kwargs)\n"
     ]
    },
    {
     "name": "stdout",
     "output_type": "stream",
     "text": [
      "[CV 3/5] END criterion=friedman_mse, max_depth=None, min_samples_leaf=5, min_samples_split=10, n_estimators=100;, score=-19788730782294.020 total time=   0.2s\n"
     ]
    },
    {
     "name": "stderr",
     "output_type": "stream",
     "text": [
      "C:\\Users\\jb5983on\\AppData\\Local\\anaconda3\\envs\\polars\\Lib\\site-packages\\sklearn\\base.py:1473: DataConversionWarning: A column-vector y was passed when a 1d array was expected. Please change the shape of y to (n_samples,), for example using ravel().\n",
      "  return fit_method(estimator, *args, **kwargs)\n"
     ]
    },
    {
     "name": "stdout",
     "output_type": "stream",
     "text": [
      "[CV 4/5] END criterion=friedman_mse, max_depth=None, min_samples_leaf=5, min_samples_split=10, n_estimators=100;, score=-19619454633577.762 total time=   0.2s\n"
     ]
    },
    {
     "name": "stderr",
     "output_type": "stream",
     "text": [
      "C:\\Users\\jb5983on\\AppData\\Local\\anaconda3\\envs\\polars\\Lib\\site-packages\\sklearn\\base.py:1473: DataConversionWarning: A column-vector y was passed when a 1d array was expected. Please change the shape of y to (n_samples,), for example using ravel().\n",
      "  return fit_method(estimator, *args, **kwargs)\n"
     ]
    },
    {
     "name": "stdout",
     "output_type": "stream",
     "text": [
      "[CV 5/5] END criterion=friedman_mse, max_depth=None, min_samples_leaf=5, min_samples_split=10, n_estimators=100;, score=-20631188724705.539 total time=   0.2s\n",
      "[CV 1/5] END criterion=friedman_mse, max_depth=None, min_samples_leaf=10, min_samples_split=1, n_estimators=10;, score=nan total time=   0.0s\n",
      "[CV 2/5] END criterion=friedman_mse, max_depth=None, min_samples_leaf=10, min_samples_split=1, n_estimators=10;, score=nan total time=   0.0s\n",
      "[CV 3/5] END criterion=friedman_mse, max_depth=None, min_samples_leaf=10, min_samples_split=1, n_estimators=10;, score=nan total time=   0.0s\n",
      "[CV 4/5] END criterion=friedman_mse, max_depth=None, min_samples_leaf=10, min_samples_split=1, n_estimators=10;, score=nan total time=   0.0s\n",
      "[CV 5/5] END criterion=friedman_mse, max_depth=None, min_samples_leaf=10, min_samples_split=1, n_estimators=10;, score=nan total time=   0.0s\n",
      "[CV 1/5] END criterion=friedman_mse, max_depth=None, min_samples_leaf=10, min_samples_split=1, n_estimators=100;, score=nan total time=   0.0s\n",
      "[CV 2/5] END criterion=friedman_mse, max_depth=None, min_samples_leaf=10, min_samples_split=1, n_estimators=100;, score=nan total time=   0.0s\n",
      "[CV 3/5] END criterion=friedman_mse, max_depth=None, min_samples_leaf=10, min_samples_split=1, n_estimators=100;, score=nan total time=   0.0s\n",
      "[CV 4/5] END criterion=friedman_mse, max_depth=None, min_samples_leaf=10, min_samples_split=1, n_estimators=100;, score=nan total time=   0.0s\n",
      "[CV 5/5] END criterion=friedman_mse, max_depth=None, min_samples_leaf=10, min_samples_split=1, n_estimators=100;, score=nan total time=   0.0s\n",
      "[CV 1/5] END criterion=friedman_mse, max_depth=None, min_samples_leaf=10, min_samples_split=5, n_estimators=10;, score=-17756248992324.504 total time=   0.0s\n",
      "[CV 2/5] END criterion=friedman_mse, max_depth=None, min_samples_leaf=10, min_samples_split=5, n_estimators=10;, score=-21195592184373.609 total time=   0.0s\n"
     ]
    },
    {
     "name": "stderr",
     "output_type": "stream",
     "text": [
      "C:\\Users\\jb5983on\\AppData\\Local\\anaconda3\\envs\\polars\\Lib\\site-packages\\sklearn\\base.py:1473: DataConversionWarning: A column-vector y was passed when a 1d array was expected. Please change the shape of y to (n_samples,), for example using ravel().\n",
      "  return fit_method(estimator, *args, **kwargs)\n",
      "C:\\Users\\jb5983on\\AppData\\Local\\anaconda3\\envs\\polars\\Lib\\site-packages\\sklearn\\base.py:1473: DataConversionWarning: A column-vector y was passed when a 1d array was expected. Please change the shape of y to (n_samples,), for example using ravel().\n",
      "  return fit_method(estimator, *args, **kwargs)\n",
      "C:\\Users\\jb5983on\\AppData\\Local\\anaconda3\\envs\\polars\\Lib\\site-packages\\sklearn\\base.py:1473: DataConversionWarning: A column-vector y was passed when a 1d array was expected. Please change the shape of y to (n_samples,), for example using ravel().\n",
      "  return fit_method(estimator, *args, **kwargs)\n"
     ]
    },
    {
     "name": "stdout",
     "output_type": "stream",
     "text": [
      "[CV 3/5] END criterion=friedman_mse, max_depth=None, min_samples_leaf=10, min_samples_split=5, n_estimators=10;, score=-19849468169851.000 total time=   0.0s\n",
      "[CV 4/5] END criterion=friedman_mse, max_depth=None, min_samples_leaf=10, min_samples_split=5, n_estimators=10;, score=-19696081618732.148 total time=   0.0s\n",
      "[CV 5/5] END criterion=friedman_mse, max_depth=None, min_samples_leaf=10, min_samples_split=5, n_estimators=10;, score=-20666612881095.852 total time=   0.0s\n"
     ]
    },
    {
     "name": "stderr",
     "output_type": "stream",
     "text": [
      "C:\\Users\\jb5983on\\AppData\\Local\\anaconda3\\envs\\polars\\Lib\\site-packages\\sklearn\\base.py:1473: DataConversionWarning: A column-vector y was passed when a 1d array was expected. Please change the shape of y to (n_samples,), for example using ravel().\n",
      "  return fit_method(estimator, *args, **kwargs)\n",
      "C:\\Users\\jb5983on\\AppData\\Local\\anaconda3\\envs\\polars\\Lib\\site-packages\\sklearn\\base.py:1473: DataConversionWarning: A column-vector y was passed when a 1d array was expected. Please change the shape of y to (n_samples,), for example using ravel().\n",
      "  return fit_method(estimator, *args, **kwargs)\n",
      "C:\\Users\\jb5983on\\AppData\\Local\\anaconda3\\envs\\polars\\Lib\\site-packages\\sklearn\\base.py:1473: DataConversionWarning: A column-vector y was passed when a 1d array was expected. Please change the shape of y to (n_samples,), for example using ravel().\n",
      "  return fit_method(estimator, *args, **kwargs)\n"
     ]
    },
    {
     "name": "stdout",
     "output_type": "stream",
     "text": [
      "[CV 1/5] END criterion=friedman_mse, max_depth=None, min_samples_leaf=10, min_samples_split=5, n_estimators=100;, score=-17673939188556.180 total time=   0.2s\n"
     ]
    },
    {
     "name": "stderr",
     "output_type": "stream",
     "text": [
      "C:\\Users\\jb5983on\\AppData\\Local\\anaconda3\\envs\\polars\\Lib\\site-packages\\sklearn\\base.py:1473: DataConversionWarning: A column-vector y was passed when a 1d array was expected. Please change the shape of y to (n_samples,), for example using ravel().\n",
      "  return fit_method(estimator, *args, **kwargs)\n"
     ]
    },
    {
     "name": "stdout",
     "output_type": "stream",
     "text": [
      "[CV 2/5] END criterion=friedman_mse, max_depth=None, min_samples_leaf=10, min_samples_split=5, n_estimators=100;, score=-21138464246732.891 total time=   0.2s\n"
     ]
    },
    {
     "name": "stderr",
     "output_type": "stream",
     "text": [
      "C:\\Users\\jb5983on\\AppData\\Local\\anaconda3\\envs\\polars\\Lib\\site-packages\\sklearn\\base.py:1473: DataConversionWarning: A column-vector y was passed when a 1d array was expected. Please change the shape of y to (n_samples,), for example using ravel().\n",
      "  return fit_method(estimator, *args, **kwargs)\n"
     ]
    },
    {
     "name": "stdout",
     "output_type": "stream",
     "text": [
      "[CV 3/5] END criterion=friedman_mse, max_depth=None, min_samples_leaf=10, min_samples_split=5, n_estimators=100;, score=-19740866146507.605 total time=   0.2s\n"
     ]
    },
    {
     "name": "stderr",
     "output_type": "stream",
     "text": [
      "C:\\Users\\jb5983on\\AppData\\Local\\anaconda3\\envs\\polars\\Lib\\site-packages\\sklearn\\base.py:1473: DataConversionWarning: A column-vector y was passed when a 1d array was expected. Please change the shape of y to (n_samples,), for example using ravel().\n",
      "  return fit_method(estimator, *args, **kwargs)\n"
     ]
    },
    {
     "name": "stdout",
     "output_type": "stream",
     "text": [
      "[CV 4/5] END criterion=friedman_mse, max_depth=None, min_samples_leaf=10, min_samples_split=5, n_estimators=100;, score=-19615879754507.246 total time=   0.3s\n"
     ]
    },
    {
     "name": "stderr",
     "output_type": "stream",
     "text": [
      "C:\\Users\\jb5983on\\AppData\\Local\\anaconda3\\envs\\polars\\Lib\\site-packages\\sklearn\\base.py:1473: DataConversionWarning: A column-vector y was passed when a 1d array was expected. Please change the shape of y to (n_samples,), for example using ravel().\n",
      "  return fit_method(estimator, *args, **kwargs)\n"
     ]
    },
    {
     "name": "stdout",
     "output_type": "stream",
     "text": [
      "[CV 5/5] END criterion=friedman_mse, max_depth=None, min_samples_leaf=10, min_samples_split=5, n_estimators=100;, score=-20609715403115.090 total time=   0.2s\n",
      "[CV 1/5] END criterion=friedman_mse, max_depth=None, min_samples_leaf=10, min_samples_split=10, n_estimators=10;, score=-17804059600424.359 total time=   0.0s\n",
      "[CV 2/5] END criterion=friedman_mse, max_depth=None, min_samples_leaf=10, min_samples_split=10, n_estimators=10;, score=-21242169634645.750 total time=   0.0s\n",
      "[CV 3/5] END criterion=friedman_mse, max_depth=None, min_samples_leaf=10, min_samples_split=10, n_estimators=10;, score=-19800999961308.691 total time=   0.0s\n",
      "[CV 4/5] END criterion=friedman_mse, max_depth=None, min_samples_leaf=10, min_samples_split=10, n_estimators=10;, score=-19637188770452.512 total time=   0.0s\n"
     ]
    },
    {
     "name": "stderr",
     "output_type": "stream",
     "text": [
      "C:\\Users\\jb5983on\\AppData\\Local\\anaconda3\\envs\\polars\\Lib\\site-packages\\sklearn\\base.py:1473: DataConversionWarning: A column-vector y was passed when a 1d array was expected. Please change the shape of y to (n_samples,), for example using ravel().\n",
      "  return fit_method(estimator, *args, **kwargs)\n",
      "C:\\Users\\jb5983on\\AppData\\Local\\anaconda3\\envs\\polars\\Lib\\site-packages\\sklearn\\base.py:1473: DataConversionWarning: A column-vector y was passed when a 1d array was expected. Please change the shape of y to (n_samples,), for example using ravel().\n",
      "  return fit_method(estimator, *args, **kwargs)\n",
      "C:\\Users\\jb5983on\\AppData\\Local\\anaconda3\\envs\\polars\\Lib\\site-packages\\sklearn\\base.py:1473: DataConversionWarning: A column-vector y was passed when a 1d array was expected. Please change the shape of y to (n_samples,), for example using ravel().\n",
      "  return fit_method(estimator, *args, **kwargs)\n",
      "C:\\Users\\jb5983on\\AppData\\Local\\anaconda3\\envs\\polars\\Lib\\site-packages\\sklearn\\base.py:1473: DataConversionWarning: A column-vector y was passed when a 1d array was expected. Please change the shape of y to (n_samples,), for example using ravel().\n",
      "  return fit_method(estimator, *args, **kwargs)\n",
      "C:\\Users\\jb5983on\\AppData\\Local\\anaconda3\\envs\\polars\\Lib\\site-packages\\sklearn\\base.py:1473: DataConversionWarning: A column-vector y was passed when a 1d array was expected. Please change the shape of y to (n_samples,), for example using ravel().\n",
      "  return fit_method(estimator, *args, **kwargs)\n"
     ]
    },
    {
     "name": "stdout",
     "output_type": "stream",
     "text": [
      "[CV 5/5] END criterion=friedman_mse, max_depth=None, min_samples_leaf=10, min_samples_split=10, n_estimators=10;, score=-20627572335885.164 total time=   0.0s\n"
     ]
    },
    {
     "name": "stderr",
     "output_type": "stream",
     "text": [
      "C:\\Users\\jb5983on\\AppData\\Local\\anaconda3\\envs\\polars\\Lib\\site-packages\\sklearn\\base.py:1473: DataConversionWarning: A column-vector y was passed when a 1d array was expected. Please change the shape of y to (n_samples,), for example using ravel().\n",
      "  return fit_method(estimator, *args, **kwargs)\n"
     ]
    },
    {
     "name": "stdout",
     "output_type": "stream",
     "text": [
      "[CV 1/5] END criterion=friedman_mse, max_depth=None, min_samples_leaf=10, min_samples_split=10, n_estimators=100;, score=-17729306833679.227 total time=   0.3s\n"
     ]
    },
    {
     "name": "stderr",
     "output_type": "stream",
     "text": [
      "C:\\Users\\jb5983on\\AppData\\Local\\anaconda3\\envs\\polars\\Lib\\site-packages\\sklearn\\base.py:1473: DataConversionWarning: A column-vector y was passed when a 1d array was expected. Please change the shape of y to (n_samples,), for example using ravel().\n",
      "  return fit_method(estimator, *args, **kwargs)\n"
     ]
    },
    {
     "name": "stdout",
     "output_type": "stream",
     "text": [
      "[CV 2/5] END criterion=friedman_mse, max_depth=None, min_samples_leaf=10, min_samples_split=10, n_estimators=100;, score=-21136287402460.641 total time=   0.2s\n"
     ]
    },
    {
     "name": "stderr",
     "output_type": "stream",
     "text": [
      "C:\\Users\\jb5983on\\AppData\\Local\\anaconda3\\envs\\polars\\Lib\\site-packages\\sklearn\\base.py:1473: DataConversionWarning: A column-vector y was passed when a 1d array was expected. Please change the shape of y to (n_samples,), for example using ravel().\n",
      "  return fit_method(estimator, *args, **kwargs)\n"
     ]
    },
    {
     "name": "stdout",
     "output_type": "stream",
     "text": [
      "[CV 3/5] END criterion=friedman_mse, max_depth=None, min_samples_leaf=10, min_samples_split=10, n_estimators=100;, score=-19764950609333.523 total time=   0.2s\n"
     ]
    },
    {
     "name": "stderr",
     "output_type": "stream",
     "text": [
      "C:\\Users\\jb5983on\\AppData\\Local\\anaconda3\\envs\\polars\\Lib\\site-packages\\sklearn\\base.py:1473: DataConversionWarning: A column-vector y was passed when a 1d array was expected. Please change the shape of y to (n_samples,), for example using ravel().\n",
      "  return fit_method(estimator, *args, **kwargs)\n"
     ]
    },
    {
     "name": "stdout",
     "output_type": "stream",
     "text": [
      "[CV 4/5] END criterion=friedman_mse, max_depth=None, min_samples_leaf=10, min_samples_split=10, n_estimators=100;, score=-19583038613338.629 total time=   0.2s\n"
     ]
    },
    {
     "name": "stderr",
     "output_type": "stream",
     "text": [
      "C:\\Users\\jb5983on\\AppData\\Local\\anaconda3\\envs\\polars\\Lib\\site-packages\\sklearn\\base.py:1473: DataConversionWarning: A column-vector y was passed when a 1d array was expected. Please change the shape of y to (n_samples,), for example using ravel().\n",
      "  return fit_method(estimator, *args, **kwargs)\n"
     ]
    },
    {
     "name": "stdout",
     "output_type": "stream",
     "text": [
      "[CV 5/5] END criterion=friedman_mse, max_depth=None, min_samples_leaf=10, min_samples_split=10, n_estimators=100;, score=-20602790499168.289 total time=   0.2s\n",
      "[CV 1/5] END criterion=friedman_mse, max_depth=1, min_samples_leaf=1, min_samples_split=1, n_estimators=10;, score=nan total time=   0.0s\n",
      "[CV 2/5] END criterion=friedman_mse, max_depth=1, min_samples_leaf=1, min_samples_split=1, n_estimators=10;, score=nan total time=   0.0s\n",
      "[CV 3/5] END criterion=friedman_mse, max_depth=1, min_samples_leaf=1, min_samples_split=1, n_estimators=10;, score=nan total time=   0.0s\n",
      "[CV 4/5] END criterion=friedman_mse, max_depth=1, min_samples_leaf=1, min_samples_split=1, n_estimators=10;, score=nan total time=   0.0s\n",
      "[CV 5/5] END criterion=friedman_mse, max_depth=1, min_samples_leaf=1, min_samples_split=1, n_estimators=10;, score=nan total time=   0.0s\n",
      "[CV 1/5] END criterion=friedman_mse, max_depth=1, min_samples_leaf=1, min_samples_split=1, n_estimators=100;, score=nan total time=   0.0s\n",
      "[CV 2/5] END criterion=friedman_mse, max_depth=1, min_samples_leaf=1, min_samples_split=1, n_estimators=100;, score=nan total time=   0.0s\n",
      "[CV 3/5] END criterion=friedman_mse, max_depth=1, min_samples_leaf=1, min_samples_split=1, n_estimators=100;, score=nan total time=   0.0s\n",
      "[CV 4/5] END criterion=friedman_mse, max_depth=1, min_samples_leaf=1, min_samples_split=1, n_estimators=100;, score=nan total time=   0.0s\n",
      "[CV 5/5] END criterion=friedman_mse, max_depth=1, min_samples_leaf=1, min_samples_split=1, n_estimators=100;, score=nan total time=   0.0s\n",
      "[CV 1/5] END criterion=friedman_mse, max_depth=1, min_samples_leaf=1, min_samples_split=5, n_estimators=10;, score=-17894477623002.223 total time=   0.0s\n",
      "[CV 2/5] END criterion=friedman_mse, max_depth=1, min_samples_leaf=1, min_samples_split=5, n_estimators=10;, score=-21445166364181.145 total time=   0.0s\n",
      "[CV 3/5] END criterion=friedman_mse, max_depth=1, min_samples_leaf=1, min_samples_split=5, n_estimators=10;, score=-19764252484463.902 total time=   0.0s\n",
      "[CV 4/5] END criterion=friedman_mse, max_depth=1, min_samples_leaf=1, min_samples_split=5, n_estimators=10;, score=-20046650063759.027 total time=   0.0s\n",
      "[CV 5/5] END criterion=friedman_mse, max_depth=1, min_samples_leaf=1, min_samples_split=5, n_estimators=10;, score=-21224459055630.938 total time=   0.0s\n"
     ]
    },
    {
     "name": "stderr",
     "output_type": "stream",
     "text": [
      "C:\\Users\\jb5983on\\AppData\\Local\\anaconda3\\envs\\polars\\Lib\\site-packages\\sklearn\\base.py:1473: DataConversionWarning: A column-vector y was passed when a 1d array was expected. Please change the shape of y to (n_samples,), for example using ravel().\n",
      "  return fit_method(estimator, *args, **kwargs)\n",
      "C:\\Users\\jb5983on\\AppData\\Local\\anaconda3\\envs\\polars\\Lib\\site-packages\\sklearn\\base.py:1473: DataConversionWarning: A column-vector y was passed when a 1d array was expected. Please change the shape of y to (n_samples,), for example using ravel().\n",
      "  return fit_method(estimator, *args, **kwargs)\n",
      "C:\\Users\\jb5983on\\AppData\\Local\\anaconda3\\envs\\polars\\Lib\\site-packages\\sklearn\\base.py:1473: DataConversionWarning: A column-vector y was passed when a 1d array was expected. Please change the shape of y to (n_samples,), for example using ravel().\n",
      "  return fit_method(estimator, *args, **kwargs)\n",
      "C:\\Users\\jb5983on\\AppData\\Local\\anaconda3\\envs\\polars\\Lib\\site-packages\\sklearn\\base.py:1473: DataConversionWarning: A column-vector y was passed when a 1d array was expected. Please change the shape of y to (n_samples,), for example using ravel().\n",
      "  return fit_method(estimator, *args, **kwargs)\n",
      "C:\\Users\\jb5983on\\AppData\\Local\\anaconda3\\envs\\polars\\Lib\\site-packages\\sklearn\\base.py:1473: DataConversionWarning: A column-vector y was passed when a 1d array was expected. Please change the shape of y to (n_samples,), for example using ravel().\n",
      "  return fit_method(estimator, *args, **kwargs)\n",
      "C:\\Users\\jb5983on\\AppData\\Local\\anaconda3\\envs\\polars\\Lib\\site-packages\\sklearn\\base.py:1473: DataConversionWarning: A column-vector y was passed when a 1d array was expected. Please change the shape of y to (n_samples,), for example using ravel().\n",
      "  return fit_method(estimator, *args, **kwargs)\n"
     ]
    },
    {
     "name": "stdout",
     "output_type": "stream",
     "text": [
      "[CV 1/5] END criterion=friedman_mse, max_depth=1, min_samples_leaf=1, min_samples_split=5, n_estimators=100;, score=-17924088518168.535 total time=   0.1s\n",
      "[CV 2/5] END criterion=friedman_mse, max_depth=1, min_samples_leaf=1, min_samples_split=5, n_estimators=100;, score=-21448071130559.309 total time=   0.1s\n"
     ]
    },
    {
     "name": "stderr",
     "output_type": "stream",
     "text": [
      "C:\\Users\\jb5983on\\AppData\\Local\\anaconda3\\envs\\polars\\Lib\\site-packages\\sklearn\\base.py:1473: DataConversionWarning: A column-vector y was passed when a 1d array was expected. Please change the shape of y to (n_samples,), for example using ravel().\n",
      "  return fit_method(estimator, *args, **kwargs)\n",
      "C:\\Users\\jb5983on\\AppData\\Local\\anaconda3\\envs\\polars\\Lib\\site-packages\\sklearn\\base.py:1473: DataConversionWarning: A column-vector y was passed when a 1d array was expected. Please change the shape of y to (n_samples,), for example using ravel().\n",
      "  return fit_method(estimator, *args, **kwargs)\n"
     ]
    },
    {
     "name": "stdout",
     "output_type": "stream",
     "text": [
      "[CV 3/5] END criterion=friedman_mse, max_depth=1, min_samples_leaf=1, min_samples_split=5, n_estimators=100;, score=-19713027319700.145 total time=   0.1s\n",
      "[CV 4/5] END criterion=friedman_mse, max_depth=1, min_samples_leaf=1, min_samples_split=5, n_estimators=100;, score=-19972284170975.676 total time=   0.1s\n"
     ]
    },
    {
     "name": "stderr",
     "output_type": "stream",
     "text": [
      "C:\\Users\\jb5983on\\AppData\\Local\\anaconda3\\envs\\polars\\Lib\\site-packages\\sklearn\\base.py:1473: DataConversionWarning: A column-vector y was passed when a 1d array was expected. Please change the shape of y to (n_samples,), for example using ravel().\n",
      "  return fit_method(estimator, *args, **kwargs)\n",
      "C:\\Users\\jb5983on\\AppData\\Local\\anaconda3\\envs\\polars\\Lib\\site-packages\\sklearn\\base.py:1473: DataConversionWarning: A column-vector y was passed when a 1d array was expected. Please change the shape of y to (n_samples,), for example using ravel().\n",
      "  return fit_method(estimator, *args, **kwargs)\n"
     ]
    },
    {
     "name": "stdout",
     "output_type": "stream",
     "text": [
      "[CV 5/5] END criterion=friedman_mse, max_depth=1, min_samples_leaf=1, min_samples_split=5, n_estimators=100;, score=-21161046001582.234 total time=   0.0s\n",
      "[CV 1/5] END criterion=friedman_mse, max_depth=1, min_samples_leaf=1, min_samples_split=10, n_estimators=10;, score=-18003734836369.523 total time=   0.0s\n",
      "[CV 2/5] END criterion=friedman_mse, max_depth=1, min_samples_leaf=1, min_samples_split=10, n_estimators=10;, score=-21433724226680.016 total time=   0.0s\n",
      "[CV 3/5] END criterion=friedman_mse, max_depth=1, min_samples_leaf=1, min_samples_split=10, n_estimators=10;, score=-19791213231202.965 total time=   0.0s\n",
      "[CV 4/5] END criterion=friedman_mse, max_depth=1, min_samples_leaf=1, min_samples_split=10, n_estimators=10;, score=-19995086460231.348 total time=   0.0s\n",
      "[CV 5/5] END criterion=friedman_mse, max_depth=1, min_samples_leaf=1, min_samples_split=10, n_estimators=10;, score=-21161219562351.926 total time=   0.0s\n"
     ]
    },
    {
     "name": "stderr",
     "output_type": "stream",
     "text": [
      "C:\\Users\\jb5983on\\AppData\\Local\\anaconda3\\envs\\polars\\Lib\\site-packages\\sklearn\\base.py:1473: DataConversionWarning: A column-vector y was passed when a 1d array was expected. Please change the shape of y to (n_samples,), for example using ravel().\n",
      "  return fit_method(estimator, *args, **kwargs)\n",
      "C:\\Users\\jb5983on\\AppData\\Local\\anaconda3\\envs\\polars\\Lib\\site-packages\\sklearn\\base.py:1473: DataConversionWarning: A column-vector y was passed when a 1d array was expected. Please change the shape of y to (n_samples,), for example using ravel().\n",
      "  return fit_method(estimator, *args, **kwargs)\n",
      "C:\\Users\\jb5983on\\AppData\\Local\\anaconda3\\envs\\polars\\Lib\\site-packages\\sklearn\\base.py:1473: DataConversionWarning: A column-vector y was passed when a 1d array was expected. Please change the shape of y to (n_samples,), for example using ravel().\n",
      "  return fit_method(estimator, *args, **kwargs)\n",
      "C:\\Users\\jb5983on\\AppData\\Local\\anaconda3\\envs\\polars\\Lib\\site-packages\\sklearn\\base.py:1473: DataConversionWarning: A column-vector y was passed when a 1d array was expected. Please change the shape of y to (n_samples,), for example using ravel().\n",
      "  return fit_method(estimator, *args, **kwargs)\n",
      "C:\\Users\\jb5983on\\AppData\\Local\\anaconda3\\envs\\polars\\Lib\\site-packages\\sklearn\\base.py:1473: DataConversionWarning: A column-vector y was passed when a 1d array was expected. Please change the shape of y to (n_samples,), for example using ravel().\n",
      "  return fit_method(estimator, *args, **kwargs)\n",
      "C:\\Users\\jb5983on\\AppData\\Local\\anaconda3\\envs\\polars\\Lib\\site-packages\\sklearn\\base.py:1473: DataConversionWarning: A column-vector y was passed when a 1d array was expected. Please change the shape of y to (n_samples,), for example using ravel().\n",
      "  return fit_method(estimator, *args, **kwargs)\n"
     ]
    },
    {
     "name": "stdout",
     "output_type": "stream",
     "text": [
      "[CV 1/5] END criterion=friedman_mse, max_depth=1, min_samples_leaf=1, min_samples_split=10, n_estimators=100;, score=-17916004005202.422 total time=   0.1s\n",
      "[CV 2/5] END criterion=friedman_mse, max_depth=1, min_samples_leaf=1, min_samples_split=10, n_estimators=100;, score=-21453389476453.770 total time=   0.1s\n"
     ]
    },
    {
     "name": "stderr",
     "output_type": "stream",
     "text": [
      "C:\\Users\\jb5983on\\AppData\\Local\\anaconda3\\envs\\polars\\Lib\\site-packages\\sklearn\\base.py:1473: DataConversionWarning: A column-vector y was passed when a 1d array was expected. Please change the shape of y to (n_samples,), for example using ravel().\n",
      "  return fit_method(estimator, *args, **kwargs)\n",
      "C:\\Users\\jb5983on\\AppData\\Local\\anaconda3\\envs\\polars\\Lib\\site-packages\\sklearn\\base.py:1473: DataConversionWarning: A column-vector y was passed when a 1d array was expected. Please change the shape of y to (n_samples,), for example using ravel().\n",
      "  return fit_method(estimator, *args, **kwargs)\n"
     ]
    },
    {
     "name": "stdout",
     "output_type": "stream",
     "text": [
      "[CV 3/5] END criterion=friedman_mse, max_depth=1, min_samples_leaf=1, min_samples_split=10, n_estimators=100;, score=-19737027543455.840 total time=   0.1s\n"
     ]
    },
    {
     "name": "stderr",
     "output_type": "stream",
     "text": [
      "C:\\Users\\jb5983on\\AppData\\Local\\anaconda3\\envs\\polars\\Lib\\site-packages\\sklearn\\base.py:1473: DataConversionWarning: A column-vector y was passed when a 1d array was expected. Please change the shape of y to (n_samples,), for example using ravel().\n",
      "  return fit_method(estimator, *args, **kwargs)\n"
     ]
    },
    {
     "name": "stdout",
     "output_type": "stream",
     "text": [
      "[CV 4/5] END criterion=friedman_mse, max_depth=1, min_samples_leaf=1, min_samples_split=10, n_estimators=100;, score=-20006141609970.684 total time=   0.1s\n",
      "[CV 5/5] END criterion=friedman_mse, max_depth=1, min_samples_leaf=1, min_samples_split=10, n_estimators=100;, score=-21163517715004.797 total time=   0.1s\n",
      "[CV 1/5] END criterion=friedman_mse, max_depth=1, min_samples_leaf=5, min_samples_split=1, n_estimators=10;, score=nan total time=   0.0s\n",
      "[CV 2/5] END criterion=friedman_mse, max_depth=1, min_samples_leaf=5, min_samples_split=1, n_estimators=10;, score=nan total time=   0.0s\n",
      "[CV 3/5] END criterion=friedman_mse, max_depth=1, min_samples_leaf=5, min_samples_split=1, n_estimators=10;, score=nan total time=   0.0s\n",
      "[CV 4/5] END criterion=friedman_mse, max_depth=1, min_samples_leaf=5, min_samples_split=1, n_estimators=10;, score=nan total time=   0.0s\n",
      "[CV 5/5] END criterion=friedman_mse, max_depth=1, min_samples_leaf=5, min_samples_split=1, n_estimators=10;, score=nan total time=   0.0s\n"
     ]
    },
    {
     "name": "stderr",
     "output_type": "stream",
     "text": [
      "C:\\Users\\jb5983on\\AppData\\Local\\anaconda3\\envs\\polars\\Lib\\site-packages\\sklearn\\base.py:1473: DataConversionWarning: A column-vector y was passed when a 1d array was expected. Please change the shape of y to (n_samples,), for example using ravel().\n",
      "  return fit_method(estimator, *args, **kwargs)\n"
     ]
    },
    {
     "name": "stdout",
     "output_type": "stream",
     "text": [
      "[CV 1/5] END criterion=friedman_mse, max_depth=1, min_samples_leaf=5, min_samples_split=1, n_estimators=100;, score=nan total time=   0.0s\n",
      "[CV 2/5] END criterion=friedman_mse, max_depth=1, min_samples_leaf=5, min_samples_split=1, n_estimators=100;, score=nan total time=   0.0s\n",
      "[CV 3/5] END criterion=friedman_mse, max_depth=1, min_samples_leaf=5, min_samples_split=1, n_estimators=100;, score=nan total time=   0.0s\n",
      "[CV 4/5] END criterion=friedman_mse, max_depth=1, min_samples_leaf=5, min_samples_split=1, n_estimators=100;, score=nan total time=   0.0s\n",
      "[CV 5/5] END criterion=friedman_mse, max_depth=1, min_samples_leaf=5, min_samples_split=1, n_estimators=100;, score=nan total time=   0.0s\n",
      "[CV 1/5] END criterion=friedman_mse, max_depth=1, min_samples_leaf=5, min_samples_split=5, n_estimators=10;, score=-17926349733637.973 total time=   0.0s\n",
      "[CV 2/5] END criterion=friedman_mse, max_depth=1, min_samples_leaf=5, min_samples_split=5, n_estimators=10;, score=-21421003552813.238 total time=   0.0s\n",
      "[CV 3/5] END criterion=friedman_mse, max_depth=1, min_samples_leaf=5, min_samples_split=5, n_estimators=10;, score=-19773556893520.688 total time=   0.0s\n",
      "[CV 4/5] END criterion=friedman_mse, max_depth=1, min_samples_leaf=5, min_samples_split=5, n_estimators=10;, score=-20036286287303.270 total time=   0.0s\n"
     ]
    },
    {
     "name": "stderr",
     "output_type": "stream",
     "text": [
      "C:\\Users\\jb5983on\\AppData\\Local\\anaconda3\\envs\\polars\\Lib\\site-packages\\sklearn\\base.py:1473: DataConversionWarning: A column-vector y was passed when a 1d array was expected. Please change the shape of y to (n_samples,), for example using ravel().\n",
      "  return fit_method(estimator, *args, **kwargs)\n",
      "C:\\Users\\jb5983on\\AppData\\Local\\anaconda3\\envs\\polars\\Lib\\site-packages\\sklearn\\base.py:1473: DataConversionWarning: A column-vector y was passed when a 1d array was expected. Please change the shape of y to (n_samples,), for example using ravel().\n",
      "  return fit_method(estimator, *args, **kwargs)\n",
      "C:\\Users\\jb5983on\\AppData\\Local\\anaconda3\\envs\\polars\\Lib\\site-packages\\sklearn\\base.py:1473: DataConversionWarning: A column-vector y was passed when a 1d array was expected. Please change the shape of y to (n_samples,), for example using ravel().\n",
      "  return fit_method(estimator, *args, **kwargs)\n",
      "C:\\Users\\jb5983on\\AppData\\Local\\anaconda3\\envs\\polars\\Lib\\site-packages\\sklearn\\base.py:1473: DataConversionWarning: A column-vector y was passed when a 1d array was expected. Please change the shape of y to (n_samples,), for example using ravel().\n",
      "  return fit_method(estimator, *args, **kwargs)\n",
      "C:\\Users\\jb5983on\\AppData\\Local\\anaconda3\\envs\\polars\\Lib\\site-packages\\sklearn\\base.py:1473: DataConversionWarning: A column-vector y was passed when a 1d array was expected. Please change the shape of y to (n_samples,), for example using ravel().\n",
      "  return fit_method(estimator, *args, **kwargs)\n"
     ]
    },
    {
     "name": "stdout",
     "output_type": "stream",
     "text": [
      "[CV 5/5] END criterion=friedman_mse, max_depth=1, min_samples_leaf=5, min_samples_split=5, n_estimators=10;, score=-21141926005751.699 total time=   0.0s\n",
      "[CV 1/5] END criterion=friedman_mse, max_depth=1, min_samples_leaf=5, min_samples_split=5, n_estimators=100;, score=-17920894921381.730 total time=   0.1s\n"
     ]
    },
    {
     "name": "stderr",
     "output_type": "stream",
     "text": [
      "C:\\Users\\jb5983on\\AppData\\Local\\anaconda3\\envs\\polars\\Lib\\site-packages\\sklearn\\base.py:1473: DataConversionWarning: A column-vector y was passed when a 1d array was expected. Please change the shape of y to (n_samples,), for example using ravel().\n",
      "  return fit_method(estimator, *args, **kwargs)\n",
      "C:\\Users\\jb5983on\\AppData\\Local\\anaconda3\\envs\\polars\\Lib\\site-packages\\sklearn\\base.py:1473: DataConversionWarning: A column-vector y was passed when a 1d array was expected. Please change the shape of y to (n_samples,), for example using ravel().\n",
      "  return fit_method(estimator, *args, **kwargs)\n"
     ]
    },
    {
     "name": "stdout",
     "output_type": "stream",
     "text": [
      "[CV 2/5] END criterion=friedman_mse, max_depth=1, min_samples_leaf=5, min_samples_split=5, n_estimators=100;, score=-21427051075456.184 total time=   0.1s\n",
      "[CV 3/5] END criterion=friedman_mse, max_depth=1, min_samples_leaf=5, min_samples_split=5, n_estimators=100;, score=-19707185642766.086 total time=   0.1s\n"
     ]
    },
    {
     "name": "stderr",
     "output_type": "stream",
     "text": [
      "C:\\Users\\jb5983on\\AppData\\Local\\anaconda3\\envs\\polars\\Lib\\site-packages\\sklearn\\base.py:1473: DataConversionWarning: A column-vector y was passed when a 1d array was expected. Please change the shape of y to (n_samples,), for example using ravel().\n",
      "  return fit_method(estimator, *args, **kwargs)\n",
      "C:\\Users\\jb5983on\\AppData\\Local\\anaconda3\\envs\\polars\\Lib\\site-packages\\sklearn\\base.py:1473: DataConversionWarning: A column-vector y was passed when a 1d array was expected. Please change the shape of y to (n_samples,), for example using ravel().\n",
      "  return fit_method(estimator, *args, **kwargs)\n"
     ]
    },
    {
     "name": "stdout",
     "output_type": "stream",
     "text": [
      "[CV 4/5] END criterion=friedman_mse, max_depth=1, min_samples_leaf=5, min_samples_split=5, n_estimators=100;, score=-19994250997641.617 total time=   0.1s\n",
      "[CV 5/5] END criterion=friedman_mse, max_depth=1, min_samples_leaf=5, min_samples_split=5, n_estimators=100;, score=-21160211758855.793 total time=   0.1s\n"
     ]
    },
    {
     "name": "stderr",
     "output_type": "stream",
     "text": [
      "C:\\Users\\jb5983on\\AppData\\Local\\anaconda3\\envs\\polars\\Lib\\site-packages\\sklearn\\base.py:1473: DataConversionWarning: A column-vector y was passed when a 1d array was expected. Please change the shape of y to (n_samples,), for example using ravel().\n",
      "  return fit_method(estimator, *args, **kwargs)\n",
      "C:\\Users\\jb5983on\\AppData\\Local\\anaconda3\\envs\\polars\\Lib\\site-packages\\sklearn\\base.py:1473: DataConversionWarning: A column-vector y was passed when a 1d array was expected. Please change the shape of y to (n_samples,), for example using ravel().\n",
      "  return fit_method(estimator, *args, **kwargs)\n"
     ]
    },
    {
     "name": "stdout",
     "output_type": "stream",
     "text": [
      "[CV 1/5] END criterion=friedman_mse, max_depth=1, min_samples_leaf=5, min_samples_split=10, n_estimators=10;, score=-17907986270447.559 total time=   0.0s\n",
      "[CV 2/5] END criterion=friedman_mse, max_depth=1, min_samples_leaf=5, min_samples_split=10, n_estimators=10;, score=-21469949790750.176 total time=   0.0s\n",
      "[CV 3/5] END criterion=friedman_mse, max_depth=1, min_samples_leaf=5, min_samples_split=10, n_estimators=10;, score=-19690188847026.059 total time=   0.0s\n",
      "[CV 4/5] END criterion=friedman_mse, max_depth=1, min_samples_leaf=5, min_samples_split=10, n_estimators=10;, score=-20012196219389.332 total time=   0.0s\n",
      "[CV 5/5] END criterion=friedman_mse, max_depth=1, min_samples_leaf=5, min_samples_split=10, n_estimators=10;, score=-21151302026704.367 total time=   0.0s\n"
     ]
    },
    {
     "name": "stderr",
     "output_type": "stream",
     "text": [
      "C:\\Users\\jb5983on\\AppData\\Local\\anaconda3\\envs\\polars\\Lib\\site-packages\\sklearn\\base.py:1473: DataConversionWarning: A column-vector y was passed when a 1d array was expected. Please change the shape of y to (n_samples,), for example using ravel().\n",
      "  return fit_method(estimator, *args, **kwargs)\n",
      "C:\\Users\\jb5983on\\AppData\\Local\\anaconda3\\envs\\polars\\Lib\\site-packages\\sklearn\\base.py:1473: DataConversionWarning: A column-vector y was passed when a 1d array was expected. Please change the shape of y to (n_samples,), for example using ravel().\n",
      "  return fit_method(estimator, *args, **kwargs)\n",
      "C:\\Users\\jb5983on\\AppData\\Local\\anaconda3\\envs\\polars\\Lib\\site-packages\\sklearn\\base.py:1473: DataConversionWarning: A column-vector y was passed when a 1d array was expected. Please change the shape of y to (n_samples,), for example using ravel().\n",
      "  return fit_method(estimator, *args, **kwargs)\n",
      "C:\\Users\\jb5983on\\AppData\\Local\\anaconda3\\envs\\polars\\Lib\\site-packages\\sklearn\\base.py:1473: DataConversionWarning: A column-vector y was passed when a 1d array was expected. Please change the shape of y to (n_samples,), for example using ravel().\n",
      "  return fit_method(estimator, *args, **kwargs)\n",
      "C:\\Users\\jb5983on\\AppData\\Local\\anaconda3\\envs\\polars\\Lib\\site-packages\\sklearn\\base.py:1473: DataConversionWarning: A column-vector y was passed when a 1d array was expected. Please change the shape of y to (n_samples,), for example using ravel().\n",
      "  return fit_method(estimator, *args, **kwargs)\n"
     ]
    },
    {
     "name": "stdout",
     "output_type": "stream",
     "text": [
      "[CV 1/5] END criterion=friedman_mse, max_depth=1, min_samples_leaf=5, min_samples_split=10, n_estimators=100;, score=-17908554501845.629 total time=   0.1s\n",
      "[CV 2/5] END criterion=friedman_mse, max_depth=1, min_samples_leaf=5, min_samples_split=10, n_estimators=100;, score=-21431739812093.984 total time=   0.1s\n"
     ]
    },
    {
     "name": "stderr",
     "output_type": "stream",
     "text": [
      "C:\\Users\\jb5983on\\AppData\\Local\\anaconda3\\envs\\polars\\Lib\\site-packages\\sklearn\\base.py:1473: DataConversionWarning: A column-vector y was passed when a 1d array was expected. Please change the shape of y to (n_samples,), for example using ravel().\n",
      "  return fit_method(estimator, *args, **kwargs)\n",
      "C:\\Users\\jb5983on\\AppData\\Local\\anaconda3\\envs\\polars\\Lib\\site-packages\\sklearn\\base.py:1473: DataConversionWarning: A column-vector y was passed when a 1d array was expected. Please change the shape of y to (n_samples,), for example using ravel().\n",
      "  return fit_method(estimator, *args, **kwargs)\n",
      "C:\\Users\\jb5983on\\AppData\\Local\\anaconda3\\envs\\polars\\Lib\\site-packages\\sklearn\\base.py:1473: DataConversionWarning: A column-vector y was passed when a 1d array was expected. Please change the shape of y to (n_samples,), for example using ravel().\n",
      "  return fit_method(estimator, *args, **kwargs)\n"
     ]
    },
    {
     "name": "stdout",
     "output_type": "stream",
     "text": [
      "[CV 3/5] END criterion=friedman_mse, max_depth=1, min_samples_leaf=5, min_samples_split=10, n_estimators=100;, score=-19697076171733.688 total time=   0.1s\n",
      "[CV 4/5] END criterion=friedman_mse, max_depth=1, min_samples_leaf=5, min_samples_split=10, n_estimators=100;, score=-19994433421858.641 total time=   0.1s\n"
     ]
    },
    {
     "name": "stderr",
     "output_type": "stream",
     "text": [
      "C:\\Users\\jb5983on\\AppData\\Local\\anaconda3\\envs\\polars\\Lib\\site-packages\\sklearn\\base.py:1473: DataConversionWarning: A column-vector y was passed when a 1d array was expected. Please change the shape of y to (n_samples,), for example using ravel().\n",
      "  return fit_method(estimator, *args, **kwargs)\n"
     ]
    },
    {
     "name": "stdout",
     "output_type": "stream",
     "text": [
      "[CV 5/5] END criterion=friedman_mse, max_depth=1, min_samples_leaf=5, min_samples_split=10, n_estimators=100;, score=-21160414234545.941 total time=   0.1s\n",
      "[CV 1/5] END criterion=friedman_mse, max_depth=1, min_samples_leaf=10, min_samples_split=1, n_estimators=10;, score=nan total time=   0.0s\n",
      "[CV 2/5] END criterion=friedman_mse, max_depth=1, min_samples_leaf=10, min_samples_split=1, n_estimators=10;, score=nan total time=   0.0s\n",
      "[CV 3/5] END criterion=friedman_mse, max_depth=1, min_samples_leaf=10, min_samples_split=1, n_estimators=10;, score=nan total time=   0.0s\n",
      "[CV 4/5] END criterion=friedman_mse, max_depth=1, min_samples_leaf=10, min_samples_split=1, n_estimators=10;, score=nan total time=   0.0s\n",
      "[CV 5/5] END criterion=friedman_mse, max_depth=1, min_samples_leaf=10, min_samples_split=1, n_estimators=10;, score=nan total time=   0.0s\n",
      "[CV 1/5] END criterion=friedman_mse, max_depth=1, min_samples_leaf=10, min_samples_split=1, n_estimators=100;, score=nan total time=   0.0s\n",
      "[CV 2/5] END criterion=friedman_mse, max_depth=1, min_samples_leaf=10, min_samples_split=1, n_estimators=100;, score=nan total time=   0.0s\n",
      "[CV 3/5] END criterion=friedman_mse, max_depth=1, min_samples_leaf=10, min_samples_split=1, n_estimators=100;, score=nan total time=   0.0s\n",
      "[CV 4/5] END criterion=friedman_mse, max_depth=1, min_samples_leaf=10, min_samples_split=1, n_estimators=100;, score=nan total time=   0.0s\n",
      "[CV 5/5] END criterion=friedman_mse, max_depth=1, min_samples_leaf=10, min_samples_split=1, n_estimators=100;, score=nan total time=   0.0s\n",
      "[CV 1/5] END criterion=friedman_mse, max_depth=1, min_samples_leaf=10, min_samples_split=5, n_estimators=10;, score=-17886091750411.445 total time=   0.0s\n",
      "[CV 2/5] END criterion=friedman_mse, max_depth=1, min_samples_leaf=10, min_samples_split=5, n_estimators=10;, score=-21500495589839.285 total time=   0.0s\n",
      "[CV 3/5] END criterion=friedman_mse, max_depth=1, min_samples_leaf=10, min_samples_split=5, n_estimators=10;, score=-19811111032729.914 total time=   0.0s\n",
      "[CV 4/5] END criterion=friedman_mse, max_depth=1, min_samples_leaf=10, min_samples_split=5, n_estimators=10;, score=-19965857592365.078 total time=   0.0s\n"
     ]
    },
    {
     "name": "stderr",
     "output_type": "stream",
     "text": [
      "C:\\Users\\jb5983on\\AppData\\Local\\anaconda3\\envs\\polars\\Lib\\site-packages\\sklearn\\base.py:1473: DataConversionWarning: A column-vector y was passed when a 1d array was expected. Please change the shape of y to (n_samples,), for example using ravel().\n",
      "  return fit_method(estimator, *args, **kwargs)\n",
      "C:\\Users\\jb5983on\\AppData\\Local\\anaconda3\\envs\\polars\\Lib\\site-packages\\sklearn\\base.py:1473: DataConversionWarning: A column-vector y was passed when a 1d array was expected. Please change the shape of y to (n_samples,), for example using ravel().\n",
      "  return fit_method(estimator, *args, **kwargs)\n",
      "C:\\Users\\jb5983on\\AppData\\Local\\anaconda3\\envs\\polars\\Lib\\site-packages\\sklearn\\base.py:1473: DataConversionWarning: A column-vector y was passed when a 1d array was expected. Please change the shape of y to (n_samples,), for example using ravel().\n",
      "  return fit_method(estimator, *args, **kwargs)\n",
      "C:\\Users\\jb5983on\\AppData\\Local\\anaconda3\\envs\\polars\\Lib\\site-packages\\sklearn\\base.py:1473: DataConversionWarning: A column-vector y was passed when a 1d array was expected. Please change the shape of y to (n_samples,), for example using ravel().\n",
      "  return fit_method(estimator, *args, **kwargs)\n",
      "C:\\Users\\jb5983on\\AppData\\Local\\anaconda3\\envs\\polars\\Lib\\site-packages\\sklearn\\base.py:1473: DataConversionWarning: A column-vector y was passed when a 1d array was expected. Please change the shape of y to (n_samples,), for example using ravel().\n",
      "  return fit_method(estimator, *args, **kwargs)\n",
      "C:\\Users\\jb5983on\\AppData\\Local\\anaconda3\\envs\\polars\\Lib\\site-packages\\sklearn\\base.py:1473: DataConversionWarning: A column-vector y was passed when a 1d array was expected. Please change the shape of y to (n_samples,), for example using ravel().\n",
      "  return fit_method(estimator, *args, **kwargs)\n"
     ]
    },
    {
     "name": "stdout",
     "output_type": "stream",
     "text": [
      "[CV 5/5] END criterion=friedman_mse, max_depth=1, min_samples_leaf=10, min_samples_split=5, n_estimators=10;, score=-21168913959280.891 total time=   0.0s\n",
      "[CV 1/5] END criterion=friedman_mse, max_depth=1, min_samples_leaf=10, min_samples_split=5, n_estimators=100;, score=-17913537988504.082 total time=   0.1s\n"
     ]
    },
    {
     "name": "stderr",
     "output_type": "stream",
     "text": [
      "C:\\Users\\jb5983on\\AppData\\Local\\anaconda3\\envs\\polars\\Lib\\site-packages\\sklearn\\base.py:1473: DataConversionWarning: A column-vector y was passed when a 1d array was expected. Please change the shape of y to (n_samples,), for example using ravel().\n",
      "  return fit_method(estimator, *args, **kwargs)\n",
      "C:\\Users\\jb5983on\\AppData\\Local\\anaconda3\\envs\\polars\\Lib\\site-packages\\sklearn\\base.py:1473: DataConversionWarning: A column-vector y was passed when a 1d array was expected. Please change the shape of y to (n_samples,), for example using ravel().\n",
      "  return fit_method(estimator, *args, **kwargs)\n"
     ]
    },
    {
     "name": "stdout",
     "output_type": "stream",
     "text": [
      "[CV 2/5] END criterion=friedman_mse, max_depth=1, min_samples_leaf=10, min_samples_split=5, n_estimators=100;, score=-21427668736007.793 total time=   0.0s\n",
      "[CV 3/5] END criterion=friedman_mse, max_depth=1, min_samples_leaf=10, min_samples_split=5, n_estimators=100;, score=-19731107595781.180 total time=   0.0s\n"
     ]
    },
    {
     "name": "stderr",
     "output_type": "stream",
     "text": [
      "C:\\Users\\jb5983on\\AppData\\Local\\anaconda3\\envs\\polars\\Lib\\site-packages\\sklearn\\base.py:1473: DataConversionWarning: A column-vector y was passed when a 1d array was expected. Please change the shape of y to (n_samples,), for example using ravel().\n",
      "  return fit_method(estimator, *args, **kwargs)\n",
      "C:\\Users\\jb5983on\\AppData\\Local\\anaconda3\\envs\\polars\\Lib\\site-packages\\sklearn\\base.py:1473: DataConversionWarning: A column-vector y was passed when a 1d array was expected. Please change the shape of y to (n_samples,), for example using ravel().\n",
      "  return fit_method(estimator, *args, **kwargs)\n"
     ]
    },
    {
     "name": "stdout",
     "output_type": "stream",
     "text": [
      "[CV 4/5] END criterion=friedman_mse, max_depth=1, min_samples_leaf=10, min_samples_split=5, n_estimators=100;, score=-19986732428687.457 total time=   0.1s\n",
      "[CV 5/5] END criterion=friedman_mse, max_depth=1, min_samples_leaf=10, min_samples_split=5, n_estimators=100;, score=-21148133416984.336 total time=   0.0s\n",
      "[CV 1/5] END criterion=friedman_mse, max_depth=1, min_samples_leaf=10, min_samples_split=10, n_estimators=10;, score=-17914427787290.461 total time=   0.0s\n",
      "[CV 2/5] END criterion=friedman_mse, max_depth=1, min_samples_leaf=10, min_samples_split=10, n_estimators=10;, score=-21516790115540.871 total time=   0.0s\n"
     ]
    },
    {
     "name": "stderr",
     "output_type": "stream",
     "text": [
      "C:\\Users\\jb5983on\\AppData\\Local\\anaconda3\\envs\\polars\\Lib\\site-packages\\sklearn\\base.py:1473: DataConversionWarning: A column-vector y was passed when a 1d array was expected. Please change the shape of y to (n_samples,), for example using ravel().\n",
      "  return fit_method(estimator, *args, **kwargs)\n",
      "C:\\Users\\jb5983on\\AppData\\Local\\anaconda3\\envs\\polars\\Lib\\site-packages\\sklearn\\base.py:1473: DataConversionWarning: A column-vector y was passed when a 1d array was expected. Please change the shape of y to (n_samples,), for example using ravel().\n",
      "  return fit_method(estimator, *args, **kwargs)\n",
      "C:\\Users\\jb5983on\\AppData\\Local\\anaconda3\\envs\\polars\\Lib\\site-packages\\sklearn\\base.py:1473: DataConversionWarning: A column-vector y was passed when a 1d array was expected. Please change the shape of y to (n_samples,), for example using ravel().\n",
      "  return fit_method(estimator, *args, **kwargs)\n",
      "C:\\Users\\jb5983on\\AppData\\Local\\anaconda3\\envs\\polars\\Lib\\site-packages\\sklearn\\base.py:1473: DataConversionWarning: A column-vector y was passed when a 1d array was expected. Please change the shape of y to (n_samples,), for example using ravel().\n",
      "  return fit_method(estimator, *args, **kwargs)\n",
      "C:\\Users\\jb5983on\\AppData\\Local\\anaconda3\\envs\\polars\\Lib\\site-packages\\sklearn\\base.py:1473: DataConversionWarning: A column-vector y was passed when a 1d array was expected. Please change the shape of y to (n_samples,), for example using ravel().\n",
      "  return fit_method(estimator, *args, **kwargs)\n",
      "C:\\Users\\jb5983on\\AppData\\Local\\anaconda3\\envs\\polars\\Lib\\site-packages\\sklearn\\base.py:1473: DataConversionWarning: A column-vector y was passed when a 1d array was expected. Please change the shape of y to (n_samples,), for example using ravel().\n",
      "  return fit_method(estimator, *args, **kwargs)\n"
     ]
    },
    {
     "name": "stdout",
     "output_type": "stream",
     "text": [
      "[CV 3/5] END criterion=friedman_mse, max_depth=1, min_samples_leaf=10, min_samples_split=10, n_estimators=10;, score=-19652259730970.371 total time=   0.0s\n",
      "[CV 4/5] END criterion=friedman_mse, max_depth=1, min_samples_leaf=10, min_samples_split=10, n_estimators=10;, score=-20001366512620.898 total time=   0.0s\n",
      "[CV 5/5] END criterion=friedman_mse, max_depth=1, min_samples_leaf=10, min_samples_split=10, n_estimators=10;, score=-21160500397227.520 total time=   0.0s\n",
      "[CV 1/5] END criterion=friedman_mse, max_depth=1, min_samples_leaf=10, min_samples_split=10, n_estimators=100;, score=-17929021601624.363 total time=   0.1s\n",
      "[CV 2/5] END criterion=friedman_mse, max_depth=1, min_samples_leaf=10, min_samples_split=10, n_estimators=100;, score=-21432756152154.625 total time=   0.1s\n"
     ]
    },
    {
     "name": "stderr",
     "output_type": "stream",
     "text": [
      "C:\\Users\\jb5983on\\AppData\\Local\\anaconda3\\envs\\polars\\Lib\\site-packages\\sklearn\\base.py:1473: DataConversionWarning: A column-vector y was passed when a 1d array was expected. Please change the shape of y to (n_samples,), for example using ravel().\n",
      "  return fit_method(estimator, *args, **kwargs)\n",
      "C:\\Users\\jb5983on\\AppData\\Local\\anaconda3\\envs\\polars\\Lib\\site-packages\\sklearn\\base.py:1473: DataConversionWarning: A column-vector y was passed when a 1d array was expected. Please change the shape of y to (n_samples,), for example using ravel().\n",
      "  return fit_method(estimator, *args, **kwargs)\n"
     ]
    },
    {
     "name": "stdout",
     "output_type": "stream",
     "text": [
      "[CV 3/5] END criterion=friedman_mse, max_depth=1, min_samples_leaf=10, min_samples_split=10, n_estimators=100;, score=-19713711718953.004 total time=   0.1s\n",
      "[CV 4/5] END criterion=friedman_mse, max_depth=1, min_samples_leaf=10, min_samples_split=10, n_estimators=100;, score=-19987302565136.977 total time=   0.1s\n"
     ]
    },
    {
     "name": "stderr",
     "output_type": "stream",
     "text": [
      "C:\\Users\\jb5983on\\AppData\\Local\\anaconda3\\envs\\polars\\Lib\\site-packages\\sklearn\\base.py:1473: DataConversionWarning: A column-vector y was passed when a 1d array was expected. Please change the shape of y to (n_samples,), for example using ravel().\n",
      "  return fit_method(estimator, *args, **kwargs)\n",
      "C:\\Users\\jb5983on\\AppData\\Local\\anaconda3\\envs\\polars\\Lib\\site-packages\\sklearn\\base.py:1473: DataConversionWarning: A column-vector y was passed when a 1d array was expected. Please change the shape of y to (n_samples,), for example using ravel().\n",
      "  return fit_method(estimator, *args, **kwargs)\n"
     ]
    },
    {
     "name": "stdout",
     "output_type": "stream",
     "text": [
      "[CV 5/5] END criterion=friedman_mse, max_depth=1, min_samples_leaf=10, min_samples_split=10, n_estimators=100;, score=-21152374363105.516 total time=   0.1s\n",
      "[CV 1/5] END criterion=friedman_mse, max_depth=2, min_samples_leaf=1, min_samples_split=1, n_estimators=10;, score=nan total time=   0.0s\n",
      "[CV 2/5] END criterion=friedman_mse, max_depth=2, min_samples_leaf=1, min_samples_split=1, n_estimators=10;, score=nan total time=   0.0s\n",
      "[CV 3/5] END criterion=friedman_mse, max_depth=2, min_samples_leaf=1, min_samples_split=1, n_estimators=10;, score=nan total time=   0.0s\n",
      "[CV 4/5] END criterion=friedman_mse, max_depth=2, min_samples_leaf=1, min_samples_split=1, n_estimators=10;, score=nan total time=   0.0s\n",
      "[CV 5/5] END criterion=friedman_mse, max_depth=2, min_samples_leaf=1, min_samples_split=1, n_estimators=10;, score=nan total time=   0.0s\n",
      "[CV 1/5] END criterion=friedman_mse, max_depth=2, min_samples_leaf=1, min_samples_split=1, n_estimators=100;, score=nan total time=   0.0s\n",
      "[CV 2/5] END criterion=friedman_mse, max_depth=2, min_samples_leaf=1, min_samples_split=1, n_estimators=100;, score=nan total time=   0.0s\n",
      "[CV 3/5] END criterion=friedman_mse, max_depth=2, min_samples_leaf=1, min_samples_split=1, n_estimators=100;, score=nan total time=   0.0s\n",
      "[CV 4/5] END criterion=friedman_mse, max_depth=2, min_samples_leaf=1, min_samples_split=1, n_estimators=100;, score=nan total time=   0.0s\n",
      "[CV 5/5] END criterion=friedman_mse, max_depth=2, min_samples_leaf=1, min_samples_split=1, n_estimators=100;, score=nan total time=   0.0s\n",
      "[CV 1/5] END criterion=friedman_mse, max_depth=2, min_samples_leaf=1, min_samples_split=5, n_estimators=10;, score=-17659158455875.426 total time=   0.0s\n",
      "[CV 2/5] END criterion=friedman_mse, max_depth=2, min_samples_leaf=1, min_samples_split=5, n_estimators=10;, score=-21013368166573.180 total time=   0.0s\n",
      "[CV 3/5] END criterion=friedman_mse, max_depth=2, min_samples_leaf=1, min_samples_split=5, n_estimators=10;, score=-19538607040226.430 total time=   0.0s\n"
     ]
    },
    {
     "name": "stderr",
     "output_type": "stream",
     "text": [
      "C:\\Users\\jb5983on\\AppData\\Local\\anaconda3\\envs\\polars\\Lib\\site-packages\\sklearn\\base.py:1473: DataConversionWarning: A column-vector y was passed when a 1d array was expected. Please change the shape of y to (n_samples,), for example using ravel().\n",
      "  return fit_method(estimator, *args, **kwargs)\n",
      "C:\\Users\\jb5983on\\AppData\\Local\\anaconda3\\envs\\polars\\Lib\\site-packages\\sklearn\\base.py:1473: DataConversionWarning: A column-vector y was passed when a 1d array was expected. Please change the shape of y to (n_samples,), for example using ravel().\n",
      "  return fit_method(estimator, *args, **kwargs)\n",
      "C:\\Users\\jb5983on\\AppData\\Local\\anaconda3\\envs\\polars\\Lib\\site-packages\\sklearn\\base.py:1473: DataConversionWarning: A column-vector y was passed when a 1d array was expected. Please change the shape of y to (n_samples,), for example using ravel().\n",
      "  return fit_method(estimator, *args, **kwargs)\n",
      "C:\\Users\\jb5983on\\AppData\\Local\\anaconda3\\envs\\polars\\Lib\\site-packages\\sklearn\\base.py:1473: DataConversionWarning: A column-vector y was passed when a 1d array was expected. Please change the shape of y to (n_samples,), for example using ravel().\n",
      "  return fit_method(estimator, *args, **kwargs)\n",
      "C:\\Users\\jb5983on\\AppData\\Local\\anaconda3\\envs\\polars\\Lib\\site-packages\\sklearn\\base.py:1473: DataConversionWarning: A column-vector y was passed when a 1d array was expected. Please change the shape of y to (n_samples,), for example using ravel().\n",
      "  return fit_method(estimator, *args, **kwargs)\n"
     ]
    },
    {
     "name": "stdout",
     "output_type": "stream",
     "text": [
      "[CV 4/5] END criterion=friedman_mse, max_depth=2, min_samples_leaf=1, min_samples_split=5, n_estimators=10;, score=-19582882267122.852 total time=   0.0s\n",
      "[CV 5/5] END criterion=friedman_mse, max_depth=2, min_samples_leaf=1, min_samples_split=5, n_estimators=10;, score=-20912361885635.770 total time=   0.0s\n"
     ]
    },
    {
     "name": "stderr",
     "output_type": "stream",
     "text": [
      "C:\\Users\\jb5983on\\AppData\\Local\\anaconda3\\envs\\polars\\Lib\\site-packages\\sklearn\\base.py:1473: DataConversionWarning: A column-vector y was passed when a 1d array was expected. Please change the shape of y to (n_samples,), for example using ravel().\n",
      "  return fit_method(estimator, *args, **kwargs)\n"
     ]
    },
    {
     "name": "stdout",
     "output_type": "stream",
     "text": [
      "[CV 1/5] END criterion=friedman_mse, max_depth=2, min_samples_leaf=1, min_samples_split=5, n_estimators=100;, score=-17693409086128.055 total time=   0.1s\n",
      "[CV 2/5] END criterion=friedman_mse, max_depth=2, min_samples_leaf=1, min_samples_split=5, n_estimators=100;, score=-21010878078034.539 total time=   0.1s\n"
     ]
    },
    {
     "name": "stderr",
     "output_type": "stream",
     "text": [
      "C:\\Users\\jb5983on\\AppData\\Local\\anaconda3\\envs\\polars\\Lib\\site-packages\\sklearn\\base.py:1473: DataConversionWarning: A column-vector y was passed when a 1d array was expected. Please change the shape of y to (n_samples,), for example using ravel().\n",
      "  return fit_method(estimator, *args, **kwargs)\n",
      "C:\\Users\\jb5983on\\AppData\\Local\\anaconda3\\envs\\polars\\Lib\\site-packages\\sklearn\\base.py:1473: DataConversionWarning: A column-vector y was passed when a 1d array was expected. Please change the shape of y to (n_samples,), for example using ravel().\n",
      "  return fit_method(estimator, *args, **kwargs)\n",
      "C:\\Users\\jb5983on\\AppData\\Local\\anaconda3\\envs\\polars\\Lib\\site-packages\\sklearn\\base.py:1473: DataConversionWarning: A column-vector y was passed when a 1d array was expected. Please change the shape of y to (n_samples,), for example using ravel().\n",
      "  return fit_method(estimator, *args, **kwargs)\n"
     ]
    },
    {
     "name": "stdout",
     "output_type": "stream",
     "text": [
      "[CV 3/5] END criterion=friedman_mse, max_depth=2, min_samples_leaf=1, min_samples_split=5, n_estimators=100;, score=-19539449880729.117 total time=   0.1s\n",
      "[CV 4/5] END criterion=friedman_mse, max_depth=2, min_samples_leaf=1, min_samples_split=5, n_estimators=100;, score=-19639571352796.438 total time=   0.1s\n"
     ]
    },
    {
     "name": "stderr",
     "output_type": "stream",
     "text": [
      "C:\\Users\\jb5983on\\AppData\\Local\\anaconda3\\envs\\polars\\Lib\\site-packages\\sklearn\\base.py:1473: DataConversionWarning: A column-vector y was passed when a 1d array was expected. Please change the shape of y to (n_samples,), for example using ravel().\n",
      "  return fit_method(estimator, *args, **kwargs)\n"
     ]
    },
    {
     "name": "stdout",
     "output_type": "stream",
     "text": [
      "[CV 5/5] END criterion=friedman_mse, max_depth=2, min_samples_leaf=1, min_samples_split=5, n_estimators=100;, score=-20923990571577.777 total time=   0.1s\n",
      "[CV 1/5] END criterion=friedman_mse, max_depth=2, min_samples_leaf=1, min_samples_split=10, n_estimators=10;, score=-17659191474495.977 total time=   0.0s\n",
      "[CV 2/5] END criterion=friedman_mse, max_depth=2, min_samples_leaf=1, min_samples_split=10, n_estimators=10;, score=-20978912805275.879 total time=   0.0s\n",
      "[CV 3/5] END criterion=friedman_mse, max_depth=2, min_samples_leaf=1, min_samples_split=10, n_estimators=10;, score=-19568594939973.938 total time=   0.0s\n",
      "[CV 4/5] END criterion=friedman_mse, max_depth=2, min_samples_leaf=1, min_samples_split=10, n_estimators=10;, score=-19655221761450.781 total time=   0.0s\n",
      "[CV 5/5] END criterion=friedman_mse, max_depth=2, min_samples_leaf=1, min_samples_split=10, n_estimators=10;, score=-20873533409514.598 total time=   0.0s\n"
     ]
    },
    {
     "name": "stderr",
     "output_type": "stream",
     "text": [
      "C:\\Users\\jb5983on\\AppData\\Local\\anaconda3\\envs\\polars\\Lib\\site-packages\\sklearn\\base.py:1473: DataConversionWarning: A column-vector y was passed when a 1d array was expected. Please change the shape of y to (n_samples,), for example using ravel().\n",
      "  return fit_method(estimator, *args, **kwargs)\n",
      "C:\\Users\\jb5983on\\AppData\\Local\\anaconda3\\envs\\polars\\Lib\\site-packages\\sklearn\\base.py:1473: DataConversionWarning: A column-vector y was passed when a 1d array was expected. Please change the shape of y to (n_samples,), for example using ravel().\n",
      "  return fit_method(estimator, *args, **kwargs)\n",
      "C:\\Users\\jb5983on\\AppData\\Local\\anaconda3\\envs\\polars\\Lib\\site-packages\\sklearn\\base.py:1473: DataConversionWarning: A column-vector y was passed when a 1d array was expected. Please change the shape of y to (n_samples,), for example using ravel().\n",
      "  return fit_method(estimator, *args, **kwargs)\n",
      "C:\\Users\\jb5983on\\AppData\\Local\\anaconda3\\envs\\polars\\Lib\\site-packages\\sklearn\\base.py:1473: DataConversionWarning: A column-vector y was passed when a 1d array was expected. Please change the shape of y to (n_samples,), for example using ravel().\n",
      "  return fit_method(estimator, *args, **kwargs)\n",
      "C:\\Users\\jb5983on\\AppData\\Local\\anaconda3\\envs\\polars\\Lib\\site-packages\\sklearn\\base.py:1473: DataConversionWarning: A column-vector y was passed when a 1d array was expected. Please change the shape of y to (n_samples,), for example using ravel().\n",
      "  return fit_method(estimator, *args, **kwargs)\n",
      "C:\\Users\\jb5983on\\AppData\\Local\\anaconda3\\envs\\polars\\Lib\\site-packages\\sklearn\\base.py:1473: DataConversionWarning: A column-vector y was passed when a 1d array was expected. Please change the shape of y to (n_samples,), for example using ravel().\n",
      "  return fit_method(estimator, *args, **kwargs)\n"
     ]
    },
    {
     "name": "stdout",
     "output_type": "stream",
     "text": [
      "[CV 1/5] END criterion=friedman_mse, max_depth=2, min_samples_leaf=1, min_samples_split=10, n_estimators=100;, score=-17685220515739.781 total time=   0.1s\n",
      "[CV 2/5] END criterion=friedman_mse, max_depth=2, min_samples_leaf=1, min_samples_split=10, n_estimators=100;, score=-20998533030852.566 total time=   0.1s\n"
     ]
    },
    {
     "name": "stderr",
     "output_type": "stream",
     "text": [
      "C:\\Users\\jb5983on\\AppData\\Local\\anaconda3\\envs\\polars\\Lib\\site-packages\\sklearn\\base.py:1473: DataConversionWarning: A column-vector y was passed when a 1d array was expected. Please change the shape of y to (n_samples,), for example using ravel().\n",
      "  return fit_method(estimator, *args, **kwargs)\n",
      "C:\\Users\\jb5983on\\AppData\\Local\\anaconda3\\envs\\polars\\Lib\\site-packages\\sklearn\\base.py:1473: DataConversionWarning: A column-vector y was passed when a 1d array was expected. Please change the shape of y to (n_samples,), for example using ravel().\n",
      "  return fit_method(estimator, *args, **kwargs)\n"
     ]
    },
    {
     "name": "stdout",
     "output_type": "stream",
     "text": [
      "[CV 3/5] END criterion=friedman_mse, max_depth=2, min_samples_leaf=1, min_samples_split=10, n_estimators=100;, score=-19534448131927.754 total time=   0.1s\n",
      "[CV 4/5] END criterion=friedman_mse, max_depth=2, min_samples_leaf=1, min_samples_split=10, n_estimators=100;, score=-19608806716235.137 total time=   0.1s\n"
     ]
    },
    {
     "name": "stderr",
     "output_type": "stream",
     "text": [
      "C:\\Users\\jb5983on\\AppData\\Local\\anaconda3\\envs\\polars\\Lib\\site-packages\\sklearn\\base.py:1473: DataConversionWarning: A column-vector y was passed when a 1d array was expected. Please change the shape of y to (n_samples,), for example using ravel().\n",
      "  return fit_method(estimator, *args, **kwargs)\n",
      "C:\\Users\\jb5983on\\AppData\\Local\\anaconda3\\envs\\polars\\Lib\\site-packages\\sklearn\\base.py:1473: DataConversionWarning: A column-vector y was passed when a 1d array was expected. Please change the shape of y to (n_samples,), for example using ravel().\n",
      "  return fit_method(estimator, *args, **kwargs)\n"
     ]
    },
    {
     "name": "stdout",
     "output_type": "stream",
     "text": [
      "[CV 5/5] END criterion=friedman_mse, max_depth=2, min_samples_leaf=1, min_samples_split=10, n_estimators=100;, score=-20928767606957.051 total time=   0.1s\n",
      "[CV 1/5] END criterion=friedman_mse, max_depth=2, min_samples_leaf=5, min_samples_split=1, n_estimators=10;, score=nan total time=   0.0s\n",
      "[CV 2/5] END criterion=friedman_mse, max_depth=2, min_samples_leaf=5, min_samples_split=1, n_estimators=10;, score=nan total time=   0.0s\n",
      "[CV 3/5] END criterion=friedman_mse, max_depth=2, min_samples_leaf=5, min_samples_split=1, n_estimators=10;, score=nan total time=   0.0s\n",
      "[CV 4/5] END criterion=friedman_mse, max_depth=2, min_samples_leaf=5, min_samples_split=1, n_estimators=10;, score=nan total time=   0.0s\n",
      "[CV 5/5] END criterion=friedman_mse, max_depth=2, min_samples_leaf=5, min_samples_split=1, n_estimators=10;, score=nan total time=   0.0s\n",
      "[CV 1/5] END criterion=friedman_mse, max_depth=2, min_samples_leaf=5, min_samples_split=1, n_estimators=100;, score=nan total time=   0.0s\n",
      "[CV 2/5] END criterion=friedman_mse, max_depth=2, min_samples_leaf=5, min_samples_split=1, n_estimators=100;, score=nan total time=   0.0s\n",
      "[CV 3/5] END criterion=friedman_mse, max_depth=2, min_samples_leaf=5, min_samples_split=1, n_estimators=100;, score=nan total time=   0.0s\n",
      "[CV 4/5] END criterion=friedman_mse, max_depth=2, min_samples_leaf=5, min_samples_split=1, n_estimators=100;, score=nan total time=   0.0s\n",
      "[CV 5/5] END criterion=friedman_mse, max_depth=2, min_samples_leaf=5, min_samples_split=1, n_estimators=100;, score=nan total time=   0.0s\n",
      "[CV 1/5] END criterion=friedman_mse, max_depth=2, min_samples_leaf=5, min_samples_split=5, n_estimators=10;, score=-17676420368276.141 total time=   0.0s\n",
      "[CV 2/5] END criterion=friedman_mse, max_depth=2, min_samples_leaf=5, min_samples_split=5, n_estimators=10;, score=-21039999951508.320 total time=   0.0s\n",
      "[CV 3/5] END criterion=friedman_mse, max_depth=2, min_samples_leaf=5, min_samples_split=5, n_estimators=10;, score=-19548679820291.039 total time=   0.0s\n",
      "[CV 4/5] END criterion=friedman_mse, max_depth=2, min_samples_leaf=5, min_samples_split=5, n_estimators=10;, score=-19665204619908.809 total time=   0.0s\n"
     ]
    },
    {
     "name": "stderr",
     "output_type": "stream",
     "text": [
      "C:\\Users\\jb5983on\\AppData\\Local\\anaconda3\\envs\\polars\\Lib\\site-packages\\sklearn\\base.py:1473: DataConversionWarning: A column-vector y was passed when a 1d array was expected. Please change the shape of y to (n_samples,), for example using ravel().\n",
      "  return fit_method(estimator, *args, **kwargs)\n",
      "C:\\Users\\jb5983on\\AppData\\Local\\anaconda3\\envs\\polars\\Lib\\site-packages\\sklearn\\base.py:1473: DataConversionWarning: A column-vector y was passed when a 1d array was expected. Please change the shape of y to (n_samples,), for example using ravel().\n",
      "  return fit_method(estimator, *args, **kwargs)\n",
      "C:\\Users\\jb5983on\\AppData\\Local\\anaconda3\\envs\\polars\\Lib\\site-packages\\sklearn\\base.py:1473: DataConversionWarning: A column-vector y was passed when a 1d array was expected. Please change the shape of y to (n_samples,), for example using ravel().\n",
      "  return fit_method(estimator, *args, **kwargs)\n",
      "C:\\Users\\jb5983on\\AppData\\Local\\anaconda3\\envs\\polars\\Lib\\site-packages\\sklearn\\base.py:1473: DataConversionWarning: A column-vector y was passed when a 1d array was expected. Please change the shape of y to (n_samples,), for example using ravel().\n",
      "  return fit_method(estimator, *args, **kwargs)\n",
      "C:\\Users\\jb5983on\\AppData\\Local\\anaconda3\\envs\\polars\\Lib\\site-packages\\sklearn\\base.py:1473: DataConversionWarning: A column-vector y was passed when a 1d array was expected. Please change the shape of y to (n_samples,), for example using ravel().\n",
      "  return fit_method(estimator, *args, **kwargs)\n",
      "C:\\Users\\jb5983on\\AppData\\Local\\anaconda3\\envs\\polars\\Lib\\site-packages\\sklearn\\base.py:1473: DataConversionWarning: A column-vector y was passed when a 1d array was expected. Please change the shape of y to (n_samples,), for example using ravel().\n",
      "  return fit_method(estimator, *args, **kwargs)\n"
     ]
    },
    {
     "name": "stdout",
     "output_type": "stream",
     "text": [
      "[CV 5/5] END criterion=friedman_mse, max_depth=2, min_samples_leaf=5, min_samples_split=5, n_estimators=10;, score=-20945679602595.543 total time=   0.0s\n",
      "[CV 1/5] END criterion=friedman_mse, max_depth=2, min_samples_leaf=5, min_samples_split=5, n_estimators=100;, score=-17695494576397.836 total time=   0.1s\n",
      "[CV 2/5] END criterion=friedman_mse, max_depth=2, min_samples_leaf=5, min_samples_split=5, n_estimators=100;, score=-21022566761350.477 total time=   0.1s\n"
     ]
    },
    {
     "name": "stderr",
     "output_type": "stream",
     "text": [
      "C:\\Users\\jb5983on\\AppData\\Local\\anaconda3\\envs\\polars\\Lib\\site-packages\\sklearn\\base.py:1473: DataConversionWarning: A column-vector y was passed when a 1d array was expected. Please change the shape of y to (n_samples,), for example using ravel().\n",
      "  return fit_method(estimator, *args, **kwargs)\n",
      "C:\\Users\\jb5983on\\AppData\\Local\\anaconda3\\envs\\polars\\Lib\\site-packages\\sklearn\\base.py:1473: DataConversionWarning: A column-vector y was passed when a 1d array was expected. Please change the shape of y to (n_samples,), for example using ravel().\n",
      "  return fit_method(estimator, *args, **kwargs)\n"
     ]
    },
    {
     "name": "stdout",
     "output_type": "stream",
     "text": [
      "[CV 3/5] END criterion=friedman_mse, max_depth=2, min_samples_leaf=5, min_samples_split=5, n_estimators=100;, score=-19510465754020.570 total time=   0.1s\n",
      "[CV 4/5] END criterion=friedman_mse, max_depth=2, min_samples_leaf=5, min_samples_split=5, n_estimators=100;, score=-19628289857783.676 total time=   0.1s\n"
     ]
    },
    {
     "name": "stderr",
     "output_type": "stream",
     "text": [
      "C:\\Users\\jb5983on\\AppData\\Local\\anaconda3\\envs\\polars\\Lib\\site-packages\\sklearn\\base.py:1473: DataConversionWarning: A column-vector y was passed when a 1d array was expected. Please change the shape of y to (n_samples,), for example using ravel().\n",
      "  return fit_method(estimator, *args, **kwargs)\n",
      "C:\\Users\\jb5983on\\AppData\\Local\\anaconda3\\envs\\polars\\Lib\\site-packages\\sklearn\\base.py:1473: DataConversionWarning: A column-vector y was passed when a 1d array was expected. Please change the shape of y to (n_samples,), for example using ravel().\n",
      "  return fit_method(estimator, *args, **kwargs)\n"
     ]
    },
    {
     "name": "stdout",
     "output_type": "stream",
     "text": [
      "[CV 5/5] END criterion=friedman_mse, max_depth=2, min_samples_leaf=5, min_samples_split=5, n_estimators=100;, score=-20895107878554.035 total time=   0.1s\n",
      "[CV 1/5] END criterion=friedman_mse, max_depth=2, min_samples_leaf=5, min_samples_split=10, n_estimators=10;, score=-17652531558862.535 total time=   0.0s\n",
      "[CV 2/5] END criterion=friedman_mse, max_depth=2, min_samples_leaf=5, min_samples_split=10, n_estimators=10;, score=-21027336523127.773 total time=   0.0s\n",
      "[CV 3/5] END criterion=friedman_mse, max_depth=2, min_samples_leaf=5, min_samples_split=10, n_estimators=10;, score=-19442826279917.609 total time=   0.0s\n",
      "[CV 4/5] END criterion=friedman_mse, max_depth=2, min_samples_leaf=5, min_samples_split=10, n_estimators=10;, score=-19602920301714.965 total time=   0.0s\n",
      "[CV 5/5] END criterion=friedman_mse, max_depth=2, min_samples_leaf=5, min_samples_split=10, n_estimators=10;, score=-20888070119259.504 total time=   0.0s\n"
     ]
    },
    {
     "name": "stderr",
     "output_type": "stream",
     "text": [
      "C:\\Users\\jb5983on\\AppData\\Local\\anaconda3\\envs\\polars\\Lib\\site-packages\\sklearn\\base.py:1473: DataConversionWarning: A column-vector y was passed when a 1d array was expected. Please change the shape of y to (n_samples,), for example using ravel().\n",
      "  return fit_method(estimator, *args, **kwargs)\n",
      "C:\\Users\\jb5983on\\AppData\\Local\\anaconda3\\envs\\polars\\Lib\\site-packages\\sklearn\\base.py:1473: DataConversionWarning: A column-vector y was passed when a 1d array was expected. Please change the shape of y to (n_samples,), for example using ravel().\n",
      "  return fit_method(estimator, *args, **kwargs)\n",
      "C:\\Users\\jb5983on\\AppData\\Local\\anaconda3\\envs\\polars\\Lib\\site-packages\\sklearn\\base.py:1473: DataConversionWarning: A column-vector y was passed when a 1d array was expected. Please change the shape of y to (n_samples,), for example using ravel().\n",
      "  return fit_method(estimator, *args, **kwargs)\n",
      "C:\\Users\\jb5983on\\AppData\\Local\\anaconda3\\envs\\polars\\Lib\\site-packages\\sklearn\\base.py:1473: DataConversionWarning: A column-vector y was passed when a 1d array was expected. Please change the shape of y to (n_samples,), for example using ravel().\n",
      "  return fit_method(estimator, *args, **kwargs)\n",
      "C:\\Users\\jb5983on\\AppData\\Local\\anaconda3\\envs\\polars\\Lib\\site-packages\\sklearn\\base.py:1473: DataConversionWarning: A column-vector y was passed when a 1d array was expected. Please change the shape of y to (n_samples,), for example using ravel().\n",
      "  return fit_method(estimator, *args, **kwargs)\n",
      "C:\\Users\\jb5983on\\AppData\\Local\\anaconda3\\envs\\polars\\Lib\\site-packages\\sklearn\\base.py:1473: DataConversionWarning: A column-vector y was passed when a 1d array was expected. Please change the shape of y to (n_samples,), for example using ravel().\n",
      "  return fit_method(estimator, *args, **kwargs)\n"
     ]
    },
    {
     "name": "stdout",
     "output_type": "stream",
     "text": [
      "[CV 1/5] END criterion=friedman_mse, max_depth=2, min_samples_leaf=5, min_samples_split=10, n_estimators=100;, score=-17670862890942.754 total time=   0.1s\n"
     ]
    },
    {
     "name": "stderr",
     "output_type": "stream",
     "text": [
      "C:\\Users\\jb5983on\\AppData\\Local\\anaconda3\\envs\\polars\\Lib\\site-packages\\sklearn\\base.py:1473: DataConversionWarning: A column-vector y was passed when a 1d array was expected. Please change the shape of y to (n_samples,), for example using ravel().\n",
      "  return fit_method(estimator, *args, **kwargs)\n"
     ]
    },
    {
     "name": "stdout",
     "output_type": "stream",
     "text": [
      "[CV 2/5] END criterion=friedman_mse, max_depth=2, min_samples_leaf=5, min_samples_split=10, n_estimators=100;, score=-20999751183733.422 total time=   0.1s\n",
      "[CV 3/5] END criterion=friedman_mse, max_depth=2, min_samples_leaf=5, min_samples_split=10, n_estimators=100;, score=-19527105808430.039 total time=   0.1s\n"
     ]
    },
    {
     "name": "stderr",
     "output_type": "stream",
     "text": [
      "C:\\Users\\jb5983on\\AppData\\Local\\anaconda3\\envs\\polars\\Lib\\site-packages\\sklearn\\base.py:1473: DataConversionWarning: A column-vector y was passed when a 1d array was expected. Please change the shape of y to (n_samples,), for example using ravel().\n",
      "  return fit_method(estimator, *args, **kwargs)\n",
      "C:\\Users\\jb5983on\\AppData\\Local\\anaconda3\\envs\\polars\\Lib\\site-packages\\sklearn\\base.py:1473: DataConversionWarning: A column-vector y was passed when a 1d array was expected. Please change the shape of y to (n_samples,), for example using ravel().\n",
      "  return fit_method(estimator, *args, **kwargs)\n"
     ]
    },
    {
     "name": "stdout",
     "output_type": "stream",
     "text": [
      "[CV 4/5] END criterion=friedman_mse, max_depth=2, min_samples_leaf=5, min_samples_split=10, n_estimators=100;, score=-19637967435119.371 total time=   0.1s\n",
      "[CV 5/5] END criterion=friedman_mse, max_depth=2, min_samples_leaf=5, min_samples_split=10, n_estimators=100;, score=-20912833111617.828 total time=   0.1s\n",
      "[CV 1/5] END criterion=friedman_mse, max_depth=2, min_samples_leaf=10, min_samples_split=1, n_estimators=10;, score=nan total time=   0.0s\n",
      "[CV 2/5] END criterion=friedman_mse, max_depth=2, min_samples_leaf=10, min_samples_split=1, n_estimators=10;, score=nan total time=   0.0s\n",
      "[CV 3/5] END criterion=friedman_mse, max_depth=2, min_samples_leaf=10, min_samples_split=1, n_estimators=10;, score=nan total time=   0.0s\n",
      "[CV 4/5] END criterion=friedman_mse, max_depth=2, min_samples_leaf=10, min_samples_split=1, n_estimators=10;, score=nan total time=   0.0s\n",
      "[CV 5/5] END criterion=friedman_mse, max_depth=2, min_samples_leaf=10, min_samples_split=1, n_estimators=10;, score=nan total time=   0.0s\n",
      "[CV 1/5] END criterion=friedman_mse, max_depth=2, min_samples_leaf=10, min_samples_split=1, n_estimators=100;, score=nan total time=   0.0s\n",
      "[CV 2/5] END criterion=friedman_mse, max_depth=2, min_samples_leaf=10, min_samples_split=1, n_estimators=100;, score=nan total time=   0.0s\n",
      "[CV 3/5] END criterion=friedman_mse, max_depth=2, min_samples_leaf=10, min_samples_split=1, n_estimators=100;, score=nan total time=   0.0s\n"
     ]
    },
    {
     "name": "stderr",
     "output_type": "stream",
     "text": [
      "C:\\Users\\jb5983on\\AppData\\Local\\anaconda3\\envs\\polars\\Lib\\site-packages\\sklearn\\base.py:1473: DataConversionWarning: A column-vector y was passed when a 1d array was expected. Please change the shape of y to (n_samples,), for example using ravel().\n",
      "  return fit_method(estimator, *args, **kwargs)\n"
     ]
    },
    {
     "name": "stdout",
     "output_type": "stream",
     "text": [
      "[CV 4/5] END criterion=friedman_mse, max_depth=2, min_samples_leaf=10, min_samples_split=1, n_estimators=100;, score=nan total time=   0.0s\n",
      "[CV 5/5] END criterion=friedman_mse, max_depth=2, min_samples_leaf=10, min_samples_split=1, n_estimators=100;, score=nan total time=   0.0s\n",
      "[CV 1/5] END criterion=friedman_mse, max_depth=2, min_samples_leaf=10, min_samples_split=5, n_estimators=10;, score=-17707691351587.645 total time=   0.0s\n",
      "[CV 2/5] END criterion=friedman_mse, max_depth=2, min_samples_leaf=10, min_samples_split=5, n_estimators=10;, score=-21076118837159.539 total time=   0.0s\n",
      "[CV 3/5] END criterion=friedman_mse, max_depth=2, min_samples_leaf=10, min_samples_split=5, n_estimators=10;, score=-19492554888820.129 total time=   0.0s\n",
      "[CV 4/5] END criterion=friedman_mse, max_depth=2, min_samples_leaf=10, min_samples_split=5, n_estimators=10;, score=-19607216790621.035 total time=   0.0s\n",
      "[CV 5/5] END criterion=friedman_mse, max_depth=2, min_samples_leaf=10, min_samples_split=5, n_estimators=10;, score=-20929826904073.461 total time=   0.0s\n"
     ]
    },
    {
     "name": "stderr",
     "output_type": "stream",
     "text": [
      "C:\\Users\\jb5983on\\AppData\\Local\\anaconda3\\envs\\polars\\Lib\\site-packages\\sklearn\\base.py:1473: DataConversionWarning: A column-vector y was passed when a 1d array was expected. Please change the shape of y to (n_samples,), for example using ravel().\n",
      "  return fit_method(estimator, *args, **kwargs)\n",
      "C:\\Users\\jb5983on\\AppData\\Local\\anaconda3\\envs\\polars\\Lib\\site-packages\\sklearn\\base.py:1473: DataConversionWarning: A column-vector y was passed when a 1d array was expected. Please change the shape of y to (n_samples,), for example using ravel().\n",
      "  return fit_method(estimator, *args, **kwargs)\n",
      "C:\\Users\\jb5983on\\AppData\\Local\\anaconda3\\envs\\polars\\Lib\\site-packages\\sklearn\\base.py:1473: DataConversionWarning: A column-vector y was passed when a 1d array was expected. Please change the shape of y to (n_samples,), for example using ravel().\n",
      "  return fit_method(estimator, *args, **kwargs)\n",
      "C:\\Users\\jb5983on\\AppData\\Local\\anaconda3\\envs\\polars\\Lib\\site-packages\\sklearn\\base.py:1473: DataConversionWarning: A column-vector y was passed when a 1d array was expected. Please change the shape of y to (n_samples,), for example using ravel().\n",
      "  return fit_method(estimator, *args, **kwargs)\n",
      "C:\\Users\\jb5983on\\AppData\\Local\\anaconda3\\envs\\polars\\Lib\\site-packages\\sklearn\\base.py:1473: DataConversionWarning: A column-vector y was passed when a 1d array was expected. Please change the shape of y to (n_samples,), for example using ravel().\n",
      "  return fit_method(estimator, *args, **kwargs)\n",
      "C:\\Users\\jb5983on\\AppData\\Local\\anaconda3\\envs\\polars\\Lib\\site-packages\\sklearn\\base.py:1473: DataConversionWarning: A column-vector y was passed when a 1d array was expected. Please change the shape of y to (n_samples,), for example using ravel().\n",
      "  return fit_method(estimator, *args, **kwargs)\n"
     ]
    },
    {
     "name": "stdout",
     "output_type": "stream",
     "text": [
      "[CV 1/5] END criterion=friedman_mse, max_depth=2, min_samples_leaf=10, min_samples_split=5, n_estimators=100;, score=-17670223730456.098 total time=   0.2s\n",
      "[CV 2/5] END criterion=friedman_mse, max_depth=2, min_samples_leaf=10, min_samples_split=5, n_estimators=100;, score=-21002641898657.551 total time=   0.1s\n"
     ]
    },
    {
     "name": "stderr",
     "output_type": "stream",
     "text": [
      "C:\\Users\\jb5983on\\AppData\\Local\\anaconda3\\envs\\polars\\Lib\\site-packages\\sklearn\\base.py:1473: DataConversionWarning: A column-vector y was passed when a 1d array was expected. Please change the shape of y to (n_samples,), for example using ravel().\n",
      "  return fit_method(estimator, *args, **kwargs)\n",
      "C:\\Users\\jb5983on\\AppData\\Local\\anaconda3\\envs\\polars\\Lib\\site-packages\\sklearn\\base.py:1473: DataConversionWarning: A column-vector y was passed when a 1d array was expected. Please change the shape of y to (n_samples,), for example using ravel().\n",
      "  return fit_method(estimator, *args, **kwargs)\n"
     ]
    },
    {
     "name": "stdout",
     "output_type": "stream",
     "text": [
      "[CV 3/5] END criterion=friedman_mse, max_depth=2, min_samples_leaf=10, min_samples_split=5, n_estimators=100;, score=-19532158390595.902 total time=   0.1s\n",
      "[CV 4/5] END criterion=friedman_mse, max_depth=2, min_samples_leaf=10, min_samples_split=5, n_estimators=100;, score=-19629271438597.945 total time=   0.1s\n"
     ]
    },
    {
     "name": "stderr",
     "output_type": "stream",
     "text": [
      "C:\\Users\\jb5983on\\AppData\\Local\\anaconda3\\envs\\polars\\Lib\\site-packages\\sklearn\\base.py:1473: DataConversionWarning: A column-vector y was passed when a 1d array was expected. Please change the shape of y to (n_samples,), for example using ravel().\n",
      "  return fit_method(estimator, *args, **kwargs)\n",
      "C:\\Users\\jb5983on\\AppData\\Local\\anaconda3\\envs\\polars\\Lib\\site-packages\\sklearn\\base.py:1473: DataConversionWarning: A column-vector y was passed when a 1d array was expected. Please change the shape of y to (n_samples,), for example using ravel().\n",
      "  return fit_method(estimator, *args, **kwargs)\n"
     ]
    },
    {
     "name": "stdout",
     "output_type": "stream",
     "text": [
      "[CV 5/5] END criterion=friedman_mse, max_depth=2, min_samples_leaf=10, min_samples_split=5, n_estimators=100;, score=-20914655091394.152 total time=   0.1s\n",
      "[CV 1/5] END criterion=friedman_mse, max_depth=2, min_samples_leaf=10, min_samples_split=10, n_estimators=10;, score=-17710126119666.957 total time=   0.0s\n",
      "[CV 2/5] END criterion=friedman_mse, max_depth=2, min_samples_leaf=10, min_samples_split=10, n_estimators=10;, score=-21048727448156.199 total time=   0.0s\n",
      "[CV 3/5] END criterion=friedman_mse, max_depth=2, min_samples_leaf=10, min_samples_split=10, n_estimators=10;, score=-19530435993545.984 total time=   0.0s\n",
      "[CV 4/5] END criterion=friedman_mse, max_depth=2, min_samples_leaf=10, min_samples_split=10, n_estimators=10;, score=-19650954625943.656 total time=   0.0s\n",
      "[CV 5/5] END criterion=friedman_mse, max_depth=2, min_samples_leaf=10, min_samples_split=10, n_estimators=10;, score=-20900406533945.602 total time=   0.0s\n"
     ]
    },
    {
     "name": "stderr",
     "output_type": "stream",
     "text": [
      "C:\\Users\\jb5983on\\AppData\\Local\\anaconda3\\envs\\polars\\Lib\\site-packages\\sklearn\\base.py:1473: DataConversionWarning: A column-vector y was passed when a 1d array was expected. Please change the shape of y to (n_samples,), for example using ravel().\n",
      "  return fit_method(estimator, *args, **kwargs)\n",
      "C:\\Users\\jb5983on\\AppData\\Local\\anaconda3\\envs\\polars\\Lib\\site-packages\\sklearn\\base.py:1473: DataConversionWarning: A column-vector y was passed when a 1d array was expected. Please change the shape of y to (n_samples,), for example using ravel().\n",
      "  return fit_method(estimator, *args, **kwargs)\n",
      "C:\\Users\\jb5983on\\AppData\\Local\\anaconda3\\envs\\polars\\Lib\\site-packages\\sklearn\\base.py:1473: DataConversionWarning: A column-vector y was passed when a 1d array was expected. Please change the shape of y to (n_samples,), for example using ravel().\n",
      "  return fit_method(estimator, *args, **kwargs)\n",
      "C:\\Users\\jb5983on\\AppData\\Local\\anaconda3\\envs\\polars\\Lib\\site-packages\\sklearn\\base.py:1473: DataConversionWarning: A column-vector y was passed when a 1d array was expected. Please change the shape of y to (n_samples,), for example using ravel().\n",
      "  return fit_method(estimator, *args, **kwargs)\n",
      "C:\\Users\\jb5983on\\AppData\\Local\\anaconda3\\envs\\polars\\Lib\\site-packages\\sklearn\\base.py:1473: DataConversionWarning: A column-vector y was passed when a 1d array was expected. Please change the shape of y to (n_samples,), for example using ravel().\n",
      "  return fit_method(estimator, *args, **kwargs)\n",
      "C:\\Users\\jb5983on\\AppData\\Local\\anaconda3\\envs\\polars\\Lib\\site-packages\\sklearn\\base.py:1473: DataConversionWarning: A column-vector y was passed when a 1d array was expected. Please change the shape of y to (n_samples,), for example using ravel().\n",
      "  return fit_method(estimator, *args, **kwargs)\n"
     ]
    },
    {
     "name": "stdout",
     "output_type": "stream",
     "text": [
      "[CV 1/5] END criterion=friedman_mse, max_depth=2, min_samples_leaf=10, min_samples_split=10, n_estimators=100;, score=-17692834528465.176 total time=   0.1s\n",
      "[CV 2/5] END criterion=friedman_mse, max_depth=2, min_samples_leaf=10, min_samples_split=10, n_estimators=100;, score=-20999363809421.543 total time=   0.0s\n"
     ]
    },
    {
     "name": "stderr",
     "output_type": "stream",
     "text": [
      "C:\\Users\\jb5983on\\AppData\\Local\\anaconda3\\envs\\polars\\Lib\\site-packages\\sklearn\\base.py:1473: DataConversionWarning: A column-vector y was passed when a 1d array was expected. Please change the shape of y to (n_samples,), for example using ravel().\n",
      "  return fit_method(estimator, *args, **kwargs)\n",
      "C:\\Users\\jb5983on\\AppData\\Local\\anaconda3\\envs\\polars\\Lib\\site-packages\\sklearn\\base.py:1473: DataConversionWarning: A column-vector y was passed when a 1d array was expected. Please change the shape of y to (n_samples,), for example using ravel().\n",
      "  return fit_method(estimator, *args, **kwargs)\n"
     ]
    },
    {
     "name": "stdout",
     "output_type": "stream",
     "text": [
      "[CV 3/5] END criterion=friedman_mse, max_depth=2, min_samples_leaf=10, min_samples_split=10, n_estimators=100;, score=-19507193741177.816 total time=   0.2s\n",
      "[CV 4/5] END criterion=friedman_mse, max_depth=2, min_samples_leaf=10, min_samples_split=10, n_estimators=100;, score=-19621037663643.629 total time=   0.1s\n"
     ]
    },
    {
     "name": "stderr",
     "output_type": "stream",
     "text": [
      "C:\\Users\\jb5983on\\AppData\\Local\\anaconda3\\envs\\polars\\Lib\\site-packages\\sklearn\\base.py:1473: DataConversionWarning: A column-vector y was passed when a 1d array was expected. Please change the shape of y to (n_samples,), for example using ravel().\n",
      "  return fit_method(estimator, *args, **kwargs)\n",
      "C:\\Users\\jb5983on\\AppData\\Local\\anaconda3\\envs\\polars\\Lib\\site-packages\\sklearn\\base.py:1473: DataConversionWarning: A column-vector y was passed when a 1d array was expected. Please change the shape of y to (n_samples,), for example using ravel().\n",
      "  return fit_method(estimator, *args, **kwargs)\n"
     ]
    },
    {
     "name": "stdout",
     "output_type": "stream",
     "text": [
      "[CV 5/5] END criterion=friedman_mse, max_depth=2, min_samples_leaf=10, min_samples_split=10, n_estimators=100;, score=-20925629172046.938 total time=   0.1s\n",
      "[CV 1/5] END criterion=friedman_mse, max_depth=3, min_samples_leaf=1, min_samples_split=1, n_estimators=10;, score=nan total time=   0.0s\n",
      "[CV 2/5] END criterion=friedman_mse, max_depth=3, min_samples_leaf=1, min_samples_split=1, n_estimators=10;, score=nan total time=   0.0s\n",
      "[CV 3/5] END criterion=friedman_mse, max_depth=3, min_samples_leaf=1, min_samples_split=1, n_estimators=10;, score=nan total time=   0.0s\n",
      "[CV 4/5] END criterion=friedman_mse, max_depth=3, min_samples_leaf=1, min_samples_split=1, n_estimators=10;, score=nan total time=   0.0s\n",
      "[CV 5/5] END criterion=friedman_mse, max_depth=3, min_samples_leaf=1, min_samples_split=1, n_estimators=10;, score=nan total time=   0.0s\n",
      "[CV 1/5] END criterion=friedman_mse, max_depth=3, min_samples_leaf=1, min_samples_split=1, n_estimators=100;, score=nan total time=   0.0s\n",
      "[CV 2/5] END criterion=friedman_mse, max_depth=3, min_samples_leaf=1, min_samples_split=1, n_estimators=100;, score=nan total time=   0.0s\n",
      "[CV 3/5] END criterion=friedman_mse, max_depth=3, min_samples_leaf=1, min_samples_split=1, n_estimators=100;, score=nan total time=   0.0s\n",
      "[CV 4/5] END criterion=friedman_mse, max_depth=3, min_samples_leaf=1, min_samples_split=1, n_estimators=100;, score=nan total time=   0.0s\n",
      "[CV 5/5] END criterion=friedman_mse, max_depth=3, min_samples_leaf=1, min_samples_split=1, n_estimators=100;, score=nan total time=   0.0s\n",
      "[CV 1/5] END criterion=friedman_mse, max_depth=3, min_samples_leaf=1, min_samples_split=5, n_estimators=10;, score=-17347809230802.570 total time=   0.0s\n",
      "[CV 2/5] END criterion=friedman_mse, max_depth=3, min_samples_leaf=1, min_samples_split=5, n_estimators=10;, score=-20634574486185.344 total time=   0.0s\n",
      "[CV 3/5] END criterion=friedman_mse, max_depth=3, min_samples_leaf=1, min_samples_split=5, n_estimators=10;, score=-19391224058105.078 total time=   0.0s\n"
     ]
    },
    {
     "name": "stderr",
     "output_type": "stream",
     "text": [
      "C:\\Users\\jb5983on\\AppData\\Local\\anaconda3\\envs\\polars\\Lib\\site-packages\\sklearn\\base.py:1473: DataConversionWarning: A column-vector y was passed when a 1d array was expected. Please change the shape of y to (n_samples,), for example using ravel().\n",
      "  return fit_method(estimator, *args, **kwargs)\n",
      "C:\\Users\\jb5983on\\AppData\\Local\\anaconda3\\envs\\polars\\Lib\\site-packages\\sklearn\\base.py:1473: DataConversionWarning: A column-vector y was passed when a 1d array was expected. Please change the shape of y to (n_samples,), for example using ravel().\n",
      "  return fit_method(estimator, *args, **kwargs)\n",
      "C:\\Users\\jb5983on\\AppData\\Local\\anaconda3\\envs\\polars\\Lib\\site-packages\\sklearn\\base.py:1473: DataConversionWarning: A column-vector y was passed when a 1d array was expected. Please change the shape of y to (n_samples,), for example using ravel().\n",
      "  return fit_method(estimator, *args, **kwargs)\n",
      "C:\\Users\\jb5983on\\AppData\\Local\\anaconda3\\envs\\polars\\Lib\\site-packages\\sklearn\\base.py:1473: DataConversionWarning: A column-vector y was passed when a 1d array was expected. Please change the shape of y to (n_samples,), for example using ravel().\n",
      "  return fit_method(estimator, *args, **kwargs)\n",
      "C:\\Users\\jb5983on\\AppData\\Local\\anaconda3\\envs\\polars\\Lib\\site-packages\\sklearn\\base.py:1473: DataConversionWarning: A column-vector y was passed when a 1d array was expected. Please change the shape of y to (n_samples,), for example using ravel().\n",
      "  return fit_method(estimator, *args, **kwargs)\n"
     ]
    },
    {
     "name": "stdout",
     "output_type": "stream",
     "text": [
      "[CV 4/5] END criterion=friedman_mse, max_depth=3, min_samples_leaf=1, min_samples_split=5, n_estimators=10;, score=-19154229945589.637 total time=   0.0s\n",
      "[CV 5/5] END criterion=friedman_mse, max_depth=3, min_samples_leaf=1, min_samples_split=5, n_estimators=10;, score=-20529305259548.566 total time=   0.0s\n"
     ]
    },
    {
     "name": "stderr",
     "output_type": "stream",
     "text": [
      "C:\\Users\\jb5983on\\AppData\\Local\\anaconda3\\envs\\polars\\Lib\\site-packages\\sklearn\\base.py:1473: DataConversionWarning: A column-vector y was passed when a 1d array was expected. Please change the shape of y to (n_samples,), for example using ravel().\n",
      "  return fit_method(estimator, *args, **kwargs)\n"
     ]
    },
    {
     "name": "stdout",
     "output_type": "stream",
     "text": [
      "[CV 1/5] END criterion=friedman_mse, max_depth=3, min_samples_leaf=1, min_samples_split=5, n_estimators=100;, score=-17359732306487.904 total time=   0.1s\n"
     ]
    },
    {
     "name": "stderr",
     "output_type": "stream",
     "text": [
      "C:\\Users\\jb5983on\\AppData\\Local\\anaconda3\\envs\\polars\\Lib\\site-packages\\sklearn\\base.py:1473: DataConversionWarning: A column-vector y was passed when a 1d array was expected. Please change the shape of y to (n_samples,), for example using ravel().\n",
      "  return fit_method(estimator, *args, **kwargs)\n"
     ]
    },
    {
     "name": "stdout",
     "output_type": "stream",
     "text": [
      "[CV 2/5] END criterion=friedman_mse, max_depth=3, min_samples_leaf=1, min_samples_split=5, n_estimators=100;, score=-20677840792535.312 total time=   0.1s\n",
      "[CV 3/5] END criterion=friedman_mse, max_depth=3, min_samples_leaf=1, min_samples_split=5, n_estimators=100;, score=-19372546005580.039 total time=   0.1s\n"
     ]
    },
    {
     "name": "stderr",
     "output_type": "stream",
     "text": [
      "C:\\Users\\jb5983on\\AppData\\Local\\anaconda3\\envs\\polars\\Lib\\site-packages\\sklearn\\base.py:1473: DataConversionWarning: A column-vector y was passed when a 1d array was expected. Please change the shape of y to (n_samples,), for example using ravel().\n",
      "  return fit_method(estimator, *args, **kwargs)\n",
      "C:\\Users\\jb5983on\\AppData\\Local\\anaconda3\\envs\\polars\\Lib\\site-packages\\sklearn\\base.py:1473: DataConversionWarning: A column-vector y was passed when a 1d array was expected. Please change the shape of y to (n_samples,), for example using ravel().\n",
      "  return fit_method(estimator, *args, **kwargs)\n"
     ]
    },
    {
     "name": "stdout",
     "output_type": "stream",
     "text": [
      "[CV 4/5] END criterion=friedman_mse, max_depth=3, min_samples_leaf=1, min_samples_split=5, n_estimators=100;, score=-19194364292202.125 total time=   0.1s\n",
      "[CV 5/5] END criterion=friedman_mse, max_depth=3, min_samples_leaf=1, min_samples_split=5, n_estimators=100;, score=-20476478214221.562 total time=   0.1s\n"
     ]
    },
    {
     "name": "stderr",
     "output_type": "stream",
     "text": [
      "C:\\Users\\jb5983on\\AppData\\Local\\anaconda3\\envs\\polars\\Lib\\site-packages\\sklearn\\base.py:1473: DataConversionWarning: A column-vector y was passed when a 1d array was expected. Please change the shape of y to (n_samples,), for example using ravel().\n",
      "  return fit_method(estimator, *args, **kwargs)\n",
      "C:\\Users\\jb5983on\\AppData\\Local\\anaconda3\\envs\\polars\\Lib\\site-packages\\sklearn\\base.py:1473: DataConversionWarning: A column-vector y was passed when a 1d array was expected. Please change the shape of y to (n_samples,), for example using ravel().\n",
      "  return fit_method(estimator, *args, **kwargs)\n"
     ]
    },
    {
     "name": "stdout",
     "output_type": "stream",
     "text": [
      "[CV 1/5] END criterion=friedman_mse, max_depth=3, min_samples_leaf=1, min_samples_split=10, n_estimators=10;, score=-17386591326415.537 total time=   0.0s\n",
      "[CV 2/5] END criterion=friedman_mse, max_depth=3, min_samples_leaf=1, min_samples_split=10, n_estimators=10;, score=-20695943918132.344 total time=   0.0s\n",
      "[CV 3/5] END criterion=friedman_mse, max_depth=3, min_samples_leaf=1, min_samples_split=10, n_estimators=10;, score=-19450843747707.676 total time=   0.0s\n",
      "[CV 4/5] END criterion=friedman_mse, max_depth=3, min_samples_leaf=1, min_samples_split=10, n_estimators=10;, score=-19214873222845.871 total time=   0.0s\n",
      "[CV 5/5] END criterion=friedman_mse, max_depth=3, min_samples_leaf=1, min_samples_split=10, n_estimators=10;, score=-20485848562136.809 total time=   0.0s\n"
     ]
    },
    {
     "name": "stderr",
     "output_type": "stream",
     "text": [
      "C:\\Users\\jb5983on\\AppData\\Local\\anaconda3\\envs\\polars\\Lib\\site-packages\\sklearn\\base.py:1473: DataConversionWarning: A column-vector y was passed when a 1d array was expected. Please change the shape of y to (n_samples,), for example using ravel().\n",
      "  return fit_method(estimator, *args, **kwargs)\n",
      "C:\\Users\\jb5983on\\AppData\\Local\\anaconda3\\envs\\polars\\Lib\\site-packages\\sklearn\\base.py:1473: DataConversionWarning: A column-vector y was passed when a 1d array was expected. Please change the shape of y to (n_samples,), for example using ravel().\n",
      "  return fit_method(estimator, *args, **kwargs)\n",
      "C:\\Users\\jb5983on\\AppData\\Local\\anaconda3\\envs\\polars\\Lib\\site-packages\\sklearn\\base.py:1473: DataConversionWarning: A column-vector y was passed when a 1d array was expected. Please change the shape of y to (n_samples,), for example using ravel().\n",
      "  return fit_method(estimator, *args, **kwargs)\n",
      "C:\\Users\\jb5983on\\AppData\\Local\\anaconda3\\envs\\polars\\Lib\\site-packages\\sklearn\\base.py:1473: DataConversionWarning: A column-vector y was passed when a 1d array was expected. Please change the shape of y to (n_samples,), for example using ravel().\n",
      "  return fit_method(estimator, *args, **kwargs)\n",
      "C:\\Users\\jb5983on\\AppData\\Local\\anaconda3\\envs\\polars\\Lib\\site-packages\\sklearn\\base.py:1473: DataConversionWarning: A column-vector y was passed when a 1d array was expected. Please change the shape of y to (n_samples,), for example using ravel().\n",
      "  return fit_method(estimator, *args, **kwargs)\n"
     ]
    },
    {
     "name": "stdout",
     "output_type": "stream",
     "text": [
      "[CV 1/5] END criterion=friedman_mse, max_depth=3, min_samples_leaf=1, min_samples_split=10, n_estimators=100;, score=-17368622823977.537 total time=   0.1s\n"
     ]
    },
    {
     "name": "stderr",
     "output_type": "stream",
     "text": [
      "C:\\Users\\jb5983on\\AppData\\Local\\anaconda3\\envs\\polars\\Lib\\site-packages\\sklearn\\base.py:1473: DataConversionWarning: A column-vector y was passed when a 1d array was expected. Please change the shape of y to (n_samples,), for example using ravel().\n",
      "  return fit_method(estimator, *args, **kwargs)\n"
     ]
    },
    {
     "name": "stdout",
     "output_type": "stream",
     "text": [
      "[CV 2/5] END criterion=friedman_mse, max_depth=3, min_samples_leaf=1, min_samples_split=10, n_estimators=100;, score=-20692478213681.691 total time=   0.1s\n",
      "[CV 3/5] END criterion=friedman_mse, max_depth=3, min_samples_leaf=1, min_samples_split=10, n_estimators=100;, score=-19395985281409.730 total time=   0.1s\n"
     ]
    },
    {
     "name": "stderr",
     "output_type": "stream",
     "text": [
      "C:\\Users\\jb5983on\\AppData\\Local\\anaconda3\\envs\\polars\\Lib\\site-packages\\sklearn\\base.py:1473: DataConversionWarning: A column-vector y was passed when a 1d array was expected. Please change the shape of y to (n_samples,), for example using ravel().\n",
      "  return fit_method(estimator, *args, **kwargs)\n",
      "C:\\Users\\jb5983on\\AppData\\Local\\anaconda3\\envs\\polars\\Lib\\site-packages\\sklearn\\base.py:1473: DataConversionWarning: A column-vector y was passed when a 1d array was expected. Please change the shape of y to (n_samples,), for example using ravel().\n",
      "  return fit_method(estimator, *args, **kwargs)\n"
     ]
    },
    {
     "name": "stdout",
     "output_type": "stream",
     "text": [
      "[CV 4/5] END criterion=friedman_mse, max_depth=3, min_samples_leaf=1, min_samples_split=10, n_estimators=100;, score=-19190148666650.715 total time=   0.1s\n",
      "[CV 5/5] END criterion=friedman_mse, max_depth=3, min_samples_leaf=1, min_samples_split=10, n_estimators=100;, score=-20477564554684.738 total time=   0.1s\n",
      "[CV 1/5] END criterion=friedman_mse, max_depth=3, min_samples_leaf=5, min_samples_split=1, n_estimators=10;, score=nan total time=   0.0s\n",
      "[CV 2/5] END criterion=friedman_mse, max_depth=3, min_samples_leaf=5, min_samples_split=1, n_estimators=10;, score=nan total time=   0.0s\n",
      "[CV 3/5] END criterion=friedman_mse, max_depth=3, min_samples_leaf=5, min_samples_split=1, n_estimators=10;, score=nan total time=   0.0s\n",
      "[CV 4/5] END criterion=friedman_mse, max_depth=3, min_samples_leaf=5, min_samples_split=1, n_estimators=10;, score=nan total time=   0.0s\n",
      "[CV 5/5] END criterion=friedman_mse, max_depth=3, min_samples_leaf=5, min_samples_split=1, n_estimators=10;, score=nan total time=   0.0s\n",
      "[CV 1/5] END criterion=friedman_mse, max_depth=3, min_samples_leaf=5, min_samples_split=1, n_estimators=100;, score=nan total time=   0.0s\n",
      "[CV 2/5] END criterion=friedman_mse, max_depth=3, min_samples_leaf=5, min_samples_split=1, n_estimators=100;, score=nan total time=   0.0s\n",
      "[CV 3/5] END criterion=friedman_mse, max_depth=3, min_samples_leaf=5, min_samples_split=1, n_estimators=100;, score=nan total time=   0.0s\n",
      "[CV 4/5] END criterion=friedman_mse, max_depth=3, min_samples_leaf=5, min_samples_split=1, n_estimators=100;, score=nan total time=   0.0s\n",
      "[CV 5/5] END criterion=friedman_mse, max_depth=3, min_samples_leaf=5, min_samples_split=1, n_estimators=100;, score=nan total time=   0.0s\n"
     ]
    },
    {
     "name": "stderr",
     "output_type": "stream",
     "text": [
      "C:\\Users\\jb5983on\\AppData\\Local\\anaconda3\\envs\\polars\\Lib\\site-packages\\sklearn\\base.py:1473: DataConversionWarning: A column-vector y was passed when a 1d array was expected. Please change the shape of y to (n_samples,), for example using ravel().\n",
      "  return fit_method(estimator, *args, **kwargs)\n",
      "C:\\Users\\jb5983on\\AppData\\Local\\anaconda3\\envs\\polars\\Lib\\site-packages\\sklearn\\base.py:1473: DataConversionWarning: A column-vector y was passed when a 1d array was expected. Please change the shape of y to (n_samples,), for example using ravel().\n",
      "  return fit_method(estimator, *args, **kwargs)\n",
      "C:\\Users\\jb5983on\\AppData\\Local\\anaconda3\\envs\\polars\\Lib\\site-packages\\sklearn\\base.py:1473: DataConversionWarning: A column-vector y was passed when a 1d array was expected. Please change the shape of y to (n_samples,), for example using ravel().\n",
      "  return fit_method(estimator, *args, **kwargs)\n",
      "C:\\Users\\jb5983on\\AppData\\Local\\anaconda3\\envs\\polars\\Lib\\site-packages\\sklearn\\base.py:1473: DataConversionWarning: A column-vector y was passed when a 1d array was expected. Please change the shape of y to (n_samples,), for example using ravel().\n",
      "  return fit_method(estimator, *args, **kwargs)\n",
      "C:\\Users\\jb5983on\\AppData\\Local\\anaconda3\\envs\\polars\\Lib\\site-packages\\sklearn\\base.py:1473: DataConversionWarning: A column-vector y was passed when a 1d array was expected. Please change the shape of y to (n_samples,), for example using ravel().\n",
      "  return fit_method(estimator, *args, **kwargs)\n",
      "C:\\Users\\jb5983on\\AppData\\Local\\anaconda3\\envs\\polars\\Lib\\site-packages\\sklearn\\base.py:1473: DataConversionWarning: A column-vector y was passed when a 1d array was expected. Please change the shape of y to (n_samples,), for example using ravel().\n",
      "  return fit_method(estimator, *args, **kwargs)\n",
      "C:\\Users\\jb5983on\\AppData\\Local\\anaconda3\\envs\\polars\\Lib\\site-packages\\sklearn\\base.py:1473: DataConversionWarning: A column-vector y was passed when a 1d array was expected. Please change the shape of y to (n_samples,), for example using ravel().\n",
      "  return fit_method(estimator, *args, **kwargs)\n"
     ]
    },
    {
     "name": "stdout",
     "output_type": "stream",
     "text": [
      "[CV 1/5] END criterion=friedman_mse, max_depth=3, min_samples_leaf=5, min_samples_split=5, n_estimators=10;, score=-17344479418393.273 total time=   0.0s\n",
      "[CV 2/5] END criterion=friedman_mse, max_depth=3, min_samples_leaf=5, min_samples_split=5, n_estimators=10;, score=-20664607290270.391 total time=   0.0s\n",
      "[CV 3/5] END criterion=friedman_mse, max_depth=3, min_samples_leaf=5, min_samples_split=5, n_estimators=10;, score=-19542926407389.648 total time=   0.0s\n",
      "[CV 4/5] END criterion=friedman_mse, max_depth=3, min_samples_leaf=5, min_samples_split=5, n_estimators=10;, score=-19158723998419.949 total time=   0.0s\n",
      "[CV 5/5] END criterion=friedman_mse, max_depth=3, min_samples_leaf=5, min_samples_split=5, n_estimators=10;, score=-20542536339827.578 total time=   0.0s\n",
      "[CV 1/5] END criterion=friedman_mse, max_depth=3, min_samples_leaf=5, min_samples_split=5, n_estimators=100;, score=-17374455114014.996 total time=   0.1s\n",
      "[CV 2/5] END criterion=friedman_mse, max_depth=3, min_samples_leaf=5, min_samples_split=5, n_estimators=100;, score=-20664392506591.758 total time=   0.1s\n"
     ]
    },
    {
     "name": "stderr",
     "output_type": "stream",
     "text": [
      "C:\\Users\\jb5983on\\AppData\\Local\\anaconda3\\envs\\polars\\Lib\\site-packages\\sklearn\\base.py:1473: DataConversionWarning: A column-vector y was passed when a 1d array was expected. Please change the shape of y to (n_samples,), for example using ravel().\n",
      "  return fit_method(estimator, *args, **kwargs)\n",
      "C:\\Users\\jb5983on\\AppData\\Local\\anaconda3\\envs\\polars\\Lib\\site-packages\\sklearn\\base.py:1473: DataConversionWarning: A column-vector y was passed when a 1d array was expected. Please change the shape of y to (n_samples,), for example using ravel().\n",
      "  return fit_method(estimator, *args, **kwargs)\n"
     ]
    },
    {
     "name": "stdout",
     "output_type": "stream",
     "text": [
      "[CV 3/5] END criterion=friedman_mse, max_depth=3, min_samples_leaf=5, min_samples_split=5, n_estimators=100;, score=-19356219736468.148 total time=   0.1s\n",
      "[CV 4/5] END criterion=friedman_mse, max_depth=3, min_samples_leaf=5, min_samples_split=5, n_estimators=100;, score=-19195973745333.977 total time=   0.1s\n"
     ]
    },
    {
     "name": "stderr",
     "output_type": "stream",
     "text": [
      "C:\\Users\\jb5983on\\AppData\\Local\\anaconda3\\envs\\polars\\Lib\\site-packages\\sklearn\\base.py:1473: DataConversionWarning: A column-vector y was passed when a 1d array was expected. Please change the shape of y to (n_samples,), for example using ravel().\n",
      "  return fit_method(estimator, *args, **kwargs)\n",
      "C:\\Users\\jb5983on\\AppData\\Local\\anaconda3\\envs\\polars\\Lib\\site-packages\\sklearn\\base.py:1473: DataConversionWarning: A column-vector y was passed when a 1d array was expected. Please change the shape of y to (n_samples,), for example using ravel().\n",
      "  return fit_method(estimator, *args, **kwargs)\n"
     ]
    },
    {
     "name": "stdout",
     "output_type": "stream",
     "text": [
      "[CV 5/5] END criterion=friedman_mse, max_depth=3, min_samples_leaf=5, min_samples_split=5, n_estimators=100;, score=-20493542090840.891 total time=   0.1s\n",
      "[CV 1/5] END criterion=friedman_mse, max_depth=3, min_samples_leaf=5, min_samples_split=10, n_estimators=10;, score=-17420030052332.748 total time=   0.0s\n",
      "[CV 2/5] END criterion=friedman_mse, max_depth=3, min_samples_leaf=5, min_samples_split=10, n_estimators=10;, score=-20669731609294.770 total time=   0.0s\n",
      "[CV 3/5] END criterion=friedman_mse, max_depth=3, min_samples_leaf=5, min_samples_split=10, n_estimators=10;, score=-19284961426325.477 total time=   0.0s\n",
      "[CV 4/5] END criterion=friedman_mse, max_depth=3, min_samples_leaf=5, min_samples_split=10, n_estimators=10;, score=-19113295670012.113 total time=   0.0s\n",
      "[CV 5/5] END criterion=friedman_mse, max_depth=3, min_samples_leaf=5, min_samples_split=10, n_estimators=10;, score=-20458977984151.680 total time=   0.0s\n"
     ]
    },
    {
     "name": "stderr",
     "output_type": "stream",
     "text": [
      "C:\\Users\\jb5983on\\AppData\\Local\\anaconda3\\envs\\polars\\Lib\\site-packages\\sklearn\\base.py:1473: DataConversionWarning: A column-vector y was passed when a 1d array was expected. Please change the shape of y to (n_samples,), for example using ravel().\n",
      "  return fit_method(estimator, *args, **kwargs)\n",
      "C:\\Users\\jb5983on\\AppData\\Local\\anaconda3\\envs\\polars\\Lib\\site-packages\\sklearn\\base.py:1473: DataConversionWarning: A column-vector y was passed when a 1d array was expected. Please change the shape of y to (n_samples,), for example using ravel().\n",
      "  return fit_method(estimator, *args, **kwargs)\n",
      "C:\\Users\\jb5983on\\AppData\\Local\\anaconda3\\envs\\polars\\Lib\\site-packages\\sklearn\\base.py:1473: DataConversionWarning: A column-vector y was passed when a 1d array was expected. Please change the shape of y to (n_samples,), for example using ravel().\n",
      "  return fit_method(estimator, *args, **kwargs)\n",
      "C:\\Users\\jb5983on\\AppData\\Local\\anaconda3\\envs\\polars\\Lib\\site-packages\\sklearn\\base.py:1473: DataConversionWarning: A column-vector y was passed when a 1d array was expected. Please change the shape of y to (n_samples,), for example using ravel().\n",
      "  return fit_method(estimator, *args, **kwargs)\n",
      "C:\\Users\\jb5983on\\AppData\\Local\\anaconda3\\envs\\polars\\Lib\\site-packages\\sklearn\\base.py:1473: DataConversionWarning: A column-vector y was passed when a 1d array was expected. Please change the shape of y to (n_samples,), for example using ravel().\n",
      "  return fit_method(estimator, *args, **kwargs)\n",
      "C:\\Users\\jb5983on\\AppData\\Local\\anaconda3\\envs\\polars\\Lib\\site-packages\\sklearn\\base.py:1473: DataConversionWarning: A column-vector y was passed when a 1d array was expected. Please change the shape of y to (n_samples,), for example using ravel().\n",
      "  return fit_method(estimator, *args, **kwargs)\n"
     ]
    },
    {
     "name": "stdout",
     "output_type": "stream",
     "text": [
      "[CV 1/5] END criterion=friedman_mse, max_depth=3, min_samples_leaf=5, min_samples_split=10, n_estimators=100;, score=-17360541460729.855 total time=   0.1s\n",
      "[CV 2/5] END criterion=friedman_mse, max_depth=3, min_samples_leaf=5, min_samples_split=10, n_estimators=100;, score=-20683437515193.457 total time=   0.1s\n"
     ]
    },
    {
     "name": "stderr",
     "output_type": "stream",
     "text": [
      "C:\\Users\\jb5983on\\AppData\\Local\\anaconda3\\envs\\polars\\Lib\\site-packages\\sklearn\\base.py:1473: DataConversionWarning: A column-vector y was passed when a 1d array was expected. Please change the shape of y to (n_samples,), for example using ravel().\n",
      "  return fit_method(estimator, *args, **kwargs)\n",
      "C:\\Users\\jb5983on\\AppData\\Local\\anaconda3\\envs\\polars\\Lib\\site-packages\\sklearn\\base.py:1473: DataConversionWarning: A column-vector y was passed when a 1d array was expected. Please change the shape of y to (n_samples,), for example using ravel().\n",
      "  return fit_method(estimator, *args, **kwargs)\n"
     ]
    },
    {
     "name": "stdout",
     "output_type": "stream",
     "text": [
      "[CV 3/5] END criterion=friedman_mse, max_depth=3, min_samples_leaf=5, min_samples_split=10, n_estimators=100;, score=-19385120176159.121 total time=   0.2s\n"
     ]
    },
    {
     "name": "stderr",
     "output_type": "stream",
     "text": [
      "C:\\Users\\jb5983on\\AppData\\Local\\anaconda3\\envs\\polars\\Lib\\site-packages\\sklearn\\base.py:1473: DataConversionWarning: A column-vector y was passed when a 1d array was expected. Please change the shape of y to (n_samples,), for example using ravel().\n",
      "  return fit_method(estimator, *args, **kwargs)\n"
     ]
    },
    {
     "name": "stdout",
     "output_type": "stream",
     "text": [
      "[CV 4/5] END criterion=friedman_mse, max_depth=3, min_samples_leaf=5, min_samples_split=10, n_estimators=100;, score=-19173105233886.457 total time=   0.1s\n"
     ]
    },
    {
     "name": "stderr",
     "output_type": "stream",
     "text": [
      "C:\\Users\\jb5983on\\AppData\\Local\\anaconda3\\envs\\polars\\Lib\\site-packages\\sklearn\\base.py:1473: DataConversionWarning: A column-vector y was passed when a 1d array was expected. Please change the shape of y to (n_samples,), for example using ravel().\n",
      "  return fit_method(estimator, *args, **kwargs)\n"
     ]
    },
    {
     "name": "stdout",
     "output_type": "stream",
     "text": [
      "[CV 5/5] END criterion=friedman_mse, max_depth=3, min_samples_leaf=5, min_samples_split=10, n_estimators=100;, score=-20480250861498.883 total time=   0.1s\n",
      "[CV 1/5] END criterion=friedman_mse, max_depth=3, min_samples_leaf=10, min_samples_split=1, n_estimators=10;, score=nan total time=   0.0s\n",
      "[CV 2/5] END criterion=friedman_mse, max_depth=3, min_samples_leaf=10, min_samples_split=1, n_estimators=10;, score=nan total time=   0.0s\n",
      "[CV 3/5] END criterion=friedman_mse, max_depth=3, min_samples_leaf=10, min_samples_split=1, n_estimators=10;, score=nan total time=   0.0s\n",
      "[CV 4/5] END criterion=friedman_mse, max_depth=3, min_samples_leaf=10, min_samples_split=1, n_estimators=10;, score=nan total time=   0.0s\n",
      "[CV 5/5] END criterion=friedman_mse, max_depth=3, min_samples_leaf=10, min_samples_split=1, n_estimators=10;, score=nan total time=   0.0s\n",
      "[CV 1/5] END criterion=friedman_mse, max_depth=3, min_samples_leaf=10, min_samples_split=1, n_estimators=100;, score=nan total time=   0.0s\n",
      "[CV 2/5] END criterion=friedman_mse, max_depth=3, min_samples_leaf=10, min_samples_split=1, n_estimators=100;, score=nan total time=   0.0s\n",
      "[CV 3/5] END criterion=friedman_mse, max_depth=3, min_samples_leaf=10, min_samples_split=1, n_estimators=100;, score=nan total time=   0.0s\n",
      "[CV 4/5] END criterion=friedman_mse, max_depth=3, min_samples_leaf=10, min_samples_split=1, n_estimators=100;, score=nan total time=   0.0s\n",
      "[CV 5/5] END criterion=friedman_mse, max_depth=3, min_samples_leaf=10, min_samples_split=1, n_estimators=100;, score=nan total time=   0.0s\n",
      "[CV 1/5] END criterion=friedman_mse, max_depth=3, min_samples_leaf=10, min_samples_split=5, n_estimators=10;, score=-17350829447706.021 total time=   0.0s\n",
      "[CV 2/5] END criterion=friedman_mse, max_depth=3, min_samples_leaf=10, min_samples_split=5, n_estimators=10;, score=-20693482167417.164 total time=   0.0s\n",
      "[CV 3/5] END criterion=friedman_mse, max_depth=3, min_samples_leaf=10, min_samples_split=5, n_estimators=10;, score=-19358491384600.934 total time=   0.0s\n",
      "[CV 4/5] END criterion=friedman_mse, max_depth=3, min_samples_leaf=10, min_samples_split=5, n_estimators=10;, score=-19199352752658.105 total time=   0.0s\n",
      "[CV 5/5] END criterion=friedman_mse, max_depth=3, min_samples_leaf=10, min_samples_split=5, n_estimators=10;, score=-20467856920695.000 total time=   0.0s\n"
     ]
    },
    {
     "name": "stderr",
     "output_type": "stream",
     "text": [
      "C:\\Users\\jb5983on\\AppData\\Local\\anaconda3\\envs\\polars\\Lib\\site-packages\\sklearn\\base.py:1473: DataConversionWarning: A column-vector y was passed when a 1d array was expected. Please change the shape of y to (n_samples,), for example using ravel().\n",
      "  return fit_method(estimator, *args, **kwargs)\n",
      "C:\\Users\\jb5983on\\AppData\\Local\\anaconda3\\envs\\polars\\Lib\\site-packages\\sklearn\\base.py:1473: DataConversionWarning: A column-vector y was passed when a 1d array was expected. Please change the shape of y to (n_samples,), for example using ravel().\n",
      "  return fit_method(estimator, *args, **kwargs)\n",
      "C:\\Users\\jb5983on\\AppData\\Local\\anaconda3\\envs\\polars\\Lib\\site-packages\\sklearn\\base.py:1473: DataConversionWarning: A column-vector y was passed when a 1d array was expected. Please change the shape of y to (n_samples,), for example using ravel().\n",
      "  return fit_method(estimator, *args, **kwargs)\n",
      "C:\\Users\\jb5983on\\AppData\\Local\\anaconda3\\envs\\polars\\Lib\\site-packages\\sklearn\\base.py:1473: DataConversionWarning: A column-vector y was passed when a 1d array was expected. Please change the shape of y to (n_samples,), for example using ravel().\n",
      "  return fit_method(estimator, *args, **kwargs)\n",
      "C:\\Users\\jb5983on\\AppData\\Local\\anaconda3\\envs\\polars\\Lib\\site-packages\\sklearn\\base.py:1473: DataConversionWarning: A column-vector y was passed when a 1d array was expected. Please change the shape of y to (n_samples,), for example using ravel().\n",
      "  return fit_method(estimator, *args, **kwargs)\n",
      "C:\\Users\\jb5983on\\AppData\\Local\\anaconda3\\envs\\polars\\Lib\\site-packages\\sklearn\\base.py:1473: DataConversionWarning: A column-vector y was passed when a 1d array was expected. Please change the shape of y to (n_samples,), for example using ravel().\n",
      "  return fit_method(estimator, *args, **kwargs)\n"
     ]
    },
    {
     "name": "stdout",
     "output_type": "stream",
     "text": [
      "[CV 1/5] END criterion=friedman_mse, max_depth=3, min_samples_leaf=10, min_samples_split=5, n_estimators=100;, score=-17355107534614.273 total time=   0.2s\n"
     ]
    },
    {
     "name": "stderr",
     "output_type": "stream",
     "text": [
      "C:\\Users\\jb5983on\\AppData\\Local\\anaconda3\\envs\\polars\\Lib\\site-packages\\sklearn\\base.py:1473: DataConversionWarning: A column-vector y was passed when a 1d array was expected. Please change the shape of y to (n_samples,), for example using ravel().\n",
      "  return fit_method(estimator, *args, **kwargs)\n"
     ]
    },
    {
     "name": "stdout",
     "output_type": "stream",
     "text": [
      "[CV 2/5] END criterion=friedman_mse, max_depth=3, min_samples_leaf=10, min_samples_split=5, n_estimators=100;, score=-20690095929940.281 total time=   0.1s\n"
     ]
    },
    {
     "name": "stderr",
     "output_type": "stream",
     "text": [
      "C:\\Users\\jb5983on\\AppData\\Local\\anaconda3\\envs\\polars\\Lib\\site-packages\\sklearn\\base.py:1473: DataConversionWarning: A column-vector y was passed when a 1d array was expected. Please change the shape of y to (n_samples,), for example using ravel().\n",
      "  return fit_method(estimator, *args, **kwargs)\n"
     ]
    },
    {
     "name": "stdout",
     "output_type": "stream",
     "text": [
      "[CV 3/5] END criterion=friedman_mse, max_depth=3, min_samples_leaf=10, min_samples_split=5, n_estimators=100;, score=-19367310830143.410 total time=   0.2s\n"
     ]
    },
    {
     "name": "stderr",
     "output_type": "stream",
     "text": [
      "C:\\Users\\jb5983on\\AppData\\Local\\anaconda3\\envs\\polars\\Lib\\site-packages\\sklearn\\base.py:1473: DataConversionWarning: A column-vector y was passed when a 1d array was expected. Please change the shape of y to (n_samples,), for example using ravel().\n",
      "  return fit_method(estimator, *args, **kwargs)\n"
     ]
    },
    {
     "name": "stdout",
     "output_type": "stream",
     "text": [
      "[CV 4/5] END criterion=friedman_mse, max_depth=3, min_samples_leaf=10, min_samples_split=5, n_estimators=100;, score=-19197393341159.953 total time=   0.1s\n",
      "[CV 5/5] END criterion=friedman_mse, max_depth=3, min_samples_leaf=10, min_samples_split=5, n_estimators=100;, score=-20498403037415.676 total time=   0.1s\n"
     ]
    },
    {
     "name": "stderr",
     "output_type": "stream",
     "text": [
      "C:\\Users\\jb5983on\\AppData\\Local\\anaconda3\\envs\\polars\\Lib\\site-packages\\sklearn\\base.py:1473: DataConversionWarning: A column-vector y was passed when a 1d array was expected. Please change the shape of y to (n_samples,), for example using ravel().\n",
      "  return fit_method(estimator, *args, **kwargs)\n",
      "C:\\Users\\jb5983on\\AppData\\Local\\anaconda3\\envs\\polars\\Lib\\site-packages\\sklearn\\base.py:1473: DataConversionWarning: A column-vector y was passed when a 1d array was expected. Please change the shape of y to (n_samples,), for example using ravel().\n",
      "  return fit_method(estimator, *args, **kwargs)\n"
     ]
    },
    {
     "name": "stdout",
     "output_type": "stream",
     "text": [
      "[CV 1/5] END criterion=friedman_mse, max_depth=3, min_samples_leaf=10, min_samples_split=10, n_estimators=10;, score=-17335157270575.184 total time=   0.0s\n",
      "[CV 2/5] END criterion=friedman_mse, max_depth=3, min_samples_leaf=10, min_samples_split=10, n_estimators=10;, score=-20603576959322.227 total time=   0.0s\n",
      "[CV 3/5] END criterion=friedman_mse, max_depth=3, min_samples_leaf=10, min_samples_split=10, n_estimators=10;, score=-19403407080874.066 total time=   0.0s\n",
      "[CV 4/5] END criterion=friedman_mse, max_depth=3, min_samples_leaf=10, min_samples_split=10, n_estimators=10;, score=-19186023280977.707 total time=   0.0s\n",
      "[CV 5/5] END criterion=friedman_mse, max_depth=3, min_samples_leaf=10, min_samples_split=10, n_estimators=10;, score=-20506609301142.723 total time=   0.0s\n"
     ]
    },
    {
     "name": "stderr",
     "output_type": "stream",
     "text": [
      "C:\\Users\\jb5983on\\AppData\\Local\\anaconda3\\envs\\polars\\Lib\\site-packages\\sklearn\\base.py:1473: DataConversionWarning: A column-vector y was passed when a 1d array was expected. Please change the shape of y to (n_samples,), for example using ravel().\n",
      "  return fit_method(estimator, *args, **kwargs)\n",
      "C:\\Users\\jb5983on\\AppData\\Local\\anaconda3\\envs\\polars\\Lib\\site-packages\\sklearn\\base.py:1473: DataConversionWarning: A column-vector y was passed when a 1d array was expected. Please change the shape of y to (n_samples,), for example using ravel().\n",
      "  return fit_method(estimator, *args, **kwargs)\n",
      "C:\\Users\\jb5983on\\AppData\\Local\\anaconda3\\envs\\polars\\Lib\\site-packages\\sklearn\\base.py:1473: DataConversionWarning: A column-vector y was passed when a 1d array was expected. Please change the shape of y to (n_samples,), for example using ravel().\n",
      "  return fit_method(estimator, *args, **kwargs)\n",
      "C:\\Users\\jb5983on\\AppData\\Local\\anaconda3\\envs\\polars\\Lib\\site-packages\\sklearn\\base.py:1473: DataConversionWarning: A column-vector y was passed when a 1d array was expected. Please change the shape of y to (n_samples,), for example using ravel().\n",
      "  return fit_method(estimator, *args, **kwargs)\n",
      "C:\\Users\\jb5983on\\AppData\\Local\\anaconda3\\envs\\polars\\Lib\\site-packages\\sklearn\\base.py:1473: DataConversionWarning: A column-vector y was passed when a 1d array was expected. Please change the shape of y to (n_samples,), for example using ravel().\n",
      "  return fit_method(estimator, *args, **kwargs)\n"
     ]
    },
    {
     "name": "stdout",
     "output_type": "stream",
     "text": [
      "[CV 1/5] END criterion=friedman_mse, max_depth=3, min_samples_leaf=10, min_samples_split=10, n_estimators=100;, score=-17373665208891.541 total time=   0.1s\n"
     ]
    },
    {
     "name": "stderr",
     "output_type": "stream",
     "text": [
      "C:\\Users\\jb5983on\\AppData\\Local\\anaconda3\\envs\\polars\\Lib\\site-packages\\sklearn\\base.py:1473: DataConversionWarning: A column-vector y was passed when a 1d array was expected. Please change the shape of y to (n_samples,), for example using ravel().\n",
      "  return fit_method(estimator, *args, **kwargs)\n"
     ]
    },
    {
     "name": "stdout",
     "output_type": "stream",
     "text": [
      "[CV 2/5] END criterion=friedman_mse, max_depth=3, min_samples_leaf=10, min_samples_split=10, n_estimators=100;, score=-20668081772666.656 total time=   0.2s\n"
     ]
    },
    {
     "name": "stderr",
     "output_type": "stream",
     "text": [
      "C:\\Users\\jb5983on\\AppData\\Local\\anaconda3\\envs\\polars\\Lib\\site-packages\\sklearn\\base.py:1473: DataConversionWarning: A column-vector y was passed when a 1d array was expected. Please change the shape of y to (n_samples,), for example using ravel().\n",
      "  return fit_method(estimator, *args, **kwargs)\n"
     ]
    },
    {
     "name": "stdout",
     "output_type": "stream",
     "text": [
      "[CV 3/5] END criterion=friedman_mse, max_depth=3, min_samples_leaf=10, min_samples_split=10, n_estimators=100;, score=-19383661281542.773 total time=   0.2s\n"
     ]
    },
    {
     "name": "stderr",
     "output_type": "stream",
     "text": [
      "C:\\Users\\jb5983on\\AppData\\Local\\anaconda3\\envs\\polars\\Lib\\site-packages\\sklearn\\base.py:1473: DataConversionWarning: A column-vector y was passed when a 1d array was expected. Please change the shape of y to (n_samples,), for example using ravel().\n",
      "  return fit_method(estimator, *args, **kwargs)\n"
     ]
    },
    {
     "name": "stdout",
     "output_type": "stream",
     "text": [
      "[CV 4/5] END criterion=friedman_mse, max_depth=3, min_samples_leaf=10, min_samples_split=10, n_estimators=100;, score=-19201610289055.074 total time=   0.2s\n"
     ]
    },
    {
     "name": "stderr",
     "output_type": "stream",
     "text": [
      "C:\\Users\\jb5983on\\AppData\\Local\\anaconda3\\envs\\polars\\Lib\\site-packages\\sklearn\\base.py:1473: DataConversionWarning: A column-vector y was passed when a 1d array was expected. Please change the shape of y to (n_samples,), for example using ravel().\n",
      "  return fit_method(estimator, *args, **kwargs)\n"
     ]
    },
    {
     "name": "stdout",
     "output_type": "stream",
     "text": [
      "[CV 5/5] END criterion=friedman_mse, max_depth=3, min_samples_leaf=10, min_samples_split=10, n_estimators=100;, score=-20445129128570.012 total time=   0.2s\n",
      "[CV 1/5] END criterion=friedman_mse, max_depth=4, min_samples_leaf=1, min_samples_split=1, n_estimators=10;, score=nan total time=   0.0s\n",
      "[CV 2/5] END criterion=friedman_mse, max_depth=4, min_samples_leaf=1, min_samples_split=1, n_estimators=10;, score=nan total time=   0.0s\n",
      "[CV 3/5] END criterion=friedman_mse, max_depth=4, min_samples_leaf=1, min_samples_split=1, n_estimators=10;, score=nan total time=   0.0s\n",
      "[CV 4/5] END criterion=friedman_mse, max_depth=4, min_samples_leaf=1, min_samples_split=1, n_estimators=10;, score=nan total time=   0.0s\n",
      "[CV 5/5] END criterion=friedman_mse, max_depth=4, min_samples_leaf=1, min_samples_split=1, n_estimators=10;, score=nan total time=   0.0s\n",
      "[CV 1/5] END criterion=friedman_mse, max_depth=4, min_samples_leaf=1, min_samples_split=1, n_estimators=100;, score=nan total time=   0.0s\n",
      "[CV 2/5] END criterion=friedman_mse, max_depth=4, min_samples_leaf=1, min_samples_split=1, n_estimators=100;, score=nan total time=   0.0s\n",
      "[CV 3/5] END criterion=friedman_mse, max_depth=4, min_samples_leaf=1, min_samples_split=1, n_estimators=100;, score=nan total time=   0.0s\n",
      "[CV 4/5] END criterion=friedman_mse, max_depth=4, min_samples_leaf=1, min_samples_split=1, n_estimators=100;, score=nan total time=   0.0s\n",
      "[CV 5/5] END criterion=friedman_mse, max_depth=4, min_samples_leaf=1, min_samples_split=1, n_estimators=100;, score=nan total time=   0.0s\n",
      "[CV 1/5] END criterion=friedman_mse, max_depth=4, min_samples_leaf=1, min_samples_split=5, n_estimators=10;, score=-17338546246034.430 total time=   0.0s\n",
      "[CV 2/5] END criterion=friedman_mse, max_depth=4, min_samples_leaf=1, min_samples_split=5, n_estimators=10;, score=-20744142444929.570 total time=   0.0s\n",
      "[CV 3/5] END criterion=friedman_mse, max_depth=4, min_samples_leaf=1, min_samples_split=5, n_estimators=10;, score=-19425659603601.484 total time=   0.0s\n",
      "[CV 4/5] END criterion=friedman_mse, max_depth=4, min_samples_leaf=1, min_samples_split=5, n_estimators=10;, score=-19153772695684.320 total time=   0.0s\n"
     ]
    },
    {
     "name": "stderr",
     "output_type": "stream",
     "text": [
      "C:\\Users\\jb5983on\\AppData\\Local\\anaconda3\\envs\\polars\\Lib\\site-packages\\sklearn\\base.py:1473: DataConversionWarning: A column-vector y was passed when a 1d array was expected. Please change the shape of y to (n_samples,), for example using ravel().\n",
      "  return fit_method(estimator, *args, **kwargs)\n",
      "C:\\Users\\jb5983on\\AppData\\Local\\anaconda3\\envs\\polars\\Lib\\site-packages\\sklearn\\base.py:1473: DataConversionWarning: A column-vector y was passed when a 1d array was expected. Please change the shape of y to (n_samples,), for example using ravel().\n",
      "  return fit_method(estimator, *args, **kwargs)\n",
      "C:\\Users\\jb5983on\\AppData\\Local\\anaconda3\\envs\\polars\\Lib\\site-packages\\sklearn\\base.py:1473: DataConversionWarning: A column-vector y was passed when a 1d array was expected. Please change the shape of y to (n_samples,), for example using ravel().\n",
      "  return fit_method(estimator, *args, **kwargs)\n",
      "C:\\Users\\jb5983on\\AppData\\Local\\anaconda3\\envs\\polars\\Lib\\site-packages\\sklearn\\base.py:1473: DataConversionWarning: A column-vector y was passed when a 1d array was expected. Please change the shape of y to (n_samples,), for example using ravel().\n",
      "  return fit_method(estimator, *args, **kwargs)\n",
      "C:\\Users\\jb5983on\\AppData\\Local\\anaconda3\\envs\\polars\\Lib\\site-packages\\sklearn\\base.py:1473: DataConversionWarning: A column-vector y was passed when a 1d array was expected. Please change the shape of y to (n_samples,), for example using ravel().\n",
      "  return fit_method(estimator, *args, **kwargs)\n",
      "C:\\Users\\jb5983on\\AppData\\Local\\anaconda3\\envs\\polars\\Lib\\site-packages\\sklearn\\base.py:1473: DataConversionWarning: A column-vector y was passed when a 1d array was expected. Please change the shape of y to (n_samples,), for example using ravel().\n",
      "  return fit_method(estimator, *args, **kwargs)\n"
     ]
    },
    {
     "name": "stdout",
     "output_type": "stream",
     "text": [
      "[CV 5/5] END criterion=friedman_mse, max_depth=4, min_samples_leaf=1, min_samples_split=5, n_estimators=10;, score=-20310507527722.457 total time=   0.0s\n",
      "[CV 1/5] END criterion=friedman_mse, max_depth=4, min_samples_leaf=1, min_samples_split=5, n_estimators=100;, score=-17340351316179.986 total time=   0.2s\n"
     ]
    },
    {
     "name": "stderr",
     "output_type": "stream",
     "text": [
      "C:\\Users\\jb5983on\\AppData\\Local\\anaconda3\\envs\\polars\\Lib\\site-packages\\sklearn\\base.py:1473: DataConversionWarning: A column-vector y was passed when a 1d array was expected. Please change the shape of y to (n_samples,), for example using ravel().\n",
      "  return fit_method(estimator, *args, **kwargs)\n"
     ]
    },
    {
     "name": "stdout",
     "output_type": "stream",
     "text": [
      "[CV 2/5] END criterion=friedman_mse, max_depth=4, min_samples_leaf=1, min_samples_split=5, n_estimators=100;, score=-20698831222013.801 total time=   0.2s\n"
     ]
    },
    {
     "name": "stderr",
     "output_type": "stream",
     "text": [
      "C:\\Users\\jb5983on\\AppData\\Local\\anaconda3\\envs\\polars\\Lib\\site-packages\\sklearn\\base.py:1473: DataConversionWarning: A column-vector y was passed when a 1d array was expected. Please change the shape of y to (n_samples,), for example using ravel().\n",
      "  return fit_method(estimator, *args, **kwargs)\n"
     ]
    },
    {
     "name": "stdout",
     "output_type": "stream",
     "text": [
      "[CV 3/5] END criterion=friedman_mse, max_depth=4, min_samples_leaf=1, min_samples_split=5, n_estimators=100;, score=-19376692039128.820 total time=   0.2s\n"
     ]
    },
    {
     "name": "stderr",
     "output_type": "stream",
     "text": [
      "C:\\Users\\jb5983on\\AppData\\Local\\anaconda3\\envs\\polars\\Lib\\site-packages\\sklearn\\base.py:1473: DataConversionWarning: A column-vector y was passed when a 1d array was expected. Please change the shape of y to (n_samples,), for example using ravel().\n",
      "  return fit_method(estimator, *args, **kwargs)\n"
     ]
    },
    {
     "name": "stdout",
     "output_type": "stream",
     "text": [
      "[CV 4/5] END criterion=friedman_mse, max_depth=4, min_samples_leaf=1, min_samples_split=5, n_estimators=100;, score=-19133806705815.953 total time=   0.2s\n"
     ]
    },
    {
     "name": "stderr",
     "output_type": "stream",
     "text": [
      "C:\\Users\\jb5983on\\AppData\\Local\\anaconda3\\envs\\polars\\Lib\\site-packages\\sklearn\\base.py:1473: DataConversionWarning: A column-vector y was passed when a 1d array was expected. Please change the shape of y to (n_samples,), for example using ravel().\n",
      "  return fit_method(estimator, *args, **kwargs)\n"
     ]
    },
    {
     "name": "stdout",
     "output_type": "stream",
     "text": [
      "[CV 5/5] END criterion=friedman_mse, max_depth=4, min_samples_leaf=1, min_samples_split=5, n_estimators=100;, score=-20402011899927.836 total time=   0.1s\n",
      "[CV 1/5] END criterion=friedman_mse, max_depth=4, min_samples_leaf=1, min_samples_split=10, n_estimators=10;, score=-17354516386068.082 total time=   0.0s\n",
      "[CV 2/5] END criterion=friedman_mse, max_depth=4, min_samples_leaf=1, min_samples_split=10, n_estimators=10;, score=-20769118167130.242 total time=   0.0s\n",
      "[CV 3/5] END criterion=friedman_mse, max_depth=4, min_samples_leaf=1, min_samples_split=10, n_estimators=10;, score=-19412435229941.637 total time=   0.0s\n",
      "[CV 4/5] END criterion=friedman_mse, max_depth=4, min_samples_leaf=1, min_samples_split=10, n_estimators=10;, score=-19171191135892.484 total time=   0.0s\n"
     ]
    },
    {
     "name": "stderr",
     "output_type": "stream",
     "text": [
      "C:\\Users\\jb5983on\\AppData\\Local\\anaconda3\\envs\\polars\\Lib\\site-packages\\sklearn\\base.py:1473: DataConversionWarning: A column-vector y was passed when a 1d array was expected. Please change the shape of y to (n_samples,), for example using ravel().\n",
      "  return fit_method(estimator, *args, **kwargs)\n",
      "C:\\Users\\jb5983on\\AppData\\Local\\anaconda3\\envs\\polars\\Lib\\site-packages\\sklearn\\base.py:1473: DataConversionWarning: A column-vector y was passed when a 1d array was expected. Please change the shape of y to (n_samples,), for example using ravel().\n",
      "  return fit_method(estimator, *args, **kwargs)\n",
      "C:\\Users\\jb5983on\\AppData\\Local\\anaconda3\\envs\\polars\\Lib\\site-packages\\sklearn\\base.py:1473: DataConversionWarning: A column-vector y was passed when a 1d array was expected. Please change the shape of y to (n_samples,), for example using ravel().\n",
      "  return fit_method(estimator, *args, **kwargs)\n",
      "C:\\Users\\jb5983on\\AppData\\Local\\anaconda3\\envs\\polars\\Lib\\site-packages\\sklearn\\base.py:1473: DataConversionWarning: A column-vector y was passed when a 1d array was expected. Please change the shape of y to (n_samples,), for example using ravel().\n",
      "  return fit_method(estimator, *args, **kwargs)\n",
      "C:\\Users\\jb5983on\\AppData\\Local\\anaconda3\\envs\\polars\\Lib\\site-packages\\sklearn\\base.py:1473: DataConversionWarning: A column-vector y was passed when a 1d array was expected. Please change the shape of y to (n_samples,), for example using ravel().\n",
      "  return fit_method(estimator, *args, **kwargs)\n"
     ]
    },
    {
     "name": "stdout",
     "output_type": "stream",
     "text": [
      "[CV 5/5] END criterion=friedman_mse, max_depth=4, min_samples_leaf=1, min_samples_split=10, n_estimators=10;, score=-20428139794875.215 total time=   0.0s\n"
     ]
    },
    {
     "name": "stderr",
     "output_type": "stream",
     "text": [
      "C:\\Users\\jb5983on\\AppData\\Local\\anaconda3\\envs\\polars\\Lib\\site-packages\\sklearn\\base.py:1473: DataConversionWarning: A column-vector y was passed when a 1d array was expected. Please change the shape of y to (n_samples,), for example using ravel().\n",
      "  return fit_method(estimator, *args, **kwargs)\n"
     ]
    },
    {
     "name": "stdout",
     "output_type": "stream",
     "text": [
      "[CV 1/5] END criterion=friedman_mse, max_depth=4, min_samples_leaf=1, min_samples_split=10, n_estimators=100;, score=-17333381049991.949 total time=   0.1s\n"
     ]
    },
    {
     "name": "stderr",
     "output_type": "stream",
     "text": [
      "C:\\Users\\jb5983on\\AppData\\Local\\anaconda3\\envs\\polars\\Lib\\site-packages\\sklearn\\base.py:1473: DataConversionWarning: A column-vector y was passed when a 1d array was expected. Please change the shape of y to (n_samples,), for example using ravel().\n",
      "  return fit_method(estimator, *args, **kwargs)\n"
     ]
    },
    {
     "name": "stdout",
     "output_type": "stream",
     "text": [
      "[CV 2/5] END criterion=friedman_mse, max_depth=4, min_samples_leaf=1, min_samples_split=10, n_estimators=100;, score=-20709177311222.484 total time=   0.2s\n"
     ]
    },
    {
     "name": "stderr",
     "output_type": "stream",
     "text": [
      "C:\\Users\\jb5983on\\AppData\\Local\\anaconda3\\envs\\polars\\Lib\\site-packages\\sklearn\\base.py:1473: DataConversionWarning: A column-vector y was passed when a 1d array was expected. Please change the shape of y to (n_samples,), for example using ravel().\n",
      "  return fit_method(estimator, *args, **kwargs)\n"
     ]
    },
    {
     "name": "stdout",
     "output_type": "stream",
     "text": [
      "[CV 3/5] END criterion=friedman_mse, max_depth=4, min_samples_leaf=1, min_samples_split=10, n_estimators=100;, score=-19386751799424.977 total time=   0.2s\n"
     ]
    },
    {
     "name": "stderr",
     "output_type": "stream",
     "text": [
      "C:\\Users\\jb5983on\\AppData\\Local\\anaconda3\\envs\\polars\\Lib\\site-packages\\sklearn\\base.py:1473: DataConversionWarning: A column-vector y was passed when a 1d array was expected. Please change the shape of y to (n_samples,), for example using ravel().\n",
      "  return fit_method(estimator, *args, **kwargs)\n"
     ]
    },
    {
     "name": "stdout",
     "output_type": "stream",
     "text": [
      "[CV 4/5] END criterion=friedman_mse, max_depth=4, min_samples_leaf=1, min_samples_split=10, n_estimators=100;, score=-19139227650827.465 total time=   0.3s\n"
     ]
    },
    {
     "name": "stderr",
     "output_type": "stream",
     "text": [
      "C:\\Users\\jb5983on\\AppData\\Local\\anaconda3\\envs\\polars\\Lib\\site-packages\\sklearn\\base.py:1473: DataConversionWarning: A column-vector y was passed when a 1d array was expected. Please change the shape of y to (n_samples,), for example using ravel().\n",
      "  return fit_method(estimator, *args, **kwargs)\n"
     ]
    },
    {
     "name": "stdout",
     "output_type": "stream",
     "text": [
      "[CV 5/5] END criterion=friedman_mse, max_depth=4, min_samples_leaf=1, min_samples_split=10, n_estimators=100;, score=-20342167932761.102 total time=   0.2s\n",
      "[CV 1/5] END criterion=friedman_mse, max_depth=4, min_samples_leaf=5, min_samples_split=1, n_estimators=10;, score=nan total time=   0.0s\n",
      "[CV 2/5] END criterion=friedman_mse, max_depth=4, min_samples_leaf=5, min_samples_split=1, n_estimators=10;, score=nan total time=   0.0s\n",
      "[CV 3/5] END criterion=friedman_mse, max_depth=4, min_samples_leaf=5, min_samples_split=1, n_estimators=10;, score=nan total time=   0.0s\n",
      "[CV 4/5] END criterion=friedman_mse, max_depth=4, min_samples_leaf=5, min_samples_split=1, n_estimators=10;, score=nan total time=   0.0s\n",
      "[CV 5/5] END criterion=friedman_mse, max_depth=4, min_samples_leaf=5, min_samples_split=1, n_estimators=10;, score=nan total time=   0.0s\n",
      "[CV 1/5] END criterion=friedman_mse, max_depth=4, min_samples_leaf=5, min_samples_split=1, n_estimators=100;, score=nan total time=   0.0s\n",
      "[CV 2/5] END criterion=friedman_mse, max_depth=4, min_samples_leaf=5, min_samples_split=1, n_estimators=100;, score=nan total time=   0.0s\n",
      "[CV 3/5] END criterion=friedman_mse, max_depth=4, min_samples_leaf=5, min_samples_split=1, n_estimators=100;, score=nan total time=   0.0s\n",
      "[CV 4/5] END criterion=friedman_mse, max_depth=4, min_samples_leaf=5, min_samples_split=1, n_estimators=100;, score=nan total time=   0.0s\n",
      "[CV 5/5] END criterion=friedman_mse, max_depth=4, min_samples_leaf=5, min_samples_split=1, n_estimators=100;, score=nan total time=   0.0s\n",
      "[CV 1/5] END criterion=friedman_mse, max_depth=4, min_samples_leaf=5, min_samples_split=5, n_estimators=10;, score=-17392732051999.512 total time=   0.0s\n",
      "[CV 2/5] END criterion=friedman_mse, max_depth=4, min_samples_leaf=5, min_samples_split=5, n_estimators=10;, score=-20663688423673.184 total time=   0.0s\n",
      "[CV 3/5] END criterion=friedman_mse, max_depth=4, min_samples_leaf=5, min_samples_split=5, n_estimators=10;, score=-19457696658577.730 total time=   0.0s\n"
     ]
    },
    {
     "name": "stderr",
     "output_type": "stream",
     "text": [
      "C:\\Users\\jb5983on\\AppData\\Local\\anaconda3\\envs\\polars\\Lib\\site-packages\\sklearn\\base.py:1473: DataConversionWarning: A column-vector y was passed when a 1d array was expected. Please change the shape of y to (n_samples,), for example using ravel().\n",
      "  return fit_method(estimator, *args, **kwargs)\n",
      "C:\\Users\\jb5983on\\AppData\\Local\\anaconda3\\envs\\polars\\Lib\\site-packages\\sklearn\\base.py:1473: DataConversionWarning: A column-vector y was passed when a 1d array was expected. Please change the shape of y to (n_samples,), for example using ravel().\n",
      "  return fit_method(estimator, *args, **kwargs)\n",
      "C:\\Users\\jb5983on\\AppData\\Local\\anaconda3\\envs\\polars\\Lib\\site-packages\\sklearn\\base.py:1473: DataConversionWarning: A column-vector y was passed when a 1d array was expected. Please change the shape of y to (n_samples,), for example using ravel().\n",
      "  return fit_method(estimator, *args, **kwargs)\n",
      "C:\\Users\\jb5983on\\AppData\\Local\\anaconda3\\envs\\polars\\Lib\\site-packages\\sklearn\\base.py:1473: DataConversionWarning: A column-vector y was passed when a 1d array was expected. Please change the shape of y to (n_samples,), for example using ravel().\n",
      "  return fit_method(estimator, *args, **kwargs)\n",
      "C:\\Users\\jb5983on\\AppData\\Local\\anaconda3\\envs\\polars\\Lib\\site-packages\\sklearn\\base.py:1473: DataConversionWarning: A column-vector y was passed when a 1d array was expected. Please change the shape of y to (n_samples,), for example using ravel().\n",
      "  return fit_method(estimator, *args, **kwargs)\n"
     ]
    },
    {
     "name": "stdout",
     "output_type": "stream",
     "text": [
      "[CV 4/5] END criterion=friedman_mse, max_depth=4, min_samples_leaf=5, min_samples_split=5, n_estimators=10;, score=-19085276056525.301 total time=   0.0s\n",
      "[CV 5/5] END criterion=friedman_mse, max_depth=4, min_samples_leaf=5, min_samples_split=5, n_estimators=10;, score=-20441893752771.738 total time=   0.0s\n"
     ]
    },
    {
     "name": "stderr",
     "output_type": "stream",
     "text": [
      "C:\\Users\\jb5983on\\AppData\\Local\\anaconda3\\envs\\polars\\Lib\\site-packages\\sklearn\\base.py:1473: DataConversionWarning: A column-vector y was passed when a 1d array was expected. Please change the shape of y to (n_samples,), for example using ravel().\n",
      "  return fit_method(estimator, *args, **kwargs)\n"
     ]
    },
    {
     "name": "stdout",
     "output_type": "stream",
     "text": [
      "[CV 1/5] END criterion=friedman_mse, max_depth=4, min_samples_leaf=5, min_samples_split=5, n_estimators=100;, score=-17302504470226.947 total time=   0.2s\n"
     ]
    },
    {
     "name": "stderr",
     "output_type": "stream",
     "text": [
      "C:\\Users\\jb5983on\\AppData\\Local\\anaconda3\\envs\\polars\\Lib\\site-packages\\sklearn\\base.py:1473: DataConversionWarning: A column-vector y was passed when a 1d array was expected. Please change the shape of y to (n_samples,), for example using ravel().\n",
      "  return fit_method(estimator, *args, **kwargs)\n"
     ]
    },
    {
     "name": "stdout",
     "output_type": "stream",
     "text": [
      "[CV 2/5] END criterion=friedman_mse, max_depth=4, min_samples_leaf=5, min_samples_split=5, n_estimators=100;, score=-20691160136355.785 total time=   0.2s\n"
     ]
    },
    {
     "name": "stderr",
     "output_type": "stream",
     "text": [
      "C:\\Users\\jb5983on\\AppData\\Local\\anaconda3\\envs\\polars\\Lib\\site-packages\\sklearn\\base.py:1473: DataConversionWarning: A column-vector y was passed when a 1d array was expected. Please change the shape of y to (n_samples,), for example using ravel().\n",
      "  return fit_method(estimator, *args, **kwargs)\n"
     ]
    },
    {
     "name": "stdout",
     "output_type": "stream",
     "text": [
      "[CV 3/5] END criterion=friedman_mse, max_depth=4, min_samples_leaf=5, min_samples_split=5, n_estimators=100;, score=-19388905082488.973 total time=   0.2s\n"
     ]
    },
    {
     "name": "stderr",
     "output_type": "stream",
     "text": [
      "C:\\Users\\jb5983on\\AppData\\Local\\anaconda3\\envs\\polars\\Lib\\site-packages\\sklearn\\base.py:1473: DataConversionWarning: A column-vector y was passed when a 1d array was expected. Please change the shape of y to (n_samples,), for example using ravel().\n",
      "  return fit_method(estimator, *args, **kwargs)\n"
     ]
    },
    {
     "name": "stdout",
     "output_type": "stream",
     "text": [
      "[CV 4/5] END criterion=friedman_mse, max_depth=4, min_samples_leaf=5, min_samples_split=5, n_estimators=100;, score=-19142391653556.066 total time=   0.2s\n"
     ]
    },
    {
     "name": "stderr",
     "output_type": "stream",
     "text": [
      "C:\\Users\\jb5983on\\AppData\\Local\\anaconda3\\envs\\polars\\Lib\\site-packages\\sklearn\\base.py:1473: DataConversionWarning: A column-vector y was passed when a 1d array was expected. Please change the shape of y to (n_samples,), for example using ravel().\n",
      "  return fit_method(estimator, *args, **kwargs)\n"
     ]
    },
    {
     "name": "stdout",
     "output_type": "stream",
     "text": [
      "[CV 5/5] END criterion=friedman_mse, max_depth=4, min_samples_leaf=5, min_samples_split=5, n_estimators=100;, score=-20376553175363.867 total time=   0.2s\n",
      "[CV 1/5] END criterion=friedman_mse, max_depth=4, min_samples_leaf=5, min_samples_split=10, n_estimators=10;, score=-17315849487841.846 total time=   0.0s\n",
      "[CV 2/5] END criterion=friedman_mse, max_depth=4, min_samples_leaf=5, min_samples_split=10, n_estimators=10;, score=-20718392497498.168 total time=   0.0s\n",
      "[CV 3/5] END criterion=friedman_mse, max_depth=4, min_samples_leaf=5, min_samples_split=10, n_estimators=10;, score=-19393713307694.785 total time=   0.0s\n",
      "[CV 4/5] END criterion=friedman_mse, max_depth=4, min_samples_leaf=5, min_samples_split=10, n_estimators=10;, score=-19123169191656.137 total time=   0.0s\n",
      "[CV 5/5] END criterion=friedman_mse, max_depth=4, min_samples_leaf=5, min_samples_split=10, n_estimators=10;, score=-20396572757507.840 total time=   0.0s\n"
     ]
    },
    {
     "name": "stderr",
     "output_type": "stream",
     "text": [
      "C:\\Users\\jb5983on\\AppData\\Local\\anaconda3\\envs\\polars\\Lib\\site-packages\\sklearn\\base.py:1473: DataConversionWarning: A column-vector y was passed when a 1d array was expected. Please change the shape of y to (n_samples,), for example using ravel().\n",
      "  return fit_method(estimator, *args, **kwargs)\n",
      "C:\\Users\\jb5983on\\AppData\\Local\\anaconda3\\envs\\polars\\Lib\\site-packages\\sklearn\\base.py:1473: DataConversionWarning: A column-vector y was passed when a 1d array was expected. Please change the shape of y to (n_samples,), for example using ravel().\n",
      "  return fit_method(estimator, *args, **kwargs)\n",
      "C:\\Users\\jb5983on\\AppData\\Local\\anaconda3\\envs\\polars\\Lib\\site-packages\\sklearn\\base.py:1473: DataConversionWarning: A column-vector y was passed when a 1d array was expected. Please change the shape of y to (n_samples,), for example using ravel().\n",
      "  return fit_method(estimator, *args, **kwargs)\n",
      "C:\\Users\\jb5983on\\AppData\\Local\\anaconda3\\envs\\polars\\Lib\\site-packages\\sklearn\\base.py:1473: DataConversionWarning: A column-vector y was passed when a 1d array was expected. Please change the shape of y to (n_samples,), for example using ravel().\n",
      "  return fit_method(estimator, *args, **kwargs)\n",
      "C:\\Users\\jb5983on\\AppData\\Local\\anaconda3\\envs\\polars\\Lib\\site-packages\\sklearn\\base.py:1473: DataConversionWarning: A column-vector y was passed when a 1d array was expected. Please change the shape of y to (n_samples,), for example using ravel().\n",
      "  return fit_method(estimator, *args, **kwargs)\n",
      "C:\\Users\\jb5983on\\AppData\\Local\\anaconda3\\envs\\polars\\Lib\\site-packages\\sklearn\\base.py:1473: DataConversionWarning: A column-vector y was passed when a 1d array was expected. Please change the shape of y to (n_samples,), for example using ravel().\n",
      "  return fit_method(estimator, *args, **kwargs)\n"
     ]
    },
    {
     "name": "stdout",
     "output_type": "stream",
     "text": [
      "[CV 1/5] END criterion=friedman_mse, max_depth=4, min_samples_leaf=5, min_samples_split=10, n_estimators=100;, score=-17332449636018.375 total time=   0.1s\n"
     ]
    },
    {
     "name": "stderr",
     "output_type": "stream",
     "text": [
      "C:\\Users\\jb5983on\\AppData\\Local\\anaconda3\\envs\\polars\\Lib\\site-packages\\sklearn\\base.py:1473: DataConversionWarning: A column-vector y was passed when a 1d array was expected. Please change the shape of y to (n_samples,), for example using ravel().\n",
      "  return fit_method(estimator, *args, **kwargs)\n"
     ]
    },
    {
     "name": "stdout",
     "output_type": "stream",
     "text": [
      "[CV 2/5] END criterion=friedman_mse, max_depth=4, min_samples_leaf=5, min_samples_split=10, n_estimators=100;, score=-20687662469950.000 total time=   0.2s\n",
      "[CV 3/5] END criterion=friedman_mse, max_depth=4, min_samples_leaf=5, min_samples_split=10, n_estimators=100;, score=-19383731317344.734 total time=   0.1s\n"
     ]
    },
    {
     "name": "stderr",
     "output_type": "stream",
     "text": [
      "C:\\Users\\jb5983on\\AppData\\Local\\anaconda3\\envs\\polars\\Lib\\site-packages\\sklearn\\base.py:1473: DataConversionWarning: A column-vector y was passed when a 1d array was expected. Please change the shape of y to (n_samples,), for example using ravel().\n",
      "  return fit_method(estimator, *args, **kwargs)\n",
      "C:\\Users\\jb5983on\\AppData\\Local\\anaconda3\\envs\\polars\\Lib\\site-packages\\sklearn\\base.py:1473: DataConversionWarning: A column-vector y was passed when a 1d array was expected. Please change the shape of y to (n_samples,), for example using ravel().\n",
      "  return fit_method(estimator, *args, **kwargs)\n"
     ]
    },
    {
     "name": "stdout",
     "output_type": "stream",
     "text": [
      "[CV 4/5] END criterion=friedman_mse, max_depth=4, min_samples_leaf=5, min_samples_split=10, n_estimators=100;, score=-19123570958388.676 total time=   0.1s\n",
      "[CV 5/5] END criterion=friedman_mse, max_depth=4, min_samples_leaf=5, min_samples_split=10, n_estimators=100;, score=-20357500356331.402 total time=   0.1s\n",
      "[CV 1/5] END criterion=friedman_mse, max_depth=4, min_samples_leaf=10, min_samples_split=1, n_estimators=10;, score=nan total time=   0.0s\n"
     ]
    },
    {
     "name": "stderr",
     "output_type": "stream",
     "text": [
      "C:\\Users\\jb5983on\\AppData\\Local\\anaconda3\\envs\\polars\\Lib\\site-packages\\sklearn\\base.py:1473: DataConversionWarning: A column-vector y was passed when a 1d array was expected. Please change the shape of y to (n_samples,), for example using ravel().\n",
      "  return fit_method(estimator, *args, **kwargs)\n"
     ]
    },
    {
     "name": "stdout",
     "output_type": "stream",
     "text": [
      "[CV 2/5] END criterion=friedman_mse, max_depth=4, min_samples_leaf=10, min_samples_split=1, n_estimators=10;, score=nan total time=   0.0s\n",
      "[CV 3/5] END criterion=friedman_mse, max_depth=4, min_samples_leaf=10, min_samples_split=1, n_estimators=10;, score=nan total time=   0.0s\n",
      "[CV 4/5] END criterion=friedman_mse, max_depth=4, min_samples_leaf=10, min_samples_split=1, n_estimators=10;, score=nan total time=   0.0s\n",
      "[CV 5/5] END criterion=friedman_mse, max_depth=4, min_samples_leaf=10, min_samples_split=1, n_estimators=10;, score=nan total time=   0.0s\n",
      "[CV 1/5] END criterion=friedman_mse, max_depth=4, min_samples_leaf=10, min_samples_split=1, n_estimators=100;, score=nan total time=   0.0s\n",
      "[CV 2/5] END criterion=friedman_mse, max_depth=4, min_samples_leaf=10, min_samples_split=1, n_estimators=100;, score=nan total time=   0.0s\n",
      "[CV 3/5] END criterion=friedman_mse, max_depth=4, min_samples_leaf=10, min_samples_split=1, n_estimators=100;, score=nan total time=   0.0s\n",
      "[CV 4/5] END criterion=friedman_mse, max_depth=4, min_samples_leaf=10, min_samples_split=1, n_estimators=100;, score=nan total time=   0.0s\n",
      "[CV 5/5] END criterion=friedman_mse, max_depth=4, min_samples_leaf=10, min_samples_split=1, n_estimators=100;, score=nan total time=   0.0s\n",
      "[CV 1/5] END criterion=friedman_mse, max_depth=4, min_samples_leaf=10, min_samples_split=5, n_estimators=10;, score=-17310689017980.623 total time=   0.0s\n",
      "[CV 2/5] END criterion=friedman_mse, max_depth=4, min_samples_leaf=10, min_samples_split=5, n_estimators=10;, score=-20701852640166.715 total time=   0.0s\n",
      "[CV 3/5] END criterion=friedman_mse, max_depth=4, min_samples_leaf=10, min_samples_split=5, n_estimators=10;, score=-19346411979289.816 total time=   0.0s\n"
     ]
    },
    {
     "name": "stderr",
     "output_type": "stream",
     "text": [
      "C:\\Users\\jb5983on\\AppData\\Local\\anaconda3\\envs\\polars\\Lib\\site-packages\\sklearn\\base.py:1473: DataConversionWarning: A column-vector y was passed when a 1d array was expected. Please change the shape of y to (n_samples,), for example using ravel().\n",
      "  return fit_method(estimator, *args, **kwargs)\n",
      "C:\\Users\\jb5983on\\AppData\\Local\\anaconda3\\envs\\polars\\Lib\\site-packages\\sklearn\\base.py:1473: DataConversionWarning: A column-vector y was passed when a 1d array was expected. Please change the shape of y to (n_samples,), for example using ravel().\n",
      "  return fit_method(estimator, *args, **kwargs)\n",
      "C:\\Users\\jb5983on\\AppData\\Local\\anaconda3\\envs\\polars\\Lib\\site-packages\\sklearn\\base.py:1473: DataConversionWarning: A column-vector y was passed when a 1d array was expected. Please change the shape of y to (n_samples,), for example using ravel().\n",
      "  return fit_method(estimator, *args, **kwargs)\n",
      "C:\\Users\\jb5983on\\AppData\\Local\\anaconda3\\envs\\polars\\Lib\\site-packages\\sklearn\\base.py:1473: DataConversionWarning: A column-vector y was passed when a 1d array was expected. Please change the shape of y to (n_samples,), for example using ravel().\n",
      "  return fit_method(estimator, *args, **kwargs)\n",
      "C:\\Users\\jb5983on\\AppData\\Local\\anaconda3\\envs\\polars\\Lib\\site-packages\\sklearn\\base.py:1473: DataConversionWarning: A column-vector y was passed when a 1d array was expected. Please change the shape of y to (n_samples,), for example using ravel().\n",
      "  return fit_method(estimator, *args, **kwargs)\n"
     ]
    },
    {
     "name": "stdout",
     "output_type": "stream",
     "text": [
      "[CV 4/5] END criterion=friedman_mse, max_depth=4, min_samples_leaf=10, min_samples_split=5, n_estimators=10;, score=-19236818485661.938 total time=   0.0s\n",
      "[CV 5/5] END criterion=friedman_mse, max_depth=4, min_samples_leaf=10, min_samples_split=5, n_estimators=10;, score=-20385691278468.461 total time=   0.0s\n"
     ]
    },
    {
     "name": "stderr",
     "output_type": "stream",
     "text": [
      "C:\\Users\\jb5983on\\AppData\\Local\\anaconda3\\envs\\polars\\Lib\\site-packages\\sklearn\\base.py:1473: DataConversionWarning: A column-vector y was passed when a 1d array was expected. Please change the shape of y to (n_samples,), for example using ravel().\n",
      "  return fit_method(estimator, *args, **kwargs)\n"
     ]
    },
    {
     "name": "stdout",
     "output_type": "stream",
     "text": [
      "[CV 1/5] END criterion=friedman_mse, max_depth=4, min_samples_leaf=10, min_samples_split=5, n_estimators=100;, score=-17320340601609.518 total time=   0.2s\n"
     ]
    },
    {
     "name": "stderr",
     "output_type": "stream",
     "text": [
      "C:\\Users\\jb5983on\\AppData\\Local\\anaconda3\\envs\\polars\\Lib\\site-packages\\sklearn\\base.py:1473: DataConversionWarning: A column-vector y was passed when a 1d array was expected. Please change the shape of y to (n_samples,), for example using ravel().\n",
      "  return fit_method(estimator, *args, **kwargs)\n"
     ]
    },
    {
     "name": "stdout",
     "output_type": "stream",
     "text": [
      "[CV 2/5] END criterion=friedman_mse, max_depth=4, min_samples_leaf=10, min_samples_split=5, n_estimators=100;, score=-20701903645393.309 total time=   0.2s\n"
     ]
    },
    {
     "name": "stderr",
     "output_type": "stream",
     "text": [
      "C:\\Users\\jb5983on\\AppData\\Local\\anaconda3\\envs\\polars\\Lib\\site-packages\\sklearn\\base.py:1473: DataConversionWarning: A column-vector y was passed when a 1d array was expected. Please change the shape of y to (n_samples,), for example using ravel().\n",
      "  return fit_method(estimator, *args, **kwargs)\n"
     ]
    },
    {
     "name": "stdout",
     "output_type": "stream",
     "text": [
      "[CV 3/5] END criterion=friedman_mse, max_depth=4, min_samples_leaf=10, min_samples_split=5, n_estimators=100;, score=-19394677547995.902 total time=   0.1s\n"
     ]
    },
    {
     "name": "stderr",
     "output_type": "stream",
     "text": [
      "C:\\Users\\jb5983on\\AppData\\Local\\anaconda3\\envs\\polars\\Lib\\site-packages\\sklearn\\base.py:1473: DataConversionWarning: A column-vector y was passed when a 1d array was expected. Please change the shape of y to (n_samples,), for example using ravel().\n",
      "  return fit_method(estimator, *args, **kwargs)\n"
     ]
    },
    {
     "name": "stdout",
     "output_type": "stream",
     "text": [
      "[CV 4/5] END criterion=friedman_mse, max_depth=4, min_samples_leaf=10, min_samples_split=5, n_estimators=100;, score=-19149748585671.727 total time=   0.2s\n"
     ]
    },
    {
     "name": "stderr",
     "output_type": "stream",
     "text": [
      "C:\\Users\\jb5983on\\AppData\\Local\\anaconda3\\envs\\polars\\Lib\\site-packages\\sklearn\\base.py:1473: DataConversionWarning: A column-vector y was passed when a 1d array was expected. Please change the shape of y to (n_samples,), for example using ravel().\n",
      "  return fit_method(estimator, *args, **kwargs)\n"
     ]
    },
    {
     "name": "stdout",
     "output_type": "stream",
     "text": [
      "[CV 5/5] END criterion=friedman_mse, max_depth=4, min_samples_leaf=10, min_samples_split=5, n_estimators=100;, score=-20375291785366.488 total time=   0.2s\n",
      "[CV 1/5] END criterion=friedman_mse, max_depth=4, min_samples_leaf=10, min_samples_split=10, n_estimators=10;, score=-17351864553351.045 total time=   0.0s\n",
      "[CV 2/5] END criterion=friedman_mse, max_depth=4, min_samples_leaf=10, min_samples_split=10, n_estimators=10;, score=-20669418486615.715 total time=   0.0s\n",
      "[CV 3/5] END criterion=friedman_mse, max_depth=4, min_samples_leaf=10, min_samples_split=10, n_estimators=10;, score=-19431299249286.035 total time=   0.0s\n",
      "[CV 4/5] END criterion=friedman_mse, max_depth=4, min_samples_leaf=10, min_samples_split=10, n_estimators=10;, score=-19100068087557.898 total time=   0.0s\n",
      "[CV 5/5] END criterion=friedman_mse, max_depth=4, min_samples_leaf=10, min_samples_split=10, n_estimators=10;, score=-20405360221114.309 total time=   0.0s\n"
     ]
    },
    {
     "name": "stderr",
     "output_type": "stream",
     "text": [
      "C:\\Users\\jb5983on\\AppData\\Local\\anaconda3\\envs\\polars\\Lib\\site-packages\\sklearn\\base.py:1473: DataConversionWarning: A column-vector y was passed when a 1d array was expected. Please change the shape of y to (n_samples,), for example using ravel().\n",
      "  return fit_method(estimator, *args, **kwargs)\n",
      "C:\\Users\\jb5983on\\AppData\\Local\\anaconda3\\envs\\polars\\Lib\\site-packages\\sklearn\\base.py:1473: DataConversionWarning: A column-vector y was passed when a 1d array was expected. Please change the shape of y to (n_samples,), for example using ravel().\n",
      "  return fit_method(estimator, *args, **kwargs)\n",
      "C:\\Users\\jb5983on\\AppData\\Local\\anaconda3\\envs\\polars\\Lib\\site-packages\\sklearn\\base.py:1473: DataConversionWarning: A column-vector y was passed when a 1d array was expected. Please change the shape of y to (n_samples,), for example using ravel().\n",
      "  return fit_method(estimator, *args, **kwargs)\n",
      "C:\\Users\\jb5983on\\AppData\\Local\\anaconda3\\envs\\polars\\Lib\\site-packages\\sklearn\\base.py:1473: DataConversionWarning: A column-vector y was passed when a 1d array was expected. Please change the shape of y to (n_samples,), for example using ravel().\n",
      "  return fit_method(estimator, *args, **kwargs)\n",
      "C:\\Users\\jb5983on\\AppData\\Local\\anaconda3\\envs\\polars\\Lib\\site-packages\\sklearn\\base.py:1473: DataConversionWarning: A column-vector y was passed when a 1d array was expected. Please change the shape of y to (n_samples,), for example using ravel().\n",
      "  return fit_method(estimator, *args, **kwargs)\n",
      "C:\\Users\\jb5983on\\AppData\\Local\\anaconda3\\envs\\polars\\Lib\\site-packages\\sklearn\\base.py:1473: DataConversionWarning: A column-vector y was passed when a 1d array was expected. Please change the shape of y to (n_samples,), for example using ravel().\n",
      "  return fit_method(estimator, *args, **kwargs)\n"
     ]
    },
    {
     "name": "stdout",
     "output_type": "stream",
     "text": [
      "[CV 1/5] END criterion=friedman_mse, max_depth=4, min_samples_leaf=10, min_samples_split=10, n_estimators=100;, score=-17330476012251.787 total time=   0.2s\n"
     ]
    },
    {
     "name": "stderr",
     "output_type": "stream",
     "text": [
      "C:\\Users\\jb5983on\\AppData\\Local\\anaconda3\\envs\\polars\\Lib\\site-packages\\sklearn\\base.py:1473: DataConversionWarning: A column-vector y was passed when a 1d array was expected. Please change the shape of y to (n_samples,), for example using ravel().\n",
      "  return fit_method(estimator, *args, **kwargs)\n"
     ]
    },
    {
     "name": "stdout",
     "output_type": "stream",
     "text": [
      "[CV 2/5] END criterion=friedman_mse, max_depth=4, min_samples_leaf=10, min_samples_split=10, n_estimators=100;, score=-20712130705225.832 total time=   0.2s\n"
     ]
    },
    {
     "name": "stderr",
     "output_type": "stream",
     "text": [
      "C:\\Users\\jb5983on\\AppData\\Local\\anaconda3\\envs\\polars\\Lib\\site-packages\\sklearn\\base.py:1473: DataConversionWarning: A column-vector y was passed when a 1d array was expected. Please change the shape of y to (n_samples,), for example using ravel().\n",
      "  return fit_method(estimator, *args, **kwargs)\n"
     ]
    },
    {
     "name": "stdout",
     "output_type": "stream",
     "text": [
      "[CV 3/5] END criterion=friedman_mse, max_depth=4, min_samples_leaf=10, min_samples_split=10, n_estimators=100;, score=-19357144021675.141 total time=   0.2s\n",
      "[CV 4/5] END criterion=friedman_mse, max_depth=4, min_samples_leaf=10, min_samples_split=10, n_estimators=100;, score=-19154973672789.660 total time=   0.1s\n"
     ]
    },
    {
     "name": "stderr",
     "output_type": "stream",
     "text": [
      "C:\\Users\\jb5983on\\AppData\\Local\\anaconda3\\envs\\polars\\Lib\\site-packages\\sklearn\\base.py:1473: DataConversionWarning: A column-vector y was passed when a 1d array was expected. Please change the shape of y to (n_samples,), for example using ravel().\n",
      "  return fit_method(estimator, *args, **kwargs)\n",
      "C:\\Users\\jb5983on\\AppData\\Local\\anaconda3\\envs\\polars\\Lib\\site-packages\\sklearn\\base.py:1473: DataConversionWarning: A column-vector y was passed when a 1d array was expected. Please change the shape of y to (n_samples,), for example using ravel().\n",
      "  return fit_method(estimator, *args, **kwargs)\n"
     ]
    },
    {
     "name": "stdout",
     "output_type": "stream",
     "text": [
      "[CV 5/5] END criterion=friedman_mse, max_depth=4, min_samples_leaf=10, min_samples_split=10, n_estimators=100;, score=-20379172192775.129 total time=   0.2s\n",
      "[CV 1/5] END criterion=friedman_mse, max_depth=5, min_samples_leaf=1, min_samples_split=1, n_estimators=10;, score=nan total time=   0.0s\n",
      "[CV 2/5] END criterion=friedman_mse, max_depth=5, min_samples_leaf=1, min_samples_split=1, n_estimators=10;, score=nan total time=   0.0s\n",
      "[CV 3/5] END criterion=friedman_mse, max_depth=5, min_samples_leaf=1, min_samples_split=1, n_estimators=10;, score=nan total time=   0.0s\n",
      "[CV 4/5] END criterion=friedman_mse, max_depth=5, min_samples_leaf=1, min_samples_split=1, n_estimators=10;, score=nan total time=   0.0s\n",
      "[CV 5/5] END criterion=friedman_mse, max_depth=5, min_samples_leaf=1, min_samples_split=1, n_estimators=10;, score=nan total time=   0.0s\n",
      "[CV 1/5] END criterion=friedman_mse, max_depth=5, min_samples_leaf=1, min_samples_split=1, n_estimators=100;, score=nan total time=   0.0s\n",
      "[CV 2/5] END criterion=friedman_mse, max_depth=5, min_samples_leaf=1, min_samples_split=1, n_estimators=100;, score=nan total time=   0.0s\n",
      "[CV 3/5] END criterion=friedman_mse, max_depth=5, min_samples_leaf=1, min_samples_split=1, n_estimators=100;, score=nan total time=   0.0s\n",
      "[CV 4/5] END criterion=friedman_mse, max_depth=5, min_samples_leaf=1, min_samples_split=1, n_estimators=100;, score=nan total time=   0.0s\n",
      "[CV 5/5] END criterion=friedman_mse, max_depth=5, min_samples_leaf=1, min_samples_split=1, n_estimators=100;, score=nan total time=   0.0s\n",
      "[CV 1/5] END criterion=friedman_mse, max_depth=5, min_samples_leaf=1, min_samples_split=5, n_estimators=10;, score=-17459322484822.637 total time=   0.0s\n",
      "[CV 2/5] END criterion=friedman_mse, max_depth=5, min_samples_leaf=1, min_samples_split=5, n_estimators=10;, score=-20783425832997.973 total time=   0.0s\n",
      "[CV 3/5] END criterion=friedman_mse, max_depth=5, min_samples_leaf=1, min_samples_split=5, n_estimators=10;, score=-19512327766516.414 total time=   0.0s\n",
      "[CV 4/5] END criterion=friedman_mse, max_depth=5, min_samples_leaf=1, min_samples_split=5, n_estimators=10;, score=-19224654121487.512 total time=   0.0s\n"
     ]
    },
    {
     "name": "stderr",
     "output_type": "stream",
     "text": [
      "C:\\Users\\jb5983on\\AppData\\Local\\anaconda3\\envs\\polars\\Lib\\site-packages\\sklearn\\base.py:1473: DataConversionWarning: A column-vector y was passed when a 1d array was expected. Please change the shape of y to (n_samples,), for example using ravel().\n",
      "  return fit_method(estimator, *args, **kwargs)\n",
      "C:\\Users\\jb5983on\\AppData\\Local\\anaconda3\\envs\\polars\\Lib\\site-packages\\sklearn\\base.py:1473: DataConversionWarning: A column-vector y was passed when a 1d array was expected. Please change the shape of y to (n_samples,), for example using ravel().\n",
      "  return fit_method(estimator, *args, **kwargs)\n",
      "C:\\Users\\jb5983on\\AppData\\Local\\anaconda3\\envs\\polars\\Lib\\site-packages\\sklearn\\base.py:1473: DataConversionWarning: A column-vector y was passed when a 1d array was expected. Please change the shape of y to (n_samples,), for example using ravel().\n",
      "  return fit_method(estimator, *args, **kwargs)\n",
      "C:\\Users\\jb5983on\\AppData\\Local\\anaconda3\\envs\\polars\\Lib\\site-packages\\sklearn\\base.py:1473: DataConversionWarning: A column-vector y was passed when a 1d array was expected. Please change the shape of y to (n_samples,), for example using ravel().\n",
      "  return fit_method(estimator, *args, **kwargs)\n",
      "C:\\Users\\jb5983on\\AppData\\Local\\anaconda3\\envs\\polars\\Lib\\site-packages\\sklearn\\base.py:1473: DataConversionWarning: A column-vector y was passed when a 1d array was expected. Please change the shape of y to (n_samples,), for example using ravel().\n",
      "  return fit_method(estimator, *args, **kwargs)\n"
     ]
    },
    {
     "name": "stdout",
     "output_type": "stream",
     "text": [
      "[CV 5/5] END criterion=friedman_mse, max_depth=5, min_samples_leaf=1, min_samples_split=5, n_estimators=10;, score=-20431178082600.441 total time=   0.0s\n"
     ]
    },
    {
     "name": "stderr",
     "output_type": "stream",
     "text": [
      "C:\\Users\\jb5983on\\AppData\\Local\\anaconda3\\envs\\polars\\Lib\\site-packages\\sklearn\\base.py:1473: DataConversionWarning: A column-vector y was passed when a 1d array was expected. Please change the shape of y to (n_samples,), for example using ravel().\n",
      "  return fit_method(estimator, *args, **kwargs)\n"
     ]
    },
    {
     "name": "stdout",
     "output_type": "stream",
     "text": [
      "[CV 1/5] END criterion=friedman_mse, max_depth=5, min_samples_leaf=1, min_samples_split=5, n_estimators=100;, score=-17386578571483.375 total time=   0.2s\n"
     ]
    },
    {
     "name": "stderr",
     "output_type": "stream",
     "text": [
      "C:\\Users\\jb5983on\\AppData\\Local\\anaconda3\\envs\\polars\\Lib\\site-packages\\sklearn\\base.py:1473: DataConversionWarning: A column-vector y was passed when a 1d array was expected. Please change the shape of y to (n_samples,), for example using ravel().\n",
      "  return fit_method(estimator, *args, **kwargs)\n"
     ]
    },
    {
     "name": "stdout",
     "output_type": "stream",
     "text": [
      "[CV 2/5] END criterion=friedman_mse, max_depth=5, min_samples_leaf=1, min_samples_split=5, n_estimators=100;, score=-20784025355598.258 total time=   0.2s\n"
     ]
    },
    {
     "name": "stderr",
     "output_type": "stream",
     "text": [
      "C:\\Users\\jb5983on\\AppData\\Local\\anaconda3\\envs\\polars\\Lib\\site-packages\\sklearn\\base.py:1473: DataConversionWarning: A column-vector y was passed when a 1d array was expected. Please change the shape of y to (n_samples,), for example using ravel().\n",
      "  return fit_method(estimator, *args, **kwargs)\n"
     ]
    },
    {
     "name": "stdout",
     "output_type": "stream",
     "text": [
      "[CV 3/5] END criterion=friedman_mse, max_depth=5, min_samples_leaf=1, min_samples_split=5, n_estimators=100;, score=-19447437689157.531 total time=   0.2s\n"
     ]
    },
    {
     "name": "stderr",
     "output_type": "stream",
     "text": [
      "C:\\Users\\jb5983on\\AppData\\Local\\anaconda3\\envs\\polars\\Lib\\site-packages\\sklearn\\base.py:1473: DataConversionWarning: A column-vector y was passed when a 1d array was expected. Please change the shape of y to (n_samples,), for example using ravel().\n",
      "  return fit_method(estimator, *args, **kwargs)\n"
     ]
    },
    {
     "name": "stdout",
     "output_type": "stream",
     "text": [
      "[CV 4/5] END criterion=friedman_mse, max_depth=5, min_samples_leaf=1, min_samples_split=5, n_estimators=100;, score=-19170311615927.902 total time=   0.3s\n"
     ]
    },
    {
     "name": "stderr",
     "output_type": "stream",
     "text": [
      "C:\\Users\\jb5983on\\AppData\\Local\\anaconda3\\envs\\polars\\Lib\\site-packages\\sklearn\\base.py:1473: DataConversionWarning: A column-vector y was passed when a 1d array was expected. Please change the shape of y to (n_samples,), for example using ravel().\n",
      "  return fit_method(estimator, *args, **kwargs)\n"
     ]
    },
    {
     "name": "stdout",
     "output_type": "stream",
     "text": [
      "[CV 5/5] END criterion=friedman_mse, max_depth=5, min_samples_leaf=1, min_samples_split=5, n_estimators=100;, score=-20436660388335.133 total time=   0.2s\n",
      "[CV 1/5] END criterion=friedman_mse, max_depth=5, min_samples_leaf=1, min_samples_split=10, n_estimators=10;, score=-17530608997135.568 total time=   0.0s\n",
      "[CV 2/5] END criterion=friedman_mse, max_depth=5, min_samples_leaf=1, min_samples_split=10, n_estimators=10;, score=-20773083711799.023 total time=   0.0s\n",
      "[CV 3/5] END criterion=friedman_mse, max_depth=5, min_samples_leaf=1, min_samples_split=10, n_estimators=10;, score=-19437182711284.832 total time=   0.0s\n",
      "[CV 4/5] END criterion=friedman_mse, max_depth=5, min_samples_leaf=1, min_samples_split=10, n_estimators=10;, score=-19131797560011.305 total time=   0.0s\n"
     ]
    },
    {
     "name": "stderr",
     "output_type": "stream",
     "text": [
      "C:\\Users\\jb5983on\\AppData\\Local\\anaconda3\\envs\\polars\\Lib\\site-packages\\sklearn\\base.py:1473: DataConversionWarning: A column-vector y was passed when a 1d array was expected. Please change the shape of y to (n_samples,), for example using ravel().\n",
      "  return fit_method(estimator, *args, **kwargs)\n",
      "C:\\Users\\jb5983on\\AppData\\Local\\anaconda3\\envs\\polars\\Lib\\site-packages\\sklearn\\base.py:1473: DataConversionWarning: A column-vector y was passed when a 1d array was expected. Please change the shape of y to (n_samples,), for example using ravel().\n",
      "  return fit_method(estimator, *args, **kwargs)\n",
      "C:\\Users\\jb5983on\\AppData\\Local\\anaconda3\\envs\\polars\\Lib\\site-packages\\sklearn\\base.py:1473: DataConversionWarning: A column-vector y was passed when a 1d array was expected. Please change the shape of y to (n_samples,), for example using ravel().\n",
      "  return fit_method(estimator, *args, **kwargs)\n",
      "C:\\Users\\jb5983on\\AppData\\Local\\anaconda3\\envs\\polars\\Lib\\site-packages\\sklearn\\base.py:1473: DataConversionWarning: A column-vector y was passed when a 1d array was expected. Please change the shape of y to (n_samples,), for example using ravel().\n",
      "  return fit_method(estimator, *args, **kwargs)\n",
      "C:\\Users\\jb5983on\\AppData\\Local\\anaconda3\\envs\\polars\\Lib\\site-packages\\sklearn\\base.py:1473: DataConversionWarning: A column-vector y was passed when a 1d array was expected. Please change the shape of y to (n_samples,), for example using ravel().\n",
      "  return fit_method(estimator, *args, **kwargs)\n"
     ]
    },
    {
     "name": "stdout",
     "output_type": "stream",
     "text": [
      "[CV 5/5] END criterion=friedman_mse, max_depth=5, min_samples_leaf=1, min_samples_split=10, n_estimators=10;, score=-20486156718270.473 total time=   0.0s\n"
     ]
    },
    {
     "name": "stderr",
     "output_type": "stream",
     "text": [
      "C:\\Users\\jb5983on\\AppData\\Local\\anaconda3\\envs\\polars\\Lib\\site-packages\\sklearn\\base.py:1473: DataConversionWarning: A column-vector y was passed when a 1d array was expected. Please change the shape of y to (n_samples,), for example using ravel().\n",
      "  return fit_method(estimator, *args, **kwargs)\n"
     ]
    },
    {
     "name": "stdout",
     "output_type": "stream",
     "text": [
      "[CV 1/5] END criterion=friedman_mse, max_depth=5, min_samples_leaf=1, min_samples_split=10, n_estimators=100;, score=-17406421788814.803 total time=   0.1s\n",
      "[CV 2/5] END criterion=friedman_mse, max_depth=5, min_samples_leaf=1, min_samples_split=10, n_estimators=100;, score=-20755370402683.363 total time=   0.1s\n"
     ]
    },
    {
     "name": "stderr",
     "output_type": "stream",
     "text": [
      "C:\\Users\\jb5983on\\AppData\\Local\\anaconda3\\envs\\polars\\Lib\\site-packages\\sklearn\\base.py:1473: DataConversionWarning: A column-vector y was passed when a 1d array was expected. Please change the shape of y to (n_samples,), for example using ravel().\n",
      "  return fit_method(estimator, *args, **kwargs)\n",
      "C:\\Users\\jb5983on\\AppData\\Local\\anaconda3\\envs\\polars\\Lib\\site-packages\\sklearn\\base.py:1473: DataConversionWarning: A column-vector y was passed when a 1d array was expected. Please change the shape of y to (n_samples,), for example using ravel().\n",
      "  return fit_method(estimator, *args, **kwargs)\n"
     ]
    },
    {
     "name": "stdout",
     "output_type": "stream",
     "text": [
      "[CV 3/5] END criterion=friedman_mse, max_depth=5, min_samples_leaf=1, min_samples_split=10, n_estimators=100;, score=-19425206057302.527 total time=   0.2s\n"
     ]
    },
    {
     "name": "stderr",
     "output_type": "stream",
     "text": [
      "C:\\Users\\jb5983on\\AppData\\Local\\anaconda3\\envs\\polars\\Lib\\site-packages\\sklearn\\base.py:1473: DataConversionWarning: A column-vector y was passed when a 1d array was expected. Please change the shape of y to (n_samples,), for example using ravel().\n",
      "  return fit_method(estimator, *args, **kwargs)\n"
     ]
    },
    {
     "name": "stdout",
     "output_type": "stream",
     "text": [
      "[CV 4/5] END criterion=friedman_mse, max_depth=5, min_samples_leaf=1, min_samples_split=10, n_estimators=100;, score=-19163840367757.594 total time=   0.2s\n"
     ]
    },
    {
     "name": "stderr",
     "output_type": "stream",
     "text": [
      "C:\\Users\\jb5983on\\AppData\\Local\\anaconda3\\envs\\polars\\Lib\\site-packages\\sklearn\\base.py:1473: DataConversionWarning: A column-vector y was passed when a 1d array was expected. Please change the shape of y to (n_samples,), for example using ravel().\n",
      "  return fit_method(estimator, *args, **kwargs)\n"
     ]
    },
    {
     "name": "stdout",
     "output_type": "stream",
     "text": [
      "[CV 5/5] END criterion=friedman_mse, max_depth=5, min_samples_leaf=1, min_samples_split=10, n_estimators=100;, score=-20427263717717.922 total time=   0.3s\n",
      "[CV 1/5] END criterion=friedman_mse, max_depth=5, min_samples_leaf=5, min_samples_split=1, n_estimators=10;, score=nan total time=   0.0s\n",
      "[CV 2/5] END criterion=friedman_mse, max_depth=5, min_samples_leaf=5, min_samples_split=1, n_estimators=10;, score=nan total time=   0.0s\n",
      "[CV 3/5] END criterion=friedman_mse, max_depth=5, min_samples_leaf=5, min_samples_split=1, n_estimators=10;, score=nan total time=   0.0s\n",
      "[CV 4/5] END criterion=friedman_mse, max_depth=5, min_samples_leaf=5, min_samples_split=1, n_estimators=10;, score=nan total time=   0.0s\n",
      "[CV 5/5] END criterion=friedman_mse, max_depth=5, min_samples_leaf=5, min_samples_split=1, n_estimators=10;, score=nan total time=   0.0s\n",
      "[CV 1/5] END criterion=friedman_mse, max_depth=5, min_samples_leaf=5, min_samples_split=1, n_estimators=100;, score=nan total time=   0.0s\n",
      "[CV 2/5] END criterion=friedman_mse, max_depth=5, min_samples_leaf=5, min_samples_split=1, n_estimators=100;, score=nan total time=   0.0s\n",
      "[CV 3/5] END criterion=friedman_mse, max_depth=5, min_samples_leaf=5, min_samples_split=1, n_estimators=100;, score=nan total time=   0.0s\n",
      "[CV 4/5] END criterion=friedman_mse, max_depth=5, min_samples_leaf=5, min_samples_split=1, n_estimators=100;, score=nan total time=   0.0s\n",
      "[CV 5/5] END criterion=friedman_mse, max_depth=5, min_samples_leaf=5, min_samples_split=1, n_estimators=100;, score=nan total time=   0.0s\n",
      "[CV 1/5] END criterion=friedman_mse, max_depth=5, min_samples_leaf=5, min_samples_split=5, n_estimators=10;, score=-17373705512141.043 total time=   0.0s\n",
      "[CV 2/5] END criterion=friedman_mse, max_depth=5, min_samples_leaf=5, min_samples_split=5, n_estimators=10;, score=-20691952037731.414 total time=   0.0s\n",
      "[CV 3/5] END criterion=friedman_mse, max_depth=5, min_samples_leaf=5, min_samples_split=5, n_estimators=10;, score=-19404023949602.477 total time=   0.0s\n"
     ]
    },
    {
     "name": "stderr",
     "output_type": "stream",
     "text": [
      "C:\\Users\\jb5983on\\AppData\\Local\\anaconda3\\envs\\polars\\Lib\\site-packages\\sklearn\\base.py:1473: DataConversionWarning: A column-vector y was passed when a 1d array was expected. Please change the shape of y to (n_samples,), for example using ravel().\n",
      "  return fit_method(estimator, *args, **kwargs)\n",
      "C:\\Users\\jb5983on\\AppData\\Local\\anaconda3\\envs\\polars\\Lib\\site-packages\\sklearn\\base.py:1473: DataConversionWarning: A column-vector y was passed when a 1d array was expected. Please change the shape of y to (n_samples,), for example using ravel().\n",
      "  return fit_method(estimator, *args, **kwargs)\n",
      "C:\\Users\\jb5983on\\AppData\\Local\\anaconda3\\envs\\polars\\Lib\\site-packages\\sklearn\\base.py:1473: DataConversionWarning: A column-vector y was passed when a 1d array was expected. Please change the shape of y to (n_samples,), for example using ravel().\n",
      "  return fit_method(estimator, *args, **kwargs)\n",
      "C:\\Users\\jb5983on\\AppData\\Local\\anaconda3\\envs\\polars\\Lib\\site-packages\\sklearn\\base.py:1473: DataConversionWarning: A column-vector y was passed when a 1d array was expected. Please change the shape of y to (n_samples,), for example using ravel().\n",
      "  return fit_method(estimator, *args, **kwargs)\n",
      "C:\\Users\\jb5983on\\AppData\\Local\\anaconda3\\envs\\polars\\Lib\\site-packages\\sklearn\\base.py:1473: DataConversionWarning: A column-vector y was passed when a 1d array was expected. Please change the shape of y to (n_samples,), for example using ravel().\n",
      "  return fit_method(estimator, *args, **kwargs)\n"
     ]
    },
    {
     "name": "stdout",
     "output_type": "stream",
     "text": [
      "[CV 4/5] END criterion=friedman_mse, max_depth=5, min_samples_leaf=5, min_samples_split=5, n_estimators=10;, score=-19214990273141.074 total time=   0.0s\n",
      "[CV 5/5] END criterion=friedman_mse, max_depth=5, min_samples_leaf=5, min_samples_split=5, n_estimators=10;, score=-20445723020278.172 total time=   0.0s\n"
     ]
    },
    {
     "name": "stderr",
     "output_type": "stream",
     "text": [
      "C:\\Users\\jb5983on\\AppData\\Local\\anaconda3\\envs\\polars\\Lib\\site-packages\\sklearn\\base.py:1473: DataConversionWarning: A column-vector y was passed when a 1d array was expected. Please change the shape of y to (n_samples,), for example using ravel().\n",
      "  return fit_method(estimator, *args, **kwargs)\n"
     ]
    },
    {
     "name": "stdout",
     "output_type": "stream",
     "text": [
      "[CV 1/5] END criterion=friedman_mse, max_depth=5, min_samples_leaf=5, min_samples_split=5, n_estimators=100;, score=-17373997919487.637 total time=   0.2s\n"
     ]
    },
    {
     "name": "stderr",
     "output_type": "stream",
     "text": [
      "C:\\Users\\jb5983on\\AppData\\Local\\anaconda3\\envs\\polars\\Lib\\site-packages\\sklearn\\base.py:1473: DataConversionWarning: A column-vector y was passed when a 1d array was expected. Please change the shape of y to (n_samples,), for example using ravel().\n",
      "  return fit_method(estimator, *args, **kwargs)\n"
     ]
    },
    {
     "name": "stdout",
     "output_type": "stream",
     "text": [
      "[CV 2/5] END criterion=friedman_mse, max_depth=5, min_samples_leaf=5, min_samples_split=5, n_estimators=100;, score=-20773987201063.828 total time=   0.2s\n"
     ]
    },
    {
     "name": "stderr",
     "output_type": "stream",
     "text": [
      "C:\\Users\\jb5983on\\AppData\\Local\\anaconda3\\envs\\polars\\Lib\\site-packages\\sklearn\\base.py:1473: DataConversionWarning: A column-vector y was passed when a 1d array was expected. Please change the shape of y to (n_samples,), for example using ravel().\n",
      "  return fit_method(estimator, *args, **kwargs)\n"
     ]
    },
    {
     "name": "stdout",
     "output_type": "stream",
     "text": [
      "[CV 3/5] END criterion=friedman_mse, max_depth=5, min_samples_leaf=5, min_samples_split=5, n_estimators=100;, score=-19429994406783.977 total time=   0.2s\n"
     ]
    },
    {
     "name": "stderr",
     "output_type": "stream",
     "text": [
      "C:\\Users\\jb5983on\\AppData\\Local\\anaconda3\\envs\\polars\\Lib\\site-packages\\sklearn\\base.py:1473: DataConversionWarning: A column-vector y was passed when a 1d array was expected. Please change the shape of y to (n_samples,), for example using ravel().\n",
      "  return fit_method(estimator, *args, **kwargs)\n"
     ]
    },
    {
     "name": "stdout",
     "output_type": "stream",
     "text": [
      "[CV 4/5] END criterion=friedman_mse, max_depth=5, min_samples_leaf=5, min_samples_split=5, n_estimators=100;, score=-19164357975182.852 total time=   0.1s\n"
     ]
    },
    {
     "name": "stderr",
     "output_type": "stream",
     "text": [
      "C:\\Users\\jb5983on\\AppData\\Local\\anaconda3\\envs\\polars\\Lib\\site-packages\\sklearn\\base.py:1473: DataConversionWarning: A column-vector y was passed when a 1d array was expected. Please change the shape of y to (n_samples,), for example using ravel().\n",
      "  return fit_method(estimator, *args, **kwargs)\n"
     ]
    },
    {
     "name": "stdout",
     "output_type": "stream",
     "text": [
      "[CV 5/5] END criterion=friedman_mse, max_depth=5, min_samples_leaf=5, min_samples_split=5, n_estimators=100;, score=-20426316598868.352 total time=   0.2s\n",
      "[CV 1/5] END criterion=friedman_mse, max_depth=5, min_samples_leaf=5, min_samples_split=10, n_estimators=10;, score=-17490547575912.492 total time=   0.0s\n",
      "[CV 2/5] END criterion=friedman_mse, max_depth=5, min_samples_leaf=5, min_samples_split=10, n_estimators=10;, score=-20799554440486.344 total time=   0.0s\n",
      "[CV 3/5] END criterion=friedman_mse, max_depth=5, min_samples_leaf=5, min_samples_split=10, n_estimators=10;, score=-19502013252177.508 total time=   0.0s\n",
      "[CV 4/5] END criterion=friedman_mse, max_depth=5, min_samples_leaf=5, min_samples_split=10, n_estimators=10;, score=-19198328129980.176 total time=   0.0s\n",
      "[CV 5/5] END criterion=friedman_mse, max_depth=5, min_samples_leaf=5, min_samples_split=10, n_estimators=10;, score=-20503693445640.789 total time=   0.0s\n"
     ]
    },
    {
     "name": "stderr",
     "output_type": "stream",
     "text": [
      "C:\\Users\\jb5983on\\AppData\\Local\\anaconda3\\envs\\polars\\Lib\\site-packages\\sklearn\\base.py:1473: DataConversionWarning: A column-vector y was passed when a 1d array was expected. Please change the shape of y to (n_samples,), for example using ravel().\n",
      "  return fit_method(estimator, *args, **kwargs)\n",
      "C:\\Users\\jb5983on\\AppData\\Local\\anaconda3\\envs\\polars\\Lib\\site-packages\\sklearn\\base.py:1473: DataConversionWarning: A column-vector y was passed when a 1d array was expected. Please change the shape of y to (n_samples,), for example using ravel().\n",
      "  return fit_method(estimator, *args, **kwargs)\n",
      "C:\\Users\\jb5983on\\AppData\\Local\\anaconda3\\envs\\polars\\Lib\\site-packages\\sklearn\\base.py:1473: DataConversionWarning: A column-vector y was passed when a 1d array was expected. Please change the shape of y to (n_samples,), for example using ravel().\n",
      "  return fit_method(estimator, *args, **kwargs)\n",
      "C:\\Users\\jb5983on\\AppData\\Local\\anaconda3\\envs\\polars\\Lib\\site-packages\\sklearn\\base.py:1473: DataConversionWarning: A column-vector y was passed when a 1d array was expected. Please change the shape of y to (n_samples,), for example using ravel().\n",
      "  return fit_method(estimator, *args, **kwargs)\n",
      "C:\\Users\\jb5983on\\AppData\\Local\\anaconda3\\envs\\polars\\Lib\\site-packages\\sklearn\\base.py:1473: DataConversionWarning: A column-vector y was passed when a 1d array was expected. Please change the shape of y to (n_samples,), for example using ravel().\n",
      "  return fit_method(estimator, *args, **kwargs)\n",
      "C:\\Users\\jb5983on\\AppData\\Local\\anaconda3\\envs\\polars\\Lib\\site-packages\\sklearn\\base.py:1473: DataConversionWarning: A column-vector y was passed when a 1d array was expected. Please change the shape of y to (n_samples,), for example using ravel().\n",
      "  return fit_method(estimator, *args, **kwargs)\n"
     ]
    },
    {
     "name": "stdout",
     "output_type": "stream",
     "text": [
      "[CV 1/5] END criterion=friedman_mse, max_depth=5, min_samples_leaf=5, min_samples_split=10, n_estimators=100;, score=-17387076694629.855 total time=   0.2s\n"
     ]
    },
    {
     "name": "stderr",
     "output_type": "stream",
     "text": [
      "C:\\Users\\jb5983on\\AppData\\Local\\anaconda3\\envs\\polars\\Lib\\site-packages\\sklearn\\base.py:1473: DataConversionWarning: A column-vector y was passed when a 1d array was expected. Please change the shape of y to (n_samples,), for example using ravel().\n",
      "  return fit_method(estimator, *args, **kwargs)\n"
     ]
    },
    {
     "name": "stdout",
     "output_type": "stream",
     "text": [
      "[CV 2/5] END criterion=friedman_mse, max_depth=5, min_samples_leaf=5, min_samples_split=10, n_estimators=100;, score=-20756764832490.410 total time=   0.2s\n"
     ]
    },
    {
     "name": "stderr",
     "output_type": "stream",
     "text": [
      "C:\\Users\\jb5983on\\AppData\\Local\\anaconda3\\envs\\polars\\Lib\\site-packages\\sklearn\\base.py:1473: DataConversionWarning: A column-vector y was passed when a 1d array was expected. Please change the shape of y to (n_samples,), for example using ravel().\n",
      "  return fit_method(estimator, *args, **kwargs)\n"
     ]
    },
    {
     "name": "stdout",
     "output_type": "stream",
     "text": [
      "[CV 3/5] END criterion=friedman_mse, max_depth=5, min_samples_leaf=5, min_samples_split=10, n_estimators=100;, score=-19435411713409.570 total time=   0.2s\n"
     ]
    },
    {
     "name": "stderr",
     "output_type": "stream",
     "text": [
      "C:\\Users\\jb5983on\\AppData\\Local\\anaconda3\\envs\\polars\\Lib\\site-packages\\sklearn\\base.py:1473: DataConversionWarning: A column-vector y was passed when a 1d array was expected. Please change the shape of y to (n_samples,), for example using ravel().\n",
      "  return fit_method(estimator, *args, **kwargs)\n"
     ]
    },
    {
     "name": "stdout",
     "output_type": "stream",
     "text": [
      "[CV 4/5] END criterion=friedman_mse, max_depth=5, min_samples_leaf=5, min_samples_split=10, n_estimators=100;, score=-19193037361407.957 total time=   0.2s\n"
     ]
    },
    {
     "name": "stderr",
     "output_type": "stream",
     "text": [
      "C:\\Users\\jb5983on\\AppData\\Local\\anaconda3\\envs\\polars\\Lib\\site-packages\\sklearn\\base.py:1473: DataConversionWarning: A column-vector y was passed when a 1d array was expected. Please change the shape of y to (n_samples,), for example using ravel().\n",
      "  return fit_method(estimator, *args, **kwargs)\n"
     ]
    },
    {
     "name": "stdout",
     "output_type": "stream",
     "text": [
      "[CV 5/5] END criterion=friedman_mse, max_depth=5, min_samples_leaf=5, min_samples_split=10, n_estimators=100;, score=-20388722468883.934 total time=   0.2s\n",
      "[CV 1/5] END criterion=friedman_mse, max_depth=5, min_samples_leaf=10, min_samples_split=1, n_estimators=10;, score=nan total time=   0.0s\n",
      "[CV 2/5] END criterion=friedman_mse, max_depth=5, min_samples_leaf=10, min_samples_split=1, n_estimators=10;, score=nan total time=   0.0s\n",
      "[CV 3/5] END criterion=friedman_mse, max_depth=5, min_samples_leaf=10, min_samples_split=1, n_estimators=10;, score=nan total time=   0.0s\n",
      "[CV 4/5] END criterion=friedman_mse, max_depth=5, min_samples_leaf=10, min_samples_split=1, n_estimators=10;, score=nan total time=   0.0s\n",
      "[CV 5/5] END criterion=friedman_mse, max_depth=5, min_samples_leaf=10, min_samples_split=1, n_estimators=10;, score=nan total time=   0.0s\n",
      "[CV 1/5] END criterion=friedman_mse, max_depth=5, min_samples_leaf=10, min_samples_split=1, n_estimators=100;, score=nan total time=   0.0s\n",
      "[CV 2/5] END criterion=friedman_mse, max_depth=5, min_samples_leaf=10, min_samples_split=1, n_estimators=100;, score=nan total time=   0.0s\n",
      "[CV 3/5] END criterion=friedman_mse, max_depth=5, min_samples_leaf=10, min_samples_split=1, n_estimators=100;, score=nan total time=   0.0s\n",
      "[CV 4/5] END criterion=friedman_mse, max_depth=5, min_samples_leaf=10, min_samples_split=1, n_estimators=100;, score=nan total time=   0.0s\n",
      "[CV 5/5] END criterion=friedman_mse, max_depth=5, min_samples_leaf=10, min_samples_split=1, n_estimators=100;, score=nan total time=   0.0s\n",
      "[CV 1/5] END criterion=friedman_mse, max_depth=5, min_samples_leaf=10, min_samples_split=5, n_estimators=10;, score=-17346845688680.777 total time=   0.0s\n",
      "[CV 2/5] END criterion=friedman_mse, max_depth=5, min_samples_leaf=10, min_samples_split=5, n_estimators=10;, score=-20746654631762.324 total time=   0.0s\n",
      "[CV 3/5] END criterion=friedman_mse, max_depth=5, min_samples_leaf=10, min_samples_split=5, n_estimators=10;, score=-19436157799145.035 total time=   0.0s\n",
      "[CV 4/5] END criterion=friedman_mse, max_depth=5, min_samples_leaf=10, min_samples_split=5, n_estimators=10;, score=-19179235147632.199 total time=   0.0s\n"
     ]
    },
    {
     "name": "stderr",
     "output_type": "stream",
     "text": [
      "C:\\Users\\jb5983on\\AppData\\Local\\anaconda3\\envs\\polars\\Lib\\site-packages\\sklearn\\base.py:1473: DataConversionWarning: A column-vector y was passed when a 1d array was expected. Please change the shape of y to (n_samples,), for example using ravel().\n",
      "  return fit_method(estimator, *args, **kwargs)\n",
      "C:\\Users\\jb5983on\\AppData\\Local\\anaconda3\\envs\\polars\\Lib\\site-packages\\sklearn\\base.py:1473: DataConversionWarning: A column-vector y was passed when a 1d array was expected. Please change the shape of y to (n_samples,), for example using ravel().\n",
      "  return fit_method(estimator, *args, **kwargs)\n",
      "C:\\Users\\jb5983on\\AppData\\Local\\anaconda3\\envs\\polars\\Lib\\site-packages\\sklearn\\base.py:1473: DataConversionWarning: A column-vector y was passed when a 1d array was expected. Please change the shape of y to (n_samples,), for example using ravel().\n",
      "  return fit_method(estimator, *args, **kwargs)\n",
      "C:\\Users\\jb5983on\\AppData\\Local\\anaconda3\\envs\\polars\\Lib\\site-packages\\sklearn\\base.py:1473: DataConversionWarning: A column-vector y was passed when a 1d array was expected. Please change the shape of y to (n_samples,), for example using ravel().\n",
      "  return fit_method(estimator, *args, **kwargs)\n",
      "C:\\Users\\jb5983on\\AppData\\Local\\anaconda3\\envs\\polars\\Lib\\site-packages\\sklearn\\base.py:1473: DataConversionWarning: A column-vector y was passed when a 1d array was expected. Please change the shape of y to (n_samples,), for example using ravel().\n",
      "  return fit_method(estimator, *args, **kwargs)\n"
     ]
    },
    {
     "name": "stdout",
     "output_type": "stream",
     "text": [
      "[CV 5/5] END criterion=friedman_mse, max_depth=5, min_samples_leaf=10, min_samples_split=5, n_estimators=10;, score=-20485864578668.078 total time=   0.0s\n"
     ]
    },
    {
     "name": "stderr",
     "output_type": "stream",
     "text": [
      "C:\\Users\\jb5983on\\AppData\\Local\\anaconda3\\envs\\polars\\Lib\\site-packages\\sklearn\\base.py:1473: DataConversionWarning: A column-vector y was passed when a 1d array was expected. Please change the shape of y to (n_samples,), for example using ravel().\n",
      "  return fit_method(estimator, *args, **kwargs)\n"
     ]
    },
    {
     "name": "stdout",
     "output_type": "stream",
     "text": [
      "[CV 1/5] END criterion=friedman_mse, max_depth=5, min_samples_leaf=10, min_samples_split=5, n_estimators=100;, score=-17394845884267.377 total time=   0.2s\n"
     ]
    },
    {
     "name": "stderr",
     "output_type": "stream",
     "text": [
      "C:\\Users\\jb5983on\\AppData\\Local\\anaconda3\\envs\\polars\\Lib\\site-packages\\sklearn\\base.py:1473: DataConversionWarning: A column-vector y was passed when a 1d array was expected. Please change the shape of y to (n_samples,), for example using ravel().\n",
      "  return fit_method(estimator, *args, **kwargs)\n"
     ]
    },
    {
     "name": "stdout",
     "output_type": "stream",
     "text": [
      "[CV 2/5] END criterion=friedman_mse, max_depth=5, min_samples_leaf=10, min_samples_split=5, n_estimators=100;, score=-20769979692866.832 total time=   0.2s\n"
     ]
    },
    {
     "name": "stderr",
     "output_type": "stream",
     "text": [
      "C:\\Users\\jb5983on\\AppData\\Local\\anaconda3\\envs\\polars\\Lib\\site-packages\\sklearn\\base.py:1473: DataConversionWarning: A column-vector y was passed when a 1d array was expected. Please change the shape of y to (n_samples,), for example using ravel().\n",
      "  return fit_method(estimator, *args, **kwargs)\n"
     ]
    },
    {
     "name": "stdout",
     "output_type": "stream",
     "text": [
      "[CV 3/5] END criterion=friedman_mse, max_depth=5, min_samples_leaf=10, min_samples_split=5, n_estimators=100;, score=-19446158467924.234 total time=   0.2s\n"
     ]
    },
    {
     "name": "stderr",
     "output_type": "stream",
     "text": [
      "C:\\Users\\jb5983on\\AppData\\Local\\anaconda3\\envs\\polars\\Lib\\site-packages\\sklearn\\base.py:1473: DataConversionWarning: A column-vector y was passed when a 1d array was expected. Please change the shape of y to (n_samples,), for example using ravel().\n",
      "  return fit_method(estimator, *args, **kwargs)\n"
     ]
    },
    {
     "name": "stdout",
     "output_type": "stream",
     "text": [
      "[CV 4/5] END criterion=friedman_mse, max_depth=5, min_samples_leaf=10, min_samples_split=5, n_estimators=100;, score=-19187953902757.414 total time=   0.2s\n"
     ]
    },
    {
     "name": "stderr",
     "output_type": "stream",
     "text": [
      "C:\\Users\\jb5983on\\AppData\\Local\\anaconda3\\envs\\polars\\Lib\\site-packages\\sklearn\\base.py:1473: DataConversionWarning: A column-vector y was passed when a 1d array was expected. Please change the shape of y to (n_samples,), for example using ravel().\n",
      "  return fit_method(estimator, *args, **kwargs)\n"
     ]
    },
    {
     "name": "stdout",
     "output_type": "stream",
     "text": [
      "[CV 5/5] END criterion=friedman_mse, max_depth=5, min_samples_leaf=10, min_samples_split=5, n_estimators=100;, score=-20411828568879.645 total time=   0.2s\n",
      "[CV 1/5] END criterion=friedman_mse, max_depth=5, min_samples_leaf=10, min_samples_split=10, n_estimators=10;, score=-17411695074316.338 total time=   0.0s\n",
      "[CV 2/5] END criterion=friedman_mse, max_depth=5, min_samples_leaf=10, min_samples_split=10, n_estimators=10;, score=-20783901501403.578 total time=   0.0s\n",
      "[CV 3/5] END criterion=friedman_mse, max_depth=5, min_samples_leaf=10, min_samples_split=10, n_estimators=10;, score=-19416999425479.914 total time=   0.0s\n",
      "[CV 4/5] END criterion=friedman_mse, max_depth=5, min_samples_leaf=10, min_samples_split=10, n_estimators=10;, score=-19194152497779.180 total time=   0.0s\n"
     ]
    },
    {
     "name": "stderr",
     "output_type": "stream",
     "text": [
      "C:\\Users\\jb5983on\\AppData\\Local\\anaconda3\\envs\\polars\\Lib\\site-packages\\sklearn\\base.py:1473: DataConversionWarning: A column-vector y was passed when a 1d array was expected. Please change the shape of y to (n_samples,), for example using ravel().\n",
      "  return fit_method(estimator, *args, **kwargs)\n",
      "C:\\Users\\jb5983on\\AppData\\Local\\anaconda3\\envs\\polars\\Lib\\site-packages\\sklearn\\base.py:1473: DataConversionWarning: A column-vector y was passed when a 1d array was expected. Please change the shape of y to (n_samples,), for example using ravel().\n",
      "  return fit_method(estimator, *args, **kwargs)\n",
      "C:\\Users\\jb5983on\\AppData\\Local\\anaconda3\\envs\\polars\\Lib\\site-packages\\sklearn\\base.py:1473: DataConversionWarning: A column-vector y was passed when a 1d array was expected. Please change the shape of y to (n_samples,), for example using ravel().\n",
      "  return fit_method(estimator, *args, **kwargs)\n",
      "C:\\Users\\jb5983on\\AppData\\Local\\anaconda3\\envs\\polars\\Lib\\site-packages\\sklearn\\base.py:1473: DataConversionWarning: A column-vector y was passed when a 1d array was expected. Please change the shape of y to (n_samples,), for example using ravel().\n",
      "  return fit_method(estimator, *args, **kwargs)\n",
      "C:\\Users\\jb5983on\\AppData\\Local\\anaconda3\\envs\\polars\\Lib\\site-packages\\sklearn\\base.py:1473: DataConversionWarning: A column-vector y was passed when a 1d array was expected. Please change the shape of y to (n_samples,), for example using ravel().\n",
      "  return fit_method(estimator, *args, **kwargs)\n"
     ]
    },
    {
     "name": "stdout",
     "output_type": "stream",
     "text": [
      "[CV 5/5] END criterion=friedman_mse, max_depth=5, min_samples_leaf=10, min_samples_split=10, n_estimators=10;, score=-20421124110936.516 total time=   0.0s\n"
     ]
    },
    {
     "name": "stderr",
     "output_type": "stream",
     "text": [
      "C:\\Users\\jb5983on\\AppData\\Local\\anaconda3\\envs\\polars\\Lib\\site-packages\\sklearn\\base.py:1473: DataConversionWarning: A column-vector y was passed when a 1d array was expected. Please change the shape of y to (n_samples,), for example using ravel().\n",
      "  return fit_method(estimator, *args, **kwargs)\n"
     ]
    },
    {
     "name": "stdout",
     "output_type": "stream",
     "text": [
      "[CV 1/5] END criterion=friedman_mse, max_depth=5, min_samples_leaf=10, min_samples_split=10, n_estimators=100;, score=-17393248242727.840 total time=   0.2s\n"
     ]
    },
    {
     "name": "stderr",
     "output_type": "stream",
     "text": [
      "C:\\Users\\jb5983on\\AppData\\Local\\anaconda3\\envs\\polars\\Lib\\site-packages\\sklearn\\base.py:1473: DataConversionWarning: A column-vector y was passed when a 1d array was expected. Please change the shape of y to (n_samples,), for example using ravel().\n",
      "  return fit_method(estimator, *args, **kwargs)\n"
     ]
    },
    {
     "name": "stdout",
     "output_type": "stream",
     "text": [
      "[CV 2/5] END criterion=friedman_mse, max_depth=5, min_samples_leaf=10, min_samples_split=10, n_estimators=100;, score=-20770151528438.098 total time=   0.2s\n"
     ]
    },
    {
     "name": "stderr",
     "output_type": "stream",
     "text": [
      "C:\\Users\\jb5983on\\AppData\\Local\\anaconda3\\envs\\polars\\Lib\\site-packages\\sklearn\\base.py:1473: DataConversionWarning: A column-vector y was passed when a 1d array was expected. Please change the shape of y to (n_samples,), for example using ravel().\n",
      "  return fit_method(estimator, *args, **kwargs)\n"
     ]
    },
    {
     "name": "stdout",
     "output_type": "stream",
     "text": [
      "[CV 3/5] END criterion=friedman_mse, max_depth=5, min_samples_leaf=10, min_samples_split=10, n_estimators=100;, score=-19436769315073.441 total time=   0.2s\n"
     ]
    },
    {
     "name": "stderr",
     "output_type": "stream",
     "text": [
      "C:\\Users\\jb5983on\\AppData\\Local\\anaconda3\\envs\\polars\\Lib\\site-packages\\sklearn\\base.py:1473: DataConversionWarning: A column-vector y was passed when a 1d array was expected. Please change the shape of y to (n_samples,), for example using ravel().\n",
      "  return fit_method(estimator, *args, **kwargs)\n"
     ]
    },
    {
     "name": "stdout",
     "output_type": "stream",
     "text": [
      "[CV 4/5] END criterion=friedman_mse, max_depth=5, min_samples_leaf=10, min_samples_split=10, n_estimators=100;, score=-19177676380533.512 total time=   0.2s\n"
     ]
    },
    {
     "name": "stderr",
     "output_type": "stream",
     "text": [
      "C:\\Users\\jb5983on\\AppData\\Local\\anaconda3\\envs\\polars\\Lib\\site-packages\\sklearn\\base.py:1473: DataConversionWarning: A column-vector y was passed when a 1d array was expected. Please change the shape of y to (n_samples,), for example using ravel().\n",
      "  return fit_method(estimator, *args, **kwargs)\n"
     ]
    },
    {
     "name": "stdout",
     "output_type": "stream",
     "text": [
      "[CV 5/5] END criterion=friedman_mse, max_depth=5, min_samples_leaf=10, min_samples_split=10, n_estimators=100;, score=-20422402531133.133 total time=   0.1s\n"
     ]
    },
    {
     "name": "stderr",
     "output_type": "stream",
     "text": [
      "C:\\Users\\jb5983on\\AppData\\Local\\anaconda3\\envs\\polars\\Lib\\site-packages\\sklearn\\model_selection\\_validation.py:540: FitFailedWarning: \n",
      "360 fits failed out of a total of 1080.\n",
      "The score on these train-test partitions for these parameters will be set to nan.\n",
      "If these failures are not expected, you can try to debug them by setting error_score='raise'.\n",
      "\n",
      "Below are more details about the failures:\n",
      "--------------------------------------------------------------------------------\n",
      "360 fits failed with the following error:\n",
      "Traceback (most recent call last):\n",
      "  File \"C:\\Users\\jb5983on\\AppData\\Local\\anaconda3\\envs\\polars\\Lib\\site-packages\\sklearn\\model_selection\\_validation.py\", line 888, in _fit_and_score\n",
      "    estimator.fit(X_train, y_train, **fit_params)\n",
      "  File \"C:\\Users\\jb5983on\\AppData\\Local\\anaconda3\\envs\\polars\\Lib\\site-packages\\sklearn\\base.py\", line 1466, in wrapper\n",
      "    estimator._validate_params()\n",
      "  File \"C:\\Users\\jb5983on\\AppData\\Local\\anaconda3\\envs\\polars\\Lib\\site-packages\\sklearn\\base.py\", line 666, in _validate_params\n",
      "    validate_parameter_constraints(\n",
      "  File \"C:\\Users\\jb5983on\\AppData\\Local\\anaconda3\\envs\\polars\\Lib\\site-packages\\sklearn\\utils\\_param_validation.py\", line 95, in validate_parameter_constraints\n",
      "    raise InvalidParameterError(\n",
      "sklearn.utils._param_validation.InvalidParameterError: The 'min_samples_split' parameter of RandomForestRegressor must be an int in the range [2, inf) or a float in the range (0.0, 1.0]. Got 1 instead.\n",
      "\n",
      "  warnings.warn(some_fits_failed_message, FitFailedWarning)\n",
      "C:\\Users\\jb5983on\\AppData\\Local\\anaconda3\\envs\\polars\\Lib\\site-packages\\numpy\\ma\\core.py:2881: RuntimeWarning: invalid value encountered in cast\n",
      "  _data = np.array(data, dtype=dtype, copy=copy,\n",
      "C:\\Users\\jb5983on\\AppData\\Local\\anaconda3\\envs\\polars\\Lib\\site-packages\\sklearn\\model_selection\\_search.py:1102: UserWarning: One or more of the test scores are non-finite: [            nan             nan -1.98406029e+13 -1.97868768e+13\n",
      " -1.98508442e+13 -1.97908297e+13             nan             nan\n",
      " -1.98579684e+13 -1.97792511e+13 -1.98348068e+13 -1.97740235e+13\n",
      "             nan             nan -1.97935982e+13 -1.97808378e+13\n",
      " -1.98184017e+13 -1.97590278e+13             nan             nan\n",
      " -2.00717179e+13 -2.00545814e+13 -2.00416913e+13 -2.00543395e+13\n",
      "             nan             nan -2.00608233e+13 -2.00427339e+13\n",
      " -2.00480256e+13 -2.00508968e+13             nan             nan\n",
      " -2.00617690e+13 -2.00428298e+13 -2.00749936e+13 -2.00526716e+13\n",
      "             nan             nan -1.98056861e+13 -1.97563428e+13\n",
      " -1.97623832e+13 -1.97639341e+13             nan             nan\n",
      " -1.97626577e+13 -1.97473546e+13 -1.97695346e+13 -1.97541313e+13\n",
      "             nan             nan -1.97451526e+13 -1.97510902e+13\n",
      " -1.97846286e+13 -1.97506369e+13             nan             nan\n",
      " -1.94215111e+13 -1.94095992e+13 -1.94351753e+13 -1.94110945e+13\n",
      "             nan             nan -1.94189819e+13 -1.94185768e+13\n",
      " -1.94357390e+13 -1.94076902e+13             nan             nan\n",
      " -1.94256448e+13 -1.94141973e+13 -1.94116027e+13 -1.94116851e+13\n",
      "             nan             nan -1.94185706e+13 -1.93871911e+13\n",
      " -1.93953379e+13 -1.93880916e+13             nan             nan\n",
      " -1.94133674e+13 -1.93844685e+13 -1.93997414e+13 -1.93906244e+13\n",
      "             nan             nan -1.94196348e+13 -1.93925005e+13\n",
      " -1.94394196e+13 -1.93866218e+13             nan             nan\n",
      " -1.94383522e+13 -1.94476090e+13 -1.94807590e+13 -1.94216051e+13\n",
      "             nan             nan -1.94432294e+13 -1.94328911e+13\n",
      " -1.94594344e+13 -1.94402706e+13             nan             nan\n",
      " -1.95128543e+13 -1.94400630e+13 -1.94665550e+13 -1.94449466e+13\n",
      "             nan             nan -1.98628592e+13 -1.97646908e+13\n",
      " -1.98555927e+13 -1.97803261e+13             nan             nan\n",
      " -1.98544988e+13 -1.97817882e+13 -1.98058332e+13 -1.97928010e+13\n",
      "             nan             nan -1.98328008e+13 -1.97557729e+13\n",
      " -1.98223981e+13 -1.97632748e+13             nan             nan\n",
      " -2.00750011e+13 -2.00437034e+13 -2.00769957e+13 -2.00552161e+13\n",
      "             nan             nan -2.00598245e+13 -2.00419189e+13\n",
      " -2.00463246e+13 -2.00384436e+13             nan             nan\n",
      " -2.00664940e+13 -2.00414360e+13 -2.00490689e+13 -2.00430333e+13\n",
      "             nan             nan -1.97412756e+13 -1.97614598e+13\n",
      " -1.97470909e+13 -1.97511552e+13             nan             nan\n",
      " -1.97751969e+13 -1.97503850e+13 -1.97227370e+13 -1.97497041e+13\n",
      "             nan             nan -1.97626818e+13 -1.97497901e+13\n",
      " -1.97681301e+13 -1.97492118e+13             nan             nan\n",
      " -1.94114286e+13 -1.94161923e+13 -1.94468202e+13 -1.94249599e+13\n",
      "             nan             nan -1.94506547e+13 -1.94169166e+13\n",
      " -1.93893993e+13 -1.94164910e+13             nan             nan\n",
      " -1.94140025e+13 -1.94216621e+13 -1.94069548e+13 -1.94144295e+13\n",
      "             nan             nan -1.93945257e+13 -1.93903386e+13\n",
      " -1.94270801e+13 -1.93821411e+13             nan             nan\n",
      " -1.94082574e+13 -1.93803029e+13 -1.93895394e+13 -1.93769829e+13\n",
      "             nan             nan -1.93962927e+13 -1.93883924e+13\n",
      " -1.93916021e+13 -1.93867793e+13             nan             nan\n",
      " -1.94821817e+13 -1.94450027e+13 -1.94717659e+13 -1.94356205e+13\n",
      "             nan             nan -1.94260790e+13 -1.94337308e+13\n",
      " -1.94988274e+13 -1.94322026e+13             nan             nan\n",
      " -1.94389516e+13 -1.94421533e+13 -1.94455745e+13 -1.94400496e+13]\n",
      "  warnings.warn(\n",
      "C:\\Users\\jb5983on\\AppData\\Local\\anaconda3\\envs\\polars\\Lib\\site-packages\\sklearn\\base.py:1473: DataConversionWarning: A column-vector y was passed when a 1d array was expected. Please change the shape of y to (n_samples,), for example using ravel().\n",
      "  return fit_method(estimator, *args, **kwargs)\n"
     ]
    },
    {
     "data": {
      "text/html": [
       "<style>#sk-container-id-6 {\n",
       "  /* Definition of color scheme common for light and dark mode */\n",
       "  --sklearn-color-text: black;\n",
       "  --sklearn-color-line: gray;\n",
       "  /* Definition of color scheme for unfitted estimators */\n",
       "  --sklearn-color-unfitted-level-0: #fff5e6;\n",
       "  --sklearn-color-unfitted-level-1: #f6e4d2;\n",
       "  --sklearn-color-unfitted-level-2: #ffe0b3;\n",
       "  --sklearn-color-unfitted-level-3: chocolate;\n",
       "  /* Definition of color scheme for fitted estimators */\n",
       "  --sklearn-color-fitted-level-0: #f0f8ff;\n",
       "  --sklearn-color-fitted-level-1: #d4ebff;\n",
       "  --sklearn-color-fitted-level-2: #b3dbfd;\n",
       "  --sklearn-color-fitted-level-3: cornflowerblue;\n",
       "\n",
       "  /* Specific color for light theme */\n",
       "  --sklearn-color-text-on-default-background: var(--sg-text-color, var(--theme-code-foreground, var(--jp-content-font-color1, black)));\n",
       "  --sklearn-color-background: var(--sg-background-color, var(--theme-background, var(--jp-layout-color0, white)));\n",
       "  --sklearn-color-border-box: var(--sg-text-color, var(--theme-code-foreground, var(--jp-content-font-color1, black)));\n",
       "  --sklearn-color-icon: #696969;\n",
       "\n",
       "  @media (prefers-color-scheme: dark) {\n",
       "    /* Redefinition of color scheme for dark theme */\n",
       "    --sklearn-color-text-on-default-background: var(--sg-text-color, var(--theme-code-foreground, var(--jp-content-font-color1, white)));\n",
       "    --sklearn-color-background: var(--sg-background-color, var(--theme-background, var(--jp-layout-color0, #111)));\n",
       "    --sklearn-color-border-box: var(--sg-text-color, var(--theme-code-foreground, var(--jp-content-font-color1, white)));\n",
       "    --sklearn-color-icon: #878787;\n",
       "  }\n",
       "}\n",
       "\n",
       "#sk-container-id-6 {\n",
       "  color: var(--sklearn-color-text);\n",
       "}\n",
       "\n",
       "#sk-container-id-6 pre {\n",
       "  padding: 0;\n",
       "}\n",
       "\n",
       "#sk-container-id-6 input.sk-hidden--visually {\n",
       "  border: 0;\n",
       "  clip: rect(1px 1px 1px 1px);\n",
       "  clip: rect(1px, 1px, 1px, 1px);\n",
       "  height: 1px;\n",
       "  margin: -1px;\n",
       "  overflow: hidden;\n",
       "  padding: 0;\n",
       "  position: absolute;\n",
       "  width: 1px;\n",
       "}\n",
       "\n",
       "#sk-container-id-6 div.sk-dashed-wrapped {\n",
       "  border: 1px dashed var(--sklearn-color-line);\n",
       "  margin: 0 0.4em 0.5em 0.4em;\n",
       "  box-sizing: border-box;\n",
       "  padding-bottom: 0.4em;\n",
       "  background-color: var(--sklearn-color-background);\n",
       "}\n",
       "\n",
       "#sk-container-id-6 div.sk-container {\n",
       "  /* jupyter's `normalize.less` sets `[hidden] { display: none; }`\n",
       "     but bootstrap.min.css set `[hidden] { display: none !important; }`\n",
       "     so we also need the `!important` here to be able to override the\n",
       "     default hidden behavior on the sphinx rendered scikit-learn.org.\n",
       "     See: https://github.com/scikit-learn/scikit-learn/issues/21755 */\n",
       "  display: inline-block !important;\n",
       "  position: relative;\n",
       "}\n",
       "\n",
       "#sk-container-id-6 div.sk-text-repr-fallback {\n",
       "  display: none;\n",
       "}\n",
       "\n",
       "div.sk-parallel-item,\n",
       "div.sk-serial,\n",
       "div.sk-item {\n",
       "  /* draw centered vertical line to link estimators */\n",
       "  background-image: linear-gradient(var(--sklearn-color-text-on-default-background), var(--sklearn-color-text-on-default-background));\n",
       "  background-size: 2px 100%;\n",
       "  background-repeat: no-repeat;\n",
       "  background-position: center center;\n",
       "}\n",
       "\n",
       "/* Parallel-specific style estimator block */\n",
       "\n",
       "#sk-container-id-6 div.sk-parallel-item::after {\n",
       "  content: \"\";\n",
       "  width: 100%;\n",
       "  border-bottom: 2px solid var(--sklearn-color-text-on-default-background);\n",
       "  flex-grow: 1;\n",
       "}\n",
       "\n",
       "#sk-container-id-6 div.sk-parallel {\n",
       "  display: flex;\n",
       "  align-items: stretch;\n",
       "  justify-content: center;\n",
       "  background-color: var(--sklearn-color-background);\n",
       "  position: relative;\n",
       "}\n",
       "\n",
       "#sk-container-id-6 div.sk-parallel-item {\n",
       "  display: flex;\n",
       "  flex-direction: column;\n",
       "}\n",
       "\n",
       "#sk-container-id-6 div.sk-parallel-item:first-child::after {\n",
       "  align-self: flex-end;\n",
       "  width: 50%;\n",
       "}\n",
       "\n",
       "#sk-container-id-6 div.sk-parallel-item:last-child::after {\n",
       "  align-self: flex-start;\n",
       "  width: 50%;\n",
       "}\n",
       "\n",
       "#sk-container-id-6 div.sk-parallel-item:only-child::after {\n",
       "  width: 0;\n",
       "}\n",
       "\n",
       "/* Serial-specific style estimator block */\n",
       "\n",
       "#sk-container-id-6 div.sk-serial {\n",
       "  display: flex;\n",
       "  flex-direction: column;\n",
       "  align-items: center;\n",
       "  background-color: var(--sklearn-color-background);\n",
       "  padding-right: 1em;\n",
       "  padding-left: 1em;\n",
       "}\n",
       "\n",
       "\n",
       "/* Toggleable style: style used for estimator/Pipeline/ColumnTransformer box that is\n",
       "clickable and can be expanded/collapsed.\n",
       "- Pipeline and ColumnTransformer use this feature and define the default style\n",
       "- Estimators will overwrite some part of the style using the `sk-estimator` class\n",
       "*/\n",
       "\n",
       "/* Pipeline and ColumnTransformer style (default) */\n",
       "\n",
       "#sk-container-id-6 div.sk-toggleable {\n",
       "  /* Default theme specific background. It is overwritten whether we have a\n",
       "  specific estimator or a Pipeline/ColumnTransformer */\n",
       "  background-color: var(--sklearn-color-background);\n",
       "}\n",
       "\n",
       "/* Toggleable label */\n",
       "#sk-container-id-6 label.sk-toggleable__label {\n",
       "  cursor: pointer;\n",
       "  display: block;\n",
       "  width: 100%;\n",
       "  margin-bottom: 0;\n",
       "  padding: 0.5em;\n",
       "  box-sizing: border-box;\n",
       "  text-align: center;\n",
       "}\n",
       "\n",
       "#sk-container-id-6 label.sk-toggleable__label-arrow:before {\n",
       "  /* Arrow on the left of the label */\n",
       "  content: \"▸\";\n",
       "  float: left;\n",
       "  margin-right: 0.25em;\n",
       "  color: var(--sklearn-color-icon);\n",
       "}\n",
       "\n",
       "#sk-container-id-6 label.sk-toggleable__label-arrow:hover:before {\n",
       "  color: var(--sklearn-color-text);\n",
       "}\n",
       "\n",
       "/* Toggleable content - dropdown */\n",
       "\n",
       "#sk-container-id-6 div.sk-toggleable__content {\n",
       "  max-height: 0;\n",
       "  max-width: 0;\n",
       "  overflow: hidden;\n",
       "  text-align: left;\n",
       "  /* unfitted */\n",
       "  background-color: var(--sklearn-color-unfitted-level-0);\n",
       "}\n",
       "\n",
       "#sk-container-id-6 div.sk-toggleable__content.fitted {\n",
       "  /* fitted */\n",
       "  background-color: var(--sklearn-color-fitted-level-0);\n",
       "}\n",
       "\n",
       "#sk-container-id-6 div.sk-toggleable__content pre {\n",
       "  margin: 0.2em;\n",
       "  border-radius: 0.25em;\n",
       "  color: var(--sklearn-color-text);\n",
       "  /* unfitted */\n",
       "  background-color: var(--sklearn-color-unfitted-level-0);\n",
       "}\n",
       "\n",
       "#sk-container-id-6 div.sk-toggleable__content.fitted pre {\n",
       "  /* unfitted */\n",
       "  background-color: var(--sklearn-color-fitted-level-0);\n",
       "}\n",
       "\n",
       "#sk-container-id-6 input.sk-toggleable__control:checked~div.sk-toggleable__content {\n",
       "  /* Expand drop-down */\n",
       "  max-height: 200px;\n",
       "  max-width: 100%;\n",
       "  overflow: auto;\n",
       "}\n",
       "\n",
       "#sk-container-id-6 input.sk-toggleable__control:checked~label.sk-toggleable__label-arrow:before {\n",
       "  content: \"▾\";\n",
       "}\n",
       "\n",
       "/* Pipeline/ColumnTransformer-specific style */\n",
       "\n",
       "#sk-container-id-6 div.sk-label input.sk-toggleable__control:checked~label.sk-toggleable__label {\n",
       "  color: var(--sklearn-color-text);\n",
       "  background-color: var(--sklearn-color-unfitted-level-2);\n",
       "}\n",
       "\n",
       "#sk-container-id-6 div.sk-label.fitted input.sk-toggleable__control:checked~label.sk-toggleable__label {\n",
       "  background-color: var(--sklearn-color-fitted-level-2);\n",
       "}\n",
       "\n",
       "/* Estimator-specific style */\n",
       "\n",
       "/* Colorize estimator box */\n",
       "#sk-container-id-6 div.sk-estimator input.sk-toggleable__control:checked~label.sk-toggleable__label {\n",
       "  /* unfitted */\n",
       "  background-color: var(--sklearn-color-unfitted-level-2);\n",
       "}\n",
       "\n",
       "#sk-container-id-6 div.sk-estimator.fitted input.sk-toggleable__control:checked~label.sk-toggleable__label {\n",
       "  /* fitted */\n",
       "  background-color: var(--sklearn-color-fitted-level-2);\n",
       "}\n",
       "\n",
       "#sk-container-id-6 div.sk-label label.sk-toggleable__label,\n",
       "#sk-container-id-6 div.sk-label label {\n",
       "  /* The background is the default theme color */\n",
       "  color: var(--sklearn-color-text-on-default-background);\n",
       "}\n",
       "\n",
       "/* On hover, darken the color of the background */\n",
       "#sk-container-id-6 div.sk-label:hover label.sk-toggleable__label {\n",
       "  color: var(--sklearn-color-text);\n",
       "  background-color: var(--sklearn-color-unfitted-level-2);\n",
       "}\n",
       "\n",
       "/* Label box, darken color on hover, fitted */\n",
       "#sk-container-id-6 div.sk-label.fitted:hover label.sk-toggleable__label.fitted {\n",
       "  color: var(--sklearn-color-text);\n",
       "  background-color: var(--sklearn-color-fitted-level-2);\n",
       "}\n",
       "\n",
       "/* Estimator label */\n",
       "\n",
       "#sk-container-id-6 div.sk-label label {\n",
       "  font-family: monospace;\n",
       "  font-weight: bold;\n",
       "  display: inline-block;\n",
       "  line-height: 1.2em;\n",
       "}\n",
       "\n",
       "#sk-container-id-6 div.sk-label-container {\n",
       "  text-align: center;\n",
       "}\n",
       "\n",
       "/* Estimator-specific */\n",
       "#sk-container-id-6 div.sk-estimator {\n",
       "  font-family: monospace;\n",
       "  border: 1px dotted var(--sklearn-color-border-box);\n",
       "  border-radius: 0.25em;\n",
       "  box-sizing: border-box;\n",
       "  margin-bottom: 0.5em;\n",
       "  /* unfitted */\n",
       "  background-color: var(--sklearn-color-unfitted-level-0);\n",
       "}\n",
       "\n",
       "#sk-container-id-6 div.sk-estimator.fitted {\n",
       "  /* fitted */\n",
       "  background-color: var(--sklearn-color-fitted-level-0);\n",
       "}\n",
       "\n",
       "/* on hover */\n",
       "#sk-container-id-6 div.sk-estimator:hover {\n",
       "  /* unfitted */\n",
       "  background-color: var(--sklearn-color-unfitted-level-2);\n",
       "}\n",
       "\n",
       "#sk-container-id-6 div.sk-estimator.fitted:hover {\n",
       "  /* fitted */\n",
       "  background-color: var(--sklearn-color-fitted-level-2);\n",
       "}\n",
       "\n",
       "/* Specification for estimator info (e.g. \"i\" and \"?\") */\n",
       "\n",
       "/* Common style for \"i\" and \"?\" */\n",
       "\n",
       ".sk-estimator-doc-link,\n",
       "a:link.sk-estimator-doc-link,\n",
       "a:visited.sk-estimator-doc-link {\n",
       "  float: right;\n",
       "  font-size: smaller;\n",
       "  line-height: 1em;\n",
       "  font-family: monospace;\n",
       "  background-color: var(--sklearn-color-background);\n",
       "  border-radius: 1em;\n",
       "  height: 1em;\n",
       "  width: 1em;\n",
       "  text-decoration: none !important;\n",
       "  margin-left: 1ex;\n",
       "  /* unfitted */\n",
       "  border: var(--sklearn-color-unfitted-level-1) 1pt solid;\n",
       "  color: var(--sklearn-color-unfitted-level-1);\n",
       "}\n",
       "\n",
       ".sk-estimator-doc-link.fitted,\n",
       "a:link.sk-estimator-doc-link.fitted,\n",
       "a:visited.sk-estimator-doc-link.fitted {\n",
       "  /* fitted */\n",
       "  border: var(--sklearn-color-fitted-level-1) 1pt solid;\n",
       "  color: var(--sklearn-color-fitted-level-1);\n",
       "}\n",
       "\n",
       "/* On hover */\n",
       "div.sk-estimator:hover .sk-estimator-doc-link:hover,\n",
       ".sk-estimator-doc-link:hover,\n",
       "div.sk-label-container:hover .sk-estimator-doc-link:hover,\n",
       ".sk-estimator-doc-link:hover {\n",
       "  /* unfitted */\n",
       "  background-color: var(--sklearn-color-unfitted-level-3);\n",
       "  color: var(--sklearn-color-background);\n",
       "  text-decoration: none;\n",
       "}\n",
       "\n",
       "div.sk-estimator.fitted:hover .sk-estimator-doc-link.fitted:hover,\n",
       ".sk-estimator-doc-link.fitted:hover,\n",
       "div.sk-label-container:hover .sk-estimator-doc-link.fitted:hover,\n",
       ".sk-estimator-doc-link.fitted:hover {\n",
       "  /* fitted */\n",
       "  background-color: var(--sklearn-color-fitted-level-3);\n",
       "  color: var(--sklearn-color-background);\n",
       "  text-decoration: none;\n",
       "}\n",
       "\n",
       "/* Span, style for the box shown on hovering the info icon */\n",
       ".sk-estimator-doc-link span {\n",
       "  display: none;\n",
       "  z-index: 9999;\n",
       "  position: relative;\n",
       "  font-weight: normal;\n",
       "  right: .2ex;\n",
       "  padding: .5ex;\n",
       "  margin: .5ex;\n",
       "  width: min-content;\n",
       "  min-width: 20ex;\n",
       "  max-width: 50ex;\n",
       "  color: var(--sklearn-color-text);\n",
       "  box-shadow: 2pt 2pt 4pt #999;\n",
       "  /* unfitted */\n",
       "  background: var(--sklearn-color-unfitted-level-0);\n",
       "  border: .5pt solid var(--sklearn-color-unfitted-level-3);\n",
       "}\n",
       "\n",
       ".sk-estimator-doc-link.fitted span {\n",
       "  /* fitted */\n",
       "  background: var(--sklearn-color-fitted-level-0);\n",
       "  border: var(--sklearn-color-fitted-level-3);\n",
       "}\n",
       "\n",
       ".sk-estimator-doc-link:hover span {\n",
       "  display: block;\n",
       "}\n",
       "\n",
       "/* \"?\"-specific style due to the `<a>` HTML tag */\n",
       "\n",
       "#sk-container-id-6 a.estimator_doc_link {\n",
       "  float: right;\n",
       "  font-size: 1rem;\n",
       "  line-height: 1em;\n",
       "  font-family: monospace;\n",
       "  background-color: var(--sklearn-color-background);\n",
       "  border-radius: 1rem;\n",
       "  height: 1rem;\n",
       "  width: 1rem;\n",
       "  text-decoration: none;\n",
       "  /* unfitted */\n",
       "  color: var(--sklearn-color-unfitted-level-1);\n",
       "  border: var(--sklearn-color-unfitted-level-1) 1pt solid;\n",
       "}\n",
       "\n",
       "#sk-container-id-6 a.estimator_doc_link.fitted {\n",
       "  /* fitted */\n",
       "  border: var(--sklearn-color-fitted-level-1) 1pt solid;\n",
       "  color: var(--sklearn-color-fitted-level-1);\n",
       "}\n",
       "\n",
       "/* On hover */\n",
       "#sk-container-id-6 a.estimator_doc_link:hover {\n",
       "  /* unfitted */\n",
       "  background-color: var(--sklearn-color-unfitted-level-3);\n",
       "  color: var(--sklearn-color-background);\n",
       "  text-decoration: none;\n",
       "}\n",
       "\n",
       "#sk-container-id-6 a.estimator_doc_link.fitted:hover {\n",
       "  /* fitted */\n",
       "  background-color: var(--sklearn-color-fitted-level-3);\n",
       "}\n",
       "</style><div id=\"sk-container-id-6\" class=\"sk-top-container\"><div class=\"sk-text-repr-fallback\"><pre>GridSearchCV(estimator=RandomForestRegressor(),\n",
       "             param_grid={&#x27;criterion&#x27;: [&#x27;squared_error&#x27;, &#x27;friedman_mse&#x27;],\n",
       "                         &#x27;max_depth&#x27;: [None, 1, 2, 3, 4, 5],\n",
       "                         &#x27;min_samples_leaf&#x27;: [1, 5, 10],\n",
       "                         &#x27;min_samples_split&#x27;: [1, 5, 10],\n",
       "                         &#x27;n_estimators&#x27;: [10, 100]},\n",
       "             scoring=&#x27;neg_mean_squared_error&#x27;, verbose=3)</pre><b>In a Jupyter environment, please rerun this cell to show the HTML representation or trust the notebook. <br />On GitHub, the HTML representation is unable to render, please try loading this page with nbviewer.org.</b></div><div class=\"sk-container\" hidden><div class=\"sk-item sk-dashed-wrapped\"><div class=\"sk-label-container\"><div class=\"sk-label fitted sk-toggleable\"><input class=\"sk-toggleable__control sk-hidden--visually\" id=\"sk-estimator-id-10\" type=\"checkbox\" ><label for=\"sk-estimator-id-10\" class=\"sk-toggleable__label fitted sk-toggleable__label-arrow fitted\">&nbsp;&nbsp;GridSearchCV<a class=\"sk-estimator-doc-link fitted\" rel=\"noreferrer\" target=\"_blank\" href=\"https://scikit-learn.org/1.5/modules/generated/sklearn.model_selection.GridSearchCV.html\">?<span>Documentation for GridSearchCV</span></a><span class=\"sk-estimator-doc-link fitted\">i<span>Fitted</span></span></label><div class=\"sk-toggleable__content fitted\"><pre>GridSearchCV(estimator=RandomForestRegressor(),\n",
       "             param_grid={&#x27;criterion&#x27;: [&#x27;squared_error&#x27;, &#x27;friedman_mse&#x27;],\n",
       "                         &#x27;max_depth&#x27;: [None, 1, 2, 3, 4, 5],\n",
       "                         &#x27;min_samples_leaf&#x27;: [1, 5, 10],\n",
       "                         &#x27;min_samples_split&#x27;: [1, 5, 10],\n",
       "                         &#x27;n_estimators&#x27;: [10, 100]},\n",
       "             scoring=&#x27;neg_mean_squared_error&#x27;, verbose=3)</pre></div> </div></div><div class=\"sk-parallel\"><div class=\"sk-parallel-item\"><div class=\"sk-item\"><div class=\"sk-label-container\"><div class=\"sk-label fitted sk-toggleable\"><input class=\"sk-toggleable__control sk-hidden--visually\" id=\"sk-estimator-id-11\" type=\"checkbox\" ><label for=\"sk-estimator-id-11\" class=\"sk-toggleable__label fitted sk-toggleable__label-arrow fitted\">best_estimator_: RandomForestRegressor</label><div class=\"sk-toggleable__content fitted\"><pre>RandomForestRegressor(criterion=&#x27;friedman_mse&#x27;, max_depth=4, min_samples_leaf=5,\n",
       "                      min_samples_split=10)</pre></div> </div></div><div class=\"sk-serial\"><div class=\"sk-item\"><div class=\"sk-estimator fitted sk-toggleable\"><input class=\"sk-toggleable__control sk-hidden--visually\" id=\"sk-estimator-id-12\" type=\"checkbox\" ><label for=\"sk-estimator-id-12\" class=\"sk-toggleable__label fitted sk-toggleable__label-arrow fitted\">&nbsp;RandomForestRegressor<a class=\"sk-estimator-doc-link fitted\" rel=\"noreferrer\" target=\"_blank\" href=\"https://scikit-learn.org/1.5/modules/generated/sklearn.ensemble.RandomForestRegressor.html\">?<span>Documentation for RandomForestRegressor</span></a></label><div class=\"sk-toggleable__content fitted\"><pre>RandomForestRegressor(criterion=&#x27;friedman_mse&#x27;, max_depth=4, min_samples_leaf=5,\n",
       "                      min_samples_split=10)</pre></div> </div></div></div></div></div></div></div></div></div>"
      ],
      "text/plain": [
       "GridSearchCV(estimator=RandomForestRegressor(),\n",
       "             param_grid={'criterion': ['squared_error', 'friedman_mse'],\n",
       "                         'max_depth': [None, 1, 2, 3, 4, 5],\n",
       "                         'min_samples_leaf': [1, 5, 10],\n",
       "                         'min_samples_split': [1, 5, 10],\n",
       "                         'n_estimators': [10, 100]},\n",
       "             scoring='neg_mean_squared_error', verbose=3)"
      ]
     },
     "execution_count": 55,
     "metadata": {},
     "output_type": "execute_result"
    }
   ],
   "source": [
    "rf_grid_search = GridSearchCV(RandomForestRegressor(), rf_param_grid, verbose=3, scoring='neg_mean_squared_error')\n",
    "\n",
    "rf_grid_search.fit(Salary_Stats, Salary)"
   ]
  },
  {
   "cell_type": "code",
   "execution_count": 56,
   "id": "ca986850-b9c5-4804-ab5a-95e483f67df5",
   "metadata": {},
   "outputs": [
    {
     "data": {
      "text/plain": [
       "np.float64(-19376982947606.637)"
      ]
     },
     "execution_count": 56,
     "metadata": {},
     "output_type": "execute_result"
    }
   ],
   "source": [
    "rf_grid_search.best_score_"
   ]
  },
  {
   "cell_type": "code",
   "execution_count": 57,
   "id": "6aaa87b8-1e65-44ba-a0b4-809d8d88ed9a",
   "metadata": {},
   "outputs": [
    {
     "data": {
      "text/plain": [
       "{'criterion': 'friedman_mse',\n",
       " 'max_depth': 4,\n",
       " 'min_samples_leaf': 5,\n",
       " 'min_samples_split': 10,\n",
       " 'n_estimators': 100}"
      ]
     },
     "execution_count": 57,
     "metadata": {},
     "output_type": "execute_result"
    }
   ],
   "source": [
    "rf_grid_search.best_params_"
   ]
  },
  {
   "cell_type": "code",
   "execution_count": 58,
   "id": "c0baf347-9462-4942-8562-8bf012d2a519",
   "metadata": {},
   "outputs": [
    {
     "data": {
      "text/html": [
       "<style>#sk-container-id-7 {\n",
       "  /* Definition of color scheme common for light and dark mode */\n",
       "  --sklearn-color-text: black;\n",
       "  --sklearn-color-line: gray;\n",
       "  /* Definition of color scheme for unfitted estimators */\n",
       "  --sklearn-color-unfitted-level-0: #fff5e6;\n",
       "  --sklearn-color-unfitted-level-1: #f6e4d2;\n",
       "  --sklearn-color-unfitted-level-2: #ffe0b3;\n",
       "  --sklearn-color-unfitted-level-3: chocolate;\n",
       "  /* Definition of color scheme for fitted estimators */\n",
       "  --sklearn-color-fitted-level-0: #f0f8ff;\n",
       "  --sklearn-color-fitted-level-1: #d4ebff;\n",
       "  --sklearn-color-fitted-level-2: #b3dbfd;\n",
       "  --sklearn-color-fitted-level-3: cornflowerblue;\n",
       "\n",
       "  /* Specific color for light theme */\n",
       "  --sklearn-color-text-on-default-background: var(--sg-text-color, var(--theme-code-foreground, var(--jp-content-font-color1, black)));\n",
       "  --sklearn-color-background: var(--sg-background-color, var(--theme-background, var(--jp-layout-color0, white)));\n",
       "  --sklearn-color-border-box: var(--sg-text-color, var(--theme-code-foreground, var(--jp-content-font-color1, black)));\n",
       "  --sklearn-color-icon: #696969;\n",
       "\n",
       "  @media (prefers-color-scheme: dark) {\n",
       "    /* Redefinition of color scheme for dark theme */\n",
       "    --sklearn-color-text-on-default-background: var(--sg-text-color, var(--theme-code-foreground, var(--jp-content-font-color1, white)));\n",
       "    --sklearn-color-background: var(--sg-background-color, var(--theme-background, var(--jp-layout-color0, #111)));\n",
       "    --sklearn-color-border-box: var(--sg-text-color, var(--theme-code-foreground, var(--jp-content-font-color1, white)));\n",
       "    --sklearn-color-icon: #878787;\n",
       "  }\n",
       "}\n",
       "\n",
       "#sk-container-id-7 {\n",
       "  color: var(--sklearn-color-text);\n",
       "}\n",
       "\n",
       "#sk-container-id-7 pre {\n",
       "  padding: 0;\n",
       "}\n",
       "\n",
       "#sk-container-id-7 input.sk-hidden--visually {\n",
       "  border: 0;\n",
       "  clip: rect(1px 1px 1px 1px);\n",
       "  clip: rect(1px, 1px, 1px, 1px);\n",
       "  height: 1px;\n",
       "  margin: -1px;\n",
       "  overflow: hidden;\n",
       "  padding: 0;\n",
       "  position: absolute;\n",
       "  width: 1px;\n",
       "}\n",
       "\n",
       "#sk-container-id-7 div.sk-dashed-wrapped {\n",
       "  border: 1px dashed var(--sklearn-color-line);\n",
       "  margin: 0 0.4em 0.5em 0.4em;\n",
       "  box-sizing: border-box;\n",
       "  padding-bottom: 0.4em;\n",
       "  background-color: var(--sklearn-color-background);\n",
       "}\n",
       "\n",
       "#sk-container-id-7 div.sk-container {\n",
       "  /* jupyter's `normalize.less` sets `[hidden] { display: none; }`\n",
       "     but bootstrap.min.css set `[hidden] { display: none !important; }`\n",
       "     so we also need the `!important` here to be able to override the\n",
       "     default hidden behavior on the sphinx rendered scikit-learn.org.\n",
       "     See: https://github.com/scikit-learn/scikit-learn/issues/21755 */\n",
       "  display: inline-block !important;\n",
       "  position: relative;\n",
       "}\n",
       "\n",
       "#sk-container-id-7 div.sk-text-repr-fallback {\n",
       "  display: none;\n",
       "}\n",
       "\n",
       "div.sk-parallel-item,\n",
       "div.sk-serial,\n",
       "div.sk-item {\n",
       "  /* draw centered vertical line to link estimators */\n",
       "  background-image: linear-gradient(var(--sklearn-color-text-on-default-background), var(--sklearn-color-text-on-default-background));\n",
       "  background-size: 2px 100%;\n",
       "  background-repeat: no-repeat;\n",
       "  background-position: center center;\n",
       "}\n",
       "\n",
       "/* Parallel-specific style estimator block */\n",
       "\n",
       "#sk-container-id-7 div.sk-parallel-item::after {\n",
       "  content: \"\";\n",
       "  width: 100%;\n",
       "  border-bottom: 2px solid var(--sklearn-color-text-on-default-background);\n",
       "  flex-grow: 1;\n",
       "}\n",
       "\n",
       "#sk-container-id-7 div.sk-parallel {\n",
       "  display: flex;\n",
       "  align-items: stretch;\n",
       "  justify-content: center;\n",
       "  background-color: var(--sklearn-color-background);\n",
       "  position: relative;\n",
       "}\n",
       "\n",
       "#sk-container-id-7 div.sk-parallel-item {\n",
       "  display: flex;\n",
       "  flex-direction: column;\n",
       "}\n",
       "\n",
       "#sk-container-id-7 div.sk-parallel-item:first-child::after {\n",
       "  align-self: flex-end;\n",
       "  width: 50%;\n",
       "}\n",
       "\n",
       "#sk-container-id-7 div.sk-parallel-item:last-child::after {\n",
       "  align-self: flex-start;\n",
       "  width: 50%;\n",
       "}\n",
       "\n",
       "#sk-container-id-7 div.sk-parallel-item:only-child::after {\n",
       "  width: 0;\n",
       "}\n",
       "\n",
       "/* Serial-specific style estimator block */\n",
       "\n",
       "#sk-container-id-7 div.sk-serial {\n",
       "  display: flex;\n",
       "  flex-direction: column;\n",
       "  align-items: center;\n",
       "  background-color: var(--sklearn-color-background);\n",
       "  padding-right: 1em;\n",
       "  padding-left: 1em;\n",
       "}\n",
       "\n",
       "\n",
       "/* Toggleable style: style used for estimator/Pipeline/ColumnTransformer box that is\n",
       "clickable and can be expanded/collapsed.\n",
       "- Pipeline and ColumnTransformer use this feature and define the default style\n",
       "- Estimators will overwrite some part of the style using the `sk-estimator` class\n",
       "*/\n",
       "\n",
       "/* Pipeline and ColumnTransformer style (default) */\n",
       "\n",
       "#sk-container-id-7 div.sk-toggleable {\n",
       "  /* Default theme specific background. It is overwritten whether we have a\n",
       "  specific estimator or a Pipeline/ColumnTransformer */\n",
       "  background-color: var(--sklearn-color-background);\n",
       "}\n",
       "\n",
       "/* Toggleable label */\n",
       "#sk-container-id-7 label.sk-toggleable__label {\n",
       "  cursor: pointer;\n",
       "  display: block;\n",
       "  width: 100%;\n",
       "  margin-bottom: 0;\n",
       "  padding: 0.5em;\n",
       "  box-sizing: border-box;\n",
       "  text-align: center;\n",
       "}\n",
       "\n",
       "#sk-container-id-7 label.sk-toggleable__label-arrow:before {\n",
       "  /* Arrow on the left of the label */\n",
       "  content: \"▸\";\n",
       "  float: left;\n",
       "  margin-right: 0.25em;\n",
       "  color: var(--sklearn-color-icon);\n",
       "}\n",
       "\n",
       "#sk-container-id-7 label.sk-toggleable__label-arrow:hover:before {\n",
       "  color: var(--sklearn-color-text);\n",
       "}\n",
       "\n",
       "/* Toggleable content - dropdown */\n",
       "\n",
       "#sk-container-id-7 div.sk-toggleable__content {\n",
       "  max-height: 0;\n",
       "  max-width: 0;\n",
       "  overflow: hidden;\n",
       "  text-align: left;\n",
       "  /* unfitted */\n",
       "  background-color: var(--sklearn-color-unfitted-level-0);\n",
       "}\n",
       "\n",
       "#sk-container-id-7 div.sk-toggleable__content.fitted {\n",
       "  /* fitted */\n",
       "  background-color: var(--sklearn-color-fitted-level-0);\n",
       "}\n",
       "\n",
       "#sk-container-id-7 div.sk-toggleable__content pre {\n",
       "  margin: 0.2em;\n",
       "  border-radius: 0.25em;\n",
       "  color: var(--sklearn-color-text);\n",
       "  /* unfitted */\n",
       "  background-color: var(--sklearn-color-unfitted-level-0);\n",
       "}\n",
       "\n",
       "#sk-container-id-7 div.sk-toggleable__content.fitted pre {\n",
       "  /* unfitted */\n",
       "  background-color: var(--sklearn-color-fitted-level-0);\n",
       "}\n",
       "\n",
       "#sk-container-id-7 input.sk-toggleable__control:checked~div.sk-toggleable__content {\n",
       "  /* Expand drop-down */\n",
       "  max-height: 200px;\n",
       "  max-width: 100%;\n",
       "  overflow: auto;\n",
       "}\n",
       "\n",
       "#sk-container-id-7 input.sk-toggleable__control:checked~label.sk-toggleable__label-arrow:before {\n",
       "  content: \"▾\";\n",
       "}\n",
       "\n",
       "/* Pipeline/ColumnTransformer-specific style */\n",
       "\n",
       "#sk-container-id-7 div.sk-label input.sk-toggleable__control:checked~label.sk-toggleable__label {\n",
       "  color: var(--sklearn-color-text);\n",
       "  background-color: var(--sklearn-color-unfitted-level-2);\n",
       "}\n",
       "\n",
       "#sk-container-id-7 div.sk-label.fitted input.sk-toggleable__control:checked~label.sk-toggleable__label {\n",
       "  background-color: var(--sklearn-color-fitted-level-2);\n",
       "}\n",
       "\n",
       "/* Estimator-specific style */\n",
       "\n",
       "/* Colorize estimator box */\n",
       "#sk-container-id-7 div.sk-estimator input.sk-toggleable__control:checked~label.sk-toggleable__label {\n",
       "  /* unfitted */\n",
       "  background-color: var(--sklearn-color-unfitted-level-2);\n",
       "}\n",
       "\n",
       "#sk-container-id-7 div.sk-estimator.fitted input.sk-toggleable__control:checked~label.sk-toggleable__label {\n",
       "  /* fitted */\n",
       "  background-color: var(--sklearn-color-fitted-level-2);\n",
       "}\n",
       "\n",
       "#sk-container-id-7 div.sk-label label.sk-toggleable__label,\n",
       "#sk-container-id-7 div.sk-label label {\n",
       "  /* The background is the default theme color */\n",
       "  color: var(--sklearn-color-text-on-default-background);\n",
       "}\n",
       "\n",
       "/* On hover, darken the color of the background */\n",
       "#sk-container-id-7 div.sk-label:hover label.sk-toggleable__label {\n",
       "  color: var(--sklearn-color-text);\n",
       "  background-color: var(--sklearn-color-unfitted-level-2);\n",
       "}\n",
       "\n",
       "/* Label box, darken color on hover, fitted */\n",
       "#sk-container-id-7 div.sk-label.fitted:hover label.sk-toggleable__label.fitted {\n",
       "  color: var(--sklearn-color-text);\n",
       "  background-color: var(--sklearn-color-fitted-level-2);\n",
       "}\n",
       "\n",
       "/* Estimator label */\n",
       "\n",
       "#sk-container-id-7 div.sk-label label {\n",
       "  font-family: monospace;\n",
       "  font-weight: bold;\n",
       "  display: inline-block;\n",
       "  line-height: 1.2em;\n",
       "}\n",
       "\n",
       "#sk-container-id-7 div.sk-label-container {\n",
       "  text-align: center;\n",
       "}\n",
       "\n",
       "/* Estimator-specific */\n",
       "#sk-container-id-7 div.sk-estimator {\n",
       "  font-family: monospace;\n",
       "  border: 1px dotted var(--sklearn-color-border-box);\n",
       "  border-radius: 0.25em;\n",
       "  box-sizing: border-box;\n",
       "  margin-bottom: 0.5em;\n",
       "  /* unfitted */\n",
       "  background-color: var(--sklearn-color-unfitted-level-0);\n",
       "}\n",
       "\n",
       "#sk-container-id-7 div.sk-estimator.fitted {\n",
       "  /* fitted */\n",
       "  background-color: var(--sklearn-color-fitted-level-0);\n",
       "}\n",
       "\n",
       "/* on hover */\n",
       "#sk-container-id-7 div.sk-estimator:hover {\n",
       "  /* unfitted */\n",
       "  background-color: var(--sklearn-color-unfitted-level-2);\n",
       "}\n",
       "\n",
       "#sk-container-id-7 div.sk-estimator.fitted:hover {\n",
       "  /* fitted */\n",
       "  background-color: var(--sklearn-color-fitted-level-2);\n",
       "}\n",
       "\n",
       "/* Specification for estimator info (e.g. \"i\" and \"?\") */\n",
       "\n",
       "/* Common style for \"i\" and \"?\" */\n",
       "\n",
       ".sk-estimator-doc-link,\n",
       "a:link.sk-estimator-doc-link,\n",
       "a:visited.sk-estimator-doc-link {\n",
       "  float: right;\n",
       "  font-size: smaller;\n",
       "  line-height: 1em;\n",
       "  font-family: monospace;\n",
       "  background-color: var(--sklearn-color-background);\n",
       "  border-radius: 1em;\n",
       "  height: 1em;\n",
       "  width: 1em;\n",
       "  text-decoration: none !important;\n",
       "  margin-left: 1ex;\n",
       "  /* unfitted */\n",
       "  border: var(--sklearn-color-unfitted-level-1) 1pt solid;\n",
       "  color: var(--sklearn-color-unfitted-level-1);\n",
       "}\n",
       "\n",
       ".sk-estimator-doc-link.fitted,\n",
       "a:link.sk-estimator-doc-link.fitted,\n",
       "a:visited.sk-estimator-doc-link.fitted {\n",
       "  /* fitted */\n",
       "  border: var(--sklearn-color-fitted-level-1) 1pt solid;\n",
       "  color: var(--sklearn-color-fitted-level-1);\n",
       "}\n",
       "\n",
       "/* On hover */\n",
       "div.sk-estimator:hover .sk-estimator-doc-link:hover,\n",
       ".sk-estimator-doc-link:hover,\n",
       "div.sk-label-container:hover .sk-estimator-doc-link:hover,\n",
       ".sk-estimator-doc-link:hover {\n",
       "  /* unfitted */\n",
       "  background-color: var(--sklearn-color-unfitted-level-3);\n",
       "  color: var(--sklearn-color-background);\n",
       "  text-decoration: none;\n",
       "}\n",
       "\n",
       "div.sk-estimator.fitted:hover .sk-estimator-doc-link.fitted:hover,\n",
       ".sk-estimator-doc-link.fitted:hover,\n",
       "div.sk-label-container:hover .sk-estimator-doc-link.fitted:hover,\n",
       ".sk-estimator-doc-link.fitted:hover {\n",
       "  /* fitted */\n",
       "  background-color: var(--sklearn-color-fitted-level-3);\n",
       "  color: var(--sklearn-color-background);\n",
       "  text-decoration: none;\n",
       "}\n",
       "\n",
       "/* Span, style for the box shown on hovering the info icon */\n",
       ".sk-estimator-doc-link span {\n",
       "  display: none;\n",
       "  z-index: 9999;\n",
       "  position: relative;\n",
       "  font-weight: normal;\n",
       "  right: .2ex;\n",
       "  padding: .5ex;\n",
       "  margin: .5ex;\n",
       "  width: min-content;\n",
       "  min-width: 20ex;\n",
       "  max-width: 50ex;\n",
       "  color: var(--sklearn-color-text);\n",
       "  box-shadow: 2pt 2pt 4pt #999;\n",
       "  /* unfitted */\n",
       "  background: var(--sklearn-color-unfitted-level-0);\n",
       "  border: .5pt solid var(--sklearn-color-unfitted-level-3);\n",
       "}\n",
       "\n",
       ".sk-estimator-doc-link.fitted span {\n",
       "  /* fitted */\n",
       "  background: var(--sklearn-color-fitted-level-0);\n",
       "  border: var(--sklearn-color-fitted-level-3);\n",
       "}\n",
       "\n",
       ".sk-estimator-doc-link:hover span {\n",
       "  display: block;\n",
       "}\n",
       "\n",
       "/* \"?\"-specific style due to the `<a>` HTML tag */\n",
       "\n",
       "#sk-container-id-7 a.estimator_doc_link {\n",
       "  float: right;\n",
       "  font-size: 1rem;\n",
       "  line-height: 1em;\n",
       "  font-family: monospace;\n",
       "  background-color: var(--sklearn-color-background);\n",
       "  border-radius: 1rem;\n",
       "  height: 1rem;\n",
       "  width: 1rem;\n",
       "  text-decoration: none;\n",
       "  /* unfitted */\n",
       "  color: var(--sklearn-color-unfitted-level-1);\n",
       "  border: var(--sklearn-color-unfitted-level-1) 1pt solid;\n",
       "}\n",
       "\n",
       "#sk-container-id-7 a.estimator_doc_link.fitted {\n",
       "  /* fitted */\n",
       "  border: var(--sklearn-color-fitted-level-1) 1pt solid;\n",
       "  color: var(--sklearn-color-fitted-level-1);\n",
       "}\n",
       "\n",
       "/* On hover */\n",
       "#sk-container-id-7 a.estimator_doc_link:hover {\n",
       "  /* unfitted */\n",
       "  background-color: var(--sklearn-color-unfitted-level-3);\n",
       "  color: var(--sklearn-color-background);\n",
       "  text-decoration: none;\n",
       "}\n",
       "\n",
       "#sk-container-id-7 a.estimator_doc_link.fitted:hover {\n",
       "  /* fitted */\n",
       "  background-color: var(--sklearn-color-fitted-level-3);\n",
       "}\n",
       "</style><div id=\"sk-container-id-7\" class=\"sk-top-container\"><div class=\"sk-text-repr-fallback\"><pre>RandomForestRegressor(criterion=&#x27;friedman_mse&#x27;, max_depth=4, min_samples_leaf=5,\n",
       "                      min_samples_split=10)</pre><b>In a Jupyter environment, please rerun this cell to show the HTML representation or trust the notebook. <br />On GitHub, the HTML representation is unable to render, please try loading this page with nbviewer.org.</b></div><div class=\"sk-container\" hidden><div class=\"sk-item\"><div class=\"sk-estimator fitted sk-toggleable\"><input class=\"sk-toggleable__control sk-hidden--visually\" id=\"sk-estimator-id-13\" type=\"checkbox\" checked><label for=\"sk-estimator-id-13\" class=\"sk-toggleable__label fitted sk-toggleable__label-arrow fitted\">&nbsp;&nbsp;RandomForestRegressor<a class=\"sk-estimator-doc-link fitted\" rel=\"noreferrer\" target=\"_blank\" href=\"https://scikit-learn.org/1.5/modules/generated/sklearn.ensemble.RandomForestRegressor.html\">?<span>Documentation for RandomForestRegressor</span></a><span class=\"sk-estimator-doc-link fitted\">i<span>Fitted</span></span></label><div class=\"sk-toggleable__content fitted\"><pre>RandomForestRegressor(criterion=&#x27;friedman_mse&#x27;, max_depth=4, min_samples_leaf=5,\n",
       "                      min_samples_split=10)</pre></div> </div></div></div></div>"
      ],
      "text/plain": [
       "RandomForestRegressor(criterion='friedman_mse', max_depth=4, min_samples_leaf=5,\n",
       "                      min_samples_split=10)"
      ]
     },
     "execution_count": 58,
     "metadata": {},
     "output_type": "execute_result"
    }
   ],
   "source": [
    "rf_grid_search.best_estimator_"
   ]
  },
  {
   "cell_type": "code",
   "execution_count": 59,
   "id": "1b0011d9-64b0-4153-a6d1-4858eeb114fc",
   "metadata": {},
   "outputs": [
    {
     "data": {
      "text/plain": [
       "array([2115090.39597446, 2934477.376129  , 2120293.01140622, ...,\n",
       "       2786473.40959405, 3763180.92391425, 2753812.83861403])"
      ]
     },
     "execution_count": 59,
     "metadata": {},
     "output_type": "execute_result"
    }
   ],
   "source": [
    "Salary_Forest_Pred = rf_grid_search.predict(Salary_Stats)\n",
    "\n",
    "Salary_Forest_Pred"
   ]
  },
  {
   "cell_type": "code",
   "execution_count": 60,
   "id": "fae04e7a-0bb1-4e73-a1ed-47bedb971183",
   "metadata": {},
   "outputs": [
    {
     "data": {
      "text/plain": [
       "{'mean_squared_error': np.float64(19114983442028.418),\n",
       " 'root_mean_squared_error': np.float64(4372068.554131833),\n",
       " 'mean_absolute_error': np.float64(3111696.2372879577),\n",
       " 'r_squared': 0.09395545456603094}"
      ]
     },
     "execution_count": 60,
     "metadata": {},
     "output_type": "execute_result"
    }
   ],
   "source": [
    "get_metrics(Salary, Salary_Forest_Pred)"
   ]
  },
  {
   "cell_type": "code",
   "execution_count": 61,
   "id": "5089bd83-0027-4631-8dfe-60423cd291c6",
   "metadata": {},
   "outputs": [
    {
     "data": {
      "text/plain": [
       "np.True_"
      ]
     },
     "execution_count": 61,
     "metadata": {},
     "output_type": "execute_result"
    }
   ],
   "source": [
    "rf_grid_search.best_score_ > tree_grid_search.best_score_"
   ]
  },
  {
   "cell_type": "code",
   "execution_count": 62,
   "id": "91ef0583-2289-4827-932c-346663500a1c",
   "metadata": {},
   "outputs": [],
   "source": [
    "Winning_Model = rf_grid_search.predict(Salary_Stats_Test)"
   ]
  },
  {
   "cell_type": "code",
   "execution_count": 63,
   "id": "bc4b3fe8-8607-4b9f-b0ee-28a7b80b0daf",
   "metadata": {},
   "outputs": [
    {
     "data": {
      "text/plain": [
       "{'mean_squared_error': np.float64(32907968252781.043),\n",
       " 'root_mean_squared_error': np.float64(5736546.718434448),\n",
       " 'mean_absolute_error': np.float64(3806089.150284626),\n",
       " 'r_squared': 0.05405245166357975}"
      ]
     },
     "execution_count": 63,
     "metadata": {},
     "output_type": "execute_result"
    }
   ],
   "source": [
    "get_metrics(Salary_Test, Winning_Model)"
   ]
  }
 ],
 "metadata": {
  "kernelspec": {
   "display_name": "Python 3 (ipykernel)",
   "language": "python",
   "name": "python3"
  },
  "language_info": {
   "codemirror_mode": {
    "name": "ipython",
    "version": 3
   },
   "file_extension": ".py",
   "mimetype": "text/x-python",
   "name": "python",
   "nbconvert_exporter": "python",
   "pygments_lexer": "ipython3",
   "version": "3.12.5"
  }
 },
 "nbformat": 4,
 "nbformat_minor": 5
}
